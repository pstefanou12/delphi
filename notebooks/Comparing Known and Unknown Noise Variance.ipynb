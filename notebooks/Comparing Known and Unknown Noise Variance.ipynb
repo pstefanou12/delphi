{
 "cells": [
  {
   "cell_type": "code",
   "execution_count": 1,
   "metadata": {},
   "outputs": [],
   "source": [
    "import sys \n",
    "sys.path.append('..')\n",
    "from cox.utils import Parameters\n",
    "from cox.store import Store\n",
    "from cox.readers import CollectionReader\n",
    "from sklearn.metrics import mean_squared_error\n",
    "from sklearn.linear_model import LinearRegression\n",
    "import pandas as pd\n",
    "import matplotlib.pyplot as plt\n",
    "import seaborn as sns\n",
    "import math\n",
    "import numpy as np\n",
    "import torch as ch\n",
    "from torch import Tensor\n",
    "from torch.distributions.normal import Normal\n",
    "from torch.distributions.multivariate_normal import MultivariateNormal\n",
    "from torch.utils.data import DataLoader\n",
    "from delphi.stats.truncated_regression import truncated_regression\n",
    "from delphi.utils.datasets import TruncatedRegressionDataset\n",
    "from delphi.oracle import Left, Interval"
   ]
  },
  {
   "cell_type": "code",
   "execution_count": 2,
   "metadata": {},
   "outputs": [
    {
     "name": "stdout",
     "output_type": "stream",
     "text": [
      "Logging in: /home/pstefanou/knownVsUnknown/15cb99af-6a03-4db2-b153-602fe2d0a933\n"
     ]
    },
    {
     "data": {
      "text/plain": [
       "<cox.store.Table at 0x7fb8e8388160>"
      ]
     },
     "execution_count": 2,
     "metadata": {},
     "output_type": "execute_result"
    }
   ],
   "source": [
    "STORE_PATH = '/home/pstefanou/knownVsUnknown'\n",
    "STORE_TABLE_NAME = 'rebuttal11'\n",
    "\n",
    "store = Store(STORE_PATH)\n",
    "\n",
    "store.add_table(STORE_TABLE_NAME, { \n",
    "    'known_param_mse': float,\n",
    "    'unknown_param_mse': float, \n",
    "    'ols_param_mse': float,\n",
    "    'alpha': float, \n",
    "    'var': float, \n",
    "})"
   ]
  },
  {
   "cell_type": "code",
   "execution_count": null,
   "metadata": {
    "scrolled": true
   },
   "outputs": [
    {
     "name": "stderr",
     "output_type": "stream",
     "text": [
      "Epoch:1 | Loss 0.2685 | Train1 0.277 | Train5 -1.000 | Reg term: 0.0 ||: 100%|██████████| 503/503 [00:03<00:00, 126.71it/s]\n",
      "Epoch:2 | Loss 0.2796 | Train1 0.277 | Train5 -1.000 | Reg term: 0.0 ||: 100%|██████████| 503/503 [00:03<00:00, 128.25it/s]\n",
      "Epoch:3 | Loss 0.2926 | Train1 0.276 | Train5 -1.000 | Reg term: 0.0 ||: 100%|██████████| 503/503 [00:04<00:00, 118.77it/s]\n",
      "Epoch:4 | Loss 0.3047 | Train1 0.276 | Train5 -1.000 | Reg term: 0.0 ||: 100%|██████████| 503/503 [00:04<00:00, 117.95it/s]\n",
      "Epoch:5 | Loss 0.3098 | Train1 0.276 | Train5 -1.000 | Reg term: 0.0 ||: 100%|██████████| 503/503 [00:04<00:00, 120.76it/s]\n",
      "Epoch:6 | Loss 0.3140 | Train1 0.276 | Train5 -1.000 | Reg term: 0.0 ||: 100%|██████████| 503/503 [00:04<00:00, 120.11it/s]\n",
      "Epoch:7 | Loss 0.3165 | Train1 0.276 | Train5 -1.000 | Reg term: 0.0 ||: 100%|██████████| 503/503 [00:04<00:00, 120.43it/s]\n",
      "Epoch:8 | Loss 0.3134 | Train1 0.276 | Train5 -1.000 | Reg term: 0.0 ||: 100%|██████████| 503/503 [00:04<00:00, 120.34it/s]\n",
      "Epoch:9 | Loss 0.3167 | Train1 0.276 | Train5 -1.000 | Reg term: 0.0 ||: 100%|██████████| 503/503 [00:04<00:00, 117.35it/s]\n",
      "Epoch:10 | Loss 0.3160 | Train1 0.276 | Train5 -1.000 | Reg term: 0.0 ||: 100%|██████████| 503/503 [00:04<00:00, 116.95it/s]\n",
      "  0%|          | 0/503 [00:00<?, ?it/s]"
     ]
    }
   ],
   "source": [
    "# regression parameters\n",
    "num_samples, dims = 10000, 10\n",
    "# noise_var = Tensor([9.0])\n",
    "W = ch.ones(dims, 1)\n",
    "W0 = ch.ones(1, 1)\n",
    "phi = Left(Tensor([1.0]))\n",
    "\n",
    "\n",
    "# perform each experiment a total of 10 times\n",
    "for iter_ in range(5):        \n",
    "    for var in range(1, 20):\n",
    "        # generate data\n",
    "        X = MultivariateNormal(ch.zeros(dims), ch.eye(dims)/dims).sample(ch.Size([num_samples]))\n",
    "        y = X.mm(W) + W0 + Normal(ch.zeros(1), ch.sqrt(Tensor([var]))).sample(ch.Size([num_samples]))\n",
    "        # truncate\n",
    "        indices = phi(y).nonzero(as_tuple=False).flatten()\n",
    "        y_trunc, x_trunc = y[indices], X[indices]\n",
    "        \n",
    "        # empirical linear regression\n",
    "        reg = LinearRegression() \n",
    "        reg.fit(x_trunc, y_trunc)\n",
    "        emp_var = ch.var(ch.from_numpy(reg.predict(x_trunc)) - y_trunc, dim=0).unsqueeze(0)\n",
    "        \n",
    "        # experiment parameters\n",
    "        args = Parameters({ \n",
    "            'alpha': Tensor([y_trunc.size(0)/num_samples]), \n",
    "            'phi': phi, \n",
    "            'epochs': 25,\n",
    "            'num_workers': 2, \n",
    "            'batch_size': 10,\n",
    "            'bias': True,\n",
    "            'num_samples': 100,\n",
    "            'clamp': True, \n",
    "            'radius': 5.0, \n",
    "            'var_lr': 1e-2,\n",
    "            'var': emp_var,\n",
    "            'lr': 1e-1,\n",
    "            'shuffle': True\n",
    "        })\n",
    "\n",
    "\n",
    "        # truncated linear regression with known noise variance\n",
    "        # dataset \n",
    "        data = TruncatedRegressionDataset(x_trunc, y_trunc, bias=args.bias, unknown=False)\n",
    "        S = DataLoader(data, batch_size=args.batch_size, num_workers=args.num_workers, shuffle=args.shuffle)\n",
    "        trunc_reg = truncated_regression(phi=phi, alpha=args.alpha, epochs=args.epochs, var_lr=args.var_lr, lr=args.lr, num_samples=args.num_samples, var=args.var)\n",
    "        results = trunc_reg.fit(S)\n",
    "        w_, w0_ = results.weight.detach(), results.bias.detach()\n",
    "\n",
    "        # truncated linear regression with unknown noise variance\n",
    "        # dataset \n",
    "        data = TruncatedRegressionDataset(x_trunc, y_trunc, bias=args.bias, unknown=True)\n",
    "        S = DataLoader(data, batch_size=args.batch_size, num_workers=args.num_workers, shuffle=args.shuffle)\n",
    "        trunc_reg = truncated_regression(phi=phi, alpha=args.alpha, epochs=args.epochs, var_lr=args.var_lr, lr=args.lr, num_samples=num_samples, var=args.var)\n",
    "\n",
    "        results = trunc_reg.fit(S)\n",
    "        var_ = results.lambda_.inverse().detach()\n",
    "        w, w0 = results.v.detach()*var_, results.bias.detach()*var_\n",
    "        \n",
    "        # calculate metrics \n",
    "        real_params = ch.cat([W, W0])\n",
    "        ols_params = ch.cat([data.w, data.w0.unsqueeze(0)])\n",
    "        unknown_params = ch.cat([w, w0])\n",
    "        known_params = ch.cat([w_.t(), w0_.unsqueeze(0)])\n",
    "        unknown_param_mse = mean_squared_error(unknown_params, real_params)\n",
    "        ols_param_mse = mean_squared_error(ols_params, real_params)\n",
    "        known_param_mse = mean_squared_error(known_params, real_params)\n",
    "\n",
    "        store[STORE_TABLE_NAME].append_row({ \n",
    "            'known_param_mse': known_param_mse,\n",
    "            'unknown_param_mse': unknown_param_mse,\n",
    "            'ols_param_mse': ols_param_mse,\n",
    "            'alpha': float(args.alpha.flatten()),\n",
    "            'var': float(var), \n",
    "        })\n",
    "\n",
    "# close current store\n",
    "store.close()"
   ]
  },
  {
   "cell_type": "code",
   "execution_count": null,
   "metadata": {},
   "outputs": [],
   "source": [
    "store.close()\n",
    "reader = CollectionReader(STORE_PATH)\n",
    "results = reader.df(STORE_TABLE_NAME)\n",
    "results.head()"
   ]
  },
  {
   "cell_type": "code",
   "execution_count": 39,
   "metadata": {},
   "outputs": [],
   "source": [
    "known, unknown, ols = results[['known_param_mse', 'var']], results[['unknown_param_mse', 'var']], results[['ols_param_mse', 'var']]"
   ]
  },
  {
   "cell_type": "code",
   "execution_count": 44,
   "metadata": {},
   "outputs": [
    {
     "data": {
      "image/png": "[encoded data removed]",
      "text/plain": [
       "<Figure size 432x288 with 1 Axes>"
      ]
     },
     "metadata": {
      "needs_background": "light"
     },
     "output_type": "display_data"
    }
   ],
   "source": [
    "# plot results for regression parameter MSE\n",
    "sns.lineplot(data=unknown, x='var', y='unknown_param_mse', label='unknown', color='blue')\n",
    "sns.lineplot(data=known, x='var', y='known_param_mse', label='known', color='purple')\n",
    "ax = sns.lineplot(data=ols, x='var', y='ols_param_mse', label='ols', color='red')\n",
    "ax.set(xlabel='Noise Variance', ylabel='Squared Error')\n",
    "plt.show()\n",
    "# close reader\n",
    "reader.close()"
   ]
  },
  {
   "cell_type": "code",
   "execution_count": 43,
   "metadata": {},
   "outputs": [],
   "source": []
  },
  {
   "cell_type": "code",
   "execution_count": null,
   "metadata": {},
   "outputs": [],
   "source": []
  }
 ],
 "metadata": {
  "kernelspec": {
   "display_name": "env",
   "language": "python",
   "name": "env"
  },
  "language_info": {
   "codemirror_mode": {
    "name": "ipython",
    "version": 3
   },
   "file_extension": ".py",
   "mimetype": "text/x-python",
   "name": "python",
   "nbconvert_exporter": "python",
   "pygments_lexer": "ipython3",
   "version": "3.6.9"
  }
 },
 "nbformat": 4,
 "nbformat_minor": 2
}
