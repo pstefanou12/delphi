{
 "cells": [
  {
   "cell_type": "code",
   "execution_count": 1,
   "metadata": {},
   "outputs": [],
   "source": [
    "import sys \n",
    "sys.path.append('..')\n",
    "from cox.utils import Parameters\n",
    "from cox.store import Store\n",
    "from cox.readers import CollectionReader\n",
    "from sklearn.metrics import mean_squared_error\n",
    "from sklearn.linear_model import LinearRegression\n",
    "import pandas as pd\n",
    "import matplotlib.pyplot as plt\n",
    "import seaborn as sns\n",
    "import math\n",
    "import numpy as np\n",
    "import torch as ch\n",
    "from torch import Tensor\n",
    "from torch.distributions.normal import Normal\n",
    "from torch.distributions.multivariate_normal import MultivariateNormal\n",
    "from torch.utils.data import DataLoader\n",
    "from delphi.stats.truncated_regression import truncated_regression\n",
    "from delphi.utils.datasets import TruncatedRegressionDataset\n",
    "from delphi.oracle import Left, Interval\n",
    "import datetime"
   ]
  },
  {
   "cell_type": "code",
   "execution_count": 37,
   "metadata": {},
   "outputs": [
    {
     "name": "stdout",
     "output_type": "stream",
     "text": [
      "Logging in: /home/pstefanou/fewerEpochs/778743fb-d5bf-45f1-93fe-f12ab3a582a1\n"
     ]
    },
    {
     "data": {
      "text/plain": [
       "<cox.store.Table at 0x7f4ad6140198>"
      ]
     },
     "execution_count": 37,
     "metadata": {},
     "output_type": "execute_result"
    }
   ],
   "source": [
    "STORE_PATH = '/home/pstefanou/fewerEpochs'\n",
    "STORE_TABLE_NAME = 'fewepochs2'\n",
    "\n",
    "store = Store(STORE_PATH)\n",
    "\n",
    "store.add_table(STORE_TABLE_NAME, { \n",
    "    'known_param_mse': float,\n",
    "    'unknown_param_mse': float, \n",
    "    'ols_param_mse': float,\n",
    "    'alpha': float, \n",
    "    'var': float, \n",
    "})"
   ]
  },
  {
   "cell_type": "code",
   "execution_count": null,
   "metadata": {
    "scrolled": true
   },
   "outputs": [
    {
     "name": "stderr",
     "output_type": "stream",
     "text": [
      "Epoch:1 | Loss 0.2649 | Train1 0.273 | Train5 -1.000 | Reg term: 0.0 ||: 100%|██████████| 49/49 [00:00<00:00, 101.50it/s]\n",
      "Epoch:2 | Loss 0.2696 | Train1 0.273 | Train5 -1.000 | Reg term: 0.0 ||: 100%|██████████| 49/49 [00:00<00:00, 98.85it/s] \n",
      "Epoch:3 | Loss 0.2776 | Train1 0.273 | Train5 -1.000 | Reg term: 0.0 ||: 100%|██████████| 49/49 [00:00<00:00, 94.06it/s]\n",
      "Epoch:4 | Loss 0.2820 | Train1 0.278 | Train5 -1.000 | Reg term: 0.0 ||:   0%|          | 0/49 [00:00<?, ?it/s]"
     ]
    }
   ],
   "source": [
    "# regression parameters\n",
    "num_samples, dims = 10000, 10\n",
    "W = ch.ones(dims, 1)\n",
    "W0 = ch.ones(1, 1)\n",
    "phi = Left(Tensor([1.0]))\n",
    "\n",
    "# begin experiment\n",
    "start = datetime.datetime.now()\n",
    "\n",
    "# perform each experiment a total of 10 times\n",
    "for iter_ in range(10):        \n",
    "    for var in range(1, 20):\n",
    "        # generate data\n",
    "        X = MultivariateNormal(ch.zeros(dims), ch.eye(dims)/dims).sample(ch.Size([num_samples]))\n",
    "        y = X.mm(W) + W0 + Normal(ch.zeros(1), ch.sqrt(Tensor([var]))).sample(ch.Size([num_samples]))\n",
    "        # truncate\n",
    "        indices = phi(y).nonzero(as_tuple=False).flatten()\n",
    "        y_trunc, x_trunc = y[indices], X[indices]\n",
    "        \n",
    "        # empirical linear regression\n",
    "        reg = LinearRegression() \n",
    "        reg.fit(x_trunc, y_trunc)\n",
    "        emp_var = ch.var(ch.from_numpy(reg.predict(x_trunc)) - y_trunc, dim=0).unsqueeze(0)\n",
    "        \n",
    "        # experiment parameters\n",
    "        args = Parameters({ \n",
    "            'alpha': Tensor([y_trunc.size(0)/num_samples]), \n",
    "            'phi': phi, \n",
    "            'epochs': 10,\n",
    "            'num_workers': 20, \n",
    "            'batch_size': 100,\n",
    "            'bias': True,\n",
    "            'num_samples': 100,\n",
    "            'clamp': True, \n",
    "            'radius': 5.0, \n",
    "            'var_lr': 1e-2,\n",
    "            'var': emp_var,\n",
    "            'lr': 1e-1,\n",
    "            'shuffle': True\n",
    "        })\n",
    "\n",
    "\n",
    "        # truncated linear regression with known noise variance\n",
    "        # dataset \n",
    "        data = TruncatedRegressionDataset(x_trunc, y_trunc, bias=args.bias, unknown=False)\n",
    "        S = DataLoader(data, batch_size=args.batch_size, num_workers=args.num_workers, shuffle=args.shuffle)\n",
    "        trunc_reg = truncated_regression(phi=phi, alpha=args.alpha, epochs=args.epochs, var_lr=args.var_lr, lr=args.lr, num_samples=args.num_samples, var=args.var)\n",
    "        results = trunc_reg.fit(S)\n",
    "        w_, w0_ = results.weight.detach(), results.bias.detach()\n",
    "\n",
    "        # truncated linear regression with unknown noise variance\n",
    "        # dataset \n",
    "        data = TruncatedRegressionDataset(x_trunc, y_trunc, bias=args.bias, unknown=True)\n",
    "        S = DataLoader(data, batch_size=args.batch_size, num_workers=args.num_workers, shuffle=args.shuffle)\n",
    "        trunc_reg = truncated_regression(phi=phi, alpha=args.alpha, epochs=args.epochs, var_lr=args.var_lr, lr=args.lr, num_samples=args.num_samples)\n",
    "\n",
    "        results = trunc_reg.fit(S)\n",
    "        var_ = results.lambda_.inverse().detach()\n",
    "        w, w0 = results.v.detach()*var_, results.bias.detach()*var_\n",
    "        \n",
    "        # calculate metrics \n",
    "        real_params = ch.cat([W, W0])\n",
    "        ols_params = ch.cat([data.w, data.w0.unsqueeze(0)])\n",
    "        unknown_params = ch.cat([w, w0])\n",
    "        known_params = ch.cat([w_.t(), w0_.unsqueeze(0)])\n",
    "        unknown_param_mse = mean_squared_error(unknown_params, real_params)\n",
    "        ols_param_mse = mean_squared_error(ols_params, real_params)\n",
    "        known_param_mse = mean_squared_error(known_params, real_params)\n",
    "\n",
    "        store[STORE_TABLE_NAME].append_row({ \n",
    "            'known_param_mse': known_param_mse,\n",
    "            'unknown_param_mse': unknown_param_mse,\n",
    "            'ols_param_mse': ols_param_mse,\n",
    "            'alpha': float(args.alpha.flatten()),\n",
    "            'var': float(var), \n",
    "        })\n",
    "\n",
    "# end experiment\n",
    "end = datetime.datetime.now()\n",
    "print(\"time delta: {}\".format(end - start))\n",
    "\n",
    "# close current store\n",
    "store.close()"
   ]
  },
  {
   "cell_type": "code",
   "execution_count": null,
   "metadata": {},
   "outputs": [],
   "source": [
    "reader = CollectionReader(STORE_PATH)\n",
    "results = reader.df(STORE_TABLE_NAME)\n",
    "results.head()"
   ]
  },
  {
   "cell_type": "code",
   "execution_count": 28,
   "metadata": {},
   "outputs": [],
   "source": [
    "known, unknown, ols = results[['known_param_mse', 'var']], results[['unknown_param_mse', 'var']], results[['ols_param_mse', 'var']]"
   ]
  },
  {
   "cell_type": "code",
   "execution_count": 31,
   "metadata": {},
   "outputs": [],
   "source": [
    "known_, unknown_, ols_ = known[known['var'] <= 15.0], unknown[unknown['var'] <= 15.0], ols[ols['var'] <=15.0]"
   ]
  },
  {
   "cell_type": "code",
   "execution_count": 32,
   "metadata": {},
   "outputs": [
    {
     "data": {
      "image/png": "[encoded data removed]",
      "text/plain": [
       "<Figure size 432x288 with 1 Axes>"
      ]
     },
     "metadata": {
      "needs_background": "light"
     },
     "output_type": "display_data"
    }
   ],
   "source": [
    "# plot results for regression parameter MSE\n",
    "sns.lineplot(data=unknown_, x='var', y='unknown_param_mse', label='unknown', color='blue')\n",
    "sns.lineplot(data=known_, x='var', y='known_param_mse', label='known', color='purple')\n",
    "ax = sns.lineplot(data=ols_, x='var', y='ols_param_mse', label='ols', color='red')\n",
    "ax.set(xlabel='Noise Variance', ylabel='Squared Error')\n",
    "plt.show()\n",
    "# close reader\n",
    "reader.close()"
   ]
  },
  {
   "cell_type": "code",
   "execution_count": 34,
   "metadata": {},
   "outputs": [
    {
     "data": {
      "image/png": "[encoded data removed]",
      "text/plain": [
       "<Figure size 432x288 with 1 Axes>"
      ]
     },
     "metadata": {
      "needs_background": "light"
     },
     "output_type": "display_data"
    }
   ],
   "source": [
    "# plot results for regression parameter MSE\n",
    "sns.lineplot(data=unknown, x='var', y='unknown_param_mse', label='unknown', color='blue')\n",
    "sns.lineplot(data=known, x='var', y='known_param_mse', label='known', color='purple')\n",
    "ax = sns.lineplot(data=ols, x='var', y='ols_param_mse', label='ols', color='red')\n",
    "ax.set(xlabel='Noise Variance', ylabel='Squared Error')\n",
    "plt.show()\n",
    "# close reader\n",
    "reader.close()"
   ]
  },
  {
   "cell_type": "code",
   "execution_count": 7,
   "metadata": {},
   "outputs": [],
   "source": [
    "start = datetime.datetime.now()"
   ]
  },
  {
   "cell_type": "code",
   "execution_count": 9,
   "metadata": {},
   "outputs": [],
   "source": [
    "delta = datetime.datetime.now() - start"
   ]
  },
  {
   "cell_type": "code",
   "execution_count": 13,
   "metadata": {},
   "outputs": [
    {
     "data": {
      "text/plain": [
       "445117"
      ]
     },
     "execution_count": 13,
     "metadata": {},
     "output_type": "execute_result"
    }
   ],
   "source": []
  },
  {
   "cell_type": "code",
   "execution_count": null,
   "metadata": {},
   "outputs": [],
   "source": []
  }
 ],
 "metadata": {
  "kernelspec": {
   "display_name": "env",
   "language": "python",
   "name": "env"
  },
  "language_info": {
   "codemirror_mode": {
    "name": "ipython",
    "version": 3
   },
   "file_extension": ".py",
   "mimetype": "text/x-python",
   "name": "python",
   "nbconvert_exporter": "python",
   "pygments_lexer": "ipython3",
   "version": "3.6.9"
  }
 },
 "nbformat": 4,
 "nbformat_minor": 2
}
