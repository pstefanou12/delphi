{
 "cells": [
  {
   "cell_type": "code",
   "execution_count": 1,
   "metadata": {},
   "outputs": [],
   "source": [
    "import sys \n",
    "sys.path.append('..')\n",
    "from cox.utils import Parameters\n",
    "from cox.store import Store\n",
    "from cox.readers import CollectionReader\n",
    "import pandas as pd\n",
    "import matplotlib.pyplot as plt\n",
    "import seaborn as sns\n",
    "import math\n",
    "import itertools\n",
    "import numpy as np\n",
    "from scipy.spatial.distance import mahalanobis\n",
    "import torch as ch\n",
    "from torch import Tensor\n",
    "from torch.distributions.multivariate_normal import MultivariateNormal\n",
    "from torch.utils.data import DataLoader\n",
    "from delphi.stats.censored_multivariate_normal import censored_multivariate_normal\n",
    "from delphi.utils.datasets import CensoredMultivariateNormalDataset as censored_dataset\n",
    "from delphi.oracle import Lambda, horseshoe_dot\n",
    "from delphi.utils.constants import COSINE\n",
    "import datetime"
   ]
  },
  {
   "cell_type": "markdown",
   "metadata": {},
   "source": [
    "# Helpers"
   ]
  },
  {
   "cell_type": "code",
   "execution_count": 2,
   "metadata": {},
   "outputs": [
    {
     "name": "stdout",
     "output_type": "stream",
     "text": [
      "Logging in: /home/pstefanou/horshoe_dot/936c8b0c-61dd-4c18-9bca-04d6c33a8749\n"
     ]
    },
    {
     "data": {
      "text/plain": [
       "<cox.store.Table at 0x7f761515c080>"
      ]
     },
     "execution_count": 2,
     "metadata": {},
     "output_type": "execute_result"
    }
   ],
   "source": [
    "STORE_PATH = '/home/pstefanou/horshoe_dot'\n",
    "STORE_TABLE_NAME = 'censored_df'\n",
    "\n",
    "store = Store(STORE_PATH)\n",
    "\n",
    "store.add_table(STORE_TABLE_NAME, { \n",
    "    'delphi_kl': float,\n",
    "    'naive_kl': float,\n",
    "    'alpha': float, \n",
    "    'num_samples': int,\n",
    "})"
   ]
  },
  {
   "cell_type": "markdown",
   "metadata": {},
   "source": [
    "## Default Experiment Parameters"
   ]
  },
  {
   "cell_type": "code",
   "execution_count": 3,
   "metadata": {},
   "outputs": [],
   "source": [
    "# regression parameters\n",
    "NUM_SAMPLES, DIMS = [1000, 2000, 5000, 6000, 7000, 8000, 9000, 10000, 15000, 20000, 30000, 50000, 100000], 2\n",
    "PREDICATE = Lambda(horseshoe_dot)\n",
    "\n",
    "# procedure hyperparameters\n",
    "args = Parameters({ \n",
    "    'epochs': 25,\n",
    "    'num_workers': 0, \n",
    "    'batch_size': 10,\n",
    "    'bias': True,\n",
    "    'clamp': True, \n",
    "    'radius': 5.0, \n",
    "    'lr': 1e-1,\n",
    "    'shuffle': False, \n",
    "    'tol': 1e-2,\n",
    "    'custom_lr_multiplier': COSINE, \n",
    "    'phi': PREDICATE,\n",
    "})"
   ]
  },
  {
   "cell_type": "code",
   "execution_count": null,
   "metadata": {
    "scrolled": true
   },
   "outputs": [
    {
     "data": {
      "application/vnd.jupyter.widget-view+json": {
       "model_id": "7ef160c61b6e40379c9cb1c47b6812e9",
       "version_major": 2,
       "version_minor": 0
      },
      "text/plain": [
       "HBox(children=(HTML(value=''), FloatProgress(value=0.0), HTML(value='')))"
      ]
     },
     "metadata": {},
     "output_type": "display_data"
    }
   ],
   "source": [
    "# perform each experiment a total of 10 times\n",
    "for iter_ in range(10): \n",
    "    for num_samples in NUM_SAMPLES:\n",
    "\n",
    "        # sample from a 2 dimensional multivariate normal distribution until have num_samples in truncation set\n",
    "        S = Tensor([])\n",
    "        total_sampled = 0\n",
    "        while S.size(0) < num_samples:\n",
    "            M = MultivariateNormal(ch.zeros(DIMS), ch.eye(DIMS))\n",
    "            samples = M.sample(ch.Size([num_samples]))\n",
    "            S = ch.cat([S, samples[args.phi(samples).nonzero(as_tuple=False).flatten()]])[:num_samples]\n",
    "            total_sampled += num_samples\n",
    "        args.__setattr__('alpha', Tensor([S.size(0) / total_sampled]))\n",
    "        \n",
    "        # censored multivariate normal \n",
    "        data = censored_dataset(S)\n",
    "        S = DataLoader(data, batch_size=args.batch_size, num_workers=args.num_workers, shuffle=args.shuffle)\n",
    "        censored = censored_multivariate_normal(phi=args.phi, alpha=args.alpha, bias=args.bias, epochs=args.epochs, \n",
    "                                                      lr=args.lr, tol=args.tol, custom_lr_multiplier=COSINE)\n",
    "        results = censored.fit(S)\n",
    "\n",
    "        # metrics\n",
    "        delphi_kl = ch.distributions.kl.kl_divergence(results, M)\n",
    "        naive_kl = ch.distributions.kl.kl_divergence(MultivariateNormal(S.dataset.loc, S.dataset.covariance_matrix), M)\n",
    "\n",
    "        store[STORE_TABLE_NAME].append_row({ \n",
    "            'delphi_kl': delphi_kl,\n",
    "            'naive_kl': naive_kl,\n",
    "            'alpha': float(args.alpha),\n",
    "            'num_samples': num_samples,\n",
    "        })\n",
    "\n",
    "# close current store\n",
    "store.close()"
   ]
  },
  {
   "cell_type": "markdown",
   "metadata": {},
   "source": [
    "# Results"
   ]
  },
  {
   "cell_type": "code",
   "execution_count": 5,
   "metadata": {},
   "outputs": [
    {
     "name": "stderr",
     "output_type": "stream",
     "text": [
      "100%|██████████| 1/1 [00:00<00:00, 183.80it/s]\n"
     ]
    },
    {
     "data": {
      "text/html": [
       "<div>\n",
       "<style scoped>\n",
       "    .dataframe tbody tr th:only-of-type {\n",
       "        vertical-align: middle;\n",
       "    }\n",
       "\n",
       "    .dataframe tbody tr th {\n",
       "        vertical-align: top;\n",
       "    }\n",
       "\n",
       "    .dataframe thead th {\n",
       "        text-align: right;\n",
       "    }\n",
       "</style>\n",
       "<table border=\"1\" class=\"dataframe\">\n",
       "  <thead>\n",
       "    <tr style=\"text-align: right;\">\n",
       "      <th></th>\n",
       "      <th>delphi_kl</th>\n",
       "      <th>naive_kl</th>\n",
       "      <th>alpha</th>\n",
       "      <th>num_samples</th>\n",
       "      <th>exp_id</th>\n",
       "    </tr>\n",
       "  </thead>\n",
       "  <tbody>\n",
       "    <tr>\n",
       "      <th>0</th>\n",
       "      <td>0.742802</td>\n",
       "      <td>0.923718</td>\n",
       "      <td>0.166667</td>\n",
       "      <td>1000</td>\n",
       "      <td>37b5b6d9-c02f-40ad-aa6d-793f3be0f7fb</td>\n",
       "    </tr>\n",
       "    <tr>\n",
       "      <th>1</th>\n",
       "      <td>0.749407</td>\n",
       "      <td>0.937593</td>\n",
       "      <td>0.166667</td>\n",
       "      <td>2000</td>\n",
       "      <td>37b5b6d9-c02f-40ad-aa6d-793f3be0f7fb</td>\n",
       "    </tr>\n",
       "    <tr>\n",
       "      <th>2</th>\n",
       "      <td>0.720483</td>\n",
       "      <td>0.934948</td>\n",
       "      <td>0.166667</td>\n",
       "      <td>5000</td>\n",
       "      <td>37b5b6d9-c02f-40ad-aa6d-793f3be0f7fb</td>\n",
       "    </tr>\n",
       "    <tr>\n",
       "      <th>3</th>\n",
       "      <td>0.726520</td>\n",
       "      <td>0.943456</td>\n",
       "      <td>0.166667</td>\n",
       "      <td>6000</td>\n",
       "      <td>37b5b6d9-c02f-40ad-aa6d-793f3be0f7fb</td>\n",
       "    </tr>\n",
       "    <tr>\n",
       "      <th>4</th>\n",
       "      <td>0.746032</td>\n",
       "      <td>0.931162</td>\n",
       "      <td>0.166667</td>\n",
       "      <td>7000</td>\n",
       "      <td>37b5b6d9-c02f-40ad-aa6d-793f3be0f7fb</td>\n",
       "    </tr>\n",
       "  </tbody>\n",
       "</table>\n",
       "</div>"
      ],
      "text/plain": [
       "   delphi_kl  naive_kl     alpha  num_samples  \\\n",
       "0   0.742802  0.923718  0.166667         1000   \n",
       "1   0.749407  0.937593  0.166667         2000   \n",
       "2   0.720483  0.934948  0.166667         5000   \n",
       "3   0.726520  0.943456  0.166667         6000   \n",
       "4   0.746032  0.931162  0.166667         7000   \n",
       "\n",
       "                                 exp_id  \n",
       "0  37b5b6d9-c02f-40ad-aa6d-793f3be0f7fb  \n",
       "1  37b5b6d9-c02f-40ad-aa6d-793f3be0f7fb  \n",
       "2  37b5b6d9-c02f-40ad-aa6d-793f3be0f7fb  \n",
       "3  37b5b6d9-c02f-40ad-aa6d-793f3be0f7fb  \n",
       "4  37b5b6d9-c02f-40ad-aa6d-793f3be0f7fb  "
      ]
     },
     "execution_count": 5,
     "metadata": {},
     "output_type": "execute_result"
    }
   ],
   "source": [
    "reader = CollectionReader(STORE_PATH)\n",
    "df = reader.df(STORE_TABLE_NAME)\n",
    "reader.close() # close reader\n",
    "df.head()"
   ]
  },
  {
   "cell_type": "markdown",
   "metadata": {},
   "source": [
    "# All Trials"
   ]
  },
  {
   "cell_type": "code",
   "execution_count": 6,
   "metadata": {},
   "outputs": [
    {
     "name": "stdout",
     "output_type": "stream",
     "text": [
      "all trials:\n"
     ]
    },
    {
     "data": {
      "image/png": "[encoded data removed]",
      "text/plain": [
       "<Figure size 432x288 with 1 Axes>"
      ]
     },
     "metadata": {
      "needs_background": "light"
     },
     "output_type": "display_data"
    }
   ],
   "source": [
    "print(\"all trials:\")\n",
    "\n",
    "# variance vs param mse\n",
    "sns.lineplot(data=df, x='num_samples', y='delphi_kl', label='delphi', color='blue')\n",
    "ax = sns.lineplot(data=df, x='num_samples', y='naive_kl', label='naive', color='red')\n",
    "ax.set(xlabel='Number of Samples within Truncation Set', ylabel='KL Div with Mu*, Sigma*')\n",
    "plt.show()"
   ]
  },
  {
   "cell_type": "code",
   "execution_count": 7,
   "metadata": {},
   "outputs": [
    {
     "data": {
      "text/plain": [
       "(tensor([0.0460, 0.1121], requires_grad=True),\n",
       " tensor([[ 0.8631, -0.0643],\n",
       "         [-0.0643,  1.0182]], requires_grad=True))"
      ]
     },
     "execution_count": 7,
     "metadata": {},
     "output_type": "execute_result"
    }
   ],
   "source": [
    "results.loc, results.covariance_matrix"
   ]
  },
  {
   "cell_type": "code",
   "execution_count": 8,
   "metadata": {},
   "outputs": [
    {
     "data": {
      "image/png": "[encoded data removed]",
      "text/plain": [
       "<Figure size 432x288 with 1 Axes>"
      ]
     },
     "metadata": {
      "needs_background": "light"
     },
     "output_type": "display_data"
    }
   ],
   "source": [
    "plt.scatter(samples[:,0], samples[:,1], color=\"grey\", alpha=.05, label=\"Ground-Truth\")\n",
    "emp = samples[PREDICATE(samples).nonzero(as_tuple=False).flatten()]\n",
    "plt.scatter(emp[:,0], emp[:,1], color=\"red\", label=\"S\", alpha=.5)\n",
    "pred = results.sample(ch.Size([10000]))\n",
    "plt.scatter(pred[:,0], pred[:,1], label=\"predicted\", color=\"green\", alpha=.1)\n",
    "# trunc = MultivariateNormal(S.dataset.loc, S.dataset.covariance_matrix).sample(ch.Size([1000]))\n",
    "# plt.scatter(trunc[:,0], trunc[:,1], label=\"emp_dist\", alpha=.25)\n",
    "plt.legend() \n",
    "\n",
    "plt.show()"
   ]
  },
  {
   "cell_type": "code",
   "execution_count": 16,
   "metadata": {},
   "outputs": [
    {
     "data": {
      "text/plain": [
       "tensor(0.7173, grad_fn=<AddBackward0>)"
      ]
     },
     "execution_count": 16,
     "metadata": {},
     "output_type": "execute_result"
    }
   ],
   "source": [
    "ch.distributions.kl.kl_divergence(results, M)"
   ]
  },
  {
   "cell_type": "code",
   "execution_count": 18,
   "metadata": {},
   "outputs": [
    {
     "data": {
      "text/plain": [
       "tensor(0.9312)"
      ]
     },
     "execution_count": 18,
     "metadata": {},
     "output_type": "execute_result"
    }
   ],
   "source": [
    "ch.distributions.kl.kl_divergence(MultivariateNormal(S.dataset.loc, S.dataset.covariance_matrix), M)"
   ]
  },
  {
   "cell_type": "code",
   "execution_count": null,
   "metadata": {},
   "outputs": [],
   "source": []
  }
 ],
 "metadata": {
  "kernelspec": {
   "display_name": "env",
   "language": "python",
   "name": "env"
  },
  "language_info": {
   "codemirror_mode": {
    "name": "ipython",
    "version": 3
   },
   "file_extension": ".py",
   "mimetype": "text/x-python",
   "name": "python",
   "nbconvert_exporter": "python",
   "pygments_lexer": "ipython3",
   "version": "3.6.9"
  }
 },
 "nbformat": 4,
 "nbformat_minor": 2
}
