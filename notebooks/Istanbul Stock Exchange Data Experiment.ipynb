{
 "cells": [
  {
   "cell_type": "markdown",
   "metadata": {},
   "source": [
    "# Istanbul Stock Exchange Data Experiment \n",
    "Semi-synthetic dataset experiment"
   ]
  },
  {
   "cell_type": "code",
   "execution_count": 2,
   "metadata": {},
   "outputs": [],
   "source": [
    "import sys \n",
    "sys.path.append('..')\n",
    "import cox\n",
    "from cox.store import Store\n",
    "from cox.utils import Parameters\n",
    "import torch as ch\n",
    "from torch import Tensor\n",
    "from torch.utils.data import DataLoader\n",
    "import pandas as pd\n",
    "import seaborn as sns\n",
    "import matplotlib.pyplot as plt\n",
    "import numpy as np\n",
    "from sklearn.linear_model import LinearRegression\n",
    "from sklearn import preprocessing\n",
    "from sklearn.metrics import mean_squared_error\n",
    "from delphi.oracle import Left \n",
    "from delphi.stats.truncated_regression import truncated_regression\n",
    "from delphi.utils.datasets import TruncatedRegressionDataset"
   ]
  },
  {
   "cell_type": "markdown",
   "metadata": {},
   "source": [
    "# Import Istanbul Stock Exchange Dataset into Notebook\n",
    "You need to download the [ISTANBUL STOCK EXCHANGE](https://archive.ics.uci.edu/ml/datasets/ISTANBUL+STOCK+EXCHANGE) dataset from the UCI dataset repository."
   ]
  },
  {
   "cell_type": "code",
   "execution_count": 4,
   "metadata": {},
   "outputs": [
    {
     "name": "stderr",
     "output_type": "stream",
     "text": [
      "/home/pstefanou/trunc-reg/lib/python3.6/site-packages/openpyxl/worksheet/_reader.py:308: UserWarning: Unknown extension is not supported and will be removed\n",
      "  warn(msg)\n"
     ]
    },
    {
     "data": {
      "text/html": [
       "<div>\n",
       "<style scoped>\n",
       "    .dataframe tbody tr th:only-of-type {\n",
       "        vertical-align: middle;\n",
       "    }\n",
       "\n",
       "    .dataframe tbody tr th {\n",
       "        vertical-align: top;\n",
       "    }\n",
       "\n",
       "    .dataframe thead th {\n",
       "        text-align: right;\n",
       "    }\n",
       "</style>\n",
       "<table border=\"1\" class=\"dataframe\">\n",
       "  <thead>\n",
       "    <tr style=\"text-align: right;\">\n",
       "      <th></th>\n",
       "      <th>date</th>\n",
       "      <th>ISE</th>\n",
       "      <th>ISE.1</th>\n",
       "      <th>SP</th>\n",
       "      <th>DAX</th>\n",
       "      <th>FTSE</th>\n",
       "      <th>NIKKEI</th>\n",
       "      <th>BOVESPA</th>\n",
       "      <th>EU</th>\n",
       "      <th>EM</th>\n",
       "    </tr>\n",
       "  </thead>\n",
       "  <tbody>\n",
       "    <tr>\n",
       "      <th>0</th>\n",
       "      <td>2009-01-05</td>\n",
       "      <td>0.035754</td>\n",
       "      <td>0.038376</td>\n",
       "      <td>-0.004679</td>\n",
       "      <td>0.002193</td>\n",
       "      <td>0.003894</td>\n",
       "      <td>0.000000</td>\n",
       "      <td>0.031190</td>\n",
       "      <td>0.012698</td>\n",
       "      <td>0.028524</td>\n",
       "    </tr>\n",
       "    <tr>\n",
       "      <th>1</th>\n",
       "      <td>2009-01-06</td>\n",
       "      <td>0.025426</td>\n",
       "      <td>0.031813</td>\n",
       "      <td>0.007787</td>\n",
       "      <td>0.008455</td>\n",
       "      <td>0.012866</td>\n",
       "      <td>0.004162</td>\n",
       "      <td>0.018920</td>\n",
       "      <td>0.011341</td>\n",
       "      <td>0.008773</td>\n",
       "    </tr>\n",
       "    <tr>\n",
       "      <th>2</th>\n",
       "      <td>2009-01-07</td>\n",
       "      <td>-0.028862</td>\n",
       "      <td>-0.026353</td>\n",
       "      <td>-0.030469</td>\n",
       "      <td>-0.017833</td>\n",
       "      <td>-0.028735</td>\n",
       "      <td>0.017293</td>\n",
       "      <td>-0.035899</td>\n",
       "      <td>-0.017073</td>\n",
       "      <td>-0.020015</td>\n",
       "    </tr>\n",
       "    <tr>\n",
       "      <th>3</th>\n",
       "      <td>2009-01-08</td>\n",
       "      <td>-0.062208</td>\n",
       "      <td>-0.084716</td>\n",
       "      <td>0.003391</td>\n",
       "      <td>-0.011726</td>\n",
       "      <td>-0.000466</td>\n",
       "      <td>-0.040061</td>\n",
       "      <td>0.028283</td>\n",
       "      <td>-0.005561</td>\n",
       "      <td>-0.019424</td>\n",
       "    </tr>\n",
       "    <tr>\n",
       "      <th>4</th>\n",
       "      <td>2009-01-09</td>\n",
       "      <td>0.009860</td>\n",
       "      <td>0.009658</td>\n",
       "      <td>-0.021533</td>\n",
       "      <td>-0.019873</td>\n",
       "      <td>-0.012710</td>\n",
       "      <td>-0.004474</td>\n",
       "      <td>-0.009764</td>\n",
       "      <td>-0.010989</td>\n",
       "      <td>-0.007802</td>\n",
       "    </tr>\n",
       "  </tbody>\n",
       "</table>\n",
       "</div>"
      ],
      "text/plain": [
       "        date       ISE     ISE.1        SP       DAX      FTSE    NIKKEI  \\\n",
       "0 2009-01-05  0.035754  0.038376 -0.004679  0.002193  0.003894  0.000000   \n",
       "1 2009-01-06  0.025426  0.031813  0.007787  0.008455  0.012866  0.004162   \n",
       "2 2009-01-07 -0.028862 -0.026353 -0.030469 -0.017833 -0.028735  0.017293   \n",
       "3 2009-01-08 -0.062208 -0.084716  0.003391 -0.011726 -0.000466 -0.040061   \n",
       "4 2009-01-09  0.009860  0.009658 -0.021533 -0.019873 -0.012710 -0.004474   \n",
       "\n",
       "    BOVESPA        EU        EM  \n",
       "0  0.031190  0.012698  0.028524  \n",
       "1  0.018920  0.011341  0.008773  \n",
       "2 -0.035899 -0.017073 -0.020015  \n",
       "3  0.028283 -0.005561 -0.019424  \n",
       "4 -0.009764 -0.010989 -0.007802  "
      ]
     },
     "execution_count": 4,
     "metadata": {},
     "output_type": "execute_result"
    }
   ],
   "source": [
    "ISTANBUL_DATASET_PATH = '<Give path to xcel file here>'\n",
    "ISTANBUL_DATASET_PATH = '/home/pstefanou/data_akbilgic.xlsx'\n",
    "ist_df = pd.read_excel(ISTANBUL_DATASET_PATH, engine='openpyxl')\n",
    "ist_df.head()"
   ]
  },
  {
   "cell_type": "markdown",
   "metadata": {},
   "source": [
    "# Create Correlation Matrix\n",
    "Create a correlation matrix to see which indices' performances are closely correlated with one another."
   ]
  },
  {
   "cell_type": "code",
   "execution_count": 5,
   "metadata": {},
   "outputs": [
    {
     "data": {
      "text/plain": [
       "(              ISE     ISE.1        SP       DAX      FTSE    NIKKEI   BOVESPA  \\\n",
       " ISE      1.000000  0.942897  0.439489  0.602081  0.622948  0.260052  0.432898   \n",
       " ISE.1    0.942897  1.000000  0.449561  0.629218  0.648740  0.393225  0.446889   \n",
       " SP       0.439489  0.449561  1.000000  0.685843  0.657673  0.131250  0.722069   \n",
       " DAX      0.602081  0.629218  0.685843  1.000000  0.867369  0.258538  0.585791   \n",
       " FTSE     0.622948  0.648740  0.657673  0.867369  1.000000  0.255236  0.596287   \n",
       " NIKKEI   0.260052  0.393225  0.131250  0.258538  0.255236  1.000000  0.172752   \n",
       " BOVESPA  0.432898  0.446889  0.722069  0.585791  0.596287  0.172752  1.000000   \n",
       " EU       0.655519  0.690761  0.687550  0.936393  0.948963  0.283750  0.621704   \n",
       " EM       0.600295  0.701954  0.528243  0.665162  0.687543  0.547288  0.688074   \n",
       " \n",
       "                EU        EM  \n",
       " ISE      0.655519  0.600295  \n",
       " ISE.1    0.690761  0.701954  \n",
       " SP       0.687550  0.528243  \n",
       " DAX      0.936393  0.665162  \n",
       " FTSE     0.948963  0.687543  \n",
       " NIKKEI   0.283750  0.547288  \n",
       " BOVESPA  0.621704  0.688074  \n",
       " EU       1.000000  0.716502  \n",
       " EM       0.716502  1.000000  ,\n",
       " <AxesSubplot:>)"
      ]
     },
     "execution_count": 5,
     "metadata": {},
     "output_type": "execute_result"
    },
    {
     "data": {
      "image/png": "[encoded data removed]",
      "text/plain": [
       "<Figure size 432x288 with 2 Axes>"
      ]
     },
     "metadata": {
      "needs_background": "light"
     },
     "output_type": "display_data"
    }
   ],
   "source": [
    "indices = ist_df.drop(['date'], axis=1)\n",
    "corr_matrix = indices.corr()\n",
    "corr_matrix, sns.heatmap(corr_matrix, annot=True)"
   ]
  },
  {
   "cell_type": "markdown",
   "metadata": {},
   "source": [
    "# Data Preprocessing\n",
    "Select the performance results for the EM and EU indices. Since, the performance results are expressed in decimals (because they are percentages) and are extremely small, we standardize the data, so that are gradients aren't negatively influenced by the magnitude of the performance rates."
   ]
  },
  {
   "cell_type": "code",
   "execution_count": 6,
   "metadata": {},
   "outputs": [],
   "source": [
    "X = ch.from_numpy(np.expand_dims(indices['EM'], 1))\n",
    "y = ch.from_numpy(np.expand_dims(indices['EU'], 1))\n",
    "\n",
    "# \n",
    "X_scaler, y_scaler = preprocessing.StandardScaler().fit(X), preprocessing.StandardScaler().fit(y)\n",
    "X, y = ch.from_numpy(X_scaler.transform(X)).float(), ch.from_numpy(y_scaler.transform(y))"
   ]
  },
  {
   "cell_type": "markdown",
   "metadata": {},
   "source": [
    "# Set up Experiment\n",
    "For storing the experiment's hyperparameters, we use [cox](https://github.com/MadryLab/cox), MadryLab's light-weight experimental design and analysis framework. "
   ]
  },
  {
   "cell_type": "code",
   "execution_count": 7,
   "metadata": {},
   "outputs": [],
   "source": [
    "# truncate dataset\n",
    "c = 1.0\n",
    "phi = Left(Tensor([c]))\n",
    "trunc_indices = phi(y).nonzero(as_tuple=False).flatten()\n",
    "x_trunc, y_trunc = X[trunc_indices], y[trunc_indices]\n",
    "\n",
    "# experiment hyperparameters\n",
    "args = Parameters({ \n",
    "    'alpha': Tensor([y_trunc.shape[0]/y.shape[0]]), \n",
    "    'phi': phi, \n",
    "    'epochs': 10,\n",
    "    'num_workers': 2, \n",
    "    'batch_size': 100,\n",
    "    'bias': True,\n",
    "    'num_samples': 1000,\n",
    "    'clamp': True, \n",
    "    'radius': 2.0, \n",
    "    'var_lr': 1e-1,\n",
    "    'lr': 1e-1,\n",
    "    'unknown': True,\n",
    "})"
   ]
  },
  {
   "cell_type": "markdown",
   "metadata": {},
   "source": [
    "# Create Store for Experiment Results"
   ]
  },
  {
   "cell_type": "code",
   "execution_count": 10,
   "metadata": {},
   "outputs": [
    {
     "name": "stdout",
     "output_type": "stream",
     "text": [
      "Logging in: /home/pstefanou/test__/51db2fb2-f5b8-4916-a34e-f2e2e67ed8a0\n"
     ]
    },
    {
     "data": {
      "text/plain": [
       "<cox.store.Table at 0x7fb9dd248080>"
      ]
     },
     "execution_count": 10,
     "metadata": {},
     "output_type": "execute_result"
    }
   ],
   "source": [
    "STORE_PATH = '<Give Path to Store Data Here>'\n",
    "STORE_PATH = '/home/pstefanou/test__'\n",
    "STORE_TABLE_NAME = '<Give Store Table Name here>'\n",
    "STORE_TABLE_NAME = 'test'\n",
    "\n",
    "# create store\n",
    "s = Store(STORE_PATH)\n",
    "s.add_table(STORE_TABLE_NAME, { \n",
    "    'c': float, \n",
    "    'pred_var_mse': float, \n",
    "    'pred_param_mse': float, \n",
    "    'emp_var_mse': float, \n",
    "    'emp_param_mse': float,\n",
    "})"
   ]
  },
  {
   "cell_type": "markdown",
   "metadata": {},
   "source": [
    "# Run Procedure"
   ]
  },
  {
   "cell_type": "code",
   "execution_count": null,
   "metadata": {
    "scrolled": true
   },
   "outputs": [
    {
     "name": "stderr",
     "output_type": "stream",
     "text": [
      "/home/pstefanou/trunc-reg/lib/python3.6/site-packages/ipykernel_launcher.py:4: VisibleDeprecationWarning: Creating an ndarray from ragged nested sequences (which is a list-or-tuple of lists-or-tuples-or ndarrays with different lengths or shapes) is deprecated. If you meant to do this, you must specify 'dtype=object' when creating the ndarray\n",
      "  after removing the cwd from sys.path.\n",
      "Epoch:1 | Loss 0.1839 | Train1 0.407 | Train5 -1.000 | Reg term: 0.0 ||: 100%|██████████| 2/2 [00:00<00:00, 64.57it/s]\n",
      "Epoch:2 | Loss 0.1837 | Train1 0.412 | Train5 -1.000 | Reg term: 0.0 ||: 100%|██████████| 2/2 [00:00<00:00, 66.07it/s]\n",
      "Epoch:3 | Loss 0.1847 | Train1 0.432 | Train5 -1.000 | Reg term: 0.0 ||: 100%|██████████| 2/2 [00:00<00:00, 51.82it/s]\n",
      "Epoch:4 | Loss 0.1869 | Train1 0.442 | Train5 -1.000 | Reg term: 0.0 ||: 100%|██████████| 2/2 [00:00<00:00, 66.37it/s]\n",
      "Epoch:5 | Loss 0.1914 | Train1 0.437 | Train5 -1.000 | Reg term: 0.0 ||: 100%|██████████| 2/2 [00:00<00:00, 67.40it/s]\n",
      "Epoch:6 | Loss 0.1978 | Train1 0.462 | Train5 -1.000 | Reg term: 0.0 ||: 100%|██████████| 2/2 [00:00<00:00, 66.20it/s]\n",
      "Epoch:7 | Loss 0.2057 | Train1 0.467 | Train5 -1.000 | Reg term: 0.0 ||: 100%|██████████| 2/2 [00:00<00:00, 66.55it/s]\n",
      "Epoch:8 | Loss 0.2129 | Train1 0.462 | Train5 -1.000 | Reg term: 0.0 ||: 100%|██████████| 2/2 [00:00<00:00, 66.93it/s]\n",
      "Epoch:9 | Loss 0.2205 | Train1 0.477 | Train5 -1.000 | Reg term: 0.0 ||: 100%|██████████| 2/2 [00:00<00:00, 66.91it/s]\n",
      "Epoch:10 | Loss 0.2293 | Train1 0.477 | Train5 -1.000 | Reg term: 0.0 ||: 100%|██████████| 2/2 [00:00<00:00, 67.42it/s]\n",
      "Epoch:1 | Loss 0.1945 | Train1 0.402 | Train5 -1.000 | Reg term: 0.0 ||: 100%|██████████| 2/2 [00:00<00:00, 66.93it/s]\n",
      "Epoch:2 | Loss 0.1946 | Train1 0.397 | Train5 -1.000 | Reg term: 0.0 ||: 100%|██████████| 2/2 [00:00<00:00, 67.38it/s]\n",
      "Epoch:3 | Loss 0.1964 | Train1 0.397 | Train5 -1.000 | Reg term: 0.0 ||: 100%|██████████| 2/2 [00:00<00:00, 67.35it/s]\n",
      "Epoch:4 | Loss 0.2007 | Train1 0.417 | Train5 -1.000 | Reg term: 0.0 ||: 100%|██████████| 2/2 [00:00<00:00, 52.29it/s]\n",
      "Epoch:5 | Loss 0.2055 | Train1 0.447 | Train5 -1.000 | Reg term: 0.0 ||: 100%|██████████| 2/2 [00:00<00:00, 57.62it/s]\n",
      "Epoch:6 | Loss 0.2108 | Train1 0.472 | Train5 -1.000 | Reg term: 0.0 ||: 100%|██████████| 2/2 [00:00<00:00, 66.92it/s]\n",
      "Epoch:7 | Loss 0.2157 | Train1 0.487 | Train5 -1.000 | Reg term: 0.0 ||: 100%|██████████| 2/2 [00:00<00:00, 67.11it/s]\n",
      "Epoch:8 | Loss 0.2213 | Train1 0.487 | Train5 -1.000 | Reg term: 0.0 ||: 100%|██████████| 2/2 [00:00<00:00, 67.79it/s]\n",
      "Epoch:9 | Loss 0.2290 | Train1 0.487 | Train5 -1.000 | Reg term: 0.0 ||: 100%|██████████| 2/2 [00:00<00:00, 67.13it/s]\n",
      "Epoch:10 | Loss 0.2375 | Train1 0.492 | Train5 -1.000 | Reg term: 0.0 ||: 100%|██████████| 2/2 [00:00<00:00, 66.97it/s]\n",
      "Epoch:1 | Loss 0.1238 | Train1 0.407 | Train5 -1.000 | Reg term: 0.0 ||: 100%|██████████| 2/2 [00:00<00:00, 66.98it/s]\n",
      "Epoch:2 | Loss 0.1237 | Train1 0.412 | Train5 -1.000 | Reg term: 0.0 ||: 100%|██████████| 2/2 [00:00<00:00, 67.45it/s]\n",
      "Epoch:3 | Loss 0.1238 | Train1 0.412 | Train5 -1.000 | Reg term: 0.0 ||: 100%|██████████| 2/2 [00:00<00:00, 67.45it/s]\n",
      "Epoch:4 | Loss 0.1240 | Train1 0.417 | Train5 -1.000 | Reg term: 0.0 ||: 100%|██████████| 2/2 [00:00<00:00, 66.06it/s]\n",
      "Epoch:5 | Loss 0.1245 | Train1 0.452 | Train5 -1.000 | Reg term: 0.0 ||: 100%|██████████| 2/2 [00:00<00:00, 67.00it/s]\n",
      "Epoch:6 | Loss 0.1254 | Train1 0.457 | Train5 -1.000 | Reg term: 0.0 ||: 100%|██████████| 2/2 [00:00<00:00, 54.69it/s]\n",
      "Epoch:7 | Loss 0.1267 | Train1 0.467 | Train5 -1.000 | Reg term: 0.0 ||: 100%|██████████| 2/2 [00:00<00:00, 59.02it/s]\n",
      "Epoch:8 | Loss 0.1284 | Train1 0.482 | Train5 -1.000 | Reg term: 0.0 ||: 100%|██████████| 2/2 [00:00<00:00, 65.58it/s]\n",
      "Epoch:9 | Loss 0.1300 | Train1 0.482 | Train5 -1.000 | Reg term: 0.0 ||: 100%|██████████| 2/2 [00:00<00:00, 66.08it/s]\n",
      "Epoch:10 | Loss 0.1313 | Train1 0.482 | Train5 -1.000 | Reg term: 0.0 ||: 100%|██████████| 2/2 [00:00<00:00, 67.02it/s]\n",
      "Epoch:1 | Loss 0.1353 | Train1 0.412 | Train5 -1.000 | Reg term: 0.0 ||: 100%|██████████| 2/2 [00:00<00:00, 55.40it/s]\n",
      "Epoch:2 | Loss 0.1354 | Train1 0.417 | Train5 -1.000 | Reg term: 0.0 ||: 100%|██████████| 2/2 [00:00<00:00, 66.63it/s]\n",
      "Epoch:3 | Loss 0.1360 | Train1 0.437 | Train5 -1.000 | Reg term: 0.0 ||: 100%|██████████| 2/2 [00:00<00:00, 66.75it/s]\n",
      "Epoch:4 | Loss 0.1370 | Train1 0.452 | Train5 -1.000 | Reg term: 0.0 ||: 100%|██████████| 2/2 [00:00<00:00, 66.67it/s]\n",
      "Epoch:5 | Loss 0.1389 | Train1 0.457 | Train5 -1.000 | Reg term: 0.0 ||: 100%|██████████| 2/2 [00:00<00:00, 61.19it/s]\n",
      "Epoch:6 | Loss 0.1420 | Train1 0.467 | Train5 -1.000 | Reg term: 0.0 ||: 100%|██████████| 2/2 [00:00<00:00, 67.44it/s]\n",
      "Epoch:7 | Loss 0.1464 | Train1 0.472 | Train5 -1.000 | Reg term: 0.0 ||: 100%|██████████| 2/2 [00:00<00:00, 66.95it/s]\n",
      "Epoch:8 | Loss 0.1515 | Train1 0.487 | Train5 -1.000 | Reg term: 0.0 ||: 100%|██████████| 2/2 [00:00<00:00, 67.28it/s]\n",
      "Epoch:9 | Loss 0.1576 | Train1 0.508 | Train5 -1.000 | Reg term: 0.0 ||: 100%|██████████| 2/2 [00:00<00:00, 66.94it/s]\n",
      "Epoch:10 | Loss 0.1653 | Train1 0.503 | Train5 -1.000 | Reg term: 0.0 ||: 100%|██████████| 2/2 [00:00<00:00, 66.56it/s]\n",
      "Epoch:1 | Loss 0.1624 | Train1 0.482 | Train5 -1.000 | Reg term: 0.0 ||: 100%|██████████| 2/2 [00:00<00:00, 67.15it/s]\n",
      "Epoch:2 | Loss 0.1625 | Train1 0.482 | Train5 -1.000 | Reg term: 0.0 ||: 100%|██████████| 2/2 [00:00<00:00, 66.93it/s]\n",
      "Epoch:3 | Loss 0.1629 | Train1 0.482 | Train5 -1.000 | Reg term: 0.0 ||: 100%|██████████| 2/2 [00:00<00:00, 67.12it/s]\n",
      "Epoch:4 | Loss 0.1645 | Train1 0.487 | Train5 -1.000 | Reg term: 0.0 ||: 100%|██████████| 2/2 [00:00<00:00, 66.61it/s]\n",
      "Epoch:5 | Loss 0.1678 | Train1 0.487 | Train5 -1.000 | Reg term: 0.0 ||: 100%|██████████| 2/2 [00:00<00:00, 68.66it/s]\n",
      "Epoch:6 | Loss 0.1735 | Train1 0.487 | Train5 -1.000 | Reg term: 0.0 ||: 100%|██████████| 2/2 [00:00<00:00, 66.89it/s]\n",
      "Epoch:7 | Loss 0.1807 | Train1 0.503 | Train5 -1.000 | Reg term: 0.0 ||: 100%|██████████| 2/2 [00:00<00:00, 66.39it/s]\n",
      "Epoch:8 | Loss 0.1864 | Train1 0.503 | Train5 -1.000 | Reg term: 0.0 ||: 100%|██████████| 2/2 [00:00<00:00, 67.68it/s]\n",
      "Epoch:9 | Loss 0.1888 | Train1 0.518 | Train5 -1.000 | Reg term: 0.0 ||: 100%|██████████| 2/2 [00:00<00:00, 67.07it/s]\n",
      "Epoch:10 | Loss 0.1905 | Train1 0.523 | Train5 -1.000 | Reg term: 0.0 ||: 100%|██████████| 2/2 [00:00<00:00, 67.11it/s]\n",
      "Epoch:1 | Loss 0.1471 | Train1 0.603 | Train5 -1.000 | Reg term: 0.0 ||: 100%|██████████| 2/2 [00:00<00:00, 60.98it/s]\n",
      "Epoch:2 | Loss 0.1469 | Train1 0.603 | Train5 -1.000 | Reg term: 0.0 ||: 100%|██████████| 2/2 [00:00<00:00, 66.50it/s]\n",
      "Epoch:3 | Loss 0.1483 | Train1 0.603 | Train5 -1.000 | Reg term: 0.0 ||: 100%|██████████| 2/2 [00:00<00:00, 65.85it/s]\n",
      "Epoch:4 | Loss 0.1498 | Train1 0.603 | Train5 -1.000 | Reg term: 0.0 ||: 100%|██████████| 2/2 [00:00<00:00, 65.62it/s]\n",
      "Epoch:5 | Loss 0.1521 | Train1 0.603 | Train5 -1.000 | Reg term: 0.0 ||: 100%|██████████| 2/2 [00:00<00:00, 65.95it/s]\n",
      "Epoch:6 | Loss 0.1544 | Train1 0.608 | Train5 -1.000 | Reg term: 0.0 ||: 100%|██████████| 2/2 [00:00<00:00, 54.08it/s]\n",
      "Epoch:7 | Loss 0.1575 | Train1 0.608 | Train5 -1.000 | Reg term: 0.0 ||: 100%|██████████| 2/2 [00:00<00:00, 64.21it/s]\n",
      "Epoch:8 | Loss 0.1598 | Train1 0.613 | Train5 -1.000 | Reg term: 0.0 ||: 100%|██████████| 2/2 [00:00<00:00, 65.09it/s]\n",
      "Epoch:9 | Loss 0.1622 | Train1 0.618 | Train5 -1.000 | Reg term: 0.0 ||: 100%|██████████| 2/2 [00:00<00:00, 65.26it/s]\n",
      "Epoch:10 | Loss 0.1660 | Train1 0.618 | Train5 -1.000 | Reg term: 0.0 ||: 100%|██████████| 2/2 [00:00<00:00, 65.13it/s]\n",
      "Epoch:1 | Loss 0.1602 | Train1 0.417 | Train5 -1.000 | Reg term: 0.0 ||: 100%|██████████| 2/2 [00:00<00:00, 55.41it/s]\n",
      "Epoch:2 | Loss 0.1601 | Train1 0.422 | Train5 -1.000 | Reg term: 0.0 ||: 100%|██████████| 2/2 [00:00<00:00, 65.16it/s]\n",
      "Epoch:3 | Loss 0.1602 | Train1 0.427 | Train5 -1.000 | Reg term: 0.0 ||: 100%|██████████| 2/2 [00:00<00:00, 65.72it/s]\n",
      "Epoch:4 | Loss 0.1605 | Train1 0.427 | Train5 -1.000 | Reg term: 0.0 ||: 100%|██████████| 2/2 [00:00<00:00, 64.81it/s]\n",
      "Epoch:5 | Loss 0.1609 | Train1 0.427 | Train5 -1.000 | Reg term: 0.0 ||: 100%|██████████| 2/2 [00:00<00:00, 65.48it/s]\n"
     ]
    },
    {
     "name": "stderr",
     "output_type": "stream",
     "text": [
      "Epoch:6 | Loss 0.1613 | Train1 0.432 | Train5 -1.000 | Reg term: 0.0 ||: 100%|██████████| 2/2 [00:00<00:00, 65.53it/s]\n",
      "Epoch:7 | Loss 0.1616 | Train1 0.432 | Train5 -1.000 | Reg term: 0.0 ||: 100%|██████████| 2/2 [00:00<00:00, 65.53it/s]\n",
      "Epoch:8 | Loss 0.1620 | Train1 0.437 | Train5 -1.000 | Reg term: 0.0 ||: 100%|██████████| 2/2 [00:00<00:00, 65.50it/s]\n",
      "Epoch:9 | Loss 0.1623 | Train1 0.437 | Train5 -1.000 | Reg term: 0.0 ||: 100%|██████████| 2/2 [00:00<00:00, 65.09it/s]\n",
      "Epoch:10 | Loss 0.1629 | Train1 0.442 | Train5 -1.000 | Reg term: 0.0 ||: 100%|██████████| 2/2 [00:00<00:00, 65.30it/s]\n",
      "Epoch:1 | Loss 0.1454 | Train1 0.457 | Train5 -1.000 | Reg term: 0.0 ||: 100%|██████████| 2/2 [00:00<00:00, 65.62it/s]\n",
      "Epoch:2 | Loss 0.1453 | Train1 0.467 | Train5 -1.000 | Reg term: 0.0 ||: 100%|██████████| 2/2 [00:00<00:00, 66.08it/s]\n",
      "Epoch:3 | Loss 0.1456 | Train1 0.467 | Train5 -1.000 | Reg term: 0.0 ||: 100%|██████████| 2/2 [00:00<00:00, 65.42it/s]\n",
      "Epoch:4 | Loss 0.1460 | Train1 0.482 | Train5 -1.000 | Reg term: 0.0 ||: 100%|██████████| 2/2 [00:00<00:00, 64.83it/s]\n",
      "Epoch:5 | Loss 0.1470 | Train1 0.492 | Train5 -1.000 | Reg term: 0.0 ||: 100%|██████████| 2/2 [00:00<00:00, 65.22it/s]\n",
      "Epoch:6 | Loss 0.1486 | Train1 0.503 | Train5 -1.000 | Reg term: 0.0 ||: 100%|██████████| 2/2 [00:00<00:00, 66.33it/s]\n",
      "Epoch:7 | Loss 0.1507 | Train1 0.497 | Train5 -1.000 | Reg term: 0.0 ||: 100%|██████████| 2/2 [00:00<00:00, 65.21it/s]\n",
      "Epoch:8 | Loss 0.1535 | Train1 0.518 | Train5 -1.000 | Reg term: 0.0 ||: 100%|██████████| 2/2 [00:00<00:00, 65.22it/s]\n",
      "Epoch:9 | Loss 0.1574 | Train1 0.523 | Train5 -1.000 | Reg term: 0.0 ||: 100%|██████████| 2/2 [00:00<00:00, 65.65it/s]\n",
      "Epoch:10 | Loss 0.1614 | Train1 0.528 | Train5 -1.000 | Reg term: 0.0 ||: 100%|██████████| 2/2 [00:00<00:00, 65.02it/s]\n",
      "Epoch:1 | Loss 0.1476 | Train1 0.397 | Train5 -1.000 | Reg term: 0.0 ||: 100%|██████████| 2/2 [00:00<00:00, 65.44it/s]\n",
      "Epoch:2 | Loss 0.1476 | Train1 0.402 | Train5 -1.000 | Reg term: 0.0 ||: 100%|██████████| 2/2 [00:00<00:00, 65.83it/s]\n",
      "Epoch:3 | Loss 0.1477 | Train1 0.407 | Train5 -1.000 | Reg term: 0.0 ||: 100%|██████████| 2/2 [00:00<00:00, 66.29it/s]\n",
      "Epoch:4 | Loss 0.1479 | Train1 0.412 | Train5 -1.000 | Reg term: 0.0 ||: 100%|██████████| 2/2 [00:00<00:00, 65.08it/s]\n",
      "Epoch:5 | Loss 0.1483 | Train1 0.417 | Train5 -1.000 | Reg term: 0.0 ||: 100%|██████████| 2/2 [00:00<00:00, 65.90it/s]\n",
      "Epoch:6 | Loss 0.1494 | Train1 0.422 | Train5 -1.000 | Reg term: 0.0 ||: 100%|██████████| 2/2 [00:00<00:00, 65.65it/s]\n",
      "Epoch:7 | Loss 0.1510 | Train1 0.427 | Train5 -1.000 | Reg term: 0.0 ||: 100%|██████████| 2/2 [00:00<00:00, 65.23it/s]\n",
      "Epoch:8 | Loss 0.1530 | Train1 0.427 | Train5 -1.000 | Reg term: 0.0 ||: 100%|██████████| 2/2 [00:00<00:00, 65.62it/s]\n",
      "Epoch:9 | Loss 0.1555 | Train1 0.437 | Train5 -1.000 | Reg term: 0.0 ||: 100%|██████████| 2/2 [00:00<00:00, 66.00it/s]\n",
      "Epoch:10 | Loss 0.1580 | Train1 0.457 | Train5 -1.000 | Reg term: 0.0 ||: 100%|██████████| 2/2 [00:00<00:00, 65.51it/s]\n",
      "Epoch:1 | Loss 0.1549 | Train1 0.392 | Train5 -1.000 | Reg term: 0.0 ||: 100%|██████████| 2/2 [00:00<00:00, 64.81it/s]\n",
      "Epoch:2 | Loss 0.1551 | Train1 0.392 | Train5 -1.000 | Reg term: 0.0 ||: 100%|██████████| 2/2 [00:00<00:00, 65.63it/s]\n",
      "Epoch:3 | Loss 0.1556 | Train1 0.392 | Train5 -1.000 | Reg term: 0.0 ||: 100%|██████████| 2/2 [00:00<00:00, 65.70it/s]\n",
      "Epoch:4 | Loss 0.1570 | Train1 0.392 | Train5 -1.000 | Reg term: 0.0 ||: 100%|██████████| 2/2 [00:00<00:00, 63.56it/s]\n",
      "Epoch:5 | Loss 0.1593 | Train1 0.407 | Train5 -1.000 | Reg term: 0.0 ||: 100%|██████████| 2/2 [00:00<00:00, 65.62it/s]\n",
      "Epoch:6 | Loss 0.1625 | Train1 0.432 | Train5 -1.000 | Reg term: 0.0 ||: 100%|██████████| 2/2 [00:00<00:00, 65.56it/s]\n",
      "Epoch:7 | Loss 0.1669 | Train1 0.442 | Train5 -1.000 | Reg term: 0.0 ||: 100%|██████████| 2/2 [00:00<00:00, 66.03it/s]\n",
      "Epoch:8 | Loss 0.1715 | Train1 0.452 | Train5 -1.000 | Reg term: 0.0 ||: 100%|██████████| 2/2 [00:00<00:00, 65.26it/s]\n",
      "Epoch:9 | Loss 0.1759 | Train1 0.457 | Train5 -1.000 | Reg term: 0.0 ||: 100%|██████████| 2/2 [00:00<00:00, 65.65it/s]\n",
      "Epoch:10 | Loss 0.1808 | Train1 0.467 | Train5 -1.000 | Reg term: 0.0 ||: 100%|██████████| 2/2 [00:00<00:00, 65.77it/s]\n",
      "Epoch:1 | Loss 0.1577 | Train1 0.477 | Train5 -1.000 | Reg term: 0.0 ||: 100%|██████████| 2/2 [00:00<00:00, 64.87it/s]\n",
      "Epoch:2 | Loss 0.1578 | Train1 0.477 | Train5 -1.000 | Reg term: 0.0 ||: 100%|██████████| 2/2 [00:00<00:00, 64.78it/s]\n",
      "Epoch:3 | Loss 0.1586 | Train1 0.477 | Train5 -1.000 | Reg term: 0.0 ||: 100%|██████████| 2/2 [00:00<00:00, 65.22it/s]\n",
      "Epoch:4 | Loss 0.1603 | Train1 0.482 | Train5 -1.000 | Reg term: 0.0 ||: 100%|██████████| 2/2 [00:00<00:00, 64.58it/s]\n",
      "Epoch:5 | Loss 0.1642 | Train1 0.487 | Train5 -1.000 | Reg term: 0.0 ||: 100%|██████████| 2/2 [00:00<00:00, 65.12it/s]\n",
      "Epoch:6 | Loss 0.1693 | Train1 0.492 | Train5 -1.000 | Reg term: 0.0 ||: 100%|██████████| 2/2 [00:00<00:00, 65.76it/s]\n",
      "Epoch:7 | Loss 0.1740 | Train1 0.487 | Train5 -1.000 | Reg term: 0.0 ||: 100%|██████████| 2/2 [00:00<00:00, 65.06it/s]\n",
      "Epoch:8 | Loss 0.1778 | Train1 0.513 | Train5 -1.000 | Reg term: 0.0 ||: 100%|██████████| 2/2 [00:00<00:00, 65.20it/s]\n",
      "Epoch:9 | Loss 0.1827 | Train1 0.513 | Train5 -1.000 | Reg term: 0.0 ||: 100%|██████████| 2/2 [00:00<00:00, 65.53it/s]\n",
      "Epoch:10 | Loss 0.1878 | Train1 0.518 | Train5 -1.000 | Reg term: 0.0 ||: 100%|██████████| 2/2 [00:00<00:00, 66.03it/s]\n",
      "Epoch:1 | Loss 0.1470 | Train1 0.603 | Train5 -1.000 | Reg term: 0.0 ||: 100%|██████████| 2/2 [00:00<00:00, 65.10it/s]\n",
      "Epoch:2 | Loss 0.1470 | Train1 0.603 | Train5 -1.000 | Reg term: 0.0 ||: 100%|██████████| 2/2 [00:00<00:00, 65.23it/s]\n",
      "Epoch:3 | Loss 0.1475 | Train1 0.603 | Train5 -1.000 | Reg term: 0.0 ||: 100%|██████████| 2/2 [00:00<00:00, 65.62it/s]\n",
      "Epoch:4 | Loss 0.1489 | Train1 0.603 | Train5 -1.000 | Reg term: 0.0 ||: 100%|██████████| 2/2 [00:00<00:00, 65.02it/s]\n",
      "Epoch:5 | Loss 0.1517 | Train1 0.603 | Train5 -1.000 | Reg term: 0.0 ||: 100%|██████████| 2/2 [00:00<00:00, 65.42it/s]\n",
      "Epoch:6 | Loss 0.1558 | Train1 0.608 | Train5 -1.000 | Reg term: 0.0 ||: 100%|██████████| 2/2 [00:00<00:00, 66.18it/s]\n",
      "Epoch:7 | Loss 0.1605 | Train1 0.613 | Train5 -1.000 | Reg term: 0.0 ||: 100%|██████████| 2/2 [00:00<00:00, 65.20it/s]\n",
      "Epoch:8 | Loss 0.1639 | Train1 0.618 | Train5 -1.000 | Reg term: 0.0 ||: 100%|██████████| 2/2 [00:00<00:00, 65.04it/s]\n",
      "Epoch:9 | Loss 0.1662 | Train1 0.618 | Train5 -1.000 | Reg term: 0.0 ||: 100%|██████████| 2/2 [00:00<00:00, 64.90it/s]\n",
      "Epoch:10 | Loss 0.1689 | Train1 0.623 | Train5 -1.000 | Reg term: 0.0 ||: 100%|██████████| 2/2 [00:00<00:00, 65.46it/s]\n",
      "Epoch:1 | Loss 0.2085 | Train1 0.407 | Train5 -1.000 | Reg term: 0.0 ||: 100%|██████████| 2/2 [00:00<00:00, 64.94it/s]\n",
      "Epoch:2 | Loss 0.2086 | Train1 0.417 | Train5 -1.000 | Reg term: 0.0 ||: 100%|██████████| 2/2 [00:00<00:00, 65.30it/s]\n",
      "Epoch:3 | Loss 0.2090 | Train1 0.432 | Train5 -1.000 | Reg term: 0.0 ||: 100%|██████████| 2/2 [00:00<00:00, 65.29it/s]\n",
      "Epoch:4 | Loss 0.2103 | Train1 0.437 | Train5 -1.000 | Reg term: 0.0 ||: 100%|██████████| 2/2 [00:00<00:00, 64.22it/s]\n",
      "Epoch:5 | Loss 0.2115 | Train1 0.452 | Train5 -1.000 | Reg term: 0.0 ||: 100%|██████████| 2/2 [00:00<00:00, 66.11it/s]\n",
      "Epoch:6 | Loss 0.2144 | Train1 0.457 | Train5 -1.000 | Reg term: 0.0 ||: 100%|██████████| 2/2 [00:00<00:00, 65.83it/s]\n",
      "Epoch:7 | Loss 0.2173 | Train1 0.462 | Train5 -1.000 | Reg term: 0.0 ||: 100%|██████████| 2/2 [00:00<00:00, 64.27it/s]\n",
      "Epoch:8 | Loss 0.2201 | Train1 0.477 | Train5 -1.000 | Reg term: 0.0 ||: 100%|██████████| 2/2 [00:00<00:00, 62.93it/s]\n",
      "Epoch:9 | Loss 0.2228 | Train1 0.492 | Train5 -1.000 | Reg term: 0.0 ||: 100%|██████████| 2/2 [00:00<00:00, 63.62it/s]\n",
      "Epoch:10 | Loss 0.2246 | Train1 0.482 | Train5 -1.000 | Reg term: 0.0 ||: 100%|██████████| 2/2 [00:00<00:00, 64.96it/s]\n",
      "Epoch:1 | Loss 0.1600 | Train1 0.372 | Train5 -1.000 | Reg term: 0.0 ||: 100%|██████████| 2/2 [00:00<00:00, 66.04it/s]\n",
      "Epoch:2 | Loss 0.1602 | Train1 0.372 | Train5 -1.000 | Reg term: 0.0 ||: 100%|██████████| 2/2 [00:00<00:00, 66.87it/s]\n",
      "Epoch:3 | Loss 0.1609 | Train1 0.372 | Train5 -1.000 | Reg term: 0.0 ||: 100%|██████████| 2/2 [00:00<00:00, 66.24it/s]\n"
     ]
    },
    {
     "name": "stderr",
     "output_type": "stream",
     "text": [
      "Epoch:4 | Loss 0.1623 | Train1 0.402 | Train5 -1.000 | Reg term: 0.0 ||: 100%|██████████| 2/2 [00:00<00:00, 65.56it/s]\n",
      "Epoch:5 | Loss 0.1636 | Train1 0.412 | Train5 -1.000 | Reg term: 0.0 ||: 100%|██████████| 2/2 [00:00<00:00, 61.10it/s]\n",
      "Epoch:6 | Loss 0.1648 | Train1 0.422 | Train5 -1.000 | Reg term: 0.0 ||: 100%|██████████| 2/2 [00:00<00:00, 65.86it/s]\n",
      "Epoch:7 | Loss 0.1665 | Train1 0.432 | Train5 -1.000 | Reg term: 0.0 ||: 100%|██████████| 2/2 [00:00<00:00, 66.02it/s]\n",
      "Epoch:8 | Loss 0.2031 | Train1 0.400 | Train5 -1.000 | Reg term: 0.0 ||:   0%|          | 0/2 [00:00<?, ?it/s]"
     ]
    }
   ],
   "source": [
    "# groun_truth parameters\n",
    "lin_reg = LinearRegression() \n",
    "lin_reg.fit(X, y)\n",
    "real_params = np.array([lin_reg.coef_, lin_reg.intercept_])\n",
    "real_var = np.var(lin_reg.predict(X) - y.numpy(), 0)\n",
    "\n",
    "# smallest number of surviving samples when varying truncation parameter C\n",
    "num_samples = 199\n",
    "\n",
    "C = [-1, -.75, -.5, -.25, 0, .25]\n",
    "for i in range(20):\n",
    "    for c in C: \n",
    "        # truncate\n",
    "        phi = Left(Tensor([c]))\n",
    "        trunc_indices = phi(y).nonzero(as_tuple=False).flatten()\n",
    "        x_trunc, y_trunc = X[trunc_indices], y[trunc_indices]\n",
    "        # add survival probability to hyperparameters\n",
    "        alpha = x_trunc.shape[0]/X.shape[0]\n",
    "        \n",
    "        \"\"\"\n",
    "        If there are more than 199 samples within the truncation set, then select the first \n",
    "        199 samples from a random permutation of the survival set.\n",
    "        \"\"\"\n",
    "        indices = ch.randperm(x_trunc.size(0))[:num_samples]\n",
    "        x_trunc, y_trunc = x_trunc[indices], y_trunc[indices]\n",
    "\n",
    "        # intialize datset\n",
    "        dataset = TruncatedRegressionDataset(x_trunc, y_trunc.float(), bias=args.bias, unknown=args.unknown)\n",
    "        S = DataLoader(dataset, batch_size=args.batch_size)\n",
    "\n",
    "        trunc_reg = truncated_regression(phi=phi, alpha=alpha, unknown=args.unknown, lr=args.lr, var_lr=args.var_lr, num_samples=args.num_samples, epochs=args.epochs)\n",
    "        results = trunc_reg.fit(S)\n",
    "\n",
    "        with ch.no_grad():\n",
    "            delphi_params = ch.cat([results.v*results.lambda_.inverse(), results.bias*results.lambda_.inverse()])\n",
    "            delphi_var = results.lambda_.inverse()\n",
    "\n",
    "            emp_params = ch.cat([dataset.w, dataset.w0.unsqueeze(0)])\n",
    "            emp_var = dataset.lambda_.inverse()\n",
    "\n",
    "            s[STORE_TABLE_NAME].append_row({ \n",
    "                'c': c, \n",
    "                'pred_param_mse': mean_squared_error(delphi_params, real_params), \n",
    "                'pred_var_mse': mean_squared_error(real_var, delphi_var),\n",
    "                'emp_param_mse': mean_squared_error(emp_params, real_params), \n",
    "                'emp_var_mse': mean_squared_error(emp_var, real_var)\n",
    "            })"
   ]
  },
  {
   "cell_type": "markdown",
   "metadata": {},
   "source": [
    "# Results"
   ]
  },
  {
   "cell_type": "code",
   "execution_count": null,
   "metadata": {},
   "outputs": [],
   "source": [
    "results = s[STORE_TABLE_NAME].df\n",
    "results.head()"
   ]
  },
  {
   "cell_type": "markdown",
   "metadata": {},
   "source": [
    "# Plot Results"
   ]
  },
  {
   "cell_type": "code",
   "execution_count": null,
   "metadata": {},
   "outputs": [],
   "source": [
    "# plot results for regression parameter MSE\n",
    "sns.lineplot(data=results, x='c', y='pred_param_mse', label='delphi', color='blue')\n",
    "ax = sns.lineplot(data=results, x='c', y='emp_param_mse', label='ols', color='red')\n",
    "ax.set(xlabel='Truncation Parameter C', ylabel='MSE')\n",
    "plt.show()"
   ]
  },
  {
   "cell_type": "code",
   "execution_count": null,
   "metadata": {},
   "outputs": [],
   "source": [
    "# plot results for regression noise variance MSE\n",
    "sns.lineplot(data=results, x='c', y='pred_var_mse', label='delphi', color=\"blue\")\n",
    "ax = sns.lineplot(data=results, x='c', y='emp_var_mse', label='ols', color=\"red\")\n",
    "ax.set(xlabel='Truncation Parameter C', ylabel='MSE')\n",
    "ax.set(ylim=(0, .05))\n",
    "plt.show()"
   ]
  },
  {
   "cell_type": "code",
   "execution_count": null,
   "metadata": {},
   "outputs": [],
   "source": []
  }
 ],
 "metadata": {
  "kernelspec": {
   "display_name": "trunc-reg",
   "language": "python",
   "name": "trunc-reg"
  },
  "language_info": {
   "codemirror_mode": {
    "name": "ipython",
    "version": 3
   },
   "file_extension": ".py",
   "mimetype": "text/x-python",
   "name": "python",
   "nbconvert_exporter": "python",
   "pygments_lexer": "ipython3",
   "version": "3.6.9"
  }
 },
 "nbformat": 4,
 "nbformat_minor": 2
}
