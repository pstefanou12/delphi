{
 "cells": [
  {
   "cell_type": "code",
   "execution_count": 1,
   "metadata": {},
   "outputs": [],
   "source": [
    "import sys \n",
    "sys.path.append('..')\n",
    "from cox.utils import Parameters\n",
    "from cox.store import Store\n",
    "from cox.readers import CollectionReader\n",
    "import pandas as pd\n",
    "import matplotlib.pyplot as plt\n",
    "import seaborn as sns\n",
    "import math\n",
    "import itertools\n",
    "import numpy as np\n",
    "from scipy.spatial.distance import mahalanobis\n",
    "import torch as ch\n",
    "from torch import Tensor\n",
    "from torch.distributions.multivariate_normal import MultivariateNormal\n",
    "from torch.utils.data import DataLoader\n",
    "from delphi.stats.unknown_truncation_normal import truncated_normal\n",
    "from delphi.utils.datasets import TruncatedNormalDataset\n",
    "from delphi.utils.constants import COSINE\n",
    "from delphi.oracle import Left, Interval, Unknown_Gaussian\n",
    "import datetime"
   ]
  },
  {
   "cell_type": "markdown",
   "metadata": {},
   "source": [
    "# Helpers"
   ]
  },
  {
   "cell_type": "code",
   "execution_count": 2,
   "metadata": {},
   "outputs": [
    {
     "name": "stdout",
     "output_type": "stream",
     "text": [
      "Logging in: /home/pstefanou/truncated/3aba34e5-edd7-47d9-8163-a989a8962cde\n"
     ]
    },
    {
     "data": {
      "text/plain": [
       "<cox.store.Table at 0x7f2125b0d630>"
      ]
     },
     "execution_count": 2,
     "metadata": {},
     "output_type": "execute_result"
    }
   ],
   "source": [
    "STORE_PATH = '/home/pstefanou/truncated'\n",
    "STORE_TABLE_NAME = 'truncated_df'\n",
    "\n",
    "store = Store(STORE_PATH)\n",
    "\n",
    "store.add_table(STORE_TABLE_NAME, { \n",
    "    'delphi_kl': float,\n",
    "    'naive_kl': float,\n",
    "    'alpha': float, \n",
    "    'C': float,\n",
    "})"
   ]
  },
  {
   "cell_type": "markdown",
   "metadata": {},
   "source": [
    "## Default Experiment Parameters"
   ]
  },
  {
   "cell_type": "code",
   "execution_count": 3,
   "metadata": {},
   "outputs": [],
   "source": [
    "# regression parameters\n",
    "NUM_SAMPLES, DIMS = 10000, 1\n",
    "\n",
    "# procedure hyperparameters\n",
    "args = Parameters({ \n",
    "    'epochs': 25,\n",
    "    'num_workers': 0, \n",
    "    'batch_size': 10,\n",
    "    'bias': True,\n",
    "    'clamp': True, \n",
    "    'radius': 5.0, \n",
    "    'lr': 1e-1,\n",
    "    'shuffle': False, \n",
    "    'tol': 1e-2,\n",
    "    'degree': 100, \n",
    "    'custom_lr_multiplier': COSINE,\n",
    "})"
   ]
  },
  {
   "cell_type": "code",
   "execution_count": 4,
   "metadata": {
    "scrolled": true
   },
   "outputs": [
    {
     "data": {
      "application/vnd.jupyter.widget-view+json": {
       "model_id": "5793f6971f99412193003b1e2fb3bb93",
       "version_major": 2,
       "version_minor": 0
      },
      "text/plain": [
       "HBox(children=(HTML(value=''), FloatProgress(value=0.0, max=313.0), HTML(value='')))"
      ]
     },
     "metadata": {},
     "output_type": "display_data"
    },
    {
     "name": "stdout",
     "output_type": "stream",
     "text": [
      "\n",
      "avg score: \n",
      " [-0.0033, -0.0023]\n"
     ]
    }
   ],
   "source": [
    "# perform each experiment a total of 10 times\n",
    "for iter_ in range(10): \n",
    "    for C in [.5, -1, -.5, 0, .5]:\n",
    "        # truncation oracle\n",
    "        PREDICATE = Left(Tensor([C]))\n",
    "        # sample from a univariate gaussian distribution\n",
    "        M =MultivariateNormal(ch.zeros(DIMS), ch.eye(DIMS))\n",
    "        samples = M.sample(ch.Size([NUM_SAMPLES]))\n",
    "        S = samples[PREDICATE(samples).nonzero(as_tuple=False).flatten()]\n",
    "        args.__setattr__('alpha', Tensor([S.size(0) / NUM_SAMPLES]))\n",
    "        args.__setattr__('phi', Unknown_Gaussian(S.mean(0), S.var(0).unsqueeze(0), S, args.degree))\n",
    "\n",
    "        # truncated normal distribution\n",
    "        data = TruncatedNormalDataset(S)\n",
    "        S = DataLoader(data, batch_size=args.batch_size, num_workers=args.num_workers, shuffle=args.shuffle)\n",
    "        truncated = truncated_normal(phi=args.phi, alpha=args.alpha, bias=args.bias, epochs=args.epochs, \n",
    "                                                      lr=args.lr, tol=args.tol, custom_lr_multiplier=args.custom_lr_multiplier)\n",
    "        results = truncated.fit(S)\n",
    "\n",
    "        # metrics\n",
    "        delphi_kl = ch.distributions.kl.kl_divergence(M, results)\n",
    "        naive_kl = ch.distributions.kl.kl_divergence(M, MultivariateNormal(S.dataset.loc, S.dataset.var.unsqueeze(0)))\n",
    "\n",
    "        store[STORE_TABLE_NAME].append_row({ \n",
    "            'delphi_kl': delphi_kl,\n",
    "            'naive_kl': naive_kl,\n",
    "            'alpha': float(args.alpha),\n",
    "            'C': C,\n",
    "        })\n",
    "\n",
    "# close current store\n",
    "store.close()"
   ]
  },
  {
   "cell_type": "markdown",
   "metadata": {},
   "source": [
    "# Results"
   ]
  },
  {
   "cell_type": "code",
   "execution_count": 5,
   "metadata": {},
   "outputs": [
    {
     "name": "stderr",
     "output_type": "stream",
     "text": [
      "100%|██████████| 12/12 [00:00<00:00, 381.78it/s]"
     ]
    },
    {
     "name": "stdout",
     "output_type": "stream",
     "text": [
      "Warning: exp_id 145fcb27-64a7-4e9f-b0d2-13a1b36da28a has no table 'truncated_df'. Skipping.\n",
      "Warning: exp_id 48396325-9375-49ed-9532-51f822edc0db has no table 'truncated_df'. Skipping.\n",
      "Warning: exp_id 47039a0d-8152-42ab-8418-d1c462e35dc9 has no table 'truncated_df'. Skipping.\n",
      "Warning: exp_id 18c380c2-6210-4d63-9caa-007614b5ffa7 has no table 'truncated_df'. Skipping.\n",
      "Warning: exp_id 788a8b4d-2ab5-4cc0-9ae8-acaefe9eda84 has no table 'truncated_df'. Skipping.\n",
      "Warning: exp_id 17dce04f-3871-4dbd-bef0-b3a2b69b118f has no table 'truncated_df'. Skipping.\n",
      "Warning: exp_id 4c3f41af-e4b9-4d08-bc98-532e6f05af4c has no table 'truncated_df'. Skipping.\n"
     ]
    },
    {
     "name": "stderr",
     "output_type": "stream",
     "text": [
      "\n"
     ]
    },
    {
     "data": {
      "text/html": [
       "<div>\n",
       "<style scoped>\n",
       "    .dataframe tbody tr th:only-of-type {\n",
       "        vertical-align: middle;\n",
       "    }\n",
       "\n",
       "    .dataframe tbody tr th {\n",
       "        vertical-align: top;\n",
       "    }\n",
       "\n",
       "    .dataframe thead th {\n",
       "        text-align: right;\n",
       "    }\n",
       "</style>\n",
       "<table border=\"1\" class=\"dataframe\">\n",
       "  <thead>\n",
       "    <tr style=\"text-align: right;\">\n",
       "      <th></th>\n",
       "      <th>delphi_kl</th>\n",
       "      <th>naive_kl</th>\n",
       "      <th>alpha</th>\n",
       "      <th>C</th>\n",
       "      <th>exp_id</th>\n",
       "    </tr>\n",
       "  </thead>\n",
       "  <tbody>\n",
       "    <tr>\n",
       "      <th>0</th>\n",
       "      <td>1.574871</td>\n",
       "      <td>3.064851</td>\n",
       "      <td>0.3100</td>\n",
       "      <td>0.5</td>\n",
       "      <td>c84fadee-2923-4135-8a9d-561f392f7702</td>\n",
       "    </tr>\n",
       "    <tr>\n",
       "      <th>1</th>\n",
       "      <td>0.069799</td>\n",
       "      <td>0.126323</td>\n",
       "      <td>0.8420</td>\n",
       "      <td>-1.0</td>\n",
       "      <td>c84fadee-2923-4135-8a9d-561f392f7702</td>\n",
       "    </tr>\n",
       "    <tr>\n",
       "      <th>2</th>\n",
       "      <td>0.246365</td>\n",
       "      <td>0.456318</td>\n",
       "      <td>0.6817</td>\n",
       "      <td>-0.5</td>\n",
       "      <td>c84fadee-2923-4135-8a9d-561f392f7702</td>\n",
       "    </tr>\n",
       "    <tr>\n",
       "      <th>0</th>\n",
       "      <td>1.826601</td>\n",
       "      <td>3.171499</td>\n",
       "      <td>0.3081</td>\n",
       "      <td>0.5</td>\n",
       "      <td>3aba34e5-edd7-47d9-8163-a989a8962cde</td>\n",
       "    </tr>\n",
       "    <tr>\n",
       "      <th>1</th>\n",
       "      <td>0.096751</td>\n",
       "      <td>0.138289</td>\n",
       "      <td>0.8409</td>\n",
       "      <td>-1.0</td>\n",
       "      <td>3aba34e5-edd7-47d9-8163-a989a8962cde</td>\n",
       "    </tr>\n",
       "  </tbody>\n",
       "</table>\n",
       "</div>"
      ],
      "text/plain": [
       "   delphi_kl  naive_kl   alpha    C                                exp_id\n",
       "0   1.574871  3.064851  0.3100  0.5  c84fadee-2923-4135-8a9d-561f392f7702\n",
       "1   0.069799  0.126323  0.8420 -1.0  c84fadee-2923-4135-8a9d-561f392f7702\n",
       "2   0.246365  0.456318  0.6817 -0.5  c84fadee-2923-4135-8a9d-561f392f7702\n",
       "0   1.826601  3.171499  0.3081  0.5  3aba34e5-edd7-47d9-8163-a989a8962cde\n",
       "1   0.096751  0.138289  0.8409 -1.0  3aba34e5-edd7-47d9-8163-a989a8962cde"
      ]
     },
     "execution_count": 5,
     "metadata": {},
     "output_type": "execute_result"
    }
   ],
   "source": [
    "reader = CollectionReader(STORE_PATH)\n",
    "results = reader.df(STORE_TABLE_NAME)\n",
    "reader.close() # close reader\n",
    "results.head()"
   ]
  },
  {
   "cell_type": "markdown",
   "metadata": {},
   "source": [
    "# All Trials"
   ]
  },
  {
   "cell_type": "code",
   "execution_count": 6,
   "metadata": {},
   "outputs": [
    {
     "name": "stdout",
     "output_type": "stream",
     "text": [
      "all trials:\n"
     ]
    },
    {
     "data": {
      "image/png": "[encoded data removed]",
      "text/plain": [
       "<Figure size 432x288 with 1 Axes>"
      ]
     },
     "metadata": {
      "needs_background": "light"
     },
     "output_type": "display_data"
    }
   ],
   "source": [
    "print(\"all trials:\")\n",
    "\n",
    "# variance vs param mse\n",
    "sns.lineplot(data=results, x='C', y='delphi_kl', label='delphi', color='blue')\n",
    "ax = sns.lineplot(data=results, x='C', y='naive_kl', label='naive', color='red')\n",
    "ax.set(xlabel='Truncation Parameter C', ylabel='KL Div with Mu*, Sigma*')\n",
    "plt.show()"
   ]
  },
  {
   "cell_type": "code",
   "execution_count": 29,
   "metadata": {},
   "outputs": [
    {
     "data": {
      "text/plain": [
       "(array([156., 152., 125., 126., 135., 126., 112., 123., 123., 110., 111.,\n",
       "        105.,  91., 107.,  96., 102.,  72.,  89.,  81.,  79.,  59.,  53.,\n",
       "         42.,  49.,  60.,  47.,  31.,  52.,  41.,  36.,  49.,  37.,  34.,\n",
       "         28.,  35.,  22.,  21.,  13.,  20.,   9.,  23.,  21.,  16.,  21.,\n",
       "          9.,  16.,   9.,   4.,  10.,   8.,   9.,   8.,   7.,   7.,   2.,\n",
       "          3.,   4.,   1.,   1.,   3.,   1.,   1.,   1.,   0.,   1.,   0.,\n",
       "          1.,   0.,   1.,   1.,   0.,   1.,   0.,   0.,   1.]),\n",
       " array([0.50008863, 0.5411928 , 0.582297  , 0.6234012 , 0.6645054 ,\n",
       "        0.7056096 , 0.7467138 , 0.787818  , 0.8289222 , 0.8700264 ,\n",
       "        0.9111306 , 0.9522348 , 0.993339  , 1.0344433 , 1.0755475 ,\n",
       "        1.1166517 , 1.1577559 , 1.19886   , 1.2399642 , 1.2810684 ,\n",
       "        1.3221726 , 1.3632768 , 1.404381  , 1.4454852 , 1.4865894 ,\n",
       "        1.5276936 , 1.5687978 , 1.609902  , 1.6510062 , 1.6921104 ,\n",
       "        1.7332146 , 1.7743188 , 1.815423  , 1.8565272 , 1.8976314 ,\n",
       "        1.9387356 , 1.9798398 , 2.020944  , 2.0620482 , 2.1031525 ,\n",
       "        2.1442566 , 2.185361  , 2.226465  , 2.2675693 , 2.3086734 ,\n",
       "        2.3497777 , 2.3908818 , 2.431986  , 2.4730902 , 2.5141945 ,\n",
       "        2.5552986 , 2.596403  , 2.637507  , 2.6786113 , 2.7197154 ,\n",
       "        2.7608197 , 2.8019238 , 2.843028  , 2.8841321 , 2.9252365 ,\n",
       "        2.9663405 , 3.0074449 , 3.048549  , 3.0896533 , 3.1307573 ,\n",
       "        3.1718616 , 3.2129657 , 3.25407   , 3.2951741 , 3.3362784 ,\n",
       "        3.3773825 , 3.4184868 , 3.459591  , 3.5006952 , 3.5417993 ,\n",
       "        3.5829036 ], dtype=float32),\n",
       " <a list of 75 Patch objects>)"
      ]
     },
     "execution_count": 29,
     "metadata": {},
     "output_type": "execute_result"
    },
    {
     "data": {
      "image/png": "[encoded data removed]",
      "text/plain": [
       "<Figure size 432x288 with 1 Axes>"
      ]
     },
     "metadata": {
      "needs_background": "light"
     },
     "output_type": "display_data"
    }
   ],
   "source": [
    "plt.hist(samples[PREDICATE(samples).nonzero(as_tuple=False).flatten()].T, bins=75)"
   ]
  },
  {
   "cell_type": "code",
   "execution_count": 7,
   "metadata": {},
   "outputs": [
    {
     "ename": "TypeError",
     "evalue": "float() argument must be a string or a number, not '_LocIndexer'",
     "output_type": "error",
     "traceback": [
      "\u001b[0;31m---------------------------------------------------------------------------\u001b[0m",
      "\u001b[0;31mTypeError\u001b[0m                                 Traceback (most recent call last)",
      "\u001b[0;32m<ipython-input-7-b028afd4bd55>\u001b[0m in \u001b[0;36m<module>\u001b[0;34m\u001b[0m\n\u001b[1;32m     10\u001b[0m \u001b[0mplt\u001b[0m\u001b[0;34m.\u001b[0m\u001b[0mplot\u001b[0m\u001b[0;34m(\u001b[0m\u001b[0mx\u001b[0m\u001b[0;34m,\u001b[0m \u001b[0mstats\u001b[0m\u001b[0;34m.\u001b[0m\u001b[0mnorm\u001b[0m\u001b[0;34m.\u001b[0m\u001b[0mpdf\u001b[0m\u001b[0;34m(\u001b[0m\u001b[0mx\u001b[0m\u001b[0;34m,\u001b[0m \u001b[0mmu\u001b[0m\u001b[0;34m,\u001b[0m \u001b[0msigma\u001b[0m\u001b[0;34m)\u001b[0m\u001b[0;34m,\u001b[0m \u001b[0mlabel\u001b[0m\u001b[0;34m=\u001b[0m\u001b[0;34m\"actual\"\u001b[0m\u001b[0;34m)\u001b[0m\u001b[0;34m\u001b[0m\u001b[0;34m\u001b[0m\u001b[0m\n\u001b[1;32m     11\u001b[0m \u001b[0;34m\u001b[0m\u001b[0m\n\u001b[0;32m---> 12\u001b[0;31m \u001b[0mpred_mu\u001b[0m \u001b[0;34m=\u001b[0m \u001b[0mfloat\u001b[0m\u001b[0;34m(\u001b[0m\u001b[0mresults\u001b[0m\u001b[0;34m.\u001b[0m\u001b[0mloc\u001b[0m\u001b[0;34m)\u001b[0m\u001b[0;34m\u001b[0m\u001b[0;34m\u001b[0m\u001b[0m\n\u001b[0m\u001b[1;32m     13\u001b[0m \u001b[0mpred_cov\u001b[0m \u001b[0;34m=\u001b[0m \u001b[0mfloat\u001b[0m\u001b[0;34m(\u001b[0m\u001b[0mresults\u001b[0m\u001b[0;34m.\u001b[0m\u001b[0mcovariance_matrix\u001b[0m\u001b[0;34m)\u001b[0m\u001b[0;34m\u001b[0m\u001b[0;34m\u001b[0m\u001b[0m\n\u001b[1;32m     14\u001b[0m \u001b[0mplt\u001b[0m\u001b[0;34m.\u001b[0m\u001b[0mplot\u001b[0m\u001b[0;34m(\u001b[0m\u001b[0mx\u001b[0m\u001b[0;34m,\u001b[0m \u001b[0mstats\u001b[0m\u001b[0;34m.\u001b[0m\u001b[0mnorm\u001b[0m\u001b[0;34m.\u001b[0m\u001b[0mpdf\u001b[0m\u001b[0;34m(\u001b[0m\u001b[0mx\u001b[0m\u001b[0;34m,\u001b[0m \u001b[0mpred_mu\u001b[0m\u001b[0;34m,\u001b[0m \u001b[0mpred_cov\u001b[0m\u001b[0;34m)\u001b[0m\u001b[0;34m,\u001b[0m \u001b[0mlabel\u001b[0m\u001b[0;34m=\u001b[0m\u001b[0;34m\"pred\"\u001b[0m\u001b[0;34m)\u001b[0m\u001b[0;34m\u001b[0m\u001b[0;34m\u001b[0m\u001b[0m\n",
      "\u001b[0;31mTypeError\u001b[0m: float() argument must be a string or a number, not '_LocIndexer'"
     ]
    },
    {
     "data": {
      "image/png": "[encoded data removed]",
      "text/plain": [
       "<Figure size 432x288 with 1 Axes>"
      ]
     },
     "metadata": {
      "needs_background": "light"
     },
     "output_type": "display_data"
    }
   ],
   "source": [
    "import matplotlib.pyplot as plt\n",
    "import numpy as np\n",
    "import scipy.stats as stats\n",
    "import math\n",
    "\n",
    "mu = 0\n",
    "variance = 1\n",
    "sigma = math.sqrt(variance)\n",
    "x = np.linspace(mu - 3*sigma, mu + 3*sigma, 100)\n",
    "plt.plot(x, stats.norm.pdf(x, mu, sigma), label=\"actual\")\n",
    "\n",
    "pred_mu = float(results.loc)\n",
    "pred_cov = float(results.covariance_matrix)\n",
    "plt.plot(x, stats.norm.pdf(x, pred_mu, pred_cov), label=\"pred\")\n",
    "\n",
    "emp_mu = float(S.dataset.loc)\n",
    "emp_cov = float(S.dataset.var)\n",
    "plt.plot(x, stats.norm.pdf(x, emp_mu, emp_cov), label=\"emp\")\n",
    "\n",
    "\n",
    "plt.legend()\n",
    "\n",
    "plt.show()"
   ]
  },
  {
   "cell_type": "code",
   "execution_count": 6,
   "metadata": {},
   "outputs": [
    {
     "name": "stdout",
     "output_type": "stream",
     "text": [
      "None\n"
     ]
    }
   ],
   "source": [
    "print(args.custom_lr_multiplier)"
   ]
  },
  {
   "cell_type": "code",
   "execution_count": null,
   "metadata": {},
   "outputs": [],
   "source": []
  }
 ],
 "metadata": {
  "kernelspec": {
   "display_name": "env",
   "language": "python",
   "name": "env"
  },
  "language_info": {
   "codemirror_mode": {
    "name": "ipython",
    "version": 3
   },
   "file_extension": ".py",
   "mimetype": "text/x-python",
   "name": "python",
   "nbconvert_exporter": "python",
   "pygments_lexer": "ipython3",
   "version": "3.6.9"
  }
 },
 "nbformat": 4,
 "nbformat_minor": 2
}
