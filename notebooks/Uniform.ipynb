{
 "cells": [
  {
   "cell_type": "code",
   "execution_count": 1,
   "metadata": {},
   "outputs": [],
   "source": [
    "import sys \n",
    "sys.path.append('..')\n",
    "from cox.utils import Parameters\n",
    "from cox.store import Store\n",
    "from cox.readers import CollectionReader\n",
    "from sklearn.metrics import mean_squared_error\n",
    "from sklearn.linear_model import LinearRegression\n",
    "import pandas as pd\n",
    "import matplotlib.pyplot as plt\n",
    "import seaborn as sns\n",
    "import math\n",
    "import numpy as np\n",
    "import torch as ch\n",
    "from torch import Tensor\n",
    "from torch.distributions.normal import Normal\n",
    "from torch.distributions.multivariate_normal import MultivariateNormal\n",
    "from torch.distributions import Uniform\n",
    "from torch.utils.data import DataLoader\n",
    "from delphi.stats.truncated_regression import truncated_regression\n",
    "from delphi.utils.datasets import TruncatedRegressionDataset\n",
    "from delphi.oracle import Left, Interval\n",
    "import datetime"
   ]
  },
  {
   "cell_type": "code",
   "execution_count": 2,
   "metadata": {},
   "outputs": [
    {
     "name": "stdout",
     "output_type": "stream",
     "text": [
      "Logging in: /home/pstefanou/Uniform/cbfee529-9314-4040-8360-2e97f14a46ea\n"
     ]
    },
    {
     "data": {
      "text/plain": [
       "<cox.store.Table at 0x7f13c4bb0208>"
      ]
     },
     "execution_count": 2,
     "metadata": {},
     "output_type": "execute_result"
    }
   ],
   "source": [
    "STORE_PATH = '/home/pstefanou/Uniform'\n",
    "STORE_TABLE_NAME = 'uniform'\n",
    "\n",
    "store = Store(STORE_PATH)\n",
    "\n",
    "store.add_table(STORE_TABLE_NAME, { \n",
    "    'known_param_mse': float,\n",
    "    'unknown_param_mse': float, \n",
    "    'ols_param_mse': float,\n",
    "    'alpha': float, \n",
    "    'var': float, \n",
    "})"
   ]
  },
  {
   "cell_type": "code",
   "execution_count": null,
   "metadata": {
    "scrolled": true
   },
   "outputs": [
    {
     "data": {
      "application/vnd.jupyter.widget-view+json": {
       "model_id": "6a105e9cdb244c3c932c88fe5ce2c85f",
       "version_major": 2,
       "version_minor": 0
      },
      "text/plain": [
       "HBox(children=(HTML(value=''), FloatProgress(value=0.0, max=432.0), HTML(value='')))"
      ]
     },
     "metadata": {},
     "output_type": "display_data"
    },
    {
     "name": "stdout",
     "output_type": "stream",
     "text": [
      "\n"
     ]
    },
    {
     "data": {
      "application/vnd.jupyter.widget-view+json": {
       "model_id": "803e4dcbd1f044829f914a0eaf3c7289",
       "version_major": 2,
       "version_minor": 0
      },
      "text/plain": [
       "HBox(children=(HTML(value=''), FloatProgress(value=0.0, max=432.0), HTML(value='')))"
      ]
     },
     "metadata": {},
     "output_type": "display_data"
    },
    {
     "name": "stdout",
     "output_type": "stream",
     "text": [
      "\n"
     ]
    },
    {
     "data": {
      "application/vnd.jupyter.widget-view+json": {
       "model_id": "bd35ed1534dd488795fb4270b7ef0e43",
       "version_major": 2,
       "version_minor": 0
      },
      "text/plain": [
       "HBox(children=(HTML(value=''), FloatProgress(value=0.0, max=284.0), HTML(value='')))"
      ]
     },
     "metadata": {},
     "output_type": "display_data"
    },
    {
     "name": "stdout",
     "output_type": "stream",
     "text": [
      "\n"
     ]
    },
    {
     "data": {
      "application/vnd.jupyter.widget-view+json": {
       "model_id": "e3a467e72d0d4f9ab14eec5e324da80f",
       "version_major": 2,
       "version_minor": 0
      },
      "text/plain": [
       "HBox(children=(HTML(value=''), FloatProgress(value=0.0, max=284.0), HTML(value='')))"
      ]
     },
     "metadata": {},
     "output_type": "display_data"
    },
    {
     "name": "stdout",
     "output_type": "stream",
     "text": [
      "\n"
     ]
    },
    {
     "data": {
      "application/vnd.jupyter.widget-view+json": {
       "model_id": "b35d1b3c97b5420ab0f20ddefcb8a050",
       "version_major": 2,
       "version_minor": 0
      },
      "text/plain": [
       "HBox(children=(HTML(value=''), FloatProgress(value=0.0, max=284.0), HTML(value='')))"
      ]
     },
     "metadata": {},
     "output_type": "display_data"
    },
    {
     "name": "stdout",
     "output_type": "stream",
     "text": [
      "\n"
     ]
    },
    {
     "data": {
      "application/vnd.jupyter.widget-view+json": {
       "model_id": "5914c87cac0d4e2b8cb398fc4b733ead",
       "version_major": 2,
       "version_minor": 0
      },
      "text/plain": [
       "HBox(children=(HTML(value=''), FloatProgress(value=0.0, max=284.0), HTML(value='')))"
      ]
     },
     "metadata": {},
     "output_type": "display_data"
    },
    {
     "name": "stdout",
     "output_type": "stream",
     "text": [
      "\n"
     ]
    },
    {
     "data": {
      "application/vnd.jupyter.widget-view+json": {
       "model_id": "f03926b759d4487e9191dd6cf9c49243",
       "version_major": 2,
       "version_minor": 0
      },
      "text/plain": [
       "HBox(children=(HTML(value=''), FloatProgress(value=0.0, max=348.0), HTML(value='')))"
      ]
     },
     "metadata": {},
     "output_type": "display_data"
    },
    {
     "name": "stdout",
     "output_type": "stream",
     "text": [
      "\n"
     ]
    },
    {
     "data": {
      "application/vnd.jupyter.widget-view+json": {
       "model_id": "3d93985b013f4f939b0664ffa449de78",
       "version_major": 2,
       "version_minor": 0
      },
      "text/plain": [
       "HBox(children=(HTML(value=''), FloatProgress(value=0.0, max=348.0), HTML(value='')))"
      ]
     },
     "metadata": {},
     "output_type": "display_data"
    },
    {
     "name": "stdout",
     "output_type": "stream",
     "text": [
      "\n"
     ]
    },
    {
     "data": {
      "application/vnd.jupyter.widget-view+json": {
       "model_id": "5f497194a99f4e7787b9d48624be42e6",
       "version_major": 2,
       "version_minor": 0
      },
      "text/plain": [
       "HBox(children=(HTML(value=''), FloatProgress(value=0.0, max=348.0), HTML(value='')))"
      ]
     },
     "metadata": {},
     "output_type": "display_data"
    },
    {
     "name": "stdout",
     "output_type": "stream",
     "text": [
      "\n"
     ]
    },
    {
     "data": {
      "application/vnd.jupyter.widget-view+json": {
       "model_id": "12ba72cdf0704e4293620eec88103d1f",
       "version_major": 2,
       "version_minor": 0
      },
      "text/plain": [
       "HBox(children=(HTML(value=''), FloatProgress(value=0.0, max=462.0), HTML(value='')))"
      ]
     },
     "metadata": {},
     "output_type": "display_data"
    }
   ],
   "source": [
    "# regression parameters\n",
    "num_samples, dims = 10000, 10\n",
    "phi = Left(Tensor([1.0]))\n",
    "\n",
    "# perform each experiment a total of 10 times\n",
    "for iter_ in range(10):        \n",
    "    for var in range(1, 20):\n",
    "        # generate random uniform weights\n",
    "        W = Uniform(-1, 1).sample(ch.Size([dims, 1]))\n",
    "        W0 = Uniform(-1, 1).sample(ch.Size([1, 1]))\n",
    "\n",
    "        # generate data\n",
    "        X = MultivariateNormal(ch.zeros(dims), ch.eye(dims)/dims).sample(ch.Size([num_samples]))\n",
    "        y = X.mm(W) + W0 + Normal(ch.zeros(1), ch.sqrt(Tensor([var]))).sample(ch.Size([num_samples]))\n",
    "        # truncate\n",
    "        indices = phi(y).nonzero(as_tuple=False).flatten()\n",
    "        y_trunc, x_trunc = y[indices], X[indices]\n",
    "\n",
    "        # empirical linear regression\n",
    "        reg = LinearRegression() \n",
    "        reg.fit(x_trunc, y_trunc)\n",
    "        emp_var = ch.var(ch.from_numpy(reg.predict(x_trunc)) - y_trunc, dim=0).unsqueeze(0)\n",
    "\n",
    "        # experiment parameters\n",
    "        args = Parameters({ \n",
    "            'alpha': Tensor([y_trunc.size(0)/num_samples]), \n",
    "            'phi': phi, \n",
    "            'epochs': 25,\n",
    "            'num_workers': 0, \n",
    "            'batch_size': 10,\n",
    "            'bias': True,\n",
    "            'num_samples': 100,\n",
    "            'clamp': True, \n",
    "            'radius': 5.0, \n",
    "            'var_lr': 1e-2,\n",
    "            'var': emp_var,\n",
    "            'lr': 1e-1,\n",
    "            'shuffle': True\n",
    "        })\n",
    "\n",
    "\n",
    "        # truncated linear regression with known noise variance\n",
    "        # dataset \n",
    "        data = TruncatedRegressionDataset(x_trunc, y_trunc, bias=args.bias, unknown=False)\n",
    "        S = DataLoader(data, batch_size=args.batch_size, num_workers=args.num_workers, shuffle=args.shuffle)\n",
    "        trunc_reg = truncated_regression(phi=phi, alpha=args.alpha, epochs=args.epochs, lr=args.lr, num_samples=args.num_samples, var=args.var, device='cuda')\n",
    "        results = trunc_reg.fit(S)\n",
    "        w_, w0_ = results.weight.detach(), results.bias.detach()\n",
    "\n",
    "        # truncated linear regression with unknown noise variance\n",
    "        # dataset \n",
    "        data = TruncatedRegressionDataset(x_trunc, y_trunc, bias=args.bias, unknown=True)\n",
    "        S = DataLoader(data, batch_size=args.batch_size, num_workers=args.num_workers, shuffle=args.shuffle)\n",
    "        trunc_reg = truncated_regression(phi=phi, alpha=args.alpha, epochs=args.epochs, var_lr=args.var_lr, lr=args.lr, num_samples=args.num_samples, device='cuda')\n",
    "\n",
    "        results = trunc_reg.fit(S)\n",
    "        var_ = results.lambda_.inverse().detach()\n",
    "        w, w0 = results.v.detach()*var_, results.bias.detach()*var_\n",
    "\n",
    "        # calculate metrics \n",
    "        real_params = ch.cat([W, W0])\n",
    "        ols_params = ch.cat([data.w, data.w0.unsqueeze(0)])\n",
    "        unknown_params = ch.cat([w, w0])\n",
    "        known_params = ch.cat([w_.t(), w0_.unsqueeze(0)])\n",
    "        unknown_param_mse = mean_squared_error(unknown_params.cpu(), real_params)\n",
    "        ols_param_mse = mean_squared_error(ols_params, real_params)\n",
    "        known_param_mse = mean_squared_error(known_params.cpu(), real_params)\n",
    "\n",
    "        store[STORE_TABLE_NAME].append_row({ \n",
    "            'known_param_mse': known_param_mse,\n",
    "            'unknown_param_mse': unknown_param_mse,\n",
    "            'ols_param_mse': ols_param_mse,\n",
    "            'alpha': float(args.alpha.flatten()),\n",
    "            'var': float(var), \n",
    "        })\n",
    "\n",
    "# close current store\n",
    "store.close()"
   ]
  },
  {
   "cell_type": "code",
   "execution_count": 22,
   "metadata": {},
   "outputs": [
    {
     "name": "stderr",
     "output_type": "stream",
     "text": [
      "100%|██████████| 2/2 [00:00<00:00, 181.20it/s]\n"
     ]
    },
    {
     "data": {
      "text/html": [
       "<div>\n",
       "<style scoped>\n",
       "    .dataframe tbody tr th:only-of-type {\n",
       "        vertical-align: middle;\n",
       "    }\n",
       "\n",
       "    .dataframe tbody tr th {\n",
       "        vertical-align: top;\n",
       "    }\n",
       "\n",
       "    .dataframe thead th {\n",
       "        text-align: right;\n",
       "    }\n",
       "</style>\n",
       "<table border=\"1\" class=\"dataframe\">\n",
       "  <thead>\n",
       "    <tr style=\"text-align: right;\">\n",
       "      <th></th>\n",
       "      <th>known_param_mse</th>\n",
       "      <th>unknown_param_mse</th>\n",
       "      <th>ols_param_mse</th>\n",
       "      <th>alpha</th>\n",
       "      <th>var</th>\n",
       "      <th>exp_id</th>\n",
       "    </tr>\n",
       "  </thead>\n",
       "  <tbody>\n",
       "    <tr>\n",
       "      <th>0</th>\n",
       "      <td>0.184183</td>\n",
       "      <td>0.102977</td>\n",
       "      <td>0.329537</td>\n",
       "      <td>0.2577</td>\n",
       "      <td>1.0</td>\n",
       "      <td>34ad26eb-0618-4c14-9307-47613f6a5126</td>\n",
       "    </tr>\n",
       "    <tr>\n",
       "      <th>1</th>\n",
       "      <td>0.353665</td>\n",
       "      <td>0.035715</td>\n",
       "      <td>0.542736</td>\n",
       "      <td>0.2387</td>\n",
       "      <td>2.0</td>\n",
       "      <td>34ad26eb-0618-4c14-9307-47613f6a5126</td>\n",
       "    </tr>\n",
       "    <tr>\n",
       "      <th>2</th>\n",
       "      <td>0.482086</td>\n",
       "      <td>0.047598</td>\n",
       "      <td>0.700822</td>\n",
       "      <td>0.2545</td>\n",
       "      <td>3.0</td>\n",
       "      <td>34ad26eb-0618-4c14-9307-47613f6a5126</td>\n",
       "    </tr>\n",
       "    <tr>\n",
       "      <th>3</th>\n",
       "      <td>0.214897</td>\n",
       "      <td>0.028814</td>\n",
       "      <td>0.386757</td>\n",
       "      <td>0.4983</td>\n",
       "      <td>4.0</td>\n",
       "      <td>34ad26eb-0618-4c14-9307-47613f6a5126</td>\n",
       "    </tr>\n",
       "    <tr>\n",
       "      <th>4</th>\n",
       "      <td>0.258791</td>\n",
       "      <td>0.028869</td>\n",
       "      <td>0.444712</td>\n",
       "      <td>0.4918</td>\n",
       "      <td>5.0</td>\n",
       "      <td>34ad26eb-0618-4c14-9307-47613f6a5126</td>\n",
       "    </tr>\n",
       "  </tbody>\n",
       "</table>\n",
       "</div>"
      ],
      "text/plain": [
       "   known_param_mse  unknown_param_mse  ols_param_mse   alpha  var  \\\n",
       "0         0.184183           0.102977       0.329537  0.2577  1.0   \n",
       "1         0.353665           0.035715       0.542736  0.2387  2.0   \n",
       "2         0.482086           0.047598       0.700822  0.2545  3.0   \n",
       "3         0.214897           0.028814       0.386757  0.4983  4.0   \n",
       "4         0.258791           0.028869       0.444712  0.4918  5.0   \n",
       "\n",
       "                                 exp_id  \n",
       "0  34ad26eb-0618-4c14-9307-47613f6a5126  \n",
       "1  34ad26eb-0618-4c14-9307-47613f6a5126  \n",
       "2  34ad26eb-0618-4c14-9307-47613f6a5126  \n",
       "3  34ad26eb-0618-4c14-9307-47613f6a5126  \n",
       "4  34ad26eb-0618-4c14-9307-47613f6a5126  "
      ]
     },
     "execution_count": 22,
     "metadata": {},
     "output_type": "execute_result"
    }
   ],
   "source": [
    "reader = CollectionReader(STORE_PATH)\n",
    "results = reader.df(STORE_TABLE_NAME)\n",
    "results.head()"
   ]
  },
  {
   "cell_type": "code",
   "execution_count": 23,
   "metadata": {},
   "outputs": [],
   "source": [
    "known, unknown, ols = results[['known_param_mse', 'var']], results[['unknown_param_mse', 'var']], results[['ols_param_mse', 'var']]"
   ]
  },
  {
   "cell_type": "code",
   "execution_count": 24,
   "metadata": {},
   "outputs": [
    {
     "data": {
      "image/png": "[encoded data removed]",
      "text/plain": [
       "<Figure size 432x288 with 1 Axes>"
      ]
     },
     "metadata": {
      "needs_background": "light"
     },
     "output_type": "display_data"
    }
   ],
   "source": [
    "# plot results for regression parameter MSE\n",
    "sns.lineplot(data=unknown, x='var', y='unknown_param_mse', label='unknown', color='blue')\n",
    "sns.lineplot(data=known, x='var', y='known_param_mse', label='known', color='purple')\n",
    "ax = sns.lineplot(data=ols, x='var', y='ols_param_mse', label='ols', color='red')\n",
    "ax.set(xlabel='Noise Variance', ylabel='Squared Error')\n",
    "plt.show()\n",
    "# close reader\n",
    "reader.close()"
   ]
  },
  {
   "cell_type": "code",
   "execution_count": 21,
   "metadata": {},
   "outputs": [],
   "source": [
    "store.close()"
   ]
  },
  {
   "cell_type": "code",
   "execution_count": 20,
   "metadata": {},
   "outputs": [
    {
     "name": "stdout",
     "output_type": "stream",
     "text": [
      "hi\n"
     ]
    }
   ],
   "source": [
    "print(\"hi\")"
   ]
  },
  {
   "cell_type": "code",
   "execution_count": 25,
   "metadata": {},
   "outputs": [],
   "source": [
    "from tqdm.notebook import trange, tqdm"
   ]
  },
  {
   "cell_type": "code",
   "execution_count": 30,
   "metadata": {},
   "outputs": [
    {
     "name": "stderr",
     "output_type": "stream",
     "text": [
      "100%|██████████| 10/10 [00:00<00:00, 23899.17it/s]\n"
     ]
    }
   ],
   "source": [
    "x = 0\n",
    "for i in trange(10): \n",
    "    x += 1 "
   ]
  },
  {
   "cell_type": "code",
   "execution_count": 31,
   "metadata": {},
   "outputs": [],
   "source": [
    "from tqdm.autonotebook import tqdm, trange"
   ]
  },
  {
   "cell_type": "code",
   "execution_count": null,
   "metadata": {},
   "outputs": [],
   "source": []
  }
 ],
 "metadata": {
  "kernelspec": {
   "display_name": "env",
   "language": "python",
   "name": "env"
  },
  "language_info": {
   "codemirror_mode": {
    "name": "ipython",
    "version": 3
   },
   "file_extension": ".py",
   "mimetype": "text/x-python",
   "name": "python",
   "nbconvert_exporter": "python",
   "pygments_lexer": "ipython3",
   "version": "3.6.9"
  }
 },
 "nbformat": 4,
 "nbformat_minor": 2
}
