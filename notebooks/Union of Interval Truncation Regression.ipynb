{
 "cells": [
  {
   "cell_type": "markdown",
   "metadata": {},
   "source": [
    "# Union of Interval Truncation Experiment\n",
    "Code for the truncated regression experiment, with a union of interval truncation sets."
   ]
  },
  {
   "cell_type": "code",
   "execution_count": 1,
   "metadata": {},
   "outputs": [],
   "source": [
    "import sys \n",
    "sys.path.append('..')\n",
    "import cox\n",
    "from cox.utils import Parameters\n",
    "import numpy as np\n",
    "import pandas as pd\n",
    "import torch as ch\n",
    "from torch import Tensor\n",
    "from torch.distributions import Uniform\n",
    "from torch.distributions.normal import Normal\n",
    "from torch.utils.data import DataLoader\n",
    "%matplotlib inline\n",
    "import matplotlib.pyplot as plt\n",
    "from delphi.stats.truncated_regression import truncated_regression\n",
    "from delphi.utils.datasets import TruncatedRegressionDataset\n",
    "from delphi.oracle import IntervalUnion"
   ]
  },
  {
   "cell_type": "markdown",
   "metadata": {},
   "source": [
    "# Experiment Set Up\n",
    "Syntheize data, then truncate based off of a union of interval membership oracle."
   ]
  },
  {
   "cell_type": "code",
   "execution_count": 2,
   "metadata": {},
   "outputs": [
    {
     "name": "stdout",
     "output_type": "stream",
     "text": [
      "Emprical Noise Variance: \n",
      "tensor([[1.1532]])\n",
      "Empirical Weights: \n",
      "tensor([[0.5089],\n",
      "        [0.4853]])\n",
      "Empirical Bias: \n",
      "tensor([[1.1198]])\n"
     ]
    }
   ],
   "source": [
    "# number of samples to sample from the uniform distribution\n",
    "num_samples, dims = 5000, 2\n",
    "\n",
    "# regression parameters\n",
    "noise_var = Tensor([2.0])\n",
    "W = ch.ones(dims, 1)\n",
    "W0 = ch.ones(1, 1)\n",
    "X = Uniform(ch.full((dims,), -5.0), ch.full((dims,), 5.0)).sample(ch.Size([num_samples]))\n",
    "\n",
    "# synthesize data\n",
    "y = X.mm(W) + W0 + Normal(ch.zeros(1), ch.sqrt(noise_var)).sample(ch.Size([num_samples]))\n",
    "# initialize membership oracle\n",
    "phi = IntervalUnion([(Tensor([-1.0]), Tensor([-.5])), (Tensor([0.0]), Tensor([0.5])), (Tensor([2.0]), Tensor([3.0]))])\n",
    "# truncate\n",
    "indices = phi(y).nonzero(as_tuple=False).flatten()\n",
    "y_trunc, x_trunc = y[indices], X[indices]\n",
    "\n",
    "# experiment parameters\n",
    "args = Parameters({ \n",
    "    'alpha': Tensor([y_trunc.size(0)/num_samples]), \n",
    "    'phi': phi, \n",
    "    'epochs': 100,\n",
    "    'num_workers': 1, \n",
    "    'batch_size': 100,\n",
    "    'bias': True,\n",
    "    'num_samples': 1000,\n",
    "    'clamp': True, \n",
    "    'radius': 2.0, \n",
    "    'var_lr': 1e-1,\n",
    "    'lr': 1e-1,\n",
    "    'shuffle': True,\n",
    "})\n",
    "\n",
    "# intialize dataset  \n",
    "data = TruncatedRegressionDataset(x_trunc, y_trunc, bias=args.bias, unknown=True)\n",
    "S = DataLoader(data, batch_size=args.batch_size, shuffle=args.)\n",
    "\n",
    "print(\"Emprical Noise Variance: \\n{}\".format(data.lambda_.inverse()))\n",
    "print(\"Empirical Weights: \\n{}\".format(data.lambda_.inverse()*data.v))\n",
    "print(\"Empirical Bias: \\n{}\".format(data.lambda_.inverse()*data.v0))"
   ]
  },
  {
   "cell_type": "markdown",
   "metadata": {},
   "source": [
    "# Run Procedure"
   ]
  },
  {
   "cell_type": "code",
   "execution_count": 3,
   "metadata": {
    "scrolled": true
   },
   "outputs": [
    {
     "name": "stderr",
     "output_type": "stream",
     "text": [
      "Epoch:1 | Loss 0.6087 | Train1 0.060 | Train5 -1.000 | Reg term: 0.0 ||:   0%|          | 0/9 [00:00<?, ?it/s]/home/pstefanou/env/lib/python3.6/site-packages/torch/autograd/__init__.py:132: UserWarning: grad and param do not obey the gradient layout contract. This is not an error, but may impair performance.\n",
      "grad.sizes() = [2, 1], strides() = [1, 2]\n",
      "param.sizes() = [2, 1], strides() = [1, 1] (Triggered internally at  /pytorch/torch/csrc/autograd/functions/accumulate_grad.h:170.)\n",
      "  allow_unreachable=True)  # allow_unreachable flag\n",
      "Epoch:1 | Loss 0.6521 | Train1 0.054 | Train5 -1.000 | Reg term: 0.0 ||:  44%|████▍     | 4/9 [00:00<00:00, 37.31it/s]"
     ]
    },
    {
     "name": "stdout",
     "output_type": "stream",
     "text": [
      "lambda grad: tensor([[-0.1982]])\n",
      "v grad: tensor([[-0.0144],\n",
      "        [ 0.2166]])\n",
      "lambda grad: tensor([[0.3071]])\n",
      "v grad: tensor([[ 0.0082],\n",
      "        [-0.1215]])\n",
      "lambda grad: tensor([[0.3016]])\n",
      "v grad: tensor([[-0.3175],\n",
      "        [ 0.2423]])\n",
      "lambda grad: tensor([[0.0551]])\n",
      "v grad: tensor([[ 0.5497],\n",
      "        [-0.9454]])\n",
      "lambda grad: tensor([[0.1649]])\n",
      "v grad: tensor([[ 0.5063],\n",
      "        [-0.7342]])\n",
      "lambda grad: tensor([[-0.1101]])\n",
      "v grad: tensor([[-2.0779],\n",
      "        [ 1.7389]])\n",
      "lambda grad: tensor([[-0.1366]])\n",
      "v grad: tensor([[ 0.5406],\n",
      "        [-0.5642]])\n"
     ]
    },
    {
     "name": "stderr",
     "output_type": "stream",
     "text": [
      "Epoch:1 | Loss 0.6768 | Train1 0.059 | Train5 -1.000 | Reg term: 0.0 ||: 100%|██████████| 9/9 [00:00<00:00, 42.06it/s]\n",
      "  0%|          | 0/9 [00:00<?, ?it/s]"
     ]
    },
    {
     "name": "stdout",
     "output_type": "stream",
     "text": [
      "lambda grad: tensor([[-0.1455]])\n",
      "v grad: tensor([[ 0.1665],\n",
      "        [-0.0606]])\n",
      "lambda grad: tensor([[-0.2485]])\n",
      "v grad: tensor([[0.3547],\n",
      "        [0.0476]])\n"
     ]
    },
    {
     "name": "stderr",
     "output_type": "stream",
     "text": [
      "Epoch:2 | Loss 0.9030 | Train1 0.109 | Train5 -1.000 | Reg term: 0.0 ||:  56%|█████▌    | 5/9 [00:00<00:00, 41.08it/s]"
     ]
    },
    {
     "name": "stdout",
     "output_type": "stream",
     "text": [
      "lambda grad: tensor([[-0.2595]])\n",
      "v grad: tensor([[0.0991],\n",
      "        [0.0628]])\n",
      "lambda grad: tensor([[0.0421]])\n",
      "v grad: tensor([[ 0.1758],\n",
      "        [-0.1879]])\n",
      "lambda grad: tensor([[0.0424]])\n",
      "v grad: tensor([[ 0.7950],\n",
      "        [-0.4826]])\n",
      "lambda grad: tensor([[0.0765]])\n",
      "v grad: tensor([[-0.7756],\n",
      "        [ 0.7952]])\n",
      "lambda grad: tensor([[0.4337]])\n",
      "v grad: tensor([[-1.9889],\n",
      "        [ 1.9747]])\n",
      "lambda grad: tensor([[0.0928]])\n",
      "v grad: tensor([[ 2.0118],\n",
      "        [-1.6683]])\n",
      "lambda grad: tensor([[-0.0779]])\n",
      "v grad: tensor([[ 1.7233],\n",
      "        [-1.8124]])\n"
     ]
    },
    {
     "name": "stderr",
     "output_type": "stream",
     "text": [
      "Epoch:2 | Loss 0.8618 | Train1 0.099 | Train5 -1.000 | Reg term: 0.0 ||: 100%|██████████| 9/9 [00:00<00:00, 44.42it/s]\n",
      "  0%|          | 0/9 [00:00<?, ?it/s]"
     ]
    },
    {
     "name": "stdout",
     "output_type": "stream",
     "text": [
      "lambda grad: tensor([[0.2085]])\n",
      "v grad: tensor([[-0.5406],\n",
      "        [ 0.3649]])\n",
      "lambda grad: tensor([[0.4215]])\n",
      "v grad: tensor([[-0.6062],\n",
      "        [ 0.6536]])\n"
     ]
    },
    {
     "name": "stderr",
     "output_type": "stream",
     "text": [
      "Epoch:3 | Loss 1.7916 | Train1 0.097 | Train5 -1.000 | Reg term: 0.0 ||:  56%|█████▌    | 5/9 [00:00<00:00, 41.06it/s]"
     ]
    },
    {
     "name": "stdout",
     "output_type": "stream",
     "text": [
      "lambda grad: tensor([[0.2329]])\n",
      "v grad: tensor([[-3.5460],\n",
      "        [ 2.6964]])\n",
      "lambda grad: tensor([[-0.3064]])\n",
      "v grad: tensor([[ 1.0758],\n",
      "        [-0.9854]])\n",
      "lambda grad: tensor([[-3.2888]])\n",
      "v grad: tensor([[ 4.6253],\n",
      "        [-3.6803]])\n",
      "lambda grad: tensor([[-0.0510]])\n",
      "v grad: tensor([[-0.1579],\n",
      "        [ 0.4017]])\n",
      "lambda grad: tensor([[-0.1138]])\n",
      "v grad: tensor([[-2.7220],\n",
      "        [ 2.3116]])\n",
      "lambda grad: tensor([[0.2382]])\n",
      "v grad: tensor([[-2.5768],\n",
      "        [ 1.6331]])\n",
      "lambda grad: tensor([[0.6472]])\n",
      "v grad: tensor([[-0.8895],\n",
      "        [ 0.8800]])\n"
     ]
    },
    {
     "name": "stderr",
     "output_type": "stream",
     "text": [
      "Epoch:3 | Loss 1.7156 | Train1 0.098 | Train5 -1.000 | Reg term: 0.0 ||: 100%|██████████| 9/9 [00:00<00:00, 44.58it/s]\n",
      "  0%|          | 0/9 [00:00<?, ?it/s]"
     ]
    },
    {
     "name": "stdout",
     "output_type": "stream",
     "text": [
      "lambda grad: tensor([[0.5512]])\n",
      "v grad: tensor([[ 1.9068],\n",
      "        [-3.1506]])\n",
      "lambda grad: tensor([[0.7008]])\n",
      "v grad: tensor([[ 1.6906],\n",
      "        [-1.8865]])\n"
     ]
    },
    {
     "name": "stderr",
     "output_type": "stream",
     "text": [
      "Epoch:4 | Loss 1.2711 | Train1 0.097 | Train5 -1.000 | Reg term: 0.0 ||:  56%|█████▌    | 5/9 [00:00<00:00, 42.47it/s]"
     ]
    },
    {
     "name": "stdout",
     "output_type": "stream",
     "text": [
      "lambda grad: tensor([[0.4277]])\n",
      "v grad: tensor([[ 1.6621],\n",
      "        [-2.1813]])\n",
      "lambda grad: tensor([[0.2624]])\n",
      "v grad: tensor([[-0.6104],\n",
      "        [ 1.0523]])\n",
      "lambda grad: tensor([[0.2100]])\n",
      "v grad: tensor([[-2.0193],\n",
      "        [ 1.8935]])\n",
      "lambda grad: tensor([[-0.4655]])\n",
      "v grad: tensor([[-2.5766],\n",
      "        [ 2.6473]])\n",
      "lambda grad: tensor([[-0.2203]])\n",
      "v grad: tensor([[-0.3011],\n",
      "        [ 0.7529]])\n",
      "lambda grad: tensor([[-0.9912]])\n",
      "v grad: tensor([[ 1.6393],\n",
      "        [-1.0408]])\n",
      "lambda grad: tensor([[-0.9495]])\n",
      "v grad: tensor([[ 2.5232],\n",
      "        [-2.7871]])\n"
     ]
    },
    {
     "name": "stderr",
     "output_type": "stream",
     "text": [
      "Epoch:4 | Loss 1.2194 | Train1 0.090 | Train5 -1.000 | Reg term: 0.0 ||: 100%|██████████| 9/9 [00:00<00:00, 42.73it/s]\n",
      "  0%|          | 0/9 [00:00<?, ?it/s]"
     ]
    },
    {
     "name": "stdout",
     "output_type": "stream",
     "text": [
      "lambda grad: tensor([[-0.3939]])\n",
      "v grad: tensor([[ 1.5546],\n",
      "        [-1.2533]])\n",
      "lambda grad: tensor([[-0.0177]])\n",
      "v grad: tensor([[-0.0902],\n",
      "        [ 0.5044]])\n"
     ]
    },
    {
     "name": "stderr",
     "output_type": "stream",
     "text": [
      "Epoch:5 | Loss 0.7587 | Train1 0.077 | Train5 -1.000 | Reg term: 0.0 ||:  56%|█████▌    | 5/9 [00:00<00:00, 40.58it/s]"
     ]
    },
    {
     "name": "stdout",
     "output_type": "stream",
     "text": [
      "lambda grad: tensor([[0.2605]])\n",
      "v grad: tensor([[-2.6687],\n",
      "        [ 2.6213]])\n",
      "lambda grad: tensor([[0.2153]])\n",
      "v grad: tensor([[-1.8269],\n",
      "        [ 1.7378]])\n",
      "lambda grad: tensor([[0.3375]])\n",
      "v grad: tensor([[ 0.8579],\n",
      "        [-0.6033]])\n",
      "lambda grad: tensor([[0.5143]])\n",
      "v grad: tensor([[ 1.7844],\n",
      "        [-2.0346]])\n",
      "lambda grad: tensor([[0.1049]])\n",
      "v grad: tensor([[ 0.9443],\n",
      "        [-1.1279]])\n",
      "lambda grad: tensor([[0.6782]])\n",
      "v grad: tensor([[-0.1097],\n",
      "        [-0.0124]])\n",
      "lambda grad: tensor([[0.2353]])\n",
      "v grad: tensor([[-1.5915],\n",
      "        [ 1.8409]])\n"
     ]
    },
    {
     "name": "stderr",
     "output_type": "stream",
     "text": [
      "Epoch:5 | Loss 0.7409 | Train1 0.071 | Train5 -1.000 | Reg term: 0.0 ||: 100%|██████████| 9/9 [00:00<00:00, 43.98it/s]\n",
      "  0%|          | 0/9 [00:00<?, ?it/s]"
     ]
    },
    {
     "name": "stdout",
     "output_type": "stream",
     "text": [
      "lambda grad: tensor([[0.2074]])\n",
      "v grad: tensor([[-0.8853],\n",
      "        [ 1.0811]])\n",
      "lambda grad: tensor([[-0.0739]])\n",
      "v grad: tensor([[-0.1063],\n",
      "        [ 0.0367]])\n"
     ]
    },
    {
     "name": "stderr",
     "output_type": "stream",
     "text": [
      "Epoch:6 | Loss 0.7082 | Train1 0.046 | Train5 -1.000 | Reg term: 0.0 ||:  56%|█████▌    | 5/9 [00:00<00:00, 41.83it/s]"
     ]
    },
    {
     "name": "stdout",
     "output_type": "stream",
     "text": [
      "lambda grad: tensor([[-0.1751]])\n",
      "v grad: tensor([[ 1.0861],\n",
      "        [-1.2204]])\n",
      "lambda grad: tensor([[-0.2149]])\n",
      "v grad: tensor([[ 1.1546],\n",
      "        [-1.1216]])\n",
      "lambda grad: tensor([[-0.2338]])\n",
      "v grad: tensor([[ 0.0404],\n",
      "        [-0.1046]])\n",
      "lambda grad: tensor([[-0.0813]])\n",
      "v grad: tensor([[-0.3314],\n",
      "        [ 0.2615]])\n",
      "lambda grad: tensor([[-0.3820]])\n",
      "v grad: tensor([[-1.0135],\n",
      "        [ 1.3645]])\n",
      "lambda grad: tensor([[-0.2304]])\n",
      "v grad: tensor([[-0.0037],\n",
      "        [ 0.2143]])\n",
      "lambda grad: tensor([[0.2097]])\n",
      "v grad: tensor([[-0.1583],\n",
      "        [ 0.2598]])\n"
     ]
    },
    {
     "name": "stderr",
     "output_type": "stream",
     "text": [
      "Epoch:6 | Loss 0.6930 | Train1 0.048 | Train5 -1.000 | Reg term: 0.0 ||: 100%|██████████| 9/9 [00:00<00:00, 44.95it/s]\n",
      "  0%|          | 0/9 [00:00<?, ?it/s]"
     ]
    },
    {
     "name": "stdout",
     "output_type": "stream",
     "text": [
      "lambda grad: tensor([[0.0204]])\n",
      "v grad: tensor([[ 1.0343],\n",
      "        [-1.0097]])\n",
      "lambda grad: tensor([[0.2937]])\n",
      "v grad: tensor([[ 0.1445],\n",
      "        [-0.0170]])\n"
     ]
    },
    {
     "name": "stderr",
     "output_type": "stream",
     "text": [
      "Epoch:7 | Loss 0.6323 | Train1 0.057 | Train5 -1.000 | Reg term: 0.0 ||:  56%|█████▌    | 5/9 [00:00<00:00, 40.50it/s]"
     ]
    },
    {
     "name": "stdout",
     "output_type": "stream",
     "text": [
      "lambda grad: tensor([[0.5181]])\n",
      "v grad: tensor([[ 0.3853],\n",
      "        [-0.5272]])\n",
      "lambda grad: tensor([[0.1799]])\n",
      "v grad: tensor([[-0.0109],\n",
      "        [ 0.1145]])\n",
      "lambda grad: tensor([[0.0363]])\n",
      "v grad: tensor([[-1.8124],\n",
      "        [ 1.3593]])\n",
      "lambda grad: tensor([[-0.2949]])\n",
      "v grad: tensor([[-0.1902],\n",
      "        [ 0.2695]])\n",
      "lambda grad: tensor([[0.3558]])\n",
      "v grad: tensor([[ 0.8208],\n",
      "        [-0.8055]])\n",
      "lambda grad: tensor([[-0.0145]])\n",
      "v grad: tensor([[ 0.7815],\n",
      "        [-1.0072]])\n",
      "lambda grad: tensor([[0.3192]])\n",
      "v grad: tensor([[ 0.3704],\n",
      "        [-0.7335]])\n"
     ]
    },
    {
     "name": "stderr",
     "output_type": "stream",
     "text": [
      "Epoch:7 | Loss 0.6528 | Train1 0.058 | Train5 -1.000 | Reg term: 0.0 ||: 100%|██████████| 9/9 [00:00<00:00, 43.92it/s]\n",
      "  0%|          | 0/9 [00:00<?, ?it/s]"
     ]
    },
    {
     "name": "stdout",
     "output_type": "stream",
     "text": [
      "lambda grad: tensor([[-0.0054]])\n",
      "v grad: tensor([[-1.0480],\n",
      "        [ 1.2684]])\n",
      "lambda grad: tensor([[0.4600]])\n",
      "v grad: tensor([[0.0407],\n",
      "        [0.1854]])\n"
     ]
    },
    {
     "name": "stderr",
     "output_type": "stream",
     "text": [
      "Epoch:8 | Loss 0.7926 | Train1 0.084 | Train5 -1.000 | Reg term: 0.0 ||:  56%|█████▌    | 5/9 [00:00<00:00, 41.86it/s]"
     ]
    },
    {
     "name": "stdout",
     "output_type": "stream",
     "text": [
      "lambda grad: tensor([[-0.5951]])\n",
      "v grad: tensor([[-0.4116],\n",
      "        [ 0.6960]])\n",
      "lambda grad: tensor([[-0.5734]])\n",
      "v grad: tensor([[0.3581],\n",
      "        [0.0688]])\n",
      "lambda grad: tensor([[-0.1964]])\n",
      "v grad: tensor([[ 0.6893],\n",
      "        [-0.4278]])\n",
      "lambda grad: tensor([[-0.1860]])\n",
      "v grad: tensor([[ 0.5757],\n",
      "        [-0.6880]])\n",
      "lambda grad: tensor([[0.1560]])\n",
      "v grad: tensor([[ 0.0181],\n",
      "        [-0.0070]])\n",
      "lambda grad: tensor([[0.5715]])\n",
      "v grad: tensor([[-1.2584],\n",
      "        [ 0.9281]])\n",
      "lambda grad: tensor([[0.3158]])\n",
      "v grad: tensor([[-0.7508],\n",
      "        [ 0.7255]])\n"
     ]
    },
    {
     "name": "stderr",
     "output_type": "stream",
     "text": [
      "Epoch:8 | Loss 0.7565 | Train1 0.085 | Train5 -1.000 | Reg term: 0.0 ||: 100%|██████████| 9/9 [00:00<00:00, 44.86it/s]\n",
      "  0%|          | 0/9 [00:00<?, ?it/s]"
     ]
    },
    {
     "name": "stdout",
     "output_type": "stream",
     "text": [
      "lambda grad: tensor([[0.0686]])\n",
      "v grad: tensor([[ 0.5026],\n",
      "        [-0.7600]])\n",
      "lambda grad: tensor([[-0.4454]])\n",
      "v grad: tensor([[ 1.0751],\n",
      "        [-1.4507]])\n"
     ]
    },
    {
     "name": "stderr",
     "output_type": "stream",
     "text": [
      "Epoch:9 | Loss 0.8964 | Train1 0.116 | Train5 -1.000 | Reg term: 0.0 ||:  56%|█████▌    | 5/9 [00:00<00:00, 41.92it/s]"
     ]
    },
    {
     "name": "stdout",
     "output_type": "stream",
     "text": [
      "lambda grad: tensor([[0.1180]])\n",
      "v grad: tensor([[-0.3148],\n",
      "        [ 0.2784]])\n",
      "lambda grad: tensor([[0.1774]])\n",
      "v grad: tensor([[ 0.1634],\n",
      "        [-0.1622]])\n",
      "lambda grad: tensor([[0.0861]])\n",
      "v grad: tensor([[-0.9605],\n",
      "        [ 1.2387]])\n",
      "lambda grad: tensor([[-0.1559]])\n",
      "v grad: tensor([[-0.5925],\n",
      "        [ 0.6763]])\n",
      "lambda grad: tensor([[-0.1169]])\n",
      "v grad: tensor([[ 1.1829],\n",
      "        [-0.6428]])\n",
      "lambda grad: tensor([[-0.2002]])\n",
      "v grad: tensor([[ 1.4244],\n",
      "        [-1.4030]])\n",
      "lambda grad: tensor([[0.0008]])\n",
      "v grad: tensor([[-0.7762],\n",
      "        [ 0.5790]])\n"
     ]
    },
    {
     "name": "stderr",
     "output_type": "stream",
     "text": [
      "Epoch:9 | Loss 0.9040 | Train1 0.115 | Train5 -1.000 | Reg term: 0.0 ||: 100%|██████████| 9/9 [00:00<00:00, 44.75it/s]\n",
      "  0%|          | 0/9 [00:00<?, ?it/s]"
     ]
    },
    {
     "name": "stdout",
     "output_type": "stream",
     "text": [
      "lambda grad: tensor([[0.4602]])\n",
      "v grad: tensor([[-0.6782],\n",
      "        [ 0.5369]])\n",
      "lambda grad: tensor([[0.4830]])\n",
      "v grad: tensor([[-1.1572],\n",
      "        [ 0.7353]])\n"
     ]
    },
    {
     "name": "stderr",
     "output_type": "stream",
     "text": [
      "Epoch:10 | Loss 0.9403 | Train1 0.101 | Train5 -1.000 | Reg term: 0.0 ||:  56%|█████▌    | 5/9 [00:00<00:00, 41.68it/s]"
     ]
    },
    {
     "name": "stdout",
     "output_type": "stream",
     "text": [
      "lambda grad: tensor([[-0.3978]])\n",
      "v grad: tensor([[ 0.6006],\n",
      "        [-0.7805]])\n",
      "lambda grad: tensor([[-0.5366]])\n",
      "v grad: tensor([[ 0.6826],\n",
      "        [-0.1288]])\n",
      "lambda grad: tensor([[-0.0253]])\n",
      "v grad: tensor([[ 0.3801],\n",
      "        [-0.3644]])\n",
      "lambda grad: tensor([[-0.0040]])\n",
      "v grad: tensor([[0.2014],\n",
      "        [0.1187]])\n",
      "lambda grad: tensor([[-0.2796]])\n",
      "v grad: tensor([[-0.4323],\n",
      "        [ 0.6827]])\n",
      "lambda grad: tensor([[0.1795]])\n",
      "v grad: tensor([[-0.3042],\n",
      "        [ 0.5769]])\n",
      "lambda grad: tensor([[0.1214]])\n",
      "v grad: tensor([[-0.5247],\n",
      "        [ 0.2120]])\n"
     ]
    },
    {
     "name": "stderr",
     "output_type": "stream",
     "text": [
      "Epoch:10 | Loss 0.9156 | Train1 0.100 | Train5 -1.000 | Reg term: 0.0 ||: 100%|██████████| 9/9 [00:00<00:00, 44.65it/s]\n",
      "  0%|          | 0/9 [00:00<?, ?it/s]"
     ]
    },
    {
     "name": "stdout",
     "output_type": "stream",
     "text": [
      "lambda grad: tensor([[-0.2468]])\n",
      "v grad: tensor([[ 1.0234],\n",
      "        [-1.4956]])\n",
      "lambda grad: tensor([[0.3986]])\n",
      "v grad: tensor([[ 1.0936],\n",
      "        [-1.2204]])\n"
     ]
    },
    {
     "name": "stderr",
     "output_type": "stream",
     "text": [
      "Epoch:11 | Loss 1.1348 | Train1 0.083 | Train5 -1.000 | Reg term: 0.0 ||:  56%|█████▌    | 5/9 [00:00<00:00, 41.67it/s]"
     ]
    },
    {
     "name": "stdout",
     "output_type": "stream",
     "text": [
      "lambda grad: tensor([[0.0686]])\n",
      "v grad: tensor([[-0.9754],\n",
      "        [ 0.8429]])\n",
      "lambda grad: tensor([[0.0251]])\n",
      "v grad: tensor([[-3.0397],\n",
      "        [ 2.6048]])\n",
      "lambda grad: tensor([[0.0462]])\n",
      "v grad: tensor([[ 1.1534],\n",
      "        [-0.9566]])\n",
      "lambda grad: tensor([[-0.1776]])\n",
      "v grad: tensor([[ 1.0416],\n",
      "        [-1.2244]])\n",
      "lambda grad: tensor([[-0.3336]])\n",
      "v grad: tensor([[ 1.8925],\n",
      "        [-1.6349]])\n",
      "lambda grad: tensor([[0.0477]])\n",
      "v grad: tensor([[-0.7136],\n",
      "        [ 0.5838]])\n",
      "lambda grad: tensor([[-0.1711]])\n",
      "v grad: tensor([[-2.0462],\n",
      "        [ 1.7555]])\n"
     ]
    },
    {
     "name": "stderr",
     "output_type": "stream",
     "text": [
      "Epoch:11 | Loss 1.0784 | Train1 0.092 | Train5 -1.000 | Reg term: 0.0 ||: 100%|██████████| 9/9 [00:00<00:00, 44.78it/s]\n",
      "  0%|          | 0/9 [00:00<?, ?it/s]"
     ]
    },
    {
     "name": "stdout",
     "output_type": "stream",
     "text": [
      "lambda grad: tensor([[0.1955]])\n",
      "v grad: tensor([[-1.0967],\n",
      "        [ 0.9926]])\n",
      "lambda grad: tensor([[0.0532]])\n",
      "v grad: tensor([[ 1.3588],\n",
      "        [-1.1779]])\n"
     ]
    },
    {
     "name": "stderr",
     "output_type": "stream",
     "text": [
      "Epoch:12 | Loss 1.0529 | Train1 0.101 | Train5 -1.000 | Reg term: 0.0 ||:  56%|█████▌    | 5/9 [00:00<00:00, 40.46it/s]"
     ]
    },
    {
     "name": "stdout",
     "output_type": "stream",
     "text": [
      "lambda grad: tensor([[-0.0771]])\n",
      "v grad: tensor([[ 1.6884],\n",
      "        [-1.4029]])\n",
      "lambda grad: tensor([[0.3021]])\n",
      "v grad: tensor([[0.1337],\n",
      "        [0.2201]])\n",
      "lambda grad: tensor([[0.0331]])\n",
      "v grad: tensor([[ 0.3350],\n",
      "        [-0.1647]])\n",
      "lambda grad: tensor([[-0.1208]])\n",
      "v grad: tensor([[-2.3405],\n",
      "        [ 2.0178]])\n",
      "lambda grad: tensor([[-0.4566]])\n",
      "v grad: tensor([[-0.7517],\n",
      "        [ 0.8672]])\n",
      "lambda grad: tensor([[-0.2970]])\n",
      "v grad: tensor([[ 0.9145],\n",
      "        [-1.0288]])\n",
      "lambda grad: tensor([[0.4272]])\n",
      "v grad: tensor([[ 1.9948],\n",
      "        [-2.2368]])\n"
     ]
    },
    {
     "name": "stderr",
     "output_type": "stream",
     "text": [
      "Epoch:12 | Loss 0.9778 | Train1 0.104 | Train5 -1.000 | Reg term: 0.0 ||: 100%|██████████| 9/9 [00:00<00:00, 44.59it/s]\n",
      "Epoch:13 | Loss 1.1418 | Train1 0.060 | Train5 -1.000 | Reg term: 0.0 ||:   0%|          | 0/9 [00:00<?, ?it/s]"
     ]
    },
    {
     "name": "stdout",
     "output_type": "stream",
     "text": [
      "lambda grad: tensor([[0.4129]])\n",
      "v grad: tensor([[-0.5096],\n",
      "        [ 0.3018]])\n",
      "lambda grad: tensor([[0.7362]])\n",
      "v grad: tensor([[0.0701],\n",
      "        [0.0461]])\n",
      "lambda grad: tensor([[0.0635]])\n",
      "v grad: tensor([[-1.3470],\n",
      "        [ 1.3103]])\n"
     ]
    },
    {
     "name": "stderr",
     "output_type": "stream",
     "text": [
      "Epoch:13 | Loss 1.1283 | Train1 0.087 | Train5 -1.000 | Reg term: 0.0 ||:  56%|█████▌    | 5/9 [00:00<00:00, 43.35it/s]"
     ]
    },
    {
     "name": "stdout",
     "output_type": "stream",
     "text": [
      "lambda grad: tensor([[-0.5730]])\n",
      "v grad: tensor([[-0.8284],\n",
      "        [ 1.3351]])\n",
      "lambda grad: tensor([[-0.3350]])\n",
      "v grad: tensor([[ 0.1122],\n",
      "        [-0.1620]])\n",
      "lambda grad: tensor([[-0.7302]])\n",
      "v grad: tensor([[ 1.8966],\n",
      "        [-2.0047]])\n",
      "lambda grad: tensor([[-0.2754]])\n",
      "v grad: tensor([[ 1.2864],\n",
      "        [-1.2426]])\n",
      "lambda grad: tensor([[-0.1912]])\n",
      "v grad: tensor([[-1.1574],\n",
      "        [ 1.3149]])\n",
      "lambda grad: tensor([[0.1025]])\n",
      "v grad: tensor([[-1.4548],\n",
      "        [ 1.1248]])\n",
      "lambda grad: tensor([[0.0446]])\n",
      "v grad: tensor([[-0.5189],\n",
      "        [ 0.5490]])\n"
     ]
    },
    {
     "name": "stderr",
     "output_type": "stream",
     "text": [
      "Epoch:13 | Loss 1.1108 | Train1 0.086 | Train5 -1.000 | Reg term: 0.0 ||: 100%|██████████| 9/9 [00:00<00:00, 46.78it/s]\n",
      "Epoch:14 | Loss 0.6621 | Train1 0.110 | Train5 -1.000 | Reg term: 0.0 ||:   0%|          | 0/9 [00:00<?, ?it/s]"
     ]
    },
    {
     "name": "stdout",
     "output_type": "stream",
     "text": [
      "lambda grad: tensor([[-0.1070]])\n",
      "v grad: tensor([[ 0.9665],\n",
      "        [-0.7752]])\n",
      "lambda grad: tensor([[0.2101]])\n",
      "v grad: tensor([[ 1.0852],\n",
      "        [-1.1183]])\n",
      "lambda grad: tensor([[0.5512]])\n",
      "v grad: tensor([[ 0.5443],\n",
      "        [-0.6394]])\n"
     ]
    },
    {
     "name": "stderr",
     "output_type": "stream",
     "text": [
      "Epoch:14 | Loss 0.7667 | Train1 0.086 | Train5 -1.000 | Reg term: 0.0 ||: 100%|██████████| 9/9 [00:00<00:00, 45.82it/s]\n",
      "  0%|          | 0/9 [00:00<?, ?it/s]"
     ]
    },
    {
     "name": "stdout",
     "output_type": "stream",
     "text": [
      "lambda grad: tensor([[0.6185]])\n",
      "v grad: tensor([[-1.1275],\n",
      "        [ 1.1053]])\n",
      "lambda grad: tensor([[0.1679]])\n",
      "v grad: tensor([[-1.0230],\n",
      "        [ 0.9923]])\n",
      "lambda grad: tensor([[0.1258]])\n",
      "v grad: tensor([[-1.2095],\n",
      "        [ 1.0549]])\n",
      "lambda grad: tensor([[0.1996]])\n",
      "v grad: tensor([[ 2.1849],\n",
      "        [-2.3577]])\n",
      "lambda grad: tensor([[0.0884]])\n",
      "v grad: tensor([[ 0.6508],\n",
      "        [-0.7213]])\n",
      "lambda grad: tensor([[-0.1793]])\n",
      "v grad: tensor([[-0.8725],\n",
      "        [ 0.9773]])\n",
      "lambda grad: tensor([[-0.4886]])\n",
      "v grad: tensor([[ 0.1808],\n",
      "        [-0.1728]])\n"
     ]
    },
    {
     "name": "stderr",
     "output_type": "stream",
     "text": [
      "Epoch:15 | Loss 1.1457 | Train1 0.055 | Train5 -1.000 | Reg term: 0.0 ||:   0%|          | 0/9 [00:00<?, ?it/s]"
     ]
    },
    {
     "name": "stdout",
     "output_type": "stream",
     "text": [
      "lambda grad: tensor([[-0.1569]])\n",
      "v grad: tensor([[-1.3545],\n",
      "        [ 1.6072]])\n",
      "lambda grad: tensor([[-0.7108]])\n",
      "v grad: tensor([[ 0.7639],\n",
      "        [-0.0791]])\n"
     ]
    },
    {
     "name": "stderr",
     "output_type": "stream",
     "text": [
      "Epoch:15 | Loss 0.8370 | Train1 0.082 | Train5 -1.000 | Reg term: 0.0 ||: 100%|██████████| 9/9 [00:00<00:00, 44.37it/s]\n",
      "  0%|          | 0/9 [00:00<?, ?it/s]"
     ]
    },
    {
     "name": "stdout",
     "output_type": "stream",
     "text": [
      "lambda grad: tensor([[-0.3046]])\n",
      "v grad: tensor([[ 1.3134],\n",
      "        [-1.6283]])\n",
      "lambda grad: tensor([[0.0322]])\n",
      "v grad: tensor([[ 0.8366],\n",
      "        [-0.5707]])\n",
      "lambda grad: tensor([[0.2062]])\n",
      "v grad: tensor([[-2.1654],\n",
      "        [ 2.0867]])\n",
      "lambda grad: tensor([[0.1267]])\n",
      "v grad: tensor([[-0.4077],\n",
      "        [ 0.6043]])\n",
      "lambda grad: tensor([[0.5712]])\n",
      "v grad: tensor([[ 1.4649],\n",
      "        [-1.9251]])\n",
      "lambda grad: tensor([[0.0819]])\n",
      "v grad: tensor([[ 0.6427],\n",
      "        [-0.7128]])\n",
      "lambda grad: tensor([[0.5579]])\n",
      "v grad: tensor([[-0.0122],\n",
      "        [ 0.5368]])\n",
      "lambda grad: tensor([[0.4646]])\n",
      "v grad: tensor([[-2.6995],\n",
      "        [ 2.1396]])\n"
     ]
    },
    {
     "name": "stderr",
     "output_type": "stream",
     "text": [
      "Epoch:16 | Loss 1.1227 | Train1 0.087 | Train5 -1.000 | Reg term: 0.0 ||:   0%|          | 0/9 [00:00<?, ?it/s]"
     ]
    },
    {
     "name": "stdout",
     "output_type": "stream",
     "text": [
      "lambda grad: tensor([[-0.0319]])\n",
      "v grad: tensor([[-0.2634],\n",
      "        [ 0.3335]])\n",
      "lambda grad: tensor([[-0.1688]])\n",
      "v grad: tensor([[ 2.1488],\n",
      "        [-2.4969]])\n"
     ]
    },
    {
     "name": "stderr",
     "output_type": "stream",
     "text": [
      "Epoch:16 | Loss 1.1645 | Train1 0.084 | Train5 -1.000 | Reg term: 0.0 ||: 100%|██████████| 9/9 [00:00<00:00, 45.60it/s]\n",
      "Epoch:17 | Loss 0.6116 | Train1 0.120 | Train5 -1.000 | Reg term: 0.0 ||:   0%|          | 0/9 [00:00<?, ?it/s]"
     ]
    },
    {
     "name": "stdout",
     "output_type": "stream",
     "text": [
      "lambda grad: tensor([[-0.4214]])\n",
      "v grad: tensor([[ 1.4494],\n",
      "        [-1.2770]])\n",
      "lambda grad: tensor([[-0.6934]])\n",
      "v grad: tensor([[-1.0124],\n",
      "        [ 1.1117]])\n",
      "lambda grad: tensor([[-0.2336]])\n",
      "v grad: tensor([[-2.0648],\n",
      "        [ 1.8833]])\n",
      "lambda grad: tensor([[-0.1951]])\n",
      "v grad: tensor([[-0.6276],\n",
      "        [ 0.5705]])\n",
      "lambda grad: tensor([[0.0009]])\n",
      "v grad: tensor([[ 1.4576],\n",
      "        [-1.9126]])\n",
      "lambda grad: tensor([[-0.0562]])\n",
      "v grad: tensor([[ 1.9327],\n",
      "        [-2.0597]])\n",
      "lambda grad: tensor([[0.1841]])\n",
      "v grad: tensor([[-0.5779],\n",
      "        [ 0.4912]])\n"
     ]
    },
    {
     "name": "stderr",
     "output_type": "stream",
     "text": [
      "Epoch:17 | Loss 0.9184 | Train1 0.107 | Train5 -1.000 | Reg term: 0.0 ||:   0%|          | 0/9 [00:00<?, ?it/s]"
     ]
    },
    {
     "name": "stdout",
     "output_type": "stream",
     "text": [
      "lambda grad: tensor([[-0.1528]])\n",
      "v grad: tensor([[-2.1769],\n",
      "        [ 2.2141]])\n",
      "lambda grad: tensor([[0.6314]])\n",
      "v grad: tensor([[-1.0169],\n",
      "        [ 0.5465]])\n"
     ]
    },
    {
     "name": "stderr",
     "output_type": "stream",
     "text": [
      "Epoch:17 | Loss 0.9814 | Train1 0.114 | Train5 -1.000 | Reg term: 0.0 ||: 100%|██████████| 9/9 [00:00<00:00, 44.40it/s]\n",
      "Epoch:18 | Loss 1.2658 | Train1 0.075 | Train5 -1.000 | Reg term: 0.0 ||:   0%|          | 0/9 [00:00<?, ?it/s]"
     ]
    },
    {
     "name": "stdout",
     "output_type": "stream",
     "text": [
      "lambda grad: tensor([[0.4208]])\n",
      "v grad: tensor([[ 1.2218],\n",
      "        [-1.1622]])\n",
      "lambda grad: tensor([[0.2016]])\n",
      "v grad: tensor([[ 1.2985],\n",
      "        [-1.3493]])\n",
      "lambda grad: tensor([[-0.0741]])\n",
      "v grad: tensor([[-0.6313],\n",
      "        [ 1.2433]])\n",
      "lambda grad: tensor([[0.0336]])\n",
      "v grad: tensor([[0.3022],\n",
      "        [0.3721]])\n",
      "lambda grad: tensor([[-0.1069]])\n",
      "v grad: tensor([[0.2436],\n",
      "        [0.2135]])\n",
      "lambda grad: tensor([[-0.1559]])\n",
      "v grad: tensor([[-0.3171],\n",
      "        [ 0.4219]])\n",
      "lambda grad: tensor([[-0.4423]])\n",
      "v grad: tensor([[ 1.6025],\n",
      "        [-1.7605]])\n",
      "lambda grad: tensor([[-0.0694]])\n",
      "v grad: tensor([[-1.0179],\n",
      "        [ 1.5358]])\n"
     ]
    },
    {
     "name": "stderr",
     "output_type": "stream",
     "text": [
      "Epoch:18 | Loss 1.1216 | Train1 0.072 | Train5 -1.000 | Reg term: 0.0 ||:   0%|          | 0/9 [00:00<?, ?it/s]"
     ]
    },
    {
     "name": "stdout",
     "output_type": "stream",
     "text": [
      "lambda grad: tensor([[-0.3128]])\n",
      "v grad: tensor([[-1.0339],\n",
      "        [ 1.1524]])\n",
      "lambda grad: tensor([[0.0585]])\n",
      "v grad: tensor([[ 1.2422],\n",
      "        [-1.2153]])\n"
     ]
    },
    {
     "name": "stderr",
     "output_type": "stream",
     "text": [
      "Epoch:18 | Loss 0.8270 | Train1 0.077 | Train5 -1.000 | Reg term: 0.0 ||: 100%|██████████| 9/9 [00:00<00:00, 45.44it/s]\n",
      "Epoch:19 | Loss 0.7156 | Train1 0.035 | Train5 -1.000 | Reg term: 0.0 ||:   0%|          | 0/9 [00:00<?, ?it/s]"
     ]
    },
    {
     "name": "stdout",
     "output_type": "stream",
     "text": [
      "lambda grad: tensor([[0.0528]])\n",
      "v grad: tensor([[-0.5929],\n",
      "        [ 0.6279]])\n",
      "lambda grad: tensor([[0.3206]])\n",
      "v grad: tensor([[ 0.3780],\n",
      "        [-0.6417]])\n",
      "lambda grad: tensor([[0.1334]])\n",
      "v grad: tensor([[ 0.5358],\n",
      "        [-0.9430]])\n",
      "lambda grad: tensor([[0.3157]])\n",
      "v grad: tensor([[-0.2664],\n",
      "        [ 0.3555]])\n",
      "lambda grad: tensor([[0.1906]])\n",
      "v grad: tensor([[-0.4360],\n",
      "        [ 0.1160]])\n",
      "lambda grad: tensor([[-0.0292]])\n",
      "v grad: tensor([[-1.3088],\n",
      "        [ 1.3598]])\n",
      "lambda grad: tensor([[-0.1640]])\n",
      "v grad: tensor([[ 0.6062],\n",
      "        [-0.8840]])\n"
     ]
    },
    {
     "name": "stderr",
     "output_type": "stream",
     "text": [
      "Epoch:19 | Loss 0.7301 | Train1 0.045 | Train5 -1.000 | Reg term: 0.0 ||:   0%|          | 0/9 [00:00<?, ?it/s]"
     ]
    },
    {
     "name": "stdout",
     "output_type": "stream",
     "text": [
      "lambda grad: tensor([[-0.2570]])\n",
      "v grad: tensor([[ 0.9574],\n",
      "        [-0.9992]])\n",
      "lambda grad: tensor([[0.0323]])\n",
      "v grad: tensor([[-0.1307],\n",
      "        [-0.0895]])\n"
     ]
    },
    {
     "name": "stderr",
     "output_type": "stream",
     "text": [
      "Epoch:19 | Loss 0.7173 | Train1 0.064 | Train5 -1.000 | Reg term: 0.0 ||: 100%|██████████| 9/9 [00:00<00:00, 44.93it/s]\n",
      "Epoch:20 | Loss 0.7489 | Train1 0.080 | Train5 -1.000 | Reg term: 0.0 ||:   0%|          | 0/9 [00:00<?, ?it/s]"
     ]
    },
    {
     "name": "stdout",
     "output_type": "stream",
     "text": [
      "lambda grad: tensor([[0.2487]])\n",
      "v grad: tensor([[-0.8520],\n",
      "        [ 0.4176]])\n",
      "lambda grad: tensor([[-0.1421]])\n",
      "v grad: tensor([[ 0.1879],\n",
      "        [-0.1347]])\n",
      "lambda grad: tensor([[-0.2129]])\n",
      "v grad: tensor([[0.1442],\n",
      "        [0.0109]])\n",
      "lambda grad: tensor([[-0.2333]])\n",
      "v grad: tensor([[-0.1318],\n",
      "        [ 0.1883]])\n",
      "lambda grad: tensor([[-0.4013]])\n",
      "v grad: tensor([[-1.2198],\n",
      "        [ 1.0316]])\n",
      "lambda grad: tensor([[0.2209]])\n",
      "v grad: tensor([[ 0.9912],\n",
      "        [-0.7991]])\n",
      "lambda grad: tensor([[0.3058]])\n",
      "v grad: tensor([[ 0.9177],\n",
      "        [-1.2635]])\n",
      "lambda grad: tensor([[0.3010]])\n",
      "v grad: tensor([[ 0.3206],\n",
      "        [-0.3315]])\n"
     ]
    },
    {
     "name": "stderr",
     "output_type": "stream",
     "text": [
      "Epoch:20 | Loss 0.8607 | Train1 0.110 | Train5 -1.000 | Reg term: 0.0 ||:   0%|          | 0/9 [00:00<?, ?it/s]"
     ]
    },
    {
     "name": "stdout",
     "output_type": "stream",
     "text": [
      "lambda grad: tensor([[0.0342]])\n",
      "v grad: tensor([[-1.3810],\n",
      "        [ 1.4144]])\n",
      "lambda grad: tensor([[0.1312]])\n",
      "v grad: tensor([[-0.6121],\n",
      "        [ 0.8912]])\n"
     ]
    },
    {
     "name": "stderr",
     "output_type": "stream",
     "text": [
      "Epoch:20 | Loss 0.9330 | Train1 0.121 | Train5 -1.000 | Reg term: 0.0 ||: 100%|██████████| 9/9 [00:00<00:00, 45.60it/s]\n",
      "Epoch:21 | Loss 0.9774 | Train1 0.075 | Train5 -1.000 | Reg term: 0.0 ||:   0%|          | 0/9 [00:00<?, ?it/s]"
     ]
    },
    {
     "name": "stdout",
     "output_type": "stream",
     "text": [
      "lambda grad: tensor([[-0.0228]])\n",
      "v grad: tensor([[ 1.2105],\n",
      "        [-0.7734]])\n",
      "lambda grad: tensor([[0.1561]])\n",
      "v grad: tensor([[-0.0861],\n",
      "        [ 0.5342]])\n",
      "lambda grad: tensor([[-0.0482]])\n",
      "v grad: tensor([[0.1346],\n",
      "        [0.1091]])\n",
      "lambda grad: tensor([[0.0448]])\n",
      "v grad: tensor([[0.2872],\n",
      "        [0.0948]])\n",
      "lambda grad: tensor([[-0.0437]])\n",
      "v grad: tensor([[ 1.0955],\n",
      "        [-0.9947]])\n",
      "lambda grad: tensor([[-0.3996]])\n",
      "v grad: tensor([[0.0358],\n",
      "        [0.2858]])\n",
      "lambda grad: tensor([[-0.2964]])\n",
      "v grad: tensor([[-0.7549],\n",
      "        [ 0.7949]])\n",
      "lambda grad: tensor([[-0.0644]])\n",
      "v grad: tensor([[-1.6062],\n",
      "        [ 1.2895]])\n"
     ]
    },
    {
     "name": "stderr",
     "output_type": "stream",
     "text": [
      "Epoch:21 | Loss 0.9116 | Train1 0.082 | Train5 -1.000 | Reg term: 0.0 ||:  56%|█████▌    | 5/9 [00:00<00:00, 42.37it/s]"
     ]
    },
    {
     "name": "stdout",
     "output_type": "stream",
     "text": [
      "lambda grad: tensor([[-0.0976]])\n",
      "v grad: tensor([[ 0.6872],\n",
      "        [-0.8482]])\n",
      "lambda grad: tensor([[-0.1679]])\n",
      "v grad: tensor([[ 0.8022],\n",
      "        [-1.4004]])\n"
     ]
    },
    {
     "name": "stderr",
     "output_type": "stream",
     "text": [
      "Epoch:21 | Loss 0.8608 | Train1 0.076 | Train5 -1.000 | Reg term: 0.0 ||: 100%|██████████| 9/9 [00:00<00:00, 45.34it/s]\n",
      "Epoch:22 | Loss 0.9959 | Train1 0.102 | Train5 -1.000 | Reg term: 0.0 ||:   0%|          | 0/9 [00:00<?, ?it/s]"
     ]
    },
    {
     "name": "stdout",
     "output_type": "stream",
     "text": [
      "lambda grad: tensor([[0.3048]])\n",
      "v grad: tensor([[ 1.0201],\n",
      "        [-1.4837]])\n",
      "lambda grad: tensor([[0.2912]])\n",
      "v grad: tensor([[-0.2130],\n",
      "        [ 0.0455]])\n",
      "lambda grad: tensor([[0.1443]])\n",
      "v grad: tensor([[-1.9606],\n",
      "        [ 1.7810]])\n",
      "lambda grad: tensor([[0.2090]])\n",
      "v grad: tensor([[-1.6276],\n",
      "        [ 1.3098]])\n",
      "lambda grad: tensor([[-0.0744]])\n",
      "v grad: tensor([[ 0.5935],\n",
      "        [-0.5171]])\n",
      "lambda grad: tensor([[0.0801]])\n",
      "v grad: tensor([[ 0.8791],\n",
      "        [-0.7357]])\n",
      "lambda grad: tensor([[-0.4225]])\n",
      "v grad: tensor([[ 1.1873],\n",
      "        [-1.1814]])\n"
     ]
    },
    {
     "name": "stderr",
     "output_type": "stream",
     "text": [
      "Epoch:22 | Loss 0.9406 | Train1 0.102 | Train5 -1.000 | Reg term: 0.0 ||:  56%|█████▌    | 5/9 [00:00<00:00, 41.55it/s]"
     ]
    },
    {
     "name": "stdout",
     "output_type": "stream",
     "text": [
      "lambda grad: tensor([[-0.0107]])\n",
      "v grad: tensor([[ 0.9106],\n",
      "        [-0.7460]])\n",
      "lambda grad: tensor([[-0.1016]])\n",
      "v grad: tensor([[-0.7463],\n",
      "        [ 0.6237]])\n"
     ]
    },
    {
     "name": "stderr",
     "output_type": "stream",
     "text": [
      "Epoch:22 | Loss 0.9334 | Train1 0.094 | Train5 -1.000 | Reg term: 0.0 ||: 100%|██████████| 9/9 [00:00<00:00, 45.01it/s]\n",
      "Epoch:23 | Loss 1.2803 | Train1 0.090 | Train5 -1.000 | Reg term: 0.0 ||:  44%|████▍     | 4/9 [00:00<00:00, 37.55it/s]"
     ]
    },
    {
     "name": "stdout",
     "output_type": "stream",
     "text": [
      "lambda grad: tensor([[0.0255]])\n",
      "v grad: tensor([[-1.6770],\n",
      "        [ 1.6485]])\n",
      "lambda grad: tensor([[-0.0795]])\n",
      "v grad: tensor([[-0.2007],\n",
      "        [ 0.1368]])\n",
      "lambda grad: tensor([[0.5067]])\n",
      "v grad: tensor([[-0.6383],\n",
      "        [ 0.8785]])\n",
      "lambda grad: tensor([[-0.1947]])\n",
      "v grad: tensor([[ 1.8832],\n",
      "        [-1.9678]])\n",
      "lambda grad: tensor([[-0.1998]])\n",
      "v grad: tensor([[ 1.5166],\n",
      "        [-1.6495]])\n",
      "lambda grad: tensor([[-0.3007]])\n",
      "v grad: tensor([[-0.1314],\n",
      "        [ 0.1460]])\n",
      "lambda grad: tensor([[-0.3166]])\n",
      "v grad: tensor([[-1.3428],\n",
      "        [ 1.9753]])\n"
     ]
    },
    {
     "name": "stderr",
     "output_type": "stream",
     "text": [
      "Epoch:23 | Loss 1.1282 | Train1 0.097 | Train5 -1.000 | Reg term: 0.0 ||:  44%|████▍     | 4/9 [00:00<00:00, 37.55it/s]"
     ]
    },
    {
     "name": "stdout",
     "output_type": "stream",
     "text": [
      "lambda grad: tensor([[-0.0449]])\n",
      "v grad: tensor([[-1.1961],\n",
      "        [ 1.3575]])\n",
      "lambda grad: tensor([[0.1923]])\n",
      "v grad: tensor([[-0.2456],\n",
      "        [ 0.5412]])\n"
     ]
    },
    {
     "name": "stderr",
     "output_type": "stream",
     "text": [
      "Epoch:23 | Loss 1.0572 | Train1 0.102 | Train5 -1.000 | Reg term: 0.0 ||: 100%|██████████| 9/9 [00:00<00:00, 42.57it/s]\n",
      "Epoch:24 | Loss 0.7150 | Train1 0.104 | Train5 -1.000 | Reg term: 0.0 ||:   0%|          | 0/9 [00:00<?, ?it/s]"
     ]
    },
    {
     "name": "stdout",
     "output_type": "stream",
     "text": [
      "lambda grad: tensor([[-0.2193]])\n",
      "v grad: tensor([[ 1.6968],\n",
      "        [-1.5070]])\n",
      "lambda grad: tensor([[0.4172]])\n",
      "v grad: tensor([[ 0.9729],\n",
      "        [-1.3459]])\n",
      "lambda grad: tensor([[0.1137]])\n",
      "v grad: tensor([[-0.1688],\n",
      "        [ 0.0043]])\n",
      "lambda grad: tensor([[0.2475]])\n",
      "v grad: tensor([[-0.5416],\n",
      "        [ 0.6440]])\n",
      "lambda grad: tensor([[0.3608]])\n",
      "v grad: tensor([[-1.4884],\n",
      "        [ 1.2765]])\n",
      "lambda grad: tensor([[0.2868]])\n",
      "v grad: tensor([[-0.0952],\n",
      "        [ 0.1237]])\n",
      "lambda grad: tensor([[0.0042]])\n",
      "v grad: tensor([[ 0.9772],\n",
      "        [-0.9164]])\n",
      "lambda grad: tensor([[-0.0270]])\n",
      "v grad: tensor([[ 0.6694],\n",
      "        [-0.6964]])\n"
     ]
    },
    {
     "name": "stderr",
     "output_type": "stream",
     "text": [
      "Epoch:24 | Loss 0.7414 | Train1 0.095 | Train5 -1.000 | Reg term: 0.0 ||:  56%|█████▌    | 5/9 [00:00<00:00, 42.40it/s]"
     ]
    },
    {
     "name": "stdout",
     "output_type": "stream",
     "text": [
      "lambda grad: tensor([[-0.2546]])\n",
      "v grad: tensor([[ 1.1979],\n",
      "        [-1.2396]])\n",
      "lambda grad: tensor([[-0.5292]])\n"
     ]
    },
    {
     "name": "stderr",
     "output_type": "stream",
     "text": [
      "Epoch:24 | Loss 0.8271 | Train1 0.084 | Train5 -1.000 | Reg term: 0.0 ||: 100%|██████████| 9/9 [00:00<00:00, 45.47it/s]\n",
      "Epoch:25 | Loss 1.1352 | Train1 0.122 | Train5 -1.000 | Reg term: 0.0 ||:  56%|█████▌    | 5/9 [00:00<00:00, 42.49it/s]"
     ]
    },
    {
     "name": "stdout",
     "output_type": "stream",
     "text": [
      "v grad: tensor([[-0.9131],\n",
      "        [ 0.8711]])\n",
      "lambda grad: tensor([[-0.1433]])\n",
      "v grad: tensor([[-1.7994],\n",
      "        [ 1.5329]])\n",
      "lambda grad: tensor([[-0.2439]])\n",
      "v grad: tensor([[-2.3731],\n",
      "        [ 2.4629]])\n",
      "lambda grad: tensor([[-0.2104]])\n",
      "v grad: tensor([[ 2.0407],\n",
      "        [-2.7332]])\n",
      "lambda grad: tensor([[-0.1255]])\n",
      "v grad: tensor([[ 2.3089],\n",
      "        [-2.5378]])\n",
      "lambda grad: tensor([[0.1360]])\n",
      "v grad: tensor([[ 0.7180],\n",
      "        [-0.2996]])\n",
      "lambda grad: tensor([[0.3204]])\n",
      "v grad: tensor([[-1.0610],\n",
      "        [ 1.0999]])\n",
      "lambda grad: tensor([[0.2236]])\n",
      "v grad: tensor([[-1.5221],\n",
      "        [ 1.4155]])\n",
      "lambda grad: tensor([[0.0777]])\n",
      "v grad: tensor([[-0.7362],\n",
      "        [ 1.0667]])\n"
     ]
    },
    {
     "name": "stderr",
     "output_type": "stream",
     "text": [
      "Epoch:25 | Loss 1.0584 | Train1 0.120 | Train5 -1.000 | Reg term: 0.0 ||:  56%|█████▌    | 5/9 [00:00<00:00, 42.49it/s]"
     ]
    },
    {
     "name": "stdout",
     "output_type": "stream",
     "text": [
      "lambda grad: tensor([[0.4709]])\n",
      "v grad: tensor([[ 0.4732],\n",
      "        [-0.3462]])\n"
     ]
    },
    {
     "name": "stderr",
     "output_type": "stream",
     "text": [
      "Epoch:25 | Loss 1.0158 | Train1 0.122 | Train5 -1.000 | Reg term: 0.0 ||: 100%|██████████| 9/9 [00:00<00:00, 45.51it/s]\n",
      "Epoch:26 | Loss 0.8338 | Train1 0.077 | Train5 -1.000 | Reg term: 0.0 ||:  56%|█████▌    | 5/9 [00:00<00:00, 41.22it/s]"
     ]
    },
    {
     "name": "stdout",
     "output_type": "stream",
     "text": [
      "lambda grad: tensor([[0.2178]])\n",
      "v grad: tensor([[ 0.6537],\n",
      "        [-0.5224]])\n",
      "lambda grad: tensor([[0.0244]])\n",
      "v grad: tensor([[0.6740],\n",
      "        [0.0057]])\n",
      "lambda grad: tensor([[-0.2112]])\n",
      "v grad: tensor([[ 1.3600],\n",
      "        [-1.4452]])\n",
      "lambda grad: tensor([[-0.0980]])\n",
      "v grad: tensor([[-0.1125],\n",
      "        [ 0.1166]])\n",
      "lambda grad: tensor([[-0.1560]])\n",
      "v grad: tensor([[-1.4551],\n",
      "        [ 1.3776]])\n",
      "lambda grad: tensor([[-0.1885]])\n",
      "v grad: tensor([[-1.2152],\n",
      "        [ 1.2886]])\n",
      "lambda grad: tensor([[-0.2008]])\n",
      "v grad: tensor([[ 0.2423],\n",
      "        [-0.3314]])\n",
      "lambda grad: tensor([[-0.3038]])\n",
      "v grad: tensor([[ 0.9895],\n",
      "        [-1.3796]])\n"
     ]
    },
    {
     "name": "stderr",
     "output_type": "stream",
     "text": [
      "Epoch:26 | Loss 0.8351 | Train1 0.076 | Train5 -1.000 | Reg term: 0.0 ||:  56%|█████▌    | 5/9 [00:00<00:00, 41.22it/s]"
     ]
    },
    {
     "name": "stdout",
     "output_type": "stream",
     "text": [
      "lambda grad: tensor([[-0.1820]])\n",
      "v grad: tensor([[ 1.2376],\n",
      "        [-1.4876]])\n"
     ]
    },
    {
     "name": "stderr",
     "output_type": "stream",
     "text": [
      "Epoch:26 | Loss 0.8073 | Train1 0.073 | Train5 -1.000 | Reg term: 0.0 ||: 100%|██████████| 9/9 [00:00<00:00, 44.62it/s]\n",
      "Epoch:27 | Loss 0.7722 | Train1 0.087 | Train5 -1.000 | Reg term: 0.0 ||:  56%|█████▌    | 5/9 [00:00<00:00, 42.42it/s]"
     ]
    },
    {
     "name": "stdout",
     "output_type": "stream",
     "text": [
      "lambda grad: tensor([[-0.0860]])\n",
      "v grad: tensor([[-0.6579],\n",
      "        [ 0.7463]])\n",
      "lambda grad: tensor([[0.1280]])\n",
      "v grad: tensor([[-1.0247],\n",
      "        [ 1.1661]])\n",
      "lambda grad: tensor([[0.2863]])\n",
      "v grad: tensor([[-1.0668],\n",
      "        [ 1.0833]])\n",
      "lambda grad: tensor([[0.3551]])\n",
      "v grad: tensor([[ 1.0010],\n",
      "        [-1.2490]])\n",
      "lambda grad: tensor([[0.5372]])\n",
      "v grad: tensor([[ 1.0438],\n",
      "        [-1.2544]])\n",
      "lambda grad: tensor([[0.1965]])\n",
      "v grad: tensor([[ 0.5851],\n",
      "        [-0.5812]])\n",
      "lambda grad: tensor([[-0.1824]])\n",
      "v grad: tensor([[-0.5116],\n",
      "        [ 0.5792]])\n",
      "lambda grad: tensor([[-0.2206]])\n",
      "v grad: tensor([[-2.6410],\n",
      "        [ 2.3101]])\n",
      "lambda grad: tensor([[-0.0525]])\n",
      "v grad: tensor([[-0.1936],\n",
      "        [ 0.1880]])\n"
     ]
    },
    {
     "name": "stderr",
     "output_type": "stream",
     "text": [
      "Epoch:27 | Loss 0.8554 | Train1 0.091 | Train5 -1.000 | Reg term: 0.0 ||:  56%|█████▌    | 5/9 [00:00<00:00, 42.42it/s]"
     ]
    },
    {
     "name": "stdout",
     "output_type": "stream",
     "text": [
      "lambda grad: tensor([[-0.1845]])\n",
      "v grad: tensor([[ 1.3875],\n",
      "        [-1.5655]])\n"
     ]
    },
    {
     "name": "stderr",
     "output_type": "stream",
     "text": [
      "Epoch:27 | Loss 0.8962 | Train1 0.088 | Train5 -1.000 | Reg term: 0.0 ||: 100%|██████████| 9/9 [00:00<00:00, 45.45it/s]\n",
      "Epoch:28 | Loss 0.8463 | Train1 0.100 | Train5 -1.000 | Reg term: 0.0 ||:  56%|█████▌    | 5/9 [00:00<00:00, 41.07it/s]"
     ]
    },
    {
     "name": "stdout",
     "output_type": "stream",
     "text": [
      "lambda grad: tensor([[-0.3027]])\n",
      "v grad: tensor([[ 2.6021],\n",
      "        [-2.2872]])\n",
      "lambda grad: tensor([[0.0110]])\n",
      "v grad: tensor([[-0.8047],\n",
      "        [ 0.8824]])\n",
      "lambda grad: tensor([[-0.0290]])\n",
      "v grad: tensor([[-1.8339],\n",
      "        [ 1.6599]])\n",
      "lambda grad: tensor([[-0.0686]])\n",
      "v grad: tensor([[-0.2668],\n",
      "        [ 0.3021]])\n",
      "lambda grad: tensor([[-0.0434]])\n",
      "v grad: tensor([[0.0911],\n",
      "        [0.1681]])\n",
      "lambda grad: tensor([[0.4387]])\n",
      "v grad: tensor([[ 0.7663],\n",
      "        [-0.3354]])\n",
      "lambda grad: tensor([[0.1839]])\n",
      "v grad: tensor([[ 0.5789],\n",
      "        [-0.4546]])\n",
      "lambda grad: tensor([[-0.1083]])\n",
      "v grad: tensor([[ 0.8133],\n",
      "        [-0.2807]])\n"
     ]
    },
    {
     "name": "stderr",
     "output_type": "stream",
     "text": [
      "Epoch:28 | Loss 0.8204 | Train1 0.101 | Train5 -1.000 | Reg term: 0.0 ||:  56%|█████▌    | 5/9 [00:00<00:00, 41.07it/s]"
     ]
    },
    {
     "name": "stdout",
     "output_type": "stream",
     "text": [
      "lambda grad: tensor([[-0.0309]])\n",
      "v grad: tensor([[-0.1409],\n",
      "        [ 0.3501]])\n"
     ]
    },
    {
     "name": "stderr",
     "output_type": "stream",
     "text": [
      "Epoch:28 | Loss 0.8120 | Train1 0.100 | Train5 -1.000 | Reg term: 0.0 ||: 100%|██████████| 9/9 [00:00<00:00, 44.50it/s]\n",
      "Epoch:29 | Loss 0.7686 | Train1 0.096 | Train5 -1.000 | Reg term: 0.0 ||:  56%|█████▌    | 5/9 [00:00<00:00, 42.59it/s]"
     ]
    },
    {
     "name": "stdout",
     "output_type": "stream",
     "text": [
      "lambda grad: tensor([[-0.1295]])\n",
      "v grad: tensor([[-0.7200],\n",
      "        [ 0.5135]])\n",
      "lambda grad: tensor([[-0.1380]])\n",
      "v grad: tensor([[-1.3693],\n",
      "        [ 1.3204]])\n",
      "lambda grad: tensor([[-0.2780]])\n",
      "v grad: tensor([[ 0.7957],\n",
      "        [-0.6723]])\n",
      "lambda grad: tensor([[0.6156]])\n",
      "v grad: tensor([[ 1.4775],\n",
      "        [-1.7152]])\n",
      "lambda grad: tensor([[-0.0155]])\n",
      "v grad: tensor([[ 0.6677],\n",
      "        [-0.4498]])\n",
      "lambda grad: tensor([[0.0044]])\n",
      "v grad: tensor([[-1.5949],\n",
      "        [ 1.4667]])\n",
      "lambda grad: tensor([[0.0939]])\n",
      "v grad: tensor([[-0.9530],\n",
      "        [ 0.8585]])\n",
      "lambda grad: tensor([[0.0859]])\n",
      "v grad: tensor([[-0.8083],\n",
      "        [ 0.6661]])\n",
      "lambda grad: tensor([[-0.1941]])\n",
      "v grad: tensor([[ 1.4413],\n",
      "        [-1.8222]])\n"
     ]
    },
    {
     "name": "stderr",
     "output_type": "stream",
     "text": [
      "Epoch:29 | Loss 0.7669 | Train1 0.098 | Train5 -1.000 | Reg term: 0.0 ||:  56%|█████▌    | 5/9 [00:00<00:00, 42.59it/s]"
     ]
    },
    {
     "name": "stdout",
     "output_type": "stream",
     "text": [
      "lambda grad: tensor([[-0.4562]])\n",
      "v grad: tensor([[ 0.6409],\n",
      "        [-1.1194]])\n"
     ]
    },
    {
     "name": "stderr",
     "output_type": "stream",
     "text": [
      "Epoch:29 | Loss 0.7669 | Train1 0.098 | Train5 -1.000 | Reg term: 0.0 ||: 100%|██████████| 9/9 [00:00<00:00, 45.61it/s]\n",
      "Epoch:30 | Loss 0.7534 | Train1 0.100 | Train5 -1.000 | Reg term: 0.0 ||:  56%|█████▌    | 5/9 [00:00<00:00, 41.53it/s]"
     ]
    },
    {
     "name": "stdout",
     "output_type": "stream",
     "text": [
      "lambda grad: tensor([[-0.4007]])\n",
      "v grad: tensor([[ 0.7246],\n",
      "        [-0.8302]])\n",
      "lambda grad: tensor([[-0.0014]])\n",
      "v grad: tensor([[-1.7825],\n",
      "        [ 1.5655]])\n",
      "lambda grad: tensor([[0.4836]])\n",
      "v grad: tensor([[-0.7825],\n",
      "        [ 0.7793]])\n",
      "lambda grad: tensor([[0.3163]])\n",
      "v grad: tensor([[-0.0453],\n",
      "        [-0.1763]])\n",
      "lambda grad: tensor([[0.3007]])\n",
      "v grad: tensor([[ 0.5276],\n",
      "        [-0.2960]])\n",
      "lambda grad: tensor([[0.1023]])\n",
      "v grad: tensor([[ 0.9310],\n",
      "        [-1.3277]])\n",
      "lambda grad: tensor([[0.1021]])\n",
      "v grad: tensor([[ 0.5910],\n",
      "        [-0.3249]])\n",
      "lambda grad: tensor([[0.2012]])\n",
      "v grad: tensor([[-0.7035],\n",
      "        [ 0.9799]])\n"
     ]
    },
    {
     "name": "stderr",
     "output_type": "stream",
     "text": [
      "Epoch:30 | Loss 0.7577 | Train1 0.100 | Train5 -1.000 | Reg term: 0.0 ||: 100%|██████████| 9/9 [00:00<00:00, 45.02it/s]\n",
      "Epoch:31 | Loss 1.6185 | Train1 0.070 | Train5 -1.000 | Reg term: 0.0 ||:   0%|          | 0/9 [00:00<?, ?it/s]"
     ]
    },
    {
     "name": "stdout",
     "output_type": "stream",
     "text": [
      "lambda grad: tensor([[0.5129]])\n",
      "v grad: tensor([[-1.1798],\n",
      "        [ 0.8157]])\n",
      "lambda grad: tensor([[-0.8253]])\n",
      "v grad: tensor([[-0.4374],\n",
      "        [ 1.1062]])\n"
     ]
    },
    {
     "name": "stderr",
     "output_type": "stream",
     "text": [
      "Epoch:31 | Loss 1.1629 | Train1 0.091 | Train5 -1.000 | Reg term: 0.0 ||:  56%|█████▌    | 5/9 [00:00<00:00, 41.57it/s]"
     ]
    },
    {
     "name": "stdout",
     "output_type": "stream",
     "text": [
      "lambda grad: tensor([[-0.5821]])\n",
      "v grad: tensor([[ 0.6625],\n",
      "        [-0.1110]])\n",
      "lambda grad: tensor([[-1.0932]])\n",
      "v grad: tensor([[ 2.1671],\n",
      "        [-1.2451]])\n",
      "lambda grad: tensor([[-0.4898]])\n",
      "v grad: tensor([[ 1.1227],\n",
      "        [-0.8641]])\n",
      "lambda grad: tensor([[0.1142]])\n",
      "v grad: tensor([[-1.4459],\n",
      "        [ 1.1904]])\n",
      "lambda grad: tensor([[0.4415]])\n",
      "v grad: tensor([[-0.9186],\n",
      "        [ 0.6512]])\n",
      "lambda grad: tensor([[0.5070]])\n",
      "v grad: tensor([[-0.8478],\n",
      "        [ 0.6612]])\n",
      "lambda grad: tensor([[0.3745]])\n",
      "v grad: tensor([[ 0.1721],\n",
      "        [-0.3437]])\n"
     ]
    },
    {
     "name": "stderr",
     "output_type": "stream",
     "text": [
      "Epoch:31 | Loss 1.1446 | Train1 0.096 | Train5 -1.000 | Reg term: 0.0 ||: 100%|██████████| 9/9 [00:00<00:00, 44.93it/s]\n",
      "Epoch:32 | Loss 0.8077 | Train1 0.140 | Train5 -1.000 | Reg term: 0.0 ||:   0%|          | 0/9 [00:00<?, ?it/s]"
     ]
    },
    {
     "name": "stdout",
     "output_type": "stream",
     "text": [
      "lambda grad: tensor([[0.1202]])\n",
      "v grad: tensor([[ 0.6504],\n",
      "        [-0.2963]])\n",
      "lambda grad: tensor([[0.2147]])\n",
      "v grad: tensor([[ 1.4627],\n",
      "        [-1.7341]])\n"
     ]
    },
    {
     "name": "stderr",
     "output_type": "stream",
     "text": [
      "Epoch:32 | Loss 0.7456 | Train1 0.061 | Train5 -1.000 | Reg term: 0.0 ||:  56%|█████▌    | 5/9 [00:00<00:00, 42.22it/s]"
     ]
    },
    {
     "name": "stdout",
     "output_type": "stream",
     "text": [
      "lambda grad: tensor([[0.4307]])\n",
      "v grad: tensor([[-0.0189],\n",
      "        [-0.3971]])\n",
      "lambda grad: tensor([[-0.1963]])\n",
      "v grad: tensor([[-1.2249],\n",
      "        [ 1.0916]])\n",
      "lambda grad: tensor([[-0.0060]])\n",
      "v grad: tensor([[-1.5151],\n",
      "        [ 1.0229]])\n",
      "lambda grad: tensor([[-0.1593]])\n",
      "v grad: tensor([[-0.4195],\n",
      "        [ 0.3574]])\n",
      "lambda grad: tensor([[-0.1024]])\n",
      "v grad: tensor([[ 1.0822],\n",
      "        [-1.5645]])\n",
      "lambda grad: tensor([[-0.3763]])\n",
      "v grad: tensor([[ 0.8126],\n",
      "        [-0.9321]])\n",
      "lambda grad: tensor([[-0.3403]])\n",
      "v grad: tensor([[ 0.6126],\n",
      "        [-0.6376]])\n",
      "lambda grad: tensor([[-0.2516]])\n",
      "v grad: tensor([[-0.0914],\n",
      "        [ 0.1657]])\n"
     ]
    },
    {
     "name": "stderr",
     "output_type": "stream",
     "text": [
      "Epoch:32 | Loss 0.7456 | Train1 0.061 | Train5 -1.000 | Reg term: 0.0 ||: 100%|██████████| 9/9 [00:00<00:00, 45.51it/s]\n",
      "Epoch:33 | Loss 0.9652 | Train1 0.045 | Train5 -1.000 | Reg term: 0.0 ||:   0%|          | 0/9 [00:00<?, ?it/s]"
     ]
    },
    {
     "name": "stdout",
     "output_type": "stream",
     "text": [
      "lambda grad: tensor([[-0.2347]])\n",
      "v grad: tensor([[-1.3769],\n",
      "        [ 1.3939]])\n",
      "lambda grad: tensor([[0.1561]])\n",
      "v grad: tensor([[-1.9272],\n",
      "        [ 1.7588]])\n"
     ]
    },
    {
     "name": "stderr",
     "output_type": "stream",
     "text": [
      "Epoch:33 | Loss 0.8183 | Train1 0.104 | Train5 -1.000 | Reg term: 0.0 ||: 100%|██████████| 9/9 [00:00<00:00, 43.95it/s]\n",
      "  0%|          | 0/9 [00:00<?, ?it/s]"
     ]
    },
    {
     "name": "stdout",
     "output_type": "stream",
     "text": [
      "lambda grad: tensor([[0.3308]])\n",
      "v grad: tensor([[ 0.5847],\n",
      "        [-0.4540]])\n",
      "lambda grad: tensor([[0.1684]])\n",
      "v grad: tensor([[ 1.5921],\n",
      "        [-1.5464]])\n",
      "lambda grad: tensor([[0.2593]])\n",
      "v grad: tensor([[ 1.3483],\n",
      "        [-1.1914]])\n",
      "lambda grad: tensor([[0.3129]])\n",
      "v grad: tensor([[-0.3589],\n",
      "        [ 0.4699]])\n",
      "lambda grad: tensor([[0.0807]])\n",
      "v grad: tensor([[-1.1204],\n",
      "        [ 1.0458]])\n",
      "lambda grad: tensor([[-0.0669]])\n",
      "v grad: tensor([[-0.4336],\n",
      "        [ 1.1539]])\n",
      "lambda grad: tensor([[0.2973]])\n",
      "v grad: tensor([[0.0579],\n",
      "        [0.8552]])\n"
     ]
    },
    {
     "name": "stderr",
     "output_type": "stream",
     "text": [
      "Epoch:34 | Loss 0.9223 | Train1 0.120 | Train5 -1.000 | Reg term: 0.0 ||:   0%|          | 0/9 [00:00<?, ?it/s]"
     ]
    },
    {
     "name": "stdout",
     "output_type": "stream",
     "text": [
      "lambda grad: tensor([[-0.1020]])\n",
      "v grad: tensor([[ 1.4491],\n",
      "        [-1.3274]])\n",
      "lambda grad: tensor([[-0.1548]])\n",
      "v grad: tensor([[ 1.2949],\n",
      "        [-1.2821]])\n"
     ]
    },
    {
     "name": "stderr",
     "output_type": "stream",
     "text": [
      "Epoch:34 | Loss 0.7730 | Train1 0.068 | Train5 -1.000 | Reg term: 0.0 ||: 100%|██████████| 9/9 [00:00<00:00, 45.72it/s]\n",
      "Epoch:35 | Loss 0.8103 | Train1 0.070 | Train5 -1.000 | Reg term: 0.0 ||:   0%|          | 0/9 [00:00<?, ?it/s]"
     ]
    },
    {
     "name": "stdout",
     "output_type": "stream",
     "text": [
      "lambda grad: tensor([[-0.3521]])\n",
      "v grad: tensor([[-0.4875],\n",
      "        [ 0.5963]])\n",
      "lambda grad: tensor([[-0.2174]])\n",
      "v grad: tensor([[-0.9874],\n",
      "        [ 1.1169]])\n",
      "lambda grad: tensor([[-0.1843]])\n",
      "v grad: tensor([[-1.1361],\n",
      "        [ 0.9451]])\n",
      "lambda grad: tensor([[-0.2449]])\n",
      "v grad: tensor([[ 0.5896],\n",
      "        [-0.8473]])\n",
      "lambda grad: tensor([[-0.0996]])\n",
      "v grad: tensor([[ 1.7002],\n",
      "        [-2.4153]])\n",
      "lambda grad: tensor([[0.2356]])\n",
      "v grad: tensor([[-0.9095],\n",
      "        [ 0.6150]])\n",
      "lambda grad: tensor([[1.0004]])\n",
      "v grad: tensor([[-1.2804],\n",
      "        [ 0.1109]])\n",
      "lambda grad: tensor([[0.1549]])\n",
      "v grad: tensor([[-1.0500],\n",
      "        [ 1.0331]])\n"
     ]
    },
    {
     "name": "stderr",
     "output_type": "stream",
     "text": [
      "Epoch:35 | Loss 0.7003 | Train1 0.053 | Train5 -1.000 | Reg term: 0.0 ||:   0%|          | 0/9 [00:00<?, ?it/s]"
     ]
    },
    {
     "name": "stdout",
     "output_type": "stream",
     "text": [
      "lambda grad: tensor([[-0.1939]])\n",
      "v grad: tensor([[ 0.3779],\n",
      "        [-0.3193]])\n",
      "lambda grad: tensor([[-0.0541]])\n",
      "v grad: tensor([[ 0.9235],\n",
      "        [-1.0431]])\n"
     ]
    },
    {
     "name": "stderr",
     "output_type": "stream",
     "text": [
      "Epoch:35 | Loss 0.7526 | Train1 0.080 | Train5 -1.000 | Reg term: 0.0 ||: 100%|██████████| 9/9 [00:00<00:00, 45.57it/s]\n",
      "Epoch:36 | Loss 0.6985 | Train1 0.085 | Train5 -1.000 | Reg term: 0.0 ||:   0%|          | 0/9 [00:00<?, ?it/s]"
     ]
    },
    {
     "name": "stdout",
     "output_type": "stream",
     "text": [
      "lambda grad: tensor([[0.1161]])\n",
      "v grad: tensor([[ 0.6326],\n",
      "        [-0.2988]])\n",
      "lambda grad: tensor([[-0.3637]])\n",
      "v grad: tensor([[-0.7773],\n",
      "        [ 0.9219]])\n",
      "lambda grad: tensor([[-0.2840]])\n",
      "v grad: tensor([[0.1861],\n",
      "        [0.3454]])\n",
      "lambda grad: tensor([[0.0723]])\n",
      "v grad: tensor([[-0.1152],\n",
      "        [ 0.3260]])\n",
      "lambda grad: tensor([[-0.2510]])\n",
      "v grad: tensor([[-0.1637],\n",
      "        [ 0.5456]])\n",
      "lambda grad: tensor([[-0.2076]])\n",
      "v grad: tensor([[ 0.7402],\n",
      "        [-0.4238]])\n",
      "lambda grad: tensor([[0.0864]])\n",
      "v grad: tensor([[ 0.9380],\n",
      "        [-0.7220]])\n",
      "lambda grad: tensor([[0.5650]])\n",
      "v grad: tensor([[-0.5309],\n",
      "        [ 0.4145]])\n"
     ]
    },
    {
     "name": "stderr",
     "output_type": "stream",
     "text": [
      "Epoch:36 | Loss 0.6319 | Train1 0.085 | Train5 -1.000 | Reg term: 0.0 ||:   0%|          | 0/9 [00:00<?, ?it/s]"
     ]
    },
    {
     "name": "stdout",
     "output_type": "stream",
     "text": [
      "lambda grad: tensor([[0.1515]])\n",
      "v grad: tensor([[0.0598],\n",
      "        [0.1315]])\n",
      "lambda grad: tensor([[-0.1926]])\n",
      "v grad: tensor([[ 0.5816],\n",
      "        [-0.5568]])\n"
     ]
    },
    {
     "name": "stderr",
     "output_type": "stream",
     "text": [
      "Epoch:36 | Loss 0.6719 | Train1 0.082 | Train5 -1.000 | Reg term: 0.0 ||: 100%|██████████| 9/9 [00:00<00:00, 45.59it/s]\n",
      "Epoch:37 | Loss 0.5721 | Train1 0.057 | Train5 -1.000 | Reg term: 0.0 ||:   0%|          | 0/9 [00:00<?, ?it/s]"
     ]
    },
    {
     "name": "stdout",
     "output_type": "stream",
     "text": [
      "lambda grad: tensor([[0.2545]])\n",
      "v grad: tensor([[-1.0723],\n",
      "        [ 1.2228]])\n",
      "lambda grad: tensor([[-0.0373]])\n",
      "v grad: tensor([[-0.9456],\n",
      "        [ 0.8828]])\n",
      "lambda grad: tensor([[0.1716]])\n",
      "v grad: tensor([[ 0.5111],\n",
      "        [-0.6500]])\n",
      "lambda grad: tensor([[0.0095]])\n",
      "v grad: tensor([[ 0.9216],\n",
      "        [-1.1675]])\n",
      "lambda grad: tensor([[-0.1569]])\n",
      "v grad: tensor([[ 0.4877],\n",
      "        [-0.3250]])\n",
      "lambda grad: tensor([[-0.2939]])\n",
      "v grad: tensor([[-0.0498],\n",
      "        [-0.1146]])\n",
      "lambda grad: tensor([[-0.2179]])\n",
      "v grad: tensor([[-0.7800],\n",
      "        [ 0.7549]])\n",
      "lambda grad: tensor([[-0.0963]])\n",
      "v grad: tensor([[-0.6913],\n",
      "        [ 0.4739]])\n"
     ]
    },
    {
     "name": "stderr",
     "output_type": "stream",
     "text": [
      "Epoch:37 | Loss 0.5903 | Train1 0.064 | Train5 -1.000 | Reg term: 0.0 ||:  56%|█████▌    | 5/9 [00:00<00:00, 42.93it/s]"
     ]
    },
    {
     "name": "stdout",
     "output_type": "stream",
     "text": [
      "lambda grad: tensor([[0.1794]])\n",
      "v grad: tensor([[ 0.1600],\n",
      "        [-0.0170]])\n",
      "lambda grad: tensor([[0.3441]])\n",
      "v grad: tensor([[ 0.8365],\n",
      "        [-1.1568]])\n"
     ]
    },
    {
     "name": "stderr",
     "output_type": "stream",
     "text": [
      "Epoch:37 | Loss 0.6177 | Train1 0.062 | Train5 -1.000 | Reg term: 0.0 ||: 100%|██████████| 9/9 [00:00<00:00, 46.00it/s]\n",
      "Epoch:38 | Loss 0.7063 | Train1 0.087 | Train5 -1.000 | Reg term: 0.0 ||:   0%|          | 0/9 [00:00<?, ?it/s]"
     ]
    },
    {
     "name": "stdout",
     "output_type": "stream",
     "text": [
      "lambda grad: tensor([[0.4041]])\n",
      "v grad: tensor([[-1.0674],\n",
      "        [ 0.5052]])\n",
      "lambda grad: tensor([[0.1365]])\n",
      "v grad: tensor([[ 0.5603],\n",
      "        [-0.2414]])\n",
      "lambda grad: tensor([[0.1297]])\n",
      "v grad: tensor([[-0.1002],\n",
      "        [-0.0284]])\n",
      "lambda grad: tensor([[-0.4637]])\n",
      "v grad: tensor([[0.0106],\n",
      "        [0.3493]])\n",
      "lambda grad: tensor([[0.0360]])\n",
      "v grad: tensor([[ 0.1286],\n",
      "        [-0.0875]])\n",
      "lambda grad: tensor([[-0.0870]])\n",
      "v grad: tensor([[ 0.9245],\n",
      "        [-0.8118]])\n",
      "lambda grad: tensor([[-0.2062]])\n",
      "v grad: tensor([[-0.7244],\n",
      "        [ 0.5029]])\n",
      "lambda grad: tensor([[0.1667]])\n",
      "v grad: tensor([[-0.2001],\n",
      "        [ 0.3450]])\n"
     ]
    },
    {
     "name": "stderr",
     "output_type": "stream",
     "text": [
      "Epoch:38 | Loss 0.7473 | Train1 0.088 | Train5 -1.000 | Reg term: 0.0 ||:  56%|█████▌    | 5/9 [00:00<00:00, 42.79it/s]"
     ]
    },
    {
     "name": "stdout",
     "output_type": "stream",
     "text": [
      "lambda grad: tensor([[-0.1343]])\n",
      "v grad: tensor([[-0.1204],\n",
      "        [ 0.2043]])\n",
      "lambda grad: tensor([[0.1118]])\n",
      "v grad: tensor([[-1.2810],\n",
      "        [ 1.4205]])\n"
     ]
    },
    {
     "name": "stderr",
     "output_type": "stream",
     "text": [
      "Epoch:38 | Loss 0.8266 | Train1 0.099 | Train5 -1.000 | Reg term: 0.0 ||: 100%|██████████| 9/9 [00:00<00:00, 45.93it/s]\n",
      "Epoch:39 | Loss 1.3209 | Train1 0.088 | Train5 -1.000 | Reg term: 0.0 ||:  56%|█████▌    | 5/9 [00:00<00:00, 43.08it/s]"
     ]
    },
    {
     "name": "stdout",
     "output_type": "stream",
     "text": [
      "lambda grad: tensor([[0.0932]])\n",
      "v grad: tensor([[ 0.7040],\n",
      "        [-0.5112]])\n",
      "lambda grad: tensor([[-0.2276]])\n",
      "v grad: tensor([[ 1.8673],\n",
      "        [-1.9109]])\n",
      "lambda grad: tensor([[0.4470]])\n",
      "v grad: tensor([[ 1.7603],\n",
      "        [-1.9794]])\n",
      "lambda grad: tensor([[-0.1622]])\n",
      "v grad: tensor([[-3.0094],\n",
      "        [ 2.7496]])\n",
      "lambda grad: tensor([[-0.0218]])\n",
      "v grad: tensor([[-1.8661],\n",
      "        [ 1.2090]])\n",
      "lambda grad: tensor([[-0.0486]])\n",
      "v grad: tensor([[0.0331],\n",
      "        [0.2837]])\n",
      "lambda grad: tensor([[0.0188]])\n",
      "v grad: tensor([[ 1.1555],\n",
      "        [-1.2863]])\n",
      "lambda grad: tensor([[-0.2016]])\n",
      "v grad: tensor([[ 1.3545],\n",
      "        [-1.2334]])\n"
     ]
    },
    {
     "name": "stderr",
     "output_type": "stream",
     "text": [
      "Epoch:39 | Loss 1.2483 | Train1 0.109 | Train5 -1.000 | Reg term: 0.0 ||:  56%|█████▌    | 5/9 [00:00<00:00, 43.08it/s]"
     ]
    },
    {
     "name": "stdout",
     "output_type": "stream",
     "text": [
      "lambda grad: tensor([[0.1784]])\n",
      "v grad: tensor([[ 1.1378],\n",
      "        [-1.1850]])\n",
      "lambda grad: tensor([[-0.0312]])\n",
      "v grad: tensor([[-2.0217],\n",
      "        [ 1.9841]])\n"
     ]
    },
    {
     "name": "stderr",
     "output_type": "stream",
     "text": [
      "Epoch:39 | Loss 1.2294 | Train1 0.110 | Train5 -1.000 | Reg term: 0.0 ||: 100%|██████████| 9/9 [00:00<00:00, 45.92it/s]\n",
      "Epoch:40 | Loss 1.8086 | Train1 0.113 | Train5 -1.000 | Reg term: 0.0 ||:  56%|█████▌    | 5/9 [00:00<00:00, 42.43it/s]"
     ]
    },
    {
     "name": "stdout",
     "output_type": "stream",
     "text": [
      "lambda grad: tensor([[0.0038]])\n",
      "v grad: tensor([[-0.5265],\n",
      "        [ 0.6067]])\n",
      "lambda grad: tensor([[0.5297]])\n",
      "v grad: tensor([[-2.3083],\n",
      "        [ 2.8466]])\n",
      "lambda grad: tensor([[-0.6654]])\n",
      "v grad: tensor([[ 2.4539],\n",
      "        [-1.5722]])\n",
      "lambda grad: tensor([[-0.8603]])\n",
      "v grad: tensor([[ 3.1396],\n",
      "        [-3.2093]])\n",
      "lambda grad: tensor([[-0.0431]])\n",
      "v grad: tensor([[ 0.9271],\n",
      "        [-0.9379]])\n",
      "lambda grad: tensor([[-0.0315]])\n",
      "v grad: tensor([[-1.7094],\n",
      "        [ 1.4684]])\n",
      "lambda grad: tensor([[-0.1738]])\n",
      "v grad: tensor([[-2.5852],\n",
      "        [ 1.9113]])\n",
      "lambda grad: tensor([[0.0869]])\n",
      "v grad: tensor([[-2.0535],\n",
      "        [ 1.6834]])\n"
     ]
    },
    {
     "name": "stderr",
     "output_type": "stream",
     "text": [
      "Epoch:40 | Loss 1.6144 | Train1 0.109 | Train5 -1.000 | Reg term: 0.0 ||:  56%|█████▌    | 5/9 [00:00<00:00, 42.43it/s]"
     ]
    },
    {
     "name": "stdout",
     "output_type": "stream",
     "text": [
      "lambda grad: tensor([[0.0093]])\n",
      "v grad: tensor([[ 0.6017],\n",
      "        [-0.8315]])\n",
      "lambda grad: tensor([[-0.0630]])\n",
      "v grad: tensor([[ 2.5979],\n",
      "        [-2.8249]])\n"
     ]
    },
    {
     "name": "stderr",
     "output_type": "stream",
     "text": [
      "Epoch:40 | Loss 1.5810 | Train1 0.111 | Train5 -1.000 | Reg term: 0.0 ||: 100%|██████████| 9/9 [00:00<00:00, 45.54it/s]\n",
      "Epoch:41 | Loss 0.7307 | Train1 0.103 | Train5 -1.000 | Reg term: 0.0 ||:  56%|█████▌    | 5/9 [00:00<00:00, 42.94it/s]"
     ]
    },
    {
     "name": "stdout",
     "output_type": "stream",
     "text": [
      "lambda grad: tensor([[0.2078]])\n",
      "v grad: tensor([[ 0.3984],\n",
      "        [-0.3803]])\n",
      "lambda grad: tensor([[0.2598]])\n",
      "v grad: tensor([[ 0.5441],\n",
      "        [-0.8673]])\n",
      "lambda grad: tensor([[0.3002]])\n",
      "v grad: tensor([[-0.9957],\n",
      "        [ 0.8976]])\n",
      "lambda grad: tensor([[0.3914]])\n",
      "v grad: tensor([[-0.6952],\n",
      "        [ 0.6053]])\n",
      "lambda grad: tensor([[0.0833]])\n",
      "v grad: tensor([[-1.2073],\n",
      "        [ 1.3096]])\n",
      "lambda grad: tensor([[0.0484]])\n",
      "v grad: tensor([[-0.0526],\n",
      "        [ 0.0390]])\n",
      "lambda grad: tensor([[0.2243]])\n",
      "v grad: tensor([[0.0644],\n",
      "        [0.0795]])\n",
      "lambda grad: tensor([[-0.3850]])\n",
      "v grad: tensor([[ 1.5642],\n",
      "        [-1.0938]])\n"
     ]
    },
    {
     "name": "stderr",
     "output_type": "stream",
     "text": [
      "Epoch:41 | Loss 0.7666 | Train1 0.098 | Train5 -1.000 | Reg term: 0.0 ||: 100%|██████████| 9/9 [00:00<00:00, 45.92it/s]\n",
      "  0%|          | 0/9 [00:00<?, ?it/s]"
     ]
    },
    {
     "name": "stdout",
     "output_type": "stream",
     "text": [
      "lambda grad: tensor([[-0.0666]])\n",
      "v grad: tensor([[ 0.7899],\n",
      "        [-0.4804]])\n",
      "lambda grad: tensor([[-0.6217]])\n",
      "v grad: tensor([[-1.1104],\n",
      "        [ 1.1469]])\n"
     ]
    },
    {
     "name": "stderr",
     "output_type": "stream",
     "text": [
      "Epoch:42 | Loss 0.7244 | Train1 0.078 | Train5 -1.000 | Reg term: 0.0 ||:  56%|█████▌    | 5/9 [00:00<00:00, 43.08it/s]"
     ]
    },
    {
     "name": "stdout",
     "output_type": "stream",
     "text": [
      "lambda grad: tensor([[-0.3093]])\n",
      "v grad: tensor([[ 1.1309],\n",
      "        [-0.7251]])\n",
      "lambda grad: tensor([[-0.2741]])\n",
      "v grad: tensor([[ 0.3896],\n",
      "        [-0.2581]])\n",
      "lambda grad: tensor([[0.1386]])\n",
      "v grad: tensor([[-0.9550],\n",
      "        [ 1.3717]])\n",
      "lambda grad: tensor([[0.0838]])\n",
      "v grad: tensor([[-0.5990],\n",
      "        [ 0.7582]])\n",
      "lambda grad: tensor([[0.0819]])\n",
      "v grad: tensor([[ 0.2805],\n",
      "        [-0.3993]])\n"
     ]
    },
    {
     "name": "stderr",
     "output_type": "stream",
     "text": [
      "Epoch:42 | Loss 0.6770 | Train1 0.086 | Train5 -1.000 | Reg term: 0.0 ||: 100%|██████████| 9/9 [00:00<00:00, 17.45it/s]\n",
      "Epoch:43 | Loss 0.6803 | Train1 0.050 | Train5 -1.000 | Reg term: 0.0 ||:  56%|█████▌    | 5/9 [00:00<00:00, 43.27it/s]"
     ]
    },
    {
     "name": "stdout",
     "output_type": "stream",
     "text": [
      "lambda grad: tensor([[0.3908]])\n",
      "v grad: tensor([[ 0.0233],\n",
      "        [-0.4000]])\n",
      "lambda grad: tensor([[0.0714]])\n",
      "v grad: tensor([[ 0.5705],\n",
      "        [-0.6988]])\n",
      "lambda grad: tensor([[0.2178]])\n",
      "v grad: tensor([[ 0.6594],\n",
      "        [-0.7060]])\n",
      "lambda grad: tensor([[0.6589]])\n",
      "v grad: tensor([[-1.1806],\n",
      "        [ 0.9660]])\n",
      "lambda grad: tensor([[-0.0104]])\n",
      "v grad: tensor([[-0.5367],\n",
      "        [ 0.3762]])\n",
      "lambda grad: tensor([[0.1035]])\n",
      "v grad: tensor([[ 0.5926],\n",
      "        [-0.3234]])\n",
      "lambda grad: tensor([[0.0894]])\n",
      "v grad: tensor([[ 0.2168],\n",
      "        [-0.1605]])\n",
      "lambda grad: tensor([[0.2002]])\n",
      "v grad: tensor([[ 0.6573],\n",
      "        [-0.7409]])\n",
      "lambda grad: tensor([[-0.2255]])\n",
      "v grad: tensor([[-0.3349],\n",
      "        [ 0.7878]])\n",
      "lambda grad: tensor([[-0.2728]])\n",
      "v grad: tensor([[-0.4796],\n",
      "        [ 0.8296]])\n"
     ]
    },
    {
     "name": "stderr",
     "output_type": "stream",
     "text": [
      "Epoch:43 | Loss 0.6740 | Train1 0.047 | Train5 -1.000 | Reg term: 0.0 ||: 100%|██████████| 9/9 [00:00<00:00, 46.28it/s]\n",
      "Epoch:44 | Loss 0.6698 | Train1 0.052 | Train5 -1.000 | Reg term: 0.0 ||:  56%|█████▌    | 5/9 [00:00<00:00, 40.04it/s]"
     ]
    },
    {
     "name": "stdout",
     "output_type": "stream",
     "text": [
      "lambda grad: tensor([[-0.3407]])\n",
      "v grad: tensor([[-0.2559],\n",
      "        [ 0.0574]])\n",
      "lambda grad: tensor([[-0.3462]])\n",
      "v grad: tensor([[ 0.5915],\n",
      "        [-0.9144]])\n",
      "lambda grad: tensor([[0.0763]])\n",
      "v grad: tensor([[ 1.0585],\n",
      "        [-0.7606]])\n",
      "lambda grad: tensor([[-0.1995]])\n",
      "v grad: tensor([[-0.6857],\n",
      "        [ 0.3220]])\n",
      "lambda grad: tensor([[-0.2070]])\n",
      "v grad: tensor([[-1.2292],\n",
      "        [ 1.0085]])\n",
      "lambda grad: tensor([[-0.0790]])\n",
      "v grad: tensor([[-0.7934],\n",
      "        [ 0.8683]])\n",
      "lambda grad: tensor([[0.0758]])\n",
      "v grad: tensor([[ 0.2296],\n",
      "        [-0.4330]])\n",
      "lambda grad: tensor([[0.2375]])\n",
      "v grad: tensor([[ 1.3305],\n",
      "        [-1.5718]])\n",
      "lambda grad: tensor([[0.0920]])\n",
      "v grad: tensor([[ 0.6781],\n",
      "        [-0.4512]])\n"
     ]
    },
    {
     "name": "stderr",
     "output_type": "stream",
     "text": [
      "Epoch:44 | Loss 0.6573 | Train1 0.081 | Train5 -1.000 | Reg term: 0.0 ||: 100%|██████████| 9/9 [00:00<00:00, 43.71it/s]\n",
      "Epoch:45 | Loss 0.8399 | Train1 0.086 | Train5 -1.000 | Reg term: 0.0 ||:  56%|█████▌    | 5/9 [00:00<00:00, 42.59it/s]"
     ]
    },
    {
     "name": "stdout",
     "output_type": "stream",
     "text": [
      "lambda grad: tensor([[0.5658]])\n",
      "v grad: tensor([[-0.2751],\n",
      "        [ 0.1480]])\n",
      "lambda grad: tensor([[0.0445]])\n",
      "v grad: tensor([[-1.0464],\n",
      "        [ 0.9716]])\n",
      "lambda grad: tensor([[0.4108]])\n",
      "v grad: tensor([[-1.4325],\n",
      "        [ 0.7285]])\n",
      "lambda grad: tensor([[-0.0457]])\n",
      "v grad: tensor([[ 1.1145],\n",
      "        [-1.1386]])\n",
      "lambda grad: tensor([[-0.2261]])\n",
      "v grad: tensor([[ 0.7950],\n",
      "        [-0.3698]])\n",
      "lambda grad: tensor([[-0.0787]])\n",
      "v grad: tensor([[ 0.2574],\n",
      "        [-0.2095]])\n",
      "lambda grad: tensor([[-0.0481]])\n",
      "v grad: tensor([[ 0.5831],\n",
      "        [-0.3351]])\n",
      "lambda grad: tensor([[-0.2849]])\n",
      "v grad: tensor([[-0.3481],\n",
      "        [ 0.3883]])\n",
      "lambda grad: tensor([[-0.0483]])\n",
      "v grad: tensor([[-1.9412],\n",
      "        [ 2.0785]])\n",
      "lambda grad: tensor([[0.0355]])\n",
      "v grad: tensor([[-0.0385],\n",
      "        [ 0.2031]])\n"
     ]
    },
    {
     "name": "stderr",
     "output_type": "stream",
     "text": [
      "Epoch:45 | Loss 0.8442 | Train1 0.090 | Train5 -1.000 | Reg term: 0.0 ||: 100%|██████████| 9/9 [00:00<00:00, 45.55it/s]\n",
      "Epoch:46 | Loss 0.7719 | Train1 0.093 | Train5 -1.000 | Reg term: 0.0 ||:  56%|█████▌    | 5/9 [00:00<00:00, 42.64it/s]"
     ]
    },
    {
     "name": "stdout",
     "output_type": "stream",
     "text": [
      "lambda grad: tensor([[-0.1152]])\n",
      "v grad: tensor([[ 0.8888],\n",
      "        [-0.8812]])\n",
      "lambda grad: tensor([[-0.6507]])\n",
      "v grad: tensor([[ 2.6592],\n",
      "        [-2.3361]])\n",
      "lambda grad: tensor([[-0.0452]])\n",
      "v grad: tensor([[-0.4772],\n",
      "        [ 0.5405]])\n",
      "lambda grad: tensor([[0.3473]])\n",
      "v grad: tensor([[-1.7942],\n",
      "        [ 1.7801]])\n",
      "lambda grad: tensor([[0.2107]])\n",
      "v grad: tensor([[-1.3474],\n",
      "        [ 1.3692]])\n",
      "lambda grad: tensor([[0.3383]])\n",
      "v grad: tensor([[ 0.2836],\n",
      "        [-0.6444]])\n",
      "lambda grad: tensor([[0.0157]])\n",
      "v grad: tensor([[ 1.0044],\n",
      "        [-1.2463]])\n",
      "lambda grad: tensor([[0.0518]])\n",
      "v grad: tensor([[ 1.3839],\n",
      "        [-1.6101]])\n",
      "lambda grad: tensor([[-0.1142]])\n",
      "v grad: tensor([[0.2814],\n",
      "        [0.0914]])\n",
      "lambda grad: tensor([[0.2589]])\n",
      "v grad: tensor([[-1.3364],\n",
      "        [ 1.1109]])\n"
     ]
    },
    {
     "name": "stderr",
     "output_type": "stream",
     "text": [
      "Epoch:46 | Loss 0.7781 | Train1 0.092 | Train5 -1.000 | Reg term: 0.0 ||: 100%|██████████| 9/9 [00:00<00:00, 45.55it/s]\n",
      "Epoch:47 | Loss 0.8262 | Train1 0.102 | Train5 -1.000 | Reg term: 0.0 ||:  56%|█████▌    | 5/9 [00:00<00:00, 41.65it/s]"
     ]
    },
    {
     "name": "stdout",
     "output_type": "stream",
     "text": [
      "lambda grad: tensor([[-0.3909]])\n",
      "v grad: tensor([[-0.5559],\n",
      "        [ 0.7924]])\n",
      "lambda grad: tensor([[0.0964]])\n",
      "v grad: tensor([[-0.9986],\n",
      "        [ 0.8320]])\n",
      "lambda grad: tensor([[0.1383]])\n",
      "v grad: tensor([[ 0.0271],\n",
      "        [-0.1106]])\n",
      "lambda grad: tensor([[0.0897]])\n",
      "v grad: tensor([[ 1.2282],\n",
      "        [-1.1009]])\n",
      "lambda grad: tensor([[-0.0943]])\n",
      "v grad: tensor([[ 0.9601],\n",
      "        [-0.8793]])\n",
      "lambda grad: tensor([[-0.0293]])\n",
      "v grad: tensor([[ 1.0500],\n",
      "        [-0.9774]])\n",
      "lambda grad: tensor([[0.0409]])\n",
      "v grad: tensor([[-0.9073],\n",
      "        [ 0.8556]])\n",
      "lambda grad: tensor([[0.0721]])\n",
      "v grad: tensor([[-2.4503],\n",
      "        [ 2.2960]])\n",
      "lambda grad: tensor([[-0.1274]])\n",
      "v grad: tensor([[ 0.3395],\n",
      "        [-0.4188]])\n"
     ]
    },
    {
     "name": "stderr",
     "output_type": "stream",
     "text": [
      "Epoch:47 | Loss 0.8322 | Train1 0.102 | Train5 -1.000 | Reg term: 0.0 ||: 100%|██████████| 9/9 [00:00<00:00, 45.13it/s]\n",
      "Epoch:48 | Loss 0.7305 | Train1 0.082 | Train5 -1.000 | Reg term: 0.0 ||:  56%|█████▌    | 5/9 [00:00<00:00, 42.51it/s]"
     ]
    },
    {
     "name": "stdout",
     "output_type": "stream",
     "text": [
      "lambda grad: tensor([[-0.5887]])\n",
      "v grad: tensor([[ 1.4017],\n",
      "        [-0.5530]])\n",
      "lambda grad: tensor([[0.0296]])\n",
      "v grad: tensor([[ 0.6499],\n",
      "        [-0.5585]])\n",
      "lambda grad: tensor([[0.1220]])\n",
      "v grad: tensor([[ 0.1493],\n",
      "        [-0.1581]])\n",
      "lambda grad: tensor([[0.2419]])\n",
      "v grad: tensor([[-0.6050],\n",
      "        [ 0.6670]])\n",
      "lambda grad: tensor([[0.4258]])\n",
      "v grad: tensor([[-0.7293],\n",
      "        [ 0.3497]])\n",
      "lambda grad: tensor([[0.2907]])\n",
      "v grad: tensor([[-1.3047],\n",
      "        [ 1.0659]])\n",
      "lambda grad: tensor([[0.2750]])\n",
      "v grad: tensor([[ 1.3304],\n",
      "        [-1.7867]])\n",
      "lambda grad: tensor([[0.0375]])\n",
      "v grad: tensor([[ 0.7095],\n",
      "        [-0.9865]])\n",
      "lambda grad: tensor([[-0.1220]])\n",
      "v grad: tensor([[ 0.4379],\n",
      "        [-0.2950]])\n",
      "lambda grad: tensor([[-0.0937]])\n",
      "v grad: tensor([[-0.5769],\n",
      "        [ 0.5561]])\n"
     ]
    },
    {
     "name": "stderr",
     "output_type": "stream",
     "text": [
      "Epoch:48 | Loss 0.7305 | Train1 0.082 | Train5 -1.000 | Reg term: 0.0 ||: 100%|██████████| 9/9 [00:00<00:00, 45.59it/s]\n",
      "Epoch:49 | Loss 0.8671 | Train1 0.093 | Train5 -1.000 | Reg term: 0.0 ||: 100%|██████████| 9/9 [00:00<00:00, 44.75it/s]\n",
      "Epoch:50 | Loss 0.5571 | Train1 0.080 | Train5 -1.000 | Reg term: 0.0 ||:   0%|          | 0/9 [00:00<?, ?it/s]"
     ]
    },
    {
     "name": "stdout",
     "output_type": "stream",
     "text": [
      "lambda grad: tensor([[-0.7795]])\n",
      "v grad: tensor([[-1.6332],\n",
      "        [ 1.7469]])\n",
      "lambda grad: tensor([[-0.2605]])\n",
      "v grad: tensor([[ 0.3638],\n",
      "        [-0.1676]])\n",
      "lambda grad: tensor([[-0.0778]])\n",
      "v grad: tensor([[ 1.0418],\n",
      "        [-1.2582]])\n",
      "lambda grad: tensor([[-0.0960]])\n",
      "v grad: tensor([[0.0282],\n",
      "        [0.4522]])\n",
      "lambda grad: tensor([[-0.0128]])\n",
      "v grad: tensor([[0.1311],\n",
      "        [0.0951]])\n",
      "lambda grad: tensor([[0.2667]])\n",
      "v grad: tensor([[ 0.2575],\n",
      "        [-0.3587]])\n",
      "lambda grad: tensor([[0.2582]])\n",
      "v grad: tensor([[ 0.0760],\n",
      "        [-0.1451]])\n",
      "lambda grad: tensor([[0.2791]])\n",
      "v grad: tensor([[0.1817],\n",
      "        [0.1505]])\n",
      "lambda grad: tensor([[-0.0547]])\n",
      "v grad: tensor([[-0.7189],\n",
      "        [ 0.7078]])\n",
      "lambda grad: tensor([[-0.0730]])\n",
      "v grad: tensor([[-0.5840],\n",
      "        [ 0.6182]])\n"
     ]
    },
    {
     "name": "stderr",
     "output_type": "stream",
     "text": [
      "Epoch:50 | Loss 0.6884 | Train1 0.082 | Train5 -1.000 | Reg term: 0.0 ||: 100%|██████████| 9/9 [00:00<00:00, 45.72it/s]\n",
      "Epoch:51 | Loss 0.8312 | Train1 0.090 | Train5 -1.000 | Reg term: 0.0 ||:   0%|          | 0/9 [00:00<?, ?it/s]"
     ]
    },
    {
     "name": "stdout",
     "output_type": "stream",
     "text": [
      "lambda grad: tensor([[0.1685]])\n",
      "v grad: tensor([[-0.1093],\n",
      "        [-0.0453]])\n",
      "lambda grad: tensor([[0.1934]])\n",
      "v grad: tensor([[ 0.2173],\n",
      "        [-0.3239]])\n",
      "lambda grad: tensor([[-0.1997]])\n",
      "v grad: tensor([[ 1.0833],\n",
      "        [-1.4154]])\n",
      "lambda grad: tensor([[-0.1779]])\n",
      "v grad: tensor([[0.2871],\n",
      "        [0.1502]])\n",
      "lambda grad: tensor([[-0.3612]])\n",
      "v grad: tensor([[-0.3384],\n",
      "        [ 0.4635]])\n",
      "lambda grad: tensor([[-0.1776]])\n",
      "v grad: tensor([[-0.0880],\n",
      "        [-0.2068]])\n",
      "lambda grad: tensor([[0.2039]])\n",
      "v grad: tensor([[-0.2469],\n",
      "        [-0.0935]])\n",
      "lambda grad: tensor([[-0.5943]])\n",
      "v grad: tensor([[-2.2862],\n",
      "        [ 2.1592]])\n",
      "lambda grad: tensor([[0.1329]])\n",
      "v grad: tensor([[ 0.6734],\n",
      "        [-0.8299]])\n",
      "lambda grad: tensor([[0.3515]])\n",
      "v grad: tensor([[ 1.5312],\n",
      "        [-1.7091]])\n"
     ]
    },
    {
     "name": "stderr",
     "output_type": "stream",
     "text": [
      "Epoch:51 | Loss 0.8291 | Train1 0.102 | Train5 -1.000 | Reg term: 0.0 ||: 100%|██████████| 9/9 [00:00<00:00, 45.49it/s]\n",
      "Epoch:52 | Loss 0.9597 | Train1 0.110 | Train5 -1.000 | Reg term: 0.0 ||:   0%|          | 0/9 [00:00<?, ?it/s]"
     ]
    },
    {
     "name": "stdout",
     "output_type": "stream",
     "text": [
      "lambda grad: tensor([[-0.0557]])\n",
      "v grad: tensor([[ 1.3342],\n",
      "        [-1.1293]])\n",
      "lambda grad: tensor([[0.1111]])\n",
      "v grad: tensor([[-0.1915],\n",
      "        [-0.0132]])\n",
      "lambda grad: tensor([[0.3623]])\n",
      "v grad: tensor([[-2.1325],\n",
      "        [ 1.9169]])\n",
      "lambda grad: tensor([[0.4081]])\n",
      "v grad: tensor([[-1.3183],\n",
      "        [ 1.1235]])\n",
      "lambda grad: tensor([[0.0737]])\n",
      "v grad: tensor([[ 0.3352],\n",
      "        [-0.2745]])\n",
      "lambda grad: tensor([[0.1404]])\n",
      "v grad: tensor([[ 1.1758],\n",
      "        [-1.1738]])\n",
      "lambda grad: tensor([[-0.1569]])\n",
      "v grad: tensor([[ 0.5213],\n",
      "        [-0.2447]])\n",
      "lambda grad: tensor([[0.1345]])\n",
      "v grad: tensor([[ 0.9284],\n",
      "        [-0.4386]])\n",
      "lambda grad: tensor([[-0.1106]])\n",
      "v grad: tensor([[ 0.0980],\n",
      "        [-0.0737]])\n"
     ]
    },
    {
     "name": "stderr",
     "output_type": "stream",
     "text": [
      "Epoch:52 | Loss 0.9652 | Train1 0.097 | Train5 -1.000 | Reg term: 0.0 ||: 100%|██████████| 9/9 [00:00<00:00, 44.95it/s]\n",
      "Epoch:53 | Loss 0.7904 | Train1 0.073 | Train5 -1.000 | Reg term: 0.0 ||:   0%|          | 0/9 [00:00<?, ?it/s]"
     ]
    },
    {
     "name": "stdout",
     "output_type": "stream",
     "text": [
      "lambda grad: tensor([[-0.0802]])\n",
      "v grad: tensor([[-0.6178],\n",
      "        [ 0.7578]])\n",
      "lambda grad: tensor([[-0.0688]])\n",
      "v grad: tensor([[-0.9096],\n",
      "        [ 1.1426]])\n",
      "lambda grad: tensor([[-0.2716]])\n",
      "v grad: tensor([[0.3262],\n",
      "        [0.1236]])\n",
      "lambda grad: tensor([[-0.4127]])\n",
      "v grad: tensor([[ 0.6128],\n",
      "        [-0.6025]])\n",
      "lambda grad: tensor([[-0.3329]])\n",
      "v grad: tensor([[-0.2224],\n",
      "        [ 0.7830]])\n",
      "lambda grad: tensor([[-0.0650]])\n",
      "v grad: tensor([[-0.2559],\n",
      "        [ 0.3095]])\n",
      "lambda grad: tensor([[-0.2632]])\n",
      "v grad: tensor([[ 0.9918],\n",
      "        [-1.7577]])\n",
      "lambda grad: tensor([[0.4265]])\n",
      "v grad: tensor([[ 0.6723],\n",
      "        [-1.1251]])\n",
      "lambda grad: tensor([[0.2682]])\n",
      "v grad: tensor([[-0.7349],\n",
      "        [ 0.7962]])\n",
      "lambda grad: tensor([[0.3062]])\n",
      "v grad: tensor([[-1.4302],\n",
      "        [ 1.2531]])\n"
     ]
    },
    {
     "name": "stderr",
     "output_type": "stream",
     "text": [
      "Epoch:53 | Loss 0.8311 | Train1 0.104 | Train5 -1.000 | Reg term: 0.0 ||: 100%|██████████| 9/9 [00:00<00:00, 45.66it/s]\n",
      "Epoch:54 | Loss 1.5366 | Train1 0.087 | Train5 -1.000 | Reg term: 0.0 ||:   0%|          | 0/9 [00:00<?, ?it/s]"
     ]
    },
    {
     "name": "stdout",
     "output_type": "stream",
     "text": [
      "lambda grad: tensor([[0.5604]])\n",
      "v grad: tensor([[-0.7072],\n",
      "        [ 0.6363]])\n",
      "lambda grad: tensor([[0.4218]])\n",
      "v grad: tensor([[ 0.2314],\n",
      "        [-0.4733]])\n",
      "lambda grad: tensor([[0.1574]])\n",
      "v grad: tensor([[ 1.6726],\n",
      "        [-1.8003]])\n",
      "lambda grad: tensor([[0.0862]])\n",
      "v grad: tensor([[ 0.4400],\n",
      "        [-0.3344]])\n",
      "lambda grad: tensor([[-0.1181]])\n",
      "v grad: tensor([[-0.4197],\n",
      "        [ 0.4937]])\n",
      "lambda grad: tensor([[-0.2439]])\n",
      "v grad: tensor([[-0.4662],\n",
      "        [ 1.1895]])\n",
      "lambda grad: tensor([[-0.5992]])\n",
      "v grad: tensor([[-1.2754],\n",
      "        [ 1.6964]])\n",
      "lambda grad: tensor([[-0.4226]])\n",
      "v grad: tensor([[ 0.4045],\n",
      "        [-0.4981]])\n",
      "lambda grad: tensor([[-0.5270]])\n",
      "v grad: tensor([[ 0.9688],\n",
      "        [-1.0502]])\n"
     ]
    },
    {
     "name": "stderr",
     "output_type": "stream",
     "text": [
      "Epoch:54 | Loss 1.2304 | Train1 0.113 | Train5 -1.000 | Reg term: 0.0 ||: 100%|██████████| 9/9 [00:00<00:00, 44.86it/s]\n",
      "Epoch:55 | Loss 1.4766 | Train1 0.095 | Train5 -1.000 | Reg term: 0.0 ||:   0%|          | 0/9 [00:00<?, ?it/s]"
     ]
    },
    {
     "name": "stdout",
     "output_type": "stream",
     "text": [
      "lambda grad: tensor([[0.0933]])\n",
      "v grad: tensor([[ 1.5818],\n",
      "        [-1.7637]])\n",
      "lambda grad: tensor([[0.3983]])\n",
      "v grad: tensor([[ 0.2947],\n",
      "        [-0.5562]])\n",
      "lambda grad: tensor([[0.0916]])\n",
      "v grad: tensor([[-1.8844],\n",
      "        [ 1.7899]])\n",
      "lambda grad: tensor([[0.2323]])\n",
      "v grad: tensor([[-1.7142],\n",
      "        [ 1.7484]])\n",
      "lambda grad: tensor([[0.0955]])\n",
      "v grad: tensor([[-0.3120],\n",
      "        [ 0.0328]])\n",
      "lambda grad: tensor([[0.2884]])\n",
      "v grad: tensor([[ 0.9948],\n",
      "        [-1.1051]])\n",
      "lambda grad: tensor([[-0.2305]])\n",
      "v grad: tensor([[ 1.8436],\n",
      "        [-2.1788]])\n",
      "lambda grad: tensor([[-0.3298]])\n",
      "v grad: tensor([[ 1.3801],\n",
      "        [-1.3041]])\n",
      "lambda grad: tensor([[-0.4162]])\n",
      "v grad: tensor([[-1.3950],\n",
      "        [ 1.4002]])\n",
      "lambda grad: tensor([[-0.0758]])\n",
      "v grad: tensor([[-2.7143],\n",
      "        [ 2.7041]])\n"
     ]
    },
    {
     "name": "stderr",
     "output_type": "stream",
     "text": [
      "Epoch:55 | Loss 1.2509 | Train1 0.102 | Train5 -1.000 | Reg term: 0.0 ||: 100%|██████████| 9/9 [00:00<00:00, 46.24it/s]\n",
      "Epoch:56 | Loss 1.0856 | Train1 0.070 | Train5 -1.000 | Reg term: 0.0 ||:  56%|█████▌    | 5/9 [00:00<00:00, 43.12it/s]"
     ]
    },
    {
     "name": "stdout",
     "output_type": "stream",
     "text": [
      "lambda grad: tensor([[-0.2092]])\n",
      "v grad: tensor([[-0.6278],\n",
      "        [ 0.7453]])\n",
      "lambda grad: tensor([[-0.0408]])\n",
      "v grad: tensor([[ 0.3834],\n",
      "        [-0.1991]])\n",
      "lambda grad: tensor([[0.3331]])\n",
      "v grad: tensor([[ 1.6314],\n",
      "        [-1.9944]])\n",
      "lambda grad: tensor([[0.3286]])\n",
      "v grad: tensor([[ 1.4908],\n",
      "        [-1.3303]])\n",
      "lambda grad: tensor([[-0.2057]])\n",
      "v grad: tensor([[ 1.4514],\n",
      "        [-0.7418]])\n",
      "lambda grad: tensor([[0.2094]])\n",
      "v grad: tensor([[-1.0502],\n",
      "        [ 0.9246]])\n",
      "lambda grad: tensor([[0.0819]])\n",
      "v grad: tensor([[-1.1638],\n",
      "        [ 1.3315]])\n",
      "lambda grad: tensor([[0.4041]])\n",
      "v grad: tensor([[-2.1505],\n",
      "        [ 1.7176]])\n",
      "lambda grad: tensor([[0.1271]])\n",
      "v grad: tensor([[-1.6472],\n",
      "        [ 1.5955]])\n",
      "lambda grad: tensor([[-0.2912]])\n",
      "v grad: tensor([[ 1.8602],\n",
      "        [-2.1672]])\n"
     ]
    },
    {
     "name": "stderr",
     "output_type": "stream",
     "text": [
      "Epoch:56 | Loss 1.2724 | Train1 0.096 | Train5 -1.000 | Reg term: 0.0 ||: 100%|██████████| 9/9 [00:00<00:00, 46.17it/s]\n",
      "Epoch:57 | Loss 0.6886 | Train1 0.082 | Train5 -1.000 | Reg term: 0.0 ||:  56%|█████▌    | 5/9 [00:00<00:00, 43.34it/s]"
     ]
    },
    {
     "name": "stdout",
     "output_type": "stream",
     "text": [
      "lambda grad: tensor([[-0.6914]])\n",
      "v grad: tensor([[ 2.8678],\n",
      "        [-2.4969]])\n",
      "lambda grad: tensor([[-0.0704]])\n",
      "v grad: tensor([[ 1.5991],\n",
      "        [-1.8705]])\n",
      "lambda grad: tensor([[-0.0993]])\n",
      "v grad: tensor([[-1.5888],\n",
      "        [ 1.8099]])\n",
      "lambda grad: tensor([[-0.2581]])\n",
      "v grad: tensor([[-1.8657],\n",
      "        [ 1.7325]])\n",
      "lambda grad: tensor([[0.0861]])\n",
      "v grad: tensor([[-1.3409],\n",
      "        [ 1.3120]])\n",
      "lambda grad: tensor([[-0.1162]])\n",
      "v grad: tensor([[ 0.4525],\n",
      "        [-0.4005]])\n",
      "lambda grad: tensor([[-0.0152]])\n",
      "v grad: tensor([[ 0.7752],\n",
      "        [-0.4659]])\n",
      "lambda grad: tensor([[-0.1271]])\n",
      "v grad: tensor([[ 1.4836],\n",
      "        [-1.3410]])\n",
      "lambda grad: tensor([[0.3497]])\n",
      "v grad: tensor([[ 0.2257],\n",
      "        [-0.5453]])\n",
      "lambda grad: tensor([[0.3496]])\n",
      "v grad: tensor([[-0.8248],\n",
      "        [ 0.6869]])\n"
     ]
    },
    {
     "name": "stderr",
     "output_type": "stream",
     "text": [
      "Epoch:57 | Loss 0.6583 | Train1 0.079 | Train5 -1.000 | Reg term: 0.0 ||: 100%|██████████| 9/9 [00:00<00:00, 46.62it/s]\n",
      "Epoch:58 | Loss 0.7531 | Train1 0.064 | Train5 -1.000 | Reg term: 0.0 ||:  56%|█████▌    | 5/9 [00:00<00:00, 43.70it/s]"
     ]
    },
    {
     "name": "stdout",
     "output_type": "stream",
     "text": [
      "lambda grad: tensor([[0.4335]])\n",
      "v grad: tensor([[-0.5862],\n",
      "        [ 0.4361]])\n",
      "lambda grad: tensor([[0.2008]])\n",
      "v grad: tensor([[-0.3964],\n",
      "        [ 0.2235]])\n",
      "lambda grad: tensor([[-0.0335]])\n",
      "v grad: tensor([[-0.7218],\n",
      "        [ 1.2805]])\n",
      "lambda grad: tensor([[-0.0898]])\n",
      "v grad: tensor([[ 1.2774],\n",
      "        [-1.2746]])\n",
      "lambda grad: tensor([[-0.0535]])\n",
      "v grad: tensor([[ 0.6623],\n",
      "        [-0.8180]])\n",
      "lambda grad: tensor([[-0.3026]])\n",
      "v grad: tensor([[ 1.1221],\n",
      "        [-1.2315]])\n",
      "lambda grad: tensor([[-0.1147]])\n",
      "v grad: tensor([[-0.6548],\n",
      "        [ 0.6027]])\n",
      "lambda grad: tensor([[-0.2460]])\n",
      "v grad: tensor([[-1.4632],\n",
      "        [ 1.5823]])\n",
      "lambda grad: tensor([[-0.0931]])\n",
      "v grad: tensor([[-0.7954],\n",
      "        [ 0.6616]])\n",
      "lambda grad: tensor([[0.1775]])\n",
      "v grad: tensor([[0.0807],\n",
      "        [0.0528]])\n"
     ]
    },
    {
     "name": "stderr",
     "output_type": "stream",
     "text": [
      "Epoch:58 | Loss 0.7202 | Train1 0.068 | Train5 -1.000 | Reg term: 0.0 ||: 100%|██████████| 9/9 [00:00<00:00, 46.80it/s]\n",
      "Epoch:59 | Loss 0.7158 | Train1 0.087 | Train5 -1.000 | Reg term: 0.0 ||:  56%|█████▌    | 5/9 [00:00<00:00, 43.68it/s]"
     ]
    },
    {
     "name": "stdout",
     "output_type": "stream",
     "text": [
      "lambda grad: tensor([[0.1845]])\n",
      "v grad: tensor([[ 0.8784],\n",
      "        [-1.0466]])\n",
      "lambda grad: tensor([[-0.1102]])\n",
      "v grad: tensor([[-0.8885],\n",
      "        [ 0.9525]])\n",
      "lambda grad: tensor([[0.0867]])\n",
      "v grad: tensor([[ 1.3475],\n",
      "        [-1.6886]])\n",
      "lambda grad: tensor([[-0.1309]])\n",
      "v grad: tensor([[ 1.1649],\n",
      "        [-1.0148]])\n",
      "lambda grad: tensor([[-0.1567]])\n",
      "v grad: tensor([[-0.2336],\n",
      "        [ 0.4810]])\n",
      "lambda grad: tensor([[0.0822]])\n",
      "v grad: tensor([[-0.5682],\n",
      "        [ 0.6134]])\n",
      "lambda grad: tensor([[-0.1543]])\n",
      "v grad: tensor([[-0.7132],\n",
      "        [ 0.7496]])\n",
      "lambda grad: tensor([[0.2158]])\n",
      "v grad: tensor([[-1.4074],\n",
      "        [ 1.2241]])\n",
      "lambda grad: tensor([[-0.0709]])\n",
      "v grad: tensor([[ 0.8545],\n",
      "        [-0.7044]])\n",
      "lambda grad: tensor([[0.1772]])\n",
      "v grad: tensor([[ 0.4311],\n",
      "        [-0.4286]])\n"
     ]
    },
    {
     "name": "stderr",
     "output_type": "stream",
     "text": [
      "Epoch:59 | Loss 0.7062 | Train1 0.088 | Train5 -1.000 | Reg term: 0.0 ||: 100%|██████████| 9/9 [00:00<00:00, 46.79it/s]\n",
      "Epoch:60 | Loss 0.7683 | Train1 0.076 | Train5 -1.000 | Reg term: 0.0 ||: 100%|██████████| 9/9 [00:00<00:00, 46.10it/s]\n",
      "  0%|          | 0/9 [00:00<?, ?it/s]"
     ]
    },
    {
     "name": "stdout",
     "output_type": "stream",
     "text": [
      "lambda grad: tensor([[0.6554]])\n",
      "v grad: tensor([[ 0.1730],\n",
      "        [-0.8437]])\n",
      "lambda grad: tensor([[-0.0519]])\n",
      "v grad: tensor([[ 0.7489],\n",
      "        [-0.6018]])\n",
      "lambda grad: tensor([[0.1739]])\n",
      "v grad: tensor([[-1.0723],\n",
      "        [ 1.1290]])\n",
      "lambda grad: tensor([[-0.2109]])\n",
      "v grad: tensor([[0.0400],\n",
      "        [0.2298]])\n",
      "lambda grad: tensor([[-0.0957]])\n",
      "v grad: tensor([[ 1.0881],\n",
      "        [-0.9058]])\n",
      "lambda grad: tensor([[0.1059]])\n",
      "v grad: tensor([[ 0.3980],\n",
      "        [-0.4065]])\n",
      "lambda grad: tensor([[-0.1192]])\n",
      "v grad: tensor([[-1.3136],\n",
      "        [ 1.2924]])\n",
      "lambda grad: tensor([[-0.2052]])\n",
      "v grad: tensor([[-1.1336],\n",
      "        [ 1.2272]])\n",
      "lambda grad: tensor([[-0.4106]])\n",
      "v grad: tensor([[ 0.5297],\n",
      "        [-0.1987]])\n",
      "lambda grad: tensor([[0.2159]])\n",
      "v grad: tensor([[ 1.1414],\n",
      "        [-1.2190]])\n"
     ]
    },
    {
     "name": "stderr",
     "output_type": "stream",
     "text": [
      "Epoch:61 | Loss 0.6535 | Train1 0.084 | Train5 -1.000 | Reg term: 0.0 ||: 100%|██████████| 9/9 [00:00<00:00, 46.87it/s]\n",
      "Epoch:62 | Loss 0.6965 | Train1 0.100 | Train5 -1.000 | Reg term: 0.0 ||:   0%|          | 0/9 [00:00<?, ?it/s]"
     ]
    },
    {
     "name": "stdout",
     "output_type": "stream",
     "text": [
      "lambda grad: tensor([[-0.2717]])\n",
      "v grad: tensor([[ 0.6553],\n",
      "        [-0.5909]])\n",
      "lambda grad: tensor([[-0.2521]])\n",
      "v grad: tensor([[ 0.1505],\n",
      "        [-0.3254]])\n",
      "lambda grad: tensor([[0.4150]])\n",
      "v grad: tensor([[-0.9956],\n",
      "        [ 1.0642]])\n",
      "lambda grad: tensor([[0.2227]])\n",
      "v grad: tensor([[-0.6236],\n",
      "        [ 0.6296]])\n",
      "lambda grad: tensor([[0.0595]])\n",
      "v grad: tensor([[ 0.3802],\n",
      "        [-0.1691]])\n",
      "lambda grad: tensor([[0.0084]])\n",
      "v grad: tensor([[ 0.5838],\n",
      "        [-0.6992]])\n",
      "lambda grad: tensor([[-0.0023]])\n",
      "v grad: tensor([[-0.6481],\n",
      "        [ 0.8126]])\n",
      "lambda grad: tensor([[0.2228]])\n",
      "v grad: tensor([[ 0.5353],\n",
      "        [-0.4476]])\n",
      "lambda grad: tensor([[-0.0793]])\n",
      "v grad: tensor([[-1.2275],\n",
      "        [ 1.0377]])\n",
      "lambda grad: tensor([[0.0744]])\n",
      "v grad: tensor([[ 1.1340],\n",
      "        [-1.5280]])\n"
     ]
    },
    {
     "name": "stderr",
     "output_type": "stream",
     "text": [
      "Epoch:62 | Loss 0.7645 | Train1 0.094 | Train5 -1.000 | Reg term: 0.0 ||: 100%|██████████| 9/9 [00:00<00:00, 46.98it/s]\n",
      "Epoch:63 | Loss 0.7047 | Train1 0.105 | Train5 -1.000 | Reg term: 0.0 ||:   0%|          | 0/9 [00:00<?, ?it/s]"
     ]
    },
    {
     "name": "stdout",
     "output_type": "stream",
     "text": [
      "lambda grad: tensor([[0.1405]])\n",
      "v grad: tensor([[ 0.9550],\n",
      "        [-1.2122]])\n",
      "lambda grad: tensor([[-0.1251]])\n",
      "v grad: tensor([[-0.1455],\n",
      "        [ 0.3023]])\n",
      "lambda grad: tensor([[0.0398]])\n",
      "v grad: tensor([[-0.6995],\n",
      "        [ 0.7031]])\n",
      "lambda grad: tensor([[-0.0224]])\n",
      "v grad: tensor([[-1.7255],\n",
      "        [ 1.7273]])\n",
      "lambda grad: tensor([[-0.0708]])\n",
      "v grad: tensor([[0.1257],\n",
      "        [0.0827]])\n",
      "lambda grad: tensor([[0.1566]])\n",
      "v grad: tensor([[ 0.4374],\n",
      "        [-0.4100]])\n",
      "lambda grad: tensor([[0.0276]])\n",
      "v grad: tensor([[ 0.7329],\n",
      "        [-0.7678]])\n",
      "lambda grad: tensor([[-0.2121]])\n",
      "v grad: tensor([[ 0.6405],\n",
      "        [-0.2471]])\n",
      "lambda grad: tensor([[0.1231]])\n",
      "v grad: tensor([[ 0.3869],\n",
      "        [-0.2828]])\n",
      "lambda grad: tensor([[-0.1536]])\n",
      "v grad: tensor([[0.2965],\n",
      "        [0.0532]])\n"
     ]
    },
    {
     "name": "stderr",
     "output_type": "stream",
     "text": [
      "Epoch:63 | Loss 0.6834 | Train1 0.085 | Train5 -1.000 | Reg term: 0.0 ||: 100%|██████████| 9/9 [00:00<00:00, 46.86it/s]\n",
      "Epoch:64 | Loss 0.7533 | Train1 0.113 | Train5 -1.000 | Reg term: 0.0 ||:   0%|          | 0/9 [00:00<?, ?it/s]"
     ]
    },
    {
     "name": "stdout",
     "output_type": "stream",
     "text": [
      "lambda grad: tensor([[-0.1287]])\n",
      "v grad: tensor([[-1.3899],\n",
      "        [ 1.0152]])\n",
      "lambda grad: tensor([[0.0785]])\n",
      "v grad: tensor([[-0.3091],\n",
      "        [ 0.4171]])\n",
      "lambda grad: tensor([[0.2561]])\n",
      "v grad: tensor([[ 1.1513],\n",
      "        [-1.1752]])\n",
      "lambda grad: tensor([[0.2812]])\n",
      "v grad: tensor([[ 0.4735],\n",
      "        [-0.4684]])\n",
      "lambda grad: tensor([[-0.0908]])\n",
      "v grad: tensor([[-0.6832],\n",
      "        [ 0.5201]])\n",
      "lambda grad: tensor([[0.2694]])\n",
      "v grad: tensor([[-0.0426],\n",
      "        [ 0.0711]])\n",
      "lambda grad: tensor([[-0.4213]])\n",
      "v grad: tensor([[ 0.5893],\n",
      "        [-0.3178]])\n",
      "lambda grad: tensor([[-0.0729]])\n",
      "v grad: tensor([[-1.6196],\n",
      "        [ 1.0240]])\n",
      "lambda grad: tensor([[-0.3916]])\n",
      "v grad: tensor([[-0.3861],\n",
      "        [ 0.6841]])\n",
      "lambda grad: tensor([[0.0115]])\n",
      "v grad: tensor([[ 0.6389],\n",
      "        [-0.8697]])\n"
     ]
    },
    {
     "name": "stderr",
     "output_type": "stream",
     "text": [
      "Epoch:64 | Loss 0.7292 | Train1 0.087 | Train5 -1.000 | Reg term: 0.0 ||: 100%|██████████| 9/9 [00:00<00:00, 46.83it/s]\n",
      "Epoch:65 | Loss 0.8081 | Train1 0.075 | Train5 -1.000 | Reg term: 0.0 ||:   0%|          | 0/9 [00:00<?, ?it/s]"
     ]
    },
    {
     "name": "stdout",
     "output_type": "stream",
     "text": [
      "lambda grad: tensor([[0.0380]])\n",
      "v grad: tensor([[ 0.8572],\n",
      "        [-0.9852]])\n",
      "lambda grad: tensor([[0.1248]])\n",
      "v grad: tensor([[ 0.5372],\n",
      "        [-0.4906]])\n",
      "lambda grad: tensor([[0.0488]])\n",
      "v grad: tensor([[0.0386],\n",
      "        [0.0410]])\n",
      "lambda grad: tensor([[0.3513]])\n",
      "v grad: tensor([[-1.5848],\n",
      "        [ 1.3940]])\n",
      "lambda grad: tensor([[0.0182]])\n",
      "v grad: tensor([[-0.7306],\n",
      "        [ 0.6571]])\n",
      "lambda grad: tensor([[0.0843]])\n",
      "v grad: tensor([[ 0.4160],\n",
      "        [-0.4542]])\n",
      "lambda grad: tensor([[-0.4092]])\n",
      "v grad: tensor([[ 0.9559],\n",
      "        [-0.9603]])\n",
      "lambda grad: tensor([[0.2484]])\n",
      "v grad: tensor([[ 0.6990],\n",
      "        [-0.7352]])\n",
      "lambda grad: tensor([[0.1497]])\n",
      "v grad: tensor([[-0.4843],\n",
      "        [ 0.3721]])\n",
      "lambda grad: tensor([[-0.1493]])\n",
      "v grad: tensor([[-0.3431],\n",
      "        [ 0.3519]])\n"
     ]
    },
    {
     "name": "stderr",
     "output_type": "stream",
     "text": [
      "Epoch:65 | Loss 0.8217 | Train1 0.096 | Train5 -1.000 | Reg term: 0.0 ||: 100%|██████████| 9/9 [00:00<00:00, 44.11it/s]\n",
      "Epoch:66 | Loss 0.7451 | Train1 0.114 | Train5 -1.000 | Reg term: 0.0 ||:  56%|█████▌    | 5/9 [00:00<00:00, 42.73it/s]"
     ]
    },
    {
     "name": "stdout",
     "output_type": "stream",
     "text": [
      "lambda grad: tensor([[-0.2166]])\n",
      "v grad: tensor([[-0.3437],\n",
      "        [ 0.6692]])\n",
      "lambda grad: tensor([[-0.1025]])\n",
      "v grad: tensor([[-0.7443],\n",
      "        [ 0.3696]])\n",
      "lambda grad: tensor([[0.1450]])\n",
      "v grad: tensor([[ 0.8083],\n",
      "        [-1.0816]])\n",
      "lambda grad: tensor([[-0.1050]])\n",
      "v grad: tensor([[ 0.2685],\n",
      "        [-0.1260]])\n",
      "lambda grad: tensor([[-0.1365]])\n",
      "v grad: tensor([[ 0.7015],\n",
      "        [-0.3089]])\n",
      "lambda grad: tensor([[-0.0602]])\n",
      "v grad: tensor([[0.2935],\n",
      "        [0.1012]])\n",
      "lambda grad: tensor([[-0.0390]])\n",
      "v grad: tensor([[-1.2170],\n",
      "        [ 1.3895]])\n",
      "lambda grad: tensor([[0.2384]])\n",
      "v grad: tensor([[-0.4981],\n",
      "        [ 0.6112]])\n",
      "lambda grad: tensor([[0.0525]])\n",
      "v grad: tensor([[ 0.9460],\n",
      "        [-0.8652]])\n",
      "lambda grad: tensor([[0.2254]])\n",
      "v grad: tensor([[ 0.0452],\n",
      "        [-0.1606]])\n"
     ]
    },
    {
     "name": "stderr",
     "output_type": "stream",
     "text": [
      "Epoch:66 | Loss 0.7555 | Train1 0.100 | Train5 -1.000 | Reg term: 0.0 ||: 100%|██████████| 9/9 [00:00<00:00, 45.64it/s]\n",
      "Epoch:67 | Loss 0.6268 | Train1 0.070 | Train5 -1.000 | Reg term: 0.0 ||:  56%|█████▌    | 5/9 [00:00<00:00, 41.40it/s]"
     ]
    },
    {
     "name": "stdout",
     "output_type": "stream",
     "text": [
      "lambda grad: tensor([[0.1114]])\n",
      "v grad: tensor([[ 0.9917],\n",
      "        [-1.0008]])\n",
      "lambda grad: tensor([[-0.2414]])\n",
      "v grad: tensor([[-0.1111],\n",
      "        [ 0.4033]])\n",
      "lambda grad: tensor([[-0.0733]])\n",
      "v grad: tensor([[-0.7914],\n",
      "        [ 0.8174]])\n",
      "lambda grad: tensor([[0.0922]])\n",
      "v grad: tensor([[0.3633],\n",
      "        [0.1592]])\n",
      "lambda grad: tensor([[0.1480]])\n",
      "v grad: tensor([[-0.4065],\n",
      "        [ 0.2791]])\n",
      "lambda grad: tensor([[-0.0196]])\n",
      "v grad: tensor([[ 0.1739],\n",
      "        [-0.2281]])\n",
      "lambda grad: tensor([[-0.0376]])\n",
      "v grad: tensor([[-0.4385],\n",
      "        [ 0.4705]])\n",
      "lambda grad: tensor([[-0.3001]])\n",
      "v grad: tensor([[ 0.6904],\n",
      "        [-1.0091]])\n",
      "lambda grad: tensor([[-0.2848]])\n",
      "v grad: tensor([[ 0.3764],\n",
      "        [-0.2468]])\n"
     ]
    },
    {
     "name": "stderr",
     "output_type": "stream",
     "text": [
      "Epoch:67 | Loss 0.6192 | Train1 0.057 | Train5 -1.000 | Reg term: 0.0 ||: 100%|██████████| 9/9 [00:00<00:00, 45.30it/s]\n",
      "Epoch:68 | Loss 0.6742 | Train1 0.072 | Train5 -1.000 | Reg term: 0.0 ||:  56%|█████▌    | 5/9 [00:00<00:00, 43.15it/s]"
     ]
    },
    {
     "name": "stdout",
     "output_type": "stream",
     "text": [
      "lambda grad: tensor([[-0.0842]])\n",
      "v grad: tensor([[-0.2014],\n",
      "        [-0.1512]])\n",
      "lambda grad: tensor([[-0.1176]])\n",
      "v grad: tensor([[-1.3166],\n",
      "        [ 1.0358]])\n",
      "lambda grad: tensor([[0.0140]])\n",
      "v grad: tensor([[-0.4228],\n",
      "        [ 0.0769]])\n",
      "lambda grad: tensor([[-0.1450]])\n",
      "v grad: tensor([[ 0.6743],\n",
      "        [-0.1397]])\n",
      "lambda grad: tensor([[0.1734]])\n",
      "v grad: tensor([[ 1.1694],\n",
      "        [-1.2186]])\n",
      "lambda grad: tensor([[0.4991]])\n",
      "v grad: tensor([[-0.4305],\n",
      "        [-0.0254]])\n",
      "lambda grad: tensor([[0.4288]])\n",
      "v grad: tensor([[-0.6060],\n",
      "        [ 0.0520]])\n",
      "lambda grad: tensor([[0.2648]])\n",
      "v grad: tensor([[-0.2036],\n",
      "        [ 0.1292]])\n",
      "lambda grad: tensor([[0.1857]])\n",
      "v grad: tensor([[-0.1131],\n",
      "        [ 0.0034]])\n",
      "lambda grad: tensor([[0.0004]])\n",
      "v grad: tensor([[ 0.3725],\n",
      "        [-0.3654]])\n"
     ]
    },
    {
     "name": "stderr",
     "output_type": "stream",
     "text": [
      "Epoch:68 | Loss 0.7343 | Train1 0.084 | Train5 -1.000 | Reg term: 0.0 ||: 100%|██████████| 9/9 [00:00<00:00, 46.19it/s]\n",
      "Epoch:69 | Loss 1.2389 | Train1 0.116 | Train5 -1.000 | Reg term: 0.0 ||:  56%|█████▌    | 5/9 [00:00<00:00, 43.14it/s]"
     ]
    },
    {
     "name": "stdout",
     "output_type": "stream",
     "text": [
      "lambda grad: tensor([[0.4028]])\n",
      "v grad: tensor([[-0.9182],\n",
      "        [ 0.6177]])\n",
      "lambda grad: tensor([[-0.1789]])\n",
      "v grad: tensor([[-0.3138],\n",
      "        [ 0.1549]])\n",
      "lambda grad: tensor([[-0.3820]])\n",
      "v grad: tensor([[-0.8194],\n",
      "        [ 0.9319]])\n",
      "lambda grad: tensor([[-1.2378]])\n",
      "v grad: tensor([[ 2.0991],\n",
      "        [-1.2239]])\n",
      "lambda grad: tensor([[-0.4530]])\n",
      "v grad: tensor([[ 1.1392],\n",
      "        [-1.2273]])\n",
      "lambda grad: tensor([[-0.1338]])\n",
      "v grad: tensor([[ 0.5962],\n",
      "        [-0.1596]])\n",
      "lambda grad: tensor([[0.2299]])\n",
      "v grad: tensor([[-1.0228],\n",
      "        [ 0.9070]])\n",
      "lambda grad: tensor([[0.3075]])\n",
      "v grad: tensor([[-1.1042],\n",
      "        [ 0.8907]])\n",
      "lambda grad: tensor([[-0.0258]])\n",
      "v grad: tensor([[-0.5614],\n",
      "        [ 0.7906]])\n",
      "lambda grad: tensor([[-0.1752]])\n",
      "v grad: tensor([[-0.7507],\n",
      "        [ 0.9052]])\n"
     ]
    },
    {
     "name": "stderr",
     "output_type": "stream",
     "text": [
      "Epoch:69 | Loss 1.2105 | Train1 0.115 | Train5 -1.000 | Reg term: 0.0 ||: 100%|██████████| 9/9 [00:00<00:00, 46.01it/s]\n",
      "Epoch:70 | Loss 0.9670 | Train1 0.099 | Train5 -1.000 | Reg term: 0.0 ||:  56%|█████▌    | 5/9 [00:00<00:00, 42.93it/s]"
     ]
    },
    {
     "name": "stdout",
     "output_type": "stream",
     "text": [
      "lambda grad: tensor([[0.4125]])\n",
      "v grad: tensor([[ 0.7580],\n",
      "        [-0.8233]])\n",
      "lambda grad: tensor([[0.5201]])\n",
      "v grad: tensor([[ 1.7912],\n",
      "        [-1.7977]])\n",
      "lambda grad: tensor([[0.2073]])\n",
      "v grad: tensor([[ 1.4053],\n",
      "        [-1.6921]])\n",
      "lambda grad: tensor([[0.2448]])\n",
      "v grad: tensor([[-1.4447],\n",
      "        [ 1.1579]])\n",
      "lambda grad: tensor([[-0.1156]])\n",
      "v grad: tensor([[-2.2458],\n",
      "        [ 2.2906]])\n",
      "lambda grad: tensor([[-0.1368]])\n",
      "v grad: tensor([[-0.5707],\n",
      "        [ 0.6057]])\n",
      "lambda grad: tensor([[-0.0881]])\n",
      "v grad: tensor([[ 0.8097],\n",
      "        [-0.6346]])\n",
      "lambda grad: tensor([[-0.1129]])\n",
      "v grad: tensor([[ 1.2227],\n",
      "        [-1.1710]])\n",
      "lambda grad: tensor([[-0.0558]])\n",
      "v grad: tensor([[ 1.3227],\n",
      "        [-1.3366]])\n",
      "lambda grad: tensor([[-0.2998]])\n",
      "v grad: tensor([[ 0.8012],\n",
      "        [-0.7851]])\n"
     ]
    },
    {
     "name": "stderr",
     "output_type": "stream",
     "text": [
      "Epoch:70 | Loss 0.9740 | Train1 0.098 | Train5 -1.000 | Reg term: 0.0 ||: 100%|██████████| 9/9 [00:00<00:00, 45.96it/s]\n",
      "Epoch:71 | Loss 0.7827 | Train1 0.104 | Train5 -1.000 | Reg term: 0.0 ||:  56%|█████▌    | 5/9 [00:00<00:00, 41.82it/s]"
     ]
    },
    {
     "name": "stdout",
     "output_type": "stream",
     "text": [
      "lambda grad: tensor([[-0.3201]])\n",
      "v grad: tensor([[-3.1470],\n",
      "        [ 2.3586]])\n",
      "lambda grad: tensor([[-0.1837]])\n",
      "v grad: tensor([[-0.4838],\n",
      "        [ 0.5247]])\n",
      "lambda grad: tensor([[-0.0774]])\n",
      "v grad: tensor([[-0.5346],\n",
      "        [ 0.4812]])\n",
      "lambda grad: tensor([[-0.3488]])\n",
      "v grad: tensor([[ 1.2358],\n",
      "        [-0.9859]])\n",
      "lambda grad: tensor([[-0.2026]])\n",
      "v grad: tensor([[ 1.5493],\n",
      "        [-0.9291]])\n",
      "lambda grad: tensor([[0.1946]])\n",
      "v grad: tensor([[ 0.6039],\n",
      "        [-0.5233]])\n",
      "lambda grad: tensor([[0.4351]])\n",
      "v grad: tensor([[-0.8795],\n",
      "        [ 0.8966]])\n",
      "lambda grad: tensor([[0.3913]])\n",
      "v grad: tensor([[-0.9396],\n",
      "        [ 0.9528]])\n",
      "lambda grad: tensor([[0.4786]])\n",
      "v grad: tensor([[-0.4549],\n",
      "        [ 0.2231]])\n",
      "lambda grad: tensor([[0.4586]])\n",
      "v grad: tensor([[-1.3667],\n",
      "        [ 0.9991]])\n"
     ]
    },
    {
     "name": "stderr",
     "output_type": "stream",
     "text": [
      "Epoch:71 | Loss 0.7827 | Train1 0.104 | Train5 -1.000 | Reg term: 0.0 ||: 100%|██████████| 9/9 [00:00<00:00, 45.38it/s]\n",
      "Epoch:72 | Loss 1.1456 | Train1 0.105 | Train5 -1.000 | Reg term: 0.0 ||: 100%|██████████| 9/9 [00:00<00:00, 45.53it/s]\n",
      "Epoch:73 | Loss 1.4675 | Train1 0.070 | Train5 -1.000 | Reg term: 0.0 ||:   0%|          | 0/9 [00:00<?, ?it/s]"
     ]
    },
    {
     "name": "stdout",
     "output_type": "stream",
     "text": [
      "lambda grad: tensor([[-0.0567]])\n",
      "v grad: tensor([[ 2.0425],\n",
      "        [-2.1740]])\n",
      "lambda grad: tensor([[0.2357]])\n",
      "v grad: tensor([[ 1.3329],\n",
      "        [-1.6523]])\n",
      "lambda grad: tensor([[-0.1593]])\n",
      "v grad: tensor([[ 0.3006],\n",
      "        [-0.3002]])\n",
      "lambda grad: tensor([[0.0709]])\n",
      "v grad: tensor([[-0.8425],\n",
      "        [ 1.0122]])\n",
      "lambda grad: tensor([[-0.0569]])\n",
      "v grad: tensor([[-1.9010],\n",
      "        [ 1.9800]])\n",
      "lambda grad: tensor([[-0.0824]])\n",
      "v grad: tensor([[-0.5959],\n",
      "        [ 0.8964]])\n",
      "lambda grad: tensor([[-0.3152]])\n",
      "v grad: tensor([[0.1433],\n",
      "        [0.1923]])\n",
      "lambda grad: tensor([[-0.2657]])\n",
      "v grad: tensor([[ 0.9202],\n",
      "        [-1.1729]])\n",
      "lambda grad: tensor([[-0.3498]])\n",
      "v grad: tensor([[ 1.6631],\n",
      "        [-0.2025]])\n",
      "lambda grad: tensor([[-0.8389]])\n",
      "v grad: tensor([[ 1.8875],\n",
      "        [-1.6611]])\n"
     ]
    },
    {
     "name": "stderr",
     "output_type": "stream",
     "text": [
      "Epoch:73 | Loss 0.8368 | Train1 0.077 | Train5 -1.000 | Reg term: 0.0 ||: 100%|██████████| 9/9 [00:00<00:00, 45.91it/s]\n",
      "Epoch:74 | Loss 0.5969 | Train1 0.040 | Train5 -1.000 | Reg term: 0.0 ||:   0%|          | 0/9 [00:00<?, ?it/s]"
     ]
    },
    {
     "name": "stdout",
     "output_type": "stream",
     "text": [
      "lambda grad: tensor([[-0.2154]])\n",
      "v grad: tensor([[-0.0859],\n",
      "        [ 0.2001]])\n",
      "lambda grad: tensor([[-0.1900]])\n",
      "v grad: tensor([[-1.8528],\n",
      "        [ 1.3105]])\n",
      "lambda grad: tensor([[-0.1246]])\n",
      "v grad: tensor([[-1.3389],\n",
      "        [ 1.3210]])\n",
      "lambda grad: tensor([[0.5870]])\n",
      "v grad: tensor([[-0.6725],\n",
      "        [ 0.2560]])\n",
      "lambda grad: tensor([[0.2894]])\n",
      "v grad: tensor([[-0.4610],\n",
      "        [ 0.3459]])\n",
      "lambda grad: tensor([[-0.2276]])\n",
      "v grad: tensor([[ 1.8882],\n",
      "        [-1.8004]])\n",
      "lambda grad: tensor([[0.4231]])\n",
      "v grad: tensor([[ 0.9830],\n",
      "        [-1.1343]])\n",
      "lambda grad: tensor([[0.8353]])\n",
      "v grad: tensor([[-0.6384],\n",
      "        [ 0.2572]])\n",
      "lambda grad: tensor([[0.5797]])\n",
      "v grad: tensor([[-0.4536],\n",
      "        [ 0.3149]])\n",
      "lambda grad: tensor([[-0.0684]])\n",
      "v grad: tensor([[ 0.6681],\n",
      "        [-1.0126]])\n"
     ]
    },
    {
     "name": "stderr",
     "output_type": "stream",
     "text": [
      "Epoch:74 | Loss 0.7310 | Train1 0.062 | Train5 -1.000 | Reg term: 0.0 ||: 100%|██████████| 9/9 [00:00<00:00, 45.53it/s]\n",
      "Epoch:75 | Loss 0.8154 | Train1 0.100 | Train5 -1.000 | Reg term: 0.0 ||:   0%|          | 0/9 [00:00<?, ?it/s]"
     ]
    },
    {
     "name": "stdout",
     "output_type": "stream",
     "text": [
      "lambda grad: tensor([[-0.1307]])\n",
      "v grad: tensor([[-1.9001],\n",
      "        [ 1.6909]])\n",
      "lambda grad: tensor([[-0.0148]])\n",
      "v grad: tensor([[-0.1884],\n",
      "        [ 0.0629]])\n",
      "lambda grad: tensor([[-0.0853]])\n",
      "v grad: tensor([[ 0.5091],\n",
      "        [-0.6590]])\n",
      "lambda grad: tensor([[-0.1814]])\n",
      "v grad: tensor([[ 0.5999],\n",
      "        [-0.5007]])\n",
      "lambda grad: tensor([[-0.6755]])\n",
      "v grad: tensor([[0.3126],\n",
      "        [0.0214]])\n",
      "lambda grad: tensor([[-0.2859]])\n",
      "v grad: tensor([[ 0.3166],\n",
      "        [-0.3791]])\n",
      "lambda grad: tensor([[0.0584]])\n",
      "v grad: tensor([[-0.3936],\n",
      "        [-0.1084]])\n",
      "lambda grad: tensor([[0.0902]])\n",
      "v grad: tensor([[ 0.1671],\n",
      "        [-0.1357]])\n",
      "lambda grad: tensor([[-0.2018]])\n",
      "v grad: tensor([[-0.3398],\n",
      "        [ 0.5576]])\n",
      "lambda grad: tensor([[-0.1571]])\n",
      "v grad: tensor([[-0.6671],\n",
      "        [ 0.8230]])\n"
     ]
    },
    {
     "name": "stderr",
     "output_type": "stream",
     "text": [
      "Epoch:75 | Loss 0.7642 | Train1 0.094 | Train5 -1.000 | Reg term: 0.0 ||: 100%|██████████| 9/9 [00:00<00:00, 46.15it/s]\n",
      "Epoch:76 | Loss 0.7161 | Train1 0.085 | Train5 -1.000 | Reg term: 0.0 ||:   0%|          | 0/9 [00:00<?, ?it/s]"
     ]
    },
    {
     "name": "stdout",
     "output_type": "stream",
     "text": [
      "lambda grad: tensor([[-0.1258]])\n",
      "v grad: tensor([[-0.6064],\n",
      "        [ 1.0549]])\n",
      "lambda grad: tensor([[0.1670]])\n",
      "v grad: tensor([[ 0.3783],\n",
      "        [-0.2725]])\n",
      "lambda grad: tensor([[0.0339]])\n",
      "v grad: tensor([[-0.0127],\n",
      "        [-0.3146]])\n",
      "lambda grad: tensor([[0.1332]])\n",
      "v grad: tensor([[ 1.0576],\n",
      "        [-1.1612]])\n",
      "lambda grad: tensor([[0.1253]])\n",
      "v grad: tensor([[ 0.4535],\n",
      "        [-0.2398]])\n",
      "lambda grad: tensor([[0.1579]])\n",
      "v grad: tensor([[ 0.6965],\n",
      "        [-0.8865]])\n",
      "lambda grad: tensor([[0.2773]])\n",
      "v grad: tensor([[-1.7720],\n",
      "        [ 1.6810]])\n",
      "lambda grad: tensor([[0.5741]])\n",
      "v grad: tensor([[-0.2517],\n",
      "        [ 0.2425]])\n",
      "lambda grad: tensor([[0.1534]])\n",
      "v grad: tensor([[ 0.1578],\n",
      "        [-0.0428]])\n",
      "lambda grad: tensor([[0.0124]])\n",
      "v grad: tensor([[ 0.3555],\n",
      "        [-0.0570]])\n"
     ]
    },
    {
     "name": "stderr",
     "output_type": "stream",
     "text": [
      "Epoch:76 | Loss 0.7825 | Train1 0.090 | Train5 -1.000 | Reg term: 0.0 ||: 100%|██████████| 9/9 [00:00<00:00, 45.84it/s]\n",
      "Epoch:77 | Loss 1.0939 | Train1 0.098 | Train5 -1.000 | Reg term: 0.0 ||:  56%|█████▌    | 5/9 [00:00<00:00, 42.82it/s]"
     ]
    },
    {
     "name": "stdout",
     "output_type": "stream",
     "text": [
      "lambda grad: tensor([[-0.2584]])\n",
      "v grad: tensor([[ 1.0894],\n",
      "        [-0.7462]])\n",
      "lambda grad: tensor([[-0.0995]])\n",
      "v grad: tensor([[-0.2217],\n",
      "        [ 0.2181]])\n",
      "lambda grad: tensor([[-0.3317]])\n",
      "v grad: tensor([[ 0.2611],\n",
      "        [-0.0414]])\n",
      "lambda grad: tensor([[-0.1455]])\n",
      "v grad: tensor([[-0.6376],\n",
      "        [ 0.9823]])\n",
      "lambda grad: tensor([[0.7474]])\n",
      "v grad: tensor([[-2.1392],\n",
      "        [ 1.6069]])\n",
      "lambda grad: tensor([[-0.1504]])\n",
      "v grad: tensor([[ 0.5613],\n",
      "        [-0.7668]])\n",
      "lambda grad: tensor([[-0.2257]])\n",
      "v grad: tensor([[ 1.4186],\n",
      "        [-1.2722]])\n",
      "lambda grad: tensor([[-0.2473]])\n",
      "v grad: tensor([[ 1.8785],\n",
      "        [-1.8170]])\n",
      "lambda grad: tensor([[-0.1227]])\n",
      "v grad: tensor([[-0.3789],\n",
      "        [ 0.6554]])\n",
      "lambda grad: tensor([[-0.2784]])\n",
      "v grad: tensor([[-1.0166],\n",
      "        [ 0.9684]])\n"
     ]
    },
    {
     "name": "stderr",
     "output_type": "stream",
     "text": [
      "Epoch:77 | Loss 0.9383 | Train1 0.088 | Train5 -1.000 | Reg term: 0.0 ||: 100%|██████████| 9/9 [00:00<00:00, 45.86it/s]\n",
      "Epoch:78 | Loss 0.6473 | Train1 0.073 | Train5 -1.000 | Reg term: 0.0 ||:  56%|█████▌    | 5/9 [00:00<00:00, 42.79it/s]"
     ]
    },
    {
     "name": "stdout",
     "output_type": "stream",
     "text": [
      "lambda grad: tensor([[0.0019]])\n",
      "v grad: tensor([[-0.8925],\n",
      "        [ 0.8019]])\n",
      "lambda grad: tensor([[-0.3540]])\n",
      "v grad: tensor([[-0.7242],\n",
      "        [ 0.6867]])\n",
      "lambda grad: tensor([[-0.0552]])\n",
      "v grad: tensor([[ 1.1270],\n",
      "        [-0.7250]])\n",
      "lambda grad: tensor([[-0.3136]])\n",
      "v grad: tensor([[ 1.3488],\n",
      "        [-1.4645]])\n",
      "lambda grad: tensor([[0.2094]])\n",
      "v grad: tensor([[-0.3365],\n",
      "        [ 0.2670]])\n",
      "lambda grad: tensor([[0.2801]])\n",
      "v grad: tensor([[-0.8852],\n",
      "        [ 0.6935]])\n",
      "lambda grad: tensor([[0.3095]])\n",
      "v grad: tensor([[-0.4902],\n",
      "        [ 0.5449]])\n",
      "lambda grad: tensor([[0.4065]])\n",
      "v grad: tensor([[-0.6756],\n",
      "        [ 0.4653]])\n",
      "lambda grad: tensor([[0.0967]])\n",
      "v grad: tensor([[ 0.5577],\n",
      "        [-0.6540]])\n",
      "lambda grad: tensor([[-0.0601]])\n",
      "v grad: tensor([[ 0.8028],\n",
      "        [-1.2357]])\n"
     ]
    },
    {
     "name": "stderr",
     "output_type": "stream",
     "text": [
      "Epoch:78 | Loss 0.6504 | Train1 0.079 | Train5 -1.000 | Reg term: 0.0 ||: 100%|██████████| 9/9 [00:00<00:00, 45.83it/s]\n",
      "Epoch:79 | Loss 0.9077 | Train1 0.100 | Train5 -1.000 | Reg term: 0.0 ||:  56%|█████▌    | 5/9 [00:00<00:00, 42.86it/s]"
     ]
    },
    {
     "name": "stdout",
     "output_type": "stream",
     "text": [
      "lambda grad: tensor([[0.2972]])\n",
      "v grad: tensor([[ 0.7471],\n",
      "        [-0.5767]])\n",
      "lambda grad: tensor([[0.3715]])\n",
      "v grad: tensor([[-0.2397],\n",
      "        [ 0.2930]])\n",
      "lambda grad: tensor([[-0.0449]])\n",
      "v grad: tensor([[-1.0546],\n",
      "        [ 0.5653]])\n",
      "lambda grad: tensor([[-0.2278]])\n",
      "v grad: tensor([[-0.6271],\n",
      "        [ 0.6462]])\n",
      "lambda grad: tensor([[-0.1289]])\n",
      "v grad: tensor([[-0.9260],\n",
      "        [ 0.9801]])\n",
      "lambda grad: tensor([[0.1126]])\n",
      "v grad: tensor([[ 0.8479],\n",
      "        [-0.8285]])\n",
      "lambda grad: tensor([[-0.2081]])\n",
      "v grad: tensor([[ 0.2755],\n",
      "        [-0.3997]])\n",
      "lambda grad: tensor([[-0.2062]])\n",
      "v grad: tensor([[ 0.6801],\n",
      "        [-0.4578]])\n",
      "lambda grad: tensor([[-0.1091]])\n",
      "v grad: tensor([[ 1.2307],\n",
      "        [-0.9557]])\n",
      "lambda grad: tensor([[-0.2402]])\n",
      "v grad: tensor([[-0.1633],\n",
      "        [ 0.4534]])\n"
     ]
    },
    {
     "name": "stderr",
     "output_type": "stream",
     "text": [
      "Epoch:79 | Loss 0.9179 | Train1 0.094 | Train5 -1.000 | Reg term: 0.0 ||: 100%|██████████| 9/9 [00:00<00:00, 45.91it/s]\n",
      "Epoch:80 | Loss 0.6729 | Train1 0.093 | Train5 -1.000 | Reg term: 0.0 ||:  56%|█████▌    | 5/9 [00:00<00:00, 42.87it/s]"
     ]
    },
    {
     "name": "stdout",
     "output_type": "stream",
     "text": [
      "lambda grad: tensor([[-0.1885]])\n",
      "v grad: tensor([[-1.0382],\n",
      "        [ 1.4669]])\n",
      "lambda grad: tensor([[-0.1643]])\n",
      "v grad: tensor([[-1.3183],\n",
      "        [ 1.0578]])\n",
      "lambda grad: tensor([[-0.0462]])\n",
      "v grad: tensor([[ 0.4419],\n",
      "        [-0.4948]])\n",
      "lambda grad: tensor([[-0.2686]])\n",
      "v grad: tensor([[ 1.2630],\n",
      "        [-1.0967]])\n",
      "lambda grad: tensor([[0.3415]])\n",
      "v grad: tensor([[-0.0797],\n",
      "        [ 0.1501]])\n",
      "lambda grad: tensor([[0.4450]])\n",
      "v grad: tensor([[-0.1895],\n",
      "        [ 0.2009]])\n",
      "lambda grad: tensor([[0.2008]])\n",
      "v grad: tensor([[ 0.3003],\n",
      "        [-0.1512]])\n",
      "lambda grad: tensor([[-0.0548]])\n",
      "v grad: tensor([[0.0122],\n",
      "        [0.3586]])\n",
      "lambda grad: tensor([[-0.3200]])\n",
      "v grad: tensor([[ 1.2071],\n",
      "        [-1.5680]])\n",
      "lambda grad: tensor([[0.1563]])\n",
      "v grad: tensor([[-0.2184],\n",
      "        [ 0.0150]])\n"
     ]
    },
    {
     "name": "stderr",
     "output_type": "stream",
     "text": [
      "Epoch:80 | Loss 0.6726 | Train1 0.093 | Train5 -1.000 | Reg term: 0.0 ||: 100%|██████████| 9/9 [00:00<00:00, 45.82it/s]\n",
      "Epoch:81 | Loss 0.8103 | Train1 0.102 | Train5 -1.000 | Reg term: 0.0 ||: 100%|██████████| 9/9 [00:00<00:00, 45.98it/s]\n",
      "  0%|          | 0/9 [00:00<?, ?it/s]"
     ]
    },
    {
     "name": "stdout",
     "output_type": "stream",
     "text": [
      "lambda grad: tensor([[-0.1699]])\n",
      "v grad: tensor([[-0.2942],\n",
      "        [ 0.4943]])\n",
      "lambda grad: tensor([[0.3034]])\n",
      "v grad: tensor([[-1.8300],\n",
      "        [ 1.2822]])\n",
      "lambda grad: tensor([[0.0904]])\n",
      "v grad: tensor([[-1.5816],\n",
      "        [ 1.1998]])\n",
      "lambda grad: tensor([[0.1566]])\n",
      "v grad: tensor([[ 0.1625],\n",
      "        [-0.3697]])\n",
      "lambda grad: tensor([[0.1713]])\n",
      "v grad: tensor([[ 1.3643],\n",
      "        [-1.6735]])\n",
      "lambda grad: tensor([[0.1947]])\n",
      "v grad: tensor([[ 1.5852],\n",
      "        [-1.4106]])\n",
      "lambda grad: tensor([[0.2440]])\n",
      "v grad: tensor([[ 0.1880],\n",
      "        [-0.0971]])\n",
      "lambda grad: tensor([[-0.1333]])\n",
      "v grad: tensor([[-1.4073],\n",
      "        [ 1.7531]])\n",
      "lambda grad: tensor([[-0.2289]])\n",
      "v grad: tensor([[-0.7257],\n",
      "        [ 0.7382]])\n",
      "lambda grad: tensor([[0.1233]])\n",
      "v grad: tensor([[-0.1796],\n",
      "        [ 0.3903]])\n"
     ]
    },
    {
     "name": "stderr",
     "output_type": "stream",
     "text": [
      "Epoch:82 | Loss 0.8602 | Train1 0.098 | Train5 -1.000 | Reg term: 0.0 ||: 100%|██████████| 9/9 [00:00<00:00, 45.93it/s]\n",
      "Epoch:83 | Loss 0.6661 | Train1 0.070 | Train5 -1.000 | Reg term: 0.0 ||:   0%|          | 0/9 [00:00<?, ?it/s]"
     ]
    },
    {
     "name": "stdout",
     "output_type": "stream",
     "text": [
      "lambda grad: tensor([[-0.1173]])\n",
      "v grad: tensor([[ 1.6031],\n",
      "        [-1.6000]])\n",
      "lambda grad: tensor([[-0.2032]])\n",
      "v grad: tensor([[0.0342],\n",
      "        [0.0872]])\n",
      "lambda grad: tensor([[-0.0850]])\n",
      "v grad: tensor([[ 0.6385],\n",
      "        [-0.3790]])\n",
      "lambda grad: tensor([[-0.1322]])\n",
      "v grad: tensor([[-0.0570],\n",
      "        [-0.0637]])\n",
      "lambda grad: tensor([[0.0210]])\n",
      "v grad: tensor([[-0.2679],\n",
      "        [ 0.1450]])\n",
      "lambda grad: tensor([[0.0168]])\n",
      "v grad: tensor([[-1.7338],\n",
      "        [ 1.6817]])\n",
      "lambda grad: tensor([[0.1706]])\n",
      "v grad: tensor([[ 0.2597],\n",
      "        [-0.2327]])\n",
      "lambda grad: tensor([[-0.3329]])\n",
      "v grad: tensor([[ 0.9994],\n",
      "        [-0.8606]])\n",
      "lambda grad: tensor([[-0.1746]])\n",
      "v grad: tensor([[ 1.1242],\n",
      "        [-0.8709]])\n",
      "lambda grad: tensor([[-0.1555]])\n",
      "v grad: tensor([[-0.4021],\n",
      "        [ 0.4452]])\n"
     ]
    },
    {
     "name": "stderr",
     "output_type": "stream",
     "text": [
      "Epoch:83 | Loss 0.6806 | Train1 0.099 | Train5 -1.000 | Reg term: 0.0 ||: 100%|██████████| 9/9 [00:00<00:00, 45.81it/s]\n",
      "Epoch:84 | Loss 0.7113 | Train1 0.105 | Train5 -1.000 | Reg term: 0.0 ||:   0%|          | 0/9 [00:00<?, ?it/s]"
     ]
    },
    {
     "name": "stdout",
     "output_type": "stream",
     "text": [
      "lambda grad: tensor([[0.0967]])\n",
      "v grad: tensor([[-1.8102],\n",
      "        [ 1.4674]])\n",
      "lambda grad: tensor([[0.0424]])\n",
      "v grad: tensor([[-0.1326],\n",
      "        [-0.2032]])\n",
      "lambda grad: tensor([[0.0689]])\n",
      "v grad: tensor([[ 0.5777],\n",
      "        [-0.6581]])\n",
      "lambda grad: tensor([[0.0325]])\n",
      "v grad: tensor([[0.0268],\n",
      "        [0.1710]])\n",
      "lambda grad: tensor([[0.1735]])\n",
      "v grad: tensor([[ 0.2872],\n",
      "        [-0.3512]])\n",
      "lambda grad: tensor([[0.2660]])\n",
      "v grad: tensor([[ 0.5874],\n",
      "        [-0.3207]])\n",
      "lambda grad: tensor([[0.0331]])\n",
      "v grad: tensor([[ 0.6028],\n",
      "        [-0.4025]])\n",
      "lambda grad: tensor([[0.1596]])\n",
      "v grad: tensor([[-0.5269],\n",
      "        [-0.1953]])\n",
      "lambda grad: tensor([[0.1093]])\n",
      "v grad: tensor([[-1.0301],\n",
      "        [ 0.8739]])\n",
      "lambda grad: tensor([[-0.0105]])\n",
      "v grad: tensor([[-0.8880],\n",
      "        [ 0.9300]])\n"
     ]
    },
    {
     "name": "stderr",
     "output_type": "stream",
     "text": [
      "Epoch:84 | Loss 0.7897 | Train1 0.097 | Train5 -1.000 | Reg term: 0.0 ||: 100%|██████████| 9/9 [00:00<00:00, 45.89it/s]\n",
      "Epoch:85 | Loss 0.7054 | Train1 0.080 | Train5 -1.000 | Reg term: 0.0 ||:   0%|          | 0/9 [00:00<?, ?it/s]"
     ]
    },
    {
     "name": "stdout",
     "output_type": "stream",
     "text": [
      "lambda grad: tensor([[-0.1881]])\n",
      "v grad: tensor([[ 0.5472],\n",
      "        [-0.3395]])\n",
      "lambda grad: tensor([[-0.0169]])\n",
      "v grad: tensor([[ 0.8035],\n",
      "        [-0.5834]])\n",
      "lambda grad: tensor([[-0.1946]])\n",
      "v grad: tensor([[ 0.3728],\n",
      "        [-0.0151]])\n",
      "lambda grad: tensor([[0.4190]])\n",
      "v grad: tensor([[ 0.6297],\n",
      "        [-0.6483]])\n",
      "lambda grad: tensor([[-0.3028]])\n",
      "v grad: tensor([[-0.6699],\n",
      "        [ 0.9404]])\n",
      "lambda grad: tensor([[-0.2367]])\n",
      "v grad: tensor([[-0.0047],\n",
      "        [-0.1656]])\n",
      "lambda grad: tensor([[0.0023]])\n",
      "v grad: tensor([[-1.3898],\n",
      "        [ 1.1926]])\n",
      "lambda grad: tensor([[0.0058]])\n",
      "v grad: tensor([[ 0.8120],\n",
      "        [-1.0366]])\n",
      "lambda grad: tensor([[-0.0958]])\n",
      "v grad: tensor([[ 0.6351],\n",
      "        [-0.5964]])\n",
      "lambda grad: tensor([[-0.1065]])\n",
      "v grad: tensor([[ 0.6561],\n",
      "        [-0.5882]])\n"
     ]
    },
    {
     "name": "stderr",
     "output_type": "stream",
     "text": [
      "Epoch:85 | Loss 0.7048 | Train1 0.084 | Train5 -1.000 | Reg term: 0.0 ||: 100%|██████████| 9/9 [00:00<00:00, 45.94it/s]\n",
      "Epoch:86 | Loss 0.6086 | Train1 0.075 | Train5 -1.000 | Reg term: 0.0 ||:   0%|          | 0/9 [00:00<?, ?it/s]"
     ]
    },
    {
     "name": "stdout",
     "output_type": "stream",
     "text": [
      "lambda grad: tensor([[-0.2714]])\n",
      "v grad: tensor([[-0.6440],\n",
      "        [ 1.0676]])\n",
      "lambda grad: tensor([[-0.2982]])\n",
      "v grad: tensor([[-0.4236],\n",
      "        [ 0.5669]])\n",
      "lambda grad: tensor([[0.1187]])\n",
      "v grad: tensor([[-0.6694],\n",
      "        [ 0.7756]])\n",
      "lambda grad: tensor([[-0.0667]])\n",
      "v grad: tensor([[ 0.5913],\n",
      "        [-0.5212]])\n",
      "lambda grad: tensor([[0.3998]])\n",
      "v grad: tensor([[ 0.9496],\n",
      "        [-1.2784]])\n",
      "lambda grad: tensor([[0.4043]])\n",
      "v grad: tensor([[ 0.1213],\n",
      "        [-0.2899]])\n",
      "lambda grad: tensor([[0.3572]])\n",
      "v grad: tensor([[ 0.1603],\n",
      "        [-0.2945]])\n",
      "lambda grad: tensor([[0.1343]])\n",
      "v grad: tensor([[-1.7040],\n",
      "        [ 1.5253]])\n",
      "lambda grad: tensor([[0.1255]])\n",
      "v grad: tensor([[-0.0881],\n",
      "        [ 0.0746]])\n",
      "lambda grad: tensor([[0.0604]])\n",
      "v grad: tensor([[ 0.3597],\n",
      "        [-0.4587]])\n"
     ]
    },
    {
     "name": "stderr",
     "output_type": "stream",
     "text": [
      "Epoch:86 | Loss 0.7927 | Train1 0.085 | Train5 -1.000 | Reg term: 0.0 ||: 100%|██████████| 9/9 [00:00<00:00, 45.82it/s]\n",
      "Epoch:87 | Loss 0.8644 | Train1 0.108 | Train5 -1.000 | Reg term: 0.0 ||:  56%|█████▌    | 5/9 [00:00<00:00, 43.03it/s]"
     ]
    },
    {
     "name": "stdout",
     "output_type": "stream",
     "text": [
      "lambda grad: tensor([[0.4219]])\n",
      "v grad: tensor([[-0.3320],\n",
      "        [ 0.3856]])\n",
      "lambda grad: tensor([[-0.0478]])\n",
      "v grad: tensor([[ 0.2147],\n",
      "        [-0.4441]])\n",
      "lambda grad: tensor([[-0.4444]])\n",
      "v grad: tensor([[ 1.5181],\n",
      "        [-1.4551]])\n",
      "lambda grad: tensor([[-0.4357]])\n",
      "v grad: tensor([[-0.6846],\n",
      "        [ 0.7745]])\n",
      "lambda grad: tensor([[-0.5621]])\n",
      "v grad: tensor([[ 0.1566],\n",
      "        [-0.2088]])\n",
      "lambda grad: tensor([[0.0839]])\n",
      "v grad: tensor([[-0.9358],\n",
      "        [ 0.8784]])\n",
      "lambda grad: tensor([[-0.0483]])\n",
      "v grad: tensor([[-1.0029],\n",
      "        [ 0.9148]])\n",
      "lambda grad: tensor([[0.0946]])\n",
      "v grad: tensor([[ 0.1400],\n",
      "        [-0.1017]])\n",
      "lambda grad: tensor([[0.1491]])\n",
      "v grad: tensor([[ 0.5520],\n",
      "        [-0.2055]])\n",
      "lambda grad: tensor([[-0.2391]])\n",
      "v grad: tensor([[ 1.5330],\n",
      "        [-1.3210]])\n"
     ]
    },
    {
     "name": "stderr",
     "output_type": "stream",
     "text": [
      "Epoch:87 | Loss 0.8659 | Train1 0.110 | Train5 -1.000 | Reg term: 0.0 ||: 100%|██████████| 9/9 [00:00<00:00, 44.80it/s]\n",
      "Epoch:88 | Loss 0.8539 | Train1 0.110 | Train5 -1.000 | Reg term: 0.0 ||:  56%|█████▌    | 5/9 [00:00<00:00, 43.21it/s]"
     ]
    },
    {
     "name": "stdout",
     "output_type": "stream",
     "text": [
      "lambda grad: tensor([[0.3169]])\n",
      "v grad: tensor([[ 1.2064],\n",
      "        [-1.2608]])\n",
      "lambda grad: tensor([[0.0369]])\n",
      "v grad: tensor([[-0.5454],\n",
      "        [ 0.7458]])\n",
      "lambda grad: tensor([[-0.0972]])\n",
      "v grad: tensor([[-0.8656],\n",
      "        [ 0.8665]])\n",
      "lambda grad: tensor([[-0.2091]])\n",
      "v grad: tensor([[-0.4846],\n",
      "        [ 1.0394]])\n",
      "lambda grad: tensor([[0.1927]])\n",
      "v grad: tensor([[-1.5839],\n",
      "        [ 1.3172]])\n",
      "lambda grad: tensor([[0.1530]])\n",
      "v grad: tensor([[-0.0484],\n",
      "        [ 0.0511]])\n",
      "lambda grad: tensor([[0.3818]])\n",
      "v grad: tensor([[ 0.5270],\n",
      "        [-0.8645]])\n",
      "lambda grad: tensor([[0.0447]])\n",
      "v grad: tensor([[ 1.6776],\n",
      "        [-1.6309]])\n",
      "lambda grad: tensor([[0.1854]])\n",
      "v grad: tensor([[ 1.4183],\n",
      "        [-1.5492]])\n",
      "lambda grad: tensor([[-0.0773]])\n",
      "v grad: tensor([[-0.3034],\n",
      "        [ 0.2227]])\n"
     ]
    },
    {
     "name": "stderr",
     "output_type": "stream",
     "text": [
      "Epoch:88 | Loss 0.8687 | Train1 0.108 | Train5 -1.000 | Reg term: 0.0 ||: 100%|██████████| 9/9 [00:00<00:00, 46.19it/s]\n",
      "Epoch:89 | Loss 0.7173 | Train1 0.104 | Train5 -1.000 | Reg term: 0.0 ||:  56%|█████▌    | 5/9 [00:00<00:00, 42.88it/s]"
     ]
    },
    {
     "name": "stdout",
     "output_type": "stream",
     "text": [
      "lambda grad: tensor([[-0.3350]])\n",
      "v grad: tensor([[-1.2342],\n",
      "        [ 1.2804]])\n",
      "lambda grad: tensor([[-0.0764]])\n",
      "v grad: tensor([[-1.3222],\n",
      "        [ 0.9575]])\n",
      "lambda grad: tensor([[0.2238]])\n",
      "v grad: tensor([[-0.1044],\n",
      "        [-0.0451]])\n",
      "lambda grad: tensor([[-0.3585]])\n",
      "v grad: tensor([[ 0.4562],\n",
      "        [-0.5191]])\n",
      "lambda grad: tensor([[-0.1983]])\n",
      "v grad: tensor([[-0.6638],\n",
      "        [ 0.6550]])\n",
      "lambda grad: tensor([[-0.4428]])\n",
      "v grad: tensor([[ 0.5503],\n",
      "        [-0.3555]])\n",
      "lambda grad: tensor([[-0.0559]])\n",
      "v grad: tensor([[ 0.6029],\n",
      "        [-0.5237]])\n",
      "lambda grad: tensor([[0.0992]])\n",
      "v grad: tensor([[ 0.3941],\n",
      "        [-0.3528]])\n",
      "lambda grad: tensor([[0.1186]])\n",
      "v grad: tensor([[ 0.1772],\n",
      "        [-0.0937]])\n",
      "lambda grad: tensor([[0.3398]])\n",
      "v grad: tensor([[-1.2526],\n",
      "        [ 0.8355]])\n"
     ]
    },
    {
     "name": "stderr",
     "output_type": "stream",
     "text": [
      "Epoch:89 | Loss 0.7352 | Train1 0.097 | Train5 -1.000 | Reg term: 0.0 ||: 100%|██████████| 9/9 [00:00<00:00, 45.82it/s]\n",
      "Epoch:90 | Loss 0.8940 | Train1 0.096 | Train5 -1.000 | Reg term: 0.0 ||:  56%|█████▌    | 5/9 [00:00<00:00, 42.95it/s]"
     ]
    },
    {
     "name": "stdout",
     "output_type": "stream",
     "text": [
      "lambda grad: tensor([[0.4140]])\n",
      "v grad: tensor([[-0.0367],\n",
      "        [ 0.4301]])\n",
      "lambda grad: tensor([[0.7429]])\n",
      "v grad: tensor([[ 0.0536],\n",
      "        [-0.0446]])\n",
      "lambda grad: tensor([[0.0305]])\n",
      "v grad: tensor([[ 0.4920],\n",
      "        [-0.5472]])\n",
      "lambda grad: tensor([[-0.0330]])\n",
      "v grad: tensor([[0.0329],\n",
      "        [0.0178]])\n",
      "lambda grad: tensor([[-0.0340]])\n",
      "v grad: tensor([[ 0.6279],\n",
      "        [-0.4579]])\n",
      "lambda grad: tensor([[-0.7795]])\n",
      "v grad: tensor([[-0.4029],\n",
      "        [ 0.8607]])\n",
      "lambda grad: tensor([[-0.3763]])\n",
      "v grad: tensor([[ 0.1322],\n",
      "        [-0.5318]])\n",
      "lambda grad: tensor([[-0.1341]])\n",
      "v grad: tensor([[-0.1952],\n",
      "        [ 0.3251]])\n",
      "lambda grad: tensor([[-0.2256]])\n",
      "v grad: tensor([[-0.2113],\n",
      "        [ 0.5739]])\n"
     ]
    },
    {
     "name": "stderr",
     "output_type": "stream",
     "text": [
      "Epoch:90 | Loss 0.8836 | Train1 0.092 | Train5 -1.000 | Reg term: 0.0 ||: 100%|██████████| 9/9 [00:00<00:00, 44.67it/s]\n",
      "Epoch:91 | Loss 0.6740 | Train1 0.091 | Train5 -1.000 | Reg term: 0.0 ||:  56%|█████▌    | 5/9 [00:00<00:00, 41.92it/s]"
     ]
    },
    {
     "name": "stdout",
     "output_type": "stream",
     "text": [
      "lambda grad: tensor([[-0.0453]])\n",
      "v grad: tensor([[ 0.7164],\n",
      "        [-0.4924]])\n",
      "lambda grad: tensor([[-0.2333]])\n",
      "v grad: tensor([[-0.5087],\n",
      "        [ 0.2912]])\n",
      "lambda grad: tensor([[-0.0380]])\n",
      "v grad: tensor([[ 0.1037],\n",
      "        [-0.1312]])\n",
      "lambda grad: tensor([[0.1086]])\n",
      "v grad: tensor([[ 0.3462],\n",
      "        [-0.2230]])\n",
      "lambda grad: tensor([[-0.0038]])\n",
      "v grad: tensor([[ 1.0901],\n",
      "        [-1.4417]])\n",
      "lambda grad: tensor([[0.2464]])\n",
      "v grad: tensor([[-0.9238],\n",
      "        [ 0.6840]])\n",
      "lambda grad: tensor([[0.4151]])\n",
      "v grad: tensor([[-0.8462],\n",
      "        [ 0.7028]])\n",
      "lambda grad: tensor([[0.1578]])\n",
      "v grad: tensor([[-1.2060],\n",
      "        [ 0.8903]])\n",
      "lambda grad: tensor([[0.3230]])\n",
      "v grad: tensor([[ 0.5774],\n",
      "        [-0.6597]])\n",
      "lambda grad: tensor([[0.0941]])\n"
     ]
    },
    {
     "name": "stderr",
     "output_type": "stream",
     "text": [
      "Epoch:91 | Loss 0.6501 | Train1 0.094 | Train5 -1.000 | Reg term: 0.0 ||: 100%|██████████| 9/9 [00:00<00:00, 45.15it/s]\n",
      "Epoch:92 | Loss 0.7831 | Train1 0.097 | Train5 -1.000 | Reg term: 0.0 ||:  56%|█████▌    | 5/9 [00:00<00:00, 42.53it/s]"
     ]
    },
    {
     "name": "stdout",
     "output_type": "stream",
     "text": [
      "v grad: tensor([[ 0.4805],\n",
      "        [-0.6695]])\n",
      "lambda grad: tensor([[-0.4923]])\n",
      "v grad: tensor([[-0.1206],\n",
      "        [-0.1672]])\n",
      "lambda grad: tensor([[-0.1464]])\n",
      "v grad: tensor([[ 0.4544],\n",
      "        [-0.6631]])\n",
      "lambda grad: tensor([[0.1590]])\n",
      "v grad: tensor([[-0.2070],\n",
      "        [ 0.3902]])\n",
      "lambda grad: tensor([[0.2476]])\n",
      "v grad: tensor([[ 0.2139],\n",
      "        [-0.1248]])\n",
      "lambda grad: tensor([[-0.0035]])\n",
      "v grad: tensor([[-1.1130],\n",
      "        [ 0.8920]])\n",
      "lambda grad: tensor([[0.0038]])\n",
      "v grad: tensor([[0.0335],\n",
      "        [0.0586]])\n",
      "lambda grad: tensor([[0.0639]])\n",
      "v grad: tensor([[-0.1312],\n",
      "        [-0.0088]])\n",
      "lambda grad: tensor([[-0.2858]])\n",
      "v grad: tensor([[ 0.5287],\n",
      "        [-0.4438]])\n",
      "lambda grad: tensor([[-0.4030]])\n",
      "v grad: tensor([[ 0.3242],\n",
      "        [-0.0118]])\n"
     ]
    },
    {
     "name": "stderr",
     "output_type": "stream",
     "text": [
      "Epoch:92 | Loss 0.7876 | Train1 0.097 | Train5 -1.000 | Reg term: 0.0 ||: 100%|██████████| 9/9 [00:00<00:00, 45.54it/s]\n",
      "Epoch:93 | Loss 0.7315 | Train1 0.097 | Train5 -1.000 | Reg term: 0.0 ||:  56%|█████▌    | 5/9 [00:00<00:00, 42.33it/s]"
     ]
    },
    {
     "name": "stdout",
     "output_type": "stream",
     "text": [
      "lambda grad: tensor([[-0.2978]])\n",
      "v grad: tensor([[ 0.3815],\n",
      "        [-0.1913]])\n",
      "lambda grad: tensor([[0.0127]])\n",
      "v grad: tensor([[0.1766],\n",
      "        [0.2445]])\n",
      "lambda grad: tensor([[-0.1284]])\n",
      "v grad: tensor([[0.1934],\n",
      "        [0.0931]])\n",
      "lambda grad: tensor([[0.0871]])\n",
      "v grad: tensor([[-0.5448],\n",
      "        [ 0.5986]])\n",
      "lambda grad: tensor([[0.4025]])\n",
      "v grad: tensor([[-0.7336],\n",
      "        [ 0.7008]])\n",
      "lambda grad: tensor([[0.1850]])\n",
      "v grad: tensor([[ 0.5845],\n",
      "        [-0.7652]])\n",
      "lambda grad: tensor([[-0.0173]])\n",
      "v grad: tensor([[ 0.3460],\n",
      "        [-0.5020]])\n",
      "lambda grad: tensor([[0.2331]])\n",
      "v grad: tensor([[ 0.6351],\n",
      "        [-0.9631]])\n",
      "lambda grad: tensor([[-0.0102]])\n",
      "v grad: tensor([[ 0.2801],\n",
      "        [-0.2588]])\n",
      "lambda grad: tensor([[-0.2445]])\n",
      "v grad: tensor([[-2.3176],\n",
      "        [ 3.1501]])\n"
     ]
    },
    {
     "name": "stderr",
     "output_type": "stream",
     "text": [
      "Epoch:93 | Loss 0.7315 | Train1 0.097 | Train5 -1.000 | Reg term: 0.0 ||: 100%|██████████| 9/9 [00:00<00:00, 45.38it/s]\n",
      "Epoch:94 | Loss 0.8634 | Train1 0.081 | Train5 -1.000 | Reg term: 0.0 ||: 100%|██████████| 9/9 [00:00<00:00, 45.45it/s]\n",
      "Epoch:95 | Loss 0.7846 | Train1 0.100 | Train5 -1.000 | Reg term: 0.0 ||:   0%|          | 0/9 [00:00<?, ?it/s]"
     ]
    },
    {
     "name": "stdout",
     "output_type": "stream",
     "text": [
      "lambda grad: tensor([[0.1014]])\n",
      "v grad: tensor([[0.0453],\n",
      "        [0.2810]])\n",
      "lambda grad: tensor([[0.2124]])\n",
      "v grad: tensor([[ 0.9988],\n",
      "        [-1.0470]])\n",
      "lambda grad: tensor([[0.3984]])\n",
      "v grad: tensor([[ 1.7026],\n",
      "        [-2.1777]])\n",
      "lambda grad: tensor([[-0.2872]])\n",
      "v grad: tensor([[ 0.1232],\n",
      "        [-0.0401]])\n",
      "lambda grad: tensor([[-0.0981]])\n",
      "v grad: tensor([[ 0.6322],\n",
      "        [-0.6276]])\n",
      "lambda grad: tensor([[-0.3337]])\n",
      "v grad: tensor([[-1.9742],\n",
      "        [ 1.9768]])\n",
      "lambda grad: tensor([[-0.2466]])\n",
      "v grad: tensor([[-1.2703],\n",
      "        [ 1.0874]])\n",
      "lambda grad: tensor([[-0.0378]])\n",
      "v grad: tensor([[-0.5848],\n",
      "        [ 0.4493]])\n",
      "lambda grad: tensor([[-0.3633]])\n",
      "v grad: tensor([[ 0.1504],\n",
      "        [-0.1817]])\n",
      "lambda grad: tensor([[-0.1136]])\n",
      "v grad: tensor([[ 0.5455],\n",
      "        [-0.4862]])\n"
     ]
    },
    {
     "name": "stderr",
     "output_type": "stream",
     "text": [
      "Epoch:95 | Loss 0.7763 | Train1 0.102 | Train5 -1.000 | Reg term: 0.0 ||: 100%|██████████| 9/9 [00:00<00:00, 45.53it/s]\n",
      "Epoch:96 | Loss 0.7556 | Train1 0.110 | Train5 -1.000 | Reg term: 0.0 ||:   0%|          | 0/9 [00:00<?, ?it/s]"
     ]
    },
    {
     "name": "stdout",
     "output_type": "stream",
     "text": [
      "lambda grad: tensor([[-0.0371]])\n",
      "v grad: tensor([[ 0.9164],\n",
      "        [-1.1075]])\n",
      "lambda grad: tensor([[0.0967]])\n",
      "v grad: tensor([[ 1.1521],\n",
      "        [-1.3029]])\n",
      "lambda grad: tensor([[0.0327]])\n",
      "v grad: tensor([[ 1.2540],\n",
      "        [-1.3240]])\n",
      "lambda grad: tensor([[0.1986]])\n",
      "v grad: tensor([[-1.1941],\n",
      "        [ 1.1965]])\n",
      "lambda grad: tensor([[0.1748]])\n",
      "v grad: tensor([[-2.9438],\n",
      "        [ 2.4664]])\n",
      "lambda grad: tensor([[-0.1769]])\n",
      "v grad: tensor([[-0.6093],\n",
      "        [ 0.5477]])\n",
      "lambda grad: tensor([[0.3965]])\n",
      "v grad: tensor([[ 0.2750],\n",
      "        [-0.5245]])\n",
      "lambda grad: tensor([[-0.0321]])\n",
      "v grad: tensor([[ 1.5974],\n",
      "        [-0.9833]])\n",
      "lambda grad: tensor([[-0.0467]])\n",
      "v grad: tensor([[ 0.4940],\n",
      "        [-0.2315]])\n"
     ]
    },
    {
     "name": "stderr",
     "output_type": "stream",
     "text": [
      "Epoch:96 | Loss 0.7088 | Train1 0.087 | Train5 -1.000 | Reg term: 0.0 ||: 100%|██████████| 9/9 [00:00<00:00, 44.17it/s]\n",
      "Epoch:97 | Loss 0.7397 | Train1 0.090 | Train5 -1.000 | Reg term: 0.0 ||:   0%|          | 0/9 [00:00<?, ?it/s]"
     ]
    },
    {
     "name": "stdout",
     "output_type": "stream",
     "text": [
      "lambda grad: tensor([[-0.0199]])\n",
      "v grad: tensor([[ 1.5872],\n",
      "        [-1.5551]])\n",
      "lambda grad: tensor([[-0.2608]])\n",
      "v grad: tensor([[-0.6643],\n",
      "        [ 0.7990]])\n",
      "lambda grad: tensor([[0.3231]])\n",
      "v grad: tensor([[-0.5336],\n",
      "        [ 0.3746]])\n",
      "lambda grad: tensor([[0.3629]])\n",
      "v grad: tensor([[-1.5855],\n",
      "        [ 1.3509]])\n",
      "lambda grad: tensor([[-0.0765]])\n",
      "v grad: tensor([[-0.0981],\n",
      "        [ 0.3954]])\n",
      "lambda grad: tensor([[-0.0743]])\n",
      "v grad: tensor([[ 0.6932],\n",
      "        [-0.8504]])\n",
      "lambda grad: tensor([[0.2072]])\n",
      "v grad: tensor([[-0.0615],\n",
      "        [ 0.1625]])\n",
      "lambda grad: tensor([[-0.1792]])\n",
      "v grad: tensor([[ 2.3382],\n",
      "        [-2.9645]])\n",
      "lambda grad: tensor([[0.0440]])\n",
      "v grad: tensor([[-0.3986],\n",
      "        [ 0.6495]])\n"
     ]
    },
    {
     "name": "stderr",
     "output_type": "stream",
     "text": [
      "Epoch:97 | Loss 0.8736 | Train1 0.087 | Train5 -1.000 | Reg term: 0.0 ||: 100%|██████████| 9/9 [00:00<00:00, 45.15it/s]\n",
      "Epoch:98 | Loss 0.8106 | Train1 0.030 | Train5 -1.000 | Reg term: 0.0 ||:   0%|          | 0/9 [00:00<?, ?it/s]"
     ]
    },
    {
     "name": "stdout",
     "output_type": "stream",
     "text": [
      "lambda grad: tensor([[0.1409]])\n",
      "v grad: tensor([[-1.3303],\n",
      "        [ 0.9783]])\n",
      "lambda grad: tensor([[0.1433]])\n",
      "v grad: tensor([[-0.9357],\n",
      "        [ 0.9173]])\n",
      "lambda grad: tensor([[-0.0697]])\n",
      "v grad: tensor([[-0.2410],\n",
      "        [ 0.4787]])\n",
      "lambda grad: tensor([[-0.2483]])\n",
      "v grad: tensor([[-0.6285],\n",
      "        [ 0.8439]])\n",
      "lambda grad: tensor([[-0.3237]])\n",
      "v grad: tensor([[ 0.8813],\n",
      "        [-0.6848]])\n",
      "lambda grad: tensor([[-0.4535]])\n",
      "v grad: tensor([[ 0.5193],\n",
      "        [-0.3251]])\n",
      "lambda grad: tensor([[-0.3107]])\n",
      "v grad: tensor([[ 0.9634],\n",
      "        [-0.7125]])\n",
      "lambda grad: tensor([[-0.3921]])\n",
      "v grad: tensor([[ 0.0629],\n",
      "        [-0.4175]])\n",
      "lambda grad: tensor([[0.1030]])\n",
      "v grad: tensor([[ 0.3812],\n",
      "        [-0.2962]])\n",
      "lambda grad: tensor([[-0.1266]])\n"
     ]
    },
    {
     "name": "stderr",
     "output_type": "stream",
     "text": [
      "Epoch:98 | Loss 0.6597 | Train1 0.091 | Train5 -1.000 | Reg term: 0.0 ||: 100%|██████████| 9/9 [00:00<00:00, 45.13it/s]\n",
      "Epoch:99 | Loss 0.6207 | Train1 0.110 | Train5 -1.000 | Reg term: 0.0 ||:   0%|          | 0/9 [00:00<?, ?it/s]"
     ]
    },
    {
     "name": "stdout",
     "output_type": "stream",
     "text": [
      "v grad: tensor([[-0.9630],\n",
      "        [ 1.2078]])\n",
      "lambda grad: tensor([[0.0929]])\n",
      "v grad: tensor([[-0.1439],\n",
      "        [-0.0892]])\n",
      "lambda grad: tensor([[0.2517]])\n",
      "v grad: tensor([[-0.3757],\n",
      "        [ 0.5761]])\n",
      "lambda grad: tensor([[0.4719]])\n",
      "v grad: tensor([[ 0.3259],\n",
      "        [-0.3323]])\n",
      "lambda grad: tensor([[0.3909]])\n",
      "v grad: tensor([[-0.1592],\n",
      "        [ 0.2146]])\n",
      "lambda grad: tensor([[0.1019]])\n",
      "v grad: tensor([[ 0.2245],\n",
      "        [-0.3579]])\n",
      "lambda grad: tensor([[0.1958]])\n",
      "v grad: tensor([[ 0.1766],\n",
      "        [-0.4268]])\n",
      "lambda grad: tensor([[0.6206]])\n",
      "v grad: tensor([[-0.7832],\n",
      "        [ 0.2917]])\n",
      "lambda grad: tensor([[0.0578]])\n",
      "v grad: tensor([[ 0.2148],\n",
      "        [-0.0881]])\n"
     ]
    },
    {
     "name": "stderr",
     "output_type": "stream",
     "text": [
      "Epoch:99 | Loss 0.7456 | Train1 0.081 | Train5 -1.000 | Reg term: 0.0 ||: 100%|██████████| 9/9 [00:00<00:00, 44.75it/s]\n",
      "Epoch:100 | Loss 0.7808 | Train1 0.095 | Train5 -1.000 | Reg term: 0.0 ||:   0%|          | 0/9 [00:00<?, ?it/s]"
     ]
    },
    {
     "name": "stdout",
     "output_type": "stream",
     "text": [
      "lambda grad: tensor([[0.0792]])\n",
      "v grad: tensor([[-0.1322],\n",
      "        [ 0.3018]])\n",
      "lambda grad: tensor([[0.0031]])\n",
      "v grad: tensor([[ 0.9519],\n",
      "        [-0.8355]])\n",
      "lambda grad: tensor([[-0.1749]])\n",
      "v grad: tensor([[ 0.5066],\n",
      "        [-0.4352]])\n",
      "lambda grad: tensor([[-0.3947]])\n",
      "v grad: tensor([[-0.2470],\n",
      "        [ 0.5030]])\n",
      "lambda grad: tensor([[0.0521]])\n",
      "v grad: tensor([[-0.3337],\n",
      "        [ 0.0906]])\n",
      "lambda grad: tensor([[-0.4817]])\n",
      "v grad: tensor([[-1.1667],\n",
      "        [ 1.1735]])\n",
      "lambda grad: tensor([[-0.1276]])\n",
      "v grad: tensor([[-0.7275],\n",
      "        [ 0.6815]])\n",
      "lambda grad: tensor([[-0.3944]])\n",
      "v grad: tensor([[ 1.3476],\n",
      "        [-1.6218]])\n",
      "lambda grad: tensor([[-0.0979]])\n",
      "v grad: tensor([[ 1.1003],\n",
      "        [-1.0296]])\n",
      "lambda grad: tensor([[-0.1807]])\n",
      "v grad: tensor([[ 0.5567],\n",
      "        [-0.3427]])\n"
     ]
    },
    {
     "name": "stderr",
     "output_type": "stream",
     "text": [
      "Epoch:100 | Loss 0.7613 | Train1 0.096 | Train5 -1.000 | Reg term: 0.0 ||: 100%|██████████| 9/9 [00:00<00:00, 45.30it/s]"
     ]
    },
    {
     "name": "stdout",
     "output_type": "stream",
     "text": [
      "lambda grad: tensor([[0.1819]])\n",
      "v grad: tensor([[-0.9247],\n",
      "        [ 1.0257]])\n",
      "lambda grad: tensor([[0.1160]])\n",
      "v grad: tensor([[-0.0259],\n",
      "        [ 0.1989]])\n",
      "lambda grad: tensor([[0.0699]])\n",
      "v grad: tensor([[-1.1224],\n",
      "        [ 1.0616]])\n",
      "lambda grad: tensor([[-0.1441]])\n",
      "v grad: tensor([[-1.3239],\n",
      "        [ 1.4360]])\n",
      "lambda grad: tensor([[0.4271]])\n",
      "v grad: tensor([[ 0.1098],\n",
      "        [-0.2147]])\n",
      "lambda grad: tensor([[0.1003]])\n",
      "v grad: tensor([[ 1.2576],\n",
      "        [-1.7493]])\n",
      "lambda grad: tensor([[-0.0281]])\n",
      "v grad: tensor([[ 1.3559],\n",
      "        [-1.1041]])\n"
     ]
    },
    {
     "name": "stderr",
     "output_type": "stream",
     "text": [
      "\n"
     ]
    }
   ],
   "source": [
    "trunc_reg = truncated_regression(phi=args.phi, alpha=args.alpha, epochs=args.epochs, var_lr=args.var_lr, lr=args.lr)\n",
    "results = trunc_reg.fit(S)"
   ]
  },
  {
   "cell_type": "code",
   "execution_count": 4,
   "metadata": {},
   "outputs": [
    {
     "name": "stdout",
     "output_type": "stream",
     "text": [
      "Predicted Noise Variance: \n",
      "tensor([[1.3606]], grad_fn=<InverseBackward>)\n",
      "Predicted Weights: \n",
      "tensor([[0.7493],\n",
      "        [0.5419]], grad_fn=<MulBackward0>)\n",
      "Predicted Bias: \n",
      "tensor([[0.8642]], grad_fn=<MulBackward0>)\n"
     ]
    }
   ],
   "source": [
    "print(\"Predicted Noise Variance: \\n{}\".format(results.lambda_.inverse()))\n",
    "print(\"Predicted Weights: \\n{}\".format(results.lambda_.inverse()*results.v))\n",
    "print(\"Predicted Bias: \\n{}\".format(results.lambda_.inverse()*results.bias))"
   ]
  },
  {
   "cell_type": "markdown",
   "metadata": {},
   "source": [
    "# Plot 1 Dimensional Figure"
   ]
  },
  {
   "cell_type": "code",
   "execution_count": 5,
   "metadata": {},
   "outputs": [
    {
     "ename": "ValueError",
     "evalue": "x and y must be the same size",
     "output_type": "error",
     "traceback": [
      "\u001b[0;31m---------------------------------------------------------------------------\u001b[0m",
      "\u001b[0;31mValueError\u001b[0m                                Traceback (most recent call last)",
      "\u001b[0;32m<ipython-input-5-014e1e715bb1>\u001b[0m in \u001b[0;36m<module>\u001b[0;34m\u001b[0m\n\u001b[1;32m      2\u001b[0m \u001b[0mresults\u001b[0m\u001b[0;34m.\u001b[0m\u001b[0mto\u001b[0m\u001b[0;34m(\u001b[0m\u001b[0;34m'cpu'\u001b[0m\u001b[0;34m)\u001b[0m\u001b[0;34m\u001b[0m\u001b[0;34m\u001b[0m\u001b[0m\n\u001b[1;32m      3\u001b[0m \u001b[0;34m\u001b[0m\u001b[0m\n\u001b[0;32m----> 4\u001b[0;31m \u001b[0mplt\u001b[0m\u001b[0;34m.\u001b[0m\u001b[0mscatter\u001b[0m\u001b[0;34m(\u001b[0m\u001b[0mx_trunc\u001b[0m\u001b[0;34m,\u001b[0m \u001b[0my_trunc\u001b[0m\u001b[0;34m,\u001b[0m \u001b[0mcolor\u001b[0m\u001b[0;34m=\u001b[0m\u001b[0;34m\"grey\"\u001b[0m\u001b[0;34m,\u001b[0m \u001b[0malpha\u001b[0m\u001b[0;34m=\u001b[0m\u001b[0;36m.25\u001b[0m\u001b[0;34m)\u001b[0m\u001b[0;34m\u001b[0m\u001b[0;34m\u001b[0m\u001b[0m\n\u001b[0m\u001b[1;32m      5\u001b[0m \u001b[0;32mwith\u001b[0m \u001b[0mch\u001b[0m\u001b[0;34m.\u001b[0m\u001b[0mno_grad\u001b[0m\u001b[0;34m(\u001b[0m\u001b[0;34m)\u001b[0m\u001b[0;34m:\u001b[0m\u001b[0;34m\u001b[0m\u001b[0;34m\u001b[0m\u001b[0m\n\u001b[1;32m      6\u001b[0m     \u001b[0mplt\u001b[0m\u001b[0;34m.\u001b[0m\u001b[0mplot\u001b[0m\u001b[0;34m(\u001b[0m\u001b[0mdata\u001b[0m\u001b[0;34m,\u001b[0m \u001b[0mresults\u001b[0m\u001b[0;34m(\u001b[0m\u001b[0mch\u001b[0m\u001b[0;34m.\u001b[0m\u001b[0mfrom_numpy\u001b[0m\u001b[0;34m(\u001b[0m\u001b[0mnp\u001b[0m\u001b[0;34m.\u001b[0m\u001b[0mexpand_dims\u001b[0m\u001b[0;34m(\u001b[0m\u001b[0mdata\u001b[0m\u001b[0;34m,\u001b[0m \u001b[0;36m1\u001b[0m\u001b[0;34m)\u001b[0m\u001b[0;34m)\u001b[0m\u001b[0;34m.\u001b[0m\u001b[0mfloat\u001b[0m\u001b[0;34m(\u001b[0m\u001b[0;34m)\u001b[0m\u001b[0;34m)\u001b[0m\u001b[0;34m,\u001b[0m \u001b[0mcolor\u001b[0m\u001b[0;34m=\u001b[0m\u001b[0;34m\"green\"\u001b[0m\u001b[0;34m,\u001b[0m \u001b[0mlabel\u001b[0m\u001b[0;34m=\u001b[0m\u001b[0;34m\"predicted\"\u001b[0m\u001b[0;34m)\u001b[0m\u001b[0;34m\u001b[0m\u001b[0;34m\u001b[0m\u001b[0m\n",
      "\u001b[0;32m~/env/lib/python3.6/site-packages/matplotlib/pyplot.py\u001b[0m in \u001b[0;36mscatter\u001b[0;34m(x, y, s, c, marker, cmap, norm, vmin, vmax, alpha, linewidths, verts, edgecolors, plotnonfinite, data, **kwargs)\u001b[0m\n\u001b[1;32m   2814\u001b[0m         \u001b[0mverts\u001b[0m\u001b[0;34m=\u001b[0m\u001b[0mverts\u001b[0m\u001b[0;34m,\u001b[0m \u001b[0medgecolors\u001b[0m\u001b[0;34m=\u001b[0m\u001b[0medgecolors\u001b[0m\u001b[0;34m,\u001b[0m\u001b[0;34m\u001b[0m\u001b[0;34m\u001b[0m\u001b[0m\n\u001b[1;32m   2815\u001b[0m         plotnonfinite=plotnonfinite, **({\"data\": data} if data is not\n\u001b[0;32m-> 2816\u001b[0;31m         None else {}), **kwargs)\n\u001b[0m\u001b[1;32m   2817\u001b[0m     \u001b[0msci\u001b[0m\u001b[0;34m(\u001b[0m\u001b[0m__ret\u001b[0m\u001b[0;34m)\u001b[0m\u001b[0;34m\u001b[0m\u001b[0;34m\u001b[0m\u001b[0m\n\u001b[1;32m   2818\u001b[0m     \u001b[0;32mreturn\u001b[0m \u001b[0m__ret\u001b[0m\u001b[0;34m\u001b[0m\u001b[0;34m\u001b[0m\u001b[0m\n",
      "\u001b[0;32m~/env/lib/python3.6/site-packages/matplotlib/__init__.py\u001b[0m in \u001b[0;36minner\u001b[0;34m(ax, data, *args, **kwargs)\u001b[0m\n\u001b[1;32m   1563\u001b[0m     \u001b[0;32mdef\u001b[0m \u001b[0minner\u001b[0m\u001b[0;34m(\u001b[0m\u001b[0max\u001b[0m\u001b[0;34m,\u001b[0m \u001b[0;34m*\u001b[0m\u001b[0margs\u001b[0m\u001b[0;34m,\u001b[0m \u001b[0mdata\u001b[0m\u001b[0;34m=\u001b[0m\u001b[0;32mNone\u001b[0m\u001b[0;34m,\u001b[0m \u001b[0;34m**\u001b[0m\u001b[0mkwargs\u001b[0m\u001b[0;34m)\u001b[0m\u001b[0;34m:\u001b[0m\u001b[0;34m\u001b[0m\u001b[0;34m\u001b[0m\u001b[0m\n\u001b[1;32m   1564\u001b[0m         \u001b[0;32mif\u001b[0m \u001b[0mdata\u001b[0m \u001b[0;32mis\u001b[0m \u001b[0;32mNone\u001b[0m\u001b[0;34m:\u001b[0m\u001b[0;34m\u001b[0m\u001b[0;34m\u001b[0m\u001b[0m\n\u001b[0;32m-> 1565\u001b[0;31m             \u001b[0;32mreturn\u001b[0m \u001b[0mfunc\u001b[0m\u001b[0;34m(\u001b[0m\u001b[0max\u001b[0m\u001b[0;34m,\u001b[0m \u001b[0;34m*\u001b[0m\u001b[0mmap\u001b[0m\u001b[0;34m(\u001b[0m\u001b[0msanitize_sequence\u001b[0m\u001b[0;34m,\u001b[0m \u001b[0margs\u001b[0m\u001b[0;34m)\u001b[0m\u001b[0;34m,\u001b[0m \u001b[0;34m**\u001b[0m\u001b[0mkwargs\u001b[0m\u001b[0;34m)\u001b[0m\u001b[0;34m\u001b[0m\u001b[0;34m\u001b[0m\u001b[0m\n\u001b[0m\u001b[1;32m   1566\u001b[0m \u001b[0;34m\u001b[0m\u001b[0m\n\u001b[1;32m   1567\u001b[0m         \u001b[0mbound\u001b[0m \u001b[0;34m=\u001b[0m \u001b[0mnew_sig\u001b[0m\u001b[0;34m.\u001b[0m\u001b[0mbind\u001b[0m\u001b[0;34m(\u001b[0m\u001b[0max\u001b[0m\u001b[0;34m,\u001b[0m \u001b[0;34m*\u001b[0m\u001b[0margs\u001b[0m\u001b[0;34m,\u001b[0m \u001b[0;34m**\u001b[0m\u001b[0mkwargs\u001b[0m\u001b[0;34m)\u001b[0m\u001b[0;34m\u001b[0m\u001b[0;34m\u001b[0m\u001b[0m\n",
      "\u001b[0;32m~/env/lib/python3.6/site-packages/matplotlib/cbook/deprecation.py\u001b[0m in \u001b[0;36mwrapper\u001b[0;34m(*args, **kwargs)\u001b[0m\n\u001b[1;32m    356\u001b[0m                 \u001b[0;34mf\"%(removal)s.  If any parameter follows {name!r}, they \"\u001b[0m\u001b[0;34m\u001b[0m\u001b[0;34m\u001b[0m\u001b[0m\n\u001b[1;32m    357\u001b[0m                 f\"should be pass as keyword, not positionally.\")\n\u001b[0;32m--> 358\u001b[0;31m         \u001b[0;32mreturn\u001b[0m \u001b[0mfunc\u001b[0m\u001b[0;34m(\u001b[0m\u001b[0;34m*\u001b[0m\u001b[0margs\u001b[0m\u001b[0;34m,\u001b[0m \u001b[0;34m**\u001b[0m\u001b[0mkwargs\u001b[0m\u001b[0;34m)\u001b[0m\u001b[0;34m\u001b[0m\u001b[0;34m\u001b[0m\u001b[0m\n\u001b[0m\u001b[1;32m    359\u001b[0m \u001b[0;34m\u001b[0m\u001b[0m\n\u001b[1;32m    360\u001b[0m     \u001b[0;32mreturn\u001b[0m \u001b[0mwrapper\u001b[0m\u001b[0;34m\u001b[0m\u001b[0;34m\u001b[0m\u001b[0m\n",
      "\u001b[0;32m~/env/lib/python3.6/site-packages/matplotlib/axes/_axes.py\u001b[0m in \u001b[0;36mscatter\u001b[0;34m(self, x, y, s, c, marker, cmap, norm, vmin, vmax, alpha, linewidths, verts, edgecolors, plotnonfinite, **kwargs)\u001b[0m\n\u001b[1;32m   4378\u001b[0m         \u001b[0my\u001b[0m \u001b[0;34m=\u001b[0m \u001b[0mnp\u001b[0m\u001b[0;34m.\u001b[0m\u001b[0mma\u001b[0m\u001b[0;34m.\u001b[0m\u001b[0mravel\u001b[0m\u001b[0;34m(\u001b[0m\u001b[0my\u001b[0m\u001b[0;34m)\u001b[0m\u001b[0;34m\u001b[0m\u001b[0;34m\u001b[0m\u001b[0m\n\u001b[1;32m   4379\u001b[0m         \u001b[0;32mif\u001b[0m \u001b[0mx\u001b[0m\u001b[0;34m.\u001b[0m\u001b[0msize\u001b[0m \u001b[0;34m!=\u001b[0m \u001b[0my\u001b[0m\u001b[0;34m.\u001b[0m\u001b[0msize\u001b[0m\u001b[0;34m:\u001b[0m\u001b[0;34m\u001b[0m\u001b[0;34m\u001b[0m\u001b[0m\n\u001b[0;32m-> 4380\u001b[0;31m             \u001b[0;32mraise\u001b[0m \u001b[0mValueError\u001b[0m\u001b[0;34m(\u001b[0m\u001b[0;34m\"x and y must be the same size\"\u001b[0m\u001b[0;34m)\u001b[0m\u001b[0;34m\u001b[0m\u001b[0;34m\u001b[0m\u001b[0m\n\u001b[0m\u001b[1;32m   4381\u001b[0m \u001b[0;34m\u001b[0m\u001b[0m\n\u001b[1;32m   4382\u001b[0m         \u001b[0;32mif\u001b[0m \u001b[0ms\u001b[0m \u001b[0;32mis\u001b[0m \u001b[0;32mNone\u001b[0m\u001b[0;34m:\u001b[0m\u001b[0;34m\u001b[0m\u001b[0;34m\u001b[0m\u001b[0m\n",
      "\u001b[0;31mValueError\u001b[0m: x and y must be the same size"
     ]
    },
    {
     "data": {
      "image/png": "[encoded data removed]",
      "text/plain": [
       "<Figure size 432x288 with 1 Axes>"
      ]
     },
     "metadata": {
      "needs_background": "light"
     },
     "output_type": "display_data"
    }
   ],
   "source": [
    "data = np.linspace(-3.0, 2.0, 1000)\n",
    "results.to('cpu')\n",
    "\n",
    "plt.scatter(x_trunc, y_trunc, color=\"grey\", alpha=.25)\n",
    "with ch.no_grad():\n",
    "    plt.plot(data, results(ch.from_numpy(np.expand_dims(data, 1)).float()), color=\"green\", label=\"predicted\")\n",
    "    plt.plot(data, S.dataset.reg.predict(np.expand_dims(data, 1)), color=\"red\", label=\"empirical\")\n",
    "    plt.plot(data, ch.from_numpy(np.expand_dims(data, 1)).float().mm(W) + W0, color=\"blue\", label=\"actual\")\n",
    "plt.legend() \n",
    "\n",
    "plt.xlabel(\"x\")\n",
    "plt.ylabel(\"y\")"
   ]
  },
  {
   "cell_type": "markdown",
   "metadata": {},
   "source": [
    "# Plot 2 Dimensional Figure"
   ]
  },
  {
   "cell_type": "code",
   "execution_count": 5,
   "metadata": {},
   "outputs": [
    {
     "data": {
      "text/plain": [
       "Text(0.5, 0, 'Y')"
      ]
     },
     "execution_count": 5,
     "metadata": {},
     "output_type": "execute_result"
    },
    {
     "data": {
      "image/png": "[encoded data removed]",
      "text/plain": [
       "<Figure size 720x720 with 1 Axes>"
      ]
     },
     "metadata": {
      "needs_background": "light"
     },
     "output_type": "display_data"
    }
   ],
   "source": [
    "import matplotlib.patches as mpatches\n",
    "fig = plt.figure(figsize=(10, 10))\n",
    "ax = fig.gca(projection='3d')\n",
    "data = ch.from_numpy(np.linspace(-3.0, 3.0, 100)).unsqueeze(1).float()\n",
    "\n",
    "ax.scatter3D(x_trunc[:,0], x_trunc[:,1], y_trunc, color=\"grey\", alpha=.5)\n",
    "with ch.no_grad():\n",
    "    X = np.arange(-2, 2, 0.25)\n",
    "    Y = np.arange(-2, 2, 0.25)\n",
    "    X, Y = np.meshgrid(X, Y)\n",
    "\n",
    "    # plot predicted regression\n",
    "    pred = Tensor([results(Tensor(np.concatenate([np.expand_dims(X[i], 1), np.expand_dims(Y[i], 1)], 1)).float()).numpy().flatten() for i in range(X.shape[0])]).numpy()\n",
    "    ax.plot_surface(X, Y, pred, color=\"green\", alpha=.15)\n",
    "    \n",
    "    # plot empirical regression - obtained via OLS\n",
    "    emp = np.array([S.dataset.reg.predict(np.concatenate([np.expand_dims(X[i], 1), np.expand_dims(Y[i], 1)], 1)).flatten() for i in range(X.shape[0])])\n",
    "    ax.plot_surface(X, Y, emp, color=\"red\", alpha=.15)\n",
    "    \n",
    "    # plot actual regression - based off of synthetic data\n",
    "    act = ch.cat([(Tensor(np.concatenate([np.expand_dims(X[i], 1), np.expand_dims(Y[i], 1)], 1)).float().mm(W) + W0) for i in range(X.shape[0])], 1).numpy()\n",
    "    ax.plot_surface(X, Y, act, color=\"blue\", alpha=.15)\n",
    "    \n",
    "\n",
    "\n",
    "red_patch = mpatches.Patch(color='red', label='OLS')\n",
    "\n",
    "green_patch = mpatches.Patch(color='green', label='delphi')\n",
    "blue_patch = mpatches.Patch(color='blue', label=\"actual\")\n",
    "plt.legend(handles=[red_patch, blue_patch, green_patch], loc=\"center right\")\n",
    "\n",
    "ax.view_init(10, -150)\n",
    "ax.w_xaxis.set_pane_color((1.0, 1.0, 1.0, 1.0))\n",
    "ax.w_yaxis.set_pane_color((1.0, 1.0, 1.0, 1.0))\n",
    "\n",
    "ax.set_xlabel('X_0')\n",
    "ax.set_ylabel('X_1')\n",
    "ax.set_zlabel('Y')"
   ]
  },
  {
   "cell_type": "code",
   "execution_count": null,
   "metadata": {},
   "outputs": [],
   "source": []
  }
 ],
 "metadata": {
  "kernelspec": {
   "display_name": "Python 3",
   "language": "python",
   "name": "python3"
  },
  "language_info": {
   "codemirror_mode": {
    "name": "ipython",
    "version": 3
   },
   "file_extension": ".py",
   "mimetype": "text/x-python",
   "name": "python",
   "nbconvert_exporter": "python",
   "pygments_lexer": "ipython3",
   "version": "3.6.9"
  }
 },
 "nbformat": 4,
 "nbformat_minor": 4
}
