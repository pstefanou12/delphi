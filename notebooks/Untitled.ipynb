{
 "cells": [
  {
   "cell_type": "code",
   "execution_count": 47,
   "metadata": {},
   "outputs": [],
   "source": [
    "import cox \n",
    "from cox.store import Store\n",
    "from cox.readers import CollectionReader \n",
    "import seaborn as sns\n",
    "import matplotlib.pyplot as plt\n",
    "import pandas as pd\n",
    "import torch as ch \n",
    "from torch import Tensor\n",
    "from torch.distributions import Uniform\n",
    "import os \n",
    "# set environment variable so that stores can create output files\n",
    "os.environ['HDF5_USE_FILE_LOCKING'] = 'FALSE'"
   ]
  },
  {
   "cell_type": "code",
   "execution_count": 6,
   "metadata": {},
   "outputs": [
    {
     "name": "stderr",
     "output_type": "stream",
     "text": [
      "100%|██████████| 11/11 [00:02<00:00,  5.18it/s]\n"
     ]
    },
    {
     "data": {
      "text/html": [
       "<div>\n",
       "<style scoped>\n",
       "    .dataframe tbody tr th:only-of-type {\n",
       "        vertical-align: middle;\n",
       "    }\n",
       "\n",
       "    .dataframe tbody tr th {\n",
       "        vertical-align: top;\n",
       "    }\n",
       "\n",
       "    .dataframe thead th {\n",
       "        text-align: right;\n",
       "    }\n",
       "</style>\n",
       "<table border=\"1\" class=\"dataframe\">\n",
       "  <thead>\n",
       "    <tr style=\"text-align: right;\">\n",
       "      <th></th>\n",
       "      <th>known_param_mse</th>\n",
       "      <th>unknown_param_mse</th>\n",
       "      <th>unknown_var_mse</th>\n",
       "      <th>ols_param_mse</th>\n",
       "      <th>ols_var_mse</th>\n",
       "      <th>trunc_reg_param_mse</th>\n",
       "      <th>trunc_var_mse</th>\n",
       "      <th>alpha</th>\n",
       "      <th>var</th>\n",
       "      <th>exp_id</th>\n",
       "    </tr>\n",
       "  </thead>\n",
       "  <tbody>\n",
       "    <tr>\n",
       "      <th>0</th>\n",
       "      <td>0.068171</td>\n",
       "      <td>0.087442</td>\n",
       "      <td>0.214402</td>\n",
       "      <td>0.158803</td>\n",
       "      <td>0.226417</td>\n",
       "      <td>0.425388</td>\n",
       "      <td>0.000093</td>\n",
       "      <td>0.6598</td>\n",
       "      <td>1.0</td>\n",
       "      <td>24d3318f-f193-44c9-94cc-8e5440276b2b</td>\n",
       "    </tr>\n",
       "    <tr>\n",
       "      <th>1</th>\n",
       "      <td>0.187125</td>\n",
       "      <td>0.199901</td>\n",
       "      <td>0.876496</td>\n",
       "      <td>0.372558</td>\n",
       "      <td>1.125606</td>\n",
       "      <td>0.724831</td>\n",
       "      <td>0.328448</td>\n",
       "      <td>0.6257</td>\n",
       "      <td>2.0</td>\n",
       "      <td>24d3318f-f193-44c9-94cc-8e5440276b2b</td>\n",
       "    </tr>\n",
       "    <tr>\n",
       "      <th>2</th>\n",
       "      <td>0.316339</td>\n",
       "      <td>0.273816</td>\n",
       "      <td>1.710094</td>\n",
       "      <td>0.604417</td>\n",
       "      <td>2.770865</td>\n",
       "      <td>1.039533</td>\n",
       "      <td>1.542299</td>\n",
       "      <td>0.6071</td>\n",
       "      <td>3.0</td>\n",
       "      <td>24d3318f-f193-44c9-94cc-8e5440276b2b</td>\n",
       "    </tr>\n",
       "    <tr>\n",
       "      <th>3</th>\n",
       "      <td>0.463008</td>\n",
       "      <td>0.322711</td>\n",
       "      <td>2.513590</td>\n",
       "      <td>0.851743</td>\n",
       "      <td>5.170775</td>\n",
       "      <td>1.357532</td>\n",
       "      <td>3.872344</td>\n",
       "      <td>0.5941</td>\n",
       "      <td>4.0</td>\n",
       "      <td>24d3318f-f193-44c9-94cc-8e5440276b2b</td>\n",
       "    </tr>\n",
       "    <tr>\n",
       "      <th>4</th>\n",
       "      <td>0.618353</td>\n",
       "      <td>0.339473</td>\n",
       "      <td>3.188772</td>\n",
       "      <td>1.106882</td>\n",
       "      <td>8.336219</td>\n",
       "      <td>1.678045</td>\n",
       "      <td>7.439244</td>\n",
       "      <td>0.5848</td>\n",
       "      <td>5.0</td>\n",
       "      <td>24d3318f-f193-44c9-94cc-8e5440276b2b</td>\n",
       "    </tr>\n",
       "  </tbody>\n",
       "</table>\n",
       "</div>"
      ],
      "text/plain": [
       "   known_param_mse  unknown_param_mse  unknown_var_mse  ols_param_mse  \\\n",
       "0         0.068171           0.087442         0.214402       0.158803   \n",
       "1         0.187125           0.199901         0.876496       0.372558   \n",
       "2         0.316339           0.273816         1.710094       0.604417   \n",
       "3         0.463008           0.322711         2.513590       0.851743   \n",
       "4         0.618353           0.339473         3.188772       1.106882   \n",
       "\n",
       "   ols_var_mse  trunc_reg_param_mse  trunc_var_mse   alpha  var  \\\n",
       "0     0.226417             0.425388       0.000093  0.6598  1.0   \n",
       "1     1.125606             0.724831       0.328448  0.6257  2.0   \n",
       "2     2.770865             1.039533       1.542299  0.6071  3.0   \n",
       "3     5.170775             1.357532       3.872344  0.5941  4.0   \n",
       "4     8.336219             1.678045       7.439244  0.5848  5.0   \n",
       "\n",
       "                                 exp_id  \n",
       "0  24d3318f-f193-44c9-94cc-8e5440276b2b  \n",
       "1  24d3318f-f193-44c9-94cc-8e5440276b2b  \n",
       "2  24d3318f-f193-44c9-94cc-8e5440276b2b  \n",
       "3  24d3318f-f193-44c9-94cc-8e5440276b2b  \n",
       "4  24d3318f-f193-44c9-94cc-8e5440276b2b  "
      ]
     },
     "execution_count": 6,
     "metadata": {},
     "output_type": "execute_result"
    }
   ],
   "source": [
    "reader = CollectionReader('/home/gridsan/stefanou/Regression/TruncReg')\n",
    "logs = reader.df('results')\n",
    "reader.close()\n",
    "logs.head()"
   ]
  },
  {
   "cell_type": "code",
   "execution_count": 59,
   "metadata": {},
   "outputs": [
    {
     "data": {
      "text/html": [
       "<div>\n",
       "<style scoped>\n",
       "    .dataframe tbody tr th:only-of-type {\n",
       "        vertical-align: middle;\n",
       "    }\n",
       "\n",
       "    .dataframe tbody tr th {\n",
       "        vertical-align: top;\n",
       "    }\n",
       "\n",
       "    .dataframe thead th {\n",
       "        text-align: right;\n",
       "    }\n",
       "</style>\n",
       "<table border=\"1\" class=\"dataframe\">\n",
       "  <thead>\n",
       "    <tr style=\"text-align: right;\">\n",
       "      <th></th>\n",
       "      <th>unknown_param_mse</th>\n",
       "      <th>unknown_var_mse</th>\n",
       "      <th>var</th>\n",
       "      <th>alpha</th>\n",
       "    </tr>\n",
       "  </thead>\n",
       "  <tbody>\n",
       "    <tr>\n",
       "      <th>0</th>\n",
       "      <td>0.087442</td>\n",
       "      <td>0.214402</td>\n",
       "      <td>1.0</td>\n",
       "      <td>0.6598</td>\n",
       "    </tr>\n",
       "    <tr>\n",
       "      <th>1</th>\n",
       "      <td>0.199901</td>\n",
       "      <td>0.876496</td>\n",
       "      <td>2.0</td>\n",
       "      <td>0.6257</td>\n",
       "    </tr>\n",
       "    <tr>\n",
       "      <th>2</th>\n",
       "      <td>0.273816</td>\n",
       "      <td>1.710094</td>\n",
       "      <td>3.0</td>\n",
       "      <td>0.6071</td>\n",
       "    </tr>\n",
       "    <tr>\n",
       "      <th>3</th>\n",
       "      <td>0.322711</td>\n",
       "      <td>2.513590</td>\n",
       "      <td>4.0</td>\n",
       "      <td>0.5941</td>\n",
       "    </tr>\n",
       "    <tr>\n",
       "      <th>4</th>\n",
       "      <td>0.339473</td>\n",
       "      <td>3.188772</td>\n",
       "      <td>5.0</td>\n",
       "      <td>0.5848</td>\n",
       "    </tr>\n",
       "    <tr>\n",
       "      <th>5</th>\n",
       "      <td>0.279946</td>\n",
       "      <td>3.134308</td>\n",
       "      <td>6.0</td>\n",
       "      <td>0.5788</td>\n",
       "    </tr>\n",
       "    <tr>\n",
       "      <th>6</th>\n",
       "      <td>0.252395</td>\n",
       "      <td>3.410636</td>\n",
       "      <td>7.0</td>\n",
       "      <td>0.5716</td>\n",
       "    </tr>\n",
       "    <tr>\n",
       "      <th>7</th>\n",
       "      <td>0.238272</td>\n",
       "      <td>3.445451</td>\n",
       "      <td>8.0</td>\n",
       "      <td>0.5660</td>\n",
       "    </tr>\n",
       "    <tr>\n",
       "      <th>8</th>\n",
       "      <td>0.204411</td>\n",
       "      <td>2.964363</td>\n",
       "      <td>9.0</td>\n",
       "      <td>0.5622</td>\n",
       "    </tr>\n",
       "    <tr>\n",
       "      <th>9</th>\n",
       "      <td>0.160044</td>\n",
       "      <td>3.017436</td>\n",
       "      <td>10.0</td>\n",
       "      <td>0.5587</td>\n",
       "    </tr>\n",
       "    <tr>\n",
       "      <th>10</th>\n",
       "      <td>0.128743</td>\n",
       "      <td>2.759720</td>\n",
       "      <td>11.0</td>\n",
       "      <td>0.5558</td>\n",
       "    </tr>\n",
       "    <tr>\n",
       "      <th>11</th>\n",
       "      <td>0.092224</td>\n",
       "      <td>2.226797</td>\n",
       "      <td>12.0</td>\n",
       "      <td>0.5534</td>\n",
       "    </tr>\n",
       "    <tr>\n",
       "      <th>12</th>\n",
       "      <td>0.077372</td>\n",
       "      <td>2.354252</td>\n",
       "      <td>13.0</td>\n",
       "      <td>0.5514</td>\n",
       "    </tr>\n",
       "    <tr>\n",
       "      <th>13</th>\n",
       "      <td>0.044653</td>\n",
       "      <td>1.220594</td>\n",
       "      <td>14.0</td>\n",
       "      <td>0.5494</td>\n",
       "    </tr>\n",
       "    <tr>\n",
       "      <th>14</th>\n",
       "      <td>0.033444</td>\n",
       "      <td>1.109282</td>\n",
       "      <td>15.0</td>\n",
       "      <td>0.5476</td>\n",
       "    </tr>\n",
       "    <tr>\n",
       "      <th>15</th>\n",
       "      <td>0.035172</td>\n",
       "      <td>1.531763</td>\n",
       "      <td>16.0</td>\n",
       "      <td>0.5454</td>\n",
       "    </tr>\n",
       "    <tr>\n",
       "      <th>16</th>\n",
       "      <td>0.038492</td>\n",
       "      <td>1.071574</td>\n",
       "      <td>17.0</td>\n",
       "      <td>0.5443</td>\n",
       "    </tr>\n",
       "    <tr>\n",
       "      <th>17</th>\n",
       "      <td>0.037215</td>\n",
       "      <td>1.272079</td>\n",
       "      <td>18.0</td>\n",
       "      <td>0.5434</td>\n",
       "    </tr>\n",
       "    <tr>\n",
       "      <th>18</th>\n",
       "      <td>0.035880</td>\n",
       "      <td>2.356681</td>\n",
       "      <td>19.0</td>\n",
       "      <td>0.5426</td>\n",
       "    </tr>\n",
       "    <tr>\n",
       "      <th>19</th>\n",
       "      <td>0.107184</td>\n",
       "      <td>2.805706</td>\n",
       "      <td>20.0</td>\n",
       "      <td>0.5412</td>\n",
       "    </tr>\n",
       "    <tr>\n",
       "      <th>0</th>\n",
       "      <td>0.087442</td>\n",
       "      <td>0.214402</td>\n",
       "      <td>1.0</td>\n",
       "      <td>0.6598</td>\n",
       "    </tr>\n",
       "    <tr>\n",
       "      <th>1</th>\n",
       "      <td>0.199901</td>\n",
       "      <td>0.876496</td>\n",
       "      <td>2.0</td>\n",
       "      <td>0.6257</td>\n",
       "    </tr>\n",
       "    <tr>\n",
       "      <th>2</th>\n",
       "      <td>0.273816</td>\n",
       "      <td>1.710094</td>\n",
       "      <td>3.0</td>\n",
       "      <td>0.6071</td>\n",
       "    </tr>\n",
       "    <tr>\n",
       "      <th>3</th>\n",
       "      <td>0.322711</td>\n",
       "      <td>2.513590</td>\n",
       "      <td>4.0</td>\n",
       "      <td>0.5941</td>\n",
       "    </tr>\n",
       "    <tr>\n",
       "      <th>4</th>\n",
       "      <td>0.339473</td>\n",
       "      <td>3.188772</td>\n",
       "      <td>5.0</td>\n",
       "      <td>0.5848</td>\n",
       "    </tr>\n",
       "  </tbody>\n",
       "</table>\n",
       "</div>"
      ],
      "text/plain": [
       "    unknown_param_mse  unknown_var_mse   var   alpha\n",
       "0            0.087442         0.214402   1.0  0.6598\n",
       "1            0.199901         0.876496   2.0  0.6257\n",
       "2            0.273816         1.710094   3.0  0.6071\n",
       "3            0.322711         2.513590   4.0  0.5941\n",
       "4            0.339473         3.188772   5.0  0.5848\n",
       "5            0.279946         3.134308   6.0  0.5788\n",
       "6            0.252395         3.410636   7.0  0.5716\n",
       "7            0.238272         3.445451   8.0  0.5660\n",
       "8            0.204411         2.964363   9.0  0.5622\n",
       "9            0.160044         3.017436  10.0  0.5587\n",
       "10           0.128743         2.759720  11.0  0.5558\n",
       "11           0.092224         2.226797  12.0  0.5534\n",
       "12           0.077372         2.354252  13.0  0.5514\n",
       "13           0.044653         1.220594  14.0  0.5494\n",
       "14           0.033444         1.109282  15.0  0.5476\n",
       "15           0.035172         1.531763  16.0  0.5454\n",
       "16           0.038492         1.071574  17.0  0.5443\n",
       "17           0.037215         1.272079  18.0  0.5434\n",
       "18           0.035880         2.356681  19.0  0.5426\n",
       "19           0.107184         2.805706  20.0  0.5412\n",
       "0            0.087442         0.214402   1.0  0.6598\n",
       "1            0.199901         0.876496   2.0  0.6257\n",
       "2            0.273816         1.710094   3.0  0.6071\n",
       "3            0.322711         2.513590   4.0  0.5941\n",
       "4            0.339473         3.188772   5.0  0.5848"
      ]
     },
     "execution_count": 59,
     "metadata": {},
     "output_type": "execute_result"
    }
   ],
   "source": [
    "logs[['unknown_param_mse', 'unknown_var_mse', 'var', 'alpha']].head(25)"
   ]
  },
  {
   "cell_type": "code",
   "execution_count": null,
   "metadata": {},
   "outputs": [],
   "source": []
  },
  {
   "cell_type": "code",
   "execution_count": 19,
   "metadata": {},
   "outputs": [
    {
     "data": {
      "text/html": [
       "<div>\n",
       "<style scoped>\n",
       "    .dataframe tbody tr th:only-of-type {\n",
       "        vertical-align: middle;\n",
       "    }\n",
       "\n",
       "    .dataframe tbody tr th {\n",
       "        vertical-align: top;\n",
       "    }\n",
       "\n",
       "    .dataframe thead th {\n",
       "        text-align: right;\n",
       "    }\n",
       "</style>\n",
       "<table border=\"1\" class=\"dataframe\">\n",
       "  <thead>\n",
       "    <tr style=\"text-align: right;\">\n",
       "      <th></th>\n",
       "      <th>Unnamed: 0</th>\n",
       "      <th>x</th>\n",
       "    </tr>\n",
       "  </thead>\n",
       "  <tbody>\n",
       "    <tr>\n",
       "      <th>0</th>\n",
       "      <td>(Intercept)</td>\n",
       "      <td>0.348450</td>\n",
       "    </tr>\n",
       "    <tr>\n",
       "      <th>1</th>\n",
       "      <td>X</td>\n",
       "      <td>-0.183805</td>\n",
       "    </tr>\n",
       "    <tr>\n",
       "      <th>2</th>\n",
       "      <td>sigma</td>\n",
       "      <td>4.488615</td>\n",
       "    </tr>\n",
       "  </tbody>\n",
       "</table>\n",
       "</div>"
      ],
      "text/plain": [
       "    Unnamed: 0         x\n",
       "0  (Intercept)  0.348450\n",
       "1            X -0.183805\n",
       "2        sigma  4.488615"
      ]
     },
     "execution_count": 19,
     "metadata": {},
     "output_type": "execute_result"
    }
   ],
   "source": [
    "trunc_df = pd.read_csv('/home/gridsan/stefanou/truncreg/result.csv')\n",
    "trunc_df"
   ]
  },
  {
   "cell_type": "code",
   "execution_count": 25,
   "metadata": {},
   "outputs": [],
   "source": [
    "U = Uniform(-1, 1)\n",
    "# U_ = Uniform(args.x_lower, args.x_upper)"
   ]
  },
  {
   "cell_type": "code",
   "execution_count": 48,
   "metadata": {},
   "outputs": [
    {
     "data": {
      "text/plain": [
       "tensor(0.0218)"
      ]
     },
     "execution_count": 48,
     "metadata": {},
     "output_type": "execute_result"
    }
   ],
   "source": [
    "ch.nn.MSELoss()(Tensor([trunc_df['x'][2]**2]), Tensor([20]))"
   ]
  },
  {
   "cell_type": "code",
   "execution_count": 27,
   "metadata": {},
   "outputs": [],
   "source": [
    "ch.manual_seed(1)\n",
    "# generate ground truth\n",
    "ground_truth = ch.nn.Linear(in_features=1, out_features=1, bias=True)\n",
    "ground_truth.weight = ch.nn.Parameter(U.sample(ch.Size([1, 1])))\n",
    "ground_truth.bias = ch.nn.Parameter(U.sample(ch.Size([1, 1])))"
   ]
  },
  {
   "cell_type": "code",
   "execution_count": 32,
   "metadata": {},
   "outputs": [],
   "source": [
    "params = ch.cat([ground_truth.weight, ground_truth.bias])\n",
    "trunc_params = ch.cat([Tensor([trunc_df['x'][1]]), Tensor([trunc_df['x'][0]])])"
   ]
  },
  {
   "cell_type": "code",
   "execution_count": 35,
   "metadata": {},
   "outputs": [
    {
     "data": {
      "text/plain": [
       "(tensor([-0.1838,  0.3484]),\n",
       " tensor([[-0.1939],\n",
       "         [ 0.4694]], grad_fn=<CatBackward>))"
      ]
     },
     "execution_count": 35,
     "metadata": {},
     "output_type": "execute_result"
    }
   ],
   "source": [
    "trunc_params, params"
   ]
  },
  {
   "cell_type": "code",
   "execution_count": 57,
   "metadata": {},
   "outputs": [
    {
     "data": {
      "text/plain": [
       "(tensor(0.0074, grad_fn=<MseLossBackward>), tensor(0.0218))"
      ]
     },
     "execution_count": 57,
     "metadata": {},
     "output_type": "execute_result"
    }
   ],
   "source": [
    "ch.nn.MSELoss()(trunc_params, params.flatten()), ch.nn.MSELoss()(Tensor([trunc_df['x'][2]])**2, Tensor([20]))"
   ]
  },
  {
   "cell_type": "code",
   "execution_count": 60,
   "metadata": {},
   "outputs": [
    {
     "data": {
      "image/png": "[encoded data removed]",
      "text/plain": [
       "<Figure size 432x288 with 1 Axes>"
      ]
     },
     "metadata": {
      "needs_background": "light"
     },
     "output_type": "display_data"
    },
    {
     "data": {
      "image/png": "[encoded data removed]",
      "text/plain": [
       "<Figure size 432x288 with 1 Axes>"
      ]
     },
     "metadata": {
      "needs_background": "light"
     },
     "output_type": "display_data"
    }
   ],
   "source": [
    "sns.lineplot(data=logs, x='var', y='known_param_mse', label='Known', color=\"purple\")\n",
    "sns.lineplot(data=logs, x='var', y='unknown_param_mse', label='Unknown', color=\"blue\")\n",
    "ax = sns.lineplot(data=logs, x='var', y='ols_param_mse', label='OLS', color=\"red\")\n",
    "# ax = sns.lineplot(data=logs, x='var', y='trunc_reg_param_mse', label='truncreg', color=\"yellow\")\n",
    "ax.set(xlabel='Noise Variance', ylabel='L2 Distance')\n",
    "plt.show()\n",
    "\n",
    "# sns.lineplot(data=logs, x='var', y='known_', label='Known', color=\"purple\")\n",
    "sns.lineplot(data=logs, x='var', y='unknown_var_mse', label='Unknown', color=\"blue\")\n",
    "ax = sns.lineplot(data=logs, x='var', y='ols_var_mse', label='OLS', color=\"red\")\n",
    "# ax = sns.lineplot(data=logs, x='var', y='trunc_var_mse', label='truncreg', color=\"yellow\")\n",
    "ax.set(xlabel='Noise Variance', ylabel='L2 Distance')\n",
    "plt.show()\n"
   ]
  },
  {
   "cell_type": "code",
   "execution_count": 41,
   "metadata": {},
   "outputs": [
    {
     "data": {
      "image/png": "[encoded data removed]",
      "text/plain": [
       "<Figure size 432x288 with 1 Axes>"
      ]
     },
     "metadata": {
      "needs_background": "light"
     },
     "output_type": "display_data"
    },
    {
     "data": {
      "text/plain": [
       "<AxesSubplot:xlabel='epoch', ylabel='train_prec1'>"
      ]
     },
     "execution_count": 41,
     "metadata": {},
     "output_type": "execute_result"
    },
    {
     "data": {
      "image/png": "[encoded data removed]",
      "text/plain": [
       "<Figure size 432x288 with 1 Axes>"
      ]
     },
     "metadata": {
      "needs_background": "light"
     },
     "output_type": "display_data"
    }
   ],
   "source": [
    "sns.lineplot(data=logs, x='epoch', y='train_loss', label='Train')\n",
    "sns.lineplot(data=logs, x='epoch', y='val_loss', label='Val')\n",
    "plt.show()\n",
    "sns.lineplot(data=logs, x='epoch', y='train_prec1', label='Train')\n",
    "sns.lineplot(data=logs, x='epoch', y='val_prec1', label='Val')"
   ]
  },
  {
   "cell_type": "code",
   "execution_count": 35,
   "metadata": {},
   "outputs": [],
   "source": [
    "reader.close()"
   ]
  },
  {
   "cell_type": "code",
   "execution_count": 20,
   "metadata": {},
   "outputs": [
    {
     "data": {
      "text/plain": [
       "<AxesSubplot:xlabel='epoch', ylabel='train_prec1'>"
      ]
     },
     "execution_count": 20,
     "metadata": {},
     "output_type": "execute_result"
    },
    {
     "data": {
      "image/png": "[encoded data removed]",
      "text/plain": [
       "<Figure size 432x288 with 1 Axes>"
      ]
     },
     "metadata": {
      "needs_background": "light"
     },
     "output_type": "display_data"
    }
   ],
   "source": [
    "sns.lineplot(data=trunc, x='epoch', y='train_prec1')"
   ]
  },
  {
   "cell_type": "code",
   "execution_count": null,
   "metadata": {},
   "outputs": [],
   "source": []
  }
 ],
 "metadata": {
  "kernelspec": {
   "display_name": "Python 3",
   "language": "python",
   "name": "python3"
  },
  "language_info": {
   "codemirror_mode": {
    "name": "ipython",
    "version": 3
   },
   "file_extension": ".py",
   "mimetype": "text/x-python",
   "name": "python",
   "nbconvert_exporter": "python",
   "pygments_lexer": "ipython3",
   "version": "3.8.5"
  },
  "latex_envs": {
   "LaTeX_envs_menu_present": true,
   "autoclose": false,
   "autocomplete": true,
   "bibliofile": "biblio.bib",
   "cite_by": "apalike",
   "current_citInitial": 1,
   "eqLabelWithNumbers": true,
   "eqNumInitial": 1,
   "hotkeys": {
    "equation": "Ctrl-E",
    "itemize": "Ctrl-I"
   },
   "labels_anchors": false,
   "latex_user_defs": false,
   "report_style_numbering": false,
   "user_envs_cfg": false
  },
  "toc": {
   "base_numbering": 1,
   "nav_menu": {},
   "number_sections": true,
   "sideBar": true,
   "skip_h1_title": false,
   "title_cell": "Table of Contents",
   "title_sidebar": "Contents",
   "toc_cell": false,
   "toc_position": {},
   "toc_section_display": true,
   "toc_window_display": false
  },
  "varInspector": {
   "cols": {
    "lenName": 16,
    "lenType": 16,
    "lenVar": 40
   },
   "kernels_config": {
    "python": {
     "delete_cmd_postfix": "",
     "delete_cmd_prefix": "del ",
     "library": "var_list.py",
     "varRefreshCmd": "print(var_dic_list())"
    },
    "r": {
     "delete_cmd_postfix": ") ",
     "delete_cmd_prefix": "rm(",
     "library": "var_list.r",
     "varRefreshCmd": "cat(var_dic_list()) "
    }
   },
   "types_to_exclude": [
    "module",
    "function",
    "builtin_function_or_method",
    "instance",
    "_Feature"
   ],
   "window_display": false
  }
 },
 "nbformat": 4,
 "nbformat_minor": 4
}
