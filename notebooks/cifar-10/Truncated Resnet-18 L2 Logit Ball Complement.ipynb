{
 "cells": [
  {
   "cell_type": "code",
   "execution_count": 71,
   "metadata": {},
   "outputs": [],
   "source": [
    "import sys\n",
    "sys.path.append('../..')\n",
    "from delphi import train\n",
    "from delphi.utils import model_utils\n",
    "from delphi import grad\n",
    "from delphi import oracle\n",
    "from delphi.utils.datasets import CIFAR\n",
    "import delphi.utils.constants as consts\n",
    "import delphi.utils.data_augmentation as da\n",
    "from delphi.utils.helpers import setup_store_with_metadata\n",
    "\n",
    "import torchvision \n",
    "from torchvision import transforms\n",
    "from torch.utils.data import DataLoader, Dataset\n",
    "import torch as ch\n",
    "import torch.nn as nn\n",
    "from torch import Tensor\n",
    "from torch.distributions import Gumbel\n",
    "import math\n",
    "import numpy as np\n",
    "import matplotlib.pyplot as plt\n",
    "import cox\n",
    "from cox.utils import Parameters\n",
    "import cox.store as store\n",
    "from cox.readers import CollectionReader\n",
    "import seaborn as sns\n",
    "import os\n",
    "import config\n",
    "import pickle\n",
    "import pandas as pd\n",
    "\n",
    "# set environment variable so that stores can create output files\n",
    "os.environ['HDF5_USE_FILE_LOCKING'] = 'FALSE'\n",
    "\n",
    "# noise distributions\n",
    "gumbel = Gumbel(0, 1)\n",
    "num_classes = 10\n",
    "\n",
    "# file path constants\n",
    "PRETRAIN = '/home/gridsan/stefanou/cifar-10/resnet-18/pretraining-technique'\n",
    "BASE_CLASSIFIER = '/home/gridsan/stefanou/cifar-10/resnet-18/base_cyclic'\n",
    "BASE_CLASSIFIER_PATH = BASE_CLASSIFIER + '/6bd0e918-3bf7-4119-bc87-eb5eb12fa344/checkpoint.pt.latest'\n",
    "LOGIT_BALL_CLASSIFIER = '/home/gridsan/stefanou/cifar-10/resnet-18/trunc_ce_step_lr_50epochs'\n",
    "STANDARD_CLASSIFIER = '/home/gridsan/stefanou/cifar-10/resnet-18/standard_step_lr_50epochs'\n",
    "DATA_PATH = '/home/gridsan/stefanou/data/'\n",
    "TRUNC_TRAIN_DATASET = 'trunc_train_calibrated_logit_'\n",
    "TRUNC_VAL_DATASET = 'trunc_val_calibrated_logit_'\n",
    "TRUNC_TEST_DATASET = 'trunc_test_calibrated_logit_'\n",
    "\n",
    "# helper dataset\n",
    "class TruncatedCIFAR(Dataset):\n",
    "    \"\"\"\n",
    "    Truncated CIFAR-10 dataset [Kri09]_.\n",
    "    Original dataset has 50k training images and 10k testing images, with the\n",
    "    following classes:\n",
    "    * Airplane\n",
    "    * Automobile\n",
    "    * Bird\n",
    "    * Cat\n",
    "    * Deer\n",
    "    * Dog\n",
    "    * Frog\n",
    "    * Horse\n",
    "    * Ship\n",
    "    * Truck\n",
    "    .. [Kri09] Krizhevsky, A (2009). Learning Multiple Layers of Features\n",
    "        from Tiny Images. Technical Report.\n",
    "        \n",
    "    Truncated dataset only includes images and labels from original dataset that fall within the truncation set.\n",
    "    \"\"\"\n",
    "    def __init__(self, img, label, transform = None):\n",
    "        \"\"\"\n",
    "        \"\"\"\n",
    "        self.img = img \n",
    "        self.label = label\n",
    "        self.transform = transform\n",
    "\n",
    "    def __getitem__(self, idx):\n",
    "        \"\"\"\n",
    "        \"\"\"\n",
    "        x = self.img[idx]\n",
    "        y = self.label[idx]\n",
    "        # data augmentation\n",
    "        if self.transform: \n",
    "            x = self.transform(x)\n",
    "            \n",
    "        return x, y\n",
    "    \n",
    "    def __len__(self): \n",
    "        return self.img.size(0)\n",
    "transform_ = transforms.Compose(\n",
    "    [transforms.ToTensor()])\n",
    "\n",
    "# hyperparameters\n",
    "args = Parameters({ \n",
    "    'epochs': 15,\n",
    "    'workers': 8, \n",
    "    'batch_size': 128, \n",
    "    'lr': 1e-1, \n",
    "    'accuracy': True,\n",
    "    'momentum': 0.9, \n",
    "    'weight_decay': 5e-4, \n",
    "    'save_ckpt_iters': 50,\n",
    "    'should_save_ckpt': True,\n",
    "    'log_iters': 1,\n",
    "    'step_lr': 1, \n",
    "    'custom_lr_multiplier': consts.CYCLIC,\n",
    "    'step_lr_gamma': 1.0,\n",
    "    'validation_split': .8,\n",
    "    'shuffle': True,\n",
    "    'parallel': False, \n",
    "    'num_samples': 1000,\n",
    "    'logit_ball': 12.0,\n",
    "    'trials': 5,\n",
    "    'step_lr': 10, \n",
    "    'step_lr_gamma': 1.0,\n",
    "    'temperature': nn.Parameter(ch.ones(1).cuda()),\n",
    "    'device': 'cuda' if ch.cuda.is_available() else 'cpu'\n",
    "})"
   ]
  },
  {
   "cell_type": "markdown",
   "metadata": {},
   "source": [
    "# Setup and Explore Dataset"
   ]
  },
  {
   "cell_type": "code",
   "execution_count": 2,
   "metadata": {},
   "outputs": [],
   "source": [
    "ds = CIFAR(data_path='/home/gridsan/stefanou/data')"
   ]
  },
  {
   "cell_type": "code",
   "execution_count": 3,
   "metadata": {},
   "outputs": [],
   "source": [
    "import torchvision \n",
    "dataset = torchvision.datasets.CIFAR10(root='/home/gridsan/stefanou/data', train=True,\n",
    "                                        download=False, transform=transform_)\n",
    "\n",
    "train_set, val_set = ch.utils.data.random_split(dataset, [45000, 5000])\n",
    "\n",
    "train_loader = ch.utils.data.DataLoader(train_set, batch_size=128,\n",
    "                                          shuffle=True, num_workers=2)\n",
    "\n",
    "val_loader = ch.utils.data.DataLoader(val_set, batch_size=128,\n",
    "                                          shuffle=True, num_workers=2)\n",
    "\n",
    "test_set = torchvision.datasets.CIFAR10(root='/home/gridsan/stefanou/data', train=False,\n",
    "                                       download=False, transform=transform_)\n",
    "test_loader = ch.utils.data.DataLoader(test_set, batch_size=128,\n",
    "                                         shuffle=False, num_workers=2)"
   ]
  },
  {
   "cell_type": "code",
   "execution_count": 4,
   "metadata": {},
   "outputs": [
    {
     "name": "stdout",
     "output_type": "stream",
     "text": [
      "label: airplane\n"
     ]
    },
    {
     "data": {
      "image/png": "[encoded data removed]",
      "text/plain": [
       "<Figure size 432x288 with 1 Axes>"
      ]
     },
     "metadata": {
      "needs_background": "light"
     },
     "output_type": "display_data"
    },
    {
     "name": "stdout",
     "output_type": "stream",
     "text": [
      "label: deer\n"
     ]
    },
    {
     "data": {
      "image/png": "[encoded data removed]",
      "text/plain": [
       "<Figure size 432x288 with 1 Axes>"
      ]
     },
     "metadata": {
      "needs_background": "light"
     },
     "output_type": "display_data"
    },
    {
     "name": "stdout",
     "output_type": "stream",
     "text": [
      "label: cat\n"
     ]
    },
    {
     "data": {
      "image/png": "[encoded data removed]",
      "text/plain": [
       "<Figure size 432x288 with 1 Axes>"
      ]
     },
     "metadata": {
      "needs_background": "light"
     },
     "output_type": "display_data"
    },
    {
     "name": "stdout",
     "output_type": "stream",
     "text": [
      "label: bird\n"
     ]
    },
    {
     "data": {
      "image/png": "[encoded data removed]",
      "text/plain": [
       "<Figure size 432x288 with 1 Axes>"
      ]
     },
     "metadata": {
      "needs_background": "light"
     },
     "output_type": "display_data"
    },
    {
     "name": "stdout",
     "output_type": "stream",
     "text": [
      "label: ship\n"
     ]
    },
    {
     "data": {
      "image/png": "[encoded data removed]",
      "text/plain": [
       "<Figure size 432x288 with 1 Axes>"
      ]
     },
     "metadata": {
      "needs_background": "light"
     },
     "output_type": "display_data"
    },
    {
     "name": "stdout",
     "output_type": "stream",
     "text": [
      "label: automobile\n"
     ]
    },
    {
     "data": {
      "image/png": "[encoded data removed]",
      "text/plain": [
       "<Figure size 432x288 with 1 Axes>"
      ]
     },
     "metadata": {
      "needs_background": "light"
     },
     "output_type": "display_data"
    },
    {
     "name": "stdout",
     "output_type": "stream",
     "text": [
      "label: truck\n"
     ]
    },
    {
     "data": {
      "image/png": "[encoded data removed]",
      "text/plain": [
       "<Figure size 432x288 with 1 Axes>"
      ]
     },
     "metadata": {
      "needs_background": "light"
     },
     "output_type": "display_data"
    },
    {
     "name": "stdout",
     "output_type": "stream",
     "text": [
      "label: horse\n"
     ]
    },
    {
     "data": {
      "image/png": "[encoded data removed]",
      "text/plain": [
       "<Figure size 432x288 with 1 Axes>"
      ]
     },
     "metadata": {
      "needs_background": "light"
     },
     "output_type": "display_data"
    },
    {
     "name": "stdout",
     "output_type": "stream",
     "text": [
      "label: frog\n"
     ]
    },
    {
     "data": {
      "image/png": "[encoded data removed]",
      "text/plain": [
       "<Figure size 432x288 with 1 Axes>"
      ]
     },
     "metadata": {
      "needs_background": "light"
     },
     "output_type": "display_data"
    },
    {
     "name": "stdout",
     "output_type": "stream",
     "text": [
      "label: dog\n"
     ]
    },
    {
     "data": {
      "image/png": "[encoded data removed]",
      "text/plain": [
       "<Figure size 432x288 with 1 Axes>"
      ]
     },
     "metadata": {
      "needs_background": "light"
     },
     "output_type": "display_data"
    }
   ],
   "source": [
    "labels = {i for i in range(10)}\n",
    "for image, target in train_loader: \n",
    "    for j in range(len(target)): \n",
    "        im, targ = image[j], target[j]\n",
    "        if targ.item() in labels: \n",
    "            print(\"label: {}\".format(da.CIFAR_LABELS[targ.item()]))\n",
    "            plt.imshow(transforms.ToPILImage(mode=\"RGB\")(im.squeeze(0)))\n",
    "            plt.show()\n",
    "            labels.remove(targ.item())\n",
    "        if len(labels) == 0: \n",
    "            break"
   ]
  },
  {
   "cell_type": "markdown",
   "metadata": {},
   "source": [
    "# Train Base Classifier"
   ]
  },
  {
   "cell_type": "code",
   "execution_count": 53,
   "metadata": {},
   "outputs": [
    {
     "name": "stdout",
     "output_type": "stream",
     "text": [
      "Logging in: /home/gridsan/stefanou/cifar-10/resnet-18/base_cyclic/6bd0e918-3bf7-4119-bc87-eb5eb12fa344\n"
     ]
    }
   ],
   "source": [
    "base_classifier, _ = model_utils.make_and_restore_model(arch='resnet18', dataset=ds)\n",
    "out_store = store.Store(BASE_CLASSIFIER)"
   ]
  },
  {
   "cell_type": "code",
   "execution_count": 54,
   "metadata": {},
   "outputs": [
    {
     "data": {
      "application/vnd.jupyter.widget-view+json": {
       "model_id": "",
       "version_major": 2,
       "version_minor": 0
      },
      "text/plain": [
       "HBox(children=(FloatProgress(value=0.0, max=352.0), HTML(value='')))"
      ]
     },
     "metadata": {},
     "output_type": "display_data"
    },
    {
     "data": {
      "application/vnd.jupyter.widget-view+json": {
       "model_id": "",
       "version_major": 2,
       "version_minor": 0
      },
      "text/plain": [
       "HBox(children=(FloatProgress(value=0.0, max=40.0), HTML(value='')))"
      ]
     },
     "metadata": {},
     "output_type": "display_data"
    },
    {
     "name": "stderr",
     "output_type": "stream",
     "text": [
      "/home/gridsan/stefanou/.local/lib/python3.8/site-packages/torch/optim/lr_scheduler.py:216: UserWarning: Please also save or load the state of the optimizer when saving or loading the scheduler.\n",
      "  warnings.warn(SAVE_STATE_WARNING, UserWarning)\n"
     ]
    },
    {
     "data": {
      "application/vnd.jupyter.widget-view+json": {
       "model_id": "",
       "version_major": 2,
       "version_minor": 0
      },
      "text/plain": [
       "HBox(children=(FloatProgress(value=0.0, max=352.0), HTML(value='')))"
      ]
     },
     "metadata": {},
     "output_type": "display_data"
    },
    {
     "data": {
      "application/vnd.jupyter.widget-view+json": {
       "model_id": "",
       "version_major": 2,
       "version_minor": 0
      },
      "text/plain": [
       "HBox(children=(FloatProgress(value=0.0, max=40.0), HTML(value='')))"
      ]
     },
     "metadata": {},
     "output_type": "display_data"
    },
    {
     "data": {
      "application/vnd.jupyter.widget-view+json": {
       "model_id": "",
       "version_major": 2,
       "version_minor": 0
      },
      "text/plain": [
       "HBox(children=(FloatProgress(value=0.0, max=352.0), HTML(value='')))"
      ]
     },
     "metadata": {},
     "output_type": "display_data"
    },
    {
     "data": {
      "application/vnd.jupyter.widget-view+json": {
       "model_id": "",
       "version_major": 2,
       "version_minor": 0
      },
      "text/plain": [
       "HBox(children=(FloatProgress(value=0.0, max=40.0), HTML(value='')))"
      ]
     },
     "metadata": {},
     "output_type": "display_data"
    },
    {
     "data": {
      "application/vnd.jupyter.widget-view+json": {
       "model_id": "",
       "version_major": 2,
       "version_minor": 0
      },
      "text/plain": [
       "HBox(children=(FloatProgress(value=0.0, max=352.0), HTML(value='')))"
      ]
     },
     "metadata": {},
     "output_type": "display_data"
    },
    {
     "data": {
      "application/vnd.jupyter.widget-view+json": {
       "model_id": "",
       "version_major": 2,
       "version_minor": 0
      },
      "text/plain": [
       "HBox(children=(FloatProgress(value=0.0, max=40.0), HTML(value='')))"
      ]
     },
     "metadata": {},
     "output_type": "display_data"
    },
    {
     "data": {
      "application/vnd.jupyter.widget-view+json": {
       "model_id": "",
       "version_major": 2,
       "version_minor": 0
      },
      "text/plain": [
       "HBox(children=(FloatProgress(value=0.0, max=352.0), HTML(value='')))"
      ]
     },
     "metadata": {},
     "output_type": "display_data"
    },
    {
     "data": {
      "application/vnd.jupyter.widget-view+json": {
       "model_id": "",
       "version_major": 2,
       "version_minor": 0
      },
      "text/plain": [
       "HBox(children=(FloatProgress(value=0.0, max=40.0), HTML(value='')))"
      ]
     },
     "metadata": {},
     "output_type": "display_data"
    },
    {
     "data": {
      "application/vnd.jupyter.widget-view+json": {
       "model_id": "",
       "version_major": 2,
       "version_minor": 0
      },
      "text/plain": [
       "HBox(children=(FloatProgress(value=0.0, max=352.0), HTML(value='')))"
      ]
     },
     "metadata": {},
     "output_type": "display_data"
    },
    {
     "data": {
      "application/vnd.jupyter.widget-view+json": {
       "model_id": "",
       "version_major": 2,
       "version_minor": 0
      },
      "text/plain": [
       "HBox(children=(FloatProgress(value=0.0, max=40.0), HTML(value='')))"
      ]
     },
     "metadata": {},
     "output_type": "display_data"
    },
    {
     "data": {
      "application/vnd.jupyter.widget-view+json": {
       "model_id": "",
       "version_major": 2,
       "version_minor": 0
      },
      "text/plain": [
       "HBox(children=(FloatProgress(value=0.0, max=352.0), HTML(value='')))"
      ]
     },
     "metadata": {},
     "output_type": "display_data"
    },
    {
     "data": {
      "application/vnd.jupyter.widget-view+json": {
       "model_id": "",
       "version_major": 2,
       "version_minor": 0
      },
      "text/plain": [
       "HBox(children=(FloatProgress(value=0.0, max=40.0), HTML(value='')))"
      ]
     },
     "metadata": {},
     "output_type": "display_data"
    },
    {
     "data": {
      "application/vnd.jupyter.widget-view+json": {
       "model_id": "",
       "version_major": 2,
       "version_minor": 0
      },
      "text/plain": [
       "HBox(children=(FloatProgress(value=0.0, max=352.0), HTML(value='')))"
      ]
     },
     "metadata": {},
     "output_type": "display_data"
    },
    {
     "data": {
      "application/vnd.jupyter.widget-view+json": {
       "model_id": "",
       "version_major": 2,
       "version_minor": 0
      },
      "text/plain": [
       "HBox(children=(FloatProgress(value=0.0, max=40.0), HTML(value='')))"
      ]
     },
     "metadata": {},
     "output_type": "display_data"
    },
    {
     "data": {
      "application/vnd.jupyter.widget-view+json": {
       "model_id": "",
       "version_major": 2,
       "version_minor": 0
      },
      "text/plain": [
       "HBox(children=(FloatProgress(value=0.0, max=352.0), HTML(value='')))"
      ]
     },
     "metadata": {},
     "output_type": "display_data"
    },
    {
     "data": {
      "application/vnd.jupyter.widget-view+json": {
       "model_id": "",
       "version_major": 2,
       "version_minor": 0
      },
      "text/plain": [
       "HBox(children=(FloatProgress(value=0.0, max=40.0), HTML(value='')))"
      ]
     },
     "metadata": {},
     "output_type": "display_data"
    },
    {
     "data": {
      "application/vnd.jupyter.widget-view+json": {
       "model_id": "",
       "version_major": 2,
       "version_minor": 0
      },
      "text/plain": [
       "HBox(children=(FloatProgress(value=0.0, max=352.0), HTML(value='')))"
      ]
     },
     "metadata": {},
     "output_type": "display_data"
    },
    {
     "data": {
      "application/vnd.jupyter.widget-view+json": {
       "model_id": "",
       "version_major": 2,
       "version_minor": 0
      },
      "text/plain": [
       "HBox(children=(FloatProgress(value=0.0, max=40.0), HTML(value='')))"
      ]
     },
     "metadata": {},
     "output_type": "display_data"
    },
    {
     "data": {
      "application/vnd.jupyter.widget-view+json": {
       "model_id": "",
       "version_major": 2,
       "version_minor": 0
      },
      "text/plain": [
       "HBox(children=(FloatProgress(value=0.0, max=352.0), HTML(value='')))"
      ]
     },
     "metadata": {},
     "output_type": "display_data"
    },
    {
     "data": {
      "application/vnd.jupyter.widget-view+json": {
       "model_id": "",
       "version_major": 2,
       "version_minor": 0
      },
      "text/plain": [
       "HBox(children=(FloatProgress(value=0.0, max=40.0), HTML(value='')))"
      ]
     },
     "metadata": {},
     "output_type": "display_data"
    },
    {
     "data": {
      "application/vnd.jupyter.widget-view+json": {
       "model_id": "",
       "version_major": 2,
       "version_minor": 0
      },
      "text/plain": [
       "HBox(children=(FloatProgress(value=0.0, max=352.0), HTML(value='')))"
      ]
     },
     "metadata": {},
     "output_type": "display_data"
    },
    {
     "data": {
      "application/vnd.jupyter.widget-view+json": {
       "model_id": "",
       "version_major": 2,
       "version_minor": 0
      },
      "text/plain": [
       "HBox(children=(FloatProgress(value=0.0, max=40.0), HTML(value='')))"
      ]
     },
     "metadata": {},
     "output_type": "display_data"
    },
    {
     "data": {
      "application/vnd.jupyter.widget-view+json": {
       "model_id": "",
       "version_major": 2,
       "version_minor": 0
      },
      "text/plain": [
       "HBox(children=(FloatProgress(value=0.0, max=352.0), HTML(value='')))"
      ]
     },
     "metadata": {},
     "output_type": "display_data"
    },
    {
     "data": {
      "application/vnd.jupyter.widget-view+json": {
       "model_id": "",
       "version_major": 2,
       "version_minor": 0
      },
      "text/plain": [
       "HBox(children=(FloatProgress(value=0.0, max=40.0), HTML(value='')))"
      ]
     },
     "metadata": {},
     "output_type": "display_data"
    },
    {
     "data": {
      "application/vnd.jupyter.widget-view+json": {
       "model_id": "",
       "version_major": 2,
       "version_minor": 0
      },
      "text/plain": [
       "HBox(children=(FloatProgress(value=0.0, max=352.0), HTML(value='')))"
      ]
     },
     "metadata": {},
     "output_type": "display_data"
    },
    {
     "data": {
      "application/vnd.jupyter.widget-view+json": {
       "model_id": "",
       "version_major": 2,
       "version_minor": 0
      },
      "text/plain": [
       "HBox(children=(FloatProgress(value=0.0, max=40.0), HTML(value='')))"
      ]
     },
     "metadata": {},
     "output_type": "display_data"
    },
    {
     "data": {
      "application/vnd.jupyter.widget-view+json": {
       "model_id": "",
       "version_major": 2,
       "version_minor": 0
      },
      "text/plain": [
       "HBox(children=(FloatProgress(value=0.0, max=352.0), HTML(value='')))"
      ]
     },
     "metadata": {},
     "output_type": "display_data"
    },
    {
     "data": {
      "application/vnd.jupyter.widget-view+json": {
       "model_id": "",
       "version_major": 2,
       "version_minor": 0
      },
      "text/plain": [
       "HBox(children=(FloatProgress(value=0.0, max=40.0), HTML(value='')))"
      ]
     },
     "metadata": {},
     "output_type": "display_data"
    }
   ],
   "source": [
    "# train\n",
    "ch.manual_seed(0)\n",
    "train.train_model(args, base_classifier, (train_loader, val_loader), store=out_store)\n",
    "out_store.close()"
   ]
  },
  {
   "cell_type": "code",
   "execution_count": 55,
   "metadata": {},
   "outputs": [
    {
     "name": "stderr",
     "output_type": "stream",
     "text": [
      "100%|██████████| 4/4 [00:00<00:00, 197.74it/s]"
     ]
    },
    {
     "name": "stdout",
     "output_type": "stream",
     "text": [
      "Warning: exp_id bdb3e942-64fc-4417-997b-50d3795747fa has no table 'logs'. Skipping.\n"
     ]
    },
    {
     "name": "stderr",
     "output_type": "stream",
     "text": [
      "\n"
     ]
    },
    {
     "data": {
      "text/html": [
       "<div>\n",
       "<style scoped>\n",
       "    .dataframe tbody tr th:only-of-type {\n",
       "        vertical-align: middle;\n",
       "    }\n",
       "\n",
       "    .dataframe tbody tr th {\n",
       "        vertical-align: top;\n",
       "    }\n",
       "\n",
       "    .dataframe thead th {\n",
       "        text-align: right;\n",
       "    }\n",
       "</style>\n",
       "<table border=\"1\" class=\"dataframe\">\n",
       "  <thead>\n",
       "    <tr style=\"text-align: right;\">\n",
       "      <th></th>\n",
       "      <th>epoch</th>\n",
       "      <th>val_prec1</th>\n",
       "      <th>val_loss</th>\n",
       "      <th>train_prec1</th>\n",
       "      <th>train_loss</th>\n",
       "      <th>time</th>\n",
       "      <th>exp_id</th>\n",
       "    </tr>\n",
       "  </thead>\n",
       "  <tbody>\n",
       "    <tr>\n",
       "      <th>0</th>\n",
       "      <td>1</td>\n",
       "      <td>9.719999</td>\n",
       "      <td>2.431787</td>\n",
       "      <td>10.008889</td>\n",
       "      <td>2.427080</td>\n",
       "      <td>14.735626</td>\n",
       "      <td>58b8d311-fd3e-4707-afc2-15e30dd5572b</td>\n",
       "    </tr>\n",
       "    <tr>\n",
       "      <th>1</th>\n",
       "      <td>2</td>\n",
       "      <td>33.980000</td>\n",
       "      <td>1.753911</td>\n",
       "      <td>25.042223</td>\n",
       "      <td>2.203583</td>\n",
       "      <td>28.837351</td>\n",
       "      <td>58b8d311-fd3e-4707-afc2-15e30dd5572b</td>\n",
       "    </tr>\n",
       "    <tr>\n",
       "      <th>2</th>\n",
       "      <td>3</td>\n",
       "      <td>53.020000</td>\n",
       "      <td>1.301218</td>\n",
       "      <td>44.464443</td>\n",
       "      <td>1.512715</td>\n",
       "      <td>42.948610</td>\n",
       "      <td>58b8d311-fd3e-4707-afc2-15e30dd5572b</td>\n",
       "    </tr>\n",
       "    <tr>\n",
       "      <th>3</th>\n",
       "      <td>4</td>\n",
       "      <td>63.480000</td>\n",
       "      <td>1.038254</td>\n",
       "      <td>57.428890</td>\n",
       "      <td>1.184723</td>\n",
       "      <td>57.236227</td>\n",
       "      <td>58b8d311-fd3e-4707-afc2-15e30dd5572b</td>\n",
       "    </tr>\n",
       "    <tr>\n",
       "      <th>4</th>\n",
       "      <td>5</td>\n",
       "      <td>67.299995</td>\n",
       "      <td>0.938042</td>\n",
       "      <td>66.300003</td>\n",
       "      <td>0.947913</td>\n",
       "      <td>71.342399</td>\n",
       "      <td>58b8d311-fd3e-4707-afc2-15e30dd5572b</td>\n",
       "    </tr>\n",
       "  </tbody>\n",
       "</table>\n",
       "</div>"
      ],
      "text/plain": [
       "   epoch  val_prec1  val_loss  train_prec1  train_loss       time  \\\n",
       "0      1   9.719999  2.431787    10.008889    2.427080  14.735626   \n",
       "1      2  33.980000  1.753911    25.042223    2.203583  28.837351   \n",
       "2      3  53.020000  1.301218    44.464443    1.512715  42.948610   \n",
       "3      4  63.480000  1.038254    57.428890    1.184723  57.236227   \n",
       "4      5  67.299995  0.938042    66.300003    0.947913  71.342399   \n",
       "\n",
       "                                 exp_id  \n",
       "0  58b8d311-fd3e-4707-afc2-15e30dd5572b  \n",
       "1  58b8d311-fd3e-4707-afc2-15e30dd5572b  \n",
       "2  58b8d311-fd3e-4707-afc2-15e30dd5572b  \n",
       "3  58b8d311-fd3e-4707-afc2-15e30dd5572b  \n",
       "4  58b8d311-fd3e-4707-afc2-15e30dd5572b  "
      ]
     },
     "execution_count": 55,
     "metadata": {},
     "output_type": "execute_result"
    }
   ],
   "source": [
    "reader = CollectionReader(BASE_CLASSIFIER)\n",
    "logs = reader.df('logs')\n",
    "reader.close()\n",
    "logs.head()"
   ]
  },
  {
   "cell_type": "code",
   "execution_count": 56,
   "metadata": {},
   "outputs": [],
   "source": [
    "logs = logs[logs['exp_id'] == '6bd0e918-3bf7-4119-bc87-eb5eb12fa344']"
   ]
  },
  {
   "cell_type": "code",
   "execution_count": 57,
   "metadata": {},
   "outputs": [
    {
     "data": {
      "text/plain": [
       "Text(0.5, 1.0, 'Base Classifier - Prec1')"
      ]
     },
     "execution_count": 57,
     "metadata": {},
     "output_type": "execute_result"
    },
    {
     "data": {
      "image/png": "[encoded data removed]",
      "text/plain": [
       "<Figure size 1080x360 with 2 Axes>"
      ]
     },
     "metadata": {
      "needs_background": "light"
     },
     "output_type": "display_data"
    }
   ],
   "source": [
    "fig = plt.figure()\n",
    "fig.set_figheight(5)\n",
    "fig.set_figwidth(15)\n",
    "\n",
    "fig.add_subplot(1, 2, 1)\n",
    "sns.lineplot(data=logs, x='epoch', y='train_prec1', label='train')\n",
    "sns.lineplot(data=logs, x='epoch', y='val_prec1', label='val')\n",
    "plt.xlabel('Epochs')\n",
    "plt.ylabel('Loss')\n",
    "plt.title('Base Classifier - Loss')\n",
    "\n",
    "fig.add_subplot(1, 2, 2)\n",
    "sns.lineplot(data=logs, x='epoch', y='train_loss', label='train')\n",
    "sns.lineplot(data=logs, x='epoch', y='val_loss', label='val')\n",
    "plt.xlabel('Epochs')\n",
    "plt.ylabel('Accuracy')\n",
    "plt.title('Base Classifier - Prec1')"
   ]
  },
  {
   "cell_type": "markdown",
   "metadata": {},
   "source": [
    "# Truncate CIFAR-10"
   ]
  },
  {
   "cell_type": "code",
   "execution_count": 59,
   "metadata": {},
   "outputs": [
    {
     "name": "stdout",
     "output_type": "stream",
     "text": [
      "=> loading checkpoint '/home/gridsan/stefanou/cifar-10/resnet-18/base_cyclic/6bd0e918-3bf7-4119-bc87-eb5eb12fa344/checkpoint.pt.latest'\n",
      "=> loaded checkpoint '/home/gridsan/stefanou/cifar-10/resnet-18/base_cyclic/6bd0e918-3bf7-4119-bc87-eb5eb12fa344/checkpoint.pt.latest' (epoch 15)\n"
     ]
    }
   ],
   "source": [
    "base_classifier, _ = model_utils.make_and_restore_model(arch='resnet18', dataset=ds, resume_path=BASE_CLASSIFIER_PATH)"
   ]
  },
  {
   "cell_type": "markdown",
   "metadata": {},
   "source": [
    "# Callibrate Base Classifier"
   ]
  },
  {
   "cell_type": "code",
   "execution_count": 60,
   "metadata": {},
   "outputs": [
    {
     "data": {
      "application/vnd.jupyter.widget-view+json": {
       "model_id": "34683d21a62648a1ab2b64e929c4a7c1",
       "version_major": 2,
       "version_minor": 0
      },
      "text/plain": [
       "HBox(children=(FloatProgress(value=0.0, max=79.0), HTML(value='')))"
      ]
     },
     "metadata": {},
     "output_type": "display_data"
    },
    {
     "name": "stdout",
     "output_type": "stream",
     "text": [
      "\n",
      "Accuracy of the network on the 10000 test images: 86 %\n",
      "0.8692\n"
     ]
    }
   ],
   "source": [
    "from tqdm.notebook import tqdm\n",
    "\n",
    "def T_scaling(logits, temp):\n",
    "    return ch.div(logits, temp)\n",
    "\n",
    "# Use kwargs for calibration method specific parameters\n",
    "def test(calibration_method=None):\n",
    "    preds = []\n",
    "    labels_oneh = []\n",
    "    correct = 0\n",
    "    base_classifier.eval()\n",
    "    with ch.no_grad():\n",
    "        for data in tqdm(test_loader):\n",
    "            images, labels = data[0].to('cuda:0'), data[1].to('cuda:0')\n",
    "\n",
    "            pred = base_classifier(images)[0]\n",
    "\n",
    "            if calibration_method:\n",
    "                pred = calibration_method(pred, args.temperature.item())\n",
    "\n",
    "            # Get softmax values for net input and resulting class predictions\n",
    "            sm = nn.Softmax(dim=1)\n",
    "            pred = sm(pred)\n",
    "\n",
    "            _, predicted_cl = ch.max(pred.data, 1)\n",
    "            pred = pred.cpu().detach().numpy()\n",
    "\n",
    "            # Convert labels to one hot encoding\n",
    "            label_oneh = ch.nn.functional.one_hot(labels, num_classes=num_classes)\n",
    "            label_oneh = label_oneh.cpu().detach().numpy()\n",
    "\n",
    "            preds.extend(pred)\n",
    "            labels_oneh.extend(label_oneh)\n",
    "\n",
    "            # Count correctly classified samples for accuracy\n",
    "            correct += sum(predicted_cl == labels).item()\n",
    "\n",
    "    preds = np.array(preds).flatten()\n",
    "    labels_oneh = np.array(labels_oneh).flatten()\n",
    "\n",
    "    correct_perc = correct / len(test_loader.dataset)\n",
    "    print('Accuracy of the network on the 10000 test images: %d %%' % (100 * correct_perc))\n",
    "    print(correct_perc)\n",
    "\n",
    "    return preds, labels_oneh\n",
    "\n",
    "preds, labels_oneh = test()\n",
    "\n",
    "def calc_bins(preds):\n",
    "    # Assign each prediction to a bin\n",
    "    num_bins = 10\n",
    "    bins = np.linspace(0.1, 1, num_bins)\n",
    "    binned = np.digitize(preds, bins)\n",
    "\n",
    "    # Save the accuracy, confidence and size of each bin\n",
    "    bin_accs = np.zeros(num_bins)\n",
    "    bin_confs = np.zeros(num_bins)\n",
    "    bin_sizes = np.zeros(num_bins)\n",
    "\n",
    "    for bin in range(num_bins):\n",
    "        bin_sizes[bin] = len(preds[binned == bin])\n",
    "        if bin_sizes[bin] > 0:\n",
    "            bin_accs[bin] = (labels_oneh[binned==bin]).sum() / bin_sizes[bin]\n",
    "            bin_confs[bin] = (preds[binned==bin]).sum() / bin_sizes[bin]\n",
    "\n",
    "    return bins, binned, bin_accs, bin_confs, bin_sizes\n",
    "\n",
    "def get_metrics(preds):\n",
    "    ECE = 0\n",
    "    MCE = 0\n",
    "    bins, _, bin_accs, bin_confs, bin_sizes = calc_bins(preds)\n",
    "\n",
    "    for i in range(len(bins)):\n",
    "        abs_conf_dif = abs(bin_accs[i] - bin_confs[i])\n",
    "        ECE += (bin_sizes[i] / sum(bin_sizes)) * abs_conf_dif\n",
    "        MCE = max(MCE, abs_conf_dif)\n",
    "\n",
    "    return ECE, MCE\n",
    "\n",
    "\n",
    "import matplotlib.patches as mpatches\n",
    "\n",
    "def draw_reliability_graph(preds):\n",
    "    ECE, MCE = get_metrics(preds)\n",
    "    bins, _, bin_accs, _, _ = calc_bins(preds)\n",
    "\n",
    "    fig = plt.figure(figsize=(8, 8))\n",
    "    ax = fig.gca()\n",
    "\n",
    "    # x/y limits\n",
    "    ax.set_xlim(0, 1.05)\n",
    "    ax.set_ylim(0, 1)\n",
    "\n",
    "    # x/y labels\n",
    "    plt.xlabel('Confidence')\n",
    "    plt.ylabel('Accuracy')\n",
    "\n",
    "    # Create grid\n",
    "    ax.set_axisbelow(True) \n",
    "    ax.grid(color='gray', linestyle='dashed')\n",
    "\n",
    "    # Error bars\n",
    "    plt.bar(bins, bins,  width=0.1, alpha=0.3, edgecolor='black', color='r', hatch='\\\\')\n",
    "\n",
    "    # Draw bars and identity line\n",
    "    plt.bar(bins, bin_accs, width=0.1, alpha=1, edgecolor='black', color='b')\n",
    "    plt.plot([0,1],[0,1], '--', color='gray', linewidth=2)\n",
    "\n",
    "    # Equally spaced axes\n",
    "    plt.gca().set_aspect('equal', adjustable='box')\n",
    "\n",
    "    # ECE and MCE legend\n",
    "    ECE_patch = mpatches.Patch(color='green', label='ECE = {:.2f}%'.format(ECE*100))\n",
    "    MCE_patch = mpatches.Patch(color='red', label='MCE = {:.2f}%'.format(MCE*100))\n",
    "    plt.legend(handles=[ECE_patch, MCE_patch])\n",
    "\n",
    "    #plt.show()\n",
    "\n",
    "    plt.savefig('calibrated_network.png', bbox_inches='tight')\n",
    "\n",
    "#draw_reliability_graph(preds)\n"
   ]
  },
  {
   "cell_type": "code",
   "execution_count": 61,
   "metadata": {},
   "outputs": [
    {
     "data": {
      "application/vnd.jupyter.widget-view+json": {
       "model_id": "08ada7ececfc414ab7c5927f16c3ca94",
       "version_major": 2,
       "version_minor": 0
      },
      "text/plain": [
       "HBox(children=(FloatProgress(value=0.0, max=40.0), HTML(value='')))"
      ]
     },
     "metadata": {},
     "output_type": "display_data"
    },
    {
     "name": "stdout",
     "output_type": "stream",
     "text": [
      "\n",
      "Final T_scaling factor: 1.65\n"
     ]
    },
    {
     "data": {
      "image/png": "[encoded data removed]",
      "text/plain": [
       "<Figure size 432x288 with 2 Axes>"
      ]
     },
     "metadata": {
      "needs_background": "light"
     },
     "output_type": "display_data"
    }
   ],
   "source": [
    "criterion = nn.CrossEntropyLoss()\n",
    "\n",
    "# Removing strong_wolfe line search results in jump after 50 epochs\n",
    "optimizer = ch.optim.LBFGS([args.temperature], lr=0.001, max_iter=10000, line_search_fn='strong_wolfe')\n",
    "\n",
    "logits_list = []\n",
    "labels_list = []\n",
    "temps = []\n",
    "losses = []\n",
    "\n",
    "for i, data in enumerate(tqdm(val_loader, 0)):\n",
    "    images, labels = data[0].cuda(), data[1].cuda()\n",
    "\n",
    "    base_classifier.eval()\n",
    "    with ch.no_grad():\n",
    "        logits_list.append(base_classifier(images)[0])\n",
    "        labels_list.append(labels)\n",
    "\n",
    "# Create tensors\n",
    "logits_list = ch.cat(logits_list).cuda()\n",
    "labels_list = ch.cat(labels_list).cuda()\n",
    "\n",
    "def _eval():\n",
    "    loss = criterion(T_scaling(logits_list, args.temperature), labels_list)\n",
    "    loss.backward()\n",
    "    temps.append(args.temperature.item())\n",
    "    losses.append(loss)\n",
    "    return loss\n",
    "\n",
    "\n",
    "optimizer.step(_eval)\n",
    "\n",
    "print('Final T_scaling factor: {:.2f}'.format(args.temperature.item()))\n",
    "\n",
    "plt.subplot(121)\n",
    "plt.plot(list(range(len(temps))), temps)\n",
    "\n",
    "plt.subplot(122)\n",
    "plt.plot(list(range(len(losses))), losses)\n",
    "plt.show()"
   ]
  },
  {
   "cell_type": "code",
   "execution_count": 62,
   "metadata": {
    "scrolled": false
   },
   "outputs": [
    {
     "data": {
      "application/vnd.jupyter.widget-view+json": {
       "model_id": "102720a6ca624957b4b42365d75d645e",
       "version_major": 2,
       "version_minor": 0
      },
      "text/plain": [
       "HBox(children=(FloatProgress(value=0.0, max=79.0), HTML(value='')))"
      ]
     },
     "metadata": {},
     "output_type": "display_data"
    },
    {
     "name": "stdout",
     "output_type": "stream",
     "text": [
      "\n",
      "Accuracy of the network on the 10000 test images: 86 %\n",
      "0.8692\n"
     ]
    },
    {
     "data": {
      "application/vnd.jupyter.widget-view+json": {
       "model_id": "82e963b9d1f041ca977697291e2dce5c",
       "version_major": 2,
       "version_minor": 0
      },
      "text/plain": [
       "HBox(children=(FloatProgress(value=0.0, max=79.0), HTML(value='')))"
      ]
     },
     "metadata": {},
     "output_type": "display_data"
    },
    {
     "name": "stdout",
     "output_type": "stream",
     "text": [
      "\n",
      "Accuracy of the network on the 10000 test images: 86 %\n",
      "0.8692\n"
     ]
    },
    {
     "data": {
      "image/png": "[encoded data removed]",
      "text/plain": [
       "<Figure size 576x576 with 1 Axes>"
      ]
     },
     "metadata": {
      "needs_background": "light"
     },
     "output_type": "display_data"
    },
    {
     "data": {
      "image/png": "[encoded data removed]",
      "text/plain": [
       "<Figure size 576x576 with 1 Axes>"
      ]
     },
     "metadata": {
      "needs_background": "light"
     },
     "output_type": "display_data"
    }
   ],
   "source": [
    "preds_original, _ = test()\n",
    "preds_calibrated, _ = test(T_scaling)\n",
    "\n",
    "draw_reliability_graph(preds_original)\n",
    "draw_reliability_graph(preds_calibrated)"
   ]
  },
  {
   "cell_type": "code",
   "execution_count": 63,
   "metadata": {},
   "outputs": [
    {
     "name": "stdout",
     "output_type": "stream",
     "text": [
      "original ece:  0.01348313664734524\n",
      "original mce:  0.1868086245348074\n",
      "calibrated ece:  0.002181267547607427\n",
      "calibrated mce:  0.03296672480022089\n"
     ]
    }
   ],
   "source": [
    "orig_ece, orig_mce = get_metrics(preds_original)\n",
    "calibrated_ece, calibrated_mce = get_metrics(preds_calibrated)\n",
    "\n",
    "print(\"original ece: \", orig_ece)\n",
    "print(\"original mce: \", orig_mce)\n",
    "\n",
    "print(\"calibrated ece: \", calibrated_ece)\n",
    "print(\"calibrated mce: \", calibrated_mce)"
   ]
  },
  {
   "cell_type": "code",
   "execution_count": 65,
   "metadata": {},
   "outputs": [],
   "source": [
    "args.__setattr__('logit_ball', 7.5)"
   ]
  },
  {
   "cell_type": "code",
   "execution_count": 66,
   "metadata": {},
   "outputs": [
    {
     "name": "stdout",
     "output_type": "stream",
     "text": [
      "train alpha:  0.6509111111111111\n"
     ]
    },
    {
     "data": {
      "text/plain": [
       "<torch.utils.data.dataloader.DataLoader at 0x7f45b9329c40>"
      ]
     },
     "execution_count": 66,
     "metadata": {},
     "output_type": "execute_result"
    }
   ],
   "source": [
    "# membership oracle\n",
    "phi = oracle.LogitBallComplement(args.logit_ball, args.temperature.item())\n",
    "\n",
    "# check if there exists a cifar 10 train truncated dataset already\n",
    "if True or not os.path.isfile(DATA_PATH + TRUNC_TRAIN_DATASET + str(args.logit_ball) + '.pickle') or not os.path.isfile(DATA_PATH + TRUNC_TRAIN_DATASET + str(args.logit_ball) + '.pickle'):\n",
    "    trunc_train_X, trunc_train_y = Tensor([]), Tensor([])\n",
    "    # unseen test data\n",
    "    trunc_test_X, trunc_test_y = Tensor([]), Tensor([])\n",
    "    for inp, targ in train_loader: \n",
    "        inp, targ = inp.to(args.device), targ.to(args.device)\n",
    "        logits, inp = base_classifier(inp)\n",
    "        filtered = phi(logits)\n",
    "        indices = filtered.nonzero(as_tuple=False).flatten()\n",
    "        test_indices = (~filtered).nonzero(as_tuple=False).flatten()\n",
    "        trunc_train_X, trunc_train_y = ch.cat([trunc_train_X, inp[indices].cpu()]), ch.cat([trunc_train_y, targ[indices].cpu()])\n",
    "        trunc_test_X, trunc_test_y = ch.cat([trunc_test_X, inp[test_indices].cpu()]), ch.cat([trunc_test_y, targ[test_indices].cpu()])\n",
    "\n",
    "    print(\"train alpha: \", trunc_train_X.size(0) / len(train_loader.dataset))\n",
    "    trunc_train_loader = DataLoader(TruncatedCIFAR(trunc_train_X, trunc_train_y.long(), transform= None), num_workers=args.workers, shuffle=args.shuffle, batch_size=args.batch_size)\n",
    "\n",
    "    # train loader\n",
    "    with open(DATA_PATH + TRUNC_TRAIN_DATASET + str(args.logit_ball) + '.pickle', 'wb') as f: \n",
    "        pickle.dump(trunc_train_loader, f)\n",
    "else:  \n",
    "    trunc_train_loader = pd.read_pickle(DATA_PATH + TRUNC_TRAIN_DATASET + str(args.logit_ball) + '.pickle')\n",
    "trunc_train_loader"
   ]
  },
  {
   "cell_type": "code",
   "execution_count": 67,
   "metadata": {},
   "outputs": [
    {
     "name": "stdout",
     "output_type": "stream",
     "text": [
      "val alpha:  0.5308\n"
     ]
    },
    {
     "data": {
      "text/plain": [
       "(<torch.utils.data.dataloader.DataLoader at 0x7f45b9584790>,\n",
       " <torch.utils.data.dataloader.DataLoader at 0x7f45b9284640>)"
      ]
     },
     "execution_count": 67,
     "metadata": {},
     "output_type": "execute_result"
    }
   ],
   "source": [
    "# check if there exists a cifar 10 valdation and test truncated dataset\n",
    "if True or not os.path.isfile(DATA_PATH + TRUNC_VAL_DATASET + str(args.logit_ball) + '.pickle') or not os.path.isfile(DATA_PATH + TRUNC_VAL_DATASET + str(args.logit_ball) + '.pickle'):\n",
    "    trunc_val_X, trunc_val_y = Tensor([]), Tensor([]) \n",
    "\n",
    "    for inp, targ in val_loader: \n",
    "        inp, targ = inp.to(args.device), targ.to(args.device)\n",
    "        logits, inp = base_classifier(inp)\n",
    "        filtered = phi(logits)\n",
    "        indices = filtered.nonzero(as_tuple=False).flatten()\n",
    "        test_indices = (~filtered).nonzero(as_tuple=False).flatten()\n",
    "        trunc_val_X, trunc_val_y = ch.cat([trunc_val_X, inp[indices].cpu()]), ch.cat([trunc_val_y, targ[indices].cpu()])\n",
    "        trunc_test_X, trunc_test_y = ch.cat([trunc_test_X, inp[test_indices].cpu()]), ch.cat([trunc_test_y, targ[test_indices].cpu()])\n",
    "\n",
    "    print(\"val alpha: \", trunc_val_X.size(0) / len(val_loader.dataset))\n",
    "    trunc_val_loader = DataLoader(TruncatedCIFAR(trunc_val_X, trunc_val_y.long(), transform=None), num_workers=args.workers, shuffle=args.shuffle, batch_size=args.batch_size)\n",
    "    # truncated test set (unseen data that the model has not been tested on)\n",
    "    trunc_test_loader = DataLoader(TruncatedCIFAR(trunc_test_X, trunc_test_y.long(), transform=None), \n",
    "                             num_workers=args.workers, shuffle=args.shuffle, batch_size=args.batch_size)\n",
    "\n",
    "    # validation loader\n",
    "    with open(DATA_PATH + TRUNC_VAL_DATASET + str(args.logit_ball) + '.pickle', 'wb') as f: \n",
    "        pickle.dump(trunc_val_loader, f)\n",
    "\n",
    "    # test loader\n",
    "    with open(DATA_PATH + TRUNC_TEST_DATASET + str(args.logit_ball) + '.pickle', 'wb') as f: \n",
    "        pickle.dump(trunc_test_loader, f)\n",
    "else: \n",
    "    trunc_val_loader = pd.read_pickle(DATA_PATH + TRUNC_VAL_DATASET + str(args.logit_ball) + '.pickle')\n",
    "    trunc_test_loader = pd.read_pickle(DATA_PATH + TRUNC_TEST_DATASET + str(args.logit_ball) + '.pickle')\n",
    "trunc_val_loader, trunc_test_loader"
   ]
  },
  {
   "cell_type": "code",
   "execution_count": 68,
   "metadata": {},
   "outputs": [
    {
     "name": "stdout",
     "output_type": "stream",
     "text": [
      "alpha train:  0.6509111111111111\n",
      "alpha val:  0.5308\n",
      "test set size:  18055\n"
     ]
    }
   ],
   "source": [
    "print(\"alpha train: \", len(trunc_train_loader.dataset) / len(train_loader.dataset))\n",
    "print(\"alpha val: \", len(trunc_val_loader.dataset) / len(val_loader.dataset))\n",
    "print(\"test set size: \", len(trunc_test_loader.dataset))"
   ]
  },
  {
   "cell_type": "code",
   "execution_count": 75,
   "metadata": {},
   "outputs": [
    {
     "name": "stdout",
     "output_type": "stream",
     "text": [
      "Logging in: /home/gridsan/stefanou/cifar-10/resnet-18/pretraining-technique/5baffcdc-b175-43f6-836c-0be5461e5017\n"
     ]
    }
   ],
   "source": [
    "out_store = store.Store(PRETRAIN)\n",
    "setup_store_with_metadata(args, out_store)"
   ]
  },
  {
   "cell_type": "code",
   "execution_count": 76,
   "metadata": {},
   "outputs": [
    {
     "data": {
      "application/vnd.jupyter.widget-view+json": {
       "model_id": "",
       "version_major": 2,
       "version_minor": 0
      },
      "text/plain": [
       "HBox(children=(FloatProgress(value=0.0, max=229.0), HTML(value='')))"
      ]
     },
     "metadata": {},
     "output_type": "display_data"
    },
    {
     "name": "stderr",
     "output_type": "stream",
     "text": [
      "Exception ignored in: Exception ignored in: "
     ]
    },
    {
     "data": {
      "application/vnd.jupyter.widget-view+json": {
       "model_id": "",
       "version_major": 2,
       "version_minor": 0
      },
      "text/plain": [
       "HBox(children=(FloatProgress(value=0.0, max=21.0), HTML(value='')))"
      ]
     },
     "metadata": {},
     "output_type": "display_data"
    },
    {
     "name": "stderr",
     "output_type": "stream",
     "text": [
      "<function _MultiProcessingDataLoaderIter.__del__ at 0x7f4628f30b80>\n",
      "<function _MultiProcessingDataLoaderIter.__del__ at 0x7f4628f30b80>Traceback (most recent call last):\n",
      "Exception ignored in: \n",
      "Traceback (most recent call last):\n",
      "<function _MultiProcessingDataLoaderIter.__del__ at 0x7f4628f30b80>  File \"/home/gridsan/stefanou/.local/lib/python3.8/site-packages/torch/utils/data/dataloader.py\", line 1203, in __del__\n",
      "  File \"/home/gridsan/stefanou/.local/lib/python3.8/site-packages/torch/utils/data/dataloader.py\", line 1203, in __del__\n",
      "\n",
      "Traceback (most recent call last):\n",
      "      File \"/home/gridsan/stefanou/.local/lib/python3.8/site-packages/torch/utils/data/dataloader.py\", line 1203, in __del__\n",
      "Exception ignored in: self._shutdown_workers()    \n",
      "self._shutdown_workers()      File \"/home/gridsan/stefanou/.local/lib/python3.8/site-packages/torch/utils/data/dataloader.py\", line 1177, in _shutdown_workers\n",
      "\n",
      "Exception ignored in: self._shutdown_workers()<function _MultiProcessingDataLoaderIter.__del__ at 0x7f4628f30b80>  File \"/home/gridsan/stefanou/.local/lib/python3.8/site-packages/torch/utils/data/dataloader.py\", line 1177, in _shutdown_workers\n",
      "\n",
      "\n",
      "      File \"/home/gridsan/stefanou/.local/lib/python3.8/site-packages/torch/utils/data/dataloader.py\", line 1177, in _shutdown_workers\n",
      "w.join(timeout=_utils.MP_STATUS_CHECK_INTERVAL)<function _MultiProcessingDataLoaderIter.__del__ at 0x7f4628f30b80>Traceback (most recent call last):\n",
      "    \n",
      "    w.join(timeout=_utils.MP_STATUS_CHECK_INTERVAL)\n",
      "  File \"/home/gridsan/stefanou/.local/lib/python3.8/site-packages/torch/utils/data/dataloader.py\", line 1203, in __del__\n",
      "  File \"/state/partition1/llgrid/pkg/anaconda/anaconda3-2021a/lib/python3.8/multiprocessing/process.py\", line 147, in join\n",
      "w.join(timeout=_utils.MP_STATUS_CHECK_INTERVAL)Traceback (most recent call last):\n",
      "\n",
      "    \n",
      "  File \"/home/gridsan/stefanou/.local/lib/python3.8/site-packages/torch/utils/data/dataloader.py\", line 1203, in __del__\n",
      "  File \"/state/partition1/llgrid/pkg/anaconda/anaconda3-2021a/lib/python3.8/multiprocessing/process.py\", line 147, in join\n",
      "assert self._parent_pid == os.getpid(), 'can only join a child process'  File \"/state/partition1/llgrid/pkg/anaconda/anaconda3-2021a/lib/python3.8/multiprocessing/process.py\", line 147, in join\n",
      "        \n",
      "    assert self._parent_pid == os.getpid(), 'can only join a child process'    self._shutdown_workers()AssertionErrorassert self._parent_pid == os.getpid(), 'can only join a child process'\n",
      "\n",
      "self._shutdown_workers(): \n",
      "AssertionError  File \"/home/gridsan/stefanou/.local/lib/python3.8/site-packages/torch/utils/data/dataloader.py\", line 1177, in _shutdown_workers\n",
      "AssertionError\n",
      "can only join a child process: : \n",
      "  File \"/home/gridsan/stefanou/.local/lib/python3.8/site-packages/torch/utils/data/dataloader.py\", line 1177, in _shutdown_workers\n",
      "can only join a child processcan only join a child process\n",
      "Exception ignored in:     \n",
      "Exception ignored in:     w.join(timeout=_utils.MP_STATUS_CHECK_INTERVAL)\n",
      "w.join(timeout=_utils.MP_STATUS_CHECK_INTERVAL)  File \"/state/partition1/llgrid/pkg/anaconda/anaconda3-2021a/lib/python3.8/multiprocessing/process.py\", line 147, in join\n",
      "\n",
      "    <function _MultiProcessingDataLoaderIter.__del__ at 0x7f4628f30b80>assert self._parent_pid == os.getpid(), 'can only join a child process'  File \"/state/partition1/llgrid/pkg/anaconda/anaconda3-2021a/lib/python3.8/multiprocessing/process.py\", line 147, in join\n",
      "\n",
      "\n",
      "Traceback (most recent call last):\n",
      "AssertionError      File \"/home/gridsan/stefanou/.local/lib/python3.8/site-packages/torch/utils/data/dataloader.py\", line 1203, in __del__\n",
      ": assert self._parent_pid == os.getpid(), 'can only join a child process'<function _MultiProcessingDataLoaderIter.__del__ at 0x7f4628f30b80>can only join a child process\n",
      "\n",
      "\n",
      "    AssertionErrorTraceback (most recent call last):\n",
      "self._shutdown_workers()  File \"/home/gridsan/stefanou/.local/lib/python3.8/site-packages/torch/utils/data/dataloader.py\", line 1203, in __del__\n",
      "\n",
      ":   File \"/home/gridsan/stefanou/.local/lib/python3.8/site-packages/torch/utils/data/dataloader.py\", line 1177, in _shutdown_workers\n",
      "can only join a child process    \n",
      "    self._shutdown_workers()w.join(timeout=_utils.MP_STATUS_CHECK_INTERVAL)Exception ignored in: \n",
      "\n",
      "  File \"/home/gridsan/stefanou/.local/lib/python3.8/site-packages/torch/utils/data/dataloader.py\", line 1177, in _shutdown_workers\n",
      "  File \"/state/partition1/llgrid/pkg/anaconda/anaconda3-2021a/lib/python3.8/multiprocessing/process.py\", line 147, in join\n",
      "    <function _MultiProcessingDataLoaderIter.__del__ at 0x7f4628f30b80>assert self._parent_pid == os.getpid(), 'can only join a child process'    \n",
      "w.join(timeout=_utils.MP_STATUS_CHECK_INTERVAL)AssertionError\n",
      "\n",
      ":   File \"/state/partition1/llgrid/pkg/anaconda/anaconda3-2021a/lib/python3.8/multiprocessing/process.py\", line 147, in join\n",
      "Traceback (most recent call last):\n",
      "can only join a child process      File \"/home/gridsan/stefanou/.local/lib/python3.8/site-packages/torch/utils/data/dataloader.py\", line 1203, in __del__\n",
      "\n",
      "assert self._parent_pid == os.getpid(), 'can only join a child process'\n",
      "AssertionError:     self._shutdown_workers()can only join a child process\n",
      "\n",
      "  File \"/home/gridsan/stefanou/.local/lib/python3.8/site-packages/torch/utils/data/dataloader.py\", line 1177, in _shutdown_workers\n",
      "    w.join(timeout=_utils.MP_STATUS_CHECK_INTERVAL)\n",
      "  File \"/state/partition1/llgrid/pkg/anaconda/anaconda3-2021a/lib/python3.8/multiprocessing/process.py\", line 147, in join\n",
      "    assert self._parent_pid == os.getpid(), 'can only join a child process'\n",
      "AssertionError: can only join a child process\n",
      "/home/gridsan/stefanou/.local/lib/python3.8/site-packages/torch/optim/lr_scheduler.py:216: UserWarning: Please also save or load the state of the optimizer when saving or loading the scheduler.\n",
      "  warnings.warn(SAVE_STATE_WARNING, UserWarning)\n"
     ]
    },
    {
     "data": {
      "application/vnd.jupyter.widget-view+json": {
       "model_id": "",
       "version_major": 2,
       "version_minor": 0
      },
      "text/plain": [
       "HBox(children=(FloatProgress(value=0.0, max=229.0), HTML(value='')))"
      ]
     },
     "metadata": {},
     "output_type": "display_data"
    },
    {
     "data": {
      "application/vnd.jupyter.widget-view+json": {
       "model_id": "",
       "version_major": 2,
       "version_minor": 0
      },
      "text/plain": [
       "HBox(children=(FloatProgress(value=0.0, max=21.0), HTML(value='')))"
      ]
     },
     "metadata": {},
     "output_type": "display_data"
    }
   ],
   "source": [
    "ch.manual_seed(0)\n",
    "args.__setattr__('epochs', 2)\n",
    "config.args = args\n",
    "pretrained_model, _ = model_utils.make_and_restore_model(arch='resnet18', dataset=ds)\n",
    "pretrained_model = train.train_model(args, pretrained_model, (trunc_train_loader, trunc_val_loader), store=out_store)\n",
    "out_store.close()"
   ]
  },
  {
   "cell_type": "markdown",
   "metadata": {},
   "source": [
    "# Train Model Using Truncated CE Loss"
   ]
  },
  {
   "cell_type": "code",
   "execution_count": 78,
   "metadata": {},
   "outputs": [
    {
     "name": "stdout",
     "output_type": "stream",
     "text": [
      "Logging in: /home/gridsan/stefanou/cifar-10/resnet-18/trunc_ce_step_lr_50epochs/bdaccb59-196f-4d5e-9ab0-5334d38e795f\n",
      "=> loading checkpoint '/home/gridsan/stefanou/cifar-10/resnet-18/pretraining-technique/5baffcdc-b175-43f6-836c-0be5461e5017/checkpoint.pt.latest'\n",
      "=> loaded checkpoint '/home/gridsan/stefanou/cifar-10/resnet-18/pretraining-technique/5baffcdc-b175-43f6-836c-0be5461e5017/checkpoint.pt.latest' (epoch 2)\n"
     ]
    }
   ],
   "source": [
    "##### logging store\n",
    "out_store = store.Store(LOGIT_BALL_CLASSIFIER)\n",
    "setup_store_with_metadata(args, out_store)\n",
    "delphi_, _ = model_utils.make_and_restore_model(arch='resnet18', dataset=ds, resume_path=PRETRAIN + '/5baffcdc-b175-43f6-836c-0be5461e5017/checkpoint.pt.latest')"
   ]
  },
  {
   "cell_type": "markdown",
   "metadata": {},
   "source": [
    "# TruncatedCE with Logit Ball Complement Oracle"
   ]
  },
  {
   "cell_type": "code",
   "execution_count": 79,
   "metadata": {
    "scrolled": true
   },
   "outputs": [
    {
     "data": {
      "application/vnd.jupyter.widget-view+json": {
       "model_id": "",
       "version_major": 2,
       "version_minor": 0
      },
      "text/plain": [
       "HBox(children=(FloatProgress(value=0.0, max=229.0), HTML(value='')))"
      ]
     },
     "metadata": {},
     "output_type": "display_data"
    },
    {
     "data": {
      "application/vnd.jupyter.widget-view+json": {
       "model_id": "",
       "version_major": 2,
       "version_minor": 0
      },
      "text/plain": [
       "HBox(children=(FloatProgress(value=0.0, max=21.0), HTML(value='')))"
      ]
     },
     "metadata": {},
     "output_type": "display_data"
    },
    {
     "name": "stderr",
     "output_type": "stream",
     "text": [
      "/home/gridsan/stefanou/.local/lib/python3.8/site-packages/torch/optim/lr_scheduler.py:216: UserWarning: Please also save or load the state of the optimizer when saving or loading the scheduler.\n",
      "  warnings.warn(SAVE_STATE_WARNING, UserWarning)\n"
     ]
    },
    {
     "data": {
      "application/vnd.jupyter.widget-view+json": {
       "model_id": "",
       "version_major": 2,
       "version_minor": 0
      },
      "text/plain": [
       "HBox(children=(FloatProgress(value=0.0, max=229.0), HTML(value='')))"
      ]
     },
     "metadata": {},
     "output_type": "display_data"
    },
    {
     "data": {
      "application/vnd.jupyter.widget-view+json": {
       "model_id": "",
       "version_major": 2,
       "version_minor": 0
      },
      "text/plain": [
       "HBox(children=(FloatProgress(value=0.0, max=21.0), HTML(value='')))"
      ]
     },
     "metadata": {},
     "output_type": "display_data"
    },
    {
     "data": {
      "application/vnd.jupyter.widget-view+json": {
       "model_id": "",
       "version_major": 2,
       "version_minor": 0
      },
      "text/plain": [
       "HBox(children=(FloatProgress(value=0.0, max=229.0), HTML(value='')))"
      ]
     },
     "metadata": {},
     "output_type": "display_data"
    },
    {
     "data": {
      "application/vnd.jupyter.widget-view+json": {
       "model_id": "",
       "version_major": 2,
       "version_minor": 0
      },
      "text/plain": [
       "HBox(children=(FloatProgress(value=0.0, max=21.0), HTML(value='')))"
      ]
     },
     "metadata": {},
     "output_type": "display_data"
    },
    {
     "data": {
      "application/vnd.jupyter.widget-view+json": {
       "model_id": "",
       "version_major": 2,
       "version_minor": 0
      },
      "text/plain": [
       "HBox(children=(FloatProgress(value=0.0, max=229.0), HTML(value='')))"
      ]
     },
     "metadata": {},
     "output_type": "display_data"
    },
    {
     "data": {
      "application/vnd.jupyter.widget-view+json": {
       "model_id": "",
       "version_major": 2,
       "version_minor": 0
      },
      "text/plain": [
       "HBox(children=(FloatProgress(value=0.0, max=21.0), HTML(value='')))"
      ]
     },
     "metadata": {},
     "output_type": "display_data"
    },
    {
     "data": {
      "application/vnd.jupyter.widget-view+json": {
       "model_id": "",
       "version_major": 2,
       "version_minor": 0
      },
      "text/plain": [
       "HBox(children=(FloatProgress(value=0.0, max=229.0), HTML(value='')))"
      ]
     },
     "metadata": {},
     "output_type": "display_data"
    },
    {
     "data": {
      "application/vnd.jupyter.widget-view+json": {
       "model_id": "",
       "version_major": 2,
       "version_minor": 0
      },
      "text/plain": [
       "HBox(children=(FloatProgress(value=0.0, max=21.0), HTML(value='')))"
      ]
     },
     "metadata": {},
     "output_type": "display_data"
    },
    {
     "data": {
      "application/vnd.jupyter.widget-view+json": {
       "model_id": "4fdef18eaa4149b68ee7ea7cc41edbee",
       "version_major": 2,
       "version_minor": 0
      },
      "text/plain": [
       "HBox(children=(FloatProgress(value=0.0, max=229.0), HTML(value='')))"
      ]
     },
     "metadata": {},
     "output_type": "display_data"
    },
    {
     "ename": "KeyboardInterrupt",
     "evalue": "",
     "output_type": "error",
     "traceback": [
      "\u001b[0;31m---------------------------------------------------------------------------\u001b[0m",
      "\u001b[0;31mKeyboardInterrupt\u001b[0m                         Traceback (most recent call last)",
      "\u001b[0;32m<ipython-input-79-af73d019a469>\u001b[0m in \u001b[0;36m<module>\u001b[0;34m\u001b[0m\n\u001b[1;32m      3\u001b[0m \u001b[0margs\u001b[0m\u001b[0;34m.\u001b[0m\u001b[0m__setattr__\u001b[0m\u001b[0;34m(\u001b[0m\u001b[0;34m'epochs'\u001b[0m\u001b[0;34m,\u001b[0m \u001b[0;36m15\u001b[0m\u001b[0;34m)\u001b[0m\u001b[0;34m\u001b[0m\u001b[0;34m\u001b[0m\u001b[0m\n\u001b[1;32m      4\u001b[0m \u001b[0mconfig\u001b[0m\u001b[0;34m.\u001b[0m\u001b[0margs\u001b[0m \u001b[0;34m=\u001b[0m \u001b[0margs\u001b[0m\u001b[0;34m\u001b[0m\u001b[0;34m\u001b[0m\u001b[0m\n\u001b[0;32m----> 5\u001b[0;31m \u001b[0mdelphi_\u001b[0m \u001b[0;34m=\u001b[0m \u001b[0mtrain\u001b[0m\u001b[0;34m.\u001b[0m\u001b[0mtrain_model\u001b[0m\u001b[0;34m(\u001b[0m\u001b[0margs\u001b[0m\u001b[0;34m,\u001b[0m \u001b[0mdelphi_\u001b[0m\u001b[0;34m,\u001b[0m \u001b[0;34m(\u001b[0m\u001b[0mtrunc_train_loader\u001b[0m\u001b[0;34m,\u001b[0m \u001b[0mtrunc_val_loader\u001b[0m\u001b[0;34m)\u001b[0m\u001b[0;34m,\u001b[0m \u001b[0mstore\u001b[0m\u001b[0;34m=\u001b[0m\u001b[0mout_store\u001b[0m\u001b[0;34m,\u001b[0m \u001b[0mphi\u001b[0m\u001b[0;34m=\u001b[0m\u001b[0mphi\u001b[0m\u001b[0;34m,\u001b[0m \u001b[0mcriterion\u001b[0m\u001b[0;34m=\u001b[0m\u001b[0mgrad\u001b[0m\u001b[0;34m.\u001b[0m\u001b[0mTruncatedCE\u001b[0m\u001b[0;34m.\u001b[0m\u001b[0mapply\u001b[0m\u001b[0;34m)\u001b[0m\u001b[0;34m\u001b[0m\u001b[0;34m\u001b[0m\u001b[0m\n\u001b[0m\u001b[1;32m      6\u001b[0m \u001b[0mout_store\u001b[0m\u001b[0;34m.\u001b[0m\u001b[0mclose\u001b[0m\u001b[0;34m(\u001b[0m\u001b[0;34m)\u001b[0m\u001b[0;34m\u001b[0m\u001b[0;34m\u001b[0m\u001b[0m\n",
      "\u001b[0;32m~/delphi/delphi/train.py\u001b[0m in \u001b[0;36mtrain_model\u001b[0;34m(args, model, loaders, phi, criterion, checkpoint, parallel, cuda, dp_device_ids, store, table, update_params, disable_no_grad)\u001b[0m\n\u001b[1;32m    133\u001b[0m     \u001b[0;32mwhile\u001b[0m \u001b[0;34m(\u001b[0m\u001b[0margs\u001b[0m\u001b[0;34m.\u001b[0m\u001b[0msteps\u001b[0m \u001b[0;32mis\u001b[0m \u001b[0;32mnot\u001b[0m \u001b[0;32mNone\u001b[0m \u001b[0;32mand\u001b[0m \u001b[0msteps\u001b[0m \u001b[0;34m<\u001b[0m \u001b[0margs\u001b[0m\u001b[0;34m.\u001b[0m\u001b[0msteps\u001b[0m\u001b[0;34m)\u001b[0m \u001b[0;32mor\u001b[0m \u001b[0;34m(\u001b[0m\u001b[0margs\u001b[0m\u001b[0;34m.\u001b[0m\u001b[0mepochs\u001b[0m \u001b[0;32mis\u001b[0m \u001b[0;32mnot\u001b[0m \u001b[0;32mNone\u001b[0m \u001b[0;32mand\u001b[0m \u001b[0mepoch\u001b[0m \u001b[0;34m<\u001b[0m \u001b[0margs\u001b[0m\u001b[0;34m.\u001b[0m\u001b[0mepochs\u001b[0m\u001b[0;34m)\u001b[0m\u001b[0;34m:\u001b[0m\u001b[0;34m\u001b[0m\u001b[0;34m\u001b[0m\u001b[0m\n\u001b[1;32m    134\u001b[0m         \u001b[0;32mtry\u001b[0m\u001b[0;34m:\u001b[0m\u001b[0;34m\u001b[0m\u001b[0;34m\u001b[0m\u001b[0m\n\u001b[0;32m--> 135\u001b[0;31m             \u001b[0mtrain_prec1\u001b[0m\u001b[0;34m,\u001b[0m \u001b[0mtrain_loss\u001b[0m \u001b[0;34m=\u001b[0m \u001b[0mmodel_loop\u001b[0m\u001b[0;34m(\u001b[0m\u001b[0margs\u001b[0m\u001b[0;34m,\u001b[0m \u001b[0;34m'train'\u001b[0m\u001b[0;34m,\u001b[0m \u001b[0mtrain_loader\u001b[0m\u001b[0;34m,\u001b[0m \u001b[0mmodel\u001b[0m\u001b[0;34m,\u001b[0m \u001b[0mphi\u001b[0m\u001b[0;34m,\u001b[0m \u001b[0mcriterion\u001b[0m\u001b[0;34m,\u001b[0m \u001b[0moptimizer\u001b[0m\u001b[0;34m,\u001b[0m \u001b[0mepoch\u001b[0m\u001b[0;34m+\u001b[0m\u001b[0;36m1\u001b[0m\u001b[0;34m,\u001b[0m \u001b[0msteps\u001b[0m\u001b[0;34m,\u001b[0m \u001b[0mwriter\u001b[0m\u001b[0;34m,\u001b[0m \u001b[0mdevice\u001b[0m\u001b[0;34m=\u001b[0m\u001b[0margs\u001b[0m\u001b[0;34m.\u001b[0m\u001b[0mdevice\u001b[0m\u001b[0;34m,\u001b[0m \u001b[0mschedule\u001b[0m\u001b[0;34m=\u001b[0m\u001b[0mschedule\u001b[0m\u001b[0;34m)\u001b[0m\u001b[0;34m\u001b[0m\u001b[0;34m\u001b[0m\u001b[0m\n\u001b[0m\u001b[1;32m    136\u001b[0m         \u001b[0;32mexcept\u001b[0m \u001b[0mProcedureComplete\u001b[0m\u001b[0;34m:\u001b[0m\u001b[0;34m\u001b[0m\u001b[0;34m\u001b[0m\u001b[0m\n\u001b[1;32m    137\u001b[0m             \u001b[0;32mreturn\u001b[0m \u001b[0mmodel\u001b[0m\u001b[0;34m\u001b[0m\u001b[0;34m\u001b[0m\u001b[0m\n",
      "\u001b[0;32m~/delphi/delphi/train.py\u001b[0m in \u001b[0;36mmodel_loop\u001b[0;34m(args, loop_type, loader, model, phi, criterion, optimizer, epoch, steps, writer, device, schedule)\u001b[0m\n\u001b[1;32m    260\u001b[0m         \u001b[0;31m# perform backprop and take optimizer step\u001b[0m\u001b[0;34m\u001b[0m\u001b[0;34m\u001b[0m\u001b[0;34m\u001b[0m\u001b[0m\n\u001b[1;32m    261\u001b[0m         \u001b[0;32mif\u001b[0m \u001b[0mis_train\u001b[0m\u001b[0;34m:\u001b[0m\u001b[0;34m\u001b[0m\u001b[0;34m\u001b[0m\u001b[0m\n\u001b[0;32m--> 262\u001b[0;31m             \u001b[0moptimizer\u001b[0m\u001b[0;34m.\u001b[0m\u001b[0mzero_grad\u001b[0m\u001b[0;34m(\u001b[0m\u001b[0;34m)\u001b[0m\u001b[0;34m\u001b[0m\u001b[0;34m\u001b[0m\u001b[0m\n\u001b[0m\u001b[1;32m    263\u001b[0m             \u001b[0mloss\u001b[0m\u001b[0;34m.\u001b[0m\u001b[0mbackward\u001b[0m\u001b[0;34m(\u001b[0m\u001b[0;34m)\u001b[0m\u001b[0;34m\u001b[0m\u001b[0;34m\u001b[0m\u001b[0m\n\u001b[1;32m    264\u001b[0m             \u001b[0;31m# print(\"weight before: \", model.weight)\u001b[0m\u001b[0;34m\u001b[0m\u001b[0;34m\u001b[0m\u001b[0;34m\u001b[0m\u001b[0m\n",
      "\u001b[0;32m~/.local/lib/python3.8/site-packages/torch/optim/optimizer.py\u001b[0m in \u001b[0;36mzero_grad\u001b[0;34m(self, set_to_none)\u001b[0m\n\u001b[1;32m    190\u001b[0m                         \u001b[0;32melse\u001b[0m\u001b[0;34m:\u001b[0m\u001b[0;34m\u001b[0m\u001b[0;34m\u001b[0m\u001b[0m\n\u001b[1;32m    191\u001b[0m                             \u001b[0mp\u001b[0m\u001b[0;34m.\u001b[0m\u001b[0mgrad\u001b[0m\u001b[0;34m.\u001b[0m\u001b[0mrequires_grad_\u001b[0m\u001b[0;34m(\u001b[0m\u001b[0;32mFalse\u001b[0m\u001b[0;34m)\u001b[0m\u001b[0;34m\u001b[0m\u001b[0;34m\u001b[0m\u001b[0m\n\u001b[0;32m--> 192\u001b[0;31m                         \u001b[0mp\u001b[0m\u001b[0;34m.\u001b[0m\u001b[0mgrad\u001b[0m\u001b[0;34m.\u001b[0m\u001b[0mzero_\u001b[0m\u001b[0;34m(\u001b[0m\u001b[0;34m)\u001b[0m\u001b[0;34m\u001b[0m\u001b[0;34m\u001b[0m\u001b[0m\n\u001b[0m\u001b[1;32m    193\u001b[0m \u001b[0;34m\u001b[0m\u001b[0m\n\u001b[1;32m    194\u001b[0m     \u001b[0;32mdef\u001b[0m \u001b[0mstep\u001b[0m\u001b[0;34m(\u001b[0m\u001b[0mself\u001b[0m\u001b[0;34m,\u001b[0m \u001b[0mclosure\u001b[0m\u001b[0;34m)\u001b[0m\u001b[0;34m:\u001b[0m\u001b[0;34m\u001b[0m\u001b[0;34m\u001b[0m\u001b[0m\n",
      "\u001b[0;31mKeyboardInterrupt\u001b[0m: "
     ]
    },
    {
     "name": "stderr",
     "output_type": "stream",
     "text": [
      "Process Process-787:\n",
      "Process Process-793:\n",
      "Process Process-792:\n",
      "Process Process-794:\n",
      "Process Process-788:\n",
      "Process Process-790:\n",
      "Process Process-789:\n",
      "Process Process-791:\n",
      "Traceback (most recent call last):\n",
      "Traceback (most recent call last):\n",
      "Traceback (most recent call last):\n",
      "  File \"/state/partition1/llgrid/pkg/anaconda/anaconda3-2021a/lib/python3.8/multiprocessing/process.py\", line 318, in _bootstrap\n",
      "    util._exit_function()\n",
      "Traceback (most recent call last):\n",
      "Traceback (most recent call last):\n",
      "Traceback (most recent call last):\n",
      "Traceback (most recent call last):\n",
      "Traceback (most recent call last):\n",
      "  File \"/state/partition1/llgrid/pkg/anaconda/anaconda3-2021a/lib/python3.8/multiprocessing/process.py\", line 318, in _bootstrap\n",
      "    util._exit_function()\n",
      "  File \"/state/partition1/llgrid/pkg/anaconda/anaconda3-2021a/lib/python3.8/multiprocessing/process.py\", line 318, in _bootstrap\n",
      "    util._exit_function()\n",
      "  File \"/state/partition1/llgrid/pkg/anaconda/anaconda3-2021a/lib/python3.8/multiprocessing/util.py\", line 334, in _exit_function\n",
      "    _run_finalizers(0)\n",
      "  File \"/state/partition1/llgrid/pkg/anaconda/anaconda3-2021a/lib/python3.8/multiprocessing/process.py\", line 318, in _bootstrap\n",
      "    util._exit_function()\n",
      "  File \"/state/partition1/llgrid/pkg/anaconda/anaconda3-2021a/lib/python3.8/multiprocessing/process.py\", line 318, in _bootstrap\n",
      "    util._exit_function()\n",
      "  File \"/state/partition1/llgrid/pkg/anaconda/anaconda3-2021a/lib/python3.8/multiprocessing/process.py\", line 318, in _bootstrap\n",
      "    util._exit_function()\n",
      "  File \"/state/partition1/llgrid/pkg/anaconda/anaconda3-2021a/lib/python3.8/multiprocessing/process.py\", line 318, in _bootstrap\n",
      "    util._exit_function()\n",
      "  File \"/state/partition1/llgrid/pkg/anaconda/anaconda3-2021a/lib/python3.8/multiprocessing/process.py\", line 318, in _bootstrap\n",
      "    util._exit_function()\n",
      "  File \"/state/partition1/llgrid/pkg/anaconda/anaconda3-2021a/lib/python3.8/multiprocessing/util.py\", line 334, in _exit_function\n",
      "    _run_finalizers(0)\n",
      "  File \"/state/partition1/llgrid/pkg/anaconda/anaconda3-2021a/lib/python3.8/multiprocessing/util.py\", line 334, in _exit_function\n",
      "    _run_finalizers(0)\n",
      "  File \"/state/partition1/llgrid/pkg/anaconda/anaconda3-2021a/lib/python3.8/multiprocessing/util.py\", line 300, in _run_finalizers\n",
      "    finalizer()\n",
      "  File \"/state/partition1/llgrid/pkg/anaconda/anaconda3-2021a/lib/python3.8/multiprocessing/util.py\", line 334, in _exit_function\n",
      "    _run_finalizers(0)\n",
      "  File \"/state/partition1/llgrid/pkg/anaconda/anaconda3-2021a/lib/python3.8/multiprocessing/util.py\", line 334, in _exit_function\n",
      "    _run_finalizers(0)\n",
      "  File \"/state/partition1/llgrid/pkg/anaconda/anaconda3-2021a/lib/python3.8/multiprocessing/util.py\", line 334, in _exit_function\n",
      "    _run_finalizers(0)\n",
      "  File \"/state/partition1/llgrid/pkg/anaconda/anaconda3-2021a/lib/python3.8/multiprocessing/util.py\", line 334, in _exit_function\n",
      "    _run_finalizers(0)\n",
      "  File \"/state/partition1/llgrid/pkg/anaconda/anaconda3-2021a/lib/python3.8/multiprocessing/util.py\", line 334, in _exit_function\n",
      "    _run_finalizers(0)\n",
      "  File \"/state/partition1/llgrid/pkg/anaconda/anaconda3-2021a/lib/python3.8/multiprocessing/util.py\", line 300, in _run_finalizers\n",
      "    finalizer()\n",
      "  File \"/state/partition1/llgrid/pkg/anaconda/anaconda3-2021a/lib/python3.8/multiprocessing/util.py\", line 300, in _run_finalizers\n",
      "    finalizer()\n",
      "  File \"/state/partition1/llgrid/pkg/anaconda/anaconda3-2021a/lib/python3.8/multiprocessing/util.py\", line 300, in _run_finalizers\n",
      "    finalizer()\n",
      "  File \"/state/partition1/llgrid/pkg/anaconda/anaconda3-2021a/lib/python3.8/multiprocessing/util.py\", line 300, in _run_finalizers\n",
      "    finalizer()\n",
      "  File \"/state/partition1/llgrid/pkg/anaconda/anaconda3-2021a/lib/python3.8/multiprocessing/util.py\", line 300, in _run_finalizers\n",
      "    finalizer()\n",
      "  File \"/state/partition1/llgrid/pkg/anaconda/anaconda3-2021a/lib/python3.8/multiprocessing/util.py\", line 224, in __call__\n",
      "    res = self._callback(*self._args, **self._kwargs)\n",
      "  File \"/state/partition1/llgrid/pkg/anaconda/anaconda3-2021a/lib/python3.8/multiprocessing/util.py\", line 224, in __call__\n",
      "    res = self._callback(*self._args, **self._kwargs)\n",
      "  File \"/state/partition1/llgrid/pkg/anaconda/anaconda3-2021a/lib/python3.8/multiprocessing/util.py\", line 300, in _run_finalizers\n",
      "    finalizer()\n",
      "  File \"/state/partition1/llgrid/pkg/anaconda/anaconda3-2021a/lib/python3.8/multiprocessing/util.py\", line 224, in __call__\n",
      "    res = self._callback(*self._args, **self._kwargs)\n",
      "  File \"/state/partition1/llgrid/pkg/anaconda/anaconda3-2021a/lib/python3.8/multiprocessing/util.py\", line 224, in __call__\n",
      "    res = self._callback(*self._args, **self._kwargs)\n",
      "  File \"/state/partition1/llgrid/pkg/anaconda/anaconda3-2021a/lib/python3.8/multiprocessing/util.py\", line 224, in __call__\n",
      "    res = self._callback(*self._args, **self._kwargs)\n",
      "  File \"/state/partition1/llgrid/pkg/anaconda/anaconda3-2021a/lib/python3.8/multiprocessing/util.py\", line 300, in _run_finalizers\n",
      "    finalizer()\n",
      "KeyboardInterrupt\n",
      "  File \"/state/partition1/llgrid/pkg/anaconda/anaconda3-2021a/lib/python3.8/multiprocessing/util.py\", line 224, in __call__\n",
      "    res = self._callback(*self._args, **self._kwargs)\n",
      "KeyboardInterrupt\n",
      "KeyboardInterrupt\n",
      "  File \"/state/partition1/llgrid/pkg/anaconda/anaconda3-2021a/lib/python3.8/multiprocessing/util.py\", line 224, in __call__\n",
      "    res = self._callback(*self._args, **self._kwargs)\n",
      "KeyboardInterrupt\n",
      "KeyboardInterrupt\n",
      "KeyboardInterrupt\n",
      "  File \"/state/partition1/llgrid/pkg/anaconda/anaconda3-2021a/lib/python3.8/multiprocessing/util.py\", line 224, in __call__\n",
      "    res = self._callback(*self._args, **self._kwargs)\n",
      "KeyboardInterrupt\n",
      "KeyboardInterrupt\n"
     ]
    }
   ],
   "source": [
    "# train\n",
    "ch.manual_seed(0)\n",
    "args.__setattr__('epochs', 15)\n",
    "config.args = args\n",
    "delphi_ = train.train_model(args, delphi_, (trunc_train_loader, trunc_val_loader), store=out_store, phi=phi, criterion=grad.TruncatedCE.apply)\n",
    "out_store.close()"
   ]
  },
  {
   "cell_type": "code",
   "execution_count": 50,
   "metadata": {
    "scrolled": true
   },
   "outputs": [
    {
     "name": "stderr",
     "output_type": "stream",
     "text": [
      "100%|██████████| 1/1 [00:00<00:00, 75.79it/s]\n"
     ]
    },
    {
     "data": {
      "text/html": [
       "<div>\n",
       "<style scoped>\n",
       "    .dataframe tbody tr th:only-of-type {\n",
       "        vertical-align: middle;\n",
       "    }\n",
       "\n",
       "    .dataframe tbody tr th {\n",
       "        vertical-align: top;\n",
       "    }\n",
       "\n",
       "    .dataframe thead th {\n",
       "        text-align: right;\n",
       "    }\n",
       "</style>\n",
       "<table border=\"1\" class=\"dataframe\">\n",
       "  <thead>\n",
       "    <tr style=\"text-align: right;\">\n",
       "      <th></th>\n",
       "      <th>epoch</th>\n",
       "      <th>val_prec1</th>\n",
       "      <th>val_loss</th>\n",
       "      <th>train_prec1</th>\n",
       "      <th>train_loss</th>\n",
       "      <th>time</th>\n",
       "      <th>exp_id</th>\n",
       "    </tr>\n",
       "  </thead>\n",
       "  <tbody>\n",
       "    <tr>\n",
       "      <th>0</th>\n",
       "      <td>1</td>\n",
       "      <td>9.895834</td>\n",
       "      <td>2.475161</td>\n",
       "      <td>9.482475</td>\n",
       "      <td>2.464410</td>\n",
       "      <td>12.558135</td>\n",
       "      <td>95ac1b59-096a-4e53-90ee-a1ff2513344a</td>\n",
       "    </tr>\n",
       "    <tr>\n",
       "      <th>1</th>\n",
       "      <td>2</td>\n",
       "      <td>14.388021</td>\n",
       "      <td>9.685008</td>\n",
       "      <td>13.948338</td>\n",
       "      <td>3.329167</td>\n",
       "      <td>24.327309</td>\n",
       "      <td>95ac1b59-096a-4e53-90ee-a1ff2513344a</td>\n",
       "    </tr>\n",
       "    <tr>\n",
       "      <th>2</th>\n",
       "      <td>3</td>\n",
       "      <td>14.062500</td>\n",
       "      <td>6.009459</td>\n",
       "      <td>10.485199</td>\n",
       "      <td>6.115367</td>\n",
       "      <td>36.118047</td>\n",
       "      <td>95ac1b59-096a-4e53-90ee-a1ff2513344a</td>\n",
       "    </tr>\n",
       "    <tr>\n",
       "      <th>3</th>\n",
       "      <td>4</td>\n",
       "      <td>7.747396</td>\n",
       "      <td>2.841898</td>\n",
       "      <td>9.859619</td>\n",
       "      <td>2.860082</td>\n",
       "      <td>47.860854</td>\n",
       "      <td>95ac1b59-096a-4e53-90ee-a1ff2513344a</td>\n",
       "    </tr>\n",
       "    <tr>\n",
       "      <th>4</th>\n",
       "      <td>5</td>\n",
       "      <td>7.975261</td>\n",
       "      <td>2.358046</td>\n",
       "      <td>8.988596</td>\n",
       "      <td>2.360403</td>\n",
       "      <td>59.560227</td>\n",
       "      <td>95ac1b59-096a-4e53-90ee-a1ff2513344a</td>\n",
       "    </tr>\n",
       "    <tr>\n",
       "      <th>5</th>\n",
       "      <td>6</td>\n",
       "      <td>8.593750</td>\n",
       "      <td>2.332773</td>\n",
       "      <td>9.386692</td>\n",
       "      <td>2.320884</td>\n",
       "      <td>71.275731</td>\n",
       "      <td>95ac1b59-096a-4e53-90ee-a1ff2513344a</td>\n",
       "    </tr>\n",
       "    <tr>\n",
       "      <th>6</th>\n",
       "      <td>7</td>\n",
       "      <td>9.635417</td>\n",
       "      <td>2.334896</td>\n",
       "      <td>10.805471</td>\n",
       "      <td>2.318219</td>\n",
       "      <td>83.007105</td>\n",
       "      <td>95ac1b59-096a-4e53-90ee-a1ff2513344a</td>\n",
       "    </tr>\n",
       "    <tr>\n",
       "      <th>7</th>\n",
       "      <td>8</td>\n",
       "      <td>8.398438</td>\n",
       "      <td>2.316419</td>\n",
       "      <td>10.473226</td>\n",
       "      <td>2.311621</td>\n",
       "      <td>94.672034</td>\n",
       "      <td>95ac1b59-096a-4e53-90ee-a1ff2513344a</td>\n",
       "    </tr>\n",
       "    <tr>\n",
       "      <th>8</th>\n",
       "      <td>9</td>\n",
       "      <td>9.667969</td>\n",
       "      <td>2.299937</td>\n",
       "      <td>10.230776</td>\n",
       "      <td>2.330046</td>\n",
       "      <td>106.354739</td>\n",
       "      <td>95ac1b59-096a-4e53-90ee-a1ff2513344a</td>\n",
       "    </tr>\n",
       "    <tr>\n",
       "      <th>9</th>\n",
       "      <td>10</td>\n",
       "      <td>11.067709</td>\n",
       "      <td>2.302836</td>\n",
       "      <td>10.892275</td>\n",
       "      <td>2.307697</td>\n",
       "      <td>118.076097</td>\n",
       "      <td>95ac1b59-096a-4e53-90ee-a1ff2513344a</td>\n",
       "    </tr>\n",
       "    <tr>\n",
       "      <th>10</th>\n",
       "      <td>11</td>\n",
       "      <td>10.188803</td>\n",
       "      <td>2.312807</td>\n",
       "      <td>10.407375</td>\n",
       "      <td>2.310333</td>\n",
       "      <td>130.008642</td>\n",
       "      <td>95ac1b59-096a-4e53-90ee-a1ff2513344a</td>\n",
       "    </tr>\n",
       "    <tr>\n",
       "      <th>11</th>\n",
       "      <td>12</td>\n",
       "      <td>9.928386</td>\n",
       "      <td>2.307356</td>\n",
       "      <td>10.003293</td>\n",
       "      <td>2.307970</td>\n",
       "      <td>141.715641</td>\n",
       "      <td>95ac1b59-096a-4e53-90ee-a1ff2513344a</td>\n",
       "    </tr>\n",
       "    <tr>\n",
       "      <th>12</th>\n",
       "      <td>13</td>\n",
       "      <td>11.328125</td>\n",
       "      <td>2.310579</td>\n",
       "      <td>10.742615</td>\n",
       "      <td>2.303723</td>\n",
       "      <td>153.533950</td>\n",
       "      <td>95ac1b59-096a-4e53-90ee-a1ff2513344a</td>\n",
       "    </tr>\n",
       "    <tr>\n",
       "      <th>13</th>\n",
       "      <td>14</td>\n",
       "      <td>8.007812</td>\n",
       "      <td>2.312257</td>\n",
       "      <td>9.222066</td>\n",
       "      <td>2.312115</td>\n",
       "      <td>165.337956</td>\n",
       "      <td>95ac1b59-096a-4e53-90ee-a1ff2513344a</td>\n",
       "    </tr>\n",
       "    <tr>\n",
       "      <th>14</th>\n",
       "      <td>15</td>\n",
       "      <td>8.919271</td>\n",
       "      <td>2.315020</td>\n",
       "      <td>9.697986</td>\n",
       "      <td>2.307908</td>\n",
       "      <td>177.405287</td>\n",
       "      <td>95ac1b59-096a-4e53-90ee-a1ff2513344a</td>\n",
       "    </tr>\n",
       "  </tbody>\n",
       "</table>\n",
       "</div>"
      ],
      "text/plain": [
       "    epoch  val_prec1  val_loss  train_prec1  train_loss        time  \\\n",
       "0       1   9.895834  2.475161     9.482475    2.464410   12.558135   \n",
       "1       2  14.388021  9.685008    13.948338    3.329167   24.327309   \n",
       "2       3  14.062500  6.009459    10.485199    6.115367   36.118047   \n",
       "3       4   7.747396  2.841898     9.859619    2.860082   47.860854   \n",
       "4       5   7.975261  2.358046     8.988596    2.360403   59.560227   \n",
       "5       6   8.593750  2.332773     9.386692    2.320884   71.275731   \n",
       "6       7   9.635417  2.334896    10.805471    2.318219   83.007105   \n",
       "7       8   8.398438  2.316419    10.473226    2.311621   94.672034   \n",
       "8       9   9.667969  2.299937    10.230776    2.330046  106.354739   \n",
       "9      10  11.067709  2.302836    10.892275    2.307697  118.076097   \n",
       "10     11  10.188803  2.312807    10.407375    2.310333  130.008642   \n",
       "11     12   9.928386  2.307356    10.003293    2.307970  141.715641   \n",
       "12     13  11.328125  2.310579    10.742615    2.303723  153.533950   \n",
       "13     14   8.007812  2.312257     9.222066    2.312115  165.337956   \n",
       "14     15   8.919271  2.315020     9.697986    2.307908  177.405287   \n",
       "\n",
       "                                  exp_id  \n",
       "0   95ac1b59-096a-4e53-90ee-a1ff2513344a  \n",
       "1   95ac1b59-096a-4e53-90ee-a1ff2513344a  \n",
       "2   95ac1b59-096a-4e53-90ee-a1ff2513344a  \n",
       "3   95ac1b59-096a-4e53-90ee-a1ff2513344a  \n",
       "4   95ac1b59-096a-4e53-90ee-a1ff2513344a  \n",
       "5   95ac1b59-096a-4e53-90ee-a1ff2513344a  \n",
       "6   95ac1b59-096a-4e53-90ee-a1ff2513344a  \n",
       "7   95ac1b59-096a-4e53-90ee-a1ff2513344a  \n",
       "8   95ac1b59-096a-4e53-90ee-a1ff2513344a  \n",
       "9   95ac1b59-096a-4e53-90ee-a1ff2513344a  \n",
       "10  95ac1b59-096a-4e53-90ee-a1ff2513344a  \n",
       "11  95ac1b59-096a-4e53-90ee-a1ff2513344a  \n",
       "12  95ac1b59-096a-4e53-90ee-a1ff2513344a  \n",
       "13  95ac1b59-096a-4e53-90ee-a1ff2513344a  \n",
       "14  95ac1b59-096a-4e53-90ee-a1ff2513344a  "
      ]
     },
     "execution_count": 50,
     "metadata": {},
     "output_type": "execute_result"
    }
   ],
   "source": [
    "reader = CollectionReader(LOGIT_BALL_CLASSIFIER)\n",
    "metadata = reader.df('metadata')\n",
    "trunc_logs = reader.df('logs')\n",
    "\n",
    "reader.close()\n",
    "trunc_logs"
   ]
  },
  {
   "cell_type": "code",
   "execution_count": 51,
   "metadata": {},
   "outputs": [],
   "source": [
    "trunc_logs = trunc_logs[trunc_logs.exp_id == '95ac1b59-096a-4e53-90ee-a1ff2513344a']"
   ]
  },
  {
   "cell_type": "code",
   "execution_count": 52,
   "metadata": {},
   "outputs": [
    {
     "data": {
      "image/png": "[encoded data removed]",
      "text/plain": [
       "<Figure size 432x288 with 1 Axes>"
      ]
     },
     "metadata": {
      "needs_background": "light"
     },
     "output_type": "display_data"
    },
    {
     "data": {
      "text/plain": [
       "<AxesSubplot:xlabel='epoch', ylabel='train_prec1'>"
      ]
     },
     "execution_count": 52,
     "metadata": {},
     "output_type": "execute_result"
    },
    {
     "data": {
      "image/png": "[encoded data removed]",
      "text/plain": [
       "<Figure size 432x288 with 1 Axes>"
      ]
     },
     "metadata": {
      "needs_background": "light"
     },
     "output_type": "display_data"
    }
   ],
   "source": [
    "sns.lineplot(data=trunc_logs, x='epoch', y='train_loss', label='train trunc loss')\n",
    "sns.lineplot(data=trunc_logs, x='epoch', y='val_loss', label='val trunc loss')\n",
    "plt.show()\n",
    "\n",
    "sns.lineplot(data=trunc_logs, x='epoch', y='train_prec1', label='train trunc acc')\n",
    "sns.lineplot(data=trunc_logs, x='epoch', y='val_prec1', label='val trunc acc')"
   ]
  },
  {
   "cell_type": "markdown",
   "metadata": {},
   "source": [
    "# Train Model on Standard CE Loss with Truncated Dataset"
   ]
  },
  {
   "cell_type": "code",
   "execution_count": 38,
   "metadata": {},
   "outputs": [
    {
     "name": "stdout",
     "output_type": "stream",
     "text": [
      "Logging in: /home/pstefanou/cifar-10/resnet-18/standard_step_lr_50epochs/8944f932-7278-40c9-96cb-2cf2983419c9\n"
     ]
    }
   ],
   "source": [
    "##### logging store\n",
    "out_store = store.Store(STANDARD_CLASSIFIER)\n",
    "setup_store_with_metadata(args, out_store)\n",
    "standard, _ = model_utils.make_and_restore_model(arch='resnet18', dataset=ds)"
   ]
  },
  {
   "cell_type": "code",
   "execution_count": 39,
   "metadata": {},
   "outputs": [
    {
     "data": {
      "application/vnd.jupyter.widget-view+json": {
       "model_id": "",
       "version_major": 2,
       "version_minor": 0
      },
      "text/plain": [
       "  0%|          | 0/188 [00:00<?, ?it/s]"
      ]
     },
     "metadata": {},
     "output_type": "display_data"
    },
    {
     "data": {
      "application/vnd.jupyter.widget-view+json": {
       "model_id": "",
       "version_major": 2,
       "version_minor": 0
      },
      "text/plain": [
       "  0%|          | 0/14 [00:00<?, ?it/s]"
      ]
     },
     "metadata": {},
     "output_type": "display_data"
    },
    {
     "data": {
      "application/vnd.jupyter.widget-view+json": {
       "model_id": "",
       "version_major": 2,
       "version_minor": 0
      },
      "text/plain": [
       "  0%|          | 0/188 [00:00<?, ?it/s]"
      ]
     },
     "metadata": {},
     "output_type": "display_data"
    },
    {
     "data": {
      "application/vnd.jupyter.widget-view+json": {
       "model_id": "",
       "version_major": 2,
       "version_minor": 0
      },
      "text/plain": [
       "  0%|          | 0/14 [00:00<?, ?it/s]"
      ]
     },
     "metadata": {},
     "output_type": "display_data"
    },
    {
     "data": {
      "application/vnd.jupyter.widget-view+json": {
       "model_id": "",
       "version_major": 2,
       "version_minor": 0
      },
      "text/plain": [
       "  0%|          | 0/188 [00:00<?, ?it/s]"
      ]
     },
     "metadata": {},
     "output_type": "display_data"
    },
    {
     "data": {
      "application/vnd.jupyter.widget-view+json": {
       "model_id": "",
       "version_major": 2,
       "version_minor": 0
      },
      "text/plain": [
       "  0%|          | 0/14 [00:00<?, ?it/s]"
      ]
     },
     "metadata": {},
     "output_type": "display_data"
    },
    {
     "data": {
      "application/vnd.jupyter.widget-view+json": {
       "model_id": "",
       "version_major": 2,
       "version_minor": 0
      },
      "text/plain": [
       "  0%|          | 0/188 [00:00<?, ?it/s]"
      ]
     },
     "metadata": {},
     "output_type": "display_data"
    },
    {
     "data": {
      "application/vnd.jupyter.widget-view+json": {
       "model_id": "",
       "version_major": 2,
       "version_minor": 0
      },
      "text/plain": [
       "  0%|          | 0/14 [00:00<?, ?it/s]"
      ]
     },
     "metadata": {},
     "output_type": "display_data"
    },
    {
     "data": {
      "application/vnd.jupyter.widget-view+json": {
       "model_id": "",
       "version_major": 2,
       "version_minor": 0
      },
      "text/plain": [
       "  0%|          | 0/188 [00:00<?, ?it/s]"
      ]
     },
     "metadata": {},
     "output_type": "display_data"
    },
    {
     "data": {
      "application/vnd.jupyter.widget-view+json": {
       "model_id": "",
       "version_major": 2,
       "version_minor": 0
      },
      "text/plain": [
       "  0%|          | 0/14 [00:00<?, ?it/s]"
      ]
     },
     "metadata": {},
     "output_type": "display_data"
    },
    {
     "data": {
      "application/vnd.jupyter.widget-view+json": {
       "model_id": "",
       "version_major": 2,
       "version_minor": 0
      },
      "text/plain": [
       "  0%|          | 0/188 [00:00<?, ?it/s]"
      ]
     },
     "metadata": {},
     "output_type": "display_data"
    },
    {
     "data": {
      "application/vnd.jupyter.widget-view+json": {
       "model_id": "",
       "version_major": 2,
       "version_minor": 0
      },
      "text/plain": [
       "  0%|          | 0/14 [00:00<?, ?it/s]"
      ]
     },
     "metadata": {},
     "output_type": "display_data"
    },
    {
     "data": {
      "application/vnd.jupyter.widget-view+json": {
       "model_id": "",
       "version_major": 2,
       "version_minor": 0
      },
      "text/plain": [
       "  0%|          | 0/188 [00:00<?, ?it/s]"
      ]
     },
     "metadata": {},
     "output_type": "display_data"
    },
    {
     "data": {
      "application/vnd.jupyter.widget-view+json": {
       "model_id": "",
       "version_major": 2,
       "version_minor": 0
      },
      "text/plain": [
       "  0%|          | 0/14 [00:00<?, ?it/s]"
      ]
     },
     "metadata": {},
     "output_type": "display_data"
    },
    {
     "data": {
      "application/vnd.jupyter.widget-view+json": {
       "model_id": "",
       "version_major": 2,
       "version_minor": 0
      },
      "text/plain": [
       "  0%|          | 0/188 [00:00<?, ?it/s]"
      ]
     },
     "metadata": {},
     "output_type": "display_data"
    },
    {
     "data": {
      "application/vnd.jupyter.widget-view+json": {
       "model_id": "",
       "version_major": 2,
       "version_minor": 0
      },
      "text/plain": [
       "  0%|          | 0/14 [00:00<?, ?it/s]"
      ]
     },
     "metadata": {},
     "output_type": "display_data"
    },
    {
     "data": {
      "application/vnd.jupyter.widget-view+json": {
       "model_id": "",
       "version_major": 2,
       "version_minor": 0
      },
      "text/plain": [
       "  0%|          | 0/188 [00:00<?, ?it/s]"
      ]
     },
     "metadata": {},
     "output_type": "display_data"
    },
    {
     "data": {
      "application/vnd.jupyter.widget-view+json": {
       "model_id": "",
       "version_major": 2,
       "version_minor": 0
      },
      "text/plain": [
       "  0%|          | 0/14 [00:00<?, ?it/s]"
      ]
     },
     "metadata": {},
     "output_type": "display_data"
    },
    {
     "data": {
      "application/vnd.jupyter.widget-view+json": {
       "model_id": "",
       "version_major": 2,
       "version_minor": 0
      },
      "text/plain": [
       "  0%|          | 0/188 [00:00<?, ?it/s]"
      ]
     },
     "metadata": {},
     "output_type": "display_data"
    },
    {
     "data": {
      "application/vnd.jupyter.widget-view+json": {
       "model_id": "",
       "version_major": 2,
       "version_minor": 0
      },
      "text/plain": [
       "  0%|          | 0/14 [00:00<?, ?it/s]"
      ]
     },
     "metadata": {},
     "output_type": "display_data"
    },
    {
     "data": {
      "application/vnd.jupyter.widget-view+json": {
       "model_id": "",
       "version_major": 2,
       "version_minor": 0
      },
      "text/plain": [
       "  0%|          | 0/188 [00:00<?, ?it/s]"
      ]
     },
     "metadata": {},
     "output_type": "display_data"
    },
    {
     "data": {
      "application/vnd.jupyter.widget-view+json": {
       "model_id": "",
       "version_major": 2,
       "version_minor": 0
      },
      "text/plain": [
       "  0%|          | 0/14 [00:00<?, ?it/s]"
      ]
     },
     "metadata": {},
     "output_type": "display_data"
    },
    {
     "data": {
      "application/vnd.jupyter.widget-view+json": {
       "model_id": "",
       "version_major": 2,
       "version_minor": 0
      },
      "text/plain": [
       "  0%|          | 0/188 [00:00<?, ?it/s]"
      ]
     },
     "metadata": {},
     "output_type": "display_data"
    },
    {
     "data": {
      "application/vnd.jupyter.widget-view+json": {
       "model_id": "",
       "version_major": 2,
       "version_minor": 0
      },
      "text/plain": [
       "  0%|          | 0/14 [00:00<?, ?it/s]"
      ]
     },
     "metadata": {},
     "output_type": "display_data"
    },
    {
     "data": {
      "application/vnd.jupyter.widget-view+json": {
       "model_id": "",
       "version_major": 2,
       "version_minor": 0
      },
      "text/plain": [
       "  0%|          | 0/188 [00:00<?, ?it/s]"
      ]
     },
     "metadata": {},
     "output_type": "display_data"
    },
    {
     "data": {
      "application/vnd.jupyter.widget-view+json": {
       "model_id": "",
       "version_major": 2,
       "version_minor": 0
      },
      "text/plain": [
       "  0%|          | 0/14 [00:00<?, ?it/s]"
      ]
     },
     "metadata": {},
     "output_type": "display_data"
    },
    {
     "data": {
      "application/vnd.jupyter.widget-view+json": {
       "model_id": "",
       "version_major": 2,
       "version_minor": 0
      },
      "text/plain": [
       "  0%|          | 0/188 [00:00<?, ?it/s]"
      ]
     },
     "metadata": {},
     "output_type": "display_data"
    },
    {
     "data": {
      "application/vnd.jupyter.widget-view+json": {
       "model_id": "",
       "version_major": 2,
       "version_minor": 0
      },
      "text/plain": [
       "  0%|          | 0/14 [00:00<?, ?it/s]"
      ]
     },
     "metadata": {},
     "output_type": "display_data"
    },
    {
     "data": {
      "application/vnd.jupyter.widget-view+json": {
       "model_id": "",
       "version_major": 2,
       "version_minor": 0
      },
      "text/plain": [
       "  0%|          | 0/188 [00:00<?, ?it/s]"
      ]
     },
     "metadata": {},
     "output_type": "display_data"
    },
    {
     "data": {
      "application/vnd.jupyter.widget-view+json": {
       "model_id": "",
       "version_major": 2,
       "version_minor": 0
      },
      "text/plain": [
       "  0%|          | 0/14 [00:00<?, ?it/s]"
      ]
     },
     "metadata": {},
     "output_type": "display_data"
    },
    {
     "data": {
      "application/vnd.jupyter.widget-view+json": {
       "model_id": "",
       "version_major": 2,
       "version_minor": 0
      },
      "text/plain": [
       "  0%|          | 0/188 [00:00<?, ?it/s]"
      ]
     },
     "metadata": {},
     "output_type": "display_data"
    },
    {
     "data": {
      "application/vnd.jupyter.widget-view+json": {
       "model_id": "",
       "version_major": 2,
       "version_minor": 0
      },
      "text/plain": [
       "  0%|          | 0/14 [00:00<?, ?it/s]"
      ]
     },
     "metadata": {},
     "output_type": "display_data"
    },
    {
     "data": {
      "application/vnd.jupyter.widget-view+json": {
       "model_id": "",
       "version_major": 2,
       "version_minor": 0
      },
      "text/plain": [
       "  0%|          | 0/188 [00:00<?, ?it/s]"
      ]
     },
     "metadata": {},
     "output_type": "display_data"
    },
    {
     "data": {
      "application/vnd.jupyter.widget-view+json": {
       "model_id": "",
       "version_major": 2,
       "version_minor": 0
      },
      "text/plain": [
       "  0%|          | 0/14 [00:00<?, ?it/s]"
      ]
     },
     "metadata": {},
     "output_type": "display_data"
    },
    {
     "data": {
      "application/vnd.jupyter.widget-view+json": {
       "model_id": "",
       "version_major": 2,
       "version_minor": 0
      },
      "text/plain": [
       "  0%|          | 0/188 [00:00<?, ?it/s]"
      ]
     },
     "metadata": {},
     "output_type": "display_data"
    },
    {
     "data": {
      "application/vnd.jupyter.widget-view+json": {
       "model_id": "",
       "version_major": 2,
       "version_minor": 0
      },
      "text/plain": [
       "  0%|          | 0/14 [00:00<?, ?it/s]"
      ]
     },
     "metadata": {},
     "output_type": "display_data"
    },
    {
     "data": {
      "application/vnd.jupyter.widget-view+json": {
       "model_id": "",
       "version_major": 2,
       "version_minor": 0
      },
      "text/plain": [
       "  0%|          | 0/188 [00:00<?, ?it/s]"
      ]
     },
     "metadata": {},
     "output_type": "display_data"
    },
    {
     "data": {
      "application/vnd.jupyter.widget-view+json": {
       "model_id": "",
       "version_major": 2,
       "version_minor": 0
      },
      "text/plain": [
       "  0%|          | 0/14 [00:00<?, ?it/s]"
      ]
     },
     "metadata": {},
     "output_type": "display_data"
    },
    {
     "data": {
      "application/vnd.jupyter.widget-view+json": {
       "model_id": "",
       "version_major": 2,
       "version_minor": 0
      },
      "text/plain": [
       "  0%|          | 0/188 [00:00<?, ?it/s]"
      ]
     },
     "metadata": {},
     "output_type": "display_data"
    },
    {
     "data": {
      "application/vnd.jupyter.widget-view+json": {
       "model_id": "",
       "version_major": 2,
       "version_minor": 0
      },
      "text/plain": [
       "  0%|          | 0/14 [00:00<?, ?it/s]"
      ]
     },
     "metadata": {},
     "output_type": "display_data"
    },
    {
     "data": {
      "application/vnd.jupyter.widget-view+json": {
       "model_id": "",
       "version_major": 2,
       "version_minor": 0
      },
      "text/plain": [
       "  0%|          | 0/188 [00:00<?, ?it/s]"
      ]
     },
     "metadata": {},
     "output_type": "display_data"
    },
    {
     "data": {
      "application/vnd.jupyter.widget-view+json": {
       "model_id": "",
       "version_major": 2,
       "version_minor": 0
      },
      "text/plain": [
       "  0%|          | 0/14 [00:00<?, ?it/s]"
      ]
     },
     "metadata": {},
     "output_type": "display_data"
    },
    {
     "data": {
      "application/vnd.jupyter.widget-view+json": {
       "model_id": "",
       "version_major": 2,
       "version_minor": 0
      },
      "text/plain": [
       "  0%|          | 0/188 [00:00<?, ?it/s]"
      ]
     },
     "metadata": {},
     "output_type": "display_data"
    },
    {
     "data": {
      "application/vnd.jupyter.widget-view+json": {
       "model_id": "",
       "version_major": 2,
       "version_minor": 0
      },
      "text/plain": [
       "  0%|          | 0/14 [00:00<?, ?it/s]"
      ]
     },
     "metadata": {},
     "output_type": "display_data"
    },
    {
     "data": {
      "application/vnd.jupyter.widget-view+json": {
       "model_id": "",
       "version_major": 2,
       "version_minor": 0
      },
      "text/plain": [
       "  0%|          | 0/188 [00:00<?, ?it/s]"
      ]
     },
     "metadata": {},
     "output_type": "display_data"
    },
    {
     "data": {
      "application/vnd.jupyter.widget-view+json": {
       "model_id": "",
       "version_major": 2,
       "version_minor": 0
      },
      "text/plain": [
       "  0%|          | 0/14 [00:00<?, ?it/s]"
      ]
     },
     "metadata": {},
     "output_type": "display_data"
    },
    {
     "data": {
      "application/vnd.jupyter.widget-view+json": {
       "model_id": "",
       "version_major": 2,
       "version_minor": 0
      },
      "text/plain": [
       "  0%|          | 0/188 [00:00<?, ?it/s]"
      ]
     },
     "metadata": {},
     "output_type": "display_data"
    },
    {
     "data": {
      "application/vnd.jupyter.widget-view+json": {
       "model_id": "",
       "version_major": 2,
       "version_minor": 0
      },
      "text/plain": [
       "  0%|          | 0/14 [00:00<?, ?it/s]"
      ]
     },
     "metadata": {},
     "output_type": "display_data"
    },
    {
     "data": {
      "application/vnd.jupyter.widget-view+json": {
       "model_id": "",
       "version_major": 2,
       "version_minor": 0
      },
      "text/plain": [
       "  0%|          | 0/188 [00:00<?, ?it/s]"
      ]
     },
     "metadata": {},
     "output_type": "display_data"
    },
    {
     "data": {
      "application/vnd.jupyter.widget-view+json": {
       "model_id": "",
       "version_major": 2,
       "version_minor": 0
      },
      "text/plain": [
       "  0%|          | 0/14 [00:00<?, ?it/s]"
      ]
     },
     "metadata": {},
     "output_type": "display_data"
    },
    {
     "data": {
      "application/vnd.jupyter.widget-view+json": {
       "model_id": "",
       "version_major": 2,
       "version_minor": 0
      },
      "text/plain": [
       "  0%|          | 0/188 [00:00<?, ?it/s]"
      ]
     },
     "metadata": {},
     "output_type": "display_data"
    },
    {
     "data": {
      "application/vnd.jupyter.widget-view+json": {
       "model_id": "",
       "version_major": 2,
       "version_minor": 0
      },
      "text/plain": [
       "  0%|          | 0/14 [00:00<?, ?it/s]"
      ]
     },
     "metadata": {},
     "output_type": "display_data"
    },
    {
     "data": {
      "application/vnd.jupyter.widget-view+json": {
       "model_id": "",
       "version_major": 2,
       "version_minor": 0
      },
      "text/plain": [
       "  0%|          | 0/188 [00:00<?, ?it/s]"
      ]
     },
     "metadata": {},
     "output_type": "display_data"
    },
    {
     "data": {
      "application/vnd.jupyter.widget-view+json": {
       "model_id": "",
       "version_major": 2,
       "version_minor": 0
      },
      "text/plain": [
       "  0%|          | 0/14 [00:00<?, ?it/s]"
      ]
     },
     "metadata": {},
     "output_type": "display_data"
    },
    {
     "data": {
      "application/vnd.jupyter.widget-view+json": {
       "model_id": "",
       "version_major": 2,
       "version_minor": 0
      },
      "text/plain": [
       "  0%|          | 0/188 [00:00<?, ?it/s]"
      ]
     },
     "metadata": {},
     "output_type": "display_data"
    },
    {
     "data": {
      "application/vnd.jupyter.widget-view+json": {
       "model_id": "",
       "version_major": 2,
       "version_minor": 0
      },
      "text/plain": [
       "  0%|          | 0/14 [00:00<?, ?it/s]"
      ]
     },
     "metadata": {},
     "output_type": "display_data"
    },
    {
     "data": {
      "application/vnd.jupyter.widget-view+json": {
       "model_id": "",
       "version_major": 2,
       "version_minor": 0
      },
      "text/plain": [
       "  0%|          | 0/188 [00:00<?, ?it/s]"
      ]
     },
     "metadata": {},
     "output_type": "display_data"
    },
    {
     "data": {
      "application/vnd.jupyter.widget-view+json": {
       "model_id": "",
       "version_major": 2,
       "version_minor": 0
      },
      "text/plain": [
       "  0%|          | 0/14 [00:00<?, ?it/s]"
      ]
     },
     "metadata": {},
     "output_type": "display_data"
    },
    {
     "data": {
      "application/vnd.jupyter.widget-view+json": {
       "model_id": "",
       "version_major": 2,
       "version_minor": 0
      },
      "text/plain": [
       "  0%|          | 0/188 [00:00<?, ?it/s]"
      ]
     },
     "metadata": {},
     "output_type": "display_data"
    },
    {
     "data": {
      "application/vnd.jupyter.widget-view+json": {
       "model_id": "",
       "version_major": 2,
       "version_minor": 0
      },
      "text/plain": [
       "  0%|          | 0/14 [00:00<?, ?it/s]"
      ]
     },
     "metadata": {},
     "output_type": "display_data"
    },
    {
     "data": {
      "application/vnd.jupyter.widget-view+json": {
       "model_id": "",
       "version_major": 2,
       "version_minor": 0
      },
      "text/plain": [
       "  0%|          | 0/188 [00:00<?, ?it/s]"
      ]
     },
     "metadata": {},
     "output_type": "display_data"
    },
    {
     "data": {
      "application/vnd.jupyter.widget-view+json": {
       "model_id": "",
       "version_major": 2,
       "version_minor": 0
      },
      "text/plain": [
       "  0%|          | 0/14 [00:00<?, ?it/s]"
      ]
     },
     "metadata": {},
     "output_type": "display_data"
    },
    {
     "data": {
      "application/vnd.jupyter.widget-view+json": {
       "model_id": "",
       "version_major": 2,
       "version_minor": 0
      },
      "text/plain": [
       "  0%|          | 0/188 [00:00<?, ?it/s]"
      ]
     },
     "metadata": {},
     "output_type": "display_data"
    },
    {
     "data": {
      "application/vnd.jupyter.widget-view+json": {
       "model_id": "",
       "version_major": 2,
       "version_minor": 0
      },
      "text/plain": [
       "  0%|          | 0/14 [00:00<?, ?it/s]"
      ]
     },
     "metadata": {},
     "output_type": "display_data"
    },
    {
     "data": {
      "application/vnd.jupyter.widget-view+json": {
       "model_id": "",
       "version_major": 2,
       "version_minor": 0
      },
      "text/plain": [
       "  0%|          | 0/188 [00:00<?, ?it/s]"
      ]
     },
     "metadata": {},
     "output_type": "display_data"
    },
    {
     "data": {
      "application/vnd.jupyter.widget-view+json": {
       "model_id": "",
       "version_major": 2,
       "version_minor": 0
      },
      "text/plain": [
       "  0%|          | 0/14 [00:00<?, ?it/s]"
      ]
     },
     "metadata": {},
     "output_type": "display_data"
    },
    {
     "data": {
      "application/vnd.jupyter.widget-view+json": {
       "model_id": "",
       "version_major": 2,
       "version_minor": 0
      },
      "text/plain": [
       "  0%|          | 0/188 [00:00<?, ?it/s]"
      ]
     },
     "metadata": {},
     "output_type": "display_data"
    },
    {
     "data": {
      "application/vnd.jupyter.widget-view+json": {
       "model_id": "",
       "version_major": 2,
       "version_minor": 0
      },
      "text/plain": [
       "  0%|          | 0/14 [00:00<?, ?it/s]"
      ]
     },
     "metadata": {},
     "output_type": "display_data"
    },
    {
     "data": {
      "application/vnd.jupyter.widget-view+json": {
       "model_id": "",
       "version_major": 2,
       "version_minor": 0
      },
      "text/plain": [
       "  0%|          | 0/188 [00:00<?, ?it/s]"
      ]
     },
     "metadata": {},
     "output_type": "display_data"
    },
    {
     "data": {
      "application/vnd.jupyter.widget-view+json": {
       "model_id": "",
       "version_major": 2,
       "version_minor": 0
      },
      "text/plain": [
       "  0%|          | 0/14 [00:00<?, ?it/s]"
      ]
     },
     "metadata": {},
     "output_type": "display_data"
    },
    {
     "data": {
      "application/vnd.jupyter.widget-view+json": {
       "model_id": "",
       "version_major": 2,
       "version_minor": 0
      },
      "text/plain": [
       "  0%|          | 0/188 [00:00<?, ?it/s]"
      ]
     },
     "metadata": {},
     "output_type": "display_data"
    },
    {
     "data": {
      "application/vnd.jupyter.widget-view+json": {
       "model_id": "",
       "version_major": 2,
       "version_minor": 0
      },
      "text/plain": [
       "  0%|          | 0/14 [00:00<?, ?it/s]"
      ]
     },
     "metadata": {},
     "output_type": "display_data"
    },
    {
     "data": {
      "application/vnd.jupyter.widget-view+json": {
       "model_id": "",
       "version_major": 2,
       "version_minor": 0
      },
      "text/plain": [
       "  0%|          | 0/188 [00:00<?, ?it/s]"
      ]
     },
     "metadata": {},
     "output_type": "display_data"
    },
    {
     "data": {
      "application/vnd.jupyter.widget-view+json": {
       "model_id": "",
       "version_major": 2,
       "version_minor": 0
      },
      "text/plain": [
       "  0%|          | 0/14 [00:00<?, ?it/s]"
      ]
     },
     "metadata": {},
     "output_type": "display_data"
    },
    {
     "data": {
      "application/vnd.jupyter.widget-view+json": {
       "model_id": "",
       "version_major": 2,
       "version_minor": 0
      },
      "text/plain": [
       "  0%|          | 0/188 [00:00<?, ?it/s]"
      ]
     },
     "metadata": {},
     "output_type": "display_data"
    },
    {
     "data": {
      "application/vnd.jupyter.widget-view+json": {
       "model_id": "",
       "version_major": 2,
       "version_minor": 0
      },
      "text/plain": [
       "  0%|          | 0/14 [00:00<?, ?it/s]"
      ]
     },
     "metadata": {},
     "output_type": "display_data"
    },
    {
     "data": {
      "application/vnd.jupyter.widget-view+json": {
       "model_id": "",
       "version_major": 2,
       "version_minor": 0
      },
      "text/plain": [
       "  0%|          | 0/188 [00:00<?, ?it/s]"
      ]
     },
     "metadata": {},
     "output_type": "display_data"
    },
    {
     "data": {
      "application/vnd.jupyter.widget-view+json": {
       "model_id": "",
       "version_major": 2,
       "version_minor": 0
      },
      "text/plain": [
       "  0%|          | 0/14 [00:00<?, ?it/s]"
      ]
     },
     "metadata": {},
     "output_type": "display_data"
    },
    {
     "data": {
      "application/vnd.jupyter.widget-view+json": {
       "model_id": "",
       "version_major": 2,
       "version_minor": 0
      },
      "text/plain": [
       "  0%|          | 0/188 [00:00<?, ?it/s]"
      ]
     },
     "metadata": {},
     "output_type": "display_data"
    },
    {
     "data": {
      "application/vnd.jupyter.widget-view+json": {
       "model_id": "",
       "version_major": 2,
       "version_minor": 0
      },
      "text/plain": [
       "  0%|          | 0/14 [00:00<?, ?it/s]"
      ]
     },
     "metadata": {},
     "output_type": "display_data"
    },
    {
     "data": {
      "application/vnd.jupyter.widget-view+json": {
       "model_id": "",
       "version_major": 2,
       "version_minor": 0
      },
      "text/plain": [
       "  0%|          | 0/188 [00:00<?, ?it/s]"
      ]
     },
     "metadata": {},
     "output_type": "display_data"
    },
    {
     "data": {
      "application/vnd.jupyter.widget-view+json": {
       "model_id": "",
       "version_major": 2,
       "version_minor": 0
      },
      "text/plain": [
       "  0%|          | 0/14 [00:00<?, ?it/s]"
      ]
     },
     "metadata": {},
     "output_type": "display_data"
    },
    {
     "data": {
      "application/vnd.jupyter.widget-view+json": {
       "model_id": "",
       "version_major": 2,
       "version_minor": 0
      },
      "text/plain": [
       "  0%|          | 0/188 [00:00<?, ?it/s]"
      ]
     },
     "metadata": {},
     "output_type": "display_data"
    },
    {
     "data": {
      "application/vnd.jupyter.widget-view+json": {
       "model_id": "",
       "version_major": 2,
       "version_minor": 0
      },
      "text/plain": [
       "  0%|          | 0/14 [00:00<?, ?it/s]"
      ]
     },
     "metadata": {},
     "output_type": "display_data"
    },
    {
     "data": {
      "application/vnd.jupyter.widget-view+json": {
       "model_id": "",
       "version_major": 2,
       "version_minor": 0
      },
      "text/plain": [
       "  0%|          | 0/188 [00:00<?, ?it/s]"
      ]
     },
     "metadata": {},
     "output_type": "display_data"
    },
    {
     "data": {
      "application/vnd.jupyter.widget-view+json": {
       "model_id": "",
       "version_major": 2,
       "version_minor": 0
      },
      "text/plain": [
       "  0%|          | 0/14 [00:00<?, ?it/s]"
      ]
     },
     "metadata": {},
     "output_type": "display_data"
    },
    {
     "data": {
      "application/vnd.jupyter.widget-view+json": {
       "model_id": "",
       "version_major": 2,
       "version_minor": 0
      },
      "text/plain": [
       "  0%|          | 0/188 [00:00<?, ?it/s]"
      ]
     },
     "metadata": {},
     "output_type": "display_data"
    },
    {
     "data": {
      "application/vnd.jupyter.widget-view+json": {
       "model_id": "",
       "version_major": 2,
       "version_minor": 0
      },
      "text/plain": [
       "  0%|          | 0/14 [00:00<?, ?it/s]"
      ]
     },
     "metadata": {},
     "output_type": "display_data"
    },
    {
     "data": {
      "application/vnd.jupyter.widget-view+json": {
       "model_id": "",
       "version_major": 2,
       "version_minor": 0
      },
      "text/plain": [
       "  0%|          | 0/188 [00:00<?, ?it/s]"
      ]
     },
     "metadata": {},
     "output_type": "display_data"
    },
    {
     "data": {
      "application/vnd.jupyter.widget-view+json": {
       "model_id": "",
       "version_major": 2,
       "version_minor": 0
      },
      "text/plain": [
       "  0%|          | 0/14 [00:00<?, ?it/s]"
      ]
     },
     "metadata": {},
     "output_type": "display_data"
    },
    {
     "data": {
      "application/vnd.jupyter.widget-view+json": {
       "model_id": "",
       "version_major": 2,
       "version_minor": 0
      },
      "text/plain": [
       "  0%|          | 0/188 [00:00<?, ?it/s]"
      ]
     },
     "metadata": {},
     "output_type": "display_data"
    },
    {
     "data": {
      "application/vnd.jupyter.widget-view+json": {
       "model_id": "",
       "version_major": 2,
       "version_minor": 0
      },
      "text/plain": [
       "  0%|          | 0/14 [00:00<?, ?it/s]"
      ]
     },
     "metadata": {},
     "output_type": "display_data"
    },
    {
     "data": {
      "application/vnd.jupyter.widget-view+json": {
       "model_id": "",
       "version_major": 2,
       "version_minor": 0
      },
      "text/plain": [
       "  0%|          | 0/188 [00:00<?, ?it/s]"
      ]
     },
     "metadata": {},
     "output_type": "display_data"
    },
    {
     "data": {
      "application/vnd.jupyter.widget-view+json": {
       "model_id": "",
       "version_major": 2,
       "version_minor": 0
      },
      "text/plain": [
       "  0%|          | 0/14 [00:00<?, ?it/s]"
      ]
     },
     "metadata": {},
     "output_type": "display_data"
    },
    {
     "data": {
      "application/vnd.jupyter.widget-view+json": {
       "model_id": "",
       "version_major": 2,
       "version_minor": 0
      },
      "text/plain": [
       "  0%|          | 0/188 [00:00<?, ?it/s]"
      ]
     },
     "metadata": {},
     "output_type": "display_data"
    },
    {
     "data": {
      "application/vnd.jupyter.widget-view+json": {
       "model_id": "",
       "version_major": 2,
       "version_minor": 0
      },
      "text/plain": [
       "  0%|          | 0/14 [00:00<?, ?it/s]"
      ]
     },
     "metadata": {},
     "output_type": "display_data"
    },
    {
     "data": {
      "application/vnd.jupyter.widget-view+json": {
       "model_id": "",
       "version_major": 2,
       "version_minor": 0
      },
      "text/plain": [
       "  0%|          | 0/188 [00:00<?, ?it/s]"
      ]
     },
     "metadata": {},
     "output_type": "display_data"
    },
    {
     "data": {
      "application/vnd.jupyter.widget-view+json": {
       "model_id": "",
       "version_major": 2,
       "version_minor": 0
      },
      "text/plain": [
       "  0%|          | 0/14 [00:00<?, ?it/s]"
      ]
     },
     "metadata": {},
     "output_type": "display_data"
    },
    {
     "data": {
      "application/vnd.jupyter.widget-view+json": {
       "model_id": "",
       "version_major": 2,
       "version_minor": 0
      },
      "text/plain": [
       "  0%|          | 0/188 [00:00<?, ?it/s]"
      ]
     },
     "metadata": {},
     "output_type": "display_data"
    },
    {
     "data": {
      "application/vnd.jupyter.widget-view+json": {
       "model_id": "",
       "version_major": 2,
       "version_minor": 0
      },
      "text/plain": [
       "  0%|          | 0/14 [00:00<?, ?it/s]"
      ]
     },
     "metadata": {},
     "output_type": "display_data"
    }
   ],
   "source": [
    "# train\n",
    "ch.manual_seed(0)\n",
    "config.args = args\n",
    "standard_model = train.train_model(args, standard, (trunc_train_loader, trunc_val_loader), store=out_store, parallel=args.parallel)\n",
    "out_store.close()"
   ]
  },
  {
   "cell_type": "code",
   "execution_count": 40,
   "metadata": {},
   "outputs": [
    {
     "name": "stderr",
     "output_type": "stream",
     "text": [
      "100%|██████████| 1/1 [00:00<00:00, 75.57it/s]\n"
     ]
    },
    {
     "data": {
      "text/html": [
       "<div>\n",
       "<style scoped>\n",
       "    .dataframe tbody tr th:only-of-type {\n",
       "        vertical-align: middle;\n",
       "    }\n",
       "\n",
       "    .dataframe tbody tr th {\n",
       "        vertical-align: top;\n",
       "    }\n",
       "\n",
       "    .dataframe thead th {\n",
       "        text-align: right;\n",
       "    }\n",
       "</style>\n",
       "<table border=\"1\" class=\"dataframe\">\n",
       "  <thead>\n",
       "    <tr style=\"text-align: right;\">\n",
       "      <th></th>\n",
       "      <th>epoch</th>\n",
       "      <th>val_prec1</th>\n",
       "      <th>val_loss</th>\n",
       "      <th>train_prec1</th>\n",
       "      <th>train_loss</th>\n",
       "      <th>time</th>\n",
       "      <th>exp_id</th>\n",
       "    </tr>\n",
       "  </thead>\n",
       "  <tbody>\n",
       "    <tr>\n",
       "      <th>0</th>\n",
       "      <td>1</td>\n",
       "      <td>45.590881</td>\n",
       "      <td>1.526674</td>\n",
       "      <td>40.299255</td>\n",
       "      <td>1.683716</td>\n",
       "      <td>12.516003</td>\n",
       "      <td>8944f932-7278-40c9-96cb-2cf2983419c9</td>\n",
       "    </tr>\n",
       "    <tr>\n",
       "      <th>1</th>\n",
       "      <td>2</td>\n",
       "      <td>72.705460</td>\n",
       "      <td>0.769827</td>\n",
       "      <td>61.697163</td>\n",
       "      <td>1.054290</td>\n",
       "      <td>25.008404</td>\n",
       "      <td>8944f932-7278-40c9-96cb-2cf2983419c9</td>\n",
       "    </tr>\n",
       "    <tr>\n",
       "      <th>2</th>\n",
       "      <td>3</td>\n",
       "      <td>80.563881</td>\n",
       "      <td>0.521347</td>\n",
       "      <td>72.817078</td>\n",
       "      <td>0.756402</td>\n",
       "      <td>37.408093</td>\n",
       "      <td>8944f932-7278-40c9-96cb-2cf2983419c9</td>\n",
       "    </tr>\n",
       "    <tr>\n",
       "      <th>3</th>\n",
       "      <td>4</td>\n",
       "      <td>78.104378</td>\n",
       "      <td>0.636168</td>\n",
       "      <td>80.502647</td>\n",
       "      <td>0.540533</td>\n",
       "      <td>49.838872</td>\n",
       "      <td>8944f932-7278-40c9-96cb-2cf2983419c9</td>\n",
       "    </tr>\n",
       "    <tr>\n",
       "      <th>4</th>\n",
       "      <td>5</td>\n",
       "      <td>74.325134</td>\n",
       "      <td>0.944316</td>\n",
       "      <td>86.833664</td>\n",
       "      <td>0.370249</td>\n",
       "      <td>62.287851</td>\n",
       "      <td>8944f932-7278-40c9-96cb-2cf2983419c9</td>\n",
       "    </tr>\n",
       "    <tr>\n",
       "      <th>5</th>\n",
       "      <td>6</td>\n",
       "      <td>86.082779</td>\n",
       "      <td>0.440787</td>\n",
       "      <td>91.218277</td>\n",
       "      <td>0.242475</td>\n",
       "      <td>74.725360</td>\n",
       "      <td>8944f932-7278-40c9-96cb-2cf2983419c9</td>\n",
       "    </tr>\n",
       "    <tr>\n",
       "      <th>6</th>\n",
       "      <td>7</td>\n",
       "      <td>75.044991</td>\n",
       "      <td>0.980243</td>\n",
       "      <td>95.261124</td>\n",
       "      <td>0.140761</td>\n",
       "      <td>87.130649</td>\n",
       "      <td>8944f932-7278-40c9-96cb-2cf2983419c9</td>\n",
       "    </tr>\n",
       "    <tr>\n",
       "      <th>7</th>\n",
       "      <td>8</td>\n",
       "      <td>90.041992</td>\n",
       "      <td>0.327841</td>\n",
       "      <td>96.990791</td>\n",
       "      <td>0.086739</td>\n",
       "      <td>99.632607</td>\n",
       "      <td>8944f932-7278-40c9-96cb-2cf2983419c9</td>\n",
       "    </tr>\n",
       "    <tr>\n",
       "      <th>8</th>\n",
       "      <td>9</td>\n",
       "      <td>90.101974</td>\n",
       "      <td>0.333994</td>\n",
       "      <td>98.332848</td>\n",
       "      <td>0.050824</td>\n",
       "      <td>112.222662</td>\n",
       "      <td>8944f932-7278-40c9-96cb-2cf2983419c9</td>\n",
       "    </tr>\n",
       "    <tr>\n",
       "      <th>9</th>\n",
       "      <td>10</td>\n",
       "      <td>94.121170</td>\n",
       "      <td>0.228995</td>\n",
       "      <td>99.183098</td>\n",
       "      <td>0.027395</td>\n",
       "      <td>124.692114</td>\n",
       "      <td>8944f932-7278-40c9-96cb-2cf2983419c9</td>\n",
       "    </tr>\n",
       "    <tr>\n",
       "      <th>10</th>\n",
       "      <td>11</td>\n",
       "      <td>95.320930</td>\n",
       "      <td>0.158350</td>\n",
       "      <td>99.687408</td>\n",
       "      <td>0.012092</td>\n",
       "      <td>137.193474</td>\n",
       "      <td>8944f932-7278-40c9-96cb-2cf2983419c9</td>\n",
       "    </tr>\n",
       "    <tr>\n",
       "      <th>11</th>\n",
       "      <td>12</td>\n",
       "      <td>95.800835</td>\n",
       "      <td>0.158442</td>\n",
       "      <td>99.962494</td>\n",
       "      <td>0.002962</td>\n",
       "      <td>149.622051</td>\n",
       "      <td>8944f932-7278-40c9-96cb-2cf2983419c9</td>\n",
       "    </tr>\n",
       "    <tr>\n",
       "      <th>12</th>\n",
       "      <td>13</td>\n",
       "      <td>95.800835</td>\n",
       "      <td>0.158827</td>\n",
       "      <td>99.991669</td>\n",
       "      <td>0.001269</td>\n",
       "      <td>162.041094</td>\n",
       "      <td>8944f932-7278-40c9-96cb-2cf2983419c9</td>\n",
       "    </tr>\n",
       "    <tr>\n",
       "      <th>13</th>\n",
       "      <td>14</td>\n",
       "      <td>96.340729</td>\n",
       "      <td>0.147824</td>\n",
       "      <td>100.000000</td>\n",
       "      <td>0.000730</td>\n",
       "      <td>174.540274</td>\n",
       "      <td>8944f932-7278-40c9-96cb-2cf2983419c9</td>\n",
       "    </tr>\n",
       "    <tr>\n",
       "      <th>14</th>\n",
       "      <td>15</td>\n",
       "      <td>96.280739</td>\n",
       "      <td>0.144224</td>\n",
       "      <td>99.995834</td>\n",
       "      <td>0.000563</td>\n",
       "      <td>186.958937</td>\n",
       "      <td>8944f932-7278-40c9-96cb-2cf2983419c9</td>\n",
       "    </tr>\n",
       "    <tr>\n",
       "      <th>15</th>\n",
       "      <td>16</td>\n",
       "      <td>96.460701</td>\n",
       "      <td>0.142298</td>\n",
       "      <td>100.000000</td>\n",
       "      <td>0.000394</td>\n",
       "      <td>199.416020</td>\n",
       "      <td>8944f932-7278-40c9-96cb-2cf2983419c9</td>\n",
       "    </tr>\n",
       "    <tr>\n",
       "      <th>16</th>\n",
       "      <td>17</td>\n",
       "      <td>96.280739</td>\n",
       "      <td>0.145164</td>\n",
       "      <td>100.000000</td>\n",
       "      <td>0.000303</td>\n",
       "      <td>211.809793</td>\n",
       "      <td>8944f932-7278-40c9-96cb-2cf2983419c9</td>\n",
       "    </tr>\n",
       "    <tr>\n",
       "      <th>17</th>\n",
       "      <td>18</td>\n",
       "      <td>96.220749</td>\n",
       "      <td>0.149574</td>\n",
       "      <td>100.000000</td>\n",
       "      <td>0.000326</td>\n",
       "      <td>224.248676</td>\n",
       "      <td>8944f932-7278-40c9-96cb-2cf2983419c9</td>\n",
       "    </tr>\n",
       "    <tr>\n",
       "      <th>18</th>\n",
       "      <td>19</td>\n",
       "      <td>96.400719</td>\n",
       "      <td>0.143188</td>\n",
       "      <td>100.000000</td>\n",
       "      <td>0.000252</td>\n",
       "      <td>236.725659</td>\n",
       "      <td>8944f932-7278-40c9-96cb-2cf2983419c9</td>\n",
       "    </tr>\n",
       "    <tr>\n",
       "      <th>19</th>\n",
       "      <td>20</td>\n",
       "      <td>96.220749</td>\n",
       "      <td>0.146178</td>\n",
       "      <td>100.000000</td>\n",
       "      <td>0.000216</td>\n",
       "      <td>249.139457</td>\n",
       "      <td>8944f932-7278-40c9-96cb-2cf2983419c9</td>\n",
       "    </tr>\n",
       "    <tr>\n",
       "      <th>20</th>\n",
       "      <td>21</td>\n",
       "      <td>96.340729</td>\n",
       "      <td>0.143848</td>\n",
       "      <td>100.000000</td>\n",
       "      <td>0.000211</td>\n",
       "      <td>261.565215</td>\n",
       "      <td>8944f932-7278-40c9-96cb-2cf2983419c9</td>\n",
       "    </tr>\n",
       "    <tr>\n",
       "      <th>21</th>\n",
       "      <td>22</td>\n",
       "      <td>96.400719</td>\n",
       "      <td>0.143187</td>\n",
       "      <td>100.000000</td>\n",
       "      <td>0.000185</td>\n",
       "      <td>273.972665</td>\n",
       "      <td>8944f932-7278-40c9-96cb-2cf2983419c9</td>\n",
       "    </tr>\n",
       "    <tr>\n",
       "      <th>22</th>\n",
       "      <td>23</td>\n",
       "      <td>96.340729</td>\n",
       "      <td>0.144503</td>\n",
       "      <td>100.000000</td>\n",
       "      <td>0.000204</td>\n",
       "      <td>286.387124</td>\n",
       "      <td>8944f932-7278-40c9-96cb-2cf2983419c9</td>\n",
       "    </tr>\n",
       "    <tr>\n",
       "      <th>23</th>\n",
       "      <td>24</td>\n",
       "      <td>96.160767</td>\n",
       "      <td>0.148165</td>\n",
       "      <td>100.000000</td>\n",
       "      <td>0.000168</td>\n",
       "      <td>298.824902</td>\n",
       "      <td>8944f932-7278-40c9-96cb-2cf2983419c9</td>\n",
       "    </tr>\n",
       "    <tr>\n",
       "      <th>24</th>\n",
       "      <td>25</td>\n",
       "      <td>96.400719</td>\n",
       "      <td>0.143818</td>\n",
       "      <td>100.000000</td>\n",
       "      <td>0.000158</td>\n",
       "      <td>311.240445</td>\n",
       "      <td>8944f932-7278-40c9-96cb-2cf2983419c9</td>\n",
       "    </tr>\n",
       "    <tr>\n",
       "      <th>25</th>\n",
       "      <td>26</td>\n",
       "      <td>96.280739</td>\n",
       "      <td>0.146590</td>\n",
       "      <td>100.000000</td>\n",
       "      <td>0.000143</td>\n",
       "      <td>323.662673</td>\n",
       "      <td>8944f932-7278-40c9-96cb-2cf2983419c9</td>\n",
       "    </tr>\n",
       "    <tr>\n",
       "      <th>26</th>\n",
       "      <td>27</td>\n",
       "      <td>96.520691</td>\n",
       "      <td>0.144484</td>\n",
       "      <td>100.000000</td>\n",
       "      <td>0.000142</td>\n",
       "      <td>336.125834</td>\n",
       "      <td>8944f932-7278-40c9-96cb-2cf2983419c9</td>\n",
       "    </tr>\n",
       "    <tr>\n",
       "      <th>27</th>\n",
       "      <td>28</td>\n",
       "      <td>96.520691</td>\n",
       "      <td>0.145924</td>\n",
       "      <td>100.000000</td>\n",
       "      <td>0.000159</td>\n",
       "      <td>348.548363</td>\n",
       "      <td>8944f932-7278-40c9-96cb-2cf2983419c9</td>\n",
       "    </tr>\n",
       "    <tr>\n",
       "      <th>28</th>\n",
       "      <td>29</td>\n",
       "      <td>96.400719</td>\n",
       "      <td>0.145253</td>\n",
       "      <td>100.000000</td>\n",
       "      <td>0.000126</td>\n",
       "      <td>360.962846</td>\n",
       "      <td>8944f932-7278-40c9-96cb-2cf2983419c9</td>\n",
       "    </tr>\n",
       "    <tr>\n",
       "      <th>29</th>\n",
       "      <td>30</td>\n",
       "      <td>96.280739</td>\n",
       "      <td>0.146928</td>\n",
       "      <td>100.000000</td>\n",
       "      <td>0.000118</td>\n",
       "      <td>373.393283</td>\n",
       "      <td>8944f932-7278-40c9-96cb-2cf2983419c9</td>\n",
       "    </tr>\n",
       "    <tr>\n",
       "      <th>30</th>\n",
       "      <td>31</td>\n",
       "      <td>96.160767</td>\n",
       "      <td>0.145252</td>\n",
       "      <td>100.000000</td>\n",
       "      <td>0.000119</td>\n",
       "      <td>385.796580</td>\n",
       "      <td>8944f932-7278-40c9-96cb-2cf2983419c9</td>\n",
       "    </tr>\n",
       "    <tr>\n",
       "      <th>31</th>\n",
       "      <td>32</td>\n",
       "      <td>96.220749</td>\n",
       "      <td>0.145703</td>\n",
       "      <td>100.000000</td>\n",
       "      <td>0.000111</td>\n",
       "      <td>398.202702</td>\n",
       "      <td>8944f932-7278-40c9-96cb-2cf2983419c9</td>\n",
       "    </tr>\n",
       "    <tr>\n",
       "      <th>32</th>\n",
       "      <td>33</td>\n",
       "      <td>96.340729</td>\n",
       "      <td>0.147207</td>\n",
       "      <td>100.000000</td>\n",
       "      <td>0.000113</td>\n",
       "      <td>410.648419</td>\n",
       "      <td>8944f932-7278-40c9-96cb-2cf2983419c9</td>\n",
       "    </tr>\n",
       "    <tr>\n",
       "      <th>33</th>\n",
       "      <td>34</td>\n",
       "      <td>96.280739</td>\n",
       "      <td>0.144029</td>\n",
       "      <td>100.000000</td>\n",
       "      <td>0.000109</td>\n",
       "      <td>423.076787</td>\n",
       "      <td>8944f932-7278-40c9-96cb-2cf2983419c9</td>\n",
       "    </tr>\n",
       "    <tr>\n",
       "      <th>34</th>\n",
       "      <td>35</td>\n",
       "      <td>96.460701</td>\n",
       "      <td>0.147148</td>\n",
       "      <td>100.000000</td>\n",
       "      <td>0.000094</td>\n",
       "      <td>435.507638</td>\n",
       "      <td>8944f932-7278-40c9-96cb-2cf2983419c9</td>\n",
       "    </tr>\n",
       "    <tr>\n",
       "      <th>35</th>\n",
       "      <td>36</td>\n",
       "      <td>96.040787</td>\n",
       "      <td>0.145541</td>\n",
       "      <td>100.000000</td>\n",
       "      <td>0.000095</td>\n",
       "      <td>447.952087</td>\n",
       "      <td>8944f932-7278-40c9-96cb-2cf2983419c9</td>\n",
       "    </tr>\n",
       "    <tr>\n",
       "      <th>36</th>\n",
       "      <td>37</td>\n",
       "      <td>96.460701</td>\n",
       "      <td>0.145454</td>\n",
       "      <td>100.000000</td>\n",
       "      <td>0.000097</td>\n",
       "      <td>460.365693</td>\n",
       "      <td>8944f932-7278-40c9-96cb-2cf2983419c9</td>\n",
       "    </tr>\n",
       "    <tr>\n",
       "      <th>37</th>\n",
       "      <td>38</td>\n",
       "      <td>96.340729</td>\n",
       "      <td>0.145536</td>\n",
       "      <td>100.000000</td>\n",
       "      <td>0.000084</td>\n",
       "      <td>472.763558</td>\n",
       "      <td>8944f932-7278-40c9-96cb-2cf2983419c9</td>\n",
       "    </tr>\n",
       "    <tr>\n",
       "      <th>38</th>\n",
       "      <td>39</td>\n",
       "      <td>96.400719</td>\n",
       "      <td>0.146046</td>\n",
       "      <td>100.000000</td>\n",
       "      <td>0.000097</td>\n",
       "      <td>485.213348</td>\n",
       "      <td>8944f932-7278-40c9-96cb-2cf2983419c9</td>\n",
       "    </tr>\n",
       "    <tr>\n",
       "      <th>39</th>\n",
       "      <td>40</td>\n",
       "      <td>96.580681</td>\n",
       "      <td>0.145690</td>\n",
       "      <td>100.000000</td>\n",
       "      <td>0.000093</td>\n",
       "      <td>497.651102</td>\n",
       "      <td>8944f932-7278-40c9-96cb-2cf2983419c9</td>\n",
       "    </tr>\n",
       "    <tr>\n",
       "      <th>40</th>\n",
       "      <td>41</td>\n",
       "      <td>96.460701</td>\n",
       "      <td>0.145257</td>\n",
       "      <td>100.000000</td>\n",
       "      <td>0.000095</td>\n",
       "      <td>510.088896</td>\n",
       "      <td>8944f932-7278-40c9-96cb-2cf2983419c9</td>\n",
       "    </tr>\n",
       "    <tr>\n",
       "      <th>41</th>\n",
       "      <td>42</td>\n",
       "      <td>96.460701</td>\n",
       "      <td>0.148610</td>\n",
       "      <td>100.000000</td>\n",
       "      <td>0.000086</td>\n",
       "      <td>522.482785</td>\n",
       "      <td>8944f932-7278-40c9-96cb-2cf2983419c9</td>\n",
       "    </tr>\n",
       "    <tr>\n",
       "      <th>42</th>\n",
       "      <td>43</td>\n",
       "      <td>96.460701</td>\n",
       "      <td>0.145327</td>\n",
       "      <td>100.000000</td>\n",
       "      <td>0.000085</td>\n",
       "      <td>534.902021</td>\n",
       "      <td>8944f932-7278-40c9-96cb-2cf2983419c9</td>\n",
       "    </tr>\n",
       "    <tr>\n",
       "      <th>43</th>\n",
       "      <td>44</td>\n",
       "      <td>96.280739</td>\n",
       "      <td>0.147948</td>\n",
       "      <td>100.000000</td>\n",
       "      <td>0.000085</td>\n",
       "      <td>547.314896</td>\n",
       "      <td>8944f932-7278-40c9-96cb-2cf2983419c9</td>\n",
       "    </tr>\n",
       "    <tr>\n",
       "      <th>44</th>\n",
       "      <td>45</td>\n",
       "      <td>96.280739</td>\n",
       "      <td>0.145720</td>\n",
       "      <td>100.000000</td>\n",
       "      <td>0.000080</td>\n",
       "      <td>559.764837</td>\n",
       "      <td>8944f932-7278-40c9-96cb-2cf2983419c9</td>\n",
       "    </tr>\n",
       "    <tr>\n",
       "      <th>45</th>\n",
       "      <td>46</td>\n",
       "      <td>96.280739</td>\n",
       "      <td>0.145111</td>\n",
       "      <td>100.000000</td>\n",
       "      <td>0.000075</td>\n",
       "      <td>572.236226</td>\n",
       "      <td>8944f932-7278-40c9-96cb-2cf2983419c9</td>\n",
       "    </tr>\n",
       "    <tr>\n",
       "      <th>46</th>\n",
       "      <td>47</td>\n",
       "      <td>96.160767</td>\n",
       "      <td>0.147591</td>\n",
       "      <td>100.000000</td>\n",
       "      <td>0.000077</td>\n",
       "      <td>584.633315</td>\n",
       "      <td>8944f932-7278-40c9-96cb-2cf2983419c9</td>\n",
       "    </tr>\n",
       "    <tr>\n",
       "      <th>47</th>\n",
       "      <td>48</td>\n",
       "      <td>96.340729</td>\n",
       "      <td>0.145685</td>\n",
       "      <td>100.000000</td>\n",
       "      <td>0.000069</td>\n",
       "      <td>597.043001</td>\n",
       "      <td>8944f932-7278-40c9-96cb-2cf2983419c9</td>\n",
       "    </tr>\n",
       "    <tr>\n",
       "      <th>48</th>\n",
       "      <td>49</td>\n",
       "      <td>96.340729</td>\n",
       "      <td>0.145663</td>\n",
       "      <td>100.000000</td>\n",
       "      <td>0.000071</td>\n",
       "      <td>609.424189</td>\n",
       "      <td>8944f932-7278-40c9-96cb-2cf2983419c9</td>\n",
       "    </tr>\n",
       "    <tr>\n",
       "      <th>49</th>\n",
       "      <td>50</td>\n",
       "      <td>96.160767</td>\n",
       "      <td>0.148225</td>\n",
       "      <td>100.000000</td>\n",
       "      <td>0.000069</td>\n",
       "      <td>621.984196</td>\n",
       "      <td>8944f932-7278-40c9-96cb-2cf2983419c9</td>\n",
       "    </tr>\n",
       "  </tbody>\n",
       "</table>\n",
       "</div>"
      ],
      "text/plain": [
       "    epoch  val_prec1  val_loss  train_prec1  train_loss        time  \\\n",
       "0       1  45.590881  1.526674    40.299255    1.683716   12.516003   \n",
       "1       2  72.705460  0.769827    61.697163    1.054290   25.008404   \n",
       "2       3  80.563881  0.521347    72.817078    0.756402   37.408093   \n",
       "3       4  78.104378  0.636168    80.502647    0.540533   49.838872   \n",
       "4       5  74.325134  0.944316    86.833664    0.370249   62.287851   \n",
       "5       6  86.082779  0.440787    91.218277    0.242475   74.725360   \n",
       "6       7  75.044991  0.980243    95.261124    0.140761   87.130649   \n",
       "7       8  90.041992  0.327841    96.990791    0.086739   99.632607   \n",
       "8       9  90.101974  0.333994    98.332848    0.050824  112.222662   \n",
       "9      10  94.121170  0.228995    99.183098    0.027395  124.692114   \n",
       "10     11  95.320930  0.158350    99.687408    0.012092  137.193474   \n",
       "11     12  95.800835  0.158442    99.962494    0.002962  149.622051   \n",
       "12     13  95.800835  0.158827    99.991669    0.001269  162.041094   \n",
       "13     14  96.340729  0.147824   100.000000    0.000730  174.540274   \n",
       "14     15  96.280739  0.144224    99.995834    0.000563  186.958937   \n",
       "15     16  96.460701  0.142298   100.000000    0.000394  199.416020   \n",
       "16     17  96.280739  0.145164   100.000000    0.000303  211.809793   \n",
       "17     18  96.220749  0.149574   100.000000    0.000326  224.248676   \n",
       "18     19  96.400719  0.143188   100.000000    0.000252  236.725659   \n",
       "19     20  96.220749  0.146178   100.000000    0.000216  249.139457   \n",
       "20     21  96.340729  0.143848   100.000000    0.000211  261.565215   \n",
       "21     22  96.400719  0.143187   100.000000    0.000185  273.972665   \n",
       "22     23  96.340729  0.144503   100.000000    0.000204  286.387124   \n",
       "23     24  96.160767  0.148165   100.000000    0.000168  298.824902   \n",
       "24     25  96.400719  0.143818   100.000000    0.000158  311.240445   \n",
       "25     26  96.280739  0.146590   100.000000    0.000143  323.662673   \n",
       "26     27  96.520691  0.144484   100.000000    0.000142  336.125834   \n",
       "27     28  96.520691  0.145924   100.000000    0.000159  348.548363   \n",
       "28     29  96.400719  0.145253   100.000000    0.000126  360.962846   \n",
       "29     30  96.280739  0.146928   100.000000    0.000118  373.393283   \n",
       "30     31  96.160767  0.145252   100.000000    0.000119  385.796580   \n",
       "31     32  96.220749  0.145703   100.000000    0.000111  398.202702   \n",
       "32     33  96.340729  0.147207   100.000000    0.000113  410.648419   \n",
       "33     34  96.280739  0.144029   100.000000    0.000109  423.076787   \n",
       "34     35  96.460701  0.147148   100.000000    0.000094  435.507638   \n",
       "35     36  96.040787  0.145541   100.000000    0.000095  447.952087   \n",
       "36     37  96.460701  0.145454   100.000000    0.000097  460.365693   \n",
       "37     38  96.340729  0.145536   100.000000    0.000084  472.763558   \n",
       "38     39  96.400719  0.146046   100.000000    0.000097  485.213348   \n",
       "39     40  96.580681  0.145690   100.000000    0.000093  497.651102   \n",
       "40     41  96.460701  0.145257   100.000000    0.000095  510.088896   \n",
       "41     42  96.460701  0.148610   100.000000    0.000086  522.482785   \n",
       "42     43  96.460701  0.145327   100.000000    0.000085  534.902021   \n",
       "43     44  96.280739  0.147948   100.000000    0.000085  547.314896   \n",
       "44     45  96.280739  0.145720   100.000000    0.000080  559.764837   \n",
       "45     46  96.280739  0.145111   100.000000    0.000075  572.236226   \n",
       "46     47  96.160767  0.147591   100.000000    0.000077  584.633315   \n",
       "47     48  96.340729  0.145685   100.000000    0.000069  597.043001   \n",
       "48     49  96.340729  0.145663   100.000000    0.000071  609.424189   \n",
       "49     50  96.160767  0.148225   100.000000    0.000069  621.984196   \n",
       "\n",
       "                                  exp_id  \n",
       "0   8944f932-7278-40c9-96cb-2cf2983419c9  \n",
       "1   8944f932-7278-40c9-96cb-2cf2983419c9  \n",
       "2   8944f932-7278-40c9-96cb-2cf2983419c9  \n",
       "3   8944f932-7278-40c9-96cb-2cf2983419c9  \n",
       "4   8944f932-7278-40c9-96cb-2cf2983419c9  \n",
       "5   8944f932-7278-40c9-96cb-2cf2983419c9  \n",
       "6   8944f932-7278-40c9-96cb-2cf2983419c9  \n",
       "7   8944f932-7278-40c9-96cb-2cf2983419c9  \n",
       "8   8944f932-7278-40c9-96cb-2cf2983419c9  \n",
       "9   8944f932-7278-40c9-96cb-2cf2983419c9  \n",
       "10  8944f932-7278-40c9-96cb-2cf2983419c9  \n",
       "11  8944f932-7278-40c9-96cb-2cf2983419c9  \n",
       "12  8944f932-7278-40c9-96cb-2cf2983419c9  \n",
       "13  8944f932-7278-40c9-96cb-2cf2983419c9  \n",
       "14  8944f932-7278-40c9-96cb-2cf2983419c9  \n",
       "15  8944f932-7278-40c9-96cb-2cf2983419c9  \n",
       "16  8944f932-7278-40c9-96cb-2cf2983419c9  \n",
       "17  8944f932-7278-40c9-96cb-2cf2983419c9  \n",
       "18  8944f932-7278-40c9-96cb-2cf2983419c9  \n",
       "19  8944f932-7278-40c9-96cb-2cf2983419c9  \n",
       "20  8944f932-7278-40c9-96cb-2cf2983419c9  \n",
       "21  8944f932-7278-40c9-96cb-2cf2983419c9  \n",
       "22  8944f932-7278-40c9-96cb-2cf2983419c9  \n",
       "23  8944f932-7278-40c9-96cb-2cf2983419c9  \n",
       "24  8944f932-7278-40c9-96cb-2cf2983419c9  \n",
       "25  8944f932-7278-40c9-96cb-2cf2983419c9  \n",
       "26  8944f932-7278-40c9-96cb-2cf2983419c9  \n",
       "27  8944f932-7278-40c9-96cb-2cf2983419c9  \n",
       "28  8944f932-7278-40c9-96cb-2cf2983419c9  \n",
       "29  8944f932-7278-40c9-96cb-2cf2983419c9  \n",
       "30  8944f932-7278-40c9-96cb-2cf2983419c9  \n",
       "31  8944f932-7278-40c9-96cb-2cf2983419c9  \n",
       "32  8944f932-7278-40c9-96cb-2cf2983419c9  \n",
       "33  8944f932-7278-40c9-96cb-2cf2983419c9  \n",
       "34  8944f932-7278-40c9-96cb-2cf2983419c9  \n",
       "35  8944f932-7278-40c9-96cb-2cf2983419c9  \n",
       "36  8944f932-7278-40c9-96cb-2cf2983419c9  \n",
       "37  8944f932-7278-40c9-96cb-2cf2983419c9  \n",
       "38  8944f932-7278-40c9-96cb-2cf2983419c9  \n",
       "39  8944f932-7278-40c9-96cb-2cf2983419c9  \n",
       "40  8944f932-7278-40c9-96cb-2cf2983419c9  \n",
       "41  8944f932-7278-40c9-96cb-2cf2983419c9  \n",
       "42  8944f932-7278-40c9-96cb-2cf2983419c9  \n",
       "43  8944f932-7278-40c9-96cb-2cf2983419c9  \n",
       "44  8944f932-7278-40c9-96cb-2cf2983419c9  \n",
       "45  8944f932-7278-40c9-96cb-2cf2983419c9  \n",
       "46  8944f932-7278-40c9-96cb-2cf2983419c9  \n",
       "47  8944f932-7278-40c9-96cb-2cf2983419c9  \n",
       "48  8944f932-7278-40c9-96cb-2cf2983419c9  \n",
       "49  8944f932-7278-40c9-96cb-2cf2983419c9  "
      ]
     },
     "execution_count": 40,
     "metadata": {},
     "output_type": "execute_result"
    }
   ],
   "source": [
    "reader = CollectionReader(STANDARD_CLASSIFIER)\n",
    "metadata = reader.df('metadata')\n",
    "logs = reader.df('logs')\n",
    "reader.close()\n",
    "logs"
   ]
  },
  {
   "cell_type": "code",
   "execution_count": 73,
   "metadata": {},
   "outputs": [
    {
     "data": {
      "image/png": "[encoded data removed]",
      "text/plain": [
       "<Figure size 432x288 with 1 Axes>"
      ]
     },
     "metadata": {
      "needs_background": "light"
     },
     "output_type": "display_data"
    },
    {
     "data": {
      "text/plain": [
       "<AxesSubplot:xlabel='epoch', ylabel='train_prec1'>"
      ]
     },
     "execution_count": 73,
     "metadata": {},
     "output_type": "execute_result"
    },
    {
     "data": {
      "image/png": "[encoded data removed]",
      "text/plain": [
       "<Figure size 432x288 with 1 Axes>"
      ]
     },
     "metadata": {
      "needs_background": "light"
     },
     "output_type": "display_data"
    }
   ],
   "source": [
    "sns.lineplot(data=logs, x='epoch', y='train_loss', label='train trunc loss')\n",
    "sns.lineplot(data=logs, x='epoch', y='val_loss', label='val trunc loss')\n",
    "plt.show()\n",
    "\n",
    "sns.lineplot(data=logs, x='epoch', y='train_prec1', label='train trunc acc')\n",
    "sns.lineplot(data=logs, x='epoch', y='val_prec1', label='val trunc acc')"
   ]
  },
  {
   "cell_type": "markdown",
   "metadata": {},
   "source": [
    "# Load Trained Models into Notebook"
   ]
  },
  {
   "cell_type": "code",
   "execution_count": 42,
   "metadata": {},
   "outputs": [
    {
     "name": "stdout",
     "output_type": "stream",
     "text": [
      "=> loading checkpoint '/home/pstefanou/cifar-10/resnet-18/base_calibrated_/e4476e64-c5bb-4d8a-b2bc-299aed256e88/checkpoint.pt.latest'\n",
      "=> loaded checkpoint '/home/pstefanou/cifar-10/resnet-18/base_calibrated_/e4476e64-c5bb-4d8a-b2bc-299aed256e88/checkpoint.pt.latest' (epoch 50)\n",
      "=> loading checkpoint '/home/pstefanou/cifar-10/resnet-18/trunc_ce_step_lr_50epochs/73765c3f-f6fe-42bc-ae4c-be73ada89fe0/checkpoint.pt.latest'\n",
      "=> loaded checkpoint '/home/pstefanou/cifar-10/resnet-18/trunc_ce_step_lr_50epochs/73765c3f-f6fe-42bc-ae4c-be73ada89fe0/checkpoint.pt.latest' (epoch 50)\n",
      "=> loading checkpoint '/home/pstefanou/cifar-10/resnet-18/standard_step_lr_50epochs/8944f932-7278-40c9-96cb-2cf2983419c9/checkpoint.pt.latest'\n",
      "=> loaded checkpoint '/home/pstefanou/cifar-10/resnet-18/standard_step_lr_50epochs/8944f932-7278-40c9-96cb-2cf2983419c9/checkpoint.pt.latest' (epoch 50)\n"
     ]
    }
   ],
   "source": [
    "base, _ = model_utils.make_and_restore_model(arch='resnet18', dataset=ds, resume_path=BASE_CLASSIFIER_PATH)\n",
    "delphi_, _ = model_utils.make_and_restore_model(arch='resnet18', dataset=ds, resume_path=LOGIT_BALL_CLASSIFIER + '/73765c3f-f6fe-42bc-ae4c-be73ada89fe0/checkpoint.pt.latest')\n",
    "standard_model, _ =  model_utils.make_and_restore_model(arch='resnet18', dataset=ds, resume_path=STANDARD_CLASSIFIER + '/8944f932-7278-40c9-96cb-2cf2983419c9/checkpoint.pt.latest')"
   ]
  },
  {
   "cell_type": "markdown",
   "metadata": {},
   "source": [
    "# Test Accuracy"
   ]
  },
  {
   "cell_type": "code",
   "execution_count": 43,
   "metadata": {},
   "outputs": [
    {
     "name": "stdout",
     "output_type": "stream",
     "text": [
      "Logging in: /home/pstefanou/cifar-10/resnet-18/trunc_ce_step_lr_50epochs/c87fbc15-08a2-4267-96c5-33ae7b95fca9\n"
     ]
    }
   ],
   "source": [
    "delphi_store = store.Store(LOGIT_BALL_CLASSIFIER)"
   ]
  },
  {
   "cell_type": "code",
   "execution_count": 44,
   "metadata": {},
   "outputs": [
    {
     "data": {
      "application/vnd.jupyter.widget-view+json": {
       "model_id": "",
       "version_major": 2,
       "version_minor": 0
      },
      "text/plain": [
       "  0%|          | 0/191 [00:00<?, ?it/s]"
      ]
     },
     "metadata": {},
     "output_type": "display_data"
    },
    {
     "name": "stdout",
     "output_type": "stream",
     "text": [
      "delphi unseen results:  {'test_prec1': tensor(67.7979, device='cuda:0'), 'test_loss': 1.7303702126199727, 'time': 4.064807415008545}\n"
     ]
    },
    {
     "data": {
      "application/vnd.jupyter.widget-view+json": {
       "model_id": "",
       "version_major": 2,
       "version_minor": 0
      },
      "text/plain": [
       "  0%|          | 0/79 [00:00<?, ?it/s]"
      ]
     },
     "metadata": {},
     "output_type": "display_data"
    },
    {
     "name": "stdout",
     "output_type": "stream",
     "text": [
      "delphi test results:  {'test_prec1': tensor(75.7000, device='cuda:0'), 'test_loss': 1.2806125955581664, 'time': 1.656463861465454}\n"
     ]
    },
    {
     "data": {
      "application/vnd.jupyter.widget-view+json": {
       "model_id": "",
       "version_major": 2,
       "version_minor": 0
      },
      "text/plain": [
       "  0%|          | 0/188 [00:00<?, ?it/s]"
      ]
     },
     "metadata": {},
     "output_type": "display_data"
    },
    {
     "name": "stdout",
     "output_type": "stream",
     "text": [
      "delphi train results:  {'test_prec1': tensor(99.9833, device='cuda:0'), 'test_loss': 0.003076611882174432, 'time': 3.9223904609680176}\n"
     ]
    },
    {
     "data": {
      "application/vnd.jupyter.widget-view+json": {
       "model_id": "",
       "version_major": 2,
       "version_minor": 0
      },
      "text/plain": [
       "  0%|          | 0/14 [00:00<?, ?it/s]"
      ]
     },
     "metadata": {},
     "output_type": "display_data"
    },
    {
     "name": "stdout",
     "output_type": "stream",
     "text": [
      "delphi val results:  {'test_prec1': tensor(95.8008, device='cuda:0'), 'test_loss': 0.17259477689051045, 'time': 0.734553337097168}\n"
     ]
    }
   ],
   "source": [
    "delphi_unseen_results = train.eval_model(args, delphi_, trunc_test_loader, delphi_store)\n",
    "print(\"delphi unseen results: \", delphi_unseen_results)\n",
    "\n",
    "delphi_test_results = train.eval_model(args, delphi_, test_loader, delphi_store)\n",
    "print(\"delphi test results: \", delphi_test_results)\n",
    "\n",
    "delphi_train_results = train.eval_model(args, delphi_, trunc_train_loader, delphi_store)\n",
    "print(\"delphi train results: \", delphi_train_results)\n",
    "\n",
    "delphi_val_results = train.eval_model(args, delphi_, trunc_val_loader, delphi_store)\n",
    "print(\"delphi val results: \", delphi_val_results)\n",
    "delphi_store.close()"
   ]
  },
  {
   "cell_type": "code",
   "execution_count": 45,
   "metadata": {},
   "outputs": [
    {
     "name": "stdout",
     "output_type": "stream",
     "text": [
      "Logging in: /home/pstefanou/cifar-10/resnet-18/base_calibrated_/82d2b83f-a31f-449f-ac58-c6b127b72b98\n"
     ]
    }
   ],
   "source": [
    "base_store = store.Store(BASE_CLASSIFIER)"
   ]
  },
  {
   "cell_type": "code",
   "execution_count": 46,
   "metadata": {},
   "outputs": [
    {
     "data": {
      "application/vnd.jupyter.widget-view+json": {
       "model_id": "",
       "version_major": 2,
       "version_minor": 0
      },
      "text/plain": [
       "  0%|          | 0/191 [00:00<?, ?it/s]"
      ]
     },
     "metadata": {},
     "output_type": "display_data"
    },
    {
     "name": "stdout",
     "output_type": "stream",
     "text": [
      "base unseen results:  {'test_prec1': tensor(97.7732, device='cuda:0'), 'test_loss': 0.07419560985944265, 'time': 4.054065942764282}\n"
     ]
    },
    {
     "data": {
      "application/vnd.jupyter.widget-view+json": {
       "model_id": "",
       "version_major": 2,
       "version_minor": 0
      },
      "text/plain": [
       "  0%|          | 0/79 [00:00<?, ?it/s]"
      ]
     },
     "metadata": {},
     "output_type": "display_data"
    },
    {
     "name": "stdout",
     "output_type": "stream",
     "text": [
      "base test results:  {'test_prec1': tensor(88.2300, device='cuda:0'), 'test_loss': 0.38766819829940796, 'time': 1.66805100440979}\n"
     ]
    },
    {
     "data": {
      "application/vnd.jupyter.widget-view+json": {
       "model_id": "",
       "version_major": 2,
       "version_minor": 0
      },
      "text/plain": [
       "  0%|          | 0/188 [00:00<?, ?it/s]"
      ]
     },
     "metadata": {},
     "output_type": "display_data"
    },
    {
     "name": "stdout",
     "output_type": "stream",
     "text": [
      "base train results:  {'test_prec1': tensor(100., device='cuda:0'), 'test_loss': 0.00041348976352267516, 'time': 3.870546340942383}\n"
     ]
    },
    {
     "data": {
      "application/vnd.jupyter.widget-view+json": {
       "model_id": "",
       "version_major": 2,
       "version_minor": 0
      },
      "text/plain": [
       "  0%|          | 0/14 [00:00<?, ?it/s]"
      ]
     },
     "metadata": {},
     "output_type": "display_data"
    },
    {
     "name": "stdout",
     "output_type": "stream",
     "text": [
      "base val results:  {'test_prec1': tensor(99.5801, device='cuda:0'), 'test_loss': 0.033390128673861576, 'time': 0.7278604507446289}\n"
     ]
    }
   ],
   "source": [
    "base_unseen_results = train.eval_model(args, base, trunc_test_loader, base_store)\n",
    "print(\"base unseen results: \", base_unseen_results)\n",
    "\n",
    "base_test_results = train.eval_model(args, base, test_loader, base_store)\n",
    "print(\"base test results: \", base_test_results)\n",
    "\n",
    "base_train_results = train.eval_model(args, base, trunc_train_loader, base_store)\n",
    "print(\"base train results: \", base_train_results)\n",
    "\n",
    "base_val_results = train.eval_model(args, base, trunc_val_loader, base_store)\n",
    "print(\"base val results: \", base_val_results)\n",
    "base_store.close()"
   ]
  },
  {
   "cell_type": "code",
   "execution_count": 47,
   "metadata": {},
   "outputs": [
    {
     "name": "stdout",
     "output_type": "stream",
     "text": [
      "Logging in: /home/pstefanou/cifar-10/resnet-18/standard_step_lr_50epochs/8c328021-98f8-47cc-a58a-267767988323\n"
     ]
    }
   ],
   "source": [
    "standard_store = store.Store(STANDARD_CLASSIFIER)"
   ]
  },
  {
   "cell_type": "code",
   "execution_count": 48,
   "metadata": {},
   "outputs": [
    {
     "data": {
      "application/vnd.jupyter.widget-view+json": {
       "model_id": "",
       "version_major": 2,
       "version_minor": 0
      },
      "text/plain": [
       "  0%|          | 0/191 [00:00<?, ?it/s]"
      ]
     },
     "metadata": {},
     "output_type": "display_data"
    },
    {
     "name": "stdout",
     "output_type": "stream",
     "text": [
      "standard unseen results:  {'test_prec1': tensor(70.6204, device='cuda:0'), 'test_loss': 1.4577881422215244, 'time': 4.052046060562134}\n"
     ]
    },
    {
     "data": {
      "application/vnd.jupyter.widget-view+json": {
       "model_id": "",
       "version_major": 2,
       "version_minor": 0
      },
      "text/plain": [
       "  0%|          | 0/79 [00:00<?, ?it/s]"
      ]
     },
     "metadata": {},
     "output_type": "display_data"
    },
    {
     "name": "stdout",
     "output_type": "stream",
     "text": [
      "standard test results:  {'test_prec1': tensor(77.9600, device='cuda:0'), 'test_loss': 1.0855117395401002, 'time': 1.6756796836853027}\n"
     ]
    },
    {
     "data": {
      "application/vnd.jupyter.widget-view+json": {
       "model_id": "",
       "version_major": 2,
       "version_minor": 0
      },
      "text/plain": [
       "  0%|          | 0/188 [00:00<?, ?it/s]"
      ]
     },
     "metadata": {},
     "output_type": "display_data"
    },
    {
     "name": "stdout",
     "output_type": "stream",
     "text": [
      "standard train results:  {'test_prec1': tensor(100., device='cuda:0'), 'test_loss': 2.5264574630418743e-05, 'time': 3.8607800006866455}\n"
     ]
    },
    {
     "data": {
      "application/vnd.jupyter.widget-view+json": {
       "model_id": "",
       "version_major": 2,
       "version_minor": 0
      },
      "text/plain": [
       "  0%|          | 0/14 [00:00<?, ?it/s]"
      ]
     },
     "metadata": {},
     "output_type": "display_data"
    },
    {
     "name": "stdout",
     "output_type": "stream",
     "text": [
      "standard val results:  {'test_prec1': tensor(96.1608, device='cuda:0'), 'test_loss': 0.14822543228804774, 'time': 0.7266895771026611}\n"
     ]
    }
   ],
   "source": [
    "standard_unseen_results = train.eval_model(args, standard_model, trunc_test_loader, standard_store)\n",
    "print(\"standard unseen results: \", standard_unseen_results)\n",
    "\n",
    "standard_test_results = train.eval_model(args, standard_model, test_loader, standard_store)\n",
    "print(\"standard test results: \", standard_test_results)\n",
    "\n",
    "standard_train_results = train.eval_model(args, standard_model, trunc_train_loader, standard_store)\n",
    "print(\"standard train results: \", standard_train_results)\n",
    "\n",
    "standard_val_results = train.eval_model(args, standard_model, trunc_val_loader, standard_store)\n",
    "print(\"standard val results: \", standard_val_results)\n",
    "standard_store.close()"
   ]
  },
  {
   "cell_type": "code",
   "execution_count": 49,
   "metadata": {},
   "outputs": [
    {
     "name": "stdout",
     "output_type": "stream",
     "text": [
      "Logging in: /home/pstefanou/cifar-10/resnet-18/trunc_ce_step_lr_50epochs/e9b23382-a21a-42c6-9982-65488d3b1835\n"
     ]
    }
   ],
   "source": [
    "delphi_store = store.Store(LOGIT_BALL_CLASSIFIER)"
   ]
  },
  {
   "cell_type": "code",
   "execution_count": 50,
   "metadata": {},
   "outputs": [],
   "source": [
    "delphi_store.close()"
   ]
  },
  {
   "cell_type": "code",
   "execution_count": 51,
   "metadata": {},
   "outputs": [
    {
     "name": "stderr",
     "output_type": "stream",
     "text": [
      "100%|██████████| 3/3 [00:00<00:00, 104.33it/s]\n"
     ]
    }
   ],
   "source": [
    "reader = CollectionReader(LOGIT_BALL_CLASSIFIER)"
   ]
  },
  {
   "cell_type": "code",
   "execution_count": 53,
   "metadata": {},
   "outputs": [
    {
     "name": "stdout",
     "output_type": "stream",
     "text": [
      "Warning: exp_id e9b23382-a21a-42c6-9982-65488d3b1835 has no table 'eval'. Skipping.\n",
      "Warning: exp_id 73765c3f-f6fe-42bc-ae4c-be73ada89fe0 has no table 'eval'. Skipping.\n"
     ]
    },
    {
     "data": {
      "text/plain": [
       "4"
      ]
     },
     "execution_count": 53,
     "metadata": {},
     "output_type": "execute_result"
    }
   ],
   "source": []
  }
 ],
 "metadata": {
  "kernelspec": {
   "display_name": "Python [conda env:root] *",
   "language": "python",
   "name": "conda-root-py"
  },
  "language_info": {
   "codemirror_mode": {
    "name": "ipython",
    "version": 3
   },
   "file_extension": ".py",
   "mimetype": "text/x-python",
   "name": "python",
   "nbconvert_exporter": "python",
   "pygments_lexer": "ipython3",
   "version": "3.8.5"
  },
  "latex_envs": {
   "LaTeX_envs_menu_present": true,
   "autoclose": false,
   "autocomplete": true,
   "bibliofile": "biblio.bib",
   "cite_by": "apalike",
   "current_citInitial": 1,
   "eqLabelWithNumbers": true,
   "eqNumInitial": 1,
   "hotkeys": {
    "equation": "Ctrl-E",
    "itemize": "Ctrl-I"
   },
   "labels_anchors": false,
   "latex_user_defs": false,
   "report_style_numbering": false,
   "user_envs_cfg": false
  },
  "toc": {
   "base_numbering": 1,
   "nav_menu": {},
   "number_sections": true,
   "sideBar": true,
   "skip_h1_title": false,
   "title_cell": "Table of Contents",
   "title_sidebar": "Contents",
   "toc_cell": false,
   "toc_position": {},
   "toc_section_display": true,
   "toc_window_display": false
  },
  "varInspector": {
   "cols": {
    "lenName": 16,
    "lenType": 16,
    "lenVar": 40
   },
   "kernels_config": {
    "python": {
     "delete_cmd_postfix": "",
     "delete_cmd_prefix": "del ",
     "library": "var_list.py",
     "varRefreshCmd": "print(var_dic_list())"
    },
    "r": {
     "delete_cmd_postfix": ") ",
     "delete_cmd_prefix": "rm(",
     "library": "var_list.r",
     "varRefreshCmd": "cat(var_dic_list()) "
    }
   },
   "types_to_exclude": [
    "module",
    "function",
    "builtin_function_or_method",
    "instance",
    "_Feature"
   ],
   "window_display": false
  }
 },
 "nbformat": 4,
 "nbformat_minor": 2
}
