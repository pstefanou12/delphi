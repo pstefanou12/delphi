{
 "cells": [
  {
   "cell_type": "code",
   "execution_count": 112,
   "metadata": {},
   "outputs": [],
   "source": [
    "import sys\n",
    "sys.path.append('../..')\n",
    "import torchvision \n",
    "from torchvision import transforms\n",
    "from torch.utils.data import DataLoader, Dataset\n",
    "import torch as ch\n",
    "import torch.nn as nn\n",
    "from torch import Tensor\n",
    "from torch.distributions import Gumbel\n",
    "import math\n",
    "import numpy as np\n",
    "import matplotlib.pyplot as plt\n",
    "import cox\n",
    "from cox.utils import Parameters\n",
    "import cox.store as store\n",
    "from cox.readers import CollectionReader\n",
    "import seaborn as sns\n",
    "import os\n",
    "import config\n",
    "\n",
    "from delphi import train\n",
    "from delphi.cifar_models import vgg11\n",
    "from delphi.utils import model_utils\n",
    "from delphi import grad\n",
    "from delphi import oracle\n",
    "from delphi.utils.datasets import CIFAR, ImageNet\n",
    "import delphi.utils.constants as consts\n",
    "import delphi.utils.data_augmentation as da\n",
    "from delphi.utils.helpers import setup_store_with_metadata\n",
    "import pickle\n",
    "import pandas as pd\n",
    "\n",
    "# set environment variable so that stores can create output files\n",
    "os.environ['HDF5_USE_FILE_LOCKING'] = 'FALSE'\n",
    "\n",
    "# noise distributions\n",
    "gumbel = Gumbel(0, 1)\n",
    "num_classes = 10\n",
    "\n",
    "# file path constants\n",
    "BASE_CLASSIFIER = '/home/pstefanou/cifar-10/resnet-18/base_calibrated_'\n",
    "BASE_CLASSIFIER_PATH = BASE_CLASSIFIER + '/5eb67274-bd07-4830-9a59-d406f3bcf3d7/checkpoint.pt.latest'\n",
    "PRETRAINED_MODEL = '/home/pstefanou/cifar-10/resnet-18/pre_train_new'\n",
    "LOGIT_BALL_CLASSIFIER = '/home/pstefanou/cifar-10/resnet-18/trunc_new'\n",
    "STANDARD_CLASSIFIER = '/home/pstefanou/cifar-10/resnet-18/standard_new'\n",
    "DATA_PATH = '/home/pstefanou/data/'\n",
    "TRUNC_TRAIN_DATASET = 'trunc_train_calibrated_logit__'\n",
    "TRUNC_VAL_DATASET = 'trunc_val_calibrated_logit__'\n",
    "TRUNC_TEST_DATASET = 'trunc_test_calibrated_logit__'\n",
    "\n",
    "# helper dataset\n",
    "class TruncatedCIFAR(Dataset):\n",
    "    \"\"\"\n",
    "    Truncated CIFAR-10 dataset [Kri09]_.\n",
    "    Original dataset has 50k training images and 10k testing images, with the\n",
    "    following classes:\n",
    "    * Airplane\n",
    "    * Automobile\n",
    "    * Bird\n",
    "    * Cat\n",
    "    * Deer\n",
    "    * Dog\n",
    "    * Frog\n",
    "    * Horse\n",
    "    * Ship\n",
    "    * Truck\n",
    "    .. [Kri09] Krizhevsky, A (2009). Learning Multiple Layers of Features\n",
    "        from Tiny Images. Technical Report.\n",
    "        \n",
    "    Truncated dataset only includes images and labels from original dataset that fall within the truncation set.\n",
    "    \"\"\"\n",
    "    def __init__(self, img, label, transform = None):\n",
    "        \"\"\"\n",
    "        \"\"\"\n",
    "        self.img = img \n",
    "        self.label = label\n",
    "        self.transform = transform\n",
    "\n",
    "    def __getitem__(self, idx):\n",
    "        \"\"\"\n",
    "        \"\"\"\n",
    "        x = self.img[idx]\n",
    "        y = self.label[idx]\n",
    "        # data augmentation\n",
    "        if self.transform: \n",
    "            x = self.transform(x)\n",
    "            \n",
    "        return x, y\n",
    "    \n",
    "    def __len__(self): \n",
    "        return self.img.size(0)\n",
    "transform_ = transforms.Compose(\n",
    "    [transforms.ToTensor()])\n",
    "\n",
    "# hyperparameters\n",
    "args = Parameters({ \n",
    "    'epochs': 25,\n",
    "    'workers': 8, \n",
    "    'batch_size': 128, \n",
    "    'lr': 1e-1, \n",
    "    'accuracy': True,\n",
    "    'momentum': 0.9, \n",
    "    'weight_decay': 0.0, \n",
    "    'save_ckpt_iters': 50,\n",
    "    'should_save_ckpt': True,\n",
    "    'log_iters': 1,\n",
    "    'step_lr': 1, \n",
    "    'step_lr_gamma': 1.0,\n",
    "    'custom_lr_multiplier': consts.CYCLIC, \n",
    "    'validation_split': .8,\n",
    "    'shuffle': True,\n",
    "    'parallel': False, \n",
    "    'num_samples': 1000,\n",
    "    'logit_ball': 7.5,\n",
    "    'trials': 5,\n",
    "    'step_lr': 10, \n",
    "    'step_lr_gamma': 1.0,\n",
    "    'weight_decay': 5e-4, \n",
    "    'temperature': nn.Parameter(ch.ones(1).cuda()),\n",
    "    'device': 'cuda' if ch.cuda.is_available() else 'cpu'\n",
    "})"
   ]
  },
  {
   "cell_type": "markdown",
   "metadata": {},
   "source": [
    "# Setup and Explore Dataset"
   ]
  },
  {
   "cell_type": "code",
   "execution_count": 79,
   "metadata": {},
   "outputs": [],
   "source": [
    "ds = CIFAR(data_path='/home/pstefanou/')\n",
    "# train_loader, val_loader = ds.make_loaders(batch_size=128, workers=8, data_aug=False)"
   ]
  },
  {
   "cell_type": "code",
   "execution_count": 105,
   "metadata": {},
   "outputs": [],
   "source": [
    "import torchvision \n",
    "dataset = torchvision.datasets.CIFAR10(root='/home/pstefanou/', train=True,\n",
    "                                        download=False, transform=transform_)\n",
    "\n",
    "train_set, val_set = ch.utils.data.random_split(dataset, [45000, 5000])\n",
    "\n",
    "train_loader = ch.utils.data.DataLoader(train_set, batch_size=128,\n",
    "                                          shuffle=True, num_workers=2)\n",
    "\n",
    "val_loader = ch.utils.data.DataLoader(val_set, batch_size=128,\n",
    "                                          shuffle=True, num_workers=2)\n",
    "\n",
    "test_set = torchvision.datasets.CIFAR10(root='/home/pstefanou/', train=False,\n",
    "                                       download=False, transform=transform_)\n",
    "test_loader = ch.utils.data.DataLoader(test_set, batch_size=128,\n",
    "                                         shuffle=False, num_workers=2)"
   ]
  },
  {
   "cell_type": "code",
   "execution_count": 81,
   "metadata": {},
   "outputs": [
    {
     "name": "stdout",
     "output_type": "stream",
     "text": [
      "label: automobile\n"
     ]
    },
    {
     "data": {
      "image/png": "[encoded data removed]",
      "text/plain": [
       "<Figure size 432x288 with 1 Axes>"
      ]
     },
     "metadata": {
      "needs_background": "light"
     },
     "output_type": "display_data"
    },
    {
     "name": "stdout",
     "output_type": "stream",
     "text": [
      "label: airplane\n"
     ]
    },
    {
     "data": {
      "image/png": "[encoded data removed]",
      "text/plain": [
       "<Figure size 432x288 with 1 Axes>"
      ]
     },
     "metadata": {
      "needs_background": "light"
     },
     "output_type": "display_data"
    },
    {
     "name": "stdout",
     "output_type": "stream",
     "text": [
      "label: deer\n"
     ]
    },
    {
     "data": {
      "image/png": "[encoded data removed]",
      "text/plain": [
       "<Figure size 432x288 with 1 Axes>"
      ]
     },
     "metadata": {
      "needs_background": "light"
     },
     "output_type": "display_data"
    },
    {
     "name": "stdout",
     "output_type": "stream",
     "text": [
      "label: dog\n"
     ]
    },
    {
     "data": {
      "image/png": "[encoded data removed]",
      "text/plain": [
       "<Figure size 432x288 with 1 Axes>"
      ]
     },
     "metadata": {
      "needs_background": "light"
     },
     "output_type": "display_data"
    },
    {
     "name": "stdout",
     "output_type": "stream",
     "text": [
      "label: frog\n"
     ]
    },
    {
     "data": {
      "image/png": "[encoded data removed]",
      "text/plain": [
       "<Figure size 432x288 with 1 Axes>"
      ]
     },
     "metadata": {
      "needs_background": "light"
     },
     "output_type": "display_data"
    },
    {
     "name": "stdout",
     "output_type": "stream",
     "text": [
      "label: ship\n"
     ]
    },
    {
     "data": {
      "image/png": "[encoded data removed]",
      "text/plain": [
       "<Figure size 432x288 with 1 Axes>"
      ]
     },
     "metadata": {
      "needs_background": "light"
     },
     "output_type": "display_data"
    },
    {
     "name": "stdout",
     "output_type": "stream",
     "text": [
      "label: truck\n"
     ]
    },
    {
     "data": {
      "image/png": "[encoded data removed]",
      "text/plain": [
       "<Figure size 432x288 with 1 Axes>"
      ]
     },
     "metadata": {
      "needs_background": "light"
     },
     "output_type": "display_data"
    },
    {
     "name": "stdout",
     "output_type": "stream",
     "text": [
      "label: horse\n"
     ]
    },
    {
     "data": {
      "image/png": "[encoded data removed]",
      "text/plain": [
       "<Figure size 432x288 with 1 Axes>"
      ]
     },
     "metadata": {
      "needs_background": "light"
     },
     "output_type": "display_data"
    },
    {
     "name": "stdout",
     "output_type": "stream",
     "text": [
      "label: bird\n"
     ]
    },
    {
     "data": {
      "image/png": "[encoded data removed]",
      "text/plain": [
       "<Figure size 432x288 with 1 Axes>"
      ]
     },
     "metadata": {
      "needs_background": "light"
     },
     "output_type": "display_data"
    },
    {
     "name": "stdout",
     "output_type": "stream",
     "text": [
      "label: cat\n"
     ]
    },
    {
     "data": {
      "image/png": "[encoded data removed]",
      "text/plain": [
       "<Figure size 432x288 with 1 Axes>"
      ]
     },
     "metadata": {
      "needs_background": "light"
     },
     "output_type": "display_data"
    }
   ],
   "source": [
    "labels = {i for i in range(10)}\n",
    "for image, target in train_loader: \n",
    "    for j in range(len(target)): \n",
    "        im, targ = image[j], target[j]\n",
    "        if targ.item() in labels: \n",
    "            print(\"label: {}\".format(da.CIFAR_LABELS[targ.item()]))\n",
    "            plt.imshow(transforms.ToPILImage(mode=\"RGB\")(im.squeeze(0)))\n",
    "            plt.show()\n",
    "            labels.remove(targ.item())\n",
    "        if len(labels) == 0: \n",
    "            break"
   ]
  },
  {
   "cell_type": "markdown",
   "metadata": {},
   "source": [
    "# Train Base Classifier"
   ]
  },
  {
   "cell_type": "code",
   "execution_count": 106,
   "metadata": {},
   "outputs": [
    {
     "name": "stdout",
     "output_type": "stream",
     "text": [
      "Logging in: /home/pstefanou/cifar-10/resnet-18/base_calibrated_/5eb67274-bd07-4830-9a59-d406f3bcf3d7\n"
     ]
    }
   ],
   "source": [
    "base_classifier, base_sd = model_utils.make_and_restore_model(arch='resnet18', dataset=ds)\n",
    "out_store = store.Store(BASE_CLASSIFIER)"
   ]
  },
  {
   "cell_type": "code",
   "execution_count": 107,
   "metadata": {},
   "outputs": [
    {
     "data": {
      "application/vnd.jupyter.widget-view+json": {
       "model_id": "",
       "version_major": 2,
       "version_minor": 0
      },
      "text/plain": [
       "  0%|          | 0/352 [00:00<?, ?it/s]"
      ]
     },
     "metadata": {},
     "output_type": "display_data"
    },
    {
     "data": {
      "application/vnd.jupyter.widget-view+json": {
       "model_id": "",
       "version_major": 2,
       "version_minor": 0
      },
      "text/plain": [
       "  0%|          | 0/40 [00:00<?, ?it/s]"
      ]
     },
     "metadata": {},
     "output_type": "display_data"
    },
    {
     "data": {
      "application/vnd.jupyter.widget-view+json": {
       "model_id": "",
       "version_major": 2,
       "version_minor": 0
      },
      "text/plain": [
       "  0%|          | 0/352 [00:00<?, ?it/s]"
      ]
     },
     "metadata": {},
     "output_type": "display_data"
    },
    {
     "data": {
      "application/vnd.jupyter.widget-view+json": {
       "model_id": "",
       "version_major": 2,
       "version_minor": 0
      },
      "text/plain": [
       "  0%|          | 0/40 [00:00<?, ?it/s]"
      ]
     },
     "metadata": {},
     "output_type": "display_data"
    },
    {
     "data": {
      "application/vnd.jupyter.widget-view+json": {
       "model_id": "",
       "version_major": 2,
       "version_minor": 0
      },
      "text/plain": [
       "  0%|          | 0/352 [00:00<?, ?it/s]"
      ]
     },
     "metadata": {},
     "output_type": "display_data"
    },
    {
     "data": {
      "application/vnd.jupyter.widget-view+json": {
       "model_id": "",
       "version_major": 2,
       "version_minor": 0
      },
      "text/plain": [
       "  0%|          | 0/40 [00:00<?, ?it/s]"
      ]
     },
     "metadata": {},
     "output_type": "display_data"
    },
    {
     "data": {
      "application/vnd.jupyter.widget-view+json": {
       "model_id": "",
       "version_major": 2,
       "version_minor": 0
      },
      "text/plain": [
       "  0%|          | 0/352 [00:00<?, ?it/s]"
      ]
     },
     "metadata": {},
     "output_type": "display_data"
    },
    {
     "data": {
      "application/vnd.jupyter.widget-view+json": {
       "model_id": "",
       "version_major": 2,
       "version_minor": 0
      },
      "text/plain": [
       "  0%|          | 0/40 [00:00<?, ?it/s]"
      ]
     },
     "metadata": {},
     "output_type": "display_data"
    },
    {
     "data": {
      "application/vnd.jupyter.widget-view+json": {
       "model_id": "",
       "version_major": 2,
       "version_minor": 0
      },
      "text/plain": [
       "  0%|          | 0/352 [00:00<?, ?it/s]"
      ]
     },
     "metadata": {},
     "output_type": "display_data"
    },
    {
     "data": {
      "application/vnd.jupyter.widget-view+json": {
       "model_id": "",
       "version_major": 2,
       "version_minor": 0
      },
      "text/plain": [
       "  0%|          | 0/40 [00:00<?, ?it/s]"
      ]
     },
     "metadata": {},
     "output_type": "display_data"
    },
    {
     "data": {
      "application/vnd.jupyter.widget-view+json": {
       "model_id": "",
       "version_major": 2,
       "version_minor": 0
      },
      "text/plain": [
       "  0%|          | 0/352 [00:00<?, ?it/s]"
      ]
     },
     "metadata": {},
     "output_type": "display_data"
    },
    {
     "data": {
      "application/vnd.jupyter.widget-view+json": {
       "model_id": "",
       "version_major": 2,
       "version_minor": 0
      },
      "text/plain": [
       "  0%|          | 0/40 [00:00<?, ?it/s]"
      ]
     },
     "metadata": {},
     "output_type": "display_data"
    },
    {
     "data": {
      "application/vnd.jupyter.widget-view+json": {
       "model_id": "",
       "version_major": 2,
       "version_minor": 0
      },
      "text/plain": [
       "  0%|          | 0/352 [00:00<?, ?it/s]"
      ]
     },
     "metadata": {},
     "output_type": "display_data"
    },
    {
     "data": {
      "application/vnd.jupyter.widget-view+json": {
       "model_id": "",
       "version_major": 2,
       "version_minor": 0
      },
      "text/plain": [
       "  0%|          | 0/40 [00:00<?, ?it/s]"
      ]
     },
     "metadata": {},
     "output_type": "display_data"
    },
    {
     "data": {
      "application/vnd.jupyter.widget-view+json": {
       "model_id": "",
       "version_major": 2,
       "version_minor": 0
      },
      "text/plain": [
       "  0%|          | 0/352 [00:00<?, ?it/s]"
      ]
     },
     "metadata": {},
     "output_type": "display_data"
    },
    {
     "data": {
      "application/vnd.jupyter.widget-view+json": {
       "model_id": "",
       "version_major": 2,
       "version_minor": 0
      },
      "text/plain": [
       "  0%|          | 0/40 [00:00<?, ?it/s]"
      ]
     },
     "metadata": {},
     "output_type": "display_data"
    },
    {
     "data": {
      "application/vnd.jupyter.widget-view+json": {
       "model_id": "",
       "version_major": 2,
       "version_minor": 0
      },
      "text/plain": [
       "  0%|          | 0/352 [00:00<?, ?it/s]"
      ]
     },
     "metadata": {},
     "output_type": "display_data"
    },
    {
     "data": {
      "application/vnd.jupyter.widget-view+json": {
       "model_id": "",
       "version_major": 2,
       "version_minor": 0
      },
      "text/plain": [
       "  0%|          | 0/40 [00:00<?, ?it/s]"
      ]
     },
     "metadata": {},
     "output_type": "display_data"
    },
    {
     "data": {
      "application/vnd.jupyter.widget-view+json": {
       "model_id": "",
       "version_major": 2,
       "version_minor": 0
      },
      "text/plain": [
       "  0%|          | 0/352 [00:00<?, ?it/s]"
      ]
     },
     "metadata": {},
     "output_type": "display_data"
    },
    {
     "data": {
      "application/vnd.jupyter.widget-view+json": {
       "model_id": "",
       "version_major": 2,
       "version_minor": 0
      },
      "text/plain": [
       "  0%|          | 0/40 [00:00<?, ?it/s]"
      ]
     },
     "metadata": {},
     "output_type": "display_data"
    },
    {
     "data": {
      "application/vnd.jupyter.widget-view+json": {
       "model_id": "",
       "version_major": 2,
       "version_minor": 0
      },
      "text/plain": [
       "  0%|          | 0/352 [00:00<?, ?it/s]"
      ]
     },
     "metadata": {},
     "output_type": "display_data"
    },
    {
     "data": {
      "application/vnd.jupyter.widget-view+json": {
       "model_id": "",
       "version_major": 2,
       "version_minor": 0
      },
      "text/plain": [
       "  0%|          | 0/40 [00:00<?, ?it/s]"
      ]
     },
     "metadata": {},
     "output_type": "display_data"
    },
    {
     "data": {
      "application/vnd.jupyter.widget-view+json": {
       "model_id": "",
       "version_major": 2,
       "version_minor": 0
      },
      "text/plain": [
       "  0%|          | 0/352 [00:00<?, ?it/s]"
      ]
     },
     "metadata": {},
     "output_type": "display_data"
    },
    {
     "data": {
      "application/vnd.jupyter.widget-view+json": {
       "model_id": "",
       "version_major": 2,
       "version_minor": 0
      },
      "text/plain": [
       "  0%|          | 0/40 [00:00<?, ?it/s]"
      ]
     },
     "metadata": {},
     "output_type": "display_data"
    },
    {
     "data": {
      "application/vnd.jupyter.widget-view+json": {
       "model_id": "",
       "version_major": 2,
       "version_minor": 0
      },
      "text/plain": [
       "  0%|          | 0/352 [00:00<?, ?it/s]"
      ]
     },
     "metadata": {},
     "output_type": "display_data"
    },
    {
     "data": {
      "application/vnd.jupyter.widget-view+json": {
       "model_id": "",
       "version_major": 2,
       "version_minor": 0
      },
      "text/plain": [
       "  0%|          | 0/40 [00:00<?, ?it/s]"
      ]
     },
     "metadata": {},
     "output_type": "display_data"
    },
    {
     "data": {
      "application/vnd.jupyter.widget-view+json": {
       "model_id": "",
       "version_major": 2,
       "version_minor": 0
      },
      "text/plain": [
       "  0%|          | 0/352 [00:00<?, ?it/s]"
      ]
     },
     "metadata": {},
     "output_type": "display_data"
    },
    {
     "data": {
      "application/vnd.jupyter.widget-view+json": {
       "model_id": "",
       "version_major": 2,
       "version_minor": 0
      },
      "text/plain": [
       "  0%|          | 0/40 [00:00<?, ?it/s]"
      ]
     },
     "metadata": {},
     "output_type": "display_data"
    },
    {
     "data": {
      "application/vnd.jupyter.widget-view+json": {
       "model_id": "",
       "version_major": 2,
       "version_minor": 0
      },
      "text/plain": [
       "  0%|          | 0/352 [00:00<?, ?it/s]"
      ]
     },
     "metadata": {},
     "output_type": "display_data"
    },
    {
     "data": {
      "application/vnd.jupyter.widget-view+json": {
       "model_id": "",
       "version_major": 2,
       "version_minor": 0
      },
      "text/plain": [
       "  0%|          | 0/40 [00:00<?, ?it/s]"
      ]
     },
     "metadata": {},
     "output_type": "display_data"
    },
    {
     "data": {
      "application/vnd.jupyter.widget-view+json": {
       "model_id": "",
       "version_major": 2,
       "version_minor": 0
      },
      "text/plain": [
       "  0%|          | 0/352 [00:00<?, ?it/s]"
      ]
     },
     "metadata": {},
     "output_type": "display_data"
    },
    {
     "data": {
      "application/vnd.jupyter.widget-view+json": {
       "model_id": "",
       "version_major": 2,
       "version_minor": 0
      },
      "text/plain": [
       "  0%|          | 0/40 [00:00<?, ?it/s]"
      ]
     },
     "metadata": {},
     "output_type": "display_data"
    },
    {
     "data": {
      "application/vnd.jupyter.widget-view+json": {
       "model_id": "",
       "version_major": 2,
       "version_minor": 0
      },
      "text/plain": [
       "  0%|          | 0/352 [00:00<?, ?it/s]"
      ]
     },
     "metadata": {},
     "output_type": "display_data"
    },
    {
     "data": {
      "application/vnd.jupyter.widget-view+json": {
       "model_id": "",
       "version_major": 2,
       "version_minor": 0
      },
      "text/plain": [
       "  0%|          | 0/40 [00:00<?, ?it/s]"
      ]
     },
     "metadata": {},
     "output_type": "display_data"
    },
    {
     "data": {
      "application/vnd.jupyter.widget-view+json": {
       "model_id": "",
       "version_major": 2,
       "version_minor": 0
      },
      "text/plain": [
       "  0%|          | 0/352 [00:00<?, ?it/s]"
      ]
     },
     "metadata": {},
     "output_type": "display_data"
    },
    {
     "data": {
      "application/vnd.jupyter.widget-view+json": {
       "model_id": "",
       "version_major": 2,
       "version_minor": 0
      },
      "text/plain": [
       "  0%|          | 0/40 [00:00<?, ?it/s]"
      ]
     },
     "metadata": {},
     "output_type": "display_data"
    },
    {
     "data": {
      "application/vnd.jupyter.widget-view+json": {
       "model_id": "",
       "version_major": 2,
       "version_minor": 0
      },
      "text/plain": [
       "  0%|          | 0/352 [00:00<?, ?it/s]"
      ]
     },
     "metadata": {},
     "output_type": "display_data"
    },
    {
     "data": {
      "application/vnd.jupyter.widget-view+json": {
       "model_id": "",
       "version_major": 2,
       "version_minor": 0
      },
      "text/plain": [
       "  0%|          | 0/40 [00:00<?, ?it/s]"
      ]
     },
     "metadata": {},
     "output_type": "display_data"
    },
    {
     "data": {
      "application/vnd.jupyter.widget-view+json": {
       "model_id": "",
       "version_major": 2,
       "version_minor": 0
      },
      "text/plain": [
       "  0%|          | 0/352 [00:00<?, ?it/s]"
      ]
     },
     "metadata": {},
     "output_type": "display_data"
    },
    {
     "data": {
      "application/vnd.jupyter.widget-view+json": {
       "model_id": "",
       "version_major": 2,
       "version_minor": 0
      },
      "text/plain": [
       "  0%|          | 0/40 [00:00<?, ?it/s]"
      ]
     },
     "metadata": {},
     "output_type": "display_data"
    },
    {
     "data": {
      "application/vnd.jupyter.widget-view+json": {
       "model_id": "",
       "version_major": 2,
       "version_minor": 0
      },
      "text/plain": [
       "  0%|          | 0/352 [00:00<?, ?it/s]"
      ]
     },
     "metadata": {},
     "output_type": "display_data"
    },
    {
     "data": {
      "application/vnd.jupyter.widget-view+json": {
       "model_id": "",
       "version_major": 2,
       "version_minor": 0
      },
      "text/plain": [
       "  0%|          | 0/40 [00:00<?, ?it/s]"
      ]
     },
     "metadata": {},
     "output_type": "display_data"
    },
    {
     "data": {
      "application/vnd.jupyter.widget-view+json": {
       "model_id": "",
       "version_major": 2,
       "version_minor": 0
      },
      "text/plain": [
       "  0%|          | 0/352 [00:00<?, ?it/s]"
      ]
     },
     "metadata": {},
     "output_type": "display_data"
    },
    {
     "data": {
      "application/vnd.jupyter.widget-view+json": {
       "model_id": "",
       "version_major": 2,
       "version_minor": 0
      },
      "text/plain": [
       "  0%|          | 0/40 [00:00<?, ?it/s]"
      ]
     },
     "metadata": {},
     "output_type": "display_data"
    },
    {
     "data": {
      "application/vnd.jupyter.widget-view+json": {
       "model_id": "",
       "version_major": 2,
       "version_minor": 0
      },
      "text/plain": [
       "  0%|          | 0/352 [00:00<?, ?it/s]"
      ]
     },
     "metadata": {},
     "output_type": "display_data"
    },
    {
     "data": {
      "application/vnd.jupyter.widget-view+json": {
       "model_id": "",
       "version_major": 2,
       "version_minor": 0
      },
      "text/plain": [
       "  0%|          | 0/40 [00:00<?, ?it/s]"
      ]
     },
     "metadata": {},
     "output_type": "display_data"
    },
    {
     "data": {
      "application/vnd.jupyter.widget-view+json": {
       "model_id": "",
       "version_major": 2,
       "version_minor": 0
      },
      "text/plain": [
       "  0%|          | 0/352 [00:00<?, ?it/s]"
      ]
     },
     "metadata": {},
     "output_type": "display_data"
    },
    {
     "data": {
      "application/vnd.jupyter.widget-view+json": {
       "model_id": "",
       "version_major": 2,
       "version_minor": 0
      },
      "text/plain": [
       "  0%|          | 0/40 [00:00<?, ?it/s]"
      ]
     },
     "metadata": {},
     "output_type": "display_data"
    },
    {
     "data": {
      "application/vnd.jupyter.widget-view+json": {
       "model_id": "",
       "version_major": 2,
       "version_minor": 0
      },
      "text/plain": [
       "  0%|          | 0/352 [00:00<?, ?it/s]"
      ]
     },
     "metadata": {},
     "output_type": "display_data"
    },
    {
     "data": {
      "application/vnd.jupyter.widget-view+json": {
       "model_id": "",
       "version_major": 2,
       "version_minor": 0
      },
      "text/plain": [
       "  0%|          | 0/40 [00:00<?, ?it/s]"
      ]
     },
     "metadata": {},
     "output_type": "display_data"
    }
   ],
   "source": [
    "# train\n",
    "ch.manual_seed(0)\n",
    "train.train_model(args, base_classifier, (train_loader, val_loader), store=out_store)\n",
    "out_store.close()"
   ]
  },
  {
   "cell_type": "code",
   "execution_count": 108,
   "metadata": {},
   "outputs": [
    {
     "name": "stderr",
     "output_type": "stream",
     "text": [
      "100%|██████████| 11/11 [00:00<00:00, 271.06it/s]"
     ]
    },
    {
     "name": "stdout",
     "output_type": "stream",
     "text": [
      "Warning: exp_id bdb0c921-2638-4b5e-9fe0-80a3796b62e8 has no table 'logs'. Skipping.\n",
      "Warning: exp_id da500f8c-e5c8-4cdb-bfeb-dfde16d45214 has no table 'logs'. Skipping.\n",
      "Warning: exp_id f7dd9147-0d0a-4846-848a-456f6400fe2b has no table 'logs'. Skipping.\n",
      "Warning: exp_id cec2c95e-8c38-47b2-a38a-9d836d3c1610 has no table 'logs'. Skipping.\n",
      "Warning: exp_id 36a08685-a857-46ab-9804-e6c8ffdbd089 has no table 'logs'. Skipping.\n"
     ]
    },
    {
     "name": "stderr",
     "output_type": "stream",
     "text": [
      "\n"
     ]
    },
    {
     "data": {
      "text/html": [
       "<div>\n",
       "<style scoped>\n",
       "    .dataframe tbody tr th:only-of-type {\n",
       "        vertical-align: middle;\n",
       "    }\n",
       "\n",
       "    .dataframe tbody tr th {\n",
       "        vertical-align: top;\n",
       "    }\n",
       "\n",
       "    .dataframe thead th {\n",
       "        text-align: right;\n",
       "    }\n",
       "</style>\n",
       "<table border=\"1\" class=\"dataframe\">\n",
       "  <thead>\n",
       "    <tr style=\"text-align: right;\">\n",
       "      <th></th>\n",
       "      <th>epoch</th>\n",
       "      <th>val_prec1</th>\n",
       "      <th>val_loss</th>\n",
       "      <th>train_prec1</th>\n",
       "      <th>train_loss</th>\n",
       "      <th>time</th>\n",
       "      <th>exp_id</th>\n",
       "    </tr>\n",
       "  </thead>\n",
       "  <tbody>\n",
       "    <tr>\n",
       "      <th>0</th>\n",
       "      <td>1</td>\n",
       "      <td>10.120000</td>\n",
       "      <td>2.367606</td>\n",
       "      <td>9.915556</td>\n",
       "      <td>2.361091</td>\n",
       "      <td>22.825660</td>\n",
       "      <td>bcbc1ae1-9164-40c3-b6aa-397c46f9d7fe</td>\n",
       "    </tr>\n",
       "    <tr>\n",
       "      <th>1</th>\n",
       "      <td>2</td>\n",
       "      <td>33.879997</td>\n",
       "      <td>1.764393</td>\n",
       "      <td>24.013334</td>\n",
       "      <td>2.316112</td>\n",
       "      <td>45.349004</td>\n",
       "      <td>bcbc1ae1-9164-40c3-b6aa-397c46f9d7fe</td>\n",
       "    </tr>\n",
       "    <tr>\n",
       "      <th>2</th>\n",
       "      <td>3</td>\n",
       "      <td>47.160000</td>\n",
       "      <td>1.448877</td>\n",
       "      <td>41.817780</td>\n",
       "      <td>1.591888</td>\n",
       "      <td>68.033942</td>\n",
       "      <td>bcbc1ae1-9164-40c3-b6aa-397c46f9d7fe</td>\n",
       "    </tr>\n",
       "    <tr>\n",
       "      <th>3</th>\n",
       "      <td>4</td>\n",
       "      <td>51.180000</td>\n",
       "      <td>1.442712</td>\n",
       "      <td>52.951111</td>\n",
       "      <td>1.296110</td>\n",
       "      <td>90.799535</td>\n",
       "      <td>bcbc1ae1-9164-40c3-b6aa-397c46f9d7fe</td>\n",
       "    </tr>\n",
       "    <tr>\n",
       "      <th>4</th>\n",
       "      <td>5</td>\n",
       "      <td>63.199997</td>\n",
       "      <td>1.025935</td>\n",
       "      <td>62.111111</td>\n",
       "      <td>1.055269</td>\n",
       "      <td>113.580213</td>\n",
       "      <td>bcbc1ae1-9164-40c3-b6aa-397c46f9d7fe</td>\n",
       "    </tr>\n",
       "  </tbody>\n",
       "</table>\n",
       "</div>"
      ],
      "text/plain": [
       "   epoch  val_prec1  val_loss  train_prec1  train_loss        time  \\\n",
       "0      1  10.120000  2.367606     9.915556    2.361091   22.825660   \n",
       "1      2  33.879997  1.764393    24.013334    2.316112   45.349004   \n",
       "2      3  47.160000  1.448877    41.817780    1.591888   68.033942   \n",
       "3      4  51.180000  1.442712    52.951111    1.296110   90.799535   \n",
       "4      5  63.199997  1.025935    62.111111    1.055269  113.580213   \n",
       "\n",
       "                                 exp_id  \n",
       "0  bcbc1ae1-9164-40c3-b6aa-397c46f9d7fe  \n",
       "1  bcbc1ae1-9164-40c3-b6aa-397c46f9d7fe  \n",
       "2  bcbc1ae1-9164-40c3-b6aa-397c46f9d7fe  \n",
       "3  bcbc1ae1-9164-40c3-b6aa-397c46f9d7fe  \n",
       "4  bcbc1ae1-9164-40c3-b6aa-397c46f9d7fe  "
      ]
     },
     "execution_count": 108,
     "metadata": {},
     "output_type": "execute_result"
    }
   ],
   "source": [
    "reader = CollectionReader(BASE_CLASSIFIER)\n",
    "logs = reader.df('logs')\n",
    "reader.close()\n",
    "logs.head()"
   ]
  },
  {
   "cell_type": "code",
   "execution_count": 109,
   "metadata": {},
   "outputs": [],
   "source": [
    "logs = logs[logs['exp_id'] == '5eb67274-bd07-4830-9a59-d406f3bcf3d7']"
   ]
  },
  {
   "cell_type": "code",
   "execution_count": 110,
   "metadata": {},
   "outputs": [
    {
     "data": {
      "image/png": "[encoded data removed]",
      "text/plain": [
       "<Figure size 432x288 with 1 Axes>"
      ]
     },
     "metadata": {
      "needs_background": "light"
     },
     "output_type": "display_data"
    },
    {
     "data": {
      "text/plain": [
       "<AxesSubplot:xlabel='epoch', ylabel='train_loss'>"
      ]
     },
     "execution_count": 110,
     "metadata": {},
     "output_type": "execute_result"
    },
    {
     "data": {
      "image/png": "[encoded data removed]",
      "text/plain": [
       "<Figure size 432x288 with 1 Axes>"
      ]
     },
     "metadata": {
      "needs_background": "light"
     },
     "output_type": "display_data"
    }
   ],
   "source": [
    "sns.lineplot(data=logs, x='epoch', y='train_prec1')\n",
    "sns.lineplot(data=logs, x='epoch', y='val_prec1')\n",
    "plt.show()\n",
    "sns.lineplot(data=logs, x='epoch', y='train_loss')\n",
    "sns.lineplot(data=logs, x='epoch', y='val_loss')"
   ]
  },
  {
   "cell_type": "markdown",
   "metadata": {},
   "source": [
    "# Truncate CIFAR-10"
   ]
  },
  {
   "cell_type": "code",
   "execution_count": 113,
   "metadata": {},
   "outputs": [
    {
     "name": "stdout",
     "output_type": "stream",
     "text": [
      "=> loading checkpoint '/home/pstefanou/cifar-10/resnet-18/base_calibrated_/5eb67274-bd07-4830-9a59-d406f3bcf3d7/checkpoint.pt.latest'\n",
      "=> loaded checkpoint '/home/pstefanou/cifar-10/resnet-18/base_calibrated_/5eb67274-bd07-4830-9a59-d406f3bcf3d7/checkpoint.pt.latest' (epoch 25)\n"
     ]
    }
   ],
   "source": [
    "base_classifier = model_utils.make_and_restore_model(arch='resnet18', dataset=ds, resume_path=BASE_CLASSIFIER_PATH)[0]"
   ]
  },
  {
   "cell_type": "markdown",
   "metadata": {},
   "source": [
    "# Callibrate Base Classifier"
   ]
  },
  {
   "cell_type": "code",
   "execution_count": 114,
   "metadata": {},
   "outputs": [
    {
     "data": {
      "application/vnd.jupyter.widget-view+json": {
       "model_id": "4e5752fe473e46ad98cfe6fb430584ed",
       "version_major": 2,
       "version_minor": 0
      },
      "text/plain": [
       "  0%|          | 0/79 [00:00<?, ?it/s]"
      ]
     },
     "metadata": {},
     "output_type": "display_data"
    },
    {
     "name": "stdout",
     "output_type": "stream",
     "text": [
      "Accuracy of the network on the 10000 test images: 87 %\n",
      "0.8752\n"
     ]
    }
   ],
   "source": [
    "from tqdm.notebook import tqdm\n",
    "\n",
    "def T_scaling(logits, temp):\n",
    "    return ch.div(logits, temp)\n",
    "\n",
    "# Use kwargs for calibration method specific parameters\n",
    "def test(calibration_method=None):\n",
    "    preds = []\n",
    "    labels_oneh = []\n",
    "    correct = 0\n",
    "    base_classifier.eval()\n",
    "    with ch.no_grad():\n",
    "        for data in tqdm(test_loader):\n",
    "            images, labels = data[0].to('cuda:0'), data[1].to('cuda:0')\n",
    "\n",
    "            pred = base_classifier(images)[0]\n",
    "\n",
    "            if calibration_method:\n",
    "                pred = calibration_method(pred, args.temperature.item())\n",
    "\n",
    "            # Get softmax values for net input and resulting class predictions\n",
    "            sm = nn.Softmax(dim=1)\n",
    "            pred = sm(pred)\n",
    "\n",
    "            _, predicted_cl = ch.max(pred.data, 1)\n",
    "            pred = pred.cpu().detach().numpy()\n",
    "\n",
    "            # Convert labels to one hot encoding\n",
    "            label_oneh = ch.nn.functional.one_hot(labels, num_classes=num_classes)\n",
    "            label_oneh = label_oneh.cpu().detach().numpy()\n",
    "\n",
    "            preds.extend(pred)\n",
    "            labels_oneh.extend(label_oneh)\n",
    "\n",
    "            # Count correctly classified samples for accuracy\n",
    "            correct += sum(predicted_cl == labels).item()\n",
    "\n",
    "    preds = np.array(preds).flatten()\n",
    "    labels_oneh = np.array(labels_oneh).flatten()\n",
    "\n",
    "    correct_perc = correct / len(test_loader.dataset)\n",
    "    print('Accuracy of the network on the 10000 test images: %d %%' % (100 * correct_perc))\n",
    "    print(correct_perc)\n",
    "\n",
    "    return preds, labels_oneh\n",
    "\n",
    "preds, labels_oneh = test()\n",
    "\n",
    "def calc_bins(preds):\n",
    "    # Assign each prediction to a bin\n",
    "    num_bins = 10\n",
    "    bins = np.linspace(0.1, 1, num_bins)\n",
    "    binned = np.digitize(preds, bins)\n",
    "\n",
    "    # Save the accuracy, confidence and size of each bin\n",
    "    bin_accs = np.zeros(num_bins)\n",
    "    bin_confs = np.zeros(num_bins)\n",
    "    bin_sizes = np.zeros(num_bins)\n",
    "\n",
    "    for bin in range(num_bins):\n",
    "        bin_sizes[bin] = len(preds[binned == bin])\n",
    "        if bin_sizes[bin] > 0:\n",
    "            bin_accs[bin] = (labels_oneh[binned==bin]).sum() / bin_sizes[bin]\n",
    "            bin_confs[bin] = (preds[binned==bin]).sum() / bin_sizes[bin]\n",
    "\n",
    "    return bins, binned, bin_accs, bin_confs, bin_sizes\n",
    "\n",
    "def get_metrics(preds):\n",
    "    ECE = 0\n",
    "    MCE = 0\n",
    "    bins, _, bin_accs, bin_confs, bin_sizes = calc_bins(preds)\n",
    "\n",
    "    for i in range(len(bins)):\n",
    "        abs_conf_dif = abs(bin_accs[i] - bin_confs[i])\n",
    "        ECE += (bin_sizes[i] / sum(bin_sizes)) * abs_conf_dif\n",
    "        MCE = max(MCE, abs_conf_dif)\n",
    "\n",
    "    return ECE, MCE\n",
    "\n",
    "\n",
    "import matplotlib.patches as mpatches\n",
    "\n",
    "def draw_reliability_graph(preds):\n",
    "    ECE, MCE = get_metrics(preds)\n",
    "    bins, _, bin_accs, _, _ = calc_bins(preds)\n",
    "\n",
    "    fig = plt.figure(figsize=(8, 8))\n",
    "    ax = fig.gca()\n",
    "\n",
    "    # x/y limits\n",
    "    ax.set_xlim(0, 1.05)\n",
    "    ax.set_ylim(0, 1)\n",
    "\n",
    "    # x/y labels\n",
    "    plt.xlabel('Confidence')\n",
    "    plt.ylabel('Accuracy')\n",
    "\n",
    "    # Create grid\n",
    "    ax.set_axisbelow(True) \n",
    "    ax.grid(color='gray', linestyle='dashed')\n",
    "\n",
    "    # Error bars\n",
    "    plt.bar(bins, bins,  width=0.1, alpha=0.3, edgecolor='black', color='r', hatch='\\\\')\n",
    "\n",
    "    # Draw bars and identity line\n",
    "    plt.bar(bins, bin_accs, width=0.1, alpha=1, edgecolor='black', color='b')\n",
    "    plt.plot([0,1],[0,1], '--', color='gray', linewidth=2)\n",
    "\n",
    "    # Equally spaced axes\n",
    "    plt.gca().set_aspect('equal', adjustable='box')\n",
    "\n",
    "    # ECE and MCE legend\n",
    "    ECE_patch = mpatches.Patch(color='green', label='ECE = {:.2f}%'.format(ECE*100))\n",
    "    MCE_patch = mpatches.Patch(color='red', label='MCE = {:.2f}%'.format(MCE*100))\n",
    "    plt.legend(handles=[ECE_patch, MCE_patch])\n",
    "\n",
    "    #plt.show()\n",
    "\n",
    "    plt.savefig('calibrated_network.png', bbox_inches='tight')\n",
    "\n",
    "#draw_reliability_graph(preds)\n"
   ]
  },
  {
   "cell_type": "code",
   "execution_count": 115,
   "metadata": {},
   "outputs": [
    {
     "data": {
      "application/vnd.jupyter.widget-view+json": {
       "model_id": "22a8cea989c64ab0b8420970a6946bcb",
       "version_major": 2,
       "version_minor": 0
      },
      "text/plain": [
       "  0%|          | 0/40 [00:00<?, ?it/s]"
      ]
     },
     "metadata": {},
     "output_type": "display_data"
    },
    {
     "name": "stdout",
     "output_type": "stream",
     "text": [
      "Final T_scaling factor: 1.41\n"
     ]
    },
    {
     "data": {
      "image/png": "[encoded data removed]",
      "text/plain": [
       "<Figure size 432x288 with 2 Axes>"
      ]
     },
     "metadata": {
      "needs_background": "light"
     },
     "output_type": "display_data"
    }
   ],
   "source": [
    "criterion = nn.CrossEntropyLoss()\n",
    "\n",
    "# Removing strong_wolfe line search results in jump after 50 epochs\n",
    "optimizer = ch.optim.LBFGS([args.temperature], lr=0.001, max_iter=10000, line_search_fn='strong_wolfe')\n",
    "\n",
    "logits_list = []\n",
    "labels_list = []\n",
    "temps = []\n",
    "losses = []\n",
    "\n",
    "for i, data in enumerate(tqdm(val_loader, 0)):\n",
    "    images, labels = data[0].cuda(), data[1].cuda()\n",
    "\n",
    "    base_classifier.eval()\n",
    "    with ch.no_grad():\n",
    "        logits_list.append(base_classifier(images)[0])\n",
    "        labels_list.append(labels)\n",
    "\n",
    "# Create tensors\n",
    "logits_list = ch.cat(logits_list).cuda()\n",
    "labels_list = ch.cat(labels_list).cuda()\n",
    "\n",
    "def _eval():\n",
    "    loss = criterion(T_scaling(logits_list, args.temperature), labels_list)\n",
    "    loss.backward()\n",
    "    temps.append(args.temperature.item())\n",
    "    losses.append(loss)\n",
    "    return loss\n",
    "\n",
    "\n",
    "optimizer.step(_eval)\n",
    "\n",
    "print('Final T_scaling factor: {:.2f}'.format(args.temperature.item()))\n",
    "\n",
    "plt.subplot(121)\n",
    "plt.plot(list(range(len(temps))), temps)\n",
    "\n",
    "plt.subplot(122)\n",
    "plt.plot(list(range(len(losses))), losses)\n",
    "plt.show()"
   ]
  },
  {
   "cell_type": "code",
   "execution_count": 116,
   "metadata": {
    "scrolled": false
   },
   "outputs": [
    {
     "data": {
      "application/vnd.jupyter.widget-view+json": {
       "model_id": "966c9e36bbed4fbda4e662d69aa9fcea",
       "version_major": 2,
       "version_minor": 0
      },
      "text/plain": [
       "  0%|          | 0/79 [00:00<?, ?it/s]"
      ]
     },
     "metadata": {},
     "output_type": "display_data"
    },
    {
     "name": "stdout",
     "output_type": "stream",
     "text": [
      "Accuracy of the network on the 10000 test images: 87 %\n",
      "0.8752\n"
     ]
    },
    {
     "data": {
      "application/vnd.jupyter.widget-view+json": {
       "model_id": "a9dd50e01c0d44e4a207b39f3631cc5e",
       "version_major": 2,
       "version_minor": 0
      },
      "text/plain": [
       "  0%|          | 0/79 [00:00<?, ?it/s]"
      ]
     },
     "metadata": {},
     "output_type": "display_data"
    },
    {
     "name": "stdout",
     "output_type": "stream",
     "text": [
      "Accuracy of the network on the 10000 test images: 87 %\n",
      "0.8752\n"
     ]
    },
    {
     "data": {
      "image/png": "[encoded data removed]",
      "text/plain": [
       "<Figure size 576x576 with 1 Axes>"
      ]
     },
     "metadata": {
      "needs_background": "light"
     },
     "output_type": "display_data"
    },
    {
     "data": {
      "image/png": "[encoded data removed]",
      "text/plain": [
       "<Figure size 576x576 with 1 Axes>"
      ]
     },
     "metadata": {
      "needs_background": "light"
     },
     "output_type": "display_data"
    }
   ],
   "source": [
    "preds_original, _ = test()\n",
    "preds_calibrated, _ = test(T_scaling)\n",
    "\n",
    "draw_reliability_graph(preds_original)\n",
    "draw_reliability_graph(preds_calibrated)"
   ]
  },
  {
   "cell_type": "code",
   "execution_count": 117,
   "metadata": {},
   "outputs": [
    {
     "name": "stdout",
     "output_type": "stream",
     "text": [
      "original ece:  0.011179880475562565\n",
      "original mce:  0.18084005813872084\n",
      "calibrated ece:  0.0029942193603515683\n",
      "calibrated mce:  0.06724602733275675\n"
     ]
    }
   ],
   "source": [
    "orig_ece, orig_mce = get_metrics(preds_original)\n",
    "calibrated_ece, calibrated_mce = get_metrics(preds_calibrated)\n",
    "\n",
    "print(\"original ece: \", orig_ece)\n",
    "print(\"original mce: \", orig_mce)\n",
    "\n",
    "print(\"calibrated ece: \", calibrated_ece)\n",
    "print(\"calibrated mce: \", calibrated_mce)"
   ]
  },
  {
   "cell_type": "code",
   "execution_count": 118,
   "metadata": {},
   "outputs": [
    {
     "name": "stdout",
     "output_type": "stream",
     "text": [
      "train alpha:  0.5452888888888889\n"
     ]
    },
    {
     "data": {
      "text/plain": [
       "<torch.utils.data.dataloader.DataLoader at 0x7f87f0467780>"
      ]
     },
     "execution_count": 118,
     "metadata": {},
     "output_type": "execute_result"
    }
   ],
   "source": [
    "# membership oracle\n",
    "phi = oracle.LogitBallComplement(args.logit_ball)\n",
    "\n",
    "# check if there exists a cifar 10 train truncated dataset already\n",
    "if True or not os.path.isfile(DATA_PATH + TRUNC_TRAIN_DATASET + str(args.logit_ball) + '.pickle') or not os.path.isfile(DATA_PATH + TRUNC_TRAIN_DATASET + str(args.logit_ball) + '.pickle'):\n",
    "    trunc_train_X, trunc_train_y = Tensor([]), Tensor([])\n",
    "    # unseen test data\n",
    "    trunc_test_X, trunc_test_y = Tensor([]), Tensor([])\n",
    "    for inp, targ in train_loader: \n",
    "        inp, targ = inp.to(args.device), targ.to(args.device)\n",
    "        logits, inp = base_classifier(inp)\n",
    "        logits = T_scaling(logits, args.temperature.item())\n",
    "        # add gumbel noise to the logits\n",
    "#         noised = logits.cpu() + gumbel.sample(logits.size())        \n",
    "        noised = logits.cpu()\n",
    "\n",
    "        filtered = phi(noised)\n",
    "        indices = filtered.nonzero(as_tuple=False).flatten()\n",
    "        test_indices = (~filtered).nonzero(as_tuple=False).flatten()\n",
    "        trunc_train_X, trunc_train_y = ch.cat([trunc_train_X, inp[indices].cpu()]), ch.cat([trunc_train_y, targ[indices].cpu()])\n",
    "        trunc_test_X, trunc_test_y = ch.cat([trunc_test_X, inp[test_indices].cpu()]), ch.cat([trunc_test_y, targ[test_indices].cpu()])\n",
    "\n",
    "    print(\"train alpha: \", trunc_train_X.size(0) / len(train_loader.dataset))\n",
    "    trunc_train_loader = DataLoader(TruncatedCIFAR(trunc_train_X, trunc_train_y.long(), transform= None), num_workers=args.workers, shuffle=args.shuffle, batch_size=args.batch_size)\n",
    "\n",
    "    # train loader\n",
    "    with open(DATA_PATH + TRUNC_TRAIN_DATASET + str(args.logit_ball) + '.pickle', 'wb') as f: \n",
    "        pickle.dump(trunc_train_loader, f)\n",
    "else:  \n",
    "    trunc_train_loader = pd.read_pickle(DATA_PATH + TRUNC_TRAIN_DATASET + str(args.logit_ball) + '.pickle')\n",
    "trunc_train_loader"
   ]
  },
  {
   "cell_type": "code",
   "execution_count": 119,
   "metadata": {},
   "outputs": [
    {
     "name": "stdout",
     "output_type": "stream",
     "text": [
      "val alpha:  0.3914\n"
     ]
    },
    {
     "data": {
      "text/plain": [
       "(<torch.utils.data.dataloader.DataLoader at 0x7f87f0442358>,\n",
       " <torch.utils.data.dataloader.DataLoader at 0x7f87f04425c0>)"
      ]
     },
     "execution_count": 119,
     "metadata": {},
     "output_type": "execute_result"
    }
   ],
   "source": [
    "# check if there exists a cifar 10 valdation and test truncated dataset\n",
    "if True or not os.path.isfile(DATA_PATH + TRUNC_VAL_DATASET + str(args.logit_ball) + '.pickle') or not os.path.isfile(DATA_PATH + TRUNC_VAL_DATASET + str(args.logit_ball) + '.pickle'):\n",
    "    trunc_val_X, trunc_val_y = Tensor([]), Tensor([]) \n",
    "\n",
    "    for inp, targ in val_loader: \n",
    "        inp, targ = inp.to(args.device), targ.to(args.device)\n",
    "        logits, inp = base_classifier(inp)\n",
    "        logits = T_scaling(logits, args.temperature.item())\n",
    "        # add gumbel noise to the logits\n",
    "#         noised = logits.cpu() + gumbel.sample(logits.size())\n",
    "        noised = logits.cpu() \n",
    "\n",
    "        filtered = phi(noised)\n",
    "        indices = filtered.nonzero(as_tuple=False).flatten()\n",
    "        test_indices = (~filtered).nonzero(as_tuple=False).flatten()\n",
    "        trunc_val_X, trunc_val_y = ch.cat([trunc_val_X, inp[indices].cpu()]), ch.cat([trunc_val_y, targ[indices].cpu()])\n",
    "        trunc_test_X, trunc_test_y = ch.cat([trunc_test_X, inp[test_indices].cpu()]), ch.cat([trunc_test_y, targ[test_indices].cpu()])\n",
    "\n",
    "    print(\"val alpha: \", trunc_val_X.size(0) / len(val_loader.dataset))\n",
    "    trunc_val_loader = DataLoader(TruncatedCIFAR(trunc_val_X, trunc_val_y.long(), transform=None), num_workers=args.workers, shuffle=args.shuffle, batch_size=args.batch_size)\n",
    "    # truncated test set (unseen data that the model has not been tested on)\n",
    "    trunc_test_loader = DataLoader(TruncatedCIFAR(trunc_test_X, trunc_test_y.long(), transform=None), \n",
    "                             num_workers=args.workers, shuffle=args.shuffle, batch_size=args.batch_size)\n",
    "\n",
    "    # validation loader\n",
    "    with open(DATA_PATH + TRUNC_VAL_DATASET + str(args.logit_ball) + '.pickle', 'wb') as f: \n",
    "        pickle.dump(trunc_val_loader, f)\n",
    "\n",
    "    # test loader\n",
    "    with open(DATA_PATH + TRUNC_TEST_DATASET + str(args.logit_ball) + '.pickle', 'wb') as f: \n",
    "        pickle.dump(trunc_test_loader, f)\n",
    "else: \n",
    "    trunc_val_loader = pd.read_pickle(DATA_PATH + TRUNC_VAL_DATASET + str(args.logit_ball) + '.pickle')\n",
    "    trunc_test_loader = pd.read_pickle(DATA_PATH + TRUNC_TEST_DATASET + str(args.logit_ball) + '.pickle')\n",
    "trunc_val_loader, trunc_test_loader"
   ]
  },
  {
   "cell_type": "code",
   "execution_count": 120,
   "metadata": {},
   "outputs": [
    {
     "name": "stdout",
     "output_type": "stream",
     "text": [
      "alpha train:  0.5452888888888889\n",
      "alpha val:  0.3914\n",
      "test set size:  23505\n"
     ]
    }
   ],
   "source": [
    "print(\"alpha train: \", len(trunc_train_loader.dataset) / len(train_loader.dataset))\n",
    "print(\"alpha val: \", len(trunc_val_loader.dataset) / len(val_loader.dataset))\n",
    "print(\"test set size: \", len(trunc_test_loader.dataset))"
   ]
  },
  {
   "cell_type": "markdown",
   "metadata": {},
   "source": [
    "# Setup Store and Pretrain Model"
   ]
  },
  {
   "cell_type": "code",
   "execution_count": 121,
   "metadata": {},
   "outputs": [
    {
     "name": "stdout",
     "output_type": "stream",
     "text": [
      "Logging in: /home/pstefanou/cifar-10/resnet-18/pre_train_new/92dcc11a-4b42-4f76-a6d6-17d731eb6591\n"
     ]
    }
   ],
   "source": [
    "pretrained_model, _ = model_utils.make_and_restore_model(arch='resnet18', dataset=ds)\n",
    "# logging store\n",
    "out_store = store.Store(PRETRAINED_MODEL)\n",
    "setup_store_with_metadata(args, out_store)\n",
    "args.__setattr__('custom_criterion', None)"
   ]
  },
  {
   "cell_type": "markdown",
   "metadata": {},
   "source": [
    "# Start by Training Pretrainig a Standard Classifier"
   ]
  },
  {
   "cell_type": "code",
   "execution_count": 122,
   "metadata": {},
   "outputs": [
    {
     "data": {
      "application/vnd.jupyter.widget-view+json": {
       "model_id": "",
       "version_major": 2,
       "version_minor": 0
      },
      "text/plain": [
       "  0%|          | 0/192 [00:00<?, ?it/s]"
      ]
     },
     "metadata": {},
     "output_type": "display_data"
    },
    {
     "data": {
      "application/vnd.jupyter.widget-view+json": {
       "model_id": "",
       "version_major": 2,
       "version_minor": 0
      },
      "text/plain": [
       "  0%|          | 0/16 [00:00<?, ?it/s]"
      ]
     },
     "metadata": {},
     "output_type": "display_data"
    },
    {
     "data": {
      "application/vnd.jupyter.widget-view+json": {
       "model_id": "",
       "version_major": 2,
       "version_minor": 0
      },
      "text/plain": [
       "  0%|          | 0/192 [00:00<?, ?it/s]"
      ]
     },
     "metadata": {},
     "output_type": "display_data"
    },
    {
     "data": {
      "application/vnd.jupyter.widget-view+json": {
       "model_id": "",
       "version_major": 2,
       "version_minor": 0
      },
      "text/plain": [
       "  0%|          | 0/16 [00:00<?, ?it/s]"
      ]
     },
     "metadata": {},
     "output_type": "display_data"
    },
    {
     "data": {
      "application/vnd.jupyter.widget-view+json": {
       "model_id": "",
       "version_major": 2,
       "version_minor": 0
      },
      "text/plain": [
       "  0%|          | 0/184 [00:00<?, ?it/s]"
      ]
     },
     "metadata": {},
     "output_type": "display_data"
    },
    {
     "name": "stdout",
     "output_type": "stream",
     "text": [
      "pretrained model test set results:  {'test_prec1': tensor(35.2010, device='cuda:0'), 'test_loss': 1.9096854279685898, 'time': 4.232898712158203}\n"
     ]
    },
    {
     "data": {
      "application/vnd.jupyter.widget-view+json": {
       "model_id": "",
       "version_major": 2,
       "version_minor": 0
      },
      "text/plain": [
       "  0%|          | 0/192 [00:00<?, ?it/s]"
      ]
     },
     "metadata": {},
     "output_type": "display_data"
    },
    {
     "name": "stdout",
     "output_type": "stream",
     "text": [
      "pretrained model train set results:  {'test_prec1': tensor(49.5354, device='cuda:0'), 'test_loss': 1.3745606859599537, 'time': 4.34256911277771}\n"
     ]
    },
    {
     "data": {
      "application/vnd.jupyter.widget-view+json": {
       "model_id": "",
       "version_major": 2,
       "version_minor": 0
      },
      "text/plain": [
       "  0%|          | 0/16 [00:00<?, ?it/s]"
      ]
     },
     "metadata": {},
     "output_type": "display_data"
    },
    {
     "name": "stdout",
     "output_type": "stream",
     "text": [
      "pretrained model val set results:  {'test_prec1': tensor(54.7266, device='cuda:0'), 'test_loss': 1.197338668314486, 'time': 1.061173439025879}\n"
     ]
    }
   ],
   "source": [
    "# train\n",
    "ch.manual_seed(0)\n",
    "args.__setattr__('epochs', 2)\n",
    "pretrained_model = train.train_model(args, pretrained_model, (trunc_train_loader, trunc_val_loader), store=out_store, parallel=args.parallel)\n",
    "\n",
    "# evaluate model on train, validation, and unseen datasets\n",
    "test_set_results = train.eval_model(args, pretrained_model, trunc_test_loader, out_store)\n",
    "print(\"pretrained model test set results: \", test_set_results)\n",
    "train_set_results = train.eval_model(args, pretrained_model, trunc_train_loader, out_store)\n",
    "print(\"pretrained model train set results: \", train_set_results)\n",
    "val_set_results = train.eval_model(args, pretrained_model, trunc_val_loader, out_store) \n",
    "print(\"pretrained model val set results: \", val_set_results)\n",
    "\n",
    "out_store.close()"
   ]
  },
  {
   "cell_type": "code",
   "execution_count": 124,
   "metadata": {},
   "outputs": [
    {
     "name": "stderr",
     "output_type": "stream",
     "text": [
      "100%|██████████| 7/7 [00:00<00:00, 78.71it/s]"
     ]
    },
    {
     "name": "stdout",
     "output_type": "stream",
     "text": [
      "new schema missing keys: {'custom_criterion'}, new keys: {'custom_lr_multiplier'}\n",
      "new schema missing keys: {'custom_criterion'}, new keys: {'custom_lr_multiplier'}\n",
      "new schema missing keys: {'custom_criterion'}, new keys: set()\n",
      "new schema missing keys: set(), new keys: {'custom_lr_multiplier'}\n",
      "new schema missing keys: {'custom_criterion'}, new keys: set()\n"
     ]
    },
    {
     "name": "stderr",
     "output_type": "stream",
     "text": [
      "\n"
     ]
    },
    {
     "data": {
      "text/html": [
       "<div>\n",
       "<style scoped>\n",
       "    .dataframe tbody tr th:only-of-type {\n",
       "        vertical-align: middle;\n",
       "    }\n",
       "\n",
       "    .dataframe tbody tr th {\n",
       "        vertical-align: top;\n",
       "    }\n",
       "\n",
       "    .dataframe thead th {\n",
       "        text-align: right;\n",
       "    }\n",
       "</style>\n",
       "<table border=\"1\" class=\"dataframe\">\n",
       "  <thead>\n",
       "    <tr style=\"text-align: right;\">\n",
       "      <th></th>\n",
       "      <th>epoch</th>\n",
       "      <th>val_prec1</th>\n",
       "      <th>val_loss</th>\n",
       "      <th>train_prec1</th>\n",
       "      <th>train_loss</th>\n",
       "      <th>time</th>\n",
       "      <th>exp_id</th>\n",
       "    </tr>\n",
       "  </thead>\n",
       "  <tbody>\n",
       "    <tr>\n",
       "      <th>0</th>\n",
       "      <td>1</td>\n",
       "      <td>60.750854</td>\n",
       "      <td>1.114043</td>\n",
       "      <td>53.364677</td>\n",
       "      <td>1.285578</td>\n",
       "      <td>15.214985</td>\n",
       "      <td>24fd0952-d11e-4af8-8308-5497bb1edd22</td>\n",
       "    </tr>\n",
       "    <tr>\n",
       "      <th>1</th>\n",
       "      <td>2</td>\n",
       "      <td>70.834625</td>\n",
       "      <td>0.915546</td>\n",
       "      <td>72.858047</td>\n",
       "      <td>0.760501</td>\n",
       "      <td>30.509075</td>\n",
       "      <td>24fd0952-d11e-4af8-8308-5497bb1edd22</td>\n",
       "    </tr>\n",
       "    <tr>\n",
       "      <th>0</th>\n",
       "      <td>1</td>\n",
       "      <td>50.792027</td>\n",
       "      <td>1.304372</td>\n",
       "      <td>31.775208</td>\n",
       "      <td>2.079216</td>\n",
       "      <td>13.851744</td>\n",
       "      <td>92dcc11a-4b42-4f76-a6d6-17d731eb6591</td>\n",
       "    </tr>\n",
       "    <tr>\n",
       "      <th>1</th>\n",
       "      <td>2</td>\n",
       "      <td>54.726620</td>\n",
       "      <td>1.197339</td>\n",
       "      <td>51.858345</td>\n",
       "      <td>1.296588</td>\n",
       "      <td>28.776750</td>\n",
       "      <td>92dcc11a-4b42-4f76-a6d6-17d731eb6591</td>\n",
       "    </tr>\n",
       "    <tr>\n",
       "      <th>0</th>\n",
       "      <td>1</td>\n",
       "      <td>46.036705</td>\n",
       "      <td>1.505080</td>\n",
       "      <td>32.216736</td>\n",
       "      <td>1.999661</td>\n",
       "      <td>12.587191</td>\n",
       "      <td>50d57f52-5e5a-46c3-b9fb-a017d90763cb</td>\n",
       "    </tr>\n",
       "  </tbody>\n",
       "</table>\n",
       "</div>"
      ],
      "text/plain": [
       "   epoch  val_prec1  val_loss  train_prec1  train_loss       time  \\\n",
       "0      1  60.750854  1.114043    53.364677    1.285578  15.214985   \n",
       "1      2  70.834625  0.915546    72.858047    0.760501  30.509075   \n",
       "0      1  50.792027  1.304372    31.775208    2.079216  13.851744   \n",
       "1      2  54.726620  1.197339    51.858345    1.296588  28.776750   \n",
       "0      1  46.036705  1.505080    32.216736    1.999661  12.587191   \n",
       "\n",
       "                                 exp_id  \n",
       "0  24fd0952-d11e-4af8-8308-5497bb1edd22  \n",
       "1  24fd0952-d11e-4af8-8308-5497bb1edd22  \n",
       "0  92dcc11a-4b42-4f76-a6d6-17d731eb6591  \n",
       "1  92dcc11a-4b42-4f76-a6d6-17d731eb6591  \n",
       "0  50d57f52-5e5a-46c3-b9fb-a017d90763cb  "
      ]
     },
     "execution_count": 124,
     "metadata": {},
     "output_type": "execute_result"
    }
   ],
   "source": [
    "reader = CollectionReader(PRETRAINED_MODEL)\n",
    "metadata = reader.df('metadata')\n",
    "logs = reader.df('logs')\n",
    "reader.close()\n",
    "logs.head()"
   ]
  },
  {
   "cell_type": "markdown",
   "metadata": {},
   "source": [
    "# Plot Standard Trained Classifier Loss and Accuracy Curves"
   ]
  },
  {
   "cell_type": "code",
   "execution_count": 125,
   "metadata": {},
   "outputs": [],
   "source": [
    "logs = logs[logs['exp_id'] == '92dcc11a-4b42-4f76-a6d6-17d731eb6591']"
   ]
  },
  {
   "cell_type": "code",
   "execution_count": 126,
   "metadata": {},
   "outputs": [
    {
     "data": {
      "image/png": "[encoded data removed]",
      "text/plain": [
       "<Figure size 432x288 with 1 Axes>"
      ]
     },
     "metadata": {
      "needs_background": "light"
     },
     "output_type": "display_data"
    },
    {
     "data": {
      "text/plain": [
       "[Text(0.5, 0, 'Epoch'), Text(0, 0.5, 'Loss')]"
      ]
     },
     "execution_count": 126,
     "metadata": {},
     "output_type": "execute_result"
    },
    {
     "data": {
      "image/png": "[encoded data removed]",
      "text/plain": [
       "<Figure size 432x288 with 1 Axes>"
      ]
     },
     "metadata": {
      "needs_background": "light"
     },
     "output_type": "display_data"
    }
   ],
   "source": [
    "sns.lineplot(data=logs, x='epoch', y='val_prec1', label='val_prec1', color='b')\n",
    "ax = sns.lineplot(data=logs, x='epoch', y='train_prec1', label='train_prec1', color='r')\n",
    "ax.set(xlabel='Epoch', ylabel='Accuracy')\n",
    "plt.show()\n",
    "\n",
    "sns.lineplot(data=logs, x='epoch', y='val_loss', label='val_loss', color='b')\n",
    "ax = sns.lineplot(data=logs, x='epoch', y='train_loss', label='train_loss', color='r')\n",
    "ax.set(xlabel='Epoch', ylabel='Loss')"
   ]
  },
  {
   "cell_type": "markdown",
   "metadata": {},
   "source": [
    "# Train Rest of Pretrained Model Using Truncated CE Loss"
   ]
  },
  {
   "cell_type": "code",
   "execution_count": 176,
   "metadata": {},
   "outputs": [
    {
     "name": "stdout",
     "output_type": "stream",
     "text": [
      "Logging in: /home/pstefanou/cifar-10/resnet-18/trunc_new/2261ecca-b58f-4771-8ecb-757c37718052\n",
      "=> loading checkpoint '/home/pstefanou/cifar-10/resnet-18/pre_train_new/92dcc11a-4b42-4f76-a6d6-17d731eb6591/checkpoint.pt.latest'\n",
      "=> loaded checkpoint '/home/pstefanou/cifar-10/resnet-18/pre_train_new/92dcc11a-4b42-4f76-a6d6-17d731eb6591/checkpoint.pt.latest' (epoch 2)\n"
     ]
    }
   ],
   "source": [
    "##### logging store\n",
    "out_store = store.Store(LOGIT_BALL_CLASSIFIER)\n",
    "setup_store_with_metadata(args, out_store)\n",
    "# load in previously trained classifer to run truncated gradient against it\n",
    "delphi_ =  model_utils.make_and_restore_model(arch='resnet18', dataset=ds, resume_path=PRETRAINED_MODEL + '/92dcc11a-4b42-4f76-a6d6-17d731eb6591/checkpoint.pt.latest')\n",
    "# set oracle"
   ]
  },
  {
   "cell_type": "markdown",
   "metadata": {},
   "source": [
    "Sanity check to make sure that we loader in the correct model"
   ]
  },
  {
   "cell_type": "code",
   "execution_count": 177,
   "metadata": {},
   "outputs": [
    {
     "data": {
      "application/vnd.jupyter.widget-view+json": {
       "model_id": "",
       "version_major": 2,
       "version_minor": 0
      },
      "text/plain": [
       "  0%|          | 0/184 [00:00<?, ?it/s]"
      ]
     },
     "metadata": {},
     "output_type": "display_data"
    },
    {
     "data": {
      "text/plain": [
       "{'test_prec1': tensor(35.2010, device='cuda:0'),\n",
       " 'test_loss': 1.9096854050244152,\n",
       " 'time': 4.269141674041748}"
      ]
     },
     "execution_count": 177,
     "metadata": {},
     "output_type": "execute_result"
    }
   ],
   "source": [
    "train.eval_model(args, delphi_[0], trunc_test_loader, out_store)"
   ]
  },
  {
   "cell_type": "markdown",
   "metadata": {},
   "source": [
    "# TruncatedCE with Logit Ball Oracle"
   ]
  },
  {
   "cell_type": "code",
   "execution_count": null,
   "metadata": {
    "scrolled": true
   },
   "outputs": [
    {
     "data": {
      "application/vnd.jupyter.widget-view+json": {
       "model_id": "",
       "version_major": 2,
       "version_minor": 0
      },
      "text/plain": [
       "  0%|          | 0/192 [00:00<?, ?it/s]"
      ]
     },
     "metadata": {},
     "output_type": "display_data"
    },
    {
     "data": {
      "application/vnd.jupyter.widget-view+json": {
       "model_id": "",
       "version_major": 2,
       "version_minor": 0
      },
      "text/plain": [
       "  0%|          | 0/16 [00:00<?, ?it/s]"
      ]
     },
     "metadata": {},
     "output_type": "display_data"
    },
    {
     "data": {
      "application/vnd.jupyter.widget-view+json": {
       "model_id": "",
       "version_major": 2,
       "version_minor": 0
      },
      "text/plain": [
       "  0%|          | 0/192 [00:00<?, ?it/s]"
      ]
     },
     "metadata": {},
     "output_type": "display_data"
    },
    {
     "data": {
      "application/vnd.jupyter.widget-view+json": {
       "model_id": "",
       "version_major": 2,
       "version_minor": 0
      },
      "text/plain": [
       "  0%|          | 0/16 [00:00<?, ?it/s]"
      ]
     },
     "metadata": {},
     "output_type": "display_data"
    },
    {
     "data": {
      "application/vnd.jupyter.widget-view+json": {
       "model_id": "",
       "version_major": 2,
       "version_minor": 0
      },
      "text/plain": [
       "  0%|          | 0/192 [00:00<?, ?it/s]"
      ]
     },
     "metadata": {},
     "output_type": "display_data"
    },
    {
     "data": {
      "application/vnd.jupyter.widget-view+json": {
       "model_id": "",
       "version_major": 2,
       "version_minor": 0
      },
      "text/plain": [
       "  0%|          | 0/16 [00:00<?, ?it/s]"
      ]
     },
     "metadata": {},
     "output_type": "display_data"
    },
    {
     "data": {
      "application/vnd.jupyter.widget-view+json": {
       "model_id": "",
       "version_major": 2,
       "version_minor": 0
      },
      "text/plain": [
       "  0%|          | 0/192 [00:00<?, ?it/s]"
      ]
     },
     "metadata": {},
     "output_type": "display_data"
    },
    {
     "data": {
      "application/vnd.jupyter.widget-view+json": {
       "model_id": "",
       "version_major": 2,
       "version_minor": 0
      },
      "text/plain": [
       "  0%|          | 0/16 [00:00<?, ?it/s]"
      ]
     },
     "metadata": {},
     "output_type": "display_data"
    },
    {
     "data": {
      "application/vnd.jupyter.widget-view+json": {
       "model_id": "",
       "version_major": 2,
       "version_minor": 0
      },
      "text/plain": [
       "  0%|          | 0/192 [00:00<?, ?it/s]"
      ]
     },
     "metadata": {},
     "output_type": "display_data"
    },
    {
     "data": {
      "application/vnd.jupyter.widget-view+json": {
       "model_id": "",
       "version_major": 2,
       "version_minor": 0
      },
      "text/plain": [
       "  0%|          | 0/16 [00:00<?, ?it/s]"
      ]
     },
     "metadata": {},
     "output_type": "display_data"
    },
    {
     "data": {
      "application/vnd.jupyter.widget-view+json": {
       "model_id": "",
       "version_major": 2,
       "version_minor": 0
      },
      "text/plain": [
       "  0%|          | 0/192 [00:00<?, ?it/s]"
      ]
     },
     "metadata": {},
     "output_type": "display_data"
    },
    {
     "data": {
      "application/vnd.jupyter.widget-view+json": {
       "model_id": "",
       "version_major": 2,
       "version_minor": 0
      },
      "text/plain": [
       "  0%|          | 0/16 [00:00<?, ?it/s]"
      ]
     },
     "metadata": {},
     "output_type": "display_data"
    },
    {
     "data": {
      "application/vnd.jupyter.widget-view+json": {
       "model_id": "",
       "version_major": 2,
       "version_minor": 0
      },
      "text/plain": [
       "  0%|          | 0/192 [00:00<?, ?it/s]"
      ]
     },
     "metadata": {},
     "output_type": "display_data"
    },
    {
     "data": {
      "application/vnd.jupyter.widget-view+json": {
       "model_id": "",
       "version_major": 2,
       "version_minor": 0
      },
      "text/plain": [
       "  0%|          | 0/16 [00:00<?, ?it/s]"
      ]
     },
     "metadata": {},
     "output_type": "display_data"
    },
    {
     "data": {
      "application/vnd.jupyter.widget-view+json": {
       "model_id": "dd0f0f94b8b44d3d8adafe6d1a7c6f64",
       "version_major": 2,
       "version_minor": 0
      },
      "text/plain": [
       "  0%|          | 0/192 [00:00<?, ?it/s]"
      ]
     },
     "metadata": {},
     "output_type": "display_data"
    }
   ],
   "source": [
    "# train\n",
    "ch.manual_seed(0)\n",
    "args.__setattr__('epochs', 50)\n",
    "args.__setattr__('lr', 1e-1)\n",
    "config.args = args\n",
    "final_model = train.train_model(args, delphi_[0], (trunc_train_loader, trunc_val_loader), store=out_store, phi=phi, criterion=grad.TruncatedCE.apply)\n",
    "out_store.close()"
   ]
  },
  {
   "cell_type": "code",
   "execution_count": null,
   "metadata": {
    "scrolled": true
   },
   "outputs": [],
   "source": [
    "reader = CollectionReader(LOGIT_BALL_CLASSIFIER)\n",
    "metadata = reader.df('metadata')\n",
    "trunc_logs = reader.df('logs')\n",
    "\n",
    "reader.close()\n",
    "trunc_logs"
   ]
  },
  {
   "cell_type": "code",
   "execution_count": 160,
   "metadata": {},
   "outputs": [],
   "source": [
    "trunc_logs = trunc_logs[trunc_logs['exp_id'] == 'bffa1464-4d21-408d-ac00-daa68591fee6']"
   ]
  },
  {
   "cell_type": "code",
   "execution_count": 161,
   "metadata": {},
   "outputs": [
    {
     "data": {
      "image/png": "[encoded data removed]",
      "text/plain": [
       "<Figure size 432x288 with 1 Axes>"
      ]
     },
     "metadata": {
      "needs_background": "light"
     },
     "output_type": "display_data"
    },
    {
     "data": {
      "text/plain": [
       "<AxesSubplot:xlabel='epoch', ylabel='train_prec1'>"
      ]
     },
     "execution_count": 161,
     "metadata": {},
     "output_type": "execute_result"
    },
    {
     "data": {
      "image/png": "[encoded data removed]",
      "text/plain": [
       "<Figure size 432x288 with 1 Axes>"
      ]
     },
     "metadata": {
      "needs_background": "light"
     },
     "output_type": "display_data"
    }
   ],
   "source": [
    "sns.lineplot(data=trunc_logs, x='epoch', y='train_loss', label='train trunc loss')\n",
    "sns.lineplot(data=trunc_logs, x='epoch', y='val_loss', label='val trunc loss')\n",
    "\n",
    "# sns.lineplot(data=logs, x='epoch', y='train_loss', label='train loss')\n",
    "# sns.lineplot(data=logs, x='epoch', y='val_loss', label='val loss')\n",
    "plt.show()\n",
    "\n",
    "sns.lineplot(data=trunc_logs, x='epoch', y='train_prec1', label='train trunc acc')\n",
    "sns.lineplot(data=trunc_logs, x='epoch', y='val_prec1', label='val trunc acc')\n",
    "\n",
    "# sns.lineplot(data=logs, x='epoch', y='train_prec1', label='train acc')\n",
    "# sns.lineplot(data=logs, x='epoch', y='val_prec1', label='val acc')"
   ]
  },
  {
   "cell_type": "markdown",
   "metadata": {},
   "source": [
    "# Train Model on Standard CE Loss with Truncated Dataset"
   ]
  },
  {
   "cell_type": "code",
   "execution_count": 163,
   "metadata": {},
   "outputs": [
    {
     "name": "stdout",
     "output_type": "stream",
     "text": [
      "Logging in: /home/pstefanou/cifar-10/resnet-18/standard_new/47122219-ce59-4418-a6da-2bb1525781c9\n",
      "=> loading checkpoint '/home/pstefanou/cifar-10/resnet-18/pre_train_new/92dcc11a-4b42-4f76-a6d6-17d731eb6591/checkpoint.pt.latest'\n",
      "=> loaded checkpoint '/home/pstefanou/cifar-10/resnet-18/pre_train_new/92dcc11a-4b42-4f76-a6d6-17d731eb6591/checkpoint.pt.latest' (epoch 2)\n"
     ]
    }
   ],
   "source": [
    "##### logging store\n",
    "out_store = store.Store(STANDARD_CLASSIFIER)\n",
    "setup_store_with_metadata(args, out_store)\n",
    "# load in previously trained classifer to run truncated gradient against it\n",
    "standard =  model_utils.make_and_restore_model(arch='resnet18', dataset=ds, resume_path=PRETRAINED_MODEL + '/92dcc11a-4b42-4f76-a6d6-17d731eb6591/checkpoint.pt.latest')\n",
    "# decrease learning rate\n",
    "args.__setattr__('lr', 1e-1)"
   ]
  },
  {
   "cell_type": "code",
   "execution_count": 164,
   "metadata": {},
   "outputs": [
    {
     "data": {
      "application/vnd.jupyter.widget-view+json": {
       "model_id": "",
       "version_major": 2,
       "version_minor": 0
      },
      "text/plain": [
       "  0%|          | 0/192 [00:00<?, ?it/s]"
      ]
     },
     "metadata": {},
     "output_type": "display_data"
    },
    {
     "data": {
      "application/vnd.jupyter.widget-view+json": {
       "model_id": "",
       "version_major": 2,
       "version_minor": 0
      },
      "text/plain": [
       "  0%|          | 0/16 [00:00<?, ?it/s]"
      ]
     },
     "metadata": {},
     "output_type": "display_data"
    },
    {
     "data": {
      "application/vnd.jupyter.widget-view+json": {
       "model_id": "",
       "version_major": 2,
       "version_minor": 0
      },
      "text/plain": [
       "  0%|          | 0/192 [00:00<?, ?it/s]"
      ]
     },
     "metadata": {},
     "output_type": "display_data"
    },
    {
     "data": {
      "application/vnd.jupyter.widget-view+json": {
       "model_id": "",
       "version_major": 2,
       "version_minor": 0
      },
      "text/plain": [
       "  0%|          | 0/16 [00:00<?, ?it/s]"
      ]
     },
     "metadata": {},
     "output_type": "display_data"
    },
    {
     "data": {
      "application/vnd.jupyter.widget-view+json": {
       "model_id": "",
       "version_major": 2,
       "version_minor": 0
      },
      "text/plain": [
       "  0%|          | 0/192 [00:00<?, ?it/s]"
      ]
     },
     "metadata": {},
     "output_type": "display_data"
    },
    {
     "data": {
      "application/vnd.jupyter.widget-view+json": {
       "model_id": "",
       "version_major": 2,
       "version_minor": 0
      },
      "text/plain": [
       "  0%|          | 0/16 [00:00<?, ?it/s]"
      ]
     },
     "metadata": {},
     "output_type": "display_data"
    },
    {
     "data": {
      "application/vnd.jupyter.widget-view+json": {
       "model_id": "",
       "version_major": 2,
       "version_minor": 0
      },
      "text/plain": [
       "  0%|          | 0/192 [00:00<?, ?it/s]"
      ]
     },
     "metadata": {},
     "output_type": "display_data"
    },
    {
     "data": {
      "application/vnd.jupyter.widget-view+json": {
       "model_id": "",
       "version_major": 2,
       "version_minor": 0
      },
      "text/plain": [
       "  0%|          | 0/16 [00:00<?, ?it/s]"
      ]
     },
     "metadata": {},
     "output_type": "display_data"
    },
    {
     "data": {
      "application/vnd.jupyter.widget-view+json": {
       "model_id": "",
       "version_major": 2,
       "version_minor": 0
      },
      "text/plain": [
       "  0%|          | 0/192 [00:00<?, ?it/s]"
      ]
     },
     "metadata": {},
     "output_type": "display_data"
    },
    {
     "data": {
      "application/vnd.jupyter.widget-view+json": {
       "model_id": "",
       "version_major": 2,
       "version_minor": 0
      },
      "text/plain": [
       "  0%|          | 0/16 [00:00<?, ?it/s]"
      ]
     },
     "metadata": {},
     "output_type": "display_data"
    },
    {
     "data": {
      "application/vnd.jupyter.widget-view+json": {
       "model_id": "",
       "version_major": 2,
       "version_minor": 0
      },
      "text/plain": [
       "  0%|          | 0/192 [00:00<?, ?it/s]"
      ]
     },
     "metadata": {},
     "output_type": "display_data"
    },
    {
     "data": {
      "application/vnd.jupyter.widget-view+json": {
       "model_id": "",
       "version_major": 2,
       "version_minor": 0
      },
      "text/plain": [
       "  0%|          | 0/16 [00:00<?, ?it/s]"
      ]
     },
     "metadata": {},
     "output_type": "display_data"
    },
    {
     "data": {
      "application/vnd.jupyter.widget-view+json": {
       "model_id": "",
       "version_major": 2,
       "version_minor": 0
      },
      "text/plain": [
       "  0%|          | 0/192 [00:00<?, ?it/s]"
      ]
     },
     "metadata": {},
     "output_type": "display_data"
    },
    {
     "data": {
      "application/vnd.jupyter.widget-view+json": {
       "model_id": "",
       "version_major": 2,
       "version_minor": 0
      },
      "text/plain": [
       "  0%|          | 0/16 [00:00<?, ?it/s]"
      ]
     },
     "metadata": {},
     "output_type": "display_data"
    },
    {
     "data": {
      "application/vnd.jupyter.widget-view+json": {
       "model_id": "",
       "version_major": 2,
       "version_minor": 0
      },
      "text/plain": [
       "  0%|          | 0/192 [00:00<?, ?it/s]"
      ]
     },
     "metadata": {},
     "output_type": "display_data"
    },
    {
     "data": {
      "application/vnd.jupyter.widget-view+json": {
       "model_id": "",
       "version_major": 2,
       "version_minor": 0
      },
      "text/plain": [
       "  0%|          | 0/16 [00:00<?, ?it/s]"
      ]
     },
     "metadata": {},
     "output_type": "display_data"
    },
    {
     "data": {
      "application/vnd.jupyter.widget-view+json": {
       "model_id": "",
       "version_major": 2,
       "version_minor": 0
      },
      "text/plain": [
       "  0%|          | 0/192 [00:00<?, ?it/s]"
      ]
     },
     "metadata": {},
     "output_type": "display_data"
    },
    {
     "data": {
      "application/vnd.jupyter.widget-view+json": {
       "model_id": "",
       "version_major": 2,
       "version_minor": 0
      },
      "text/plain": [
       "  0%|          | 0/16 [00:00<?, ?it/s]"
      ]
     },
     "metadata": {},
     "output_type": "display_data"
    },
    {
     "data": {
      "application/vnd.jupyter.widget-view+json": {
       "model_id": "",
       "version_major": 2,
       "version_minor": 0
      },
      "text/plain": [
       "  0%|          | 0/192 [00:00<?, ?it/s]"
      ]
     },
     "metadata": {},
     "output_type": "display_data"
    },
    {
     "data": {
      "application/vnd.jupyter.widget-view+json": {
       "model_id": "",
       "version_major": 2,
       "version_minor": 0
      },
      "text/plain": [
       "  0%|          | 0/16 [00:00<?, ?it/s]"
      ]
     },
     "metadata": {},
     "output_type": "display_data"
    },
    {
     "data": {
      "application/vnd.jupyter.widget-view+json": {
       "model_id": "",
       "version_major": 2,
       "version_minor": 0
      },
      "text/plain": [
       "  0%|          | 0/192 [00:00<?, ?it/s]"
      ]
     },
     "metadata": {},
     "output_type": "display_data"
    },
    {
     "data": {
      "application/vnd.jupyter.widget-view+json": {
       "model_id": "",
       "version_major": 2,
       "version_minor": 0
      },
      "text/plain": [
       "  0%|          | 0/16 [00:00<?, ?it/s]"
      ]
     },
     "metadata": {},
     "output_type": "display_data"
    },
    {
     "data": {
      "application/vnd.jupyter.widget-view+json": {
       "model_id": "",
       "version_major": 2,
       "version_minor": 0
      },
      "text/plain": [
       "  0%|          | 0/192 [00:00<?, ?it/s]"
      ]
     },
     "metadata": {},
     "output_type": "display_data"
    },
    {
     "data": {
      "application/vnd.jupyter.widget-view+json": {
       "model_id": "",
       "version_major": 2,
       "version_minor": 0
      },
      "text/plain": [
       "  0%|          | 0/16 [00:00<?, ?it/s]"
      ]
     },
     "metadata": {},
     "output_type": "display_data"
    },
    {
     "data": {
      "application/vnd.jupyter.widget-view+json": {
       "model_id": "",
       "version_major": 2,
       "version_minor": 0
      },
      "text/plain": [
       "  0%|          | 0/192 [00:00<?, ?it/s]"
      ]
     },
     "metadata": {},
     "output_type": "display_data"
    },
    {
     "data": {
      "application/vnd.jupyter.widget-view+json": {
       "model_id": "",
       "version_major": 2,
       "version_minor": 0
      },
      "text/plain": [
       "  0%|          | 0/16 [00:00<?, ?it/s]"
      ]
     },
     "metadata": {},
     "output_type": "display_data"
    },
    {
     "data": {
      "application/vnd.jupyter.widget-view+json": {
       "model_id": "",
       "version_major": 2,
       "version_minor": 0
      },
      "text/plain": [
       "  0%|          | 0/192 [00:00<?, ?it/s]"
      ]
     },
     "metadata": {},
     "output_type": "display_data"
    },
    {
     "data": {
      "application/vnd.jupyter.widget-view+json": {
       "model_id": "",
       "version_major": 2,
       "version_minor": 0
      },
      "text/plain": [
       "  0%|          | 0/16 [00:00<?, ?it/s]"
      ]
     },
     "metadata": {},
     "output_type": "display_data"
    },
    {
     "data": {
      "application/vnd.jupyter.widget-view+json": {
       "model_id": "",
       "version_major": 2,
       "version_minor": 0
      },
      "text/plain": [
       "  0%|          | 0/192 [00:00<?, ?it/s]"
      ]
     },
     "metadata": {},
     "output_type": "display_data"
    },
    {
     "data": {
      "application/vnd.jupyter.widget-view+json": {
       "model_id": "",
       "version_major": 2,
       "version_minor": 0
      },
      "text/plain": [
       "  0%|          | 0/16 [00:00<?, ?it/s]"
      ]
     },
     "metadata": {},
     "output_type": "display_data"
    },
    {
     "data": {
      "application/vnd.jupyter.widget-view+json": {
       "model_id": "",
       "version_major": 2,
       "version_minor": 0
      },
      "text/plain": [
       "  0%|          | 0/192 [00:00<?, ?it/s]"
      ]
     },
     "metadata": {},
     "output_type": "display_data"
    },
    {
     "data": {
      "application/vnd.jupyter.widget-view+json": {
       "model_id": "",
       "version_major": 2,
       "version_minor": 0
      },
      "text/plain": [
       "  0%|          | 0/16 [00:00<?, ?it/s]"
      ]
     },
     "metadata": {},
     "output_type": "display_data"
    },
    {
     "data": {
      "application/vnd.jupyter.widget-view+json": {
       "model_id": "",
       "version_major": 2,
       "version_minor": 0
      },
      "text/plain": [
       "  0%|          | 0/192 [00:00<?, ?it/s]"
      ]
     },
     "metadata": {},
     "output_type": "display_data"
    },
    {
     "data": {
      "application/vnd.jupyter.widget-view+json": {
       "model_id": "",
       "version_major": 2,
       "version_minor": 0
      },
      "text/plain": [
       "  0%|          | 0/16 [00:00<?, ?it/s]"
      ]
     },
     "metadata": {},
     "output_type": "display_data"
    },
    {
     "data": {
      "application/vnd.jupyter.widget-view+json": {
       "model_id": "",
       "version_major": 2,
       "version_minor": 0
      },
      "text/plain": [
       "  0%|          | 0/192 [00:00<?, ?it/s]"
      ]
     },
     "metadata": {},
     "output_type": "display_data"
    },
    {
     "data": {
      "application/vnd.jupyter.widget-view+json": {
       "model_id": "",
       "version_major": 2,
       "version_minor": 0
      },
      "text/plain": [
       "  0%|          | 0/16 [00:00<?, ?it/s]"
      ]
     },
     "metadata": {},
     "output_type": "display_data"
    },
    {
     "data": {
      "application/vnd.jupyter.widget-view+json": {
       "model_id": "",
       "version_major": 2,
       "version_minor": 0
      },
      "text/plain": [
       "  0%|          | 0/192 [00:00<?, ?it/s]"
      ]
     },
     "metadata": {},
     "output_type": "display_data"
    },
    {
     "data": {
      "application/vnd.jupyter.widget-view+json": {
       "model_id": "",
       "version_major": 2,
       "version_minor": 0
      },
      "text/plain": [
       "  0%|          | 0/16 [00:00<?, ?it/s]"
      ]
     },
     "metadata": {},
     "output_type": "display_data"
    },
    {
     "data": {
      "application/vnd.jupyter.widget-view+json": {
       "model_id": "",
       "version_major": 2,
       "version_minor": 0
      },
      "text/plain": [
       "  0%|          | 0/192 [00:00<?, ?it/s]"
      ]
     },
     "metadata": {},
     "output_type": "display_data"
    },
    {
     "data": {
      "application/vnd.jupyter.widget-view+json": {
       "model_id": "",
       "version_major": 2,
       "version_minor": 0
      },
      "text/plain": [
       "  0%|          | 0/16 [00:00<?, ?it/s]"
      ]
     },
     "metadata": {},
     "output_type": "display_data"
    },
    {
     "data": {
      "application/vnd.jupyter.widget-view+json": {
       "model_id": "",
       "version_major": 2,
       "version_minor": 0
      },
      "text/plain": [
       "  0%|          | 0/192 [00:00<?, ?it/s]"
      ]
     },
     "metadata": {},
     "output_type": "display_data"
    },
    {
     "data": {
      "application/vnd.jupyter.widget-view+json": {
       "model_id": "",
       "version_major": 2,
       "version_minor": 0
      },
      "text/plain": [
       "  0%|          | 0/16 [00:00<?, ?it/s]"
      ]
     },
     "metadata": {},
     "output_type": "display_data"
    },
    {
     "data": {
      "application/vnd.jupyter.widget-view+json": {
       "model_id": "",
       "version_major": 2,
       "version_minor": 0
      },
      "text/plain": [
       "  0%|          | 0/192 [00:00<?, ?it/s]"
      ]
     },
     "metadata": {},
     "output_type": "display_data"
    },
    {
     "data": {
      "application/vnd.jupyter.widget-view+json": {
       "model_id": "",
       "version_major": 2,
       "version_minor": 0
      },
      "text/plain": [
       "  0%|          | 0/16 [00:00<?, ?it/s]"
      ]
     },
     "metadata": {},
     "output_type": "display_data"
    },
    {
     "data": {
      "application/vnd.jupyter.widget-view+json": {
       "model_id": "",
       "version_major": 2,
       "version_minor": 0
      },
      "text/plain": [
       "  0%|          | 0/192 [00:00<?, ?it/s]"
      ]
     },
     "metadata": {},
     "output_type": "display_data"
    },
    {
     "data": {
      "application/vnd.jupyter.widget-view+json": {
       "model_id": "",
       "version_major": 2,
       "version_minor": 0
      },
      "text/plain": [
       "  0%|          | 0/16 [00:00<?, ?it/s]"
      ]
     },
     "metadata": {},
     "output_type": "display_data"
    },
    {
     "data": {
      "application/vnd.jupyter.widget-view+json": {
       "model_id": "",
       "version_major": 2,
       "version_minor": 0
      },
      "text/plain": [
       "  0%|          | 0/192 [00:00<?, ?it/s]"
      ]
     },
     "metadata": {},
     "output_type": "display_data"
    },
    {
     "data": {
      "application/vnd.jupyter.widget-view+json": {
       "model_id": "",
       "version_major": 2,
       "version_minor": 0
      },
      "text/plain": [
       "  0%|          | 0/16 [00:00<?, ?it/s]"
      ]
     },
     "metadata": {},
     "output_type": "display_data"
    },
    {
     "data": {
      "application/vnd.jupyter.widget-view+json": {
       "model_id": "",
       "version_major": 2,
       "version_minor": 0
      },
      "text/plain": [
       "  0%|          | 0/192 [00:00<?, ?it/s]"
      ]
     },
     "metadata": {},
     "output_type": "display_data"
    },
    {
     "data": {
      "application/vnd.jupyter.widget-view+json": {
       "model_id": "",
       "version_major": 2,
       "version_minor": 0
      },
      "text/plain": [
       "  0%|          | 0/16 [00:00<?, ?it/s]"
      ]
     },
     "metadata": {},
     "output_type": "display_data"
    }
   ],
   "source": [
    "# train\n",
    "ch.manual_seed(0)\n",
    "args.__setattr__('epochs', 50)\n",
    "config.args = args\n",
    "final_model = train.train_model(args, standard[0], (trunc_train_loader, trunc_val_loader), store=out_store, parallel=args.parallel)\n",
    "out_store.close()"
   ]
  },
  {
   "cell_type": "code",
   "execution_count": 166,
   "metadata": {},
   "outputs": [
    {
     "name": "stderr",
     "output_type": "stream",
     "text": [
      "100%|██████████| 5/5 [00:00<00:00, 137.82it/s]"
     ]
    },
    {
     "name": "stdout",
     "output_type": "stream",
     "text": [
      "Warning: exp_id 1cf0144c-8ab4-4b61-99b7-fad8ad7ba008 has no table 'metadata'. Skipping.\n",
      "Warning: exp_id 37fcbd05-1d4f-41bb-a5b8-b100b646e411 has no table 'metadata'. Skipping.\n",
      "Warning: exp_id 1cf0144c-8ab4-4b61-99b7-fad8ad7ba008 has no table 'logs'. Skipping.\n",
      "Warning: exp_id 37fcbd05-1d4f-41bb-a5b8-b100b646e411 has no table 'logs'. Skipping.\n"
     ]
    },
    {
     "name": "stderr",
     "output_type": "stream",
     "text": [
      "\n"
     ]
    },
    {
     "data": {
      "text/html": [
       "<div>\n",
       "<style scoped>\n",
       "    .dataframe tbody tr th:only-of-type {\n",
       "        vertical-align: middle;\n",
       "    }\n",
       "\n",
       "    .dataframe tbody tr th {\n",
       "        vertical-align: top;\n",
       "    }\n",
       "\n",
       "    .dataframe thead th {\n",
       "        text-align: right;\n",
       "    }\n",
       "</style>\n",
       "<table border=\"1\" class=\"dataframe\">\n",
       "  <thead>\n",
       "    <tr style=\"text-align: right;\">\n",
       "      <th></th>\n",
       "      <th>epoch</th>\n",
       "      <th>val_prec1</th>\n",
       "      <th>val_loss</th>\n",
       "      <th>train_prec1</th>\n",
       "      <th>train_loss</th>\n",
       "      <th>time</th>\n",
       "      <th>exp_id</th>\n",
       "    </tr>\n",
       "  </thead>\n",
       "  <tbody>\n",
       "    <tr>\n",
       "      <th>0</th>\n",
       "      <td>1</td>\n",
       "      <td>59.478794</td>\n",
       "      <td>1.083593</td>\n",
       "      <td>52.905701</td>\n",
       "      <td>1.268789</td>\n",
       "      <td>13.946376</td>\n",
       "      <td>47122219-ce59-4418-a6da-2bb1525781c9</td>\n",
       "    </tr>\n",
       "    <tr>\n",
       "      <th>1</th>\n",
       "      <td>2</td>\n",
       "      <td>68.421051</td>\n",
       "      <td>0.854780</td>\n",
       "      <td>60.261639</td>\n",
       "      <td>1.076013</td>\n",
       "      <td>27.640779</td>\n",
       "      <td>47122219-ce59-4418-a6da-2bb1525781c9</td>\n",
       "    </tr>\n",
       "    <tr>\n",
       "      <th>2</th>\n",
       "      <td>3</td>\n",
       "      <td>74.961678</td>\n",
       "      <td>0.681611</td>\n",
       "      <td>63.269218</td>\n",
       "      <td>1.006807</td>\n",
       "      <td>41.337659</td>\n",
       "      <td>47122219-ce59-4418-a6da-2bb1525781c9</td>\n",
       "    </tr>\n",
       "    <tr>\n",
       "      <th>3</th>\n",
       "      <td>4</td>\n",
       "      <td>75.114967</td>\n",
       "      <td>0.676951</td>\n",
       "      <td>66.916618</td>\n",
       "      <td>0.910291</td>\n",
       "      <td>55.046795</td>\n",
       "      <td>47122219-ce59-4418-a6da-2bb1525781c9</td>\n",
       "    </tr>\n",
       "    <tr>\n",
       "      <th>4</th>\n",
       "      <td>5</td>\n",
       "      <td>76.443535</td>\n",
       "      <td>0.639019</td>\n",
       "      <td>71.207924</td>\n",
       "      <td>0.796025</td>\n",
       "      <td>68.707263</td>\n",
       "      <td>47122219-ce59-4418-a6da-2bb1525781c9</td>\n",
       "    </tr>\n",
       "    <tr>\n",
       "      <th>...</th>\n",
       "      <td>...</td>\n",
       "      <td>...</td>\n",
       "      <td>...</td>\n",
       "      <td>...</td>\n",
       "      <td>...</td>\n",
       "      <td>...</td>\n",
       "      <td>...</td>\n",
       "    </tr>\n",
       "    <tr>\n",
       "      <th>20</th>\n",
       "      <td>21</td>\n",
       "      <td>88.809402</td>\n",
       "      <td>0.350789</td>\n",
       "      <td>99.400932</td>\n",
       "      <td>0.027519</td>\n",
       "      <td>287.299874</td>\n",
       "      <td>bd965958-95f6-4960-988a-d7620275d5e2</td>\n",
       "    </tr>\n",
       "    <tr>\n",
       "      <th>21</th>\n",
       "      <td>22</td>\n",
       "      <td>89.115990</td>\n",
       "      <td>0.351069</td>\n",
       "      <td>99.535416</td>\n",
       "      <td>0.021595</td>\n",
       "      <td>300.953735</td>\n",
       "      <td>bd965958-95f6-4960-988a-d7620275d5e2</td>\n",
       "    </tr>\n",
       "    <tr>\n",
       "      <th>22</th>\n",
       "      <td>23</td>\n",
       "      <td>88.962700</td>\n",
       "      <td>0.348430</td>\n",
       "      <td>99.678055</td>\n",
       "      <td>0.016253</td>\n",
       "      <td>314.625666</td>\n",
       "      <td>bd965958-95f6-4960-988a-d7620275d5e2</td>\n",
       "    </tr>\n",
       "    <tr>\n",
       "      <th>23</th>\n",
       "      <td>24</td>\n",
       "      <td>89.064896</td>\n",
       "      <td>0.347086</td>\n",
       "      <td>99.763634</td>\n",
       "      <td>0.013332</td>\n",
       "      <td>328.300996</td>\n",
       "      <td>bd965958-95f6-4960-988a-d7620275d5e2</td>\n",
       "    </tr>\n",
       "    <tr>\n",
       "      <th>24</th>\n",
       "      <td>25</td>\n",
       "      <td>89.320389</td>\n",
       "      <td>0.346113</td>\n",
       "      <td>99.836990</td>\n",
       "      <td>0.010848</td>\n",
       "      <td>342.247125</td>\n",
       "      <td>bd965958-95f6-4960-988a-d7620275d5e2</td>\n",
       "    </tr>\n",
       "  </tbody>\n",
       "</table>\n",
       "<p>75 rows × 7 columns</p>\n",
       "</div>"
      ],
      "text/plain": [
       "    epoch  val_prec1  val_loss  train_prec1  train_loss        time  \\\n",
       "0       1  59.478794  1.083593    52.905701    1.268789   13.946376   \n",
       "1       2  68.421051  0.854780    60.261639    1.076013   27.640779   \n",
       "2       3  74.961678  0.681611    63.269218    1.006807   41.337659   \n",
       "3       4  75.114967  0.676951    66.916618    0.910291   55.046795   \n",
       "4       5  76.443535  0.639019    71.207924    0.796025   68.707263   \n",
       "..    ...        ...       ...          ...         ...         ...   \n",
       "20     21  88.809402  0.350789    99.400932    0.027519  287.299874   \n",
       "21     22  89.115990  0.351069    99.535416    0.021595  300.953735   \n",
       "22     23  88.962700  0.348430    99.678055    0.016253  314.625666   \n",
       "23     24  89.064896  0.347086    99.763634    0.013332  328.300996   \n",
       "24     25  89.320389  0.346113    99.836990    0.010848  342.247125   \n",
       "\n",
       "                                  exp_id  \n",
       "0   47122219-ce59-4418-a6da-2bb1525781c9  \n",
       "1   47122219-ce59-4418-a6da-2bb1525781c9  \n",
       "2   47122219-ce59-4418-a6da-2bb1525781c9  \n",
       "3   47122219-ce59-4418-a6da-2bb1525781c9  \n",
       "4   47122219-ce59-4418-a6da-2bb1525781c9  \n",
       "..                                   ...  \n",
       "20  bd965958-95f6-4960-988a-d7620275d5e2  \n",
       "21  bd965958-95f6-4960-988a-d7620275d5e2  \n",
       "22  bd965958-95f6-4960-988a-d7620275d5e2  \n",
       "23  bd965958-95f6-4960-988a-d7620275d5e2  \n",
       "24  bd965958-95f6-4960-988a-d7620275d5e2  \n",
       "\n",
       "[75 rows x 7 columns]"
      ]
     },
     "execution_count": 166,
     "metadata": {},
     "output_type": "execute_result"
    }
   ],
   "source": [
    "reader = CollectionReader(STANDARD_CLASSIFIER)\n",
    "metadata = reader.df('metadata')\n",
    "logs = reader.df('logs')\n",
    "reader.close()\n",
    "logs"
   ]
  },
  {
   "cell_type": "code",
   "execution_count": 167,
   "metadata": {},
   "outputs": [],
   "source": [
    "logs = logs[logs['exp_id'] == '47122219-ce59-4418-a6da-2bb1525781c9']"
   ]
  },
  {
   "cell_type": "code",
   "execution_count": 168,
   "metadata": {},
   "outputs": [
    {
     "data": {
      "image/png": "[encoded data removed]",
      "text/plain": [
       "<Figure size 432x288 with 1 Axes>"
      ]
     },
     "metadata": {
      "needs_background": "light"
     },
     "output_type": "display_data"
    },
    {
     "data": {
      "text/plain": [
       "<AxesSubplot:xlabel='epoch', ylabel='train_prec1'>"
      ]
     },
     "execution_count": 168,
     "metadata": {},
     "output_type": "execute_result"
    },
    {
     "data": {
      "image/png": "[encoded data removed]",
      "text/plain": [
       "<Figure size 432x288 with 1 Axes>"
      ]
     },
     "metadata": {
      "needs_background": "light"
     },
     "output_type": "display_data"
    }
   ],
   "source": [
    "sns.lineplot(data=logs, x='epoch', y='train_loss', label='train trunc loss')\n",
    "sns.lineplot(data=logs, x='epoch', y='val_loss', label='val trunc loss')\n",
    "plt.show()\n",
    "\n",
    "sns.lineplot(data=logs, x='epoch', y='train_prec1', label='train trunc acc')\n",
    "sns.lineplot(data=logs, x='epoch', y='val_prec1', label='val trunc acc')"
   ]
  },
  {
   "cell_type": "markdown",
   "metadata": {},
   "source": [
    "# Load Trained Models into Notebook"
   ]
  },
  {
   "cell_type": "code",
   "execution_count": 169,
   "metadata": {},
   "outputs": [
    {
     "name": "stdout",
     "output_type": "stream",
     "text": [
      "=> loading checkpoint '/home/pstefanou/cifar-10/resnet-18/base_calibrated_/5eb67274-bd07-4830-9a59-d406f3bcf3d7/checkpoint.pt.latest'\n",
      "=> loaded checkpoint '/home/pstefanou/cifar-10/resnet-18/base_calibrated_/5eb67274-bd07-4830-9a59-d406f3bcf3d7/checkpoint.pt.latest' (epoch 25)\n",
      "=> loading checkpoint '/home/pstefanou/cifar-10/resnet-18/trunc_new/bffa1464-4d21-408d-ac00-daa68591fee6/checkpoint.pt.latest'\n",
      "=> loaded checkpoint '/home/pstefanou/cifar-10/resnet-18/trunc_new/bffa1464-4d21-408d-ac00-daa68591fee6/checkpoint.pt.latest' (epoch 25)\n",
      "=> loading checkpoint '/home/pstefanou/cifar-10/resnet-18/standard_new/47122219-ce59-4418-a6da-2bb1525781c9/checkpoint.pt.latest'\n",
      "=> loaded checkpoint '/home/pstefanou/cifar-10/resnet-18/standard_new/47122219-ce59-4418-a6da-2bb1525781c9/checkpoint.pt.latest' (epoch 25)\n"
     ]
    }
   ],
   "source": [
    "base = model_utils.make_and_restore_model(arch='resnet18', dataset=ds, resume_path=BASE_CLASSIFIER_PATH)\n",
    "delphi_ = model_utils.make_and_restore_model(arch='resnet18', dataset=ds, resume_path=LOGIT_BALL_CLASSIFIER + '/bffa1464-4d21-408d-ac00-daa68591fee6/checkpoint.pt.latest')\n",
    "standard_model =  model_utils.make_and_restore_model(arch='resnet18', dataset=ds, resume_path=STANDARD_CLASSIFIER + '/47122219-ce59-4418-a6da-2bb1525781c9/checkpoint.pt.latest')"
   ]
  },
  {
   "cell_type": "markdown",
   "metadata": {},
   "source": [
    "# Test Accuracy"
   ]
  },
  {
   "cell_type": "code",
   "execution_count": 170,
   "metadata": {},
   "outputs": [
    {
     "name": "stdout",
     "output_type": "stream",
     "text": [
      "Logging in: /home/pstefanou/cifar-10/resnet-18/trunc_new/c02b5911-3ff1-4e81-bc70-d0119076e519\n"
     ]
    }
   ],
   "source": [
    "delphi_store = store.Store(LOGIT_BALL_CLASSIFIER)"
   ]
  },
  {
   "cell_type": "code",
   "execution_count": 171,
   "metadata": {},
   "outputs": [
    {
     "data": {
      "application/vnd.jupyter.widget-view+json": {
       "model_id": "",
       "version_major": 2,
       "version_minor": 0
      },
      "text/plain": [
       "  0%|          | 0/184 [00:00<?, ?it/s]"
      ]
     },
     "metadata": {},
     "output_type": "display_data"
    },
    {
     "name": "stdout",
     "output_type": "stream",
     "text": [
      "delphi test results:  {'test_prec1': tensor(67.1772, device='cuda:0'), 'test_loss': 1.223622854662256, 'time': 4.263863563537598}\n"
     ]
    },
    {
     "data": {
      "application/vnd.jupyter.widget-view+json": {
       "model_id": "",
       "version_major": 2,
       "version_minor": 0
      },
      "text/plain": [
       "  0%|          | 0/192 [00:00<?, ?it/s]"
      ]
     },
     "metadata": {},
     "output_type": "display_data"
    },
    {
     "name": "stdout",
     "output_type": "stream",
     "text": [
      "delphi train results:  {'test_prec1': tensor(99.9959, device='cuda:0'), 'test_loss': 0.0013458732309168538, 'time': 4.2854323387146}\n"
     ]
    },
    {
     "data": {
      "application/vnd.jupyter.widget-view+json": {
       "model_id": "",
       "version_major": 2,
       "version_minor": 0
      },
      "text/plain": [
       "  0%|          | 0/16 [00:00<?, ?it/s]"
      ]
     },
     "metadata": {},
     "output_type": "display_data"
    },
    {
     "name": "stdout",
     "output_type": "stream",
     "text": [
      "delphi val results:  {'test_prec1': tensor(95.7077, device='cuda:0'), 'test_loss': 0.1209679851246599, 'time': 1.1158814430236816}\n"
     ]
    }
   ],
   "source": [
    "delphi_test_results = train.eval_model(args, delphi_[0], trunc_test_loader, delphi_store)\n",
    "print(\"delphi test results: \", delphi_test_results)\n",
    "\n",
    "delphi_train_results = train.eval_model(args, delphi_[0], trunc_train_loader, delphi_store)\n",
    "print(\"delphi train results: \", delphi_train_results)\n",
    "\n",
    "delphi_val_results = train.eval_model(args, delphi_[0], trunc_val_loader, delphi_store)\n",
    "print(\"delphi val results: \", delphi_val_results)\n",
    "delphi_store.close()"
   ]
  },
  {
   "cell_type": "code",
   "execution_count": 172,
   "metadata": {},
   "outputs": [
    {
     "name": "stdout",
     "output_type": "stream",
     "text": [
      "Logging in: /home/pstefanou/cifar-10/resnet-18/base_calibrated_/d5d86796-ddf0-4ce0-bd80-cbd76b9a318d\n"
     ]
    }
   ],
   "source": [
    "base_store = store.Store(BASE_CLASSIFIER)"
   ]
  },
  {
   "cell_type": "code",
   "execution_count": 173,
   "metadata": {},
   "outputs": [
    {
     "data": {
      "application/vnd.jupyter.widget-view+json": {
       "model_id": "",
       "version_major": 2,
       "version_minor": 0
      },
      "text/plain": [
       "  0%|          | 0/184 [00:00<?, ?it/s]"
      ]
     },
     "metadata": {},
     "output_type": "display_data"
    },
    {
     "name": "stdout",
     "output_type": "stream",
     "text": [
      "base test results:  {'test_prec1': tensor(97.5920, device='cuda:0'), 'test_loss': 0.08211812506144768, 'time': 4.23314094543457}\n"
     ]
    },
    {
     "data": {
      "application/vnd.jupyter.widget-view+json": {
       "model_id": "",
       "version_major": 2,
       "version_minor": 0
      },
      "text/plain": [
       "  0%|          | 0/192 [00:00<?, ?it/s]"
      ]
     },
     "metadata": {},
     "output_type": "display_data"
    },
    {
     "name": "stdout",
     "output_type": "stream",
     "text": [
      "base train results:  {'test_prec1': tensor(100., device='cuda:0'), 'test_loss': 0.00021589088491232844, 'time': 4.286779403686523}\n"
     ]
    },
    {
     "data": {
      "application/vnd.jupyter.widget-view+json": {
       "model_id": "",
       "version_major": 2,
       "version_minor": 0
      },
      "text/plain": [
       "  0%|          | 0/16 [00:00<?, ?it/s]"
      ]
     },
     "metadata": {},
     "output_type": "display_data"
    },
    {
     "name": "stdout",
     "output_type": "stream",
     "text": [
      "base val results:  {'test_prec1': tensor(98.7736, device='cuda:0'), 'test_loss': 0.06592504394726505, 'time': 1.1121530532836914}\n"
     ]
    }
   ],
   "source": [
    "base_test_results = train.eval_model(args, base[0], trunc_test_loader, base_store)\n",
    "print(\"base test results: \", base_test_results)\n",
    "\n",
    "base_train_results = train.eval_model(args, base[0], trunc_train_loader, base_store)\n",
    "print(\"base train results: \", base_train_results)\n",
    "\n",
    "base_val_results = train.eval_model(args, base[0], trunc_val_loader, base_store)\n",
    "print(\"base val results: \", base_val_results)\n",
    "base_store.close()"
   ]
  },
  {
   "cell_type": "code",
   "execution_count": 174,
   "metadata": {},
   "outputs": [
    {
     "name": "stdout",
     "output_type": "stream",
     "text": [
      "Logging in: /home/pstefanou/cifar-10/resnet-18/standard_new/ab74f18a-3771-42b5-985d-a017c383e6ef\n"
     ]
    }
   ],
   "source": [
    "standard_store = store.Store(STANDARD_CLASSIFIER)"
   ]
  },
  {
   "cell_type": "code",
   "execution_count": 175,
   "metadata": {},
   "outputs": [
    {
     "data": {
      "application/vnd.jupyter.widget-view+json": {
       "model_id": "",
       "version_major": 2,
       "version_minor": 0
      },
      "text/plain": [
       "  0%|          | 0/184 [00:00<?, ?it/s]"
      ]
     },
     "metadata": {},
     "output_type": "display_data"
    },
    {
     "name": "stdout",
     "output_type": "stream",
     "text": [
      "standard test results:  {'test_prec1': tensor(66.9815, device='cuda:0'), 'test_loss': 1.1923002752743486, 'time': 4.2344396114349365}\n"
     ]
    },
    {
     "data": {
      "application/vnd.jupyter.widget-view+json": {
       "model_id": "",
       "version_major": 2,
       "version_minor": 0
      },
      "text/plain": [
       "  0%|          | 0/192 [00:00<?, ?it/s]"
      ]
     },
     "metadata": {},
     "output_type": "display_data"
    },
    {
     "name": "stdout",
     "output_type": "stream",
     "text": [
      "standard train results:  {'test_prec1': tensor(100., device='cuda:0'), 'test_loss': 0.0010211319128974146, 'time': 4.250631093978882}\n"
     ]
    },
    {
     "data": {
      "application/vnd.jupyter.widget-view+json": {
       "model_id": "",
       "version_major": 2,
       "version_minor": 0
      },
      "text/plain": [
       "  0%|          | 0/16 [00:00<?, ?it/s]"
      ]
     },
     "metadata": {},
     "output_type": "display_data"
    },
    {
     "name": "stdout",
     "output_type": "stream",
     "text": [
      "standard val results:  {'test_prec1': tensor(95.3500, device='cuda:0'), 'test_loss': 0.15206127987644413, 'time': 1.1209545135498047}\n"
     ]
    }
   ],
   "source": [
    "standard_test_results = train.eval_model(args, standard_model[0], trunc_test_loader, standard_store)\n",
    "print(\"standard test results: \", standard_test_results)\n",
    "\n",
    "standard_train_results = train.eval_model(args, standard_model[0], trunc_train_loader, standard_store)\n",
    "print(\"standard train results: \", standard_train_results)\n",
    "\n",
    "standard_val_results = train.eval_model(args, standard_model[0], trunc_val_loader, standard_store)\n",
    "print(\"standard val results: \", standard_val_results)\n",
    "standard_store.close()"
   ]
  },
  {
   "cell_type": "code",
   "execution_count": null,
   "metadata": {},
   "outputs": [],
   "source": []
  }
 ],
 "metadata": {
  "kernelspec": {
   "display_name": "Python 3",
   "language": "python",
   "name": "python3"
  },
  "language_info": {
   "codemirror_mode": {
    "name": "ipython",
    "version": 3
   },
   "file_extension": ".py",
   "mimetype": "text/x-python",
   "name": "python",
   "nbconvert_exporter": "python",
   "pygments_lexer": "ipython3",
   "version": "3.6.9"
  },
  "latex_envs": {
   "LaTeX_envs_menu_present": true,
   "autoclose": false,
   "autocomplete": true,
   "bibliofile": "biblio.bib",
   "cite_by": "apalike",
   "current_citInitial": 1,
   "eqLabelWithNumbers": true,
   "eqNumInitial": 1,
   "hotkeys": {
    "equation": "Ctrl-E",
    "itemize": "Ctrl-I"
   },
   "labels_anchors": false,
   "latex_user_defs": false,
   "report_style_numbering": false,
   "user_envs_cfg": false
  },
  "toc": {
   "base_numbering": 1,
   "nav_menu": {},
   "number_sections": true,
   "sideBar": true,
   "skip_h1_title": false,
   "title_cell": "Table of Contents",
   "title_sidebar": "Contents",
   "toc_cell": false,
   "toc_position": {},
   "toc_section_display": true,
   "toc_window_display": false
  },
  "varInspector": {
   "cols": {
    "lenName": 16,
    "lenType": 16,
    "lenVar": 40
   },
   "kernels_config": {
    "python": {
     "delete_cmd_postfix": "",
     "delete_cmd_prefix": "del ",
     "library": "var_list.py",
     "varRefreshCmd": "print(var_dic_list())"
    },
    "r": {
     "delete_cmd_postfix": ") ",
     "delete_cmd_prefix": "rm(",
     "library": "var_list.r",
     "varRefreshCmd": "cat(var_dic_list()) "
    }
   },
   "types_to_exclude": [
    "module",
    "function",
    "builtin_function_or_method",
    "instance",
    "_Feature"
   ],
   "window_display": false
  }
 },
 "nbformat": 4,
 "nbformat_minor": 2
}
