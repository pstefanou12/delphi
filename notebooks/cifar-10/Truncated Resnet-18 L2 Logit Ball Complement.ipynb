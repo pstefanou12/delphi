{
 "cells": [
  {
   "cell_type": "code",
   "execution_count": 1,
   "metadata": {},
   "outputs": [],
   "source": [
    "import sys\n",
    "sys.path.append('../..')\n",
    "from delphi import train\n",
    "from delphi.utils import model_utils\n",
    "from delphi import grad\n",
    "from delphi import oracle\n",
    "from delphi.utils.datasets import CIFAR\n",
    "import delphi.utils.constants as consts\n",
    "import delphi.utils.data_augmentation as da\n",
    "from delphi.utils.helpers import setup_store_with_metadata\n",
    "\n",
    "import torchvision \n",
    "from torchvision import transforms\n",
    "from torch.utils.data import DataLoader, Dataset\n",
    "import torch as ch\n",
    "import torch.nn as nn\n",
    "from torch import Tensor\n",
    "from torch.distributions import Gumbel\n",
    "import math\n",
    "import numpy as np\n",
    "import matplotlib.pyplot as plt\n",
    "import cox\n",
    "from cox.utils import Parameters\n",
    "import cox.store as store\n",
    "from cox.readers import CollectionReader\n",
    "import seaborn as sns\n",
    "import os\n",
    "import config\n",
    "import pickle\n",
    "import pandas as pd\n",
    "\n",
    "# set environment variable so that stores can create output files\n",
    "os.environ['HDF5_USE_FILE_LOCKING'] = 'FALSE'\n",
    "\n",
    "# noise distributions\n",
    "gumbel = Gumbel(0, 1)\n",
    "num_classes = 10\n",
    "\n",
    "# file path constants\n",
    "PRETRAIN = '/home/gridsan/stefanou/cifar-10/resnet-18/pretrained_model'\n",
    "BASE_CLASSIFIER = '/home/gridsan/stefanou/cifar-10/resnet-18/base_constant_1e-1'\n",
    "BASE_CLASSIFIER_PATH = BASE_CLASSIFIER + '/ee9b9c47-426e-4d3b-861c-2c72958fbbbe/checkpoint.pt.latest'\n",
    "LOGIT_BALL_CLASSIFIER = '/home/gridsan/stefanou/cifar-10/resnet-18/constant_trunc_1e-1'\n",
    "STANDARD_CLASSIFIER = '/home/gridsan/stefanou/cifar-10/resnet-18/constant_standard_1e-1'\n",
    "DATA_PATH = '/home/gridsan/stefanou/data/'\n",
    "TRUNC_TRAIN_DATASET = 'trunc_train_calibrated_logit_'\n",
    "TRUNC_VAL_DATASET = 'trunc_val_calibrated_logit_'\n",
    "TRUNC_TEST_DATASET = 'trunc_test_calibrated_logit_'\n",
    "\n",
    "# helper dataset\n",
    "class TruncatedCIFAR(Dataset):\n",
    "    \"\"\"\n",
    "    Truncated CIFAR-10 dataset [Kri09]_.\n",
    "    Original dataset has 50k training images and 10k testing images, with the\n",
    "    following classes:\n",
    "    * Airplane\n",
    "    * Automobile\n",
    "    * Bird\n",
    "    * Cat\n",
    "    * Deer\n",
    "    * Dog\n",
    "    * Frog\n",
    "    * Horse\n",
    "    * Ship\n",
    "    * Truck\n",
    "    .. [Kri09] Krizhevsky, A (2009). Learning Multiple Layers of Features\n",
    "        from Tiny Images. Technical Report.\n",
    "        \n",
    "    Truncated dataset only includes images and labels from original dataset that fall within the truncation set.\n",
    "    \"\"\"\n",
    "    def __init__(self, img, label, transform = None):\n",
    "        \"\"\"\n",
    "        \"\"\"\n",
    "        self.img = img \n",
    "        self.label = label\n",
    "        self.transform = transform\n",
    "\n",
    "    def __getitem__(self, idx):\n",
    "        \"\"\"\n",
    "        \"\"\"\n",
    "        x = self.img[idx]\n",
    "        y = self.label[idx]\n",
    "        # data augmentation\n",
    "        if self.transform: \n",
    "            x = self.transform(x)\n",
    "            \n",
    "        return x, y\n",
    "    \n",
    "    def __len__(self): \n",
    "        return self.img.size(0)\n",
    "transform_ = transforms.Compose(\n",
    "    [transforms.ToTensor()])\n",
    "\n",
    "# hyperparameters\n",
    "args = Parameters({ \n",
    "    'epochs': 25,\n",
    "    'workers': 8, \n",
    "    'batch_size': 128, \n",
    "    'lr': 1e-2, \n",
    "    'accuracy': True,\n",
    "    'momentum': 0.9, \n",
    "    'weight_decay': 5e-4, \n",
    "    'save_ckpt_iters': 25,\n",
    "    'should_save_ckpt': True,\n",
    "    'log_iters': 1,\n",
    "    'validation_split': .8,\n",
    "    'shuffle': True,\n",
    "    'parallel': False, \n",
    "    'num_samples': 1000,\n",
    "    'logit_ball': 7.5,\n",
    "    'trials': 5,\n",
    "    'temperature': nn.Parameter(ch.ones(1).cuda()),\n",
    "    'device': 'cuda' if ch.cuda.is_available() else 'cpu'\n",
    "})"
   ]
  },
  {
   "cell_type": "markdown",
   "metadata": {},
   "source": [
    "# Setup and Explore Dataset"
   ]
  },
  {
   "cell_type": "code",
   "execution_count": 2,
   "metadata": {},
   "outputs": [],
   "source": [
    "ds = CIFAR(data_path='/home/gridsan/stefanou/data')"
   ]
  },
  {
   "cell_type": "code",
   "execution_count": 3,
   "metadata": {},
   "outputs": [],
   "source": [
    "import torchvision \n",
    "\n",
    "ds = CIFAR(data_path='/home/gridsan/stefanou/data')\n",
    "\n",
    "dataset = torchvision.datasets.CIFAR10(root='/home/gridsan/stefanou/data', train=True,\n",
    "                                        download=False, transform=transform_)\n",
    "\n",
    "train_set, val_set = ch.utils.data.random_split(dataset, [45000, 5000])\n",
    "\n",
    "train_loader = ch.utils.data.DataLoader(train_set, batch_size=128,\n",
    "                                          shuffle=True, num_workers=2)\n",
    "\n",
    "val_loader = ch.utils.data.DataLoader(val_set, batch_size=128,\n",
    "                                          shuffle=True, num_workers=2)\n",
    "\n",
    "test_set = torchvision.datasets.CIFAR10(root='/home/gridsan/stefanou/data', train=False,\n",
    "                                       download=False, transform=transform_)\n",
    "test_loader = ch.utils.data.DataLoader(test_set, batch_size=128,\n",
    "                                         shuffle=False, num_workers=2)"
   ]
  },
  {
   "cell_type": "code",
   "execution_count": 4,
   "metadata": {},
   "outputs": [
    {
     "name": "stdout",
     "output_type": "stream",
     "text": [
      "label: bird\n"
     ]
    },
    {
     "data": {
      "image/png": "[encoded data removed]",
      "text/plain": [
       "<Figure size 432x288 with 1 Axes>"
      ]
     },
     "metadata": {
      "needs_background": "light"
     },
     "output_type": "display_data"
    },
    {
     "name": "stdout",
     "output_type": "stream",
     "text": [
      "label: deer\n"
     ]
    },
    {
     "data": {
      "image/png": "[encoded data removed]",
      "text/plain": [
       "<Figure size 432x288 with 1 Axes>"
      ]
     },
     "metadata": {
      "needs_background": "light"
     },
     "output_type": "display_data"
    },
    {
     "name": "stdout",
     "output_type": "stream",
     "text": [
      "label: frog\n"
     ]
    },
    {
     "data": {
      "image/png": "[encoded data removed]",
      "text/plain": [
       "<Figure size 432x288 with 1 Axes>"
      ]
     },
     "metadata": {
      "needs_background": "light"
     },
     "output_type": "display_data"
    },
    {
     "name": "stdout",
     "output_type": "stream",
     "text": [
      "label: automobile\n"
     ]
    },
    {
     "data": {
      "image/png": "[encoded data removed]",
      "text/plain": [
       "<Figure size 432x288 with 1 Axes>"
      ]
     },
     "metadata": {
      "needs_background": "light"
     },
     "output_type": "display_data"
    },
    {
     "name": "stdout",
     "output_type": "stream",
     "text": [
      "label: ship\n"
     ]
    },
    {
     "data": {
      "image/png": "[encoded data removed]",
      "text/plain": [
       "<Figure size 432x288 with 1 Axes>"
      ]
     },
     "metadata": {
      "needs_background": "light"
     },
     "output_type": "display_data"
    },
    {
     "name": "stdout",
     "output_type": "stream",
     "text": [
      "label: airplane\n"
     ]
    },
    {
     "data": {
      "image/png": "[encoded data removed]",
      "text/plain": [
       "<Figure size 432x288 with 1 Axes>"
      ]
     },
     "metadata": {
      "needs_background": "light"
     },
     "output_type": "display_data"
    },
    {
     "name": "stdout",
     "output_type": "stream",
     "text": [
      "label: cat\n"
     ]
    },
    {
     "data": {
      "image/png": "[encoded data removed]",
      "text/plain": [
       "<Figure size 432x288 with 1 Axes>"
      ]
     },
     "metadata": {
      "needs_background": "light"
     },
     "output_type": "display_data"
    },
    {
     "name": "stdout",
     "output_type": "stream",
     "text": [
      "label: truck\n"
     ]
    },
    {
     "data": {
      "image/png": "[encoded data removed]",
      "text/plain": [
       "<Figure size 432x288 with 1 Axes>"
      ]
     },
     "metadata": {
      "needs_background": "light"
     },
     "output_type": "display_data"
    },
    {
     "name": "stdout",
     "output_type": "stream",
     "text": [
      "label: dog\n"
     ]
    },
    {
     "data": {
      "image/png": "[encoded data removed]",
      "text/plain": [
       "<Figure size 432x288 with 1 Axes>"
      ]
     },
     "metadata": {
      "needs_background": "light"
     },
     "output_type": "display_data"
    },
    {
     "name": "stdout",
     "output_type": "stream",
     "text": [
      "label: horse\n"
     ]
    },
    {
     "data": {
      "image/png": "[encoded data removed]",
      "text/plain": [
       "<Figure size 432x288 with 1 Axes>"
      ]
     },
     "metadata": {
      "needs_background": "light"
     },
     "output_type": "display_data"
    }
   ],
   "source": [
    "labels = {i for i in range(10)}\n",
    "for image, target in train_loader: \n",
    "    for j in range(len(target)): \n",
    "        im, targ = image[j], target[j]\n",
    "        if targ.item() in labels: \n",
    "            print(\"label: {}\".format(da.CIFAR_LABELS[targ.item()]))\n",
    "            plt.imshow(transforms.ToPILImage(mode=\"RGB\")(im.squeeze(0)))\n",
    "            plt.show()\n",
    "            labels.remove(targ.item())\n",
    "        if len(labels) == 0: \n",
    "            break"
   ]
  },
  {
   "cell_type": "markdown",
   "metadata": {},
   "source": [
    "# Train Base Classifier"
   ]
  },
  {
   "cell_type": "code",
   "execution_count": 5,
   "metadata": {},
   "outputs": [
    {
     "name": "stdout",
     "output_type": "stream",
     "text": [
      "Logging in: /home/gridsan/stefanou/cifar-10/resnet-18/base_constant_1e-1/b5f22ea9-29ae-4fe8-8407-4b0a53f50afc\n"
     ]
    }
   ],
   "source": [
    "base_classifier, _ = model_utils.make_and_restore_model(arch='resnet18', dataset=ds)\n",
    "out_store = store.Store(BASE_CLASSIFIER)"
   ]
  },
  {
   "cell_type": "code",
   "execution_count": 6,
   "metadata": {},
   "outputs": [
    {
     "data": {
      "application/vnd.jupyter.widget-view+json": {
       "model_id": "6342c8e0f55a40c59429794cde465c48",
       "version_major": 2,
       "version_minor": 0
      },
      "text/plain": [
       "HBox(children=(FloatProgress(value=0.0, max=352.0), HTML(value='')))"
      ]
     },
     "metadata": {},
     "output_type": "display_data"
    },
    {
     "ename": "KeyboardInterrupt",
     "evalue": "",
     "output_type": "error",
     "traceback": [
      "\u001b[0;31m---------------------------------------------------------------------------\u001b[0m",
      "\u001b[0;31mKeyboardInterrupt\u001b[0m                         Traceback (most recent call last)",
      "\u001b[0;32m<ipython-input-6-ca00b5d6d3b1>\u001b[0m in \u001b[0;36m<module>\u001b[0;34m\u001b[0m\n\u001b[1;32m      1\u001b[0m \u001b[0;31m# train\u001b[0m\u001b[0;34m\u001b[0m\u001b[0;34m\u001b[0m\u001b[0;34m\u001b[0m\u001b[0m\n\u001b[1;32m      2\u001b[0m \u001b[0mch\u001b[0m\u001b[0;34m.\u001b[0m\u001b[0mmanual_seed\u001b[0m\u001b[0;34m(\u001b[0m\u001b[0;36m0\u001b[0m\u001b[0;34m)\u001b[0m\u001b[0;34m\u001b[0m\u001b[0;34m\u001b[0m\u001b[0m\n\u001b[0;32m----> 3\u001b[0;31m \u001b[0mtrain\u001b[0m\u001b[0;34m.\u001b[0m\u001b[0mtrain_model\u001b[0m\u001b[0;34m(\u001b[0m\u001b[0margs\u001b[0m\u001b[0;34m,\u001b[0m \u001b[0mbase_classifier\u001b[0m\u001b[0;34m,\u001b[0m \u001b[0;34m(\u001b[0m\u001b[0mtrain_loader\u001b[0m\u001b[0;34m,\u001b[0m \u001b[0mval_loader\u001b[0m\u001b[0;34m)\u001b[0m\u001b[0;34m,\u001b[0m \u001b[0mstore\u001b[0m\u001b[0;34m=\u001b[0m\u001b[0mout_store\u001b[0m\u001b[0;34m)\u001b[0m\u001b[0;34m\u001b[0m\u001b[0;34m\u001b[0m\u001b[0m\n\u001b[0m\u001b[1;32m      4\u001b[0m \u001b[0mout_store\u001b[0m\u001b[0;34m.\u001b[0m\u001b[0mclose\u001b[0m\u001b[0;34m(\u001b[0m\u001b[0;34m)\u001b[0m\u001b[0;34m\u001b[0m\u001b[0;34m\u001b[0m\u001b[0m\n",
      "\u001b[0;32m~/delphi/delphi/train.py\u001b[0m in \u001b[0;36mtrain_model\u001b[0;34m(args, model, loaders, phi, criterion, checkpoint, parallel, device, dp_device_ids, store, table, params, disable_no_grad)\u001b[0m\n\u001b[1;32m    237\u001b[0m     \u001b[0;32mwhile\u001b[0m \u001b[0;34m(\u001b[0m\u001b[0margs\u001b[0m\u001b[0;34m.\u001b[0m\u001b[0msteps\u001b[0m \u001b[0;32mis\u001b[0m \u001b[0;32mnot\u001b[0m \u001b[0;32mNone\u001b[0m \u001b[0;32mand\u001b[0m \u001b[0msteps\u001b[0m \u001b[0;34m<\u001b[0m \u001b[0margs\u001b[0m\u001b[0;34m.\u001b[0m\u001b[0msteps\u001b[0m\u001b[0;34m)\u001b[0m \u001b[0;32mor\u001b[0m \u001b[0;34m(\u001b[0m\u001b[0margs\u001b[0m\u001b[0;34m.\u001b[0m\u001b[0mepochs\u001b[0m \u001b[0;32mis\u001b[0m \u001b[0;32mnot\u001b[0m \u001b[0;32mNone\u001b[0m \u001b[0;32mand\u001b[0m \u001b[0mepoch\u001b[0m \u001b[0;34m<\u001b[0m \u001b[0margs\u001b[0m\u001b[0;34m.\u001b[0m\u001b[0mepochs\u001b[0m\u001b[0;34m)\u001b[0m\u001b[0;34m:\u001b[0m\u001b[0;34m\u001b[0m\u001b[0;34m\u001b[0m\u001b[0m\n\u001b[1;32m    238\u001b[0m         \u001b[0;32mtry\u001b[0m\u001b[0;34m:\u001b[0m\u001b[0;34m\u001b[0m\u001b[0;34m\u001b[0m\u001b[0m\n\u001b[0;32m--> 239\u001b[0;31m             \u001b[0mtrain_prec1\u001b[0m\u001b[0;34m,\u001b[0m \u001b[0mtrain_loss\u001b[0m \u001b[0;34m=\u001b[0m \u001b[0mmodel_loop\u001b[0m\u001b[0;34m(\u001b[0m\u001b[0margs\u001b[0m\u001b[0;34m,\u001b[0m \u001b[0;34m'train'\u001b[0m\u001b[0;34m,\u001b[0m \u001b[0mtrain_loader\u001b[0m\u001b[0;34m,\u001b[0m \u001b[0mmodel\u001b[0m\u001b[0;34m,\u001b[0m \u001b[0mphi\u001b[0m\u001b[0;34m,\u001b[0m \u001b[0mcriterion\u001b[0m\u001b[0;34m,\u001b[0m \u001b[0moptimizer\u001b[0m\u001b[0;34m,\u001b[0m \u001b[0mepoch\u001b[0m\u001b[0;34m+\u001b[0m\u001b[0;36m1\u001b[0m\u001b[0;34m,\u001b[0m \u001b[0msteps\u001b[0m\u001b[0;34m,\u001b[0m \u001b[0mwriter\u001b[0m\u001b[0;34m,\u001b[0m \u001b[0mdevice\u001b[0m\u001b[0;34m=\u001b[0m\u001b[0margs\u001b[0m\u001b[0;34m.\u001b[0m\u001b[0mdevice\u001b[0m\u001b[0;34m,\u001b[0m \u001b[0mschedule\u001b[0m\u001b[0;34m=\u001b[0m\u001b[0mschedule\u001b[0m\u001b[0;34m)\u001b[0m\u001b[0;34m\u001b[0m\u001b[0;34m\u001b[0m\u001b[0m\n\u001b[0m\u001b[1;32m    240\u001b[0m         \u001b[0;32mexcept\u001b[0m \u001b[0mProcedureComplete\u001b[0m\u001b[0;34m:\u001b[0m\u001b[0;34m\u001b[0m\u001b[0;34m\u001b[0m\u001b[0m\n\u001b[1;32m    241\u001b[0m             \u001b[0;32mreturn\u001b[0m \u001b[0mmodel\u001b[0m\u001b[0;34m\u001b[0m\u001b[0;34m\u001b[0m\u001b[0m\n",
      "\u001b[0;32m~/delphi/delphi/train.py\u001b[0m in \u001b[0;36mmodel_loop\u001b[0;34m(args, loop_type, loader, model, phi, criterion, optimizer, epoch, steps, writer, device, schedule)\u001b[0m\n\u001b[1;32m    431\u001b[0m         \u001b[0;31m# latent variable models\u001b[0m\u001b[0;34m\u001b[0m\u001b[0;34m\u001b[0m\u001b[0;34m\u001b[0m\u001b[0m\n\u001b[1;32m    432\u001b[0m         \u001b[0;32melse\u001b[0m\u001b[0;34m:\u001b[0m\u001b[0;34m\u001b[0m\u001b[0;34m\u001b[0m\u001b[0m\n\u001b[0;32m--> 433\u001b[0;31m             \u001b[0mlosses\u001b[0m\u001b[0;34m.\u001b[0m\u001b[0mupdate\u001b[0m\u001b[0;34m(\u001b[0m\u001b[0mloss\u001b[0m\u001b[0;34m.\u001b[0m\u001b[0mitem\u001b[0m\u001b[0;34m(\u001b[0m\u001b[0;34m)\u001b[0m\u001b[0;34m,\u001b[0m \u001b[0minp\u001b[0m\u001b[0;34m.\u001b[0m\u001b[0msize\u001b[0m\u001b[0;34m(\u001b[0m\u001b[0;36m0\u001b[0m\u001b[0;34m)\u001b[0m\u001b[0;34m)\u001b[0m\u001b[0;34m\u001b[0m\u001b[0;34m\u001b[0m\u001b[0m\n\u001b[0m\u001b[1;32m    434\u001b[0m             \u001b[0;31m# calculate accuracy metrics\u001b[0m\u001b[0;34m\u001b[0m\u001b[0;34m\u001b[0m\u001b[0;34m\u001b[0m\u001b[0m\n\u001b[1;32m    435\u001b[0m             \u001b[0;32mif\u001b[0m \u001b[0margs\u001b[0m\u001b[0;34m.\u001b[0m\u001b[0maccuracy\u001b[0m\u001b[0;34m:\u001b[0m\u001b[0;34m\u001b[0m\u001b[0;34m\u001b[0m\u001b[0m\n",
      "\u001b[0;31mKeyboardInterrupt\u001b[0m: "
     ]
    }
   ],
   "source": [
    "# train\n",
    "ch.manual_seed(0)\n",
    "train.train_model(args, base_classifier, (train_loader, val_loader), store=out_store)\n",
    "out_store.close()"
   ]
  },
  {
   "cell_type": "code",
   "execution_count": 85,
   "metadata": {},
   "outputs": [
    {
     "name": "stderr",
     "output_type": "stream",
     "text": [
      "100%|██████████| 1/1 [00:00<00:00, 145.53it/s]\n"
     ]
    },
    {
     "data": {
      "text/html": [
       "<div>\n",
       "<style scoped>\n",
       "    .dataframe tbody tr th:only-of-type {\n",
       "        vertical-align: middle;\n",
       "    }\n",
       "\n",
       "    .dataframe tbody tr th {\n",
       "        vertical-align: top;\n",
       "    }\n",
       "\n",
       "    .dataframe thead th {\n",
       "        text-align: right;\n",
       "    }\n",
       "</style>\n",
       "<table border=\"1\" class=\"dataframe\">\n",
       "  <thead>\n",
       "    <tr style=\"text-align: right;\">\n",
       "      <th></th>\n",
       "      <th>epoch</th>\n",
       "      <th>val_prec1</th>\n",
       "      <th>val_loss</th>\n",
       "      <th>train_prec1</th>\n",
       "      <th>train_loss</th>\n",
       "      <th>time</th>\n",
       "      <th>exp_id</th>\n",
       "    </tr>\n",
       "  </thead>\n",
       "  <tbody>\n",
       "    <tr>\n",
       "      <th>0</th>\n",
       "      <td>1</td>\n",
       "      <td>45.919998</td>\n",
       "      <td>1.504802</td>\n",
       "      <td>37.017776</td>\n",
       "      <td>1.736704</td>\n",
       "      <td>14.699303</td>\n",
       "      <td>ee9b9c47-426e-4d3b-861c-2c72958fbbbe</td>\n",
       "    </tr>\n",
       "    <tr>\n",
       "      <th>1</th>\n",
       "      <td>2</td>\n",
       "      <td>60.099998</td>\n",
       "      <td>1.117035</td>\n",
       "      <td>55.068890</td>\n",
       "      <td>1.230530</td>\n",
       "      <td>29.374748</td>\n",
       "      <td>ee9b9c47-426e-4d3b-861c-2c72958fbbbe</td>\n",
       "    </tr>\n",
       "    <tr>\n",
       "      <th>2</th>\n",
       "      <td>3</td>\n",
       "      <td>66.839996</td>\n",
       "      <td>0.957898</td>\n",
       "      <td>66.548889</td>\n",
       "      <td>0.944095</td>\n",
       "      <td>44.123084</td>\n",
       "      <td>ee9b9c47-426e-4d3b-861c-2c72958fbbbe</td>\n",
       "    </tr>\n",
       "    <tr>\n",
       "      <th>3</th>\n",
       "      <td>4</td>\n",
       "      <td>70.619995</td>\n",
       "      <td>0.827475</td>\n",
       "      <td>74.257782</td>\n",
       "      <td>0.736036</td>\n",
       "      <td>58.861183</td>\n",
       "      <td>ee9b9c47-426e-4d3b-861c-2c72958fbbbe</td>\n",
       "    </tr>\n",
       "    <tr>\n",
       "      <th>4</th>\n",
       "      <td>5</td>\n",
       "      <td>75.799995</td>\n",
       "      <td>0.700260</td>\n",
       "      <td>78.897781</td>\n",
       "      <td>0.597673</td>\n",
       "      <td>73.692871</td>\n",
       "      <td>ee9b9c47-426e-4d3b-861c-2c72958fbbbe</td>\n",
       "    </tr>\n",
       "  </tbody>\n",
       "</table>\n",
       "</div>"
      ],
      "text/plain": [
       "   epoch  val_prec1  val_loss  train_prec1  train_loss       time  \\\n",
       "0      1  45.919998  1.504802    37.017776    1.736704  14.699303   \n",
       "1      2  60.099998  1.117035    55.068890    1.230530  29.374748   \n",
       "2      3  66.839996  0.957898    66.548889    0.944095  44.123084   \n",
       "3      4  70.619995  0.827475    74.257782    0.736036  58.861183   \n",
       "4      5  75.799995  0.700260    78.897781    0.597673  73.692871   \n",
       "\n",
       "                                 exp_id  \n",
       "0  ee9b9c47-426e-4d3b-861c-2c72958fbbbe  \n",
       "1  ee9b9c47-426e-4d3b-861c-2c72958fbbbe  \n",
       "2  ee9b9c47-426e-4d3b-861c-2c72958fbbbe  \n",
       "3  ee9b9c47-426e-4d3b-861c-2c72958fbbbe  \n",
       "4  ee9b9c47-426e-4d3b-861c-2c72958fbbbe  "
      ]
     },
     "execution_count": 85,
     "metadata": {},
     "output_type": "execute_result"
    }
   ],
   "source": [
    "reader = CollectionReader(BASE_CLASSIFIER)\n",
    "logs = reader.df('logs')\n",
    "reader.close()\n",
    "logs.head()"
   ]
  },
  {
   "cell_type": "code",
   "execution_count": 56,
   "metadata": {},
   "outputs": [],
   "source": [
    "logs = logs[logs['exp_id'] == '6bd0e918-3bf7-4119-bc87-eb5eb12fa344']"
   ]
  },
  {
   "cell_type": "code",
   "execution_count": 86,
   "metadata": {},
   "outputs": [
    {
     "data": {
      "text/plain": [
       "Text(0.5, 1.0, 'Base Classifier - Prec1')"
      ]
     },
     "execution_count": 86,
     "metadata": {},
     "output_type": "execute_result"
    },
    {
     "data": {
      "image/png": "[encoded data removed]",
      "text/plain": [
       "<Figure size 1080x360 with 2 Axes>"
      ]
     },
     "metadata": {
      "needs_background": "light"
     },
     "output_type": "display_data"
    }
   ],
   "source": [
    "fig = plt.figure()\n",
    "fig.set_figheight(5)\n",
    "fig.set_figwidth(15)\n",
    "\n",
    "fig.add_subplot(1, 2, 1)\n",
    "sns.lineplot(data=logs, x='epoch', y='train_prec1', label='train')\n",
    "sns.lineplot(data=logs, x='epoch', y='val_prec1', label='val')\n",
    "plt.xlabel('Epochs')\n",
    "plt.ylabel('Loss')\n",
    "plt.title('Base Classifier - Loss')\n",
    "\n",
    "fig.add_subplot(1, 2, 2)\n",
    "sns.lineplot(data=logs, x='epoch', y='train_loss', label='train')\n",
    "sns.lineplot(data=logs, x='epoch', y='val_loss', label='val')\n",
    "plt.xlabel('Epochs')\n",
    "plt.ylabel('Accuracy')\n",
    "plt.title('Base Classifier - Prec1')"
   ]
  },
  {
   "cell_type": "markdown",
   "metadata": {},
   "source": [
    "# Truncate CIFAR-10"
   ]
  },
  {
   "cell_type": "code",
   "execution_count": 4,
   "metadata": {},
   "outputs": [
    {
     "name": "stdout",
     "output_type": "stream",
     "text": [
      "=> loading checkpoint '/home/gridsan/stefanou/cifar-10/resnet-18/base_constant_1e-1/ee9b9c47-426e-4d3b-861c-2c72958fbbbe/checkpoint.pt.latest'\n",
      "=> loaded checkpoint '/home/gridsan/stefanou/cifar-10/resnet-18/base_constant_1e-1/ee9b9c47-426e-4d3b-861c-2c72958fbbbe/checkpoint.pt.latest' (epoch 100)\n"
     ]
    }
   ],
   "source": [
    "base_classifier, _ = model_utils.make_and_restore_model(arch='resnet18', dataset=ds, resume_path=BASE_CLASSIFIER_PATH)"
   ]
  },
  {
   "cell_type": "markdown",
   "metadata": {},
   "source": [
    "# Callibrate Base Classifier"
   ]
  },
  {
   "cell_type": "code",
   "execution_count": 5,
   "metadata": {},
   "outputs": [
    {
     "data": {
      "application/vnd.jupyter.widget-view+json": {
       "model_id": "87e84d4f03994d83973f22a3e8590f86",
       "version_major": 2,
       "version_minor": 0
      },
      "text/plain": [
       "HBox(children=(FloatProgress(value=0.0, max=79.0), HTML(value='')))"
      ]
     },
     "metadata": {},
     "output_type": "display_data"
    },
    {
     "name": "stdout",
     "output_type": "stream",
     "text": [
      "\n",
      "Accuracy of the network on the 10000 test images: 76 %\n",
      "0.7699\n"
     ]
    }
   ],
   "source": [
    "from tqdm.notebook import tqdm\n",
    "\n",
    "def T_scaling(logits, temp):\n",
    "    return ch.div(logits, temp)\n",
    "\n",
    "# Use kwargs for calibration method specific parameters\n",
    "def test(base_classifier, calibration_method=None, temp=None):\n",
    "    preds = []\n",
    "    labels_oneh = []\n",
    "    correct = 0\n",
    "    base_classifier.eval()\n",
    "    with ch.no_grad():\n",
    "        for data in tqdm(test_loader):\n",
    "            images, labels = data[0].to('cuda:0'), data[1].to('cuda:0')\n",
    "\n",
    "            pred = base_classifier(images)[0]\n",
    "\n",
    "            if calibration_method:\n",
    "                pred = calibration_method(pred, temp)\n",
    "\n",
    "            # Get softmax values for net input and resulting class predictions\n",
    "            sm = nn.Softmax(dim=1)\n",
    "            pred = sm(pred)\n",
    "\n",
    "            _, predicted_cl = ch.max(pred.data, 1)\n",
    "            pred = pred.cpu().detach().numpy()\n",
    "\n",
    "            # Convert labels to one hot encoding\n",
    "            label_oneh = ch.nn.functional.one_hot(labels, num_classes=num_classes)\n",
    "            label_oneh = label_oneh.cpu().detach().numpy()\n",
    "\n",
    "            preds.extend(pred)\n",
    "            labels_oneh.extend(label_oneh)\n",
    "\n",
    "            # Count correctly classified samples for accuracy\n",
    "            correct += sum(predicted_cl == labels).item()\n",
    "\n",
    "    preds = np.array(preds).flatten()\n",
    "    labels_oneh = np.array(labels_oneh).flatten()\n",
    "\n",
    "    correct_perc = correct / len(test_loader.dataset)\n",
    "    print('Accuracy of the network on the 10000 test images: %d %%' % (100 * correct_perc))\n",
    "    print(correct_perc)\n",
    "\n",
    "    return preds, labels_oneh\n",
    "\n",
    "preds, labels_oneh = test(base_classifier)\n",
    "\n",
    "def calc_bins(preds):\n",
    "    # Assign each prediction to a bin\n",
    "    num_bins = 10\n",
    "    bins = np.linspace(0.1, 1, num_bins)\n",
    "    binned = np.digitize(preds, bins)\n",
    "\n",
    "    # Save the accuracy, confidence and size of each bin\n",
    "    bin_accs = np.zeros(num_bins)\n",
    "    bin_confs = np.zeros(num_bins)\n",
    "    bin_sizes = np.zeros(num_bins)\n",
    "\n",
    "    for bin in range(num_bins):\n",
    "        bin_sizes[bin] = len(preds[binned == bin])\n",
    "        if bin_sizes[bin] > 0:\n",
    "            bin_accs[bin] = (labels_oneh[binned==bin]).sum() / bin_sizes[bin]\n",
    "            bin_confs[bin] = (preds[binned==bin]).sum() / bin_sizes[bin]\n",
    "\n",
    "    return bins, binned, bin_accs, bin_confs, bin_sizes\n",
    "\n",
    "def get_metrics(preds):\n",
    "    ECE = 0\n",
    "    MCE = 0\n",
    "    bins, _, bin_accs, bin_confs, bin_sizes = calc_bins(preds)\n",
    "\n",
    "    for i in range(len(bins)):\n",
    "        abs_conf_dif = abs(bin_accs[i] - bin_confs[i])\n",
    "        ECE += (bin_sizes[i] / sum(bin_sizes)) * abs_conf_dif\n",
    "        MCE = max(MCE, abs_conf_dif)\n",
    "\n",
    "    return ECE, MCE\n",
    "\n",
    "\n",
    "import matplotlib.patches as mpatches\n",
    "\n",
    "def draw_reliability_graph(preds):\n",
    "    ECE, MCE = get_metrics(preds)\n",
    "    bins, _, bin_accs, _, _ = calc_bins(preds)\n",
    "\n",
    "    fig = plt.figure(figsize=(8, 8))\n",
    "    ax = fig.gca()\n",
    "\n",
    "    # x/y limits\n",
    "    ax.set_xlim(0, 1.05)\n",
    "    ax.set_ylim(0, 1)\n",
    "\n",
    "    # x/y labels\n",
    "    plt.xlabel('Confidence')\n",
    "    plt.ylabel('Accuracy')\n",
    "\n",
    "    # Create grid\n",
    "    ax.set_axisbelow(True) \n",
    "    ax.grid(color='gray', linestyle='dashed')\n",
    "\n",
    "    # Error bars\n",
    "    plt.bar(bins, bins,  width=0.1, alpha=0.3, edgecolor='black', color='r', hatch='\\\\')\n",
    "\n",
    "    # Draw bars and identity line\n",
    "    plt.bar(bins, bin_accs, width=0.1, alpha=1, edgecolor='black', color='b')\n",
    "    plt.plot([0,1],[0,1], '--', color='gray', linewidth=2)\n",
    "\n",
    "    # Equally spaced axes\n",
    "    plt.gca().set_aspect('equal', adjustable='box')\n",
    "\n",
    "    # ECE and MCE legend\n",
    "    ECE_patch = mpatches.Patch(color='green', label='ECE = {:.2f}%'.format(ECE*100))\n",
    "    MCE_patch = mpatches.Patch(color='red', label='MCE = {:.2f}%'.format(MCE*100))\n",
    "    plt.legend(handles=[ECE_patch, MCE_patch])\n",
    "\n",
    "    #plt.show()\n",
    "\n",
    "    plt.savefig('calibrated_network.png', bbox_inches='tight')\n",
    "\n",
    "#draw_reliability_graph(preds)\n"
   ]
  },
  {
   "cell_type": "code",
   "execution_count": 6,
   "metadata": {},
   "outputs": [
    {
     "data": {
      "application/vnd.jupyter.widget-view+json": {
       "model_id": "c319e04145bc41cea73ddb512954a485",
       "version_major": 2,
       "version_minor": 0
      },
      "text/plain": [
       "HBox(children=(FloatProgress(value=0.0, max=79.0), HTML(value='')))"
      ]
     },
     "metadata": {},
     "output_type": "display_data"
    },
    {
     "name": "stdout",
     "output_type": "stream",
     "text": [
      "\n",
      "Final T_scaling factor: 1.65\n"
     ]
    },
    {
     "data": {
      "image/png": "[encoded data removed]",
      "text/plain": [
       "<Figure size 432x288 with 2 Axes>"
      ]
     },
     "metadata": {
      "needs_background": "light"
     },
     "output_type": "display_data"
    }
   ],
   "source": [
    "criterion = nn.CrossEntropyLoss()\n",
    "\n",
    "# Removing strong_wolfe line search results in jump after 50 epochs\n",
    "optimizer = ch.optim.LBFGS([args.temperature], lr=0.001, max_iter=10000, line_search_fn='strong_wolfe')\n",
    "\n",
    "logits_list = []\n",
    "labels_list = []\n",
    "temps = []\n",
    "losses = []\n",
    "\n",
    "for i, data in enumerate(tqdm(test_loader, 0)):\n",
    "    images, labels = data[0].cuda(), data[1].cuda()\n",
    "\n",
    "    base_classifier.eval()\n",
    "    with ch.no_grad():\n",
    "        logits_list.append(base_classifier(images)[0])\n",
    "        labels_list.append(labels)\n",
    "\n",
    "# Create tensors\n",
    "logits_list = ch.cat(logits_list).cuda()\n",
    "labels_list = ch.cat(labels_list).cuda()\n",
    "\n",
    "def _eval():\n",
    "    loss = criterion(T_scaling(logits_list, args.temperature), labels_list)\n",
    "    loss.backward()\n",
    "    temps.append(args.temperature.item())\n",
    "    losses.append(loss)\n",
    "    return loss\n",
    "\n",
    "\n",
    "optimizer.step(_eval)\n",
    "\n",
    "print('Final T_scaling factor: {:.2f}'.format(args.temperature.item()))\n",
    "\n",
    "plt.subplot(121)\n",
    "plt.plot(list(range(len(temps))), temps)\n",
    "\n",
    "plt.subplot(122)\n",
    "plt.plot(list(range(len(losses))), losses)\n",
    "plt.show()"
   ]
  },
  {
   "cell_type": "code",
   "execution_count": 7,
   "metadata": {},
   "outputs": [],
   "source": [
    "def T_scaling(logits, temp):\n",
    "    \"\"\"\n",
    "    Temperature scaling.\n",
    "    \"\"\"\n",
    "    return ch.div(logits, temp)\n",
    "\n",
    "\n",
    "def calibrate(test_loader, base_classifier): \n",
    "    \"\"\"\n",
    "    Run SGD procedure to find temperature \n",
    "    scaling parameter.\n",
    "    Args: \n",
    "        test_loader (ch.nn.DataLoader) : pytorch DataLoader with test dataset\n",
    "        base_classifier (AttackerModel) : AttackerModel to calibrate\n",
    "    Returns: ch.Tensor with the calculated temperature scalar\n",
    "    \"\"\"\n",
    "    temperature = ch.nn.Parameter(ch.ones(1).cuda())\n",
    "    ce_loss = ch.nn.CrossEntropyLoss()\n",
    "\n",
    "    # Removing strong_wolfe line search results in jump after 50 epochs\n",
    "    optimizer = ch.optim.LBFGS([temperature], lr=0.001, max_iter=10000, line_search_fn='strong_wolfe')\n",
    "\n",
    "    logits_list = []\n",
    "    labels_list = []\n",
    "    temps = []\n",
    "    losses = []\n",
    "\n",
    "    for images, labels in tqdm(test_loader, 0):\n",
    "        images, labels = images.cuda(), labels.cuda()\n",
    "\n",
    "        base_classifier.eval()\n",
    "        with ch.no_grad():\n",
    "            logits_list.append(base_classifier(images)[0])\n",
    "            labels_list.append(labels)\n",
    "\n",
    "    # create tensors\n",
    "    logits_list = ch.cat(logits_list).cuda()\n",
    "    labels_list = ch.cat(labels_list).cuda()\n",
    "\n",
    "    def _eval():\n",
    "        loss = ce_loss(T_scaling(logits_list, temperature), labels_list)\n",
    "        loss.backward()\n",
    "        temps.append(temperature.item())\n",
    "        losses.append(loss)\n",
    "        return loss\n",
    "\n",
    "    # run SGD\n",
    "    optimizer.step(_eval)\n",
    "    \n",
    "    print('Final T_scaling factor: {:.2f}'.format(temperature.item()))\n",
    "\n",
    "    plt.subplot(121)\n",
    "    plt.plot(list(range(len(temps))), temps)\n",
    "\n",
    "    plt.subplot(122)\n",
    "    plt.plot(list(range(len(losses))), losses)\n",
    "    plt.show()\n",
    "    \n",
    "    return temperature"
   ]
  },
  {
   "cell_type": "code",
   "execution_count": 8,
   "metadata": {
    "scrolled": false
   },
   "outputs": [
    {
     "data": {
      "application/vnd.jupyter.widget-view+json": {
       "model_id": "a2f4e1f90b9c4470932e7b87b206f4fc",
       "version_major": 2,
       "version_minor": 0
      },
      "text/plain": [
       "HBox(children=(FloatProgress(value=0.0, max=79.0), HTML(value='')))"
      ]
     },
     "metadata": {},
     "output_type": "display_data"
    },
    {
     "name": "stdout",
     "output_type": "stream",
     "text": [
      "\n",
      "Final T_scaling factor: 1.65\n"
     ]
    },
    {
     "data": {
      "image/png": "[encoded data removed]",
      "text/plain": [
       "<Figure size 432x288 with 2 Axes>"
      ]
     },
     "metadata": {
      "needs_background": "light"
     },
     "output_type": "display_data"
    },
    {
     "data": {
      "application/vnd.jupyter.widget-view+json": {
       "model_id": "b58167dd2a084695a8022bc6fdc52291",
       "version_major": 2,
       "version_minor": 0
      },
      "text/plain": [
       "HBox(children=(FloatProgress(value=0.0, max=79.0), HTML(value='')))"
      ]
     },
     "metadata": {},
     "output_type": "display_data"
    },
    {
     "name": "stdout",
     "output_type": "stream",
     "text": [
      "\n",
      "Accuracy of the network on the 10000 test images: 76 %\n",
      "0.7699\n"
     ]
    },
    {
     "data": {
      "application/vnd.jupyter.widget-view+json": {
       "model_id": "2ecf1bc923a94bfa874704d4bd32ec45",
       "version_major": 2,
       "version_minor": 0
      },
      "text/plain": [
       "HBox(children=(FloatProgress(value=0.0, max=79.0), HTML(value='')))"
      ]
     },
     "metadata": {},
     "output_type": "display_data"
    },
    {
     "name": "stdout",
     "output_type": "stream",
     "text": [
      "\n",
      "Accuracy of the network on the 10000 test images: 76 %\n",
      "0.7699\n"
     ]
    },
    {
     "data": {
      "image/png": "[encoded data removed]",
      "text/plain": [
       "<Figure size 576x576 with 1 Axes>"
      ]
     },
     "metadata": {
      "needs_background": "light"
     },
     "output_type": "display_data"
    },
    {
     "data": {
      "image/png": "[encoded data removed]",
      "text/plain": [
       "<Figure size 576x576 with 1 Axes>"
      ]
     },
     "metadata": {
      "needs_background": "light"
     },
     "output_type": "display_data"
    }
   ],
   "source": [
    "model = base_classifier\n",
    "temp = calibrate(test_loader, model)\n",
    "\n",
    "\n",
    "preds_original, _ = test(model)\n",
    "preds_calibrated, _ = test(model, T_scaling, temp)\n",
    "\n",
    "draw_reliability_graph(preds_original)\n",
    "draw_reliability_graph(preds_calibrated)"
   ]
  },
  {
   "cell_type": "code",
   "execution_count": 9,
   "metadata": {},
   "outputs": [
    {
     "name": "stdout",
     "output_type": "stream",
     "text": [
      "original ece:  0.021363844070030075\n",
      "original mce:  0.19229504862972624\n",
      "calibrated ece:  0.003616540527343751\n",
      "calibrated mce:  0.030665445788718437\n"
     ]
    }
   ],
   "source": [
    "orig_ece, orig_mce = get_metrics(preds_original)\n",
    "calibrated_ece, calibrated_mce = get_metrics(preds_calibrated)\n",
    "\n",
    "print(\"original ece: \", orig_ece)\n",
    "print(\"original mce: \", orig_mce)\n",
    "\n",
    "print(\"calibrated ece: \", calibrated_ece)\n",
    "print(\"calibrated mce: \", calibrated_mce)"
   ]
  },
  {
   "cell_type": "code",
   "execution_count": 5,
   "metadata": {},
   "outputs": [
    {
     "data": {
      "text/plain": [
       "<torch.utils.data.dataloader.DataLoader at 0x7fddac783bb0>"
      ]
     },
     "execution_count": 5,
     "metadata": {},
     "output_type": "execute_result"
    }
   ],
   "source": [
    "# membership oracle\n",
    "phi = oracle.LogitBallComplement(args.logit_ball, ch.ones(1))\n",
    "\n",
    "# check if there exists a cifar 10 train truncated dataset already\n",
    "if not os.path.isfile(DATA_PATH + TRUNC_TRAIN_DATASET + str(args.logit_ball) + '.pickle') or not os.path.isfile(DATA_PATH + TRUNC_TRAIN_DATASET + str(args.logit_ball) + '.pickle'):\n",
    "    trunc_train_X, trunc_train_y = Tensor([]), Tensor([])\n",
    "    # unseen test data\n",
    "    trunc_test_X, trunc_test_y = Tensor([]), Tensor([])\n",
    "    for inp, targ in train_loader: \n",
    "        inp, targ = inp.to(args.device), targ.to(args.device)\n",
    "        logits, inp = base_classifier(inp) \n",
    "        logits /= args.temperature.item()\n",
    "        noised = logits\n",
    "#         noised = logits + gumbel.sample(logits.size()).cuda()\n",
    "\n",
    "        filtered = phi(noised)\n",
    "        indices = filtered.nonzero(as_tuple=False).flatten()\n",
    "        test_indices = (~filtered).nonzero(as_tuple=False).flatten()\n",
    "        trunc_train_X, trunc_train_y = ch.cat([trunc_train_X, inp[indices].cpu()]), ch.cat([trunc_train_y, targ[indices].cpu()])\n",
    "        trunc_test_X, trunc_test_y = ch.cat([trunc_test_X, inp[test_indices].cpu()]), ch.cat([trunc_test_y, targ[test_indices].cpu()])\n",
    "\n",
    "    print(\"train alpha: \", trunc_train_X.size(0) / len(train_loader.dataset))\n",
    "    trunc_train_loader = DataLoader(TruncatedCIFAR(trunc_train_X, trunc_train_y.long(), transform= None), num_workers=args.workers, shuffle=args.shuffle, batch_size=args.batch_size)\n",
    "\n",
    "    # train loader\n",
    "    with open(DATA_PATH + TRUNC_TRAIN_DATASET + str(args.logit_ball) + '.pickle', 'wb') as f: \n",
    "        pickle.dump(trunc_train_loader, f)\n",
    "else:  \n",
    "    trunc_train_loader = pd.read_pickle(DATA_PATH + TRUNC_TRAIN_DATASET + str(args.logit_ball) + '.pickle')\n",
    "trunc_train_loader"
   ]
  },
  {
   "cell_type": "code",
   "execution_count": 7,
   "metadata": {},
   "outputs": [
    {
     "data": {
      "text/plain": [
       "(<torch.utils.data.dataloader.DataLoader at 0x7fdfdd591430>,\n",
       " <torch.utils.data.dataloader.DataLoader at 0x7fdf0a12b220>)"
      ]
     },
     "execution_count": 7,
     "metadata": {},
     "output_type": "execute_result"
    }
   ],
   "source": [
    "# check if there exists a cifar 10 valdation and test truncated dataset\n",
    "if not os.path.isfile(DATA_PATH + TRUNC_VAL_DATASET + str(args.logit_ball) + '.pickle') or not os.path.isfile(DATA_PATH + TRUNC_VAL_DATASET + str(args.logit_ball) + '.pickle'):\n",
    "    trunc_val_X, trunc_val_y = Tensor([]), Tensor([]) \n",
    "\n",
    "    for inp, targ in val_loader: \n",
    "        inp, targ = inp.to(args.device), targ.to(args.device)\n",
    "        logits, inp = base_classifier(inp) \n",
    "        logits /= args.temperature.item()\n",
    "\n",
    "#         noised = logits + gumbel.sample(logits.size()).cuda()\n",
    "        noised = logits\n",
    "\n",
    "        filtered = phi(noised)\n",
    "        indices = filtered.nonzero(as_tuple=False).flatten()\n",
    "        test_indices = (~filtered).nonzero(as_tuple=False).flatten()\n",
    "        trunc_val_X, trunc_val_y = ch.cat([trunc_val_X, inp[indices].cpu()]), ch.cat([trunc_val_y, targ[indices].cpu()])\n",
    "        trunc_test_X, trunc_test_y = ch.cat([trunc_test_X, inp[test_indices].cpu()]), ch.cat([trunc_test_y, targ[test_indices].cpu()])\n",
    "\n",
    "    print(\"val alpha: \", trunc_val_X.size(0) / len(val_loader.dataset))\n",
    "    trunc_val_loader = DataLoader(TruncatedCIFAR(trunc_val_X, trunc_val_y.long(), transform=None), num_workers=args.workers, shuffle=args.shuffle, batch_size=args.batch_size)\n",
    "    # truncated test set (unseen data that the model has not been tested on)\n",
    "    trunc_test_loader = DataLoader(TruncatedCIFAR(trunc_test_X, trunc_test_y.long(), transform=None), \n",
    "                             num_workers=args.workers, shuffle=args.shuffle, batch_size=args.batch_size)\n",
    "\n",
    "    # validation loader\n",
    "    with open(DATA_PATH + TRUNC_VAL_DATASET + str(args.logit_ball) + '.pickle', 'wb') as f: \n",
    "        pickle.dump(trunc_val_loader, f)\n",
    "\n",
    "    # test loader\n",
    "    with open(DATA_PATH + TRUNC_TEST_DATASET + str(args.logit_ball) + '.pickle', 'wb') as f: \n",
    "        pickle.dump(trunc_test_loader, f)\n",
    "else: \n",
    "    trunc_val_loader = pd.read_pickle(DATA_PATH + TRUNC_VAL_DATASET + str(args.logit_ball) + '.pickle')\n",
    "    trunc_test_loader = pd.read_pickle(DATA_PATH + TRUNC_TEST_DATASET + str(args.logit_ball) + '.pickle')\n",
    "trunc_val_loader, trunc_test_loader"
   ]
  },
  {
   "cell_type": "code",
   "execution_count": 8,
   "metadata": {},
   "outputs": [
    {
     "name": "stdout",
     "output_type": "stream",
     "text": [
      "alpha train:  0.31022222222222223\n",
      "alpha val:  0.306\n",
      "test set size:  34510\n"
     ]
    }
   ],
   "source": [
    "print(\"alpha train: \", len(trunc_train_loader.dataset) / len(train_loader.dataset))\n",
    "print(\"alpha val: \", len(trunc_val_loader.dataset) / len(val_loader.dataset))\n",
    "print(\"test set size: \", len(trunc_test_loader.dataset))"
   ]
  },
  {
   "cell_type": "code",
   "execution_count": 9,
   "metadata": {},
   "outputs": [
    {
     "name": "stdout",
     "output_type": "stream",
     "text": [
      "Logging in: /home/gridsan/stefanou/cifar-10/resnet-18/pretrained_model/31574a46-8654-44b0-9dc7-b4eed8664cce\n"
     ]
    }
   ],
   "source": [
    "out_store = store.Store(PRETRAIN)\n",
    "setup_store_with_metadata(args, out_store)"
   ]
  },
  {
   "cell_type": "code",
   "execution_count": 40,
   "metadata": {},
   "outputs": [
    {
     "data": {
      "application/vnd.jupyter.widget-view+json": {
       "model_id": "",
       "version_major": 2,
       "version_minor": 0
      },
      "text/plain": [
       "HBox(children=(FloatProgress(value=0.0, max=109.0), HTML(value='')))"
      ]
     },
     "metadata": {},
     "output_type": "display_data"
    },
    {
     "data": {
      "application/vnd.jupyter.widget-view+json": {
       "model_id": "",
       "version_major": 2,
       "version_minor": 0
      },
      "text/plain": [
       "HBox(children=(FloatProgress(value=0.0, max=13.0), HTML(value='')))"
      ]
     },
     "metadata": {},
     "output_type": "display_data"
    },
    {
     "data": {
      "application/vnd.jupyter.widget-view+json": {
       "model_id": "",
       "version_major": 2,
       "version_minor": 0
      },
      "text/plain": [
       "HBox(children=(FloatProgress(value=0.0, max=109.0), HTML(value='')))"
      ]
     },
     "metadata": {},
     "output_type": "display_data"
    },
    {
     "data": {
      "application/vnd.jupyter.widget-view+json": {
       "model_id": "",
       "version_major": 2,
       "version_minor": 0
      },
      "text/plain": [
       "HBox(children=(FloatProgress(value=0.0, max=13.0), HTML(value='')))"
      ]
     },
     "metadata": {},
     "output_type": "display_data"
    }
   ],
   "source": [
    "ch.manual_seed(0)\n",
    "config.args = args\n",
    "args.__setattr__('epochs', 2)\n",
    "args.__setattr__('lr', 1e-1)\n",
    "pretrained_model, _ = model_utils.make_and_restore_model(arch='resnet18', dataset=ds)\n",
    "pretrained_model = train.train_model(args, pretrained_model, (trunc_train_loader, trunc_val_loader), store=out_store)\n",
    "out_store.close()"
   ]
  },
  {
   "cell_type": "code",
   "execution_count": 27,
   "metadata": {},
   "outputs": [
    {
     "name": "stderr",
     "output_type": "stream",
     "text": [
      "100%|██████████| 1/1 [00:00<00:00, 92.65it/s]\n"
     ]
    },
    {
     "data": {
      "text/html": [
       "<div>\n",
       "<style scoped>\n",
       "    .dataframe tbody tr th:only-of-type {\n",
       "        vertical-align: middle;\n",
       "    }\n",
       "\n",
       "    .dataframe tbody tr th {\n",
       "        vertical-align: top;\n",
       "    }\n",
       "\n",
       "    .dataframe thead th {\n",
       "        text-align: right;\n",
       "    }\n",
       "</style>\n",
       "<table border=\"1\" class=\"dataframe\">\n",
       "  <thead>\n",
       "    <tr style=\"text-align: right;\">\n",
       "      <th></th>\n",
       "      <th>epoch</th>\n",
       "      <th>val_prec1</th>\n",
       "      <th>val_loss</th>\n",
       "      <th>train_prec1</th>\n",
       "      <th>train_loss</th>\n",
       "      <th>time</th>\n",
       "      <th>exp_id</th>\n",
       "    </tr>\n",
       "  </thead>\n",
       "  <tbody>\n",
       "    <tr>\n",
       "      <th>0</th>\n",
       "      <td>1</td>\n",
       "      <td>67.539627</td>\n",
       "      <td>0.914099</td>\n",
       "      <td>51.740387</td>\n",
       "      <td>1.327770</td>\n",
       "      <td>7.393136</td>\n",
       "      <td>475830ba-40a7-4305-b0e6-fcf2ff17a5a9</td>\n",
       "    </tr>\n",
       "    <tr>\n",
       "      <th>1</th>\n",
       "      <td>2</td>\n",
       "      <td>85.596138</td>\n",
       "      <td>0.419825</td>\n",
       "      <td>72.138626</td>\n",
       "      <td>0.784278</td>\n",
       "      <td>14.691191</td>\n",
       "      <td>475830ba-40a7-4305-b0e6-fcf2ff17a5a9</td>\n",
       "    </tr>\n",
       "    <tr>\n",
       "      <th>2</th>\n",
       "      <td>3</td>\n",
       "      <td>87.388008</td>\n",
       "      <td>0.352095</td>\n",
       "      <td>82.459343</td>\n",
       "      <td>0.496294</td>\n",
       "      <td>22.303899</td>\n",
       "      <td>475830ba-40a7-4305-b0e6-fcf2ff17a5a9</td>\n",
       "    </tr>\n",
       "    <tr>\n",
       "      <th>3</th>\n",
       "      <td>4</td>\n",
       "      <td>85.527222</td>\n",
       "      <td>0.419174</td>\n",
       "      <td>88.625427</td>\n",
       "      <td>0.323057</td>\n",
       "      <td>28.819556</td>\n",
       "      <td>475830ba-40a7-4305-b0e6-fcf2ff17a5a9</td>\n",
       "    </tr>\n",
       "    <tr>\n",
       "      <th>4</th>\n",
       "      <td>5</td>\n",
       "      <td>88.697449</td>\n",
       "      <td>0.317957</td>\n",
       "      <td>93.043526</td>\n",
       "      <td>0.200093</td>\n",
       "      <td>36.208173</td>\n",
       "      <td>475830ba-40a7-4305-b0e6-fcf2ff17a5a9</td>\n",
       "    </tr>\n",
       "    <tr>\n",
       "      <th>...</th>\n",
       "      <td>...</td>\n",
       "      <td>...</td>\n",
       "      <td>...</td>\n",
       "      <td>...</td>\n",
       "      <td>...</td>\n",
       "      <td>...</td>\n",
       "      <td>...</td>\n",
       "    </tr>\n",
       "    <tr>\n",
       "      <th>95</th>\n",
       "      <td>96</td>\n",
       "      <td>96.967606</td>\n",
       "      <td>0.095975</td>\n",
       "      <td>99.994934</td>\n",
       "      <td>0.000932</td>\n",
       "      <td>639.401999</td>\n",
       "      <td>475830ba-40a7-4305-b0e6-fcf2ff17a5a9</td>\n",
       "    </tr>\n",
       "    <tr>\n",
       "      <th>96</th>\n",
       "      <td>97</td>\n",
       "      <td>97.450035</td>\n",
       "      <td>0.112669</td>\n",
       "      <td>99.782135</td>\n",
       "      <td>0.010382</td>\n",
       "      <td>645.922335</td>\n",
       "      <td>475830ba-40a7-4305-b0e6-fcf2ff17a5a9</td>\n",
       "    </tr>\n",
       "    <tr>\n",
       "      <th>97</th>\n",
       "      <td>98</td>\n",
       "      <td>97.312195</td>\n",
       "      <td>0.093608</td>\n",
       "      <td>99.989868</td>\n",
       "      <td>0.001884</td>\n",
       "      <td>652.436981</td>\n",
       "      <td>475830ba-40a7-4305-b0e6-fcf2ff17a5a9</td>\n",
       "    </tr>\n",
       "    <tr>\n",
       "      <th>98</th>\n",
       "      <td>99</td>\n",
       "      <td>97.725708</td>\n",
       "      <td>0.090153</td>\n",
       "      <td>100.000000</td>\n",
       "      <td>0.001021</td>\n",
       "      <td>659.926098</td>\n",
       "      <td>475830ba-40a7-4305-b0e6-fcf2ff17a5a9</td>\n",
       "    </tr>\n",
       "    <tr>\n",
       "      <th>99</th>\n",
       "      <td>100</td>\n",
       "      <td>97.587868</td>\n",
       "      <td>0.091180</td>\n",
       "      <td>100.000000</td>\n",
       "      <td>0.000805</td>\n",
       "      <td>667.820015</td>\n",
       "      <td>475830ba-40a7-4305-b0e6-fcf2ff17a5a9</td>\n",
       "    </tr>\n",
       "  </tbody>\n",
       "</table>\n",
       "<p>100 rows × 7 columns</p>\n",
       "</div>"
      ],
      "text/plain": [
       "    epoch  val_prec1  val_loss  train_prec1  train_loss        time  \\\n",
       "0       1  67.539627  0.914099    51.740387    1.327770    7.393136   \n",
       "1       2  85.596138  0.419825    72.138626    0.784278   14.691191   \n",
       "2       3  87.388008  0.352095    82.459343    0.496294   22.303899   \n",
       "3       4  85.527222  0.419174    88.625427    0.323057   28.819556   \n",
       "4       5  88.697449  0.317957    93.043526    0.200093   36.208173   \n",
       "..    ...        ...       ...          ...         ...         ...   \n",
       "95     96  96.967606  0.095975    99.994934    0.000932  639.401999   \n",
       "96     97  97.450035  0.112669    99.782135    0.010382  645.922335   \n",
       "97     98  97.312195  0.093608    99.989868    0.001884  652.436981   \n",
       "98     99  97.725708  0.090153   100.000000    0.001021  659.926098   \n",
       "99    100  97.587868  0.091180   100.000000    0.000805  667.820015   \n",
       "\n",
       "                                  exp_id  \n",
       "0   475830ba-40a7-4305-b0e6-fcf2ff17a5a9  \n",
       "1   475830ba-40a7-4305-b0e6-fcf2ff17a5a9  \n",
       "2   475830ba-40a7-4305-b0e6-fcf2ff17a5a9  \n",
       "3   475830ba-40a7-4305-b0e6-fcf2ff17a5a9  \n",
       "4   475830ba-40a7-4305-b0e6-fcf2ff17a5a9  \n",
       "..                                   ...  \n",
       "95  475830ba-40a7-4305-b0e6-fcf2ff17a5a9  \n",
       "96  475830ba-40a7-4305-b0e6-fcf2ff17a5a9  \n",
       "97  475830ba-40a7-4305-b0e6-fcf2ff17a5a9  \n",
       "98  475830ba-40a7-4305-b0e6-fcf2ff17a5a9  \n",
       "99  475830ba-40a7-4305-b0e6-fcf2ff17a5a9  \n",
       "\n",
       "[100 rows x 7 columns]"
      ]
     },
     "execution_count": 27,
     "metadata": {},
     "output_type": "execute_result"
    }
   ],
   "source": [
    "reader = CollectionReader(PRETRAIN)\n",
    "metadata = reader.df('metadata')\n",
    "pretrain_logs = reader.df('logs')\n",
    "\n",
    "reader.close()\n",
    "pretrain_logs"
   ]
  },
  {
   "cell_type": "code",
   "execution_count": 29,
   "metadata": {},
   "outputs": [
    {
     "data": {
      "image/png": "[encoded data removed]",
      "text/plain": [
       "<Figure size 432x288 with 1 Axes>"
      ]
     },
     "metadata": {
      "needs_background": "light"
     },
     "output_type": "display_data"
    },
    {
     "data": {
      "image/png": "[encoded data removed]",
      "text/plain": [
       "<Figure size 432x288 with 1 Axes>"
      ]
     },
     "metadata": {
      "needs_background": "light"
     },
     "output_type": "display_data"
    }
   ],
   "source": [
    "sns.lineplot(data=pretrain_logs, x='epoch', y='train_loss', label='train loss')\n",
    "sns.lineplot(data=pretrain_logs, x='epoch', y='val_loss', label='val loss')\n",
    "plt.show()\n",
    "\n",
    "sns.lineplot(data=pretrain_logs, x='epoch', y='train_prec1', label='train acc')\n",
    "sns.lineplot(data=pretrain_logs, x='epoch', y='val_prec1', label='val acc')\n",
    "plt.show()"
   ]
  },
  {
   "cell_type": "markdown",
   "metadata": {},
   "source": [
    "# Train Model Using Truncated CE Loss"
   ]
  },
  {
   "cell_type": "code",
   "execution_count": 10,
   "metadata": {},
   "outputs": [
    {
     "name": "stdout",
     "output_type": "stream",
     "text": [
      "Logging in: /home/gridsan/stefanou/cifar-10/resnet-18/constant_trunc_1e-1/22ab7ce6-e34f-43c9-8602-996291ba3209\n"
     ]
    }
   ],
   "source": [
    "##### logging store\n",
    "out_store = store.Store(LOGIT_BALL_CLASSIFIER)\n",
    "setup_store_with_metadata(args, out_store)\n",
    "delphi_, _ = model_utils.make_and_restore_model(arch='resnet18', dataset=ds)\n",
    "# delphi_, _ = model_utils.make_and_restore_model(arch='resnet18', dataset=ds, resume_path=PRETRAIN + '/475830ba-40a7-4305-b0e6-fcf2ff17a5a9/checkpoint.pt.latest')"
   ]
  },
  {
   "cell_type": "markdown",
   "metadata": {},
   "source": [
    "# TruncatedCE with Logit Ball Complement Oracle"
   ]
  },
  {
   "cell_type": "code",
   "execution_count": 11,
   "metadata": {},
   "outputs": [],
   "source": [
    "new_phi = oracle.LogitBallComplement(args.logit_ball)"
   ]
  },
  {
   "cell_type": "code",
   "execution_count": 12,
   "metadata": {},
   "outputs": [
    {
     "data": {
      "application/vnd.jupyter.widget-view+json": {
       "model_id": "",
       "version_major": 2,
       "version_minor": 0
      },
      "text/plain": [
       "HBox(children=(FloatProgress(value=0.0, max=110.0), HTML(value='')))"
      ]
     },
     "metadata": {},
     "output_type": "display_data"
    },
    {
     "data": {
      "application/vnd.jupyter.widget-view+json": {
       "model_id": "",
       "version_major": 2,
       "version_minor": 0
      },
      "text/plain": [
       "HBox(children=(FloatProgress(value=0.0, max=12.0), HTML(value='')))"
      ]
     },
     "metadata": {},
     "output_type": "display_data"
    },
    {
     "data": {
      "application/vnd.jupyter.widget-view+json": {
       "model_id": "",
       "version_major": 2,
       "version_minor": 0
      },
      "text/plain": [
       "HBox(children=(FloatProgress(value=0.0, max=110.0), HTML(value='')))"
      ]
     },
     "metadata": {},
     "output_type": "display_data"
    },
    {
     "data": {
      "application/vnd.jupyter.widget-view+json": {
       "model_id": "",
       "version_major": 2,
       "version_minor": 0
      },
      "text/plain": [
       "HBox(children=(FloatProgress(value=0.0, max=12.0), HTML(value='')))"
      ]
     },
     "metadata": {},
     "output_type": "display_data"
    },
    {
     "data": {
      "application/vnd.jupyter.widget-view+json": {
       "model_id": "",
       "version_major": 2,
       "version_minor": 0
      },
      "text/plain": [
       "HBox(children=(FloatProgress(value=0.0, max=110.0), HTML(value='')))"
      ]
     },
     "metadata": {},
     "output_type": "display_data"
    },
    {
     "data": {
      "application/vnd.jupyter.widget-view+json": {
       "model_id": "",
       "version_major": 2,
       "version_minor": 0
      },
      "text/plain": [
       "HBox(children=(FloatProgress(value=0.0, max=12.0), HTML(value='')))"
      ]
     },
     "metadata": {},
     "output_type": "display_data"
    },
    {
     "data": {
      "application/vnd.jupyter.widget-view+json": {
       "model_id": "",
       "version_major": 2,
       "version_minor": 0
      },
      "text/plain": [
       "HBox(children=(FloatProgress(value=0.0, max=110.0), HTML(value='')))"
      ]
     },
     "metadata": {},
     "output_type": "display_data"
    },
    {
     "data": {
      "application/vnd.jupyter.widget-view+json": {
       "model_id": "",
       "version_major": 2,
       "version_minor": 0
      },
      "text/plain": [
       "HBox(children=(FloatProgress(value=0.0, max=12.0), HTML(value='')))"
      ]
     },
     "metadata": {},
     "output_type": "display_data"
    },
    {
     "data": {
      "application/vnd.jupyter.widget-view+json": {
       "model_id": "",
       "version_major": 2,
       "version_minor": 0
      },
      "text/plain": [
       "HBox(children=(FloatProgress(value=0.0, max=110.0), HTML(value='')))"
      ]
     },
     "metadata": {},
     "output_type": "display_data"
    },
    {
     "data": {
      "application/vnd.jupyter.widget-view+json": {
       "model_id": "",
       "version_major": 2,
       "version_minor": 0
      },
      "text/plain": [
       "HBox(children=(FloatProgress(value=0.0, max=12.0), HTML(value='')))"
      ]
     },
     "metadata": {},
     "output_type": "display_data"
    },
    {
     "data": {
      "application/vnd.jupyter.widget-view+json": {
       "model_id": "",
       "version_major": 2,
       "version_minor": 0
      },
      "text/plain": [
       "HBox(children=(FloatProgress(value=0.0, max=110.0), HTML(value='')))"
      ]
     },
     "metadata": {},
     "output_type": "display_data"
    },
    {
     "data": {
      "application/vnd.jupyter.widget-view+json": {
       "model_id": "",
       "version_major": 2,
       "version_minor": 0
      },
      "text/plain": [
       "HBox(children=(FloatProgress(value=0.0, max=12.0), HTML(value='')))"
      ]
     },
     "metadata": {},
     "output_type": "display_data"
    },
    {
     "data": {
      "application/vnd.jupyter.widget-view+json": {
       "model_id": "",
       "version_major": 2,
       "version_minor": 0
      },
      "text/plain": [
       "HBox(children=(FloatProgress(value=0.0, max=110.0), HTML(value='')))"
      ]
     },
     "metadata": {},
     "output_type": "display_data"
    },
    {
     "data": {
      "application/vnd.jupyter.widget-view+json": {
       "model_id": "",
       "version_major": 2,
       "version_minor": 0
      },
      "text/plain": [
       "HBox(children=(FloatProgress(value=0.0, max=12.0), HTML(value='')))"
      ]
     },
     "metadata": {},
     "output_type": "display_data"
    },
    {
     "data": {
      "application/vnd.jupyter.widget-view+json": {
       "model_id": "",
       "version_major": 2,
       "version_minor": 0
      },
      "text/plain": [
       "HBox(children=(FloatProgress(value=0.0, max=110.0), HTML(value='')))"
      ]
     },
     "metadata": {},
     "output_type": "display_data"
    },
    {
     "data": {
      "application/vnd.jupyter.widget-view+json": {
       "model_id": "",
       "version_major": 2,
       "version_minor": 0
      },
      "text/plain": [
       "HBox(children=(FloatProgress(value=0.0, max=12.0), HTML(value='')))"
      ]
     },
     "metadata": {},
     "output_type": "display_data"
    },
    {
     "data": {
      "application/vnd.jupyter.widget-view+json": {
       "model_id": "",
       "version_major": 2,
       "version_minor": 0
      },
      "text/plain": [
       "HBox(children=(FloatProgress(value=0.0, max=110.0), HTML(value='')))"
      ]
     },
     "metadata": {},
     "output_type": "display_data"
    },
    {
     "data": {
      "application/vnd.jupyter.widget-view+json": {
       "model_id": "",
       "version_major": 2,
       "version_minor": 0
      },
      "text/plain": [
       "HBox(children=(FloatProgress(value=0.0, max=12.0), HTML(value='')))"
      ]
     },
     "metadata": {},
     "output_type": "display_data"
    },
    {
     "data": {
      "application/vnd.jupyter.widget-view+json": {
       "model_id": "",
       "version_major": 2,
       "version_minor": 0
      },
      "text/plain": [
       "HBox(children=(FloatProgress(value=0.0, max=110.0), HTML(value='')))"
      ]
     },
     "metadata": {},
     "output_type": "display_data"
    },
    {
     "data": {
      "application/vnd.jupyter.widget-view+json": {
       "model_id": "",
       "version_major": 2,
       "version_minor": 0
      },
      "text/plain": [
       "HBox(children=(FloatProgress(value=0.0, max=12.0), HTML(value='')))"
      ]
     },
     "metadata": {},
     "output_type": "display_data"
    },
    {
     "data": {
      "application/vnd.jupyter.widget-view+json": {
       "model_id": "",
       "version_major": 2,
       "version_minor": 0
      },
      "text/plain": [
       "HBox(children=(FloatProgress(value=0.0, max=110.0), HTML(value='')))"
      ]
     },
     "metadata": {},
     "output_type": "display_data"
    },
    {
     "data": {
      "application/vnd.jupyter.widget-view+json": {
       "model_id": "",
       "version_major": 2,
       "version_minor": 0
      },
      "text/plain": [
       "HBox(children=(FloatProgress(value=0.0, max=12.0), HTML(value='')))"
      ]
     },
     "metadata": {},
     "output_type": "display_data"
    },
    {
     "data": {
      "application/vnd.jupyter.widget-view+json": {
       "model_id": "",
       "version_major": 2,
       "version_minor": 0
      },
      "text/plain": [
       "HBox(children=(FloatProgress(value=0.0, max=110.0), HTML(value='')))"
      ]
     },
     "metadata": {},
     "output_type": "display_data"
    },
    {
     "data": {
      "application/vnd.jupyter.widget-view+json": {
       "model_id": "",
       "version_major": 2,
       "version_minor": 0
      },
      "text/plain": [
       "HBox(children=(FloatProgress(value=0.0, max=12.0), HTML(value='')))"
      ]
     },
     "metadata": {},
     "output_type": "display_data"
    },
    {
     "data": {
      "application/vnd.jupyter.widget-view+json": {
       "model_id": "",
       "version_major": 2,
       "version_minor": 0
      },
      "text/plain": [
       "HBox(children=(FloatProgress(value=0.0, max=110.0), HTML(value='')))"
      ]
     },
     "metadata": {},
     "output_type": "display_data"
    },
    {
     "data": {
      "application/vnd.jupyter.widget-view+json": {
       "model_id": "",
       "version_major": 2,
       "version_minor": 0
      },
      "text/plain": [
       "HBox(children=(FloatProgress(value=0.0, max=12.0), HTML(value='')))"
      ]
     },
     "metadata": {},
     "output_type": "display_data"
    },
    {
     "data": {
      "application/vnd.jupyter.widget-view+json": {
       "model_id": "",
       "version_major": 2,
       "version_minor": 0
      },
      "text/plain": [
       "HBox(children=(FloatProgress(value=0.0, max=110.0), HTML(value='')))"
      ]
     },
     "metadata": {},
     "output_type": "display_data"
    },
    {
     "data": {
      "application/vnd.jupyter.widget-view+json": {
       "model_id": "",
       "version_major": 2,
       "version_minor": 0
      },
      "text/plain": [
       "HBox(children=(FloatProgress(value=0.0, max=12.0), HTML(value='')))"
      ]
     },
     "metadata": {},
     "output_type": "display_data"
    },
    {
     "data": {
      "application/vnd.jupyter.widget-view+json": {
       "model_id": "",
       "version_major": 2,
       "version_minor": 0
      },
      "text/plain": [
       "HBox(children=(FloatProgress(value=0.0, max=110.0), HTML(value='')))"
      ]
     },
     "metadata": {},
     "output_type": "display_data"
    },
    {
     "data": {
      "application/vnd.jupyter.widget-view+json": {
       "model_id": "",
       "version_major": 2,
       "version_minor": 0
      },
      "text/plain": [
       "HBox(children=(FloatProgress(value=0.0, max=12.0), HTML(value='')))"
      ]
     },
     "metadata": {},
     "output_type": "display_data"
    },
    {
     "data": {
      "application/vnd.jupyter.widget-view+json": {
       "model_id": "",
       "version_major": 2,
       "version_minor": 0
      },
      "text/plain": [
       "HBox(children=(FloatProgress(value=0.0, max=110.0), HTML(value='')))"
      ]
     },
     "metadata": {},
     "output_type": "display_data"
    },
    {
     "data": {
      "application/vnd.jupyter.widget-view+json": {
       "model_id": "",
       "version_major": 2,
       "version_minor": 0
      },
      "text/plain": [
       "HBox(children=(FloatProgress(value=0.0, max=12.0), HTML(value='')))"
      ]
     },
     "metadata": {},
     "output_type": "display_data"
    },
    {
     "data": {
      "application/vnd.jupyter.widget-view+json": {
       "model_id": "",
       "version_major": 2,
       "version_minor": 0
      },
      "text/plain": [
       "HBox(children=(FloatProgress(value=0.0, max=110.0), HTML(value='')))"
      ]
     },
     "metadata": {},
     "output_type": "display_data"
    },
    {
     "data": {
      "application/vnd.jupyter.widget-view+json": {
       "model_id": "",
       "version_major": 2,
       "version_minor": 0
      },
      "text/plain": [
       "HBox(children=(FloatProgress(value=0.0, max=12.0), HTML(value='')))"
      ]
     },
     "metadata": {},
     "output_type": "display_data"
    },
    {
     "data": {
      "application/vnd.jupyter.widget-view+json": {
       "model_id": "",
       "version_major": 2,
       "version_minor": 0
      },
      "text/plain": [
       "HBox(children=(FloatProgress(value=0.0, max=110.0), HTML(value='')))"
      ]
     },
     "metadata": {},
     "output_type": "display_data"
    },
    {
     "data": {
      "application/vnd.jupyter.widget-view+json": {
       "model_id": "",
       "version_major": 2,
       "version_minor": 0
      },
      "text/plain": [
       "HBox(children=(FloatProgress(value=0.0, max=12.0), HTML(value='')))"
      ]
     },
     "metadata": {},
     "output_type": "display_data"
    },
    {
     "data": {
      "application/vnd.jupyter.widget-view+json": {
       "model_id": "",
       "version_major": 2,
       "version_minor": 0
      },
      "text/plain": [
       "HBox(children=(FloatProgress(value=0.0, max=110.0), HTML(value='')))"
      ]
     },
     "metadata": {},
     "output_type": "display_data"
    },
    {
     "data": {
      "application/vnd.jupyter.widget-view+json": {
       "model_id": "",
       "version_major": 2,
       "version_minor": 0
      },
      "text/plain": [
       "HBox(children=(FloatProgress(value=0.0, max=12.0), HTML(value='')))"
      ]
     },
     "metadata": {},
     "output_type": "display_data"
    },
    {
     "data": {
      "application/vnd.jupyter.widget-view+json": {
       "model_id": "",
       "version_major": 2,
       "version_minor": 0
      },
      "text/plain": [
       "HBox(children=(FloatProgress(value=0.0, max=110.0), HTML(value='')))"
      ]
     },
     "metadata": {},
     "output_type": "display_data"
    },
    {
     "data": {
      "application/vnd.jupyter.widget-view+json": {
       "model_id": "",
       "version_major": 2,
       "version_minor": 0
      },
      "text/plain": [
       "HBox(children=(FloatProgress(value=0.0, max=12.0), HTML(value='')))"
      ]
     },
     "metadata": {},
     "output_type": "display_data"
    },
    {
     "data": {
      "application/vnd.jupyter.widget-view+json": {
       "model_id": "",
       "version_major": 2,
       "version_minor": 0
      },
      "text/plain": [
       "HBox(children=(FloatProgress(value=0.0, max=110.0), HTML(value='')))"
      ]
     },
     "metadata": {},
     "output_type": "display_data"
    },
    {
     "data": {
      "application/vnd.jupyter.widget-view+json": {
       "model_id": "",
       "version_major": 2,
       "version_minor": 0
      },
      "text/plain": [
       "HBox(children=(FloatProgress(value=0.0, max=12.0), HTML(value='')))"
      ]
     },
     "metadata": {},
     "output_type": "display_data"
    },
    {
     "data": {
      "application/vnd.jupyter.widget-view+json": {
       "model_id": "",
       "version_major": 2,
       "version_minor": 0
      },
      "text/plain": [
       "HBox(children=(FloatProgress(value=0.0, max=110.0), HTML(value='')))"
      ]
     },
     "metadata": {},
     "output_type": "display_data"
    },
    {
     "data": {
      "application/vnd.jupyter.widget-view+json": {
       "model_id": "",
       "version_major": 2,
       "version_minor": 0
      },
      "text/plain": [
       "HBox(children=(FloatProgress(value=0.0, max=12.0), HTML(value='')))"
      ]
     },
     "metadata": {},
     "output_type": "display_data"
    },
    {
     "data": {
      "application/vnd.jupyter.widget-view+json": {
       "model_id": "",
       "version_major": 2,
       "version_minor": 0
      },
      "text/plain": [
       "HBox(children=(FloatProgress(value=0.0, max=110.0), HTML(value='')))"
      ]
     },
     "metadata": {},
     "output_type": "display_data"
    },
    {
     "data": {
      "application/vnd.jupyter.widget-view+json": {
       "model_id": "",
       "version_major": 2,
       "version_minor": 0
      },
      "text/plain": [
       "HBox(children=(FloatProgress(value=0.0, max=12.0), HTML(value='')))"
      ]
     },
     "metadata": {},
     "output_type": "display_data"
    },
    {
     "data": {
      "application/vnd.jupyter.widget-view+json": {
       "model_id": "",
       "version_major": 2,
       "version_minor": 0
      },
      "text/plain": [
       "HBox(children=(FloatProgress(value=0.0, max=110.0), HTML(value='')))"
      ]
     },
     "metadata": {},
     "output_type": "display_data"
    },
    {
     "data": {
      "application/vnd.jupyter.widget-view+json": {
       "model_id": "",
       "version_major": 2,
       "version_minor": 0
      },
      "text/plain": [
       "HBox(children=(FloatProgress(value=0.0, max=12.0), HTML(value='')))"
      ]
     },
     "metadata": {},
     "output_type": "display_data"
    },
    {
     "data": {
      "application/vnd.jupyter.widget-view+json": {
       "model_id": "",
       "version_major": 2,
       "version_minor": 0
      },
      "text/plain": [
       "HBox(children=(FloatProgress(value=0.0, max=110.0), HTML(value='')))"
      ]
     },
     "metadata": {},
     "output_type": "display_data"
    },
    {
     "data": {
      "application/vnd.jupyter.widget-view+json": {
       "model_id": "",
       "version_major": 2,
       "version_minor": 0
      },
      "text/plain": [
       "HBox(children=(FloatProgress(value=0.0, max=12.0), HTML(value='')))"
      ]
     },
     "metadata": {},
     "output_type": "display_data"
    }
   ],
   "source": [
    "# train\n",
    "ch.manual_seed(0)\n",
    "config.args = args\n",
    "delphi_ = train.train_model(args, delphi_, (trunc_train_loader, trunc_val_loader), store=out_store, phi=phi, criterion=grad.TruncatedCE.apply)\n",
    "out_store.close()"
   ]
  },
  {
   "cell_type": "code",
   "execution_count": 13,
   "metadata": {
    "scrolled": true
   },
   "outputs": [
    {
     "name": "stderr",
     "output_type": "stream",
     "text": [
      "100%|██████████| 24/24 [00:00<00:00, 129.34it/s]\n"
     ]
    },
    {
     "name": "stdout",
     "output_type": "stream",
     "text": [
      "Warning: exp_id 376d4040-ddad-4079-9407-b72911bfe4fe has no table 'metadata'. Skipping.\n",
      "Warning: exp_id 45b580b1-1b8c-4967-bb88-c4bdd98e524e has no table 'metadata'. Skipping.\n",
      "Warning: exp_id cbb29a6d-e7af-44d3-9177-2d67bdd00b21 has no table 'metadata'. Skipping.\n",
      "Warning: exp_id 8419aab2-9962-4ce7-989b-c29d8b2bf34f has no table 'metadata'. Skipping.\n",
      "Warning: exp_id 94a8c70e-c875-4983-a28c-df285f065d33 has no table 'metadata'. Skipping.\n",
      "Warning: exp_id 2e27d6d4-d26e-4db5-8b78-866a54be58a5 has no table 'metadata'. Skipping.\n",
      "Warning: exp_id 005b57e5-14c3-46d8-b6d1-f684ae8748a8 has no table 'metadata'. Skipping.\n",
      "Warning: exp_id f21b50ed-c688-4938-8b86-744327e4da05 has no table 'metadata'. Skipping.\n",
      "Warning: exp_id ad31b5c0-f7fb-48fd-945d-b5ff602133a0 has no table 'metadata'. Skipping.\n",
      "Warning: exp_id 376d4040-ddad-4079-9407-b72911bfe4fe has no table 'logs'. Skipping.\n",
      "Warning: exp_id 45b580b1-1b8c-4967-bb88-c4bdd98e524e has no table 'logs'. Skipping.\n",
      "Warning: exp_id cbb29a6d-e7af-44d3-9177-2d67bdd00b21 has no table 'logs'. Skipping.\n",
      "Warning: exp_id 8419aab2-9962-4ce7-989b-c29d8b2bf34f has no table 'logs'. Skipping.\n",
      "Warning: exp_id aa4a3d16-50d3-460d-b12b-d0d9b089ea91 has no table 'logs'. Skipping.\n",
      "Warning: exp_id 94a8c70e-c875-4983-a28c-df285f065d33 has no table 'logs'. Skipping.\n",
      "Warning: exp_id 2e27d6d4-d26e-4db5-8b78-866a54be58a5 has no table 'logs'. Skipping.\n",
      "Warning: exp_id 005b57e5-14c3-46d8-b6d1-f684ae8748a8 has no table 'logs'. Skipping.\n",
      "Warning: exp_id f21b50ed-c688-4938-8b86-744327e4da05 has no table 'logs'. Skipping.\n",
      "Warning: exp_id ad31b5c0-f7fb-48fd-945d-b5ff602133a0 has no table 'logs'. Skipping.\n"
     ]
    },
    {
     "data": {
      "text/html": [
       "<div>\n",
       "<style scoped>\n",
       "    .dataframe tbody tr th:only-of-type {\n",
       "        vertical-align: middle;\n",
       "    }\n",
       "\n",
       "    .dataframe tbody tr th {\n",
       "        vertical-align: top;\n",
       "    }\n",
       "\n",
       "    .dataframe thead th {\n",
       "        text-align: right;\n",
       "    }\n",
       "</style>\n",
       "<table border=\"1\" class=\"dataframe\">\n",
       "  <thead>\n",
       "    <tr style=\"text-align: right;\">\n",
       "      <th></th>\n",
       "      <th>epoch</th>\n",
       "      <th>val_prec1</th>\n",
       "      <th>val_loss</th>\n",
       "      <th>train_prec1</th>\n",
       "      <th>train_loss</th>\n",
       "      <th>time</th>\n",
       "      <th>exp_id</th>\n",
       "    </tr>\n",
       "  </thead>\n",
       "  <tbody>\n",
       "    <tr>\n",
       "      <th>0</th>\n",
       "      <td>1</td>\n",
       "      <td>50.608181</td>\n",
       "      <td>1.771880</td>\n",
       "      <td>41.522461</td>\n",
       "      <td>1.891616</td>\n",
       "      <td>19.250631</td>\n",
       "      <td>48497795-c146-4abf-8d8f-02c807825dc1</td>\n",
       "    </tr>\n",
       "    <tr>\n",
       "      <th>1</th>\n",
       "      <td>2</td>\n",
       "      <td>60.044231</td>\n",
       "      <td>1.655200</td>\n",
       "      <td>60.761230</td>\n",
       "      <td>1.628825</td>\n",
       "      <td>30.114234</td>\n",
       "      <td>48497795-c146-4abf-8d8f-02c807825dc1</td>\n",
       "    </tr>\n",
       "    <tr>\n",
       "      <th>2</th>\n",
       "      <td>3</td>\n",
       "      <td>66.420937</td>\n",
       "      <td>1.517112</td>\n",
       "      <td>69.708817</td>\n",
       "      <td>1.481930</td>\n",
       "      <td>40.110307</td>\n",
       "      <td>48497795-c146-4abf-8d8f-02c807825dc1</td>\n",
       "    </tr>\n",
       "    <tr>\n",
       "      <th>3</th>\n",
       "      <td>4</td>\n",
       "      <td>71.065239</td>\n",
       "      <td>1.429932</td>\n",
       "      <td>75.415970</td>\n",
       "      <td>1.367628</td>\n",
       "      <td>50.484125</td>\n",
       "      <td>48497795-c146-4abf-8d8f-02c807825dc1</td>\n",
       "    </tr>\n",
       "    <tr>\n",
       "      <th>4</th>\n",
       "      <td>5</td>\n",
       "      <td>73.866570</td>\n",
       "      <td>1.350700</td>\n",
       "      <td>80.103989</td>\n",
       "      <td>1.276389</td>\n",
       "      <td>60.637694</td>\n",
       "      <td>48497795-c146-4abf-8d8f-02c807825dc1</td>\n",
       "    </tr>\n",
       "    <tr>\n",
       "      <th>...</th>\n",
       "      <td>...</td>\n",
       "      <td>...</td>\n",
       "      <td>...</td>\n",
       "      <td>...</td>\n",
       "      <td>...</td>\n",
       "      <td>...</td>\n",
       "      <td>...</td>\n",
       "    </tr>\n",
       "    <tr>\n",
       "      <th>95</th>\n",
       "      <td>96</td>\n",
       "      <td>89.490700</td>\n",
       "      <td>0.387643</td>\n",
       "      <td>99.990982</td>\n",
       "      <td>0.001975</td>\n",
       "      <td>1297.577299</td>\n",
       "      <td>2f55d829-fcd7-4cf8-bb2d-557eedd85606</td>\n",
       "    </tr>\n",
       "    <tr>\n",
       "      <th>96</th>\n",
       "      <td>97</td>\n",
       "      <td>89.679329</td>\n",
       "      <td>0.388704</td>\n",
       "      <td>99.990982</td>\n",
       "      <td>0.001981</td>\n",
       "      <td>1311.703513</td>\n",
       "      <td>2f55d829-fcd7-4cf8-bb2d-557eedd85606</td>\n",
       "    </tr>\n",
       "    <tr>\n",
       "      <th>97</th>\n",
       "      <td>98</td>\n",
       "      <td>89.625435</td>\n",
       "      <td>0.379655</td>\n",
       "      <td>99.990982</td>\n",
       "      <td>0.001882</td>\n",
       "      <td>1326.124606</td>\n",
       "      <td>2f55d829-fcd7-4cf8-bb2d-557eedd85606</td>\n",
       "    </tr>\n",
       "    <tr>\n",
       "      <th>98</th>\n",
       "      <td>99</td>\n",
       "      <td>89.760170</td>\n",
       "      <td>0.377974</td>\n",
       "      <td>99.990982</td>\n",
       "      <td>0.001953</td>\n",
       "      <td>1340.428331</td>\n",
       "      <td>2f55d829-fcd7-4cf8-bb2d-557eedd85606</td>\n",
       "    </tr>\n",
       "    <tr>\n",
       "      <th>99</th>\n",
       "      <td>100</td>\n",
       "      <td>89.652382</td>\n",
       "      <td>0.372243</td>\n",
       "      <td>99.990982</td>\n",
       "      <td>0.001896</td>\n",
       "      <td>1354.314564</td>\n",
       "      <td>2f55d829-fcd7-4cf8-bb2d-557eedd85606</td>\n",
       "    </tr>\n",
       "  </tbody>\n",
       "</table>\n",
       "<p>1053 rows × 7 columns</p>\n",
       "</div>"
      ],
      "text/plain": [
       "    epoch  val_prec1  val_loss  train_prec1  train_loss         time  \\\n",
       "0       1  50.608181  1.771880    41.522461    1.891616    19.250631   \n",
       "1       2  60.044231  1.655200    60.761230    1.628825    30.114234   \n",
       "2       3  66.420937  1.517112    69.708817    1.481930    40.110307   \n",
       "3       4  71.065239  1.429932    75.415970    1.367628    50.484125   \n",
       "4       5  73.866570  1.350700    80.103989    1.276389    60.637694   \n",
       "..    ...        ...       ...          ...         ...          ...   \n",
       "95     96  89.490700  0.387643    99.990982    0.001975  1297.577299   \n",
       "96     97  89.679329  0.388704    99.990982    0.001981  1311.703513   \n",
       "97     98  89.625435  0.379655    99.990982    0.001882  1326.124606   \n",
       "98     99  89.760170  0.377974    99.990982    0.001953  1340.428331   \n",
       "99    100  89.652382  0.372243    99.990982    0.001896  1354.314564   \n",
       "\n",
       "                                  exp_id  \n",
       "0   48497795-c146-4abf-8d8f-02c807825dc1  \n",
       "1   48497795-c146-4abf-8d8f-02c807825dc1  \n",
       "2   48497795-c146-4abf-8d8f-02c807825dc1  \n",
       "3   48497795-c146-4abf-8d8f-02c807825dc1  \n",
       "4   48497795-c146-4abf-8d8f-02c807825dc1  \n",
       "..                                   ...  \n",
       "95  2f55d829-fcd7-4cf8-bb2d-557eedd85606  \n",
       "96  2f55d829-fcd7-4cf8-bb2d-557eedd85606  \n",
       "97  2f55d829-fcd7-4cf8-bb2d-557eedd85606  \n",
       "98  2f55d829-fcd7-4cf8-bb2d-557eedd85606  \n",
       "99  2f55d829-fcd7-4cf8-bb2d-557eedd85606  \n",
       "\n",
       "[1053 rows x 7 columns]"
      ]
     },
     "execution_count": 13,
     "metadata": {},
     "output_type": "execute_result"
    }
   ],
   "source": [
    "reader = CollectionReader(LOGIT_BALL_CLASSIFIER)\n",
    "metadata = reader.df('metadata')\n",
    "trunc_logs = reader.df('logs')\n",
    "\n",
    "reader.close()\n",
    "trunc_logs"
   ]
  },
  {
   "cell_type": "code",
   "execution_count": 14,
   "metadata": {},
   "outputs": [],
   "source": [
    "trunc_logs = trunc_logs[trunc_logs.exp_id == '22ab7ce6-e34f-43c9-8602-996291ba3209']"
   ]
  },
  {
   "cell_type": "code",
   "execution_count": 15,
   "metadata": {},
   "outputs": [
    {
     "data": {
      "image/png": "[encoded data removed]",
      "text/plain": [
       "<Figure size 432x288 with 1 Axes>"
      ]
     },
     "metadata": {
      "needs_background": "light"
     },
     "output_type": "display_data"
    },
    {
     "data": {
      "image/png": "[encoded data removed]",
      "text/plain": [
       "<Figure size 432x288 with 1 Axes>"
      ]
     },
     "metadata": {
      "needs_background": "light"
     },
     "output_type": "display_data"
    }
   ],
   "source": [
    "sns.lineplot(data=trunc_logs, x='epoch', y='train_loss', label='train trunc loss')\n",
    "sns.lineplot(data=trunc_logs, x='epoch', y='val_loss', label='val trunc loss')\n",
    "plt.show()\n",
    "\n",
    "sns.lineplot(data=trunc_logs, x='epoch', y='train_prec1', label='train trunc acc')\n",
    "sns.lineplot(data=trunc_logs, x='epoch', y='val_prec1', label='val trunc acc')\n",
    "plt.show()"
   ]
  },
  {
   "cell_type": "markdown",
   "metadata": {},
   "source": [
    "# Train Model on Standard CE Loss with Truncated Dataset"
   ]
  },
  {
   "cell_type": "code",
   "execution_count": 19,
   "metadata": {},
   "outputs": [
    {
     "name": "stdout",
     "output_type": "stream",
     "text": [
      "Logging in: /home/gridsan/stefanou/cifar-10/resnet-18/constant_standard_1e-1/78ad3ce2-a995-4910-9f5d-43a4eda4e204\n"
     ]
    }
   ],
   "source": [
    "##### logging store\n",
    "out_store = store.Store(STANDARD_CLASSIFIER)\n",
    "setup_store_with_metadata(args, out_store)\n",
    "standard, _ = model_utils.make_and_restore_model(arch='resnet18', dataset=ds)"
   ]
  },
  {
   "cell_type": "code",
   "execution_count": 20,
   "metadata": {},
   "outputs": [
    {
     "data": {
      "application/vnd.jupyter.widget-view+json": {
       "model_id": "",
       "version_major": 2,
       "version_minor": 0
      },
      "text/plain": [
       "HBox(children=(FloatProgress(value=0.0, max=110.0), HTML(value='')))"
      ]
     },
     "metadata": {},
     "output_type": "display_data"
    },
    {
     "data": {
      "application/vnd.jupyter.widget-view+json": {
       "model_id": "",
       "version_major": 2,
       "version_minor": 0
      },
      "text/plain": [
       "HBox(children=(FloatProgress(value=0.0, max=12.0), HTML(value='')))"
      ]
     },
     "metadata": {},
     "output_type": "display_data"
    },
    {
     "data": {
      "application/vnd.jupyter.widget-view+json": {
       "model_id": "",
       "version_major": 2,
       "version_minor": 0
      },
      "text/plain": [
       "HBox(children=(FloatProgress(value=0.0, max=110.0), HTML(value='')))"
      ]
     },
     "metadata": {},
     "output_type": "display_data"
    },
    {
     "data": {
      "application/vnd.jupyter.widget-view+json": {
       "model_id": "",
       "version_major": 2,
       "version_minor": 0
      },
      "text/plain": [
       "HBox(children=(FloatProgress(value=0.0, max=12.0), HTML(value='')))"
      ]
     },
     "metadata": {},
     "output_type": "display_data"
    },
    {
     "data": {
      "application/vnd.jupyter.widget-view+json": {
       "model_id": "",
       "version_major": 2,
       "version_minor": 0
      },
      "text/plain": [
       "HBox(children=(FloatProgress(value=0.0, max=110.0), HTML(value='')))"
      ]
     },
     "metadata": {},
     "output_type": "display_data"
    },
    {
     "data": {
      "application/vnd.jupyter.widget-view+json": {
       "model_id": "",
       "version_major": 2,
       "version_minor": 0
      },
      "text/plain": [
       "HBox(children=(FloatProgress(value=0.0, max=12.0), HTML(value='')))"
      ]
     },
     "metadata": {},
     "output_type": "display_data"
    },
    {
     "data": {
      "application/vnd.jupyter.widget-view+json": {
       "model_id": "",
       "version_major": 2,
       "version_minor": 0
      },
      "text/plain": [
       "HBox(children=(FloatProgress(value=0.0, max=110.0), HTML(value='')))"
      ]
     },
     "metadata": {},
     "output_type": "display_data"
    },
    {
     "data": {
      "application/vnd.jupyter.widget-view+json": {
       "model_id": "",
       "version_major": 2,
       "version_minor": 0
      },
      "text/plain": [
       "HBox(children=(FloatProgress(value=0.0, max=12.0), HTML(value='')))"
      ]
     },
     "metadata": {},
     "output_type": "display_data"
    },
    {
     "data": {
      "application/vnd.jupyter.widget-view+json": {
       "model_id": "",
       "version_major": 2,
       "version_minor": 0
      },
      "text/plain": [
       "HBox(children=(FloatProgress(value=0.0, max=110.0), HTML(value='')))"
      ]
     },
     "metadata": {},
     "output_type": "display_data"
    },
    {
     "data": {
      "application/vnd.jupyter.widget-view+json": {
       "model_id": "",
       "version_major": 2,
       "version_minor": 0
      },
      "text/plain": [
       "HBox(children=(FloatProgress(value=0.0, max=12.0), HTML(value='')))"
      ]
     },
     "metadata": {},
     "output_type": "display_data"
    },
    {
     "data": {
      "application/vnd.jupyter.widget-view+json": {
       "model_id": "",
       "version_major": 2,
       "version_minor": 0
      },
      "text/plain": [
       "HBox(children=(FloatProgress(value=0.0, max=110.0), HTML(value='')))"
      ]
     },
     "metadata": {},
     "output_type": "display_data"
    },
    {
     "data": {
      "application/vnd.jupyter.widget-view+json": {
       "model_id": "",
       "version_major": 2,
       "version_minor": 0
      },
      "text/plain": [
       "HBox(children=(FloatProgress(value=0.0, max=12.0), HTML(value='')))"
      ]
     },
     "metadata": {},
     "output_type": "display_data"
    },
    {
     "data": {
      "application/vnd.jupyter.widget-view+json": {
       "model_id": "",
       "version_major": 2,
       "version_minor": 0
      },
      "text/plain": [
       "HBox(children=(FloatProgress(value=0.0, max=110.0), HTML(value='')))"
      ]
     },
     "metadata": {},
     "output_type": "display_data"
    },
    {
     "data": {
      "application/vnd.jupyter.widget-view+json": {
       "model_id": "",
       "version_major": 2,
       "version_minor": 0
      },
      "text/plain": [
       "HBox(children=(FloatProgress(value=0.0, max=12.0), HTML(value='')))"
      ]
     },
     "metadata": {},
     "output_type": "display_data"
    },
    {
     "data": {
      "application/vnd.jupyter.widget-view+json": {
       "model_id": "",
       "version_major": 2,
       "version_minor": 0
      },
      "text/plain": [
       "HBox(children=(FloatProgress(value=0.0, max=110.0), HTML(value='')))"
      ]
     },
     "metadata": {},
     "output_type": "display_data"
    },
    {
     "data": {
      "application/vnd.jupyter.widget-view+json": {
       "model_id": "",
       "version_major": 2,
       "version_minor": 0
      },
      "text/plain": [
       "HBox(children=(FloatProgress(value=0.0, max=12.0), HTML(value='')))"
      ]
     },
     "metadata": {},
     "output_type": "display_data"
    },
    {
     "data": {
      "application/vnd.jupyter.widget-view+json": {
       "model_id": "",
       "version_major": 2,
       "version_minor": 0
      },
      "text/plain": [
       "HBox(children=(FloatProgress(value=0.0, max=110.0), HTML(value='')))"
      ]
     },
     "metadata": {},
     "output_type": "display_data"
    },
    {
     "data": {
      "application/vnd.jupyter.widget-view+json": {
       "model_id": "",
       "version_major": 2,
       "version_minor": 0
      },
      "text/plain": [
       "HBox(children=(FloatProgress(value=0.0, max=12.0), HTML(value='')))"
      ]
     },
     "metadata": {},
     "output_type": "display_data"
    },
    {
     "data": {
      "application/vnd.jupyter.widget-view+json": {
       "model_id": "",
       "version_major": 2,
       "version_minor": 0
      },
      "text/plain": [
       "HBox(children=(FloatProgress(value=0.0, max=110.0), HTML(value='')))"
      ]
     },
     "metadata": {},
     "output_type": "display_data"
    },
    {
     "data": {
      "application/vnd.jupyter.widget-view+json": {
       "model_id": "",
       "version_major": 2,
       "version_minor": 0
      },
      "text/plain": [
       "HBox(children=(FloatProgress(value=0.0, max=12.0), HTML(value='')))"
      ]
     },
     "metadata": {},
     "output_type": "display_data"
    },
    {
     "data": {
      "application/vnd.jupyter.widget-view+json": {
       "model_id": "",
       "version_major": 2,
       "version_minor": 0
      },
      "text/plain": [
       "HBox(children=(FloatProgress(value=0.0, max=110.0), HTML(value='')))"
      ]
     },
     "metadata": {},
     "output_type": "display_data"
    },
    {
     "data": {
      "application/vnd.jupyter.widget-view+json": {
       "model_id": "",
       "version_major": 2,
       "version_minor": 0
      },
      "text/plain": [
       "HBox(children=(FloatProgress(value=0.0, max=12.0), HTML(value='')))"
      ]
     },
     "metadata": {},
     "output_type": "display_data"
    },
    {
     "data": {
      "application/vnd.jupyter.widget-view+json": {
       "model_id": "",
       "version_major": 2,
       "version_minor": 0
      },
      "text/plain": [
       "HBox(children=(FloatProgress(value=0.0, max=110.0), HTML(value='')))"
      ]
     },
     "metadata": {},
     "output_type": "display_data"
    },
    {
     "data": {
      "application/vnd.jupyter.widget-view+json": {
       "model_id": "",
       "version_major": 2,
       "version_minor": 0
      },
      "text/plain": [
       "HBox(children=(FloatProgress(value=0.0, max=12.0), HTML(value='')))"
      ]
     },
     "metadata": {},
     "output_type": "display_data"
    },
    {
     "data": {
      "application/vnd.jupyter.widget-view+json": {
       "model_id": "",
       "version_major": 2,
       "version_minor": 0
      },
      "text/plain": [
       "HBox(children=(FloatProgress(value=0.0, max=110.0), HTML(value='')))"
      ]
     },
     "metadata": {},
     "output_type": "display_data"
    },
    {
     "data": {
      "application/vnd.jupyter.widget-view+json": {
       "model_id": "",
       "version_major": 2,
       "version_minor": 0
      },
      "text/plain": [
       "HBox(children=(FloatProgress(value=0.0, max=12.0), HTML(value='')))"
      ]
     },
     "metadata": {},
     "output_type": "display_data"
    },
    {
     "data": {
      "application/vnd.jupyter.widget-view+json": {
       "model_id": "",
       "version_major": 2,
       "version_minor": 0
      },
      "text/plain": [
       "HBox(children=(FloatProgress(value=0.0, max=110.0), HTML(value='')))"
      ]
     },
     "metadata": {},
     "output_type": "display_data"
    },
    {
     "data": {
      "application/vnd.jupyter.widget-view+json": {
       "model_id": "",
       "version_major": 2,
       "version_minor": 0
      },
      "text/plain": [
       "HBox(children=(FloatProgress(value=0.0, max=12.0), HTML(value='')))"
      ]
     },
     "metadata": {},
     "output_type": "display_data"
    },
    {
     "data": {
      "application/vnd.jupyter.widget-view+json": {
       "model_id": "",
       "version_major": 2,
       "version_minor": 0
      },
      "text/plain": [
       "HBox(children=(FloatProgress(value=0.0, max=110.0), HTML(value='')))"
      ]
     },
     "metadata": {},
     "output_type": "display_data"
    },
    {
     "data": {
      "application/vnd.jupyter.widget-view+json": {
       "model_id": "",
       "version_major": 2,
       "version_minor": 0
      },
      "text/plain": [
       "HBox(children=(FloatProgress(value=0.0, max=12.0), HTML(value='')))"
      ]
     },
     "metadata": {},
     "output_type": "display_data"
    },
    {
     "data": {
      "application/vnd.jupyter.widget-view+json": {
       "model_id": "",
       "version_major": 2,
       "version_minor": 0
      },
      "text/plain": [
       "HBox(children=(FloatProgress(value=0.0, max=110.0), HTML(value='')))"
      ]
     },
     "metadata": {},
     "output_type": "display_data"
    },
    {
     "data": {
      "application/vnd.jupyter.widget-view+json": {
       "model_id": "",
       "version_major": 2,
       "version_minor": 0
      },
      "text/plain": [
       "HBox(children=(FloatProgress(value=0.0, max=12.0), HTML(value='')))"
      ]
     },
     "metadata": {},
     "output_type": "display_data"
    },
    {
     "data": {
      "application/vnd.jupyter.widget-view+json": {
       "model_id": "",
       "version_major": 2,
       "version_minor": 0
      },
      "text/plain": [
       "HBox(children=(FloatProgress(value=0.0, max=110.0), HTML(value='')))"
      ]
     },
     "metadata": {},
     "output_type": "display_data"
    },
    {
     "data": {
      "application/vnd.jupyter.widget-view+json": {
       "model_id": "",
       "version_major": 2,
       "version_minor": 0
      },
      "text/plain": [
       "HBox(children=(FloatProgress(value=0.0, max=12.0), HTML(value='')))"
      ]
     },
     "metadata": {},
     "output_type": "display_data"
    },
    {
     "data": {
      "application/vnd.jupyter.widget-view+json": {
       "model_id": "",
       "version_major": 2,
       "version_minor": 0
      },
      "text/plain": [
       "HBox(children=(FloatProgress(value=0.0, max=110.0), HTML(value='')))"
      ]
     },
     "metadata": {},
     "output_type": "display_data"
    },
    {
     "data": {
      "application/vnd.jupyter.widget-view+json": {
       "model_id": "",
       "version_major": 2,
       "version_minor": 0
      },
      "text/plain": [
       "HBox(children=(FloatProgress(value=0.0, max=12.0), HTML(value='')))"
      ]
     },
     "metadata": {},
     "output_type": "display_data"
    },
    {
     "data": {
      "application/vnd.jupyter.widget-view+json": {
       "model_id": "",
       "version_major": 2,
       "version_minor": 0
      },
      "text/plain": [
       "HBox(children=(FloatProgress(value=0.0, max=110.0), HTML(value='')))"
      ]
     },
     "metadata": {},
     "output_type": "display_data"
    },
    {
     "data": {
      "application/vnd.jupyter.widget-view+json": {
       "model_id": "",
       "version_major": 2,
       "version_minor": 0
      },
      "text/plain": [
       "HBox(children=(FloatProgress(value=0.0, max=12.0), HTML(value='')))"
      ]
     },
     "metadata": {},
     "output_type": "display_data"
    },
    {
     "data": {
      "application/vnd.jupyter.widget-view+json": {
       "model_id": "",
       "version_major": 2,
       "version_minor": 0
      },
      "text/plain": [
       "HBox(children=(FloatProgress(value=0.0, max=110.0), HTML(value='')))"
      ]
     },
     "metadata": {},
     "output_type": "display_data"
    },
    {
     "data": {
      "application/vnd.jupyter.widget-view+json": {
       "model_id": "",
       "version_major": 2,
       "version_minor": 0
      },
      "text/plain": [
       "HBox(children=(FloatProgress(value=0.0, max=12.0), HTML(value='')))"
      ]
     },
     "metadata": {},
     "output_type": "display_data"
    },
    {
     "data": {
      "application/vnd.jupyter.widget-view+json": {
       "model_id": "",
       "version_major": 2,
       "version_minor": 0
      },
      "text/plain": [
       "HBox(children=(FloatProgress(value=0.0, max=110.0), HTML(value='')))"
      ]
     },
     "metadata": {},
     "output_type": "display_data"
    },
    {
     "data": {
      "application/vnd.jupyter.widget-view+json": {
       "model_id": "",
       "version_major": 2,
       "version_minor": 0
      },
      "text/plain": [
       "HBox(children=(FloatProgress(value=0.0, max=12.0), HTML(value='')))"
      ]
     },
     "metadata": {},
     "output_type": "display_data"
    },
    {
     "data": {
      "application/vnd.jupyter.widget-view+json": {
       "model_id": "",
       "version_major": 2,
       "version_minor": 0
      },
      "text/plain": [
       "HBox(children=(FloatProgress(value=0.0, max=110.0), HTML(value='')))"
      ]
     },
     "metadata": {},
     "output_type": "display_data"
    },
    {
     "data": {
      "application/vnd.jupyter.widget-view+json": {
       "model_id": "",
       "version_major": 2,
       "version_minor": 0
      },
      "text/plain": [
       "HBox(children=(FloatProgress(value=0.0, max=12.0), HTML(value='')))"
      ]
     },
     "metadata": {},
     "output_type": "display_data"
    },
    {
     "data": {
      "application/vnd.jupyter.widget-view+json": {
       "model_id": "",
       "version_major": 2,
       "version_minor": 0
      },
      "text/plain": [
       "HBox(children=(FloatProgress(value=0.0, max=110.0), HTML(value='')))"
      ]
     },
     "metadata": {},
     "output_type": "display_data"
    },
    {
     "data": {
      "application/vnd.jupyter.widget-view+json": {
       "model_id": "",
       "version_major": 2,
       "version_minor": 0
      },
      "text/plain": [
       "HBox(children=(FloatProgress(value=0.0, max=12.0), HTML(value='')))"
      ]
     },
     "metadata": {},
     "output_type": "display_data"
    },
    {
     "data": {
      "application/vnd.jupyter.widget-view+json": {
       "model_id": "",
       "version_major": 2,
       "version_minor": 0
      },
      "text/plain": [
       "HBox(children=(FloatProgress(value=0.0, max=110.0), HTML(value='')))"
      ]
     },
     "metadata": {},
     "output_type": "display_data"
    },
    {
     "data": {
      "application/vnd.jupyter.widget-view+json": {
       "model_id": "",
       "version_major": 2,
       "version_minor": 0
      },
      "text/plain": [
       "HBox(children=(FloatProgress(value=0.0, max=12.0), HTML(value='')))"
      ]
     },
     "metadata": {},
     "output_type": "display_data"
    },
    {
     "data": {
      "application/vnd.jupyter.widget-view+json": {
       "model_id": "",
       "version_major": 2,
       "version_minor": 0
      },
      "text/plain": [
       "HBox(children=(FloatProgress(value=0.0, max=110.0), HTML(value='')))"
      ]
     },
     "metadata": {},
     "output_type": "display_data"
    },
    {
     "data": {
      "application/vnd.jupyter.widget-view+json": {
       "model_id": "",
       "version_major": 2,
       "version_minor": 0
      },
      "text/plain": [
       "HBox(children=(FloatProgress(value=0.0, max=12.0), HTML(value='')))"
      ]
     },
     "metadata": {},
     "output_type": "display_data"
    }
   ],
   "source": [
    "# train\n",
    "ch.manual_seed(0)\n",
    "config.args = args\n",
    "standard_model = train.train_model(args, standard, (trunc_train_loader, trunc_val_loader), store=out_store, parallel=args.parallel)\n",
    "out_store.close()"
   ]
  },
  {
   "cell_type": "code",
   "execution_count": 21,
   "metadata": {},
   "outputs": [
    {
     "name": "stderr",
     "output_type": "stream",
     "text": [
      "100%|██████████| 12/12 [00:00<00:00, 96.06it/s]"
     ]
    },
    {
     "name": "stdout",
     "output_type": "stream",
     "text": [
      "Warning: exp_id f0ab68dc-f75e-412d-aa5c-fc451565393c has no table 'metadata'. Skipping.\n",
      "Warning: exp_id 95290902-aef1-43c0-9bff-80731830ddd0 has no table 'metadata'. Skipping.\n",
      "Warning: exp_id a37fa5e2-2f57-4655-b712-5413d2efb7f7 has no table 'metadata'. Skipping.\n",
      "Warning: exp_id 2634d162-39cd-4410-a048-7aca36cecb40 has no table 'metadata'. Skipping.\n",
      "Warning: exp_id 61d075d9-c8fe-48b6-a3c3-dd754e78f804 has no table 'metadata'. Skipping.\n",
      "Warning: exp_id f0ab68dc-f75e-412d-aa5c-fc451565393c has no table 'logs'. Skipping.\n",
      "Warning: exp_id 95290902-aef1-43c0-9bff-80731830ddd0 has no table 'logs'. Skipping.\n",
      "Warning: exp_id a37fa5e2-2f57-4655-b712-5413d2efb7f7 has no table 'logs'. Skipping.\n",
      "Warning: exp_id 2634d162-39cd-4410-a048-7aca36cecb40 has no table 'logs'. Skipping.\n",
      "Warning: exp_id 61d075d9-c8fe-48b6-a3c3-dd754e78f804 has no table 'logs'. Skipping.\n"
     ]
    },
    {
     "name": "stderr",
     "output_type": "stream",
     "text": [
      "\n"
     ]
    },
    {
     "data": {
      "text/html": [
       "<div>\n",
       "<style scoped>\n",
       "    .dataframe tbody tr th:only-of-type {\n",
       "        vertical-align: middle;\n",
       "    }\n",
       "\n",
       "    .dataframe tbody tr th {\n",
       "        vertical-align: top;\n",
       "    }\n",
       "\n",
       "    .dataframe thead th {\n",
       "        text-align: right;\n",
       "    }\n",
       "</style>\n",
       "<table border=\"1\" class=\"dataframe\">\n",
       "  <thead>\n",
       "    <tr style=\"text-align: right;\">\n",
       "      <th></th>\n",
       "      <th>epoch</th>\n",
       "      <th>val_prec1</th>\n",
       "      <th>val_loss</th>\n",
       "      <th>train_prec1</th>\n",
       "      <th>train_loss</th>\n",
       "      <th>time</th>\n",
       "      <th>exp_id</th>\n",
       "    </tr>\n",
       "  </thead>\n",
       "  <tbody>\n",
       "    <tr>\n",
       "      <th>0</th>\n",
       "      <td>1</td>\n",
       "      <td>70.762596</td>\n",
       "      <td>0.840600</td>\n",
       "      <td>55.941578</td>\n",
       "      <td>1.207754</td>\n",
       "      <td>12.295221</td>\n",
       "      <td>7ea9c3a0-78b5-42c1-8afc-c1fd23f36f76</td>\n",
       "    </tr>\n",
       "    <tr>\n",
       "      <th>1</th>\n",
       "      <td>2</td>\n",
       "      <td>77.229851</td>\n",
       "      <td>0.659898</td>\n",
       "      <td>76.107475</td>\n",
       "      <td>0.677678</td>\n",
       "      <td>23.859922</td>\n",
       "      <td>7ea9c3a0-78b5-42c1-8afc-c1fd23f36f76</td>\n",
       "    </tr>\n",
       "    <tr>\n",
       "      <th>2</th>\n",
       "      <td>3</td>\n",
       "      <td>78.469414</td>\n",
       "      <td>0.644482</td>\n",
       "      <td>84.086678</td>\n",
       "      <td>0.451265</td>\n",
       "      <td>35.616874</td>\n",
       "      <td>7ea9c3a0-78b5-42c1-8afc-c1fd23f36f76</td>\n",
       "    </tr>\n",
       "    <tr>\n",
       "      <th>3</th>\n",
       "      <td>4</td>\n",
       "      <td>76.717865</td>\n",
       "      <td>0.774262</td>\n",
       "      <td>89.763779</td>\n",
       "      <td>0.294545</td>\n",
       "      <td>47.175606</td>\n",
       "      <td>7ea9c3a0-78b5-42c1-8afc-c1fd23f36f76</td>\n",
       "    </tr>\n",
       "    <tr>\n",
       "      <th>4</th>\n",
       "      <td>5</td>\n",
       "      <td>80.140121</td>\n",
       "      <td>0.657786</td>\n",
       "      <td>93.421295</td>\n",
       "      <td>0.186519</td>\n",
       "      <td>59.044676</td>\n",
       "      <td>7ea9c3a0-78b5-42c1-8afc-c1fd23f36f76</td>\n",
       "    </tr>\n",
       "    <tr>\n",
       "      <th>...</th>\n",
       "      <td>...</td>\n",
       "      <td>...</td>\n",
       "      <td>...</td>\n",
       "      <td>...</td>\n",
       "      <td>...</td>\n",
       "      <td>...</td>\n",
       "      <td>...</td>\n",
       "    </tr>\n",
       "    <tr>\n",
       "      <th>20</th>\n",
       "      <td>21</td>\n",
       "      <td>89.019608</td>\n",
       "      <td>0.510278</td>\n",
       "      <td>99.469910</td>\n",
       "      <td>0.015208</td>\n",
       "      <td>109.781725</td>\n",
       "      <td>78ad3ce2-a995-4910-9f5d-43a4eda4e204</td>\n",
       "    </tr>\n",
       "    <tr>\n",
       "      <th>21</th>\n",
       "      <td>22</td>\n",
       "      <td>88.431374</td>\n",
       "      <td>0.403371</td>\n",
       "      <td>96.912605</td>\n",
       "      <td>0.096101</td>\n",
       "      <td>114.887932</td>\n",
       "      <td>78ad3ce2-a995-4910-9f5d-43a4eda4e204</td>\n",
       "    </tr>\n",
       "    <tr>\n",
       "      <th>22</th>\n",
       "      <td>23</td>\n",
       "      <td>90.196083</td>\n",
       "      <td>0.358824</td>\n",
       "      <td>99.699135</td>\n",
       "      <td>0.013214</td>\n",
       "      <td>119.995316</td>\n",
       "      <td>78ad3ce2-a995-4910-9f5d-43a4eda4e204</td>\n",
       "    </tr>\n",
       "    <tr>\n",
       "      <th>23</th>\n",
       "      <td>24</td>\n",
       "      <td>90.718956</td>\n",
       "      <td>0.350948</td>\n",
       "      <td>99.935524</td>\n",
       "      <td>0.003640</td>\n",
       "      <td>125.120353</td>\n",
       "      <td>78ad3ce2-a995-4910-9f5d-43a4eda4e204</td>\n",
       "    </tr>\n",
       "    <tr>\n",
       "      <th>24</th>\n",
       "      <td>25</td>\n",
       "      <td>89.019608</td>\n",
       "      <td>0.453043</td>\n",
       "      <td>99.985672</td>\n",
       "      <td>0.001582</td>\n",
       "      <td>130.592015</td>\n",
       "      <td>78ad3ce2-a995-4910-9f5d-43a4eda4e204</td>\n",
       "    </tr>\n",
       "  </tbody>\n",
       "</table>\n",
       "<p>675 rows × 7 columns</p>\n",
       "</div>"
      ],
      "text/plain": [
       "    epoch  val_prec1  val_loss  train_prec1  train_loss        time  \\\n",
       "0       1  70.762596  0.840600    55.941578    1.207754   12.295221   \n",
       "1       2  77.229851  0.659898    76.107475    0.677678   23.859922   \n",
       "2       3  78.469414  0.644482    84.086678    0.451265   35.616874   \n",
       "3       4  76.717865  0.774262    89.763779    0.294545   47.175606   \n",
       "4       5  80.140121  0.657786    93.421295    0.186519   59.044676   \n",
       "..    ...        ...       ...          ...         ...         ...   \n",
       "20     21  89.019608  0.510278    99.469910    0.015208  109.781725   \n",
       "21     22  88.431374  0.403371    96.912605    0.096101  114.887932   \n",
       "22     23  90.196083  0.358824    99.699135    0.013214  119.995316   \n",
       "23     24  90.718956  0.350948    99.935524    0.003640  125.120353   \n",
       "24     25  89.019608  0.453043    99.985672    0.001582  130.592015   \n",
       "\n",
       "                                  exp_id  \n",
       "0   7ea9c3a0-78b5-42c1-8afc-c1fd23f36f76  \n",
       "1   7ea9c3a0-78b5-42c1-8afc-c1fd23f36f76  \n",
       "2   7ea9c3a0-78b5-42c1-8afc-c1fd23f36f76  \n",
       "3   7ea9c3a0-78b5-42c1-8afc-c1fd23f36f76  \n",
       "4   7ea9c3a0-78b5-42c1-8afc-c1fd23f36f76  \n",
       "..                                   ...  \n",
       "20  78ad3ce2-a995-4910-9f5d-43a4eda4e204  \n",
       "21  78ad3ce2-a995-4910-9f5d-43a4eda4e204  \n",
       "22  78ad3ce2-a995-4910-9f5d-43a4eda4e204  \n",
       "23  78ad3ce2-a995-4910-9f5d-43a4eda4e204  \n",
       "24  78ad3ce2-a995-4910-9f5d-43a4eda4e204  \n",
       "\n",
       "[675 rows x 7 columns]"
      ]
     },
     "execution_count": 21,
     "metadata": {},
     "output_type": "execute_result"
    }
   ],
   "source": [
    "reader = CollectionReader(STANDARD_CLASSIFIER)\n",
    "metadata = reader.df('metadata')\n",
    "logs = reader.df('logs')\n",
    "reader.close()\n",
    "logs"
   ]
  },
  {
   "cell_type": "code",
   "execution_count": 22,
   "metadata": {},
   "outputs": [],
   "source": [
    "logs = logs[logs.exp_id == '78ad3ce2-a995-4910-9f5d-43a4eda4e204']"
   ]
  },
  {
   "cell_type": "code",
   "execution_count": 23,
   "metadata": {},
   "outputs": [
    {
     "data": {
      "image/png": "[encoded data removed]",
      "text/plain": [
       "<Figure size 432x288 with 1 Axes>"
      ]
     },
     "metadata": {
      "needs_background": "light"
     },
     "output_type": "display_data"
    },
    {
     "data": {
      "text/plain": [
       "<AxesSubplot:xlabel='epoch', ylabel='train_prec1'>"
      ]
     },
     "execution_count": 23,
     "metadata": {},
     "output_type": "execute_result"
    },
    {
     "data": {
      "image/png": "[encoded data removed]",
      "text/plain": [
       "<Figure size 432x288 with 1 Axes>"
      ]
     },
     "metadata": {
      "needs_background": "light"
     },
     "output_type": "display_data"
    }
   ],
   "source": [
    "sns.lineplot(data=logs, x='epoch', y='train_loss', label='train trunc loss')\n",
    "sns.lineplot(data=logs, x='epoch', y='val_loss', label='val trunc loss')\n",
    "plt.show()\n",
    "\n",
    "sns.lineplot(data=logs, x='epoch', y='train_prec1', label='train trunc acc')\n",
    "sns.lineplot(data=logs, x='epoch', y='val_prec1', label='val trunc acc')"
   ]
  },
  {
   "cell_type": "markdown",
   "metadata": {},
   "source": [
    "# Load Trained Models into Notebook"
   ]
  },
  {
   "cell_type": "code",
   "execution_count": 16,
   "metadata": {},
   "outputs": [
    {
     "name": "stdout",
     "output_type": "stream",
     "text": [
      "=> loading checkpoint '/home/gridsan/stefanou/cifar-10/resnet-18/base_constant_1e-1/ee9b9c47-426e-4d3b-861c-2c72958fbbbe/checkpoint.pt.latest'\n",
      "=> loaded checkpoint '/home/gridsan/stefanou/cifar-10/resnet-18/base_constant_1e-1/ee9b9c47-426e-4d3b-861c-2c72958fbbbe/checkpoint.pt.latest' (epoch 100)\n",
      "=> loading checkpoint '/home/gridsan/stefanou/cifar-10/resnet-18/constant_trunc_1e-1/22ab7ce6-e34f-43c9-8602-996291ba3209/checkpoint.pt.best'\n",
      "=> loaded checkpoint '/home/gridsan/stefanou/cifar-10/resnet-18/constant_trunc_1e-1/22ab7ce6-e34f-43c9-8602-996291ba3209/checkpoint.pt.best' (epoch 13)\n",
      "=> loading checkpoint '/home/gridsan/stefanou/cifar-10/resnet-18/constant_standard_1e-1/78ad3ce2-a995-4910-9f5d-43a4eda4e204/checkpoint.pt.best'\n",
      "=> loaded checkpoint '/home/gridsan/stefanou/cifar-10/resnet-18/constant_standard_1e-1/78ad3ce2-a995-4910-9f5d-43a4eda4e204/checkpoint.pt.best' (epoch 19)\n"
     ]
    }
   ],
   "source": [
    "base, _ = model_utils.make_and_restore_model(arch='resnet18', dataset=ds, resume_path=BASE_CLASSIFIER_PATH)\n",
    "delphi_, _ = model_utils.make_and_restore_model(arch='resnet18', dataset=ds, resume_path=LOGIT_BALL_CLASSIFIER + '/22ab7ce6-e34f-43c9-8602-996291ba3209/checkpoint.pt.best')\n",
    "standard_model, _ =  model_utils.make_and_restore_model(arch='resnet18', dataset=ds, resume_path=STANDARD_CLASSIFIER + '/78ad3ce2-a995-4910-9f5d-43a4eda4e204/checkpoint.pt.best')\n",
    "\n",
    "\n",
    "\n"
   ]
  },
  {
   "cell_type": "markdown",
   "metadata": {},
   "source": [
    "# Test Accuracy"
   ]
  },
  {
   "cell_type": "code",
   "execution_count": 17,
   "metadata": {},
   "outputs": [
    {
     "name": "stdout",
     "output_type": "stream",
     "text": [
      "Logging in: /home/gridsan/stefanou/cifar-10/resnet-18/constant_trunc_1e-1/37be57e2-6dc3-46ec-a6a2-b95247d03a63\n"
     ]
    }
   ],
   "source": [
    "delphi_store = store.Store(LOGIT_BALL_CLASSIFIER)"
   ]
  },
  {
   "cell_type": "code",
   "execution_count": 18,
   "metadata": {},
   "outputs": [
    {
     "data": {
      "application/vnd.jupyter.widget-view+json": {
       "model_id": "",
       "version_major": 2,
       "version_minor": 0
      },
      "text/plain": [
       "HBox(children=(FloatProgress(value=0.0, max=270.0), HTML(value='')))"
      ]
     },
     "metadata": {},
     "output_type": "display_data"
    },
    {
     "name": "stdout",
     "output_type": "stream",
     "text": [
      "delphi unseen results:  {'test_prec1': tensor(51.7386, device='cuda:0'), 'test_loss': 2.387062956588367, 'time': 3.6542460918426514}\n"
     ]
    },
    {
     "data": {
      "application/vnd.jupyter.widget-view+json": {
       "model_id": "",
       "version_major": 2,
       "version_minor": 0
      },
      "text/plain": [
       "HBox(children=(FloatProgress(value=0.0, max=79.0), HTML(value='')))"
      ]
     },
     "metadata": {},
     "output_type": "display_data"
    },
    {
     "name": "stdout",
     "output_type": "stream",
     "text": [
      "delphi test results:  {'test_prec1': tensor(63.3600, device='cuda:0'), 'test_loss': 1.8148980253219604, 'time': 1.1003587245941162}\n"
     ]
    },
    {
     "data": {
      "application/vnd.jupyter.widget-view+json": {
       "model_id": "",
       "version_major": 2,
       "version_minor": 0
      },
      "text/plain": [
       "HBox(children=(FloatProgress(value=0.0, max=110.0), HTML(value='')))"
      ]
     },
     "metadata": {},
     "output_type": "display_data"
    },
    {
     "name": "stdout",
     "output_type": "stream",
     "text": [
      "delphi train results:  {'test_prec1': tensor(99.9713, device='cuda:0'), 'test_loss': 0.0032771657043560954, 'time': 1.665579080581665}\n"
     ]
    },
    {
     "data": {
      "application/vnd.jupyter.widget-view+json": {
       "model_id": "",
       "version_major": 2,
       "version_minor": 0
      },
      "text/plain": [
       "HBox(children=(FloatProgress(value=0.0, max=12.0), HTML(value='')))"
      ]
     },
     "metadata": {},
     "output_type": "display_data"
    },
    {
     "name": "stdout",
     "output_type": "stream",
     "text": [
      "delphi val results:  {'test_prec1': tensor(90.7190, device='cuda:0'), 'test_loss': 0.36190470838858413, 'time': 0.5180149078369141}\n"
     ]
    }
   ],
   "source": [
    "delphi_unseen_results = train.eval_model(args, delphi_, trunc_test_loader, delphi_store)\n",
    "print(\"delphi unseen results: \", delphi_unseen_results)\n",
    "\n",
    "delphi_test_results = train.eval_model(args, delphi_, test_loader, delphi_store)\n",
    "print(\"delphi test results: \", delphi_test_results)\n",
    "\n",
    "delphi_train_results = train.eval_model(args, delphi_, trunc_train_loader, delphi_store)\n",
    "print(\"delphi train results: \", delphi_train_results)\n",
    "\n",
    "delphi_val_results = train.eval_model(args, delphi_, trunc_val_loader, delphi_store)\n",
    "print(\"delphi val results: \", delphi_val_results)\n",
    "delphi_store.close()"
   ]
  },
  {
   "cell_type": "code",
   "execution_count": 28,
   "metadata": {},
   "outputs": [
    {
     "name": "stdout",
     "output_type": "stream",
     "text": [
      "Logging in: /home/gridsan/stefanou/cifar-10/resnet-18/base_constant_1e-1/4245051f-c852-4de8-b792-191b59161874\n"
     ]
    }
   ],
   "source": [
    "base_store = store.Store(BASE_CLASSIFIER)"
   ]
  },
  {
   "cell_type": "code",
   "execution_count": 29,
   "metadata": {},
   "outputs": [
    {
     "data": {
      "application/vnd.jupyter.widget-view+json": {
       "model_id": "",
       "version_major": 2,
       "version_minor": 0
      },
      "text/plain": [
       "HBox(children=(FloatProgress(value=0.0, max=270.0), HTML(value='')))"
      ]
     },
     "metadata": {},
     "output_type": "display_data"
    },
    {
     "name": "stdout",
     "output_type": "stream",
     "text": [
      "base unseen results:  {'test_prec1': tensor(85.5086, device='cuda:0'), 'test_loss': 0.44084589434202015, 'time': 3.6963069438934326}\n"
     ]
    },
    {
     "data": {
      "application/vnd.jupyter.widget-view+json": {
       "model_id": "",
       "version_major": 2,
       "version_minor": 0
      },
      "text/plain": [
       "HBox(children=(FloatProgress(value=0.0, max=79.0), HTML(value='')))"
      ]
     },
     "metadata": {},
     "output_type": "display_data"
    },
    {
     "name": "stdout",
     "output_type": "stream",
     "text": [
      "base test results:  {'test_prec1': tensor(76.9900, device='cuda:0'), 'test_loss': 0.8110041234970092, 'time': 1.0967600345611572}\n"
     ]
    },
    {
     "data": {
      "application/vnd.jupyter.widget-view+json": {
       "model_id": "",
       "version_major": 2,
       "version_minor": 0
      },
      "text/plain": [
       "HBox(children=(FloatProgress(value=0.0, max=110.0), HTML(value='')))"
      ]
     },
     "metadata": {},
     "output_type": "display_data"
    },
    {
     "name": "stdout",
     "output_type": "stream",
     "text": [
      "base train results:  {'test_prec1': tensor(97.5573, device='cuda:0'), 'test_loss': 0.09759092076073125, 'time': 1.6967365741729736}\n"
     ]
    },
    {
     "data": {
      "application/vnd.jupyter.widget-view+json": {
       "model_id": "",
       "version_major": 2,
       "version_minor": 0
      },
      "text/plain": [
       "HBox(children=(FloatProgress(value=0.0, max=12.0), HTML(value='')))"
      ]
     },
     "metadata": {},
     "output_type": "display_data"
    },
    {
     "name": "stdout",
     "output_type": "stream",
     "text": [
      "base val results:  {'test_prec1': tensor(97.5817, device='cuda:0'), 'test_loss': 0.09704786641340629, 'time': 0.4967989921569824}\n"
     ]
    }
   ],
   "source": [
    "base_unseen_results = train.eval_model(args, base, trunc_test_loader, base_store)\n",
    "print(\"base unseen results: \", base_unseen_results)\n",
    "\n",
    "base_test_results = train.eval_model(args, base, test_loader, base_store)\n",
    "print(\"base test results: \", base_test_results)\n",
    "\n",
    "base_train_results = train.eval_model(args, base, trunc_train_loader, base_store)\n",
    "print(\"base train results: \", base_train_results)\n",
    "\n",
    "base_val_results = train.eval_model(args, base, trunc_val_loader, base_store)\n",
    "print(\"base val results: \", base_val_results)\n",
    "base_store.close()"
   ]
  },
  {
   "cell_type": "code",
   "execution_count": 30,
   "metadata": {},
   "outputs": [
    {
     "name": "stdout",
     "output_type": "stream",
     "text": [
      "Logging in: /home/gridsan/stefanou/cifar-10/resnet-18/constant_standard_1e-1/a1c4cf79-4a89-43e3-99cd-f1f8af63713e\n"
     ]
    }
   ],
   "source": [
    "standard_store = store.Store(STANDARD_CLASSIFIER)"
   ]
  },
  {
   "cell_type": "code",
   "execution_count": 31,
   "metadata": {},
   "outputs": [
    {
     "data": {
      "application/vnd.jupyter.widget-view+json": {
       "model_id": "",
       "version_major": 2,
       "version_minor": 0
      },
      "text/plain": [
       "HBox(children=(FloatProgress(value=0.0, max=270.0), HTML(value='')))"
      ]
     },
     "metadata": {},
     "output_type": "display_data"
    },
    {
     "name": "stdout",
     "output_type": "stream",
     "text": [
      "standard unseen results:  {'test_prec1': tensor(53.9206, device='cuda:0'), 'test_loss': 2.1677965184081573, 'time': 3.6616673469543457}\n"
     ]
    },
    {
     "data": {
      "application/vnd.jupyter.widget-view+json": {
       "model_id": "",
       "version_major": 2,
       "version_minor": 0
      },
      "text/plain": [
       "HBox(children=(FloatProgress(value=0.0, max=79.0), HTML(value='')))"
      ]
     },
     "metadata": {},
     "output_type": "display_data"
    },
    {
     "name": "stdout",
     "output_type": "stream",
     "text": [
      "standard test results:  {'test_prec1': tensor(64.7400, device='cuda:0'), 'test_loss': 1.654544499015808, 'time': 1.0848100185394287}\n"
     ]
    },
    {
     "data": {
      "application/vnd.jupyter.widget-view+json": {
       "model_id": "",
       "version_major": 2,
       "version_minor": 0
      },
      "text/plain": [
       "HBox(children=(FloatProgress(value=0.0, max=110.0), HTML(value='')))"
      ]
     },
     "metadata": {},
     "output_type": "display_data"
    },
    {
     "name": "stdout",
     "output_type": "stream",
     "text": [
      "standard train results:  {'test_prec1': tensor(100., device='cuda:0'), 'test_loss': 0.0005435434026049215, 'time': 1.6563637256622314}\n"
     ]
    },
    {
     "data": {
      "application/vnd.jupyter.widget-view+json": {
       "model_id": "",
       "version_major": 2,
       "version_minor": 0
      },
      "text/plain": [
       "HBox(children=(FloatProgress(value=0.0, max=12.0), HTML(value='')))"
      ]
     },
     "metadata": {},
     "output_type": "display_data"
    },
    {
     "name": "stdout",
     "output_type": "stream",
     "text": [
      "standard val results:  {'test_prec1': tensor(91.3072, device='cuda:0'), 'test_loss': 0.3380007635534199, 'time': 0.492495059967041}\n"
     ]
    }
   ],
   "source": [
    "standard_unseen_results = train.eval_model(args, standard_model, trunc_test_loader, standard_store)\n",
    "print(\"standard unseen results: \", standard_unseen_results)\n",
    "\n",
    "standard_test_results = train.eval_model(args, standard_model, test_loader, standard_store)\n",
    "print(\"standard test results: \", standard_test_results)\n",
    "\n",
    "standard_train_results = train.eval_model(args, standard_model, trunc_train_loader, standard_store)\n",
    "print(\"standard train results: \", standard_train_results)\n",
    "\n",
    "standard_val_results = train.eval_model(args, standard_model, trunc_val_loader, standard_store)\n",
    "print(\"standard val results: \", standard_val_results)\n",
    "standard_store.close()"
   ]
  },
  {
   "cell_type": "code",
   "execution_count": 53,
   "metadata": {},
   "outputs": [
    {
     "name": "stdout",
     "output_type": "stream",
     "text": [
      "Warning: exp_id e9b23382-a21a-42c6-9982-65488d3b1835 has no table 'eval'. Skipping.\n",
      "Warning: exp_id 73765c3f-f6fe-42bc-ae4c-be73ada89fe0 has no table 'eval'. Skipping.\n"
     ]
    },
    {
     "data": {
      "text/plain": [
       "4"
      ]
     },
     "execution_count": 53,
     "metadata": {},
     "output_type": "execute_result"
    }
   ],
   "source": []
  }
 ],
 "metadata": {
  "kernelspec": {
   "display_name": "Python [conda env:root] *",
   "language": "python",
   "name": "conda-root-py"
  },
  "language_info": {
   "codemirror_mode": {
    "name": "ipython",
    "version": 3
   },
   "file_extension": ".py",
   "mimetype": "text/x-python",
   "name": "python",
   "nbconvert_exporter": "python",
   "pygments_lexer": "ipython3",
   "version": "3.8.5"
  },
  "latex_envs": {
   "LaTeX_envs_menu_present": true,
   "autoclose": false,
   "autocomplete": true,
   "bibliofile": "biblio.bib",
   "cite_by": "apalike",
   "current_citInitial": 1,
   "eqLabelWithNumbers": true,
   "eqNumInitial": 1,
   "hotkeys": {
    "equation": "Ctrl-E",
    "itemize": "Ctrl-I"
   },
   "labels_anchors": false,
   "latex_user_defs": false,
   "report_style_numbering": false,
   "user_envs_cfg": false
  },
  "toc": {
   "base_numbering": 1,
   "nav_menu": {},
   "number_sections": true,
   "sideBar": true,
   "skip_h1_title": false,
   "title_cell": "Table of Contents",
   "title_sidebar": "Contents",
   "toc_cell": false,
   "toc_position": {},
   "toc_section_display": true,
   "toc_window_display": false
  },
  "varInspector": {
   "cols": {
    "lenName": 16,
    "lenType": 16,
    "lenVar": 40
   },
   "kernels_config": {
    "python": {
     "delete_cmd_postfix": "",
     "delete_cmd_prefix": "del ",
     "library": "var_list.py",
     "varRefreshCmd": "print(var_dic_list())"
    },
    "r": {
     "delete_cmd_postfix": ") ",
     "delete_cmd_prefix": "rm(",
     "library": "var_list.r",
     "varRefreshCmd": "cat(var_dic_list()) "
    }
   },
   "types_to_exclude": [
    "module",
    "function",
    "builtin_function_or_method",
    "instance",
    "_Feature"
   ],
   "window_display": false
  }
 },
 "nbformat": 4,
 "nbformat_minor": 2
}
