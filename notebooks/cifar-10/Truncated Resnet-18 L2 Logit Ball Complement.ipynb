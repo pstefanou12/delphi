{
 "cells": [
  {
   "cell_type": "code",
   "execution_count": 39,
   "metadata": {},
   "outputs": [],
   "source": [
    "import sys\n",
    "sys.path.append('../..')\n",
    "import torchvision \n",
    "from torchvision import transforms\n",
    "from torch.utils.data import DataLoader, Dataset\n",
    "import torch as ch\n",
    "import torch.nn as nn\n",
    "from torch import Tensor\n",
    "from torch.distributions import Gumbel\n",
    "import math\n",
    "import numpy as np\n",
    "import matplotlib.pyplot as plt\n",
    "import cox\n",
    "from cox.utils import Parameters\n",
    "import cox.store as store\n",
    "from cox.readers import CollectionReader\n",
    "import seaborn as sns\n",
    "import os\n",
    "import config\n",
    "import pickle\n",
    "import pandas as pd\n",
    "\n",
    "# set environment variable so that stores can create output files\n",
    "os.environ['HDF5_USE_FILE_LOCKING'] = 'FALSE'\n",
    "\n",
    "# noise distributions\n",
    "gumbel = Gumbel(0, 1)\n",
    "num_classes = 10\n",
    "\n",
    "# file path constants\n",
    "BASE_CLASSIFIER = '/home/gridsan/stefanou/cifar-10/resnet-18/base_cyclic'\n",
    "BASE_CLASSIFIER_PATH = BASE_CLASSIFIER + '/22cf22f9-f364-4c50-9da1-3d30ad5d8cf0/checkpoint.pt.latest'\n",
    "LOGIT_BALL_CLASSIFIER = '/home/gridsan/stefanou/cifar-10/resnet-18/trunc_ce_step_lr_50epochs'\n",
    "STANDARD_CLASSIFIER = '/home/gridsan/stefanou/cifar-10/resnet-18/standard_step_lr_50epochs'\n",
    "DATA_PATH = '/home/gridsan/stefanou/data/'\n",
    "TRUNC_TRAIN_DATASET = 'trunc_train_calibrated_logit_'\n",
    "TRUNC_VAL_DATASET = 'trunc_val_calibrated_logit_'\n",
    "TRUNC_TEST_DATASET = 'trunc_test_calibrated_logit_'\n",
    "\n",
    "# helper dataset\n",
    "class TruncatedCIFAR(Dataset):\n",
    "    \"\"\"\n",
    "    Truncated CIFAR-10 dataset [Kri09]_.\n",
    "    Original dataset has 50k training images and 10k testing images, with the\n",
    "    following classes:\n",
    "    * Airplane\n",
    "    * Automobile\n",
    "    * Bird\n",
    "    * Cat\n",
    "    * Deer\n",
    "    * Dog\n",
    "    * Frog\n",
    "    * Horse\n",
    "    * Ship\n",
    "    * Truck\n",
    "    .. [Kri09] Krizhevsky, A (2009). Learning Multiple Layers of Features\n",
    "        from Tiny Images. Technical Report.\n",
    "        \n",
    "    Truncated dataset only includes images and labels from original dataset that fall within the truncation set.\n",
    "    \"\"\"\n",
    "    def __init__(self, img, label, transform = None):\n",
    "        \"\"\"\n",
    "        \"\"\"\n",
    "        self.img = img \n",
    "        self.label = label\n",
    "        self.transform = transform\n",
    "\n",
    "    def __getitem__(self, idx):\n",
    "        \"\"\"\n",
    "        \"\"\"\n",
    "        x = self.img[idx]\n",
    "        y = self.label[idx]\n",
    "        # data augmentation\n",
    "        if self.transform: \n",
    "            x = self.transform(x)\n",
    "            \n",
    "        return x, y\n",
    "    \n",
    "    def __len__(self): \n",
    "        return self.img.size(0)\n",
    "transform_ = transforms.Compose(\n",
    "    [transforms.ToTensor()])\n",
    "\n",
    "# hyperparameters\n",
    "args = Parameters({ \n",
    "    'epochs': 15,\n",
    "    'workers': 8, \n",
    "    'batch_size': 128, \n",
    "    'lr': 1e-1, \n",
    "    'accuracy': True,\n",
    "    'momentum': 0.9, \n",
    "    'weight_decay': 5e-4, \n",
    "    'save_ckpt_iters': 50,\n",
    "    'should_save_ckpt': True,\n",
    "    'log_iters': 1,\n",
    "    'step_lr': 1, \n",
    "    'custom_lr_multiplier': consts.CYCLIC,\n",
    "    'step_lr_gamma': 1.0,\n",
    "    'validation_split': .8,\n",
    "    'shuffle': True,\n",
    "    'parallel': False, \n",
    "    'num_samples': 1000,\n",
    "    'logit_ball': 7.5,\n",
    "    'trials': 5,\n",
    "    'step_lr': 10, \n",
    "    'step_lr_gamma': 1.0,\n",
    "    'temperature': nn.Parameter(ch.ones(1).cuda()),\n",
    "    'device': 'cuda' if ch.cuda.is_available() else 'cpu'\n",
    "})"
   ]
  },
  {
   "cell_type": "code",
   "execution_count": 17,
   "metadata": {},
   "outputs": [],
   "source": [
    "import sys\n",
    "sys.path.append('../..')\n",
    "from delphi import train\n",
    "from delphi.utils import model_utils\n",
    "from delphi import grad\n",
    "from delphi import oracle\n",
    "from delphi.utils.datasets import CIFAR\n",
    "import delphi.utils.constants as consts\n",
    "import delphi.utils.data_augmentation as da\n",
    "from delphi.utils.helpers import setup_store_with_metadata"
   ]
  },
  {
   "cell_type": "markdown",
   "metadata": {},
   "source": [
    "# Setup and Explore Dataset"
   ]
  },
  {
   "cell_type": "code",
   "execution_count": 6,
   "metadata": {},
   "outputs": [],
   "source": [
    "ds = CIFAR(data_path='/home/gridsan/stefanou/data')"
   ]
  },
  {
   "cell_type": "code",
   "execution_count": 9,
   "metadata": {},
   "outputs": [],
   "source": [
    "import torchvision \n",
    "dataset = torchvision.datasets.CIFAR10(root='/home/gridsan/stefanou/data', train=True,\n",
    "                                        download=False, transform=transform_)\n",
    "\n",
    "train_set, val_set = ch.utils.data.random_split(dataset, [45000, 5000])\n",
    "\n",
    "train_loader = ch.utils.data.DataLoader(train_set, batch_size=128,\n",
    "                                          shuffle=True, num_workers=2)\n",
    "\n",
    "val_loader = ch.utils.data.DataLoader(val_set, batch_size=128,\n",
    "                                          shuffle=True, num_workers=2)\n",
    "\n",
    "test_set = torchvision.datasets.CIFAR10(root='/home/gridsan/stefanou/data', train=False,\n",
    "                                       download=False, transform=transform_)\n",
    "test_loader = ch.utils.data.DataLoader(test_set, batch_size=128,\n",
    "                                         shuffle=False, num_workers=2)"
   ]
  },
  {
   "cell_type": "code",
   "execution_count": 10,
   "metadata": {},
   "outputs": [
    {
     "name": "stdout",
     "output_type": "stream",
     "text": [
      "label: bird\n"
     ]
    },
    {
     "data": {
      "image/png": "[encoded data removed]",
      "text/plain": [
       "<Figure size 432x288 with 1 Axes>"
      ]
     },
     "metadata": {
      "needs_background": "light"
     },
     "output_type": "display_data"
    },
    {
     "name": "stdout",
     "output_type": "stream",
     "text": [
      "label: truck\n"
     ]
    },
    {
     "data": {
      "image/png": "[encoded data removed]",
      "text/plain": [
       "<Figure size 432x288 with 1 Axes>"
      ]
     },
     "metadata": {
      "needs_background": "light"
     },
     "output_type": "display_data"
    },
    {
     "name": "stdout",
     "output_type": "stream",
     "text": [
      "label: frog\n"
     ]
    },
    {
     "data": {
      "image/png": "[encoded data removed]",
      "text/plain": [
       "<Figure size 432x288 with 1 Axes>"
      ]
     },
     "metadata": {
      "needs_background": "light"
     },
     "output_type": "display_data"
    },
    {
     "name": "stdout",
     "output_type": "stream",
     "text": [
      "label: horse\n"
     ]
    },
    {
     "data": {
      "image/png": "[encoded data removed]",
      "text/plain": [
       "<Figure size 432x288 with 1 Axes>"
      ]
     },
     "metadata": {
      "needs_background": "light"
     },
     "output_type": "display_data"
    },
    {
     "name": "stdout",
     "output_type": "stream",
     "text": [
      "label: airplane\n"
     ]
    },
    {
     "data": {
      "image/png": "[encoded data removed]",
      "text/plain": [
       "<Figure size 432x288 with 1 Axes>"
      ]
     },
     "metadata": {
      "needs_background": "light"
     },
     "output_type": "display_data"
    },
    {
     "name": "stdout",
     "output_type": "stream",
     "text": [
      "label: cat\n"
     ]
    },
    {
     "data": {
      "image/png": "[encoded data removed]",
      "text/plain": [
       "<Figure size 432x288 with 1 Axes>"
      ]
     },
     "metadata": {
      "needs_background": "light"
     },
     "output_type": "display_data"
    },
    {
     "name": "stdout",
     "output_type": "stream",
     "text": [
      "label: deer\n"
     ]
    },
    {
     "data": {
      "image/png": "[encoded data removed]",
      "text/plain": [
       "<Figure size 432x288 with 1 Axes>"
      ]
     },
     "metadata": {
      "needs_background": "light"
     },
     "output_type": "display_data"
    },
    {
     "name": "stdout",
     "output_type": "stream",
     "text": [
      "label: dog\n"
     ]
    },
    {
     "data": {
      "image/png": "[encoded data removed]",
      "text/plain": [
       "<Figure size 432x288 with 1 Axes>"
      ]
     },
     "metadata": {
      "needs_background": "light"
     },
     "output_type": "display_data"
    },
    {
     "name": "stdout",
     "output_type": "stream",
     "text": [
      "label: ship\n"
     ]
    },
    {
     "data": {
      "image/png": "[encoded data removed]",
      "text/plain": [
       "<Figure size 432x288 with 1 Axes>"
      ]
     },
     "metadata": {
      "needs_background": "light"
     },
     "output_type": "display_data"
    },
    {
     "name": "stdout",
     "output_type": "stream",
     "text": [
      "label: automobile\n"
     ]
    },
    {
     "data": {
      "image/png": "[encoded data removed]",
      "text/plain": [
       "<Figure size 432x288 with 1 Axes>"
      ]
     },
     "metadata": {
      "needs_background": "light"
     },
     "output_type": "display_data"
    }
   ],
   "source": [
    "labels = {i for i in range(10)}\n",
    "for image, target in train_loader: \n",
    "    for j in range(len(target)): \n",
    "        im, targ = image[j], target[j]\n",
    "        if targ.item() in labels: \n",
    "            print(\"label: {}\".format(da.CIFAR_LABELS[targ.item()]))\n",
    "            plt.imshow(transforms.ToPILImage(mode=\"RGB\")(im.squeeze(0)))\n",
    "            plt.show()\n",
    "            labels.remove(targ.item())\n",
    "        if len(labels) == 0: \n",
    "            break"
   ]
  },
  {
   "cell_type": "markdown",
   "metadata": {},
   "source": [
    "# Train Base Classifier"
   ]
  },
  {
   "cell_type": "code",
   "execution_count": 28,
   "metadata": {},
   "outputs": [
    {
     "name": "stdout",
     "output_type": "stream",
     "text": [
      "Logging in: /home/gridsan/stefanou/cifar-10/resnet-18/base_cyclic/22cf22f9-f364-4c50-9da1-3d30ad5d8cf0\n"
     ]
    }
   ],
   "source": [
    "base_classifier, base_sd = model_utils.make_and_restore_model(arch='resnet18', dataset=ds)\n",
    "out_store = store.Store(BASE_CLASSIFIER)"
   ]
  },
  {
   "cell_type": "code",
   "execution_count": 29,
   "metadata": {},
   "outputs": [
    {
     "data": {
      "application/vnd.jupyter.widget-view+json": {
       "model_id": "",
       "version_major": 2,
       "version_minor": 0
      },
      "text/plain": [
       "HBox(children=(FloatProgress(value=0.0, max=352.0), HTML(value='')))"
      ]
     },
     "metadata": {},
     "output_type": "display_data"
    },
    {
     "data": {
      "application/vnd.jupyter.widget-view+json": {
       "model_id": "",
       "version_major": 2,
       "version_minor": 0
      },
      "text/plain": [
       "HBox(children=(FloatProgress(value=0.0, max=40.0), HTML(value='')))"
      ]
     },
     "metadata": {},
     "output_type": "display_data"
    },
    {
     "name": "stderr",
     "output_type": "stream",
     "text": [
      "/home/gridsan/stefanou/.local/lib/python3.8/site-packages/torch/optim/lr_scheduler.py:216: UserWarning: Please also save or load the state of the optimizer when saving or loading the scheduler.\n",
      "  warnings.warn(SAVE_STATE_WARNING, UserWarning)\n"
     ]
    },
    {
     "data": {
      "application/vnd.jupyter.widget-view+json": {
       "model_id": "",
       "version_major": 2,
       "version_minor": 0
      },
      "text/plain": [
       "HBox(children=(FloatProgress(value=0.0, max=352.0), HTML(value='')))"
      ]
     },
     "metadata": {},
     "output_type": "display_data"
    },
    {
     "data": {
      "application/vnd.jupyter.widget-view+json": {
       "model_id": "",
       "version_major": 2,
       "version_minor": 0
      },
      "text/plain": [
       "HBox(children=(FloatProgress(value=0.0, max=40.0), HTML(value='')))"
      ]
     },
     "metadata": {},
     "output_type": "display_data"
    },
    {
     "data": {
      "application/vnd.jupyter.widget-view+json": {
       "model_id": "",
       "version_major": 2,
       "version_minor": 0
      },
      "text/plain": [
       "HBox(children=(FloatProgress(value=0.0, max=352.0), HTML(value='')))"
      ]
     },
     "metadata": {},
     "output_type": "display_data"
    },
    {
     "data": {
      "application/vnd.jupyter.widget-view+json": {
       "model_id": "",
       "version_major": 2,
       "version_minor": 0
      },
      "text/plain": [
       "HBox(children=(FloatProgress(value=0.0, max=40.0), HTML(value='')))"
      ]
     },
     "metadata": {},
     "output_type": "display_data"
    },
    {
     "data": {
      "application/vnd.jupyter.widget-view+json": {
       "model_id": "",
       "version_major": 2,
       "version_minor": 0
      },
      "text/plain": [
       "HBox(children=(FloatProgress(value=0.0, max=352.0), HTML(value='')))"
      ]
     },
     "metadata": {},
     "output_type": "display_data"
    },
    {
     "data": {
      "application/vnd.jupyter.widget-view+json": {
       "model_id": "",
       "version_major": 2,
       "version_minor": 0
      },
      "text/plain": [
       "HBox(children=(FloatProgress(value=0.0, max=40.0), HTML(value='')))"
      ]
     },
     "metadata": {},
     "output_type": "display_data"
    },
    {
     "data": {
      "application/vnd.jupyter.widget-view+json": {
       "model_id": "",
       "version_major": 2,
       "version_minor": 0
      },
      "text/plain": [
       "HBox(children=(FloatProgress(value=0.0, max=352.0), HTML(value='')))"
      ]
     },
     "metadata": {},
     "output_type": "display_data"
    },
    {
     "data": {
      "application/vnd.jupyter.widget-view+json": {
       "model_id": "",
       "version_major": 2,
       "version_minor": 0
      },
      "text/plain": [
       "HBox(children=(FloatProgress(value=0.0, max=40.0), HTML(value='')))"
      ]
     },
     "metadata": {},
     "output_type": "display_data"
    },
    {
     "data": {
      "application/vnd.jupyter.widget-view+json": {
       "model_id": "",
       "version_major": 2,
       "version_minor": 0
      },
      "text/plain": [
       "HBox(children=(FloatProgress(value=0.0, max=352.0), HTML(value='')))"
      ]
     },
     "metadata": {},
     "output_type": "display_data"
    },
    {
     "data": {
      "application/vnd.jupyter.widget-view+json": {
       "model_id": "",
       "version_major": 2,
       "version_minor": 0
      },
      "text/plain": [
       "HBox(children=(FloatProgress(value=0.0, max=40.0), HTML(value='')))"
      ]
     },
     "metadata": {},
     "output_type": "display_data"
    },
    {
     "data": {
      "application/vnd.jupyter.widget-view+json": {
       "model_id": "",
       "version_major": 2,
       "version_minor": 0
      },
      "text/plain": [
       "HBox(children=(FloatProgress(value=0.0, max=352.0), HTML(value='')))"
      ]
     },
     "metadata": {},
     "output_type": "display_data"
    },
    {
     "data": {
      "application/vnd.jupyter.widget-view+json": {
       "model_id": "",
       "version_major": 2,
       "version_minor": 0
      },
      "text/plain": [
       "HBox(children=(FloatProgress(value=0.0, max=40.0), HTML(value='')))"
      ]
     },
     "metadata": {},
     "output_type": "display_data"
    },
    {
     "data": {
      "application/vnd.jupyter.widget-view+json": {
       "model_id": "",
       "version_major": 2,
       "version_minor": 0
      },
      "text/plain": [
       "HBox(children=(FloatProgress(value=0.0, max=352.0), HTML(value='')))"
      ]
     },
     "metadata": {},
     "output_type": "display_data"
    },
    {
     "data": {
      "application/vnd.jupyter.widget-view+json": {
       "model_id": "",
       "version_major": 2,
       "version_minor": 0
      },
      "text/plain": [
       "HBox(children=(FloatProgress(value=0.0, max=40.0), HTML(value='')))"
      ]
     },
     "metadata": {},
     "output_type": "display_data"
    },
    {
     "data": {
      "application/vnd.jupyter.widget-view+json": {
       "model_id": "",
       "version_major": 2,
       "version_minor": 0
      },
      "text/plain": [
       "HBox(children=(FloatProgress(value=0.0, max=352.0), HTML(value='')))"
      ]
     },
     "metadata": {},
     "output_type": "display_data"
    },
    {
     "data": {
      "application/vnd.jupyter.widget-view+json": {
       "model_id": "",
       "version_major": 2,
       "version_minor": 0
      },
      "text/plain": [
       "HBox(children=(FloatProgress(value=0.0, max=40.0), HTML(value='')))"
      ]
     },
     "metadata": {},
     "output_type": "display_data"
    },
    {
     "data": {
      "application/vnd.jupyter.widget-view+json": {
       "model_id": "",
       "version_major": 2,
       "version_minor": 0
      },
      "text/plain": [
       "HBox(children=(FloatProgress(value=0.0, max=352.0), HTML(value='')))"
      ]
     },
     "metadata": {},
     "output_type": "display_data"
    },
    {
     "data": {
      "application/vnd.jupyter.widget-view+json": {
       "model_id": "",
       "version_major": 2,
       "version_minor": 0
      },
      "text/plain": [
       "HBox(children=(FloatProgress(value=0.0, max=40.0), HTML(value='')))"
      ]
     },
     "metadata": {},
     "output_type": "display_data"
    },
    {
     "data": {
      "application/vnd.jupyter.widget-view+json": {
       "model_id": "",
       "version_major": 2,
       "version_minor": 0
      },
      "text/plain": [
       "HBox(children=(FloatProgress(value=0.0, max=352.0), HTML(value='')))"
      ]
     },
     "metadata": {},
     "output_type": "display_data"
    },
    {
     "data": {
      "application/vnd.jupyter.widget-view+json": {
       "model_id": "",
       "version_major": 2,
       "version_minor": 0
      },
      "text/plain": [
       "HBox(children=(FloatProgress(value=0.0, max=40.0), HTML(value='')))"
      ]
     },
     "metadata": {},
     "output_type": "display_data"
    },
    {
     "data": {
      "application/vnd.jupyter.widget-view+json": {
       "model_id": "",
       "version_major": 2,
       "version_minor": 0
      },
      "text/plain": [
       "HBox(children=(FloatProgress(value=0.0, max=352.0), HTML(value='')))"
      ]
     },
     "metadata": {},
     "output_type": "display_data"
    },
    {
     "data": {
      "application/vnd.jupyter.widget-view+json": {
       "model_id": "",
       "version_major": 2,
       "version_minor": 0
      },
      "text/plain": [
       "HBox(children=(FloatProgress(value=0.0, max=40.0), HTML(value='')))"
      ]
     },
     "metadata": {},
     "output_type": "display_data"
    },
    {
     "data": {
      "application/vnd.jupyter.widget-view+json": {
       "model_id": "",
       "version_major": 2,
       "version_minor": 0
      },
      "text/plain": [
       "HBox(children=(FloatProgress(value=0.0, max=352.0), HTML(value='')))"
      ]
     },
     "metadata": {},
     "output_type": "display_data"
    },
    {
     "data": {
      "application/vnd.jupyter.widget-view+json": {
       "model_id": "",
       "version_major": 2,
       "version_minor": 0
      },
      "text/plain": [
       "HBox(children=(FloatProgress(value=0.0, max=40.0), HTML(value='')))"
      ]
     },
     "metadata": {},
     "output_type": "display_data"
    },
    {
     "data": {
      "application/vnd.jupyter.widget-view+json": {
       "model_id": "",
       "version_major": 2,
       "version_minor": 0
      },
      "text/plain": [
       "HBox(children=(FloatProgress(value=0.0, max=352.0), HTML(value='')))"
      ]
     },
     "metadata": {},
     "output_type": "display_data"
    },
    {
     "data": {
      "application/vnd.jupyter.widget-view+json": {
       "model_id": "",
       "version_major": 2,
       "version_minor": 0
      },
      "text/plain": [
       "HBox(children=(FloatProgress(value=0.0, max=40.0), HTML(value='')))"
      ]
     },
     "metadata": {},
     "output_type": "display_data"
    },
    {
     "data": {
      "application/vnd.jupyter.widget-view+json": {
       "model_id": "",
       "version_major": 2,
       "version_minor": 0
      },
      "text/plain": [
       "HBox(children=(FloatProgress(value=0.0, max=352.0), HTML(value='')))"
      ]
     },
     "metadata": {},
     "output_type": "display_data"
    },
    {
     "data": {
      "application/vnd.jupyter.widget-view+json": {
       "model_id": "",
       "version_major": 2,
       "version_minor": 0
      },
      "text/plain": [
       "HBox(children=(FloatProgress(value=0.0, max=40.0), HTML(value='')))"
      ]
     },
     "metadata": {},
     "output_type": "display_data"
    }
   ],
   "source": [
    "# train\n",
    "ch.manual_seed(0)\n",
    "train.train_model(args, base_classifier, (train_loader, val_loader), store=out_store)\n",
    "out_store.close()"
   ]
  },
  {
   "cell_type": "code",
   "execution_count": 30,
   "metadata": {},
   "outputs": [
    {
     "name": "stderr",
     "output_type": "stream",
     "text": [
      "100%|██████████| 1/1 [00:00<00:00, 65.06it/s]\n"
     ]
    },
    {
     "data": {
      "text/html": [
       "<div>\n",
       "<style scoped>\n",
       "    .dataframe tbody tr th:only-of-type {\n",
       "        vertical-align: middle;\n",
       "    }\n",
       "\n",
       "    .dataframe tbody tr th {\n",
       "        vertical-align: top;\n",
       "    }\n",
       "\n",
       "    .dataframe thead th {\n",
       "        text-align: right;\n",
       "    }\n",
       "</style>\n",
       "<table border=\"1\" class=\"dataframe\">\n",
       "  <thead>\n",
       "    <tr style=\"text-align: right;\">\n",
       "      <th></th>\n",
       "      <th>epoch</th>\n",
       "      <th>val_prec1</th>\n",
       "      <th>val_loss</th>\n",
       "      <th>train_prec1</th>\n",
       "      <th>train_loss</th>\n",
       "      <th>time</th>\n",
       "      <th>exp_id</th>\n",
       "    </tr>\n",
       "  </thead>\n",
       "  <tbody>\n",
       "    <tr>\n",
       "      <th>0</th>\n",
       "      <td>1</td>\n",
       "      <td>11.460000</td>\n",
       "      <td>2.359763</td>\n",
       "      <td>10.793333</td>\n",
       "      <td>2.362881</td>\n",
       "      <td>20.447753</td>\n",
       "      <td>22cf22f9-f364-4c50-9da1-3d30ad5d8cf0</td>\n",
       "    </tr>\n",
       "    <tr>\n",
       "      <th>1</th>\n",
       "      <td>2</td>\n",
       "      <td>47.559998</td>\n",
       "      <td>1.445671</td>\n",
       "      <td>35.540001</td>\n",
       "      <td>1.827896</td>\n",
       "      <td>37.093484</td>\n",
       "      <td>22cf22f9-f364-4c50-9da1-3d30ad5d8cf0</td>\n",
       "    </tr>\n",
       "    <tr>\n",
       "      <th>2</th>\n",
       "      <td>3</td>\n",
       "      <td>59.019997</td>\n",
       "      <td>1.156627</td>\n",
       "      <td>53.353333</td>\n",
       "      <td>1.283353</td>\n",
       "      <td>55.350592</td>\n",
       "      <td>22cf22f9-f364-4c50-9da1-3d30ad5d8cf0</td>\n",
       "    </tr>\n",
       "    <tr>\n",
       "      <th>3</th>\n",
       "      <td>4</td>\n",
       "      <td>66.320000</td>\n",
       "      <td>0.958909</td>\n",
       "      <td>64.164444</td>\n",
       "      <td>1.001502</td>\n",
       "      <td>73.781529</td>\n",
       "      <td>22cf22f9-f364-4c50-9da1-3d30ad5d8cf0</td>\n",
       "    </tr>\n",
       "    <tr>\n",
       "      <th>4</th>\n",
       "      <td>5</td>\n",
       "      <td>73.139999</td>\n",
       "      <td>0.767273</td>\n",
       "      <td>71.875557</td>\n",
       "      <td>0.802427</td>\n",
       "      <td>91.964692</td>\n",
       "      <td>22cf22f9-f364-4c50-9da1-3d30ad5d8cf0</td>\n",
       "    </tr>\n",
       "  </tbody>\n",
       "</table>\n",
       "</div>"
      ],
      "text/plain": [
       "   epoch  val_prec1  val_loss  train_prec1  train_loss       time  \\\n",
       "0      1  11.460000  2.359763    10.793333    2.362881  20.447753   \n",
       "1      2  47.559998  1.445671    35.540001    1.827896  37.093484   \n",
       "2      3  59.019997  1.156627    53.353333    1.283353  55.350592   \n",
       "3      4  66.320000  0.958909    64.164444    1.001502  73.781529   \n",
       "4      5  73.139999  0.767273    71.875557    0.802427  91.964692   \n",
       "\n",
       "                                 exp_id  \n",
       "0  22cf22f9-f364-4c50-9da1-3d30ad5d8cf0  \n",
       "1  22cf22f9-f364-4c50-9da1-3d30ad5d8cf0  \n",
       "2  22cf22f9-f364-4c50-9da1-3d30ad5d8cf0  \n",
       "3  22cf22f9-f364-4c50-9da1-3d30ad5d8cf0  \n",
       "4  22cf22f9-f364-4c50-9da1-3d30ad5d8cf0  "
      ]
     },
     "execution_count": 30,
     "metadata": {},
     "output_type": "execute_result"
    }
   ],
   "source": [
    "reader = CollectionReader(BASE_CLASSIFIER)\n",
    "logs = reader.df('logs')\n",
    "reader.close()\n",
    "logs.head()"
   ]
  },
  {
   "cell_type": "code",
   "execution_count": 31,
   "metadata": {},
   "outputs": [
    {
     "data": {
      "image/png": "[encoded data removed]",
      "text/plain": [
       "<Figure size 432x288 with 1 Axes>"
      ]
     },
     "metadata": {
      "needs_background": "light"
     },
     "output_type": "display_data"
    },
    {
     "data": {
      "text/plain": [
       "<AxesSubplot:xlabel='epoch', ylabel='train_loss'>"
      ]
     },
     "execution_count": 31,
     "metadata": {},
     "output_type": "execute_result"
    },
    {
     "data": {
      "image/png": "[encoded data removed]",
      "text/plain": [
       "<Figure size 432x288 with 1 Axes>"
      ]
     },
     "metadata": {
      "needs_background": "light"
     },
     "output_type": "display_data"
    }
   ],
   "source": [
    "sns.lineplot(data=logs, x='epoch', y='train_prec1')\n",
    "sns.lineplot(data=logs, x='epoch', y='val_prec1')\n",
    "plt.show()\n",
    "sns.lineplot(data=logs, x='epoch', y='train_loss')\n",
    "sns.lineplot(data=logs, x='epoch', y='val_loss')"
   ]
  },
  {
   "cell_type": "markdown",
   "metadata": {},
   "source": [
    "# Truncate CIFAR-10"
   ]
  },
  {
   "cell_type": "code",
   "execution_count": 34,
   "metadata": {},
   "outputs": [
    {
     "name": "stdout",
     "output_type": "stream",
     "text": [
      "=> loading checkpoint '/home/gridsan/stefanou/cifar-10/resnet-18/base_cyclic/22cf22f9-f364-4c50-9da1-3d30ad5d8cf0/checkpoint.pt.latest'\n",
      "=> loaded checkpoint '/home/gridsan/stefanou/cifar-10/resnet-18/base_cyclic/22cf22f9-f364-4c50-9da1-3d30ad5d8cf0/checkpoint.pt.latest' (epoch 15)\n"
     ]
    }
   ],
   "source": [
    "base_classifier, _ = model_utils.make_and_restore_model(arch='resnet18', dataset=ds, resume_path=BASE_CLASSIFIER_PATH)"
   ]
  },
  {
   "cell_type": "markdown",
   "metadata": {},
   "source": [
    "# Callibrate Base Classifier"
   ]
  },
  {
   "cell_type": "code",
   "execution_count": 42,
   "metadata": {},
   "outputs": [
    {
     "data": {
      "application/vnd.jupyter.widget-view+json": {
       "model_id": "367fbb11f5e64f67aff628d550516e8e",
       "version_major": 2,
       "version_minor": 0
      },
      "text/plain": [
       "HBox(children=(FloatProgress(value=0.0, max=79.0), HTML(value='')))"
      ]
     },
     "metadata": {},
     "output_type": "display_data"
    },
    {
     "name": "stdout",
     "output_type": "stream",
     "text": [
      "\n",
      "Accuracy of the network on the 10000 test images: 85 %\n",
      "0.857\n"
     ]
    }
   ],
   "source": [
    "from tqdm.notebook import tqdm\n",
    "\n",
    "def T_scaling(logits, temp):\n",
    "    return ch.div(logits, temp)\n",
    "\n",
    "# Use kwargs for calibration method specific parameters\n",
    "def test(calibration_method=None):\n",
    "    preds = []\n",
    "    labels_oneh = []\n",
    "    correct = 0\n",
    "    base_classifier.eval()\n",
    "    with ch.no_grad():\n",
    "        for data in tqdm(test_loader):\n",
    "            images, labels = data[0].to('cuda:0'), data[1].to('cuda:0')\n",
    "\n",
    "            pred = base_classifier(images)[0]\n",
    "\n",
    "            if calibration_method:\n",
    "                pred = calibration_method(pred, args.temperature.item())\n",
    "\n",
    "            # Get softmax values for net input and resulting class predictions\n",
    "            sm = nn.Softmax(dim=1)\n",
    "            pred = sm(pred)\n",
    "\n",
    "            _, predicted_cl = ch.max(pred.data, 1)\n",
    "            pred = pred.cpu().detach().numpy()\n",
    "\n",
    "            # Convert labels to one hot encoding\n",
    "            label_oneh = ch.nn.functional.one_hot(labels, num_classes=num_classes)\n",
    "            label_oneh = label_oneh.cpu().detach().numpy()\n",
    "\n",
    "            preds.extend(pred)\n",
    "            labels_oneh.extend(label_oneh)\n",
    "\n",
    "            # Count correctly classified samples for accuracy\n",
    "            correct += sum(predicted_cl == labels).item()\n",
    "\n",
    "    preds = np.array(preds).flatten()\n",
    "    labels_oneh = np.array(labels_oneh).flatten()\n",
    "\n",
    "    correct_perc = correct / len(test_loader.dataset)\n",
    "    print('Accuracy of the network on the 10000 test images: %d %%' % (100 * correct_perc))\n",
    "    print(correct_perc)\n",
    "\n",
    "    return preds, labels_oneh\n",
    "\n",
    "preds, labels_oneh = test()\n",
    "\n",
    "def calc_bins(preds):\n",
    "    # Assign each prediction to a bin\n",
    "    num_bins = 10\n",
    "    bins = np.linspace(0.1, 1, num_bins)\n",
    "    binned = np.digitize(preds, bins)\n",
    "\n",
    "    # Save the accuracy, confidence and size of each bin\n",
    "    bin_accs = np.zeros(num_bins)\n",
    "    bin_confs = np.zeros(num_bins)\n",
    "    bin_sizes = np.zeros(num_bins)\n",
    "\n",
    "    for bin in range(num_bins):\n",
    "        bin_sizes[bin] = len(preds[binned == bin])\n",
    "        if bin_sizes[bin] > 0:\n",
    "            bin_accs[bin] = (labels_oneh[binned==bin]).sum() / bin_sizes[bin]\n",
    "            bin_confs[bin] = (preds[binned==bin]).sum() / bin_sizes[bin]\n",
    "\n",
    "    return bins, binned, bin_accs, bin_confs, bin_sizes\n",
    "\n",
    "def get_metrics(preds):\n",
    "    ECE = 0\n",
    "    MCE = 0\n",
    "    bins, _, bin_accs, bin_confs, bin_sizes = calc_bins(preds)\n",
    "\n",
    "    for i in range(len(bins)):\n",
    "        abs_conf_dif = abs(bin_accs[i] - bin_confs[i])\n",
    "        ECE += (bin_sizes[i] / sum(bin_sizes)) * abs_conf_dif\n",
    "        MCE = max(MCE, abs_conf_dif)\n",
    "\n",
    "    return ECE, MCE\n",
    "\n",
    "\n",
    "import matplotlib.patches as mpatches\n",
    "\n",
    "def draw_reliability_graph(preds):\n",
    "    ECE, MCE = get_metrics(preds)\n",
    "    bins, _, bin_accs, _, _ = calc_bins(preds)\n",
    "\n",
    "    fig = plt.figure(figsize=(8, 8))\n",
    "    ax = fig.gca()\n",
    "\n",
    "    # x/y limits\n",
    "    ax.set_xlim(0, 1.05)\n",
    "    ax.set_ylim(0, 1)\n",
    "\n",
    "    # x/y labels\n",
    "    plt.xlabel('Confidence')\n",
    "    plt.ylabel('Accuracy')\n",
    "\n",
    "    # Create grid\n",
    "    ax.set_axisbelow(True) \n",
    "    ax.grid(color='gray', linestyle='dashed')\n",
    "\n",
    "    # Error bars\n",
    "    plt.bar(bins, bins,  width=0.1, alpha=0.3, edgecolor='black', color='r', hatch='\\\\')\n",
    "\n",
    "    # Draw bars and identity line\n",
    "    plt.bar(bins, bin_accs, width=0.1, alpha=1, edgecolor='black', color='b')\n",
    "    plt.plot([0,1],[0,1], '--', color='gray', linewidth=2)\n",
    "\n",
    "    # Equally spaced axes\n",
    "    plt.gca().set_aspect('equal', adjustable='box')\n",
    "\n",
    "    # ECE and MCE legend\n",
    "    ECE_patch = mpatches.Patch(color='green', label='ECE = {:.2f}%'.format(ECE*100))\n",
    "    MCE_patch = mpatches.Patch(color='red', label='MCE = {:.2f}%'.format(MCE*100))\n",
    "    plt.legend(handles=[ECE_patch, MCE_patch])\n",
    "\n",
    "    #plt.show()\n",
    "\n",
    "    plt.savefig('calibrated_network.png', bbox_inches='tight')\n",
    "\n",
    "#draw_reliability_graph(preds)\n"
   ]
  },
  {
   "cell_type": "code",
   "execution_count": 43,
   "metadata": {},
   "outputs": [
    {
     "data": {
      "application/vnd.jupyter.widget-view+json": {
       "model_id": "6e6a667e95a945539c42c0e52c84b96b",
       "version_major": 2,
       "version_minor": 0
      },
      "text/plain": [
       "HBox(children=(FloatProgress(value=0.0, max=40.0), HTML(value='')))"
      ]
     },
     "metadata": {},
     "output_type": "display_data"
    },
    {
     "name": "stdout",
     "output_type": "stream",
     "text": [
      "\n",
      "Final T_scaling factor: 1.70\n"
     ]
    },
    {
     "data": {
      "image/png": "[encoded data removed]",
      "text/plain": [
       "<Figure size 432x288 with 2 Axes>"
      ]
     },
     "metadata": {
      "needs_background": "light"
     },
     "output_type": "display_data"
    }
   ],
   "source": [
    "criterion = nn.CrossEntropyLoss()\n",
    "\n",
    "# Removing strong_wolfe line search results in jump after 50 epochs\n",
    "optimizer = ch.optim.LBFGS([args.temperature], lr=0.001, max_iter=10000, line_search_fn='strong_wolfe')\n",
    "\n",
    "logits_list = []\n",
    "labels_list = []\n",
    "temps = []\n",
    "losses = []\n",
    "\n",
    "for i, data in enumerate(tqdm(val_loader, 0)):\n",
    "    images, labels = data[0].cuda(), data[1].cuda()\n",
    "\n",
    "    base_classifier.eval()\n",
    "    with ch.no_grad():\n",
    "        logits_list.append(base_classifier(images)[0])\n",
    "        labels_list.append(labels)\n",
    "\n",
    "# Create tensors\n",
    "logits_list = ch.cat(logits_list).cuda()\n",
    "labels_list = ch.cat(labels_list).cuda()\n",
    "\n",
    "def _eval():\n",
    "    loss = criterion(T_scaling(logits_list, args.temperature), labels_list)\n",
    "    loss.backward()\n",
    "    temps.append(args.temperature.item())\n",
    "    losses.append(loss)\n",
    "    return loss\n",
    "\n",
    "\n",
    "optimizer.step(_eval)\n",
    "\n",
    "print('Final T_scaling factor: {:.2f}'.format(args.temperature.item()))\n",
    "\n",
    "plt.subplot(121)\n",
    "plt.plot(list(range(len(temps))), temps)\n",
    "\n",
    "plt.subplot(122)\n",
    "plt.plot(list(range(len(losses))), losses)\n",
    "plt.show()"
   ]
  },
  {
   "cell_type": "code",
   "execution_count": 44,
   "metadata": {
    "scrolled": false
   },
   "outputs": [
    {
     "data": {
      "application/vnd.jupyter.widget-view+json": {
       "model_id": "d45ebac38be64fb1aa3366ca35b579d2",
       "version_major": 2,
       "version_minor": 0
      },
      "text/plain": [
       "HBox(children=(FloatProgress(value=0.0, max=79.0), HTML(value='')))"
      ]
     },
     "metadata": {},
     "output_type": "display_data"
    },
    {
     "name": "stdout",
     "output_type": "stream",
     "text": [
      "\n",
      "Accuracy of the network on the 10000 test images: 85 %\n",
      "0.857\n"
     ]
    },
    {
     "data": {
      "application/vnd.jupyter.widget-view+json": {
       "model_id": "337aa36e10e04d74ae7b4a7d854830ca",
       "version_major": 2,
       "version_minor": 0
      },
      "text/plain": [
       "HBox(children=(FloatProgress(value=0.0, max=79.0), HTML(value='')))"
      ]
     },
     "metadata": {},
     "output_type": "display_data"
    },
    {
     "name": "stdout",
     "output_type": "stream",
     "text": [
      "\n",
      "Accuracy of the network on the 10000 test images: 85 %\n",
      "0.857\n"
     ]
    },
    {
     "data": {
      "image/png": "[encoded data removed]",
      "text/plain": [
       "<Figure size 576x576 with 1 Axes>"
      ]
     },
     "metadata": {
      "needs_background": "light"
     },
     "output_type": "display_data"
    },
    {
     "data": {
      "image/png": "[encoded data removed]",
      "text/plain": [
       "<Figure size 576x576 with 1 Axes>"
      ]
     },
     "metadata": {
      "needs_background": "light"
     },
     "output_type": "display_data"
    }
   ],
   "source": [
    "preds_original, _ = test()\n",
    "preds_calibrated, _ = test(T_scaling)\n",
    "\n",
    "draw_reliability_graph(preds_original)\n",
    "draw_reliability_graph(preds_calibrated)"
   ]
  },
  {
   "cell_type": "code",
   "execution_count": 45,
   "metadata": {},
   "outputs": [
    {
     "name": "stdout",
     "output_type": "stream",
     "text": [
      "original ece:  0.015081477090018787\n",
      "original mce:  0.21558458684418635\n",
      "calibrated ece:  0.002693353729248048\n",
      "calibrated mce:  0.03941745972365479\n"
     ]
    }
   ],
   "source": [
    "orig_ece, orig_mce = get_metrics(preds_original)\n",
    "calibrated_ece, calibrated_mce = get_metrics(preds_calibrated)\n",
    "\n",
    "print(\"original ece: \", orig_ece)\n",
    "print(\"original mce: \", orig_mce)\n",
    "\n",
    "print(\"calibrated ece: \", calibrated_ece)\n",
    "print(\"calibrated mce: \", calibrated_mce)"
   ]
  },
  {
   "cell_type": "code",
   "execution_count": 46,
   "metadata": {},
   "outputs": [
    {
     "name": "stdout",
     "output_type": "stream",
     "text": [
      "train alpha:  0.6277777777777778\n"
     ]
    },
    {
     "data": {
      "text/plain": [
       "<torch.utils.data.dataloader.DataLoader at 0x7fc964724d90>"
      ]
     },
     "execution_count": 46,
     "metadata": {},
     "output_type": "execute_result"
    }
   ],
   "source": [
    "# membership oracle\n",
    "phi = oracle.LogitBallComplement(args.logit_ball)\n",
    "\n",
    "# check if there exists a cifar 10 train truncated dataset already\n",
    "if not os.path.isfile(DATA_PATH + TRUNC_TRAIN_DATASET + str(args.logit_ball) + '.pickle') or not os.path.isfile(DATA_PATH + TRUNC_TRAIN_DATASET + str(args.logit_ball) + '.pickle'):\n",
    "    trunc_train_X, trunc_train_y = Tensor([]), Tensor([])\n",
    "    # unseen test data\n",
    "    trunc_test_X, trunc_test_y = Tensor([]), Tensor([])\n",
    "    for inp, targ in train_loader: \n",
    "        inp, targ = inp.to(args.device), targ.to(args.device)\n",
    "        logits, inp = base_classifier(inp)\n",
    "        logits = T_scaling(logits, args.temperature.item()).cpu()\n",
    "\n",
    "        filtered = phi(logits)\n",
    "        indices = filtered.nonzero(as_tuple=False).flatten()\n",
    "        test_indices = (~filtered).nonzero(as_tuple=False).flatten()\n",
    "        trunc_train_X, trunc_train_y = ch.cat([trunc_train_X, inp[indices].cpu()]), ch.cat([trunc_train_y, targ[indices].cpu()])\n",
    "        trunc_test_X, trunc_test_y = ch.cat([trunc_test_X, inp[test_indices].cpu()]), ch.cat([trunc_test_y, targ[test_indices].cpu()])\n",
    "\n",
    "    print(\"train alpha: \", trunc_train_X.size(0) / len(train_loader.dataset))\n",
    "    trunc_train_loader = DataLoader(TruncatedCIFAR(trunc_train_X, trunc_train_y.long(), transform= None), num_workers=args.workers, shuffle=args.shuffle, batch_size=args.batch_size)\n",
    "\n",
    "    # train loader\n",
    "    with open(DATA_PATH + TRUNC_TRAIN_DATASET + str(args.logit_ball) + '.pickle', 'wb') as f: \n",
    "        pickle.dump(trunc_train_loader, f)\n",
    "else:  \n",
    "    trunc_train_loader = pd.read_pickle(DATA_PATH + TRUNC_TRAIN_DATASET + str(args.logit_ball) + '.pickle')\n",
    "trunc_train_loader"
   ]
  },
  {
   "cell_type": "code",
   "execution_count": 47,
   "metadata": {},
   "outputs": [
    {
     "name": "stdout",
     "output_type": "stream",
     "text": [
      "val alpha:  0.5018\n"
     ]
    },
    {
     "data": {
      "text/plain": [
       "(<torch.utils.data.dataloader.DataLoader at 0x7fc9b3dd2a60>,\n",
       " <torch.utils.data.dataloader.DataLoader at 0x7fcc52e27640>)"
      ]
     },
     "execution_count": 47,
     "metadata": {},
     "output_type": "execute_result"
    }
   ],
   "source": [
    "# check if there exists a cifar 10 valdation and test truncated dataset\n",
    "if not os.path.isfile(DATA_PATH + TRUNC_VAL_DATASET + str(args.logit_ball) + '.pickle') or not os.path.isfile(DATA_PATH + TRUNC_VAL_DATASET + str(args.logit_ball) + '.pickle'):\n",
    "    trunc_val_X, trunc_val_y = Tensor([]), Tensor([]) \n",
    "\n",
    "    for inp, targ in val_loader: \n",
    "        inp, targ = inp.to(args.device), targ.to(args.device)\n",
    "        logits, inp = base_classifier(inp)\n",
    "        logits = T_scaling(logits, args.temperature.item()).cpu()\n",
    "        filtered = phi(logits)\n",
    "        indices = filtered.nonzero(as_tuple=False).flatten()\n",
    "        test_indices = (~filtered).nonzero(as_tuple=False).flatten()\n",
    "        trunc_val_X, trunc_val_y = ch.cat([trunc_val_X, inp[indices].cpu()]), ch.cat([trunc_val_y, targ[indices].cpu()])\n",
    "        trunc_test_X, trunc_test_y = ch.cat([trunc_test_X, inp[test_indices].cpu()]), ch.cat([trunc_test_y, targ[test_indices].cpu()])\n",
    "\n",
    "    print(\"val alpha: \", trunc_val_X.size(0) / len(val_loader.dataset))\n",
    "    trunc_val_loader = DataLoader(TruncatedCIFAR(trunc_val_X, trunc_val_y.long(), transform=None), num_workers=args.workers, shuffle=args.shuffle, batch_size=args.batch_size)\n",
    "    # truncated test set (unseen data that the model has not been tested on)\n",
    "    trunc_test_loader = DataLoader(TruncatedCIFAR(trunc_test_X, trunc_test_y.long(), transform=None), \n",
    "                             num_workers=args.workers, shuffle=args.shuffle, batch_size=args.batch_size)\n",
    "\n",
    "    # validation loader\n",
    "    with open(DATA_PATH + TRUNC_VAL_DATASET + str(args.logit_ball) + '.pickle', 'wb') as f: \n",
    "        pickle.dump(trunc_val_loader, f)\n",
    "\n",
    "    # test loader\n",
    "    with open(DATA_PATH + TRUNC_TEST_DATASET + str(args.logit_ball) + '.pickle', 'wb') as f: \n",
    "        pickle.dump(trunc_test_loader, f)\n",
    "else: \n",
    "    trunc_val_loader = pd.read_pickle(DATA_PATH + TRUNC_VAL_DATASET + str(args.logit_ball) + '.pickle')\n",
    "    trunc_test_loader = pd.read_pickle(DATA_PATH + TRUNC_TEST_DATASET + str(args.logit_ball) + '.pickle')\n",
    "trunc_val_loader, trunc_test_loader"
   ]
  },
  {
   "cell_type": "code",
   "execution_count": 48,
   "metadata": {},
   "outputs": [
    {
     "name": "stdout",
     "output_type": "stream",
     "text": [
      "alpha train:  0.6277777777777778\n",
      "alpha val:  0.5018\n",
      "test set size:  19241\n"
     ]
    }
   ],
   "source": [
    "print(\"alpha train: \", len(trunc_train_loader.dataset) / len(train_loader.dataset))\n",
    "print(\"alpha val: \", len(trunc_val_loader.dataset) / len(val_loader.dataset))\n",
    "print(\"test set size: \", len(trunc_test_loader.dataset))"
   ]
  },
  {
   "cell_type": "markdown",
   "metadata": {},
   "source": [
    "# Train Model Using Truncated CE Loss"
   ]
  },
  {
   "cell_type": "code",
   "execution_count": 34,
   "metadata": {},
   "outputs": [
    {
     "name": "stdout",
     "output_type": "stream",
     "text": [
      "Logging in: /home/pstefanou/cifar-10/resnet-18/trunc_ce_step_lr_50epochs/73765c3f-f6fe-42bc-ae4c-be73ada89fe0\n"
     ]
    }
   ],
   "source": [
    "##### logging store\n",
    "out_store = store.Store(LOGIT_BALL_CLASSIFIER)\n",
    "setup_store_with_metadata(args, out_store)\n",
    "delphi_, _ = model_utils.make_and_restore_model(arch='resnet18', dataset=ds)"
   ]
  },
  {
   "cell_type": "markdown",
   "metadata": {},
   "source": [
    "# TruncatedCE with Logit Ball Complement Oracle"
   ]
  },
  {
   "cell_type": "code",
   "execution_count": 35,
   "metadata": {
    "scrolled": true
   },
   "outputs": [
    {
     "data": {
      "application/vnd.jupyter.widget-view+json": {
       "model_id": "",
       "version_major": 2,
       "version_minor": 0
      },
      "text/plain": [
       "  0%|          | 0/188 [00:00<?, ?it/s]"
      ]
     },
     "metadata": {},
     "output_type": "display_data"
    },
    {
     "data": {
      "application/vnd.jupyter.widget-view+json": {
       "model_id": "",
       "version_major": 2,
       "version_minor": 0
      },
      "text/plain": [
       "  0%|          | 0/14 [00:00<?, ?it/s]"
      ]
     },
     "metadata": {},
     "output_type": "display_data"
    },
    {
     "data": {
      "application/vnd.jupyter.widget-view+json": {
       "model_id": "",
       "version_major": 2,
       "version_minor": 0
      },
      "text/plain": [
       "  0%|          | 0/188 [00:00<?, ?it/s]"
      ]
     },
     "metadata": {},
     "output_type": "display_data"
    },
    {
     "data": {
      "application/vnd.jupyter.widget-view+json": {
       "model_id": "",
       "version_major": 2,
       "version_minor": 0
      },
      "text/plain": [
       "  0%|          | 0/14 [00:00<?, ?it/s]"
      ]
     },
     "metadata": {},
     "output_type": "display_data"
    },
    {
     "data": {
      "application/vnd.jupyter.widget-view+json": {
       "model_id": "",
       "version_major": 2,
       "version_minor": 0
      },
      "text/plain": [
       "  0%|          | 0/188 [00:00<?, ?it/s]"
      ]
     },
     "metadata": {},
     "output_type": "display_data"
    },
    {
     "data": {
      "application/vnd.jupyter.widget-view+json": {
       "model_id": "",
       "version_major": 2,
       "version_minor": 0
      },
      "text/plain": [
       "  0%|          | 0/14 [00:00<?, ?it/s]"
      ]
     },
     "metadata": {},
     "output_type": "display_data"
    },
    {
     "data": {
      "application/vnd.jupyter.widget-view+json": {
       "model_id": "",
       "version_major": 2,
       "version_minor": 0
      },
      "text/plain": [
       "  0%|          | 0/188 [00:00<?, ?it/s]"
      ]
     },
     "metadata": {},
     "output_type": "display_data"
    },
    {
     "data": {
      "application/vnd.jupyter.widget-view+json": {
       "model_id": "",
       "version_major": 2,
       "version_minor": 0
      },
      "text/plain": [
       "  0%|          | 0/14 [00:00<?, ?it/s]"
      ]
     },
     "metadata": {},
     "output_type": "display_data"
    },
    {
     "data": {
      "application/vnd.jupyter.widget-view+json": {
       "model_id": "",
       "version_major": 2,
       "version_minor": 0
      },
      "text/plain": [
       "  0%|          | 0/188 [00:00<?, ?it/s]"
      ]
     },
     "metadata": {},
     "output_type": "display_data"
    },
    {
     "data": {
      "application/vnd.jupyter.widget-view+json": {
       "model_id": "",
       "version_major": 2,
       "version_minor": 0
      },
      "text/plain": [
       "  0%|          | 0/14 [00:00<?, ?it/s]"
      ]
     },
     "metadata": {},
     "output_type": "display_data"
    },
    {
     "data": {
      "application/vnd.jupyter.widget-view+json": {
       "model_id": "",
       "version_major": 2,
       "version_minor": 0
      },
      "text/plain": [
       "  0%|          | 0/188 [00:00<?, ?it/s]"
      ]
     },
     "metadata": {},
     "output_type": "display_data"
    },
    {
     "data": {
      "application/vnd.jupyter.widget-view+json": {
       "model_id": "",
       "version_major": 2,
       "version_minor": 0
      },
      "text/plain": [
       "  0%|          | 0/14 [00:00<?, ?it/s]"
      ]
     },
     "metadata": {},
     "output_type": "display_data"
    },
    {
     "data": {
      "application/vnd.jupyter.widget-view+json": {
       "model_id": "",
       "version_major": 2,
       "version_minor": 0
      },
      "text/plain": [
       "  0%|          | 0/188 [00:00<?, ?it/s]"
      ]
     },
     "metadata": {},
     "output_type": "display_data"
    },
    {
     "data": {
      "application/vnd.jupyter.widget-view+json": {
       "model_id": "",
       "version_major": 2,
       "version_minor": 0
      },
      "text/plain": [
       "  0%|          | 0/14 [00:00<?, ?it/s]"
      ]
     },
     "metadata": {},
     "output_type": "display_data"
    },
    {
     "data": {
      "application/vnd.jupyter.widget-view+json": {
       "model_id": "",
       "version_major": 2,
       "version_minor": 0
      },
      "text/plain": [
       "  0%|          | 0/188 [00:00<?, ?it/s]"
      ]
     },
     "metadata": {},
     "output_type": "display_data"
    },
    {
     "data": {
      "application/vnd.jupyter.widget-view+json": {
       "model_id": "",
       "version_major": 2,
       "version_minor": 0
      },
      "text/plain": [
       "  0%|          | 0/14 [00:00<?, ?it/s]"
      ]
     },
     "metadata": {},
     "output_type": "display_data"
    },
    {
     "data": {
      "application/vnd.jupyter.widget-view+json": {
       "model_id": "",
       "version_major": 2,
       "version_minor": 0
      },
      "text/plain": [
       "  0%|          | 0/188 [00:00<?, ?it/s]"
      ]
     },
     "metadata": {},
     "output_type": "display_data"
    },
    {
     "data": {
      "application/vnd.jupyter.widget-view+json": {
       "model_id": "",
       "version_major": 2,
       "version_minor": 0
      },
      "text/plain": [
       "  0%|          | 0/14 [00:00<?, ?it/s]"
      ]
     },
     "metadata": {},
     "output_type": "display_data"
    },
    {
     "data": {
      "application/vnd.jupyter.widget-view+json": {
       "model_id": "",
       "version_major": 2,
       "version_minor": 0
      },
      "text/plain": [
       "  0%|          | 0/188 [00:00<?, ?it/s]"
      ]
     },
     "metadata": {},
     "output_type": "display_data"
    },
    {
     "data": {
      "application/vnd.jupyter.widget-view+json": {
       "model_id": "",
       "version_major": 2,
       "version_minor": 0
      },
      "text/plain": [
       "  0%|          | 0/14 [00:00<?, ?it/s]"
      ]
     },
     "metadata": {},
     "output_type": "display_data"
    },
    {
     "data": {
      "application/vnd.jupyter.widget-view+json": {
       "model_id": "",
       "version_major": 2,
       "version_minor": 0
      },
      "text/plain": [
       "  0%|          | 0/188 [00:00<?, ?it/s]"
      ]
     },
     "metadata": {},
     "output_type": "display_data"
    },
    {
     "data": {
      "application/vnd.jupyter.widget-view+json": {
       "model_id": "",
       "version_major": 2,
       "version_minor": 0
      },
      "text/plain": [
       "  0%|          | 0/14 [00:00<?, ?it/s]"
      ]
     },
     "metadata": {},
     "output_type": "display_data"
    },
    {
     "data": {
      "application/vnd.jupyter.widget-view+json": {
       "model_id": "",
       "version_major": 2,
       "version_minor": 0
      },
      "text/plain": [
       "  0%|          | 0/188 [00:00<?, ?it/s]"
      ]
     },
     "metadata": {},
     "output_type": "display_data"
    },
    {
     "data": {
      "application/vnd.jupyter.widget-view+json": {
       "model_id": "",
       "version_major": 2,
       "version_minor": 0
      },
      "text/plain": [
       "  0%|          | 0/14 [00:00<?, ?it/s]"
      ]
     },
     "metadata": {},
     "output_type": "display_data"
    },
    {
     "data": {
      "application/vnd.jupyter.widget-view+json": {
       "model_id": "",
       "version_major": 2,
       "version_minor": 0
      },
      "text/plain": [
       "  0%|          | 0/188 [00:00<?, ?it/s]"
      ]
     },
     "metadata": {},
     "output_type": "display_data"
    },
    {
     "data": {
      "application/vnd.jupyter.widget-view+json": {
       "model_id": "",
       "version_major": 2,
       "version_minor": 0
      },
      "text/plain": [
       "  0%|          | 0/14 [00:00<?, ?it/s]"
      ]
     },
     "metadata": {},
     "output_type": "display_data"
    },
    {
     "data": {
      "application/vnd.jupyter.widget-view+json": {
       "model_id": "",
       "version_major": 2,
       "version_minor": 0
      },
      "text/plain": [
       "  0%|          | 0/188 [00:00<?, ?it/s]"
      ]
     },
     "metadata": {},
     "output_type": "display_data"
    },
    {
     "data": {
      "application/vnd.jupyter.widget-view+json": {
       "model_id": "",
       "version_major": 2,
       "version_minor": 0
      },
      "text/plain": [
       "  0%|          | 0/14 [00:00<?, ?it/s]"
      ]
     },
     "metadata": {},
     "output_type": "display_data"
    },
    {
     "data": {
      "application/vnd.jupyter.widget-view+json": {
       "model_id": "",
       "version_major": 2,
       "version_minor": 0
      },
      "text/plain": [
       "  0%|          | 0/188 [00:00<?, ?it/s]"
      ]
     },
     "metadata": {},
     "output_type": "display_data"
    },
    {
     "data": {
      "application/vnd.jupyter.widget-view+json": {
       "model_id": "",
       "version_major": 2,
       "version_minor": 0
      },
      "text/plain": [
       "  0%|          | 0/14 [00:00<?, ?it/s]"
      ]
     },
     "metadata": {},
     "output_type": "display_data"
    },
    {
     "data": {
      "application/vnd.jupyter.widget-view+json": {
       "model_id": "",
       "version_major": 2,
       "version_minor": 0
      },
      "text/plain": [
       "  0%|          | 0/188 [00:00<?, ?it/s]"
      ]
     },
     "metadata": {},
     "output_type": "display_data"
    },
    {
     "data": {
      "application/vnd.jupyter.widget-view+json": {
       "model_id": "",
       "version_major": 2,
       "version_minor": 0
      },
      "text/plain": [
       "  0%|          | 0/14 [00:00<?, ?it/s]"
      ]
     },
     "metadata": {},
     "output_type": "display_data"
    },
    {
     "data": {
      "application/vnd.jupyter.widget-view+json": {
       "model_id": "",
       "version_major": 2,
       "version_minor": 0
      },
      "text/plain": [
       "  0%|          | 0/188 [00:00<?, ?it/s]"
      ]
     },
     "metadata": {},
     "output_type": "display_data"
    },
    {
     "data": {
      "application/vnd.jupyter.widget-view+json": {
       "model_id": "",
       "version_major": 2,
       "version_minor": 0
      },
      "text/plain": [
       "  0%|          | 0/14 [00:00<?, ?it/s]"
      ]
     },
     "metadata": {},
     "output_type": "display_data"
    },
    {
     "data": {
      "application/vnd.jupyter.widget-view+json": {
       "model_id": "",
       "version_major": 2,
       "version_minor": 0
      },
      "text/plain": [
       "  0%|          | 0/188 [00:00<?, ?it/s]"
      ]
     },
     "metadata": {},
     "output_type": "display_data"
    },
    {
     "data": {
      "application/vnd.jupyter.widget-view+json": {
       "model_id": "",
       "version_major": 2,
       "version_minor": 0
      },
      "text/plain": [
       "  0%|          | 0/14 [00:00<?, ?it/s]"
      ]
     },
     "metadata": {},
     "output_type": "display_data"
    },
    {
     "data": {
      "application/vnd.jupyter.widget-view+json": {
       "model_id": "",
       "version_major": 2,
       "version_minor": 0
      },
      "text/plain": [
       "  0%|          | 0/188 [00:00<?, ?it/s]"
      ]
     },
     "metadata": {},
     "output_type": "display_data"
    },
    {
     "data": {
      "application/vnd.jupyter.widget-view+json": {
       "model_id": "",
       "version_major": 2,
       "version_minor": 0
      },
      "text/plain": [
       "  0%|          | 0/14 [00:00<?, ?it/s]"
      ]
     },
     "metadata": {},
     "output_type": "display_data"
    },
    {
     "data": {
      "application/vnd.jupyter.widget-view+json": {
       "model_id": "",
       "version_major": 2,
       "version_minor": 0
      },
      "text/plain": [
       "  0%|          | 0/188 [00:00<?, ?it/s]"
      ]
     },
     "metadata": {},
     "output_type": "display_data"
    },
    {
     "data": {
      "application/vnd.jupyter.widget-view+json": {
       "model_id": "",
       "version_major": 2,
       "version_minor": 0
      },
      "text/plain": [
       "  0%|          | 0/14 [00:00<?, ?it/s]"
      ]
     },
     "metadata": {},
     "output_type": "display_data"
    },
    {
     "data": {
      "application/vnd.jupyter.widget-view+json": {
       "model_id": "",
       "version_major": 2,
       "version_minor": 0
      },
      "text/plain": [
       "  0%|          | 0/188 [00:00<?, ?it/s]"
      ]
     },
     "metadata": {},
     "output_type": "display_data"
    },
    {
     "data": {
      "application/vnd.jupyter.widget-view+json": {
       "model_id": "",
       "version_major": 2,
       "version_minor": 0
      },
      "text/plain": [
       "  0%|          | 0/14 [00:00<?, ?it/s]"
      ]
     },
     "metadata": {},
     "output_type": "display_data"
    },
    {
     "data": {
      "application/vnd.jupyter.widget-view+json": {
       "model_id": "",
       "version_major": 2,
       "version_minor": 0
      },
      "text/plain": [
       "  0%|          | 0/188 [00:00<?, ?it/s]"
      ]
     },
     "metadata": {},
     "output_type": "display_data"
    },
    {
     "data": {
      "application/vnd.jupyter.widget-view+json": {
       "model_id": "",
       "version_major": 2,
       "version_minor": 0
      },
      "text/plain": [
       "  0%|          | 0/14 [00:00<?, ?it/s]"
      ]
     },
     "metadata": {},
     "output_type": "display_data"
    },
    {
     "data": {
      "application/vnd.jupyter.widget-view+json": {
       "model_id": "",
       "version_major": 2,
       "version_minor": 0
      },
      "text/plain": [
       "  0%|          | 0/188 [00:00<?, ?it/s]"
      ]
     },
     "metadata": {},
     "output_type": "display_data"
    },
    {
     "data": {
      "application/vnd.jupyter.widget-view+json": {
       "model_id": "",
       "version_major": 2,
       "version_minor": 0
      },
      "text/plain": [
       "  0%|          | 0/14 [00:00<?, ?it/s]"
      ]
     },
     "metadata": {},
     "output_type": "display_data"
    },
    {
     "data": {
      "application/vnd.jupyter.widget-view+json": {
       "model_id": "",
       "version_major": 2,
       "version_minor": 0
      },
      "text/plain": [
       "  0%|          | 0/188 [00:00<?, ?it/s]"
      ]
     },
     "metadata": {},
     "output_type": "display_data"
    },
    {
     "data": {
      "application/vnd.jupyter.widget-view+json": {
       "model_id": "",
       "version_major": 2,
       "version_minor": 0
      },
      "text/plain": [
       "  0%|          | 0/14 [00:00<?, ?it/s]"
      ]
     },
     "metadata": {},
     "output_type": "display_data"
    },
    {
     "data": {
      "application/vnd.jupyter.widget-view+json": {
       "model_id": "",
       "version_major": 2,
       "version_minor": 0
      },
      "text/plain": [
       "  0%|          | 0/188 [00:00<?, ?it/s]"
      ]
     },
     "metadata": {},
     "output_type": "display_data"
    },
    {
     "data": {
      "application/vnd.jupyter.widget-view+json": {
       "model_id": "",
       "version_major": 2,
       "version_minor": 0
      },
      "text/plain": [
       "  0%|          | 0/14 [00:00<?, ?it/s]"
      ]
     },
     "metadata": {},
     "output_type": "display_data"
    },
    {
     "data": {
      "application/vnd.jupyter.widget-view+json": {
       "model_id": "",
       "version_major": 2,
       "version_minor": 0
      },
      "text/plain": [
       "  0%|          | 0/188 [00:00<?, ?it/s]"
      ]
     },
     "metadata": {},
     "output_type": "display_data"
    },
    {
     "data": {
      "application/vnd.jupyter.widget-view+json": {
       "model_id": "",
       "version_major": 2,
       "version_minor": 0
      },
      "text/plain": [
       "  0%|          | 0/14 [00:00<?, ?it/s]"
      ]
     },
     "metadata": {},
     "output_type": "display_data"
    },
    {
     "data": {
      "application/vnd.jupyter.widget-view+json": {
       "model_id": "",
       "version_major": 2,
       "version_minor": 0
      },
      "text/plain": [
       "  0%|          | 0/188 [00:00<?, ?it/s]"
      ]
     },
     "metadata": {},
     "output_type": "display_data"
    },
    {
     "data": {
      "application/vnd.jupyter.widget-view+json": {
       "model_id": "",
       "version_major": 2,
       "version_minor": 0
      },
      "text/plain": [
       "  0%|          | 0/14 [00:00<?, ?it/s]"
      ]
     },
     "metadata": {},
     "output_type": "display_data"
    },
    {
     "data": {
      "application/vnd.jupyter.widget-view+json": {
       "model_id": "",
       "version_major": 2,
       "version_minor": 0
      },
      "text/plain": [
       "  0%|          | 0/188 [00:00<?, ?it/s]"
      ]
     },
     "metadata": {},
     "output_type": "display_data"
    },
    {
     "data": {
      "application/vnd.jupyter.widget-view+json": {
       "model_id": "",
       "version_major": 2,
       "version_minor": 0
      },
      "text/plain": [
       "  0%|          | 0/14 [00:00<?, ?it/s]"
      ]
     },
     "metadata": {},
     "output_type": "display_data"
    },
    {
     "data": {
      "application/vnd.jupyter.widget-view+json": {
       "model_id": "",
       "version_major": 2,
       "version_minor": 0
      },
      "text/plain": [
       "  0%|          | 0/188 [00:00<?, ?it/s]"
      ]
     },
     "metadata": {},
     "output_type": "display_data"
    },
    {
     "data": {
      "application/vnd.jupyter.widget-view+json": {
       "model_id": "",
       "version_major": 2,
       "version_minor": 0
      },
      "text/plain": [
       "  0%|          | 0/14 [00:00<?, ?it/s]"
      ]
     },
     "metadata": {},
     "output_type": "display_data"
    },
    {
     "data": {
      "application/vnd.jupyter.widget-view+json": {
       "model_id": "",
       "version_major": 2,
       "version_minor": 0
      },
      "text/plain": [
       "  0%|          | 0/188 [00:00<?, ?it/s]"
      ]
     },
     "metadata": {},
     "output_type": "display_data"
    },
    {
     "data": {
      "application/vnd.jupyter.widget-view+json": {
       "model_id": "",
       "version_major": 2,
       "version_minor": 0
      },
      "text/plain": [
       "  0%|          | 0/14 [00:00<?, ?it/s]"
      ]
     },
     "metadata": {},
     "output_type": "display_data"
    },
    {
     "data": {
      "application/vnd.jupyter.widget-view+json": {
       "model_id": "",
       "version_major": 2,
       "version_minor": 0
      },
      "text/plain": [
       "  0%|          | 0/188 [00:00<?, ?it/s]"
      ]
     },
     "metadata": {},
     "output_type": "display_data"
    },
    {
     "data": {
      "application/vnd.jupyter.widget-view+json": {
       "model_id": "",
       "version_major": 2,
       "version_minor": 0
      },
      "text/plain": [
       "  0%|          | 0/14 [00:00<?, ?it/s]"
      ]
     },
     "metadata": {},
     "output_type": "display_data"
    },
    {
     "data": {
      "application/vnd.jupyter.widget-view+json": {
       "model_id": "",
       "version_major": 2,
       "version_minor": 0
      },
      "text/plain": [
       "  0%|          | 0/188 [00:00<?, ?it/s]"
      ]
     },
     "metadata": {},
     "output_type": "display_data"
    },
    {
     "data": {
      "application/vnd.jupyter.widget-view+json": {
       "model_id": "",
       "version_major": 2,
       "version_minor": 0
      },
      "text/plain": [
       "  0%|          | 0/14 [00:00<?, ?it/s]"
      ]
     },
     "metadata": {},
     "output_type": "display_data"
    },
    {
     "data": {
      "application/vnd.jupyter.widget-view+json": {
       "model_id": "",
       "version_major": 2,
       "version_minor": 0
      },
      "text/plain": [
       "  0%|          | 0/188 [00:00<?, ?it/s]"
      ]
     },
     "metadata": {},
     "output_type": "display_data"
    },
    {
     "data": {
      "application/vnd.jupyter.widget-view+json": {
       "model_id": "",
       "version_major": 2,
       "version_minor": 0
      },
      "text/plain": [
       "  0%|          | 0/14 [00:00<?, ?it/s]"
      ]
     },
     "metadata": {},
     "output_type": "display_data"
    },
    {
     "data": {
      "application/vnd.jupyter.widget-view+json": {
       "model_id": "",
       "version_major": 2,
       "version_minor": 0
      },
      "text/plain": [
       "  0%|          | 0/188 [00:00<?, ?it/s]"
      ]
     },
     "metadata": {},
     "output_type": "display_data"
    },
    {
     "data": {
      "application/vnd.jupyter.widget-view+json": {
       "model_id": "",
       "version_major": 2,
       "version_minor": 0
      },
      "text/plain": [
       "  0%|          | 0/14 [00:00<?, ?it/s]"
      ]
     },
     "metadata": {},
     "output_type": "display_data"
    },
    {
     "data": {
      "application/vnd.jupyter.widget-view+json": {
       "model_id": "",
       "version_major": 2,
       "version_minor": 0
      },
      "text/plain": [
       "  0%|          | 0/188 [00:00<?, ?it/s]"
      ]
     },
     "metadata": {},
     "output_type": "display_data"
    },
    {
     "data": {
      "application/vnd.jupyter.widget-view+json": {
       "model_id": "",
       "version_major": 2,
       "version_minor": 0
      },
      "text/plain": [
       "  0%|          | 0/14 [00:00<?, ?it/s]"
      ]
     },
     "metadata": {},
     "output_type": "display_data"
    },
    {
     "data": {
      "application/vnd.jupyter.widget-view+json": {
       "model_id": "",
       "version_major": 2,
       "version_minor": 0
      },
      "text/plain": [
       "  0%|          | 0/188 [00:00<?, ?it/s]"
      ]
     },
     "metadata": {},
     "output_type": "display_data"
    },
    {
     "data": {
      "application/vnd.jupyter.widget-view+json": {
       "model_id": "",
       "version_major": 2,
       "version_minor": 0
      },
      "text/plain": [
       "  0%|          | 0/14 [00:00<?, ?it/s]"
      ]
     },
     "metadata": {},
     "output_type": "display_data"
    },
    {
     "data": {
      "application/vnd.jupyter.widget-view+json": {
       "model_id": "",
       "version_major": 2,
       "version_minor": 0
      },
      "text/plain": [
       "  0%|          | 0/188 [00:00<?, ?it/s]"
      ]
     },
     "metadata": {},
     "output_type": "display_data"
    },
    {
     "data": {
      "application/vnd.jupyter.widget-view+json": {
       "model_id": "",
       "version_major": 2,
       "version_minor": 0
      },
      "text/plain": [
       "  0%|          | 0/14 [00:00<?, ?it/s]"
      ]
     },
     "metadata": {},
     "output_type": "display_data"
    },
    {
     "data": {
      "application/vnd.jupyter.widget-view+json": {
       "model_id": "",
       "version_major": 2,
       "version_minor": 0
      },
      "text/plain": [
       "  0%|          | 0/188 [00:00<?, ?it/s]"
      ]
     },
     "metadata": {},
     "output_type": "display_data"
    },
    {
     "data": {
      "application/vnd.jupyter.widget-view+json": {
       "model_id": "",
       "version_major": 2,
       "version_minor": 0
      },
      "text/plain": [
       "  0%|          | 0/14 [00:00<?, ?it/s]"
      ]
     },
     "metadata": {},
     "output_type": "display_data"
    },
    {
     "data": {
      "application/vnd.jupyter.widget-view+json": {
       "model_id": "",
       "version_major": 2,
       "version_minor": 0
      },
      "text/plain": [
       "  0%|          | 0/188 [00:00<?, ?it/s]"
      ]
     },
     "metadata": {},
     "output_type": "display_data"
    },
    {
     "data": {
      "application/vnd.jupyter.widget-view+json": {
       "model_id": "",
       "version_major": 2,
       "version_minor": 0
      },
      "text/plain": [
       "  0%|          | 0/14 [00:00<?, ?it/s]"
      ]
     },
     "metadata": {},
     "output_type": "display_data"
    },
    {
     "data": {
      "application/vnd.jupyter.widget-view+json": {
       "model_id": "",
       "version_major": 2,
       "version_minor": 0
      },
      "text/plain": [
       "  0%|          | 0/188 [00:00<?, ?it/s]"
      ]
     },
     "metadata": {},
     "output_type": "display_data"
    },
    {
     "data": {
      "application/vnd.jupyter.widget-view+json": {
       "model_id": "",
       "version_major": 2,
       "version_minor": 0
      },
      "text/plain": [
       "  0%|          | 0/14 [00:00<?, ?it/s]"
      ]
     },
     "metadata": {},
     "output_type": "display_data"
    },
    {
     "data": {
      "application/vnd.jupyter.widget-view+json": {
       "model_id": "",
       "version_major": 2,
       "version_minor": 0
      },
      "text/plain": [
       "  0%|          | 0/188 [00:00<?, ?it/s]"
      ]
     },
     "metadata": {},
     "output_type": "display_data"
    },
    {
     "data": {
      "application/vnd.jupyter.widget-view+json": {
       "model_id": "",
       "version_major": 2,
       "version_minor": 0
      },
      "text/plain": [
       "  0%|          | 0/14 [00:00<?, ?it/s]"
      ]
     },
     "metadata": {},
     "output_type": "display_data"
    },
    {
     "data": {
      "application/vnd.jupyter.widget-view+json": {
       "model_id": "",
       "version_major": 2,
       "version_minor": 0
      },
      "text/plain": [
       "  0%|          | 0/188 [00:00<?, ?it/s]"
      ]
     },
     "metadata": {},
     "output_type": "display_data"
    },
    {
     "data": {
      "application/vnd.jupyter.widget-view+json": {
       "model_id": "",
       "version_major": 2,
       "version_minor": 0
      },
      "text/plain": [
       "  0%|          | 0/14 [00:00<?, ?it/s]"
      ]
     },
     "metadata": {},
     "output_type": "display_data"
    },
    {
     "data": {
      "application/vnd.jupyter.widget-view+json": {
       "model_id": "",
       "version_major": 2,
       "version_minor": 0
      },
      "text/plain": [
       "  0%|          | 0/188 [00:00<?, ?it/s]"
      ]
     },
     "metadata": {},
     "output_type": "display_data"
    },
    {
     "data": {
      "application/vnd.jupyter.widget-view+json": {
       "model_id": "",
       "version_major": 2,
       "version_minor": 0
      },
      "text/plain": [
       "  0%|          | 0/14 [00:00<?, ?it/s]"
      ]
     },
     "metadata": {},
     "output_type": "display_data"
    },
    {
     "data": {
      "application/vnd.jupyter.widget-view+json": {
       "model_id": "",
       "version_major": 2,
       "version_minor": 0
      },
      "text/plain": [
       "  0%|          | 0/188 [00:00<?, ?it/s]"
      ]
     },
     "metadata": {},
     "output_type": "display_data"
    },
    {
     "data": {
      "application/vnd.jupyter.widget-view+json": {
       "model_id": "",
       "version_major": 2,
       "version_minor": 0
      },
      "text/plain": [
       "  0%|          | 0/14 [00:00<?, ?it/s]"
      ]
     },
     "metadata": {},
     "output_type": "display_data"
    },
    {
     "data": {
      "application/vnd.jupyter.widget-view+json": {
       "model_id": "",
       "version_major": 2,
       "version_minor": 0
      },
      "text/plain": [
       "  0%|          | 0/188 [00:00<?, ?it/s]"
      ]
     },
     "metadata": {},
     "output_type": "display_data"
    },
    {
     "data": {
      "application/vnd.jupyter.widget-view+json": {
       "model_id": "",
       "version_major": 2,
       "version_minor": 0
      },
      "text/plain": [
       "  0%|          | 0/14 [00:00<?, ?it/s]"
      ]
     },
     "metadata": {},
     "output_type": "display_data"
    },
    {
     "data": {
      "application/vnd.jupyter.widget-view+json": {
       "model_id": "",
       "version_major": 2,
       "version_minor": 0
      },
      "text/plain": [
       "  0%|          | 0/188 [00:00<?, ?it/s]"
      ]
     },
     "metadata": {},
     "output_type": "display_data"
    },
    {
     "data": {
      "application/vnd.jupyter.widget-view+json": {
       "model_id": "",
       "version_major": 2,
       "version_minor": 0
      },
      "text/plain": [
       "  0%|          | 0/14 [00:00<?, ?it/s]"
      ]
     },
     "metadata": {},
     "output_type": "display_data"
    },
    {
     "data": {
      "application/vnd.jupyter.widget-view+json": {
       "model_id": "",
       "version_major": 2,
       "version_minor": 0
      },
      "text/plain": [
       "  0%|          | 0/188 [00:00<?, ?it/s]"
      ]
     },
     "metadata": {},
     "output_type": "display_data"
    },
    {
     "data": {
      "application/vnd.jupyter.widget-view+json": {
       "model_id": "",
       "version_major": 2,
       "version_minor": 0
      },
      "text/plain": [
       "  0%|          | 0/14 [00:00<?, ?it/s]"
      ]
     },
     "metadata": {},
     "output_type": "display_data"
    },
    {
     "data": {
      "application/vnd.jupyter.widget-view+json": {
       "model_id": "",
       "version_major": 2,
       "version_minor": 0
      },
      "text/plain": [
       "  0%|          | 0/188 [00:00<?, ?it/s]"
      ]
     },
     "metadata": {},
     "output_type": "display_data"
    },
    {
     "data": {
      "application/vnd.jupyter.widget-view+json": {
       "model_id": "",
       "version_major": 2,
       "version_minor": 0
      },
      "text/plain": [
       "  0%|          | 0/14 [00:00<?, ?it/s]"
      ]
     },
     "metadata": {},
     "output_type": "display_data"
    },
    {
     "data": {
      "application/vnd.jupyter.widget-view+json": {
       "model_id": "",
       "version_major": 2,
       "version_minor": 0
      },
      "text/plain": [
       "  0%|          | 0/188 [00:00<?, ?it/s]"
      ]
     },
     "metadata": {},
     "output_type": "display_data"
    },
    {
     "data": {
      "application/vnd.jupyter.widget-view+json": {
       "model_id": "",
       "version_major": 2,
       "version_minor": 0
      },
      "text/plain": [
       "  0%|          | 0/14 [00:00<?, ?it/s]"
      ]
     },
     "metadata": {},
     "output_type": "display_data"
    },
    {
     "data": {
      "application/vnd.jupyter.widget-view+json": {
       "model_id": "",
       "version_major": 2,
       "version_minor": 0
      },
      "text/plain": [
       "  0%|          | 0/188 [00:00<?, ?it/s]"
      ]
     },
     "metadata": {},
     "output_type": "display_data"
    },
    {
     "data": {
      "application/vnd.jupyter.widget-view+json": {
       "model_id": "",
       "version_major": 2,
       "version_minor": 0
      },
      "text/plain": [
       "  0%|          | 0/14 [00:00<?, ?it/s]"
      ]
     },
     "metadata": {},
     "output_type": "display_data"
    }
   ],
   "source": [
    "# train\n",
    "ch.manual_seed(0)\n",
    "config.args = args\n",
    "delphi_ = train.train_model(args, delphi_, (trunc_train_loader, trunc_val_loader), store=out_store, phi=phi, criterion=grad.TruncatedCE.apply)\n",
    "out_store.close()"
   ]
  },
  {
   "cell_type": "code",
   "execution_count": 36,
   "metadata": {
    "scrolled": true
   },
   "outputs": [
    {
     "name": "stderr",
     "output_type": "stream",
     "text": [
      "100%|██████████| 1/1 [00:00<00:00, 80.72it/s]\n"
     ]
    },
    {
     "data": {
      "text/html": [
       "<div>\n",
       "<style scoped>\n",
       "    .dataframe tbody tr th:only-of-type {\n",
       "        vertical-align: middle;\n",
       "    }\n",
       "\n",
       "    .dataframe tbody tr th {\n",
       "        vertical-align: top;\n",
       "    }\n",
       "\n",
       "    .dataframe thead th {\n",
       "        text-align: right;\n",
       "    }\n",
       "</style>\n",
       "<table border=\"1\" class=\"dataframe\">\n",
       "  <thead>\n",
       "    <tr style=\"text-align: right;\">\n",
       "      <th></th>\n",
       "      <th>epoch</th>\n",
       "      <th>val_prec1</th>\n",
       "      <th>val_loss</th>\n",
       "      <th>train_prec1</th>\n",
       "      <th>train_loss</th>\n",
       "      <th>time</th>\n",
       "      <th>exp_id</th>\n",
       "    </tr>\n",
       "  </thead>\n",
       "  <tbody>\n",
       "    <tr>\n",
       "      <th>0</th>\n",
       "      <td>1</td>\n",
       "      <td>36.952610</td>\n",
       "      <td>1.728621</td>\n",
       "      <td>26.753637</td>\n",
       "      <td>2.658726</td>\n",
       "      <td>12.960164</td>\n",
       "      <td>73765c3f-f6fe-42bc-ae4c-be73ada89fe0</td>\n",
       "    </tr>\n",
       "    <tr>\n",
       "      <th>1</th>\n",
       "      <td>2</td>\n",
       "      <td>38.332333</td>\n",
       "      <td>3.793290</td>\n",
       "      <td>41.874714</td>\n",
       "      <td>1.711447</td>\n",
       "      <td>25.910825</td>\n",
       "      <td>73765c3f-f6fe-42bc-ae4c-be73ada89fe0</td>\n",
       "    </tr>\n",
       "    <tr>\n",
       "      <th>2</th>\n",
       "      <td>3</td>\n",
       "      <td>54.289139</td>\n",
       "      <td>5.279710</td>\n",
       "      <td>49.472763</td>\n",
       "      <td>1.645037</td>\n",
       "      <td>38.703408</td>\n",
       "      <td>73765c3f-f6fe-42bc-ae4c-be73ada89fe0</td>\n",
       "    </tr>\n",
       "    <tr>\n",
       "      <th>3</th>\n",
       "      <td>4</td>\n",
       "      <td>58.908215</td>\n",
       "      <td>1.763324</td>\n",
       "      <td>54.982704</td>\n",
       "      <td>1.552525</td>\n",
       "      <td>51.473136</td>\n",
       "      <td>73765c3f-f6fe-42bc-ae4c-be73ada89fe0</td>\n",
       "    </tr>\n",
       "    <tr>\n",
       "      <th>4</th>\n",
       "      <td>5</td>\n",
       "      <td>71.805634</td>\n",
       "      <td>0.970497</td>\n",
       "      <td>63.168427</td>\n",
       "      <td>1.123327</td>\n",
       "      <td>64.331507</td>\n",
       "      <td>73765c3f-f6fe-42bc-ae4c-be73ada89fe0</td>\n",
       "    </tr>\n",
       "    <tr>\n",
       "      <th>5</th>\n",
       "      <td>6</td>\n",
       "      <td>71.505699</td>\n",
       "      <td>1.898208</td>\n",
       "      <td>67.344643</td>\n",
       "      <td>1.039972</td>\n",
       "      <td>77.151843</td>\n",
       "      <td>73765c3f-f6fe-42bc-ae4c-be73ada89fe0</td>\n",
       "    </tr>\n",
       "    <tr>\n",
       "      <th>6</th>\n",
       "      <td>7</td>\n",
       "      <td>79.844032</td>\n",
       "      <td>1.234859</td>\n",
       "      <td>73.504776</td>\n",
       "      <td>0.851546</td>\n",
       "      <td>89.947559</td>\n",
       "      <td>73765c3f-f6fe-42bc-ae4c-be73ada89fe0</td>\n",
       "    </tr>\n",
       "    <tr>\n",
       "      <th>7</th>\n",
       "      <td>8</td>\n",
       "      <td>74.505096</td>\n",
       "      <td>1.660822</td>\n",
       "      <td>78.001923</td>\n",
       "      <td>0.683158</td>\n",
       "      <td>102.757604</td>\n",
       "      <td>73765c3f-f6fe-42bc-ae4c-be73ada89fe0</td>\n",
       "    </tr>\n",
       "    <tr>\n",
       "      <th>8</th>\n",
       "      <td>9</td>\n",
       "      <td>80.323929</td>\n",
       "      <td>0.912781</td>\n",
       "      <td>82.986710</td>\n",
       "      <td>0.545482</td>\n",
       "      <td>115.592725</td>\n",
       "      <td>73765c3f-f6fe-42bc-ae4c-be73ada89fe0</td>\n",
       "    </tr>\n",
       "    <tr>\n",
       "      <th>9</th>\n",
       "      <td>10</td>\n",
       "      <td>85.362923</td>\n",
       "      <td>0.663603</td>\n",
       "      <td>86.566917</td>\n",
       "      <td>0.445153</td>\n",
       "      <td>128.328660</td>\n",
       "      <td>73765c3f-f6fe-42bc-ae4c-be73ada89fe0</td>\n",
       "    </tr>\n",
       "    <tr>\n",
       "      <th>10</th>\n",
       "      <td>11</td>\n",
       "      <td>72.405518</td>\n",
       "      <td>1.216846</td>\n",
       "      <td>91.322472</td>\n",
       "      <td>0.287404</td>\n",
       "      <td>141.246088</td>\n",
       "      <td>73765c3f-f6fe-42bc-ae4c-be73ada89fe0</td>\n",
       "    </tr>\n",
       "    <tr>\n",
       "      <th>11</th>\n",
       "      <td>12</td>\n",
       "      <td>87.042587</td>\n",
       "      <td>0.601149</td>\n",
       "      <td>94.469223</td>\n",
       "      <td>0.169945</td>\n",
       "      <td>153.948005</td>\n",
       "      <td>73765c3f-f6fe-42bc-ae4c-be73ada89fe0</td>\n",
       "    </tr>\n",
       "    <tr>\n",
       "      <th>12</th>\n",
       "      <td>13</td>\n",
       "      <td>83.923210</td>\n",
       "      <td>0.715370</td>\n",
       "      <td>96.965782</td>\n",
       "      <td>0.125286</td>\n",
       "      <td>166.762990</td>\n",
       "      <td>73765c3f-f6fe-42bc-ae4c-be73ada89fe0</td>\n",
       "    </tr>\n",
       "    <tr>\n",
       "      <th>13</th>\n",
       "      <td>14</td>\n",
       "      <td>91.421715</td>\n",
       "      <td>0.296573</td>\n",
       "      <td>98.020256</td>\n",
       "      <td>0.065211</td>\n",
       "      <td>179.509240</td>\n",
       "      <td>73765c3f-f6fe-42bc-ae4c-be73ada89fe0</td>\n",
       "    </tr>\n",
       "    <tr>\n",
       "      <th>14</th>\n",
       "      <td>15</td>\n",
       "      <td>92.741447</td>\n",
       "      <td>0.259404</td>\n",
       "      <td>99.253952</td>\n",
       "      <td>0.030283</td>\n",
       "      <td>192.464860</td>\n",
       "      <td>73765c3f-f6fe-42bc-ae4c-be73ada89fe0</td>\n",
       "    </tr>\n",
       "    <tr>\n",
       "      <th>15</th>\n",
       "      <td>16</td>\n",
       "      <td>93.341331</td>\n",
       "      <td>0.238193</td>\n",
       "      <td>99.591553</td>\n",
       "      <td>0.019036</td>\n",
       "      <td>205.443240</td>\n",
       "      <td>73765c3f-f6fe-42bc-ae4c-be73ada89fe0</td>\n",
       "    </tr>\n",
       "    <tr>\n",
       "      <th>16</th>\n",
       "      <td>17</td>\n",
       "      <td>94.601074</td>\n",
       "      <td>0.195938</td>\n",
       "      <td>99.566544</td>\n",
       "      <td>0.019170</td>\n",
       "      <td>218.450622</td>\n",
       "      <td>73765c3f-f6fe-42bc-ae4c-be73ada89fe0</td>\n",
       "    </tr>\n",
       "    <tr>\n",
       "      <th>17</th>\n",
       "      <td>18</td>\n",
       "      <td>94.661064</td>\n",
       "      <td>0.196468</td>\n",
       "      <td>99.420670</td>\n",
       "      <td>0.021793</td>\n",
       "      <td>231.262078</td>\n",
       "      <td>73765c3f-f6fe-42bc-ae4c-be73ada89fe0</td>\n",
       "    </tr>\n",
       "    <tr>\n",
       "      <th>18</th>\n",
       "      <td>19</td>\n",
       "      <td>94.961006</td>\n",
       "      <td>0.177558</td>\n",
       "      <td>99.854126</td>\n",
       "      <td>0.009049</td>\n",
       "      <td>244.078514</td>\n",
       "      <td>73765c3f-f6fe-42bc-ae4c-be73ada89fe0</td>\n",
       "    </tr>\n",
       "    <tr>\n",
       "      <th>19</th>\n",
       "      <td>20</td>\n",
       "      <td>95.440910</td>\n",
       "      <td>0.183288</td>\n",
       "      <td>99.933319</td>\n",
       "      <td>0.005355</td>\n",
       "      <td>256.772256</td>\n",
       "      <td>73765c3f-f6fe-42bc-ae4c-be73ada89fe0</td>\n",
       "    </tr>\n",
       "    <tr>\n",
       "      <th>20</th>\n",
       "      <td>21</td>\n",
       "      <td>95.440910</td>\n",
       "      <td>0.178484</td>\n",
       "      <td>99.962494</td>\n",
       "      <td>0.004480</td>\n",
       "      <td>269.525975</td>\n",
       "      <td>73765c3f-f6fe-42bc-ae4c-be73ada89fe0</td>\n",
       "    </tr>\n",
       "    <tr>\n",
       "      <th>21</th>\n",
       "      <td>22</td>\n",
       "      <td>95.620872</td>\n",
       "      <td>0.172644</td>\n",
       "      <td>99.970825</td>\n",
       "      <td>0.003702</td>\n",
       "      <td>282.403275</td>\n",
       "      <td>73765c3f-f6fe-42bc-ae4c-be73ada89fe0</td>\n",
       "    </tr>\n",
       "    <tr>\n",
       "      <th>22</th>\n",
       "      <td>23</td>\n",
       "      <td>95.560883</td>\n",
       "      <td>0.174295</td>\n",
       "      <td>99.979164</td>\n",
       "      <td>0.003406</td>\n",
       "      <td>295.204965</td>\n",
       "      <td>73765c3f-f6fe-42bc-ae4c-be73ada89fe0</td>\n",
       "    </tr>\n",
       "    <tr>\n",
       "      <th>23</th>\n",
       "      <td>24</td>\n",
       "      <td>95.560883</td>\n",
       "      <td>0.175646</td>\n",
       "      <td>99.974998</td>\n",
       "      <td>0.003447</td>\n",
       "      <td>308.006138</td>\n",
       "      <td>73765c3f-f6fe-42bc-ae4c-be73ada89fe0</td>\n",
       "    </tr>\n",
       "    <tr>\n",
       "      <th>24</th>\n",
       "      <td>25</td>\n",
       "      <td>95.620872</td>\n",
       "      <td>0.171166</td>\n",
       "      <td>99.979164</td>\n",
       "      <td>0.003253</td>\n",
       "      <td>320.826664</td>\n",
       "      <td>73765c3f-f6fe-42bc-ae4c-be73ada89fe0</td>\n",
       "    </tr>\n",
       "    <tr>\n",
       "      <th>25</th>\n",
       "      <td>26</td>\n",
       "      <td>95.860825</td>\n",
       "      <td>0.172226</td>\n",
       "      <td>99.979164</td>\n",
       "      <td>0.003318</td>\n",
       "      <td>333.675287</td>\n",
       "      <td>73765c3f-f6fe-42bc-ae4c-be73ada89fe0</td>\n",
       "    </tr>\n",
       "    <tr>\n",
       "      <th>26</th>\n",
       "      <td>27</td>\n",
       "      <td>95.740852</td>\n",
       "      <td>0.170020</td>\n",
       "      <td>99.979164</td>\n",
       "      <td>0.003364</td>\n",
       "      <td>346.490115</td>\n",
       "      <td>73765c3f-f6fe-42bc-ae4c-be73ada89fe0</td>\n",
       "    </tr>\n",
       "    <tr>\n",
       "      <th>27</th>\n",
       "      <td>28</td>\n",
       "      <td>95.920815</td>\n",
       "      <td>0.172209</td>\n",
       "      <td>99.979164</td>\n",
       "      <td>0.003525</td>\n",
       "      <td>359.270418</td>\n",
       "      <td>73765c3f-f6fe-42bc-ae4c-be73ada89fe0</td>\n",
       "    </tr>\n",
       "    <tr>\n",
       "      <th>28</th>\n",
       "      <td>29</td>\n",
       "      <td>95.560883</td>\n",
       "      <td>0.184094</td>\n",
       "      <td>99.979164</td>\n",
       "      <td>0.003274</td>\n",
       "      <td>372.151464</td>\n",
       "      <td>73765c3f-f6fe-42bc-ae4c-be73ada89fe0</td>\n",
       "    </tr>\n",
       "    <tr>\n",
       "      <th>29</th>\n",
       "      <td>30</td>\n",
       "      <td>95.620872</td>\n",
       "      <td>0.170904</td>\n",
       "      <td>99.979164</td>\n",
       "      <td>0.003421</td>\n",
       "      <td>384.933091</td>\n",
       "      <td>73765c3f-f6fe-42bc-ae4c-be73ada89fe0</td>\n",
       "    </tr>\n",
       "    <tr>\n",
       "      <th>30</th>\n",
       "      <td>31</td>\n",
       "      <td>95.680862</td>\n",
       "      <td>0.176713</td>\n",
       "      <td>99.979164</td>\n",
       "      <td>0.003294</td>\n",
       "      <td>397.806835</td>\n",
       "      <td>73765c3f-f6fe-42bc-ae4c-be73ada89fe0</td>\n",
       "    </tr>\n",
       "    <tr>\n",
       "      <th>31</th>\n",
       "      <td>32</td>\n",
       "      <td>95.680862</td>\n",
       "      <td>0.170405</td>\n",
       "      <td>99.983330</td>\n",
       "      <td>0.002716</td>\n",
       "      <td>410.594592</td>\n",
       "      <td>73765c3f-f6fe-42bc-ae4c-be73ada89fe0</td>\n",
       "    </tr>\n",
       "    <tr>\n",
       "      <th>32</th>\n",
       "      <td>33</td>\n",
       "      <td>95.500900</td>\n",
       "      <td>0.171847</td>\n",
       "      <td>99.983330</td>\n",
       "      <td>0.002876</td>\n",
       "      <td>423.437749</td>\n",
       "      <td>73765c3f-f6fe-42bc-ae4c-be73ada89fe0</td>\n",
       "    </tr>\n",
       "    <tr>\n",
       "      <th>33</th>\n",
       "      <td>34</td>\n",
       "      <td>95.800835</td>\n",
       "      <td>0.170497</td>\n",
       "      <td>99.983330</td>\n",
       "      <td>0.003103</td>\n",
       "      <td>436.319417</td>\n",
       "      <td>73765c3f-f6fe-42bc-ae4c-be73ada89fe0</td>\n",
       "    </tr>\n",
       "    <tr>\n",
       "      <th>34</th>\n",
       "      <td>35</td>\n",
       "      <td>95.620872</td>\n",
       "      <td>0.169512</td>\n",
       "      <td>99.983330</td>\n",
       "      <td>0.003440</td>\n",
       "      <td>449.108286</td>\n",
       "      <td>73765c3f-f6fe-42bc-ae4c-be73ada89fe0</td>\n",
       "    </tr>\n",
       "    <tr>\n",
       "      <th>35</th>\n",
       "      <td>36</td>\n",
       "      <td>95.560883</td>\n",
       "      <td>0.171213</td>\n",
       "      <td>99.983330</td>\n",
       "      <td>0.003293</td>\n",
       "      <td>462.151753</td>\n",
       "      <td>73765c3f-f6fe-42bc-ae4c-be73ada89fe0</td>\n",
       "    </tr>\n",
       "    <tr>\n",
       "      <th>36</th>\n",
       "      <td>37</td>\n",
       "      <td>95.740852</td>\n",
       "      <td>0.169468</td>\n",
       "      <td>99.983330</td>\n",
       "      <td>0.003059</td>\n",
       "      <td>475.123659</td>\n",
       "      <td>73765c3f-f6fe-42bc-ae4c-be73ada89fe0</td>\n",
       "    </tr>\n",
       "    <tr>\n",
       "      <th>37</th>\n",
       "      <td>38</td>\n",
       "      <td>95.680862</td>\n",
       "      <td>0.169448</td>\n",
       "      <td>99.983330</td>\n",
       "      <td>0.003136</td>\n",
       "      <td>488.074729</td>\n",
       "      <td>73765c3f-f6fe-42bc-ae4c-be73ada89fe0</td>\n",
       "    </tr>\n",
       "    <tr>\n",
       "      <th>38</th>\n",
       "      <td>39</td>\n",
       "      <td>95.740852</td>\n",
       "      <td>0.171836</td>\n",
       "      <td>99.983330</td>\n",
       "      <td>0.003477</td>\n",
       "      <td>500.968951</td>\n",
       "      <td>73765c3f-f6fe-42bc-ae4c-be73ada89fe0</td>\n",
       "    </tr>\n",
       "    <tr>\n",
       "      <th>39</th>\n",
       "      <td>40</td>\n",
       "      <td>95.740852</td>\n",
       "      <td>0.176148</td>\n",
       "      <td>99.983330</td>\n",
       "      <td>0.003079</td>\n",
       "      <td>513.847282</td>\n",
       "      <td>73765c3f-f6fe-42bc-ae4c-be73ada89fe0</td>\n",
       "    </tr>\n",
       "    <tr>\n",
       "      <th>40</th>\n",
       "      <td>41</td>\n",
       "      <td>95.560883</td>\n",
       "      <td>0.176071</td>\n",
       "      <td>99.983330</td>\n",
       "      <td>0.003058</td>\n",
       "      <td>526.782251</td>\n",
       "      <td>73765c3f-f6fe-42bc-ae4c-be73ada89fe0</td>\n",
       "    </tr>\n",
       "    <tr>\n",
       "      <th>41</th>\n",
       "      <td>42</td>\n",
       "      <td>95.740852</td>\n",
       "      <td>0.173431</td>\n",
       "      <td>99.983330</td>\n",
       "      <td>0.003078</td>\n",
       "      <td>539.589040</td>\n",
       "      <td>73765c3f-f6fe-42bc-ae4c-be73ada89fe0</td>\n",
       "    </tr>\n",
       "    <tr>\n",
       "      <th>42</th>\n",
       "      <td>43</td>\n",
       "      <td>95.860825</td>\n",
       "      <td>0.177883</td>\n",
       "      <td>99.983330</td>\n",
       "      <td>0.003044</td>\n",
       "      <td>552.385069</td>\n",
       "      <td>73765c3f-f6fe-42bc-ae4c-be73ada89fe0</td>\n",
       "    </tr>\n",
       "    <tr>\n",
       "      <th>43</th>\n",
       "      <td>44</td>\n",
       "      <td>95.620872</td>\n",
       "      <td>0.174229</td>\n",
       "      <td>99.983330</td>\n",
       "      <td>0.003060</td>\n",
       "      <td>565.336248</td>\n",
       "      <td>73765c3f-f6fe-42bc-ae4c-be73ada89fe0</td>\n",
       "    </tr>\n",
       "    <tr>\n",
       "      <th>44</th>\n",
       "      <td>45</td>\n",
       "      <td>95.500900</td>\n",
       "      <td>0.176001</td>\n",
       "      <td>99.983330</td>\n",
       "      <td>0.003257</td>\n",
       "      <td>578.168340</td>\n",
       "      <td>73765c3f-f6fe-42bc-ae4c-be73ada89fe0</td>\n",
       "    </tr>\n",
       "    <tr>\n",
       "      <th>45</th>\n",
       "      <td>46</td>\n",
       "      <td>95.440910</td>\n",
       "      <td>0.175997</td>\n",
       "      <td>99.983330</td>\n",
       "      <td>0.003507</td>\n",
       "      <td>590.889440</td>\n",
       "      <td>73765c3f-f6fe-42bc-ae4c-be73ada89fe0</td>\n",
       "    </tr>\n",
       "    <tr>\n",
       "      <th>46</th>\n",
       "      <td>47</td>\n",
       "      <td>95.380920</td>\n",
       "      <td>0.177962</td>\n",
       "      <td>99.983330</td>\n",
       "      <td>0.003548</td>\n",
       "      <td>603.709811</td>\n",
       "      <td>73765c3f-f6fe-42bc-ae4c-be73ada89fe0</td>\n",
       "    </tr>\n",
       "    <tr>\n",
       "      <th>47</th>\n",
       "      <td>48</td>\n",
       "      <td>95.740852</td>\n",
       "      <td>0.175173</td>\n",
       "      <td>99.983330</td>\n",
       "      <td>0.003616</td>\n",
       "      <td>616.453221</td>\n",
       "      <td>73765c3f-f6fe-42bc-ae4c-be73ada89fe0</td>\n",
       "    </tr>\n",
       "    <tr>\n",
       "      <th>48</th>\n",
       "      <td>49</td>\n",
       "      <td>95.800835</td>\n",
       "      <td>0.173286</td>\n",
       "      <td>99.983330</td>\n",
       "      <td>0.003288</td>\n",
       "      <td>629.207324</td>\n",
       "      <td>73765c3f-f6fe-42bc-ae4c-be73ada89fe0</td>\n",
       "    </tr>\n",
       "    <tr>\n",
       "      <th>49</th>\n",
       "      <td>50</td>\n",
       "      <td>95.800835</td>\n",
       "      <td>0.172595</td>\n",
       "      <td>99.983330</td>\n",
       "      <td>0.003374</td>\n",
       "      <td>642.113754</td>\n",
       "      <td>73765c3f-f6fe-42bc-ae4c-be73ada89fe0</td>\n",
       "    </tr>\n",
       "  </tbody>\n",
       "</table>\n",
       "</div>"
      ],
      "text/plain": [
       "    epoch  val_prec1  val_loss  train_prec1  train_loss        time  \\\n",
       "0       1  36.952610  1.728621    26.753637    2.658726   12.960164   \n",
       "1       2  38.332333  3.793290    41.874714    1.711447   25.910825   \n",
       "2       3  54.289139  5.279710    49.472763    1.645037   38.703408   \n",
       "3       4  58.908215  1.763324    54.982704    1.552525   51.473136   \n",
       "4       5  71.805634  0.970497    63.168427    1.123327   64.331507   \n",
       "5       6  71.505699  1.898208    67.344643    1.039972   77.151843   \n",
       "6       7  79.844032  1.234859    73.504776    0.851546   89.947559   \n",
       "7       8  74.505096  1.660822    78.001923    0.683158  102.757604   \n",
       "8       9  80.323929  0.912781    82.986710    0.545482  115.592725   \n",
       "9      10  85.362923  0.663603    86.566917    0.445153  128.328660   \n",
       "10     11  72.405518  1.216846    91.322472    0.287404  141.246088   \n",
       "11     12  87.042587  0.601149    94.469223    0.169945  153.948005   \n",
       "12     13  83.923210  0.715370    96.965782    0.125286  166.762990   \n",
       "13     14  91.421715  0.296573    98.020256    0.065211  179.509240   \n",
       "14     15  92.741447  0.259404    99.253952    0.030283  192.464860   \n",
       "15     16  93.341331  0.238193    99.591553    0.019036  205.443240   \n",
       "16     17  94.601074  0.195938    99.566544    0.019170  218.450622   \n",
       "17     18  94.661064  0.196468    99.420670    0.021793  231.262078   \n",
       "18     19  94.961006  0.177558    99.854126    0.009049  244.078514   \n",
       "19     20  95.440910  0.183288    99.933319    0.005355  256.772256   \n",
       "20     21  95.440910  0.178484    99.962494    0.004480  269.525975   \n",
       "21     22  95.620872  0.172644    99.970825    0.003702  282.403275   \n",
       "22     23  95.560883  0.174295    99.979164    0.003406  295.204965   \n",
       "23     24  95.560883  0.175646    99.974998    0.003447  308.006138   \n",
       "24     25  95.620872  0.171166    99.979164    0.003253  320.826664   \n",
       "25     26  95.860825  0.172226    99.979164    0.003318  333.675287   \n",
       "26     27  95.740852  0.170020    99.979164    0.003364  346.490115   \n",
       "27     28  95.920815  0.172209    99.979164    0.003525  359.270418   \n",
       "28     29  95.560883  0.184094    99.979164    0.003274  372.151464   \n",
       "29     30  95.620872  0.170904    99.979164    0.003421  384.933091   \n",
       "30     31  95.680862  0.176713    99.979164    0.003294  397.806835   \n",
       "31     32  95.680862  0.170405    99.983330    0.002716  410.594592   \n",
       "32     33  95.500900  0.171847    99.983330    0.002876  423.437749   \n",
       "33     34  95.800835  0.170497    99.983330    0.003103  436.319417   \n",
       "34     35  95.620872  0.169512    99.983330    0.003440  449.108286   \n",
       "35     36  95.560883  0.171213    99.983330    0.003293  462.151753   \n",
       "36     37  95.740852  0.169468    99.983330    0.003059  475.123659   \n",
       "37     38  95.680862  0.169448    99.983330    0.003136  488.074729   \n",
       "38     39  95.740852  0.171836    99.983330    0.003477  500.968951   \n",
       "39     40  95.740852  0.176148    99.983330    0.003079  513.847282   \n",
       "40     41  95.560883  0.176071    99.983330    0.003058  526.782251   \n",
       "41     42  95.740852  0.173431    99.983330    0.003078  539.589040   \n",
       "42     43  95.860825  0.177883    99.983330    0.003044  552.385069   \n",
       "43     44  95.620872  0.174229    99.983330    0.003060  565.336248   \n",
       "44     45  95.500900  0.176001    99.983330    0.003257  578.168340   \n",
       "45     46  95.440910  0.175997    99.983330    0.003507  590.889440   \n",
       "46     47  95.380920  0.177962    99.983330    0.003548  603.709811   \n",
       "47     48  95.740852  0.175173    99.983330    0.003616  616.453221   \n",
       "48     49  95.800835  0.173286    99.983330    0.003288  629.207324   \n",
       "49     50  95.800835  0.172595    99.983330    0.003374  642.113754   \n",
       "\n",
       "                                  exp_id  \n",
       "0   73765c3f-f6fe-42bc-ae4c-be73ada89fe0  \n",
       "1   73765c3f-f6fe-42bc-ae4c-be73ada89fe0  \n",
       "2   73765c3f-f6fe-42bc-ae4c-be73ada89fe0  \n",
       "3   73765c3f-f6fe-42bc-ae4c-be73ada89fe0  \n",
       "4   73765c3f-f6fe-42bc-ae4c-be73ada89fe0  \n",
       "5   73765c3f-f6fe-42bc-ae4c-be73ada89fe0  \n",
       "6   73765c3f-f6fe-42bc-ae4c-be73ada89fe0  \n",
       "7   73765c3f-f6fe-42bc-ae4c-be73ada89fe0  \n",
       "8   73765c3f-f6fe-42bc-ae4c-be73ada89fe0  \n",
       "9   73765c3f-f6fe-42bc-ae4c-be73ada89fe0  \n",
       "10  73765c3f-f6fe-42bc-ae4c-be73ada89fe0  \n",
       "11  73765c3f-f6fe-42bc-ae4c-be73ada89fe0  \n",
       "12  73765c3f-f6fe-42bc-ae4c-be73ada89fe0  \n",
       "13  73765c3f-f6fe-42bc-ae4c-be73ada89fe0  \n",
       "14  73765c3f-f6fe-42bc-ae4c-be73ada89fe0  \n",
       "15  73765c3f-f6fe-42bc-ae4c-be73ada89fe0  \n",
       "16  73765c3f-f6fe-42bc-ae4c-be73ada89fe0  \n",
       "17  73765c3f-f6fe-42bc-ae4c-be73ada89fe0  \n",
       "18  73765c3f-f6fe-42bc-ae4c-be73ada89fe0  \n",
       "19  73765c3f-f6fe-42bc-ae4c-be73ada89fe0  \n",
       "20  73765c3f-f6fe-42bc-ae4c-be73ada89fe0  \n",
       "21  73765c3f-f6fe-42bc-ae4c-be73ada89fe0  \n",
       "22  73765c3f-f6fe-42bc-ae4c-be73ada89fe0  \n",
       "23  73765c3f-f6fe-42bc-ae4c-be73ada89fe0  \n",
       "24  73765c3f-f6fe-42bc-ae4c-be73ada89fe0  \n",
       "25  73765c3f-f6fe-42bc-ae4c-be73ada89fe0  \n",
       "26  73765c3f-f6fe-42bc-ae4c-be73ada89fe0  \n",
       "27  73765c3f-f6fe-42bc-ae4c-be73ada89fe0  \n",
       "28  73765c3f-f6fe-42bc-ae4c-be73ada89fe0  \n",
       "29  73765c3f-f6fe-42bc-ae4c-be73ada89fe0  \n",
       "30  73765c3f-f6fe-42bc-ae4c-be73ada89fe0  \n",
       "31  73765c3f-f6fe-42bc-ae4c-be73ada89fe0  \n",
       "32  73765c3f-f6fe-42bc-ae4c-be73ada89fe0  \n",
       "33  73765c3f-f6fe-42bc-ae4c-be73ada89fe0  \n",
       "34  73765c3f-f6fe-42bc-ae4c-be73ada89fe0  \n",
       "35  73765c3f-f6fe-42bc-ae4c-be73ada89fe0  \n",
       "36  73765c3f-f6fe-42bc-ae4c-be73ada89fe0  \n",
       "37  73765c3f-f6fe-42bc-ae4c-be73ada89fe0  \n",
       "38  73765c3f-f6fe-42bc-ae4c-be73ada89fe0  \n",
       "39  73765c3f-f6fe-42bc-ae4c-be73ada89fe0  \n",
       "40  73765c3f-f6fe-42bc-ae4c-be73ada89fe0  \n",
       "41  73765c3f-f6fe-42bc-ae4c-be73ada89fe0  \n",
       "42  73765c3f-f6fe-42bc-ae4c-be73ada89fe0  \n",
       "43  73765c3f-f6fe-42bc-ae4c-be73ada89fe0  \n",
       "44  73765c3f-f6fe-42bc-ae4c-be73ada89fe0  \n",
       "45  73765c3f-f6fe-42bc-ae4c-be73ada89fe0  \n",
       "46  73765c3f-f6fe-42bc-ae4c-be73ada89fe0  \n",
       "47  73765c3f-f6fe-42bc-ae4c-be73ada89fe0  \n",
       "48  73765c3f-f6fe-42bc-ae4c-be73ada89fe0  \n",
       "49  73765c3f-f6fe-42bc-ae4c-be73ada89fe0  "
      ]
     },
     "execution_count": 36,
     "metadata": {},
     "output_type": "execute_result"
    }
   ],
   "source": [
    "reader = CollectionReader(LOGIT_BALL_CLASSIFIER)\n",
    "metadata = reader.df('metadata')\n",
    "trunc_logs = reader.df('logs')\n",
    "\n",
    "reader.close()\n",
    "trunc_logs"
   ]
  },
  {
   "cell_type": "code",
   "execution_count": 37,
   "metadata": {},
   "outputs": [
    {
     "data": {
      "image/png": "[encoded data removed]",
      "text/plain": [
       "<Figure size 432x288 with 1 Axes>"
      ]
     },
     "metadata": {
      "needs_background": "light"
     },
     "output_type": "display_data"
    },
    {
     "data": {
      "text/plain": [
       "<AxesSubplot:xlabel='epoch', ylabel='train_prec1'>"
      ]
     },
     "execution_count": 37,
     "metadata": {},
     "output_type": "execute_result"
    },
    {
     "data": {
      "image/png": "[encoded data removed]",
      "text/plain": [
       "<Figure size 432x288 with 1 Axes>"
      ]
     },
     "metadata": {
      "needs_background": "light"
     },
     "output_type": "display_data"
    }
   ],
   "source": [
    "sns.lineplot(data=trunc_logs, x='epoch', y='train_loss', label='train trunc loss')\n",
    "sns.lineplot(data=trunc_logs, x='epoch', y='val_loss', label='val trunc loss')\n",
    "plt.show()\n",
    "\n",
    "sns.lineplot(data=trunc_logs, x='epoch', y='train_prec1', label='train trunc acc')\n",
    "sns.lineplot(data=trunc_logs, x='epoch', y='val_prec1', label='val trunc acc')"
   ]
  },
  {
   "cell_type": "markdown",
   "metadata": {},
   "source": [
    "# Train Model on Standard CE Loss with Truncated Dataset"
   ]
  },
  {
   "cell_type": "code",
   "execution_count": 38,
   "metadata": {},
   "outputs": [
    {
     "name": "stdout",
     "output_type": "stream",
     "text": [
      "Logging in: /home/pstefanou/cifar-10/resnet-18/standard_step_lr_50epochs/8944f932-7278-40c9-96cb-2cf2983419c9\n"
     ]
    }
   ],
   "source": [
    "##### logging store\n",
    "out_store = store.Store(STANDARD_CLASSIFIER)\n",
    "setup_store_with_metadata(args, out_store)\n",
    "standard, _ = model_utils.make_and_restore_model(arch='resnet18', dataset=ds)"
   ]
  },
  {
   "cell_type": "code",
   "execution_count": 39,
   "metadata": {},
   "outputs": [
    {
     "data": {
      "application/vnd.jupyter.widget-view+json": {
       "model_id": "",
       "version_major": 2,
       "version_minor": 0
      },
      "text/plain": [
       "  0%|          | 0/188 [00:00<?, ?it/s]"
      ]
     },
     "metadata": {},
     "output_type": "display_data"
    },
    {
     "data": {
      "application/vnd.jupyter.widget-view+json": {
       "model_id": "",
       "version_major": 2,
       "version_minor": 0
      },
      "text/plain": [
       "  0%|          | 0/14 [00:00<?, ?it/s]"
      ]
     },
     "metadata": {},
     "output_type": "display_data"
    },
    {
     "data": {
      "application/vnd.jupyter.widget-view+json": {
       "model_id": "",
       "version_major": 2,
       "version_minor": 0
      },
      "text/plain": [
       "  0%|          | 0/188 [00:00<?, ?it/s]"
      ]
     },
     "metadata": {},
     "output_type": "display_data"
    },
    {
     "data": {
      "application/vnd.jupyter.widget-view+json": {
       "model_id": "",
       "version_major": 2,
       "version_minor": 0
      },
      "text/plain": [
       "  0%|          | 0/14 [00:00<?, ?it/s]"
      ]
     },
     "metadata": {},
     "output_type": "display_data"
    },
    {
     "data": {
      "application/vnd.jupyter.widget-view+json": {
       "model_id": "",
       "version_major": 2,
       "version_minor": 0
      },
      "text/plain": [
       "  0%|          | 0/188 [00:00<?, ?it/s]"
      ]
     },
     "metadata": {},
     "output_type": "display_data"
    },
    {
     "data": {
      "application/vnd.jupyter.widget-view+json": {
       "model_id": "",
       "version_major": 2,
       "version_minor": 0
      },
      "text/plain": [
       "  0%|          | 0/14 [00:00<?, ?it/s]"
      ]
     },
     "metadata": {},
     "output_type": "display_data"
    },
    {
     "data": {
      "application/vnd.jupyter.widget-view+json": {
       "model_id": "",
       "version_major": 2,
       "version_minor": 0
      },
      "text/plain": [
       "  0%|          | 0/188 [00:00<?, ?it/s]"
      ]
     },
     "metadata": {},
     "output_type": "display_data"
    },
    {
     "data": {
      "application/vnd.jupyter.widget-view+json": {
       "model_id": "",
       "version_major": 2,
       "version_minor": 0
      },
      "text/plain": [
       "  0%|          | 0/14 [00:00<?, ?it/s]"
      ]
     },
     "metadata": {},
     "output_type": "display_data"
    },
    {
     "data": {
      "application/vnd.jupyter.widget-view+json": {
       "model_id": "",
       "version_major": 2,
       "version_minor": 0
      },
      "text/plain": [
       "  0%|          | 0/188 [00:00<?, ?it/s]"
      ]
     },
     "metadata": {},
     "output_type": "display_data"
    },
    {
     "data": {
      "application/vnd.jupyter.widget-view+json": {
       "model_id": "",
       "version_major": 2,
       "version_minor": 0
      },
      "text/plain": [
       "  0%|          | 0/14 [00:00<?, ?it/s]"
      ]
     },
     "metadata": {},
     "output_type": "display_data"
    },
    {
     "data": {
      "application/vnd.jupyter.widget-view+json": {
       "model_id": "",
       "version_major": 2,
       "version_minor": 0
      },
      "text/plain": [
       "  0%|          | 0/188 [00:00<?, ?it/s]"
      ]
     },
     "metadata": {},
     "output_type": "display_data"
    },
    {
     "data": {
      "application/vnd.jupyter.widget-view+json": {
       "model_id": "",
       "version_major": 2,
       "version_minor": 0
      },
      "text/plain": [
       "  0%|          | 0/14 [00:00<?, ?it/s]"
      ]
     },
     "metadata": {},
     "output_type": "display_data"
    },
    {
     "data": {
      "application/vnd.jupyter.widget-view+json": {
       "model_id": "",
       "version_major": 2,
       "version_minor": 0
      },
      "text/plain": [
       "  0%|          | 0/188 [00:00<?, ?it/s]"
      ]
     },
     "metadata": {},
     "output_type": "display_data"
    },
    {
     "data": {
      "application/vnd.jupyter.widget-view+json": {
       "model_id": "",
       "version_major": 2,
       "version_minor": 0
      },
      "text/plain": [
       "  0%|          | 0/14 [00:00<?, ?it/s]"
      ]
     },
     "metadata": {},
     "output_type": "display_data"
    },
    {
     "data": {
      "application/vnd.jupyter.widget-view+json": {
       "model_id": "",
       "version_major": 2,
       "version_minor": 0
      },
      "text/plain": [
       "  0%|          | 0/188 [00:00<?, ?it/s]"
      ]
     },
     "metadata": {},
     "output_type": "display_data"
    },
    {
     "data": {
      "application/vnd.jupyter.widget-view+json": {
       "model_id": "",
       "version_major": 2,
       "version_minor": 0
      },
      "text/plain": [
       "  0%|          | 0/14 [00:00<?, ?it/s]"
      ]
     },
     "metadata": {},
     "output_type": "display_data"
    },
    {
     "data": {
      "application/vnd.jupyter.widget-view+json": {
       "model_id": "",
       "version_major": 2,
       "version_minor": 0
      },
      "text/plain": [
       "  0%|          | 0/188 [00:00<?, ?it/s]"
      ]
     },
     "metadata": {},
     "output_type": "display_data"
    },
    {
     "data": {
      "application/vnd.jupyter.widget-view+json": {
       "model_id": "",
       "version_major": 2,
       "version_minor": 0
      },
      "text/plain": [
       "  0%|          | 0/14 [00:00<?, ?it/s]"
      ]
     },
     "metadata": {},
     "output_type": "display_data"
    },
    {
     "data": {
      "application/vnd.jupyter.widget-view+json": {
       "model_id": "",
       "version_major": 2,
       "version_minor": 0
      },
      "text/plain": [
       "  0%|          | 0/188 [00:00<?, ?it/s]"
      ]
     },
     "metadata": {},
     "output_type": "display_data"
    },
    {
     "data": {
      "application/vnd.jupyter.widget-view+json": {
       "model_id": "",
       "version_major": 2,
       "version_minor": 0
      },
      "text/plain": [
       "  0%|          | 0/14 [00:00<?, ?it/s]"
      ]
     },
     "metadata": {},
     "output_type": "display_data"
    },
    {
     "data": {
      "application/vnd.jupyter.widget-view+json": {
       "model_id": "",
       "version_major": 2,
       "version_minor": 0
      },
      "text/plain": [
       "  0%|          | 0/188 [00:00<?, ?it/s]"
      ]
     },
     "metadata": {},
     "output_type": "display_data"
    },
    {
     "data": {
      "application/vnd.jupyter.widget-view+json": {
       "model_id": "",
       "version_major": 2,
       "version_minor": 0
      },
      "text/plain": [
       "  0%|          | 0/14 [00:00<?, ?it/s]"
      ]
     },
     "metadata": {},
     "output_type": "display_data"
    },
    {
     "data": {
      "application/vnd.jupyter.widget-view+json": {
       "model_id": "",
       "version_major": 2,
       "version_minor": 0
      },
      "text/plain": [
       "  0%|          | 0/188 [00:00<?, ?it/s]"
      ]
     },
     "metadata": {},
     "output_type": "display_data"
    },
    {
     "data": {
      "application/vnd.jupyter.widget-view+json": {
       "model_id": "",
       "version_major": 2,
       "version_minor": 0
      },
      "text/plain": [
       "  0%|          | 0/14 [00:00<?, ?it/s]"
      ]
     },
     "metadata": {},
     "output_type": "display_data"
    },
    {
     "data": {
      "application/vnd.jupyter.widget-view+json": {
       "model_id": "",
       "version_major": 2,
       "version_minor": 0
      },
      "text/plain": [
       "  0%|          | 0/188 [00:00<?, ?it/s]"
      ]
     },
     "metadata": {},
     "output_type": "display_data"
    },
    {
     "data": {
      "application/vnd.jupyter.widget-view+json": {
       "model_id": "",
       "version_major": 2,
       "version_minor": 0
      },
      "text/plain": [
       "  0%|          | 0/14 [00:00<?, ?it/s]"
      ]
     },
     "metadata": {},
     "output_type": "display_data"
    },
    {
     "data": {
      "application/vnd.jupyter.widget-view+json": {
       "model_id": "",
       "version_major": 2,
       "version_minor": 0
      },
      "text/plain": [
       "  0%|          | 0/188 [00:00<?, ?it/s]"
      ]
     },
     "metadata": {},
     "output_type": "display_data"
    },
    {
     "data": {
      "application/vnd.jupyter.widget-view+json": {
       "model_id": "",
       "version_major": 2,
       "version_minor": 0
      },
      "text/plain": [
       "  0%|          | 0/14 [00:00<?, ?it/s]"
      ]
     },
     "metadata": {},
     "output_type": "display_data"
    },
    {
     "data": {
      "application/vnd.jupyter.widget-view+json": {
       "model_id": "",
       "version_major": 2,
       "version_minor": 0
      },
      "text/plain": [
       "  0%|          | 0/188 [00:00<?, ?it/s]"
      ]
     },
     "metadata": {},
     "output_type": "display_data"
    },
    {
     "data": {
      "application/vnd.jupyter.widget-view+json": {
       "model_id": "",
       "version_major": 2,
       "version_minor": 0
      },
      "text/plain": [
       "  0%|          | 0/14 [00:00<?, ?it/s]"
      ]
     },
     "metadata": {},
     "output_type": "display_data"
    },
    {
     "data": {
      "application/vnd.jupyter.widget-view+json": {
       "model_id": "",
       "version_major": 2,
       "version_minor": 0
      },
      "text/plain": [
       "  0%|          | 0/188 [00:00<?, ?it/s]"
      ]
     },
     "metadata": {},
     "output_type": "display_data"
    },
    {
     "data": {
      "application/vnd.jupyter.widget-view+json": {
       "model_id": "",
       "version_major": 2,
       "version_minor": 0
      },
      "text/plain": [
       "  0%|          | 0/14 [00:00<?, ?it/s]"
      ]
     },
     "metadata": {},
     "output_type": "display_data"
    },
    {
     "data": {
      "application/vnd.jupyter.widget-view+json": {
       "model_id": "",
       "version_major": 2,
       "version_minor": 0
      },
      "text/plain": [
       "  0%|          | 0/188 [00:00<?, ?it/s]"
      ]
     },
     "metadata": {},
     "output_type": "display_data"
    },
    {
     "data": {
      "application/vnd.jupyter.widget-view+json": {
       "model_id": "",
       "version_major": 2,
       "version_minor": 0
      },
      "text/plain": [
       "  0%|          | 0/14 [00:00<?, ?it/s]"
      ]
     },
     "metadata": {},
     "output_type": "display_data"
    },
    {
     "data": {
      "application/vnd.jupyter.widget-view+json": {
       "model_id": "",
       "version_major": 2,
       "version_minor": 0
      },
      "text/plain": [
       "  0%|          | 0/188 [00:00<?, ?it/s]"
      ]
     },
     "metadata": {},
     "output_type": "display_data"
    },
    {
     "data": {
      "application/vnd.jupyter.widget-view+json": {
       "model_id": "",
       "version_major": 2,
       "version_minor": 0
      },
      "text/plain": [
       "  0%|          | 0/14 [00:00<?, ?it/s]"
      ]
     },
     "metadata": {},
     "output_type": "display_data"
    },
    {
     "data": {
      "application/vnd.jupyter.widget-view+json": {
       "model_id": "",
       "version_major": 2,
       "version_minor": 0
      },
      "text/plain": [
       "  0%|          | 0/188 [00:00<?, ?it/s]"
      ]
     },
     "metadata": {},
     "output_type": "display_data"
    },
    {
     "data": {
      "application/vnd.jupyter.widget-view+json": {
       "model_id": "",
       "version_major": 2,
       "version_minor": 0
      },
      "text/plain": [
       "  0%|          | 0/14 [00:00<?, ?it/s]"
      ]
     },
     "metadata": {},
     "output_type": "display_data"
    },
    {
     "data": {
      "application/vnd.jupyter.widget-view+json": {
       "model_id": "",
       "version_major": 2,
       "version_minor": 0
      },
      "text/plain": [
       "  0%|          | 0/188 [00:00<?, ?it/s]"
      ]
     },
     "metadata": {},
     "output_type": "display_data"
    },
    {
     "data": {
      "application/vnd.jupyter.widget-view+json": {
       "model_id": "",
       "version_major": 2,
       "version_minor": 0
      },
      "text/plain": [
       "  0%|          | 0/14 [00:00<?, ?it/s]"
      ]
     },
     "metadata": {},
     "output_type": "display_data"
    },
    {
     "data": {
      "application/vnd.jupyter.widget-view+json": {
       "model_id": "",
       "version_major": 2,
       "version_minor": 0
      },
      "text/plain": [
       "  0%|          | 0/188 [00:00<?, ?it/s]"
      ]
     },
     "metadata": {},
     "output_type": "display_data"
    },
    {
     "data": {
      "application/vnd.jupyter.widget-view+json": {
       "model_id": "",
       "version_major": 2,
       "version_minor": 0
      },
      "text/plain": [
       "  0%|          | 0/14 [00:00<?, ?it/s]"
      ]
     },
     "metadata": {},
     "output_type": "display_data"
    },
    {
     "data": {
      "application/vnd.jupyter.widget-view+json": {
       "model_id": "",
       "version_major": 2,
       "version_minor": 0
      },
      "text/plain": [
       "  0%|          | 0/188 [00:00<?, ?it/s]"
      ]
     },
     "metadata": {},
     "output_type": "display_data"
    },
    {
     "data": {
      "application/vnd.jupyter.widget-view+json": {
       "model_id": "",
       "version_major": 2,
       "version_minor": 0
      },
      "text/plain": [
       "  0%|          | 0/14 [00:00<?, ?it/s]"
      ]
     },
     "metadata": {},
     "output_type": "display_data"
    },
    {
     "data": {
      "application/vnd.jupyter.widget-view+json": {
       "model_id": "",
       "version_major": 2,
       "version_minor": 0
      },
      "text/plain": [
       "  0%|          | 0/188 [00:00<?, ?it/s]"
      ]
     },
     "metadata": {},
     "output_type": "display_data"
    },
    {
     "data": {
      "application/vnd.jupyter.widget-view+json": {
       "model_id": "",
       "version_major": 2,
       "version_minor": 0
      },
      "text/plain": [
       "  0%|          | 0/14 [00:00<?, ?it/s]"
      ]
     },
     "metadata": {},
     "output_type": "display_data"
    },
    {
     "data": {
      "application/vnd.jupyter.widget-view+json": {
       "model_id": "",
       "version_major": 2,
       "version_minor": 0
      },
      "text/plain": [
       "  0%|          | 0/188 [00:00<?, ?it/s]"
      ]
     },
     "metadata": {},
     "output_type": "display_data"
    },
    {
     "data": {
      "application/vnd.jupyter.widget-view+json": {
       "model_id": "",
       "version_major": 2,
       "version_minor": 0
      },
      "text/plain": [
       "  0%|          | 0/14 [00:00<?, ?it/s]"
      ]
     },
     "metadata": {},
     "output_type": "display_data"
    },
    {
     "data": {
      "application/vnd.jupyter.widget-view+json": {
       "model_id": "",
       "version_major": 2,
       "version_minor": 0
      },
      "text/plain": [
       "  0%|          | 0/188 [00:00<?, ?it/s]"
      ]
     },
     "metadata": {},
     "output_type": "display_data"
    },
    {
     "data": {
      "application/vnd.jupyter.widget-view+json": {
       "model_id": "",
       "version_major": 2,
       "version_minor": 0
      },
      "text/plain": [
       "  0%|          | 0/14 [00:00<?, ?it/s]"
      ]
     },
     "metadata": {},
     "output_type": "display_data"
    },
    {
     "data": {
      "application/vnd.jupyter.widget-view+json": {
       "model_id": "",
       "version_major": 2,
       "version_minor": 0
      },
      "text/plain": [
       "  0%|          | 0/188 [00:00<?, ?it/s]"
      ]
     },
     "metadata": {},
     "output_type": "display_data"
    },
    {
     "data": {
      "application/vnd.jupyter.widget-view+json": {
       "model_id": "",
       "version_major": 2,
       "version_minor": 0
      },
      "text/plain": [
       "  0%|          | 0/14 [00:00<?, ?it/s]"
      ]
     },
     "metadata": {},
     "output_type": "display_data"
    },
    {
     "data": {
      "application/vnd.jupyter.widget-view+json": {
       "model_id": "",
       "version_major": 2,
       "version_minor": 0
      },
      "text/plain": [
       "  0%|          | 0/188 [00:00<?, ?it/s]"
      ]
     },
     "metadata": {},
     "output_type": "display_data"
    },
    {
     "data": {
      "application/vnd.jupyter.widget-view+json": {
       "model_id": "",
       "version_major": 2,
       "version_minor": 0
      },
      "text/plain": [
       "  0%|          | 0/14 [00:00<?, ?it/s]"
      ]
     },
     "metadata": {},
     "output_type": "display_data"
    },
    {
     "data": {
      "application/vnd.jupyter.widget-view+json": {
       "model_id": "",
       "version_major": 2,
       "version_minor": 0
      },
      "text/plain": [
       "  0%|          | 0/188 [00:00<?, ?it/s]"
      ]
     },
     "metadata": {},
     "output_type": "display_data"
    },
    {
     "data": {
      "application/vnd.jupyter.widget-view+json": {
       "model_id": "",
       "version_major": 2,
       "version_minor": 0
      },
      "text/plain": [
       "  0%|          | 0/14 [00:00<?, ?it/s]"
      ]
     },
     "metadata": {},
     "output_type": "display_data"
    },
    {
     "data": {
      "application/vnd.jupyter.widget-view+json": {
       "model_id": "",
       "version_major": 2,
       "version_minor": 0
      },
      "text/plain": [
       "  0%|          | 0/188 [00:00<?, ?it/s]"
      ]
     },
     "metadata": {},
     "output_type": "display_data"
    },
    {
     "data": {
      "application/vnd.jupyter.widget-view+json": {
       "model_id": "",
       "version_major": 2,
       "version_minor": 0
      },
      "text/plain": [
       "  0%|          | 0/14 [00:00<?, ?it/s]"
      ]
     },
     "metadata": {},
     "output_type": "display_data"
    },
    {
     "data": {
      "application/vnd.jupyter.widget-view+json": {
       "model_id": "",
       "version_major": 2,
       "version_minor": 0
      },
      "text/plain": [
       "  0%|          | 0/188 [00:00<?, ?it/s]"
      ]
     },
     "metadata": {},
     "output_type": "display_data"
    },
    {
     "data": {
      "application/vnd.jupyter.widget-view+json": {
       "model_id": "",
       "version_major": 2,
       "version_minor": 0
      },
      "text/plain": [
       "  0%|          | 0/14 [00:00<?, ?it/s]"
      ]
     },
     "metadata": {},
     "output_type": "display_data"
    },
    {
     "data": {
      "application/vnd.jupyter.widget-view+json": {
       "model_id": "",
       "version_major": 2,
       "version_minor": 0
      },
      "text/plain": [
       "  0%|          | 0/188 [00:00<?, ?it/s]"
      ]
     },
     "metadata": {},
     "output_type": "display_data"
    },
    {
     "data": {
      "application/vnd.jupyter.widget-view+json": {
       "model_id": "",
       "version_major": 2,
       "version_minor": 0
      },
      "text/plain": [
       "  0%|          | 0/14 [00:00<?, ?it/s]"
      ]
     },
     "metadata": {},
     "output_type": "display_data"
    },
    {
     "data": {
      "application/vnd.jupyter.widget-view+json": {
       "model_id": "",
       "version_major": 2,
       "version_minor": 0
      },
      "text/plain": [
       "  0%|          | 0/188 [00:00<?, ?it/s]"
      ]
     },
     "metadata": {},
     "output_type": "display_data"
    },
    {
     "data": {
      "application/vnd.jupyter.widget-view+json": {
       "model_id": "",
       "version_major": 2,
       "version_minor": 0
      },
      "text/plain": [
       "  0%|          | 0/14 [00:00<?, ?it/s]"
      ]
     },
     "metadata": {},
     "output_type": "display_data"
    },
    {
     "data": {
      "application/vnd.jupyter.widget-view+json": {
       "model_id": "",
       "version_major": 2,
       "version_minor": 0
      },
      "text/plain": [
       "  0%|          | 0/188 [00:00<?, ?it/s]"
      ]
     },
     "metadata": {},
     "output_type": "display_data"
    },
    {
     "data": {
      "application/vnd.jupyter.widget-view+json": {
       "model_id": "",
       "version_major": 2,
       "version_minor": 0
      },
      "text/plain": [
       "  0%|          | 0/14 [00:00<?, ?it/s]"
      ]
     },
     "metadata": {},
     "output_type": "display_data"
    },
    {
     "data": {
      "application/vnd.jupyter.widget-view+json": {
       "model_id": "",
       "version_major": 2,
       "version_minor": 0
      },
      "text/plain": [
       "  0%|          | 0/188 [00:00<?, ?it/s]"
      ]
     },
     "metadata": {},
     "output_type": "display_data"
    },
    {
     "data": {
      "application/vnd.jupyter.widget-view+json": {
       "model_id": "",
       "version_major": 2,
       "version_minor": 0
      },
      "text/plain": [
       "  0%|          | 0/14 [00:00<?, ?it/s]"
      ]
     },
     "metadata": {},
     "output_type": "display_data"
    },
    {
     "data": {
      "application/vnd.jupyter.widget-view+json": {
       "model_id": "",
       "version_major": 2,
       "version_minor": 0
      },
      "text/plain": [
       "  0%|          | 0/188 [00:00<?, ?it/s]"
      ]
     },
     "metadata": {},
     "output_type": "display_data"
    },
    {
     "data": {
      "application/vnd.jupyter.widget-view+json": {
       "model_id": "",
       "version_major": 2,
       "version_minor": 0
      },
      "text/plain": [
       "  0%|          | 0/14 [00:00<?, ?it/s]"
      ]
     },
     "metadata": {},
     "output_type": "display_data"
    },
    {
     "data": {
      "application/vnd.jupyter.widget-view+json": {
       "model_id": "",
       "version_major": 2,
       "version_minor": 0
      },
      "text/plain": [
       "  0%|          | 0/188 [00:00<?, ?it/s]"
      ]
     },
     "metadata": {},
     "output_type": "display_data"
    },
    {
     "data": {
      "application/vnd.jupyter.widget-view+json": {
       "model_id": "",
       "version_major": 2,
       "version_minor": 0
      },
      "text/plain": [
       "  0%|          | 0/14 [00:00<?, ?it/s]"
      ]
     },
     "metadata": {},
     "output_type": "display_data"
    },
    {
     "data": {
      "application/vnd.jupyter.widget-view+json": {
       "model_id": "",
       "version_major": 2,
       "version_minor": 0
      },
      "text/plain": [
       "  0%|          | 0/188 [00:00<?, ?it/s]"
      ]
     },
     "metadata": {},
     "output_type": "display_data"
    },
    {
     "data": {
      "application/vnd.jupyter.widget-view+json": {
       "model_id": "",
       "version_major": 2,
       "version_minor": 0
      },
      "text/plain": [
       "  0%|          | 0/14 [00:00<?, ?it/s]"
      ]
     },
     "metadata": {},
     "output_type": "display_data"
    },
    {
     "data": {
      "application/vnd.jupyter.widget-view+json": {
       "model_id": "",
       "version_major": 2,
       "version_minor": 0
      },
      "text/plain": [
       "  0%|          | 0/188 [00:00<?, ?it/s]"
      ]
     },
     "metadata": {},
     "output_type": "display_data"
    },
    {
     "data": {
      "application/vnd.jupyter.widget-view+json": {
       "model_id": "",
       "version_major": 2,
       "version_minor": 0
      },
      "text/plain": [
       "  0%|          | 0/14 [00:00<?, ?it/s]"
      ]
     },
     "metadata": {},
     "output_type": "display_data"
    },
    {
     "data": {
      "application/vnd.jupyter.widget-view+json": {
       "model_id": "",
       "version_major": 2,
       "version_minor": 0
      },
      "text/plain": [
       "  0%|          | 0/188 [00:00<?, ?it/s]"
      ]
     },
     "metadata": {},
     "output_type": "display_data"
    },
    {
     "data": {
      "application/vnd.jupyter.widget-view+json": {
       "model_id": "",
       "version_major": 2,
       "version_minor": 0
      },
      "text/plain": [
       "  0%|          | 0/14 [00:00<?, ?it/s]"
      ]
     },
     "metadata": {},
     "output_type": "display_data"
    },
    {
     "data": {
      "application/vnd.jupyter.widget-view+json": {
       "model_id": "",
       "version_major": 2,
       "version_minor": 0
      },
      "text/plain": [
       "  0%|          | 0/188 [00:00<?, ?it/s]"
      ]
     },
     "metadata": {},
     "output_type": "display_data"
    },
    {
     "data": {
      "application/vnd.jupyter.widget-view+json": {
       "model_id": "",
       "version_major": 2,
       "version_minor": 0
      },
      "text/plain": [
       "  0%|          | 0/14 [00:00<?, ?it/s]"
      ]
     },
     "metadata": {},
     "output_type": "display_data"
    },
    {
     "data": {
      "application/vnd.jupyter.widget-view+json": {
       "model_id": "",
       "version_major": 2,
       "version_minor": 0
      },
      "text/plain": [
       "  0%|          | 0/188 [00:00<?, ?it/s]"
      ]
     },
     "metadata": {},
     "output_type": "display_data"
    },
    {
     "data": {
      "application/vnd.jupyter.widget-view+json": {
       "model_id": "",
       "version_major": 2,
       "version_minor": 0
      },
      "text/plain": [
       "  0%|          | 0/14 [00:00<?, ?it/s]"
      ]
     },
     "metadata": {},
     "output_type": "display_data"
    },
    {
     "data": {
      "application/vnd.jupyter.widget-view+json": {
       "model_id": "",
       "version_major": 2,
       "version_minor": 0
      },
      "text/plain": [
       "  0%|          | 0/188 [00:00<?, ?it/s]"
      ]
     },
     "metadata": {},
     "output_type": "display_data"
    },
    {
     "data": {
      "application/vnd.jupyter.widget-view+json": {
       "model_id": "",
       "version_major": 2,
       "version_minor": 0
      },
      "text/plain": [
       "  0%|          | 0/14 [00:00<?, ?it/s]"
      ]
     },
     "metadata": {},
     "output_type": "display_data"
    },
    {
     "data": {
      "application/vnd.jupyter.widget-view+json": {
       "model_id": "",
       "version_major": 2,
       "version_minor": 0
      },
      "text/plain": [
       "  0%|          | 0/188 [00:00<?, ?it/s]"
      ]
     },
     "metadata": {},
     "output_type": "display_data"
    },
    {
     "data": {
      "application/vnd.jupyter.widget-view+json": {
       "model_id": "",
       "version_major": 2,
       "version_minor": 0
      },
      "text/plain": [
       "  0%|          | 0/14 [00:00<?, ?it/s]"
      ]
     },
     "metadata": {},
     "output_type": "display_data"
    },
    {
     "data": {
      "application/vnd.jupyter.widget-view+json": {
       "model_id": "",
       "version_major": 2,
       "version_minor": 0
      },
      "text/plain": [
       "  0%|          | 0/188 [00:00<?, ?it/s]"
      ]
     },
     "metadata": {},
     "output_type": "display_data"
    },
    {
     "data": {
      "application/vnd.jupyter.widget-view+json": {
       "model_id": "",
       "version_major": 2,
       "version_minor": 0
      },
      "text/plain": [
       "  0%|          | 0/14 [00:00<?, ?it/s]"
      ]
     },
     "metadata": {},
     "output_type": "display_data"
    },
    {
     "data": {
      "application/vnd.jupyter.widget-view+json": {
       "model_id": "",
       "version_major": 2,
       "version_minor": 0
      },
      "text/plain": [
       "  0%|          | 0/188 [00:00<?, ?it/s]"
      ]
     },
     "metadata": {},
     "output_type": "display_data"
    },
    {
     "data": {
      "application/vnd.jupyter.widget-view+json": {
       "model_id": "",
       "version_major": 2,
       "version_minor": 0
      },
      "text/plain": [
       "  0%|          | 0/14 [00:00<?, ?it/s]"
      ]
     },
     "metadata": {},
     "output_type": "display_data"
    },
    {
     "data": {
      "application/vnd.jupyter.widget-view+json": {
       "model_id": "",
       "version_major": 2,
       "version_minor": 0
      },
      "text/plain": [
       "  0%|          | 0/188 [00:00<?, ?it/s]"
      ]
     },
     "metadata": {},
     "output_type": "display_data"
    },
    {
     "data": {
      "application/vnd.jupyter.widget-view+json": {
       "model_id": "",
       "version_major": 2,
       "version_minor": 0
      },
      "text/plain": [
       "  0%|          | 0/14 [00:00<?, ?it/s]"
      ]
     },
     "metadata": {},
     "output_type": "display_data"
    },
    {
     "data": {
      "application/vnd.jupyter.widget-view+json": {
       "model_id": "",
       "version_major": 2,
       "version_minor": 0
      },
      "text/plain": [
       "  0%|          | 0/188 [00:00<?, ?it/s]"
      ]
     },
     "metadata": {},
     "output_type": "display_data"
    },
    {
     "data": {
      "application/vnd.jupyter.widget-view+json": {
       "model_id": "",
       "version_major": 2,
       "version_minor": 0
      },
      "text/plain": [
       "  0%|          | 0/14 [00:00<?, ?it/s]"
      ]
     },
     "metadata": {},
     "output_type": "display_data"
    },
    {
     "data": {
      "application/vnd.jupyter.widget-view+json": {
       "model_id": "",
       "version_major": 2,
       "version_minor": 0
      },
      "text/plain": [
       "  0%|          | 0/188 [00:00<?, ?it/s]"
      ]
     },
     "metadata": {},
     "output_type": "display_data"
    },
    {
     "data": {
      "application/vnd.jupyter.widget-view+json": {
       "model_id": "",
       "version_major": 2,
       "version_minor": 0
      },
      "text/plain": [
       "  0%|          | 0/14 [00:00<?, ?it/s]"
      ]
     },
     "metadata": {},
     "output_type": "display_data"
    },
    {
     "data": {
      "application/vnd.jupyter.widget-view+json": {
       "model_id": "",
       "version_major": 2,
       "version_minor": 0
      },
      "text/plain": [
       "  0%|          | 0/188 [00:00<?, ?it/s]"
      ]
     },
     "metadata": {},
     "output_type": "display_data"
    },
    {
     "data": {
      "application/vnd.jupyter.widget-view+json": {
       "model_id": "",
       "version_major": 2,
       "version_minor": 0
      },
      "text/plain": [
       "  0%|          | 0/14 [00:00<?, ?it/s]"
      ]
     },
     "metadata": {},
     "output_type": "display_data"
    },
    {
     "data": {
      "application/vnd.jupyter.widget-view+json": {
       "model_id": "",
       "version_major": 2,
       "version_minor": 0
      },
      "text/plain": [
       "  0%|          | 0/188 [00:00<?, ?it/s]"
      ]
     },
     "metadata": {},
     "output_type": "display_data"
    },
    {
     "data": {
      "application/vnd.jupyter.widget-view+json": {
       "model_id": "",
       "version_major": 2,
       "version_minor": 0
      },
      "text/plain": [
       "  0%|          | 0/14 [00:00<?, ?it/s]"
      ]
     },
     "metadata": {},
     "output_type": "display_data"
    }
   ],
   "source": [
    "# train\n",
    "ch.manual_seed(0)\n",
    "config.args = args\n",
    "standard_model = train.train_model(args, standard, (trunc_train_loader, trunc_val_loader), store=out_store, parallel=args.parallel)\n",
    "out_store.close()"
   ]
  },
  {
   "cell_type": "code",
   "execution_count": 40,
   "metadata": {},
   "outputs": [
    {
     "name": "stderr",
     "output_type": "stream",
     "text": [
      "100%|██████████| 1/1 [00:00<00:00, 75.57it/s]\n"
     ]
    },
    {
     "data": {
      "text/html": [
       "<div>\n",
       "<style scoped>\n",
       "    .dataframe tbody tr th:only-of-type {\n",
       "        vertical-align: middle;\n",
       "    }\n",
       "\n",
       "    .dataframe tbody tr th {\n",
       "        vertical-align: top;\n",
       "    }\n",
       "\n",
       "    .dataframe thead th {\n",
       "        text-align: right;\n",
       "    }\n",
       "</style>\n",
       "<table border=\"1\" class=\"dataframe\">\n",
       "  <thead>\n",
       "    <tr style=\"text-align: right;\">\n",
       "      <th></th>\n",
       "      <th>epoch</th>\n",
       "      <th>val_prec1</th>\n",
       "      <th>val_loss</th>\n",
       "      <th>train_prec1</th>\n",
       "      <th>train_loss</th>\n",
       "      <th>time</th>\n",
       "      <th>exp_id</th>\n",
       "    </tr>\n",
       "  </thead>\n",
       "  <tbody>\n",
       "    <tr>\n",
       "      <th>0</th>\n",
       "      <td>1</td>\n",
       "      <td>45.590881</td>\n",
       "      <td>1.526674</td>\n",
       "      <td>40.299255</td>\n",
       "      <td>1.683716</td>\n",
       "      <td>12.516003</td>\n",
       "      <td>8944f932-7278-40c9-96cb-2cf2983419c9</td>\n",
       "    </tr>\n",
       "    <tr>\n",
       "      <th>1</th>\n",
       "      <td>2</td>\n",
       "      <td>72.705460</td>\n",
       "      <td>0.769827</td>\n",
       "      <td>61.697163</td>\n",
       "      <td>1.054290</td>\n",
       "      <td>25.008404</td>\n",
       "      <td>8944f932-7278-40c9-96cb-2cf2983419c9</td>\n",
       "    </tr>\n",
       "    <tr>\n",
       "      <th>2</th>\n",
       "      <td>3</td>\n",
       "      <td>80.563881</td>\n",
       "      <td>0.521347</td>\n",
       "      <td>72.817078</td>\n",
       "      <td>0.756402</td>\n",
       "      <td>37.408093</td>\n",
       "      <td>8944f932-7278-40c9-96cb-2cf2983419c9</td>\n",
       "    </tr>\n",
       "    <tr>\n",
       "      <th>3</th>\n",
       "      <td>4</td>\n",
       "      <td>78.104378</td>\n",
       "      <td>0.636168</td>\n",
       "      <td>80.502647</td>\n",
       "      <td>0.540533</td>\n",
       "      <td>49.838872</td>\n",
       "      <td>8944f932-7278-40c9-96cb-2cf2983419c9</td>\n",
       "    </tr>\n",
       "    <tr>\n",
       "      <th>4</th>\n",
       "      <td>5</td>\n",
       "      <td>74.325134</td>\n",
       "      <td>0.944316</td>\n",
       "      <td>86.833664</td>\n",
       "      <td>0.370249</td>\n",
       "      <td>62.287851</td>\n",
       "      <td>8944f932-7278-40c9-96cb-2cf2983419c9</td>\n",
       "    </tr>\n",
       "    <tr>\n",
       "      <th>5</th>\n",
       "      <td>6</td>\n",
       "      <td>86.082779</td>\n",
       "      <td>0.440787</td>\n",
       "      <td>91.218277</td>\n",
       "      <td>0.242475</td>\n",
       "      <td>74.725360</td>\n",
       "      <td>8944f932-7278-40c9-96cb-2cf2983419c9</td>\n",
       "    </tr>\n",
       "    <tr>\n",
       "      <th>6</th>\n",
       "      <td>7</td>\n",
       "      <td>75.044991</td>\n",
       "      <td>0.980243</td>\n",
       "      <td>95.261124</td>\n",
       "      <td>0.140761</td>\n",
       "      <td>87.130649</td>\n",
       "      <td>8944f932-7278-40c9-96cb-2cf2983419c9</td>\n",
       "    </tr>\n",
       "    <tr>\n",
       "      <th>7</th>\n",
       "      <td>8</td>\n",
       "      <td>90.041992</td>\n",
       "      <td>0.327841</td>\n",
       "      <td>96.990791</td>\n",
       "      <td>0.086739</td>\n",
       "      <td>99.632607</td>\n",
       "      <td>8944f932-7278-40c9-96cb-2cf2983419c9</td>\n",
       "    </tr>\n",
       "    <tr>\n",
       "      <th>8</th>\n",
       "      <td>9</td>\n",
       "      <td>90.101974</td>\n",
       "      <td>0.333994</td>\n",
       "      <td>98.332848</td>\n",
       "      <td>0.050824</td>\n",
       "      <td>112.222662</td>\n",
       "      <td>8944f932-7278-40c9-96cb-2cf2983419c9</td>\n",
       "    </tr>\n",
       "    <tr>\n",
       "      <th>9</th>\n",
       "      <td>10</td>\n",
       "      <td>94.121170</td>\n",
       "      <td>0.228995</td>\n",
       "      <td>99.183098</td>\n",
       "      <td>0.027395</td>\n",
       "      <td>124.692114</td>\n",
       "      <td>8944f932-7278-40c9-96cb-2cf2983419c9</td>\n",
       "    </tr>\n",
       "    <tr>\n",
       "      <th>10</th>\n",
       "      <td>11</td>\n",
       "      <td>95.320930</td>\n",
       "      <td>0.158350</td>\n",
       "      <td>99.687408</td>\n",
       "      <td>0.012092</td>\n",
       "      <td>137.193474</td>\n",
       "      <td>8944f932-7278-40c9-96cb-2cf2983419c9</td>\n",
       "    </tr>\n",
       "    <tr>\n",
       "      <th>11</th>\n",
       "      <td>12</td>\n",
       "      <td>95.800835</td>\n",
       "      <td>0.158442</td>\n",
       "      <td>99.962494</td>\n",
       "      <td>0.002962</td>\n",
       "      <td>149.622051</td>\n",
       "      <td>8944f932-7278-40c9-96cb-2cf2983419c9</td>\n",
       "    </tr>\n",
       "    <tr>\n",
       "      <th>12</th>\n",
       "      <td>13</td>\n",
       "      <td>95.800835</td>\n",
       "      <td>0.158827</td>\n",
       "      <td>99.991669</td>\n",
       "      <td>0.001269</td>\n",
       "      <td>162.041094</td>\n",
       "      <td>8944f932-7278-40c9-96cb-2cf2983419c9</td>\n",
       "    </tr>\n",
       "    <tr>\n",
       "      <th>13</th>\n",
       "      <td>14</td>\n",
       "      <td>96.340729</td>\n",
       "      <td>0.147824</td>\n",
       "      <td>100.000000</td>\n",
       "      <td>0.000730</td>\n",
       "      <td>174.540274</td>\n",
       "      <td>8944f932-7278-40c9-96cb-2cf2983419c9</td>\n",
       "    </tr>\n",
       "    <tr>\n",
       "      <th>14</th>\n",
       "      <td>15</td>\n",
       "      <td>96.280739</td>\n",
       "      <td>0.144224</td>\n",
       "      <td>99.995834</td>\n",
       "      <td>0.000563</td>\n",
       "      <td>186.958937</td>\n",
       "      <td>8944f932-7278-40c9-96cb-2cf2983419c9</td>\n",
       "    </tr>\n",
       "    <tr>\n",
       "      <th>15</th>\n",
       "      <td>16</td>\n",
       "      <td>96.460701</td>\n",
       "      <td>0.142298</td>\n",
       "      <td>100.000000</td>\n",
       "      <td>0.000394</td>\n",
       "      <td>199.416020</td>\n",
       "      <td>8944f932-7278-40c9-96cb-2cf2983419c9</td>\n",
       "    </tr>\n",
       "    <tr>\n",
       "      <th>16</th>\n",
       "      <td>17</td>\n",
       "      <td>96.280739</td>\n",
       "      <td>0.145164</td>\n",
       "      <td>100.000000</td>\n",
       "      <td>0.000303</td>\n",
       "      <td>211.809793</td>\n",
       "      <td>8944f932-7278-40c9-96cb-2cf2983419c9</td>\n",
       "    </tr>\n",
       "    <tr>\n",
       "      <th>17</th>\n",
       "      <td>18</td>\n",
       "      <td>96.220749</td>\n",
       "      <td>0.149574</td>\n",
       "      <td>100.000000</td>\n",
       "      <td>0.000326</td>\n",
       "      <td>224.248676</td>\n",
       "      <td>8944f932-7278-40c9-96cb-2cf2983419c9</td>\n",
       "    </tr>\n",
       "    <tr>\n",
       "      <th>18</th>\n",
       "      <td>19</td>\n",
       "      <td>96.400719</td>\n",
       "      <td>0.143188</td>\n",
       "      <td>100.000000</td>\n",
       "      <td>0.000252</td>\n",
       "      <td>236.725659</td>\n",
       "      <td>8944f932-7278-40c9-96cb-2cf2983419c9</td>\n",
       "    </tr>\n",
       "    <tr>\n",
       "      <th>19</th>\n",
       "      <td>20</td>\n",
       "      <td>96.220749</td>\n",
       "      <td>0.146178</td>\n",
       "      <td>100.000000</td>\n",
       "      <td>0.000216</td>\n",
       "      <td>249.139457</td>\n",
       "      <td>8944f932-7278-40c9-96cb-2cf2983419c9</td>\n",
       "    </tr>\n",
       "    <tr>\n",
       "      <th>20</th>\n",
       "      <td>21</td>\n",
       "      <td>96.340729</td>\n",
       "      <td>0.143848</td>\n",
       "      <td>100.000000</td>\n",
       "      <td>0.000211</td>\n",
       "      <td>261.565215</td>\n",
       "      <td>8944f932-7278-40c9-96cb-2cf2983419c9</td>\n",
       "    </tr>\n",
       "    <tr>\n",
       "      <th>21</th>\n",
       "      <td>22</td>\n",
       "      <td>96.400719</td>\n",
       "      <td>0.143187</td>\n",
       "      <td>100.000000</td>\n",
       "      <td>0.000185</td>\n",
       "      <td>273.972665</td>\n",
       "      <td>8944f932-7278-40c9-96cb-2cf2983419c9</td>\n",
       "    </tr>\n",
       "    <tr>\n",
       "      <th>22</th>\n",
       "      <td>23</td>\n",
       "      <td>96.340729</td>\n",
       "      <td>0.144503</td>\n",
       "      <td>100.000000</td>\n",
       "      <td>0.000204</td>\n",
       "      <td>286.387124</td>\n",
       "      <td>8944f932-7278-40c9-96cb-2cf2983419c9</td>\n",
       "    </tr>\n",
       "    <tr>\n",
       "      <th>23</th>\n",
       "      <td>24</td>\n",
       "      <td>96.160767</td>\n",
       "      <td>0.148165</td>\n",
       "      <td>100.000000</td>\n",
       "      <td>0.000168</td>\n",
       "      <td>298.824902</td>\n",
       "      <td>8944f932-7278-40c9-96cb-2cf2983419c9</td>\n",
       "    </tr>\n",
       "    <tr>\n",
       "      <th>24</th>\n",
       "      <td>25</td>\n",
       "      <td>96.400719</td>\n",
       "      <td>0.143818</td>\n",
       "      <td>100.000000</td>\n",
       "      <td>0.000158</td>\n",
       "      <td>311.240445</td>\n",
       "      <td>8944f932-7278-40c9-96cb-2cf2983419c9</td>\n",
       "    </tr>\n",
       "    <tr>\n",
       "      <th>25</th>\n",
       "      <td>26</td>\n",
       "      <td>96.280739</td>\n",
       "      <td>0.146590</td>\n",
       "      <td>100.000000</td>\n",
       "      <td>0.000143</td>\n",
       "      <td>323.662673</td>\n",
       "      <td>8944f932-7278-40c9-96cb-2cf2983419c9</td>\n",
       "    </tr>\n",
       "    <tr>\n",
       "      <th>26</th>\n",
       "      <td>27</td>\n",
       "      <td>96.520691</td>\n",
       "      <td>0.144484</td>\n",
       "      <td>100.000000</td>\n",
       "      <td>0.000142</td>\n",
       "      <td>336.125834</td>\n",
       "      <td>8944f932-7278-40c9-96cb-2cf2983419c9</td>\n",
       "    </tr>\n",
       "    <tr>\n",
       "      <th>27</th>\n",
       "      <td>28</td>\n",
       "      <td>96.520691</td>\n",
       "      <td>0.145924</td>\n",
       "      <td>100.000000</td>\n",
       "      <td>0.000159</td>\n",
       "      <td>348.548363</td>\n",
       "      <td>8944f932-7278-40c9-96cb-2cf2983419c9</td>\n",
       "    </tr>\n",
       "    <tr>\n",
       "      <th>28</th>\n",
       "      <td>29</td>\n",
       "      <td>96.400719</td>\n",
       "      <td>0.145253</td>\n",
       "      <td>100.000000</td>\n",
       "      <td>0.000126</td>\n",
       "      <td>360.962846</td>\n",
       "      <td>8944f932-7278-40c9-96cb-2cf2983419c9</td>\n",
       "    </tr>\n",
       "    <tr>\n",
       "      <th>29</th>\n",
       "      <td>30</td>\n",
       "      <td>96.280739</td>\n",
       "      <td>0.146928</td>\n",
       "      <td>100.000000</td>\n",
       "      <td>0.000118</td>\n",
       "      <td>373.393283</td>\n",
       "      <td>8944f932-7278-40c9-96cb-2cf2983419c9</td>\n",
       "    </tr>\n",
       "    <tr>\n",
       "      <th>30</th>\n",
       "      <td>31</td>\n",
       "      <td>96.160767</td>\n",
       "      <td>0.145252</td>\n",
       "      <td>100.000000</td>\n",
       "      <td>0.000119</td>\n",
       "      <td>385.796580</td>\n",
       "      <td>8944f932-7278-40c9-96cb-2cf2983419c9</td>\n",
       "    </tr>\n",
       "    <tr>\n",
       "      <th>31</th>\n",
       "      <td>32</td>\n",
       "      <td>96.220749</td>\n",
       "      <td>0.145703</td>\n",
       "      <td>100.000000</td>\n",
       "      <td>0.000111</td>\n",
       "      <td>398.202702</td>\n",
       "      <td>8944f932-7278-40c9-96cb-2cf2983419c9</td>\n",
       "    </tr>\n",
       "    <tr>\n",
       "      <th>32</th>\n",
       "      <td>33</td>\n",
       "      <td>96.340729</td>\n",
       "      <td>0.147207</td>\n",
       "      <td>100.000000</td>\n",
       "      <td>0.000113</td>\n",
       "      <td>410.648419</td>\n",
       "      <td>8944f932-7278-40c9-96cb-2cf2983419c9</td>\n",
       "    </tr>\n",
       "    <tr>\n",
       "      <th>33</th>\n",
       "      <td>34</td>\n",
       "      <td>96.280739</td>\n",
       "      <td>0.144029</td>\n",
       "      <td>100.000000</td>\n",
       "      <td>0.000109</td>\n",
       "      <td>423.076787</td>\n",
       "      <td>8944f932-7278-40c9-96cb-2cf2983419c9</td>\n",
       "    </tr>\n",
       "    <tr>\n",
       "      <th>34</th>\n",
       "      <td>35</td>\n",
       "      <td>96.460701</td>\n",
       "      <td>0.147148</td>\n",
       "      <td>100.000000</td>\n",
       "      <td>0.000094</td>\n",
       "      <td>435.507638</td>\n",
       "      <td>8944f932-7278-40c9-96cb-2cf2983419c9</td>\n",
       "    </tr>\n",
       "    <tr>\n",
       "      <th>35</th>\n",
       "      <td>36</td>\n",
       "      <td>96.040787</td>\n",
       "      <td>0.145541</td>\n",
       "      <td>100.000000</td>\n",
       "      <td>0.000095</td>\n",
       "      <td>447.952087</td>\n",
       "      <td>8944f932-7278-40c9-96cb-2cf2983419c9</td>\n",
       "    </tr>\n",
       "    <tr>\n",
       "      <th>36</th>\n",
       "      <td>37</td>\n",
       "      <td>96.460701</td>\n",
       "      <td>0.145454</td>\n",
       "      <td>100.000000</td>\n",
       "      <td>0.000097</td>\n",
       "      <td>460.365693</td>\n",
       "      <td>8944f932-7278-40c9-96cb-2cf2983419c9</td>\n",
       "    </tr>\n",
       "    <tr>\n",
       "      <th>37</th>\n",
       "      <td>38</td>\n",
       "      <td>96.340729</td>\n",
       "      <td>0.145536</td>\n",
       "      <td>100.000000</td>\n",
       "      <td>0.000084</td>\n",
       "      <td>472.763558</td>\n",
       "      <td>8944f932-7278-40c9-96cb-2cf2983419c9</td>\n",
       "    </tr>\n",
       "    <tr>\n",
       "      <th>38</th>\n",
       "      <td>39</td>\n",
       "      <td>96.400719</td>\n",
       "      <td>0.146046</td>\n",
       "      <td>100.000000</td>\n",
       "      <td>0.000097</td>\n",
       "      <td>485.213348</td>\n",
       "      <td>8944f932-7278-40c9-96cb-2cf2983419c9</td>\n",
       "    </tr>\n",
       "    <tr>\n",
       "      <th>39</th>\n",
       "      <td>40</td>\n",
       "      <td>96.580681</td>\n",
       "      <td>0.145690</td>\n",
       "      <td>100.000000</td>\n",
       "      <td>0.000093</td>\n",
       "      <td>497.651102</td>\n",
       "      <td>8944f932-7278-40c9-96cb-2cf2983419c9</td>\n",
       "    </tr>\n",
       "    <tr>\n",
       "      <th>40</th>\n",
       "      <td>41</td>\n",
       "      <td>96.460701</td>\n",
       "      <td>0.145257</td>\n",
       "      <td>100.000000</td>\n",
       "      <td>0.000095</td>\n",
       "      <td>510.088896</td>\n",
       "      <td>8944f932-7278-40c9-96cb-2cf2983419c9</td>\n",
       "    </tr>\n",
       "    <tr>\n",
       "      <th>41</th>\n",
       "      <td>42</td>\n",
       "      <td>96.460701</td>\n",
       "      <td>0.148610</td>\n",
       "      <td>100.000000</td>\n",
       "      <td>0.000086</td>\n",
       "      <td>522.482785</td>\n",
       "      <td>8944f932-7278-40c9-96cb-2cf2983419c9</td>\n",
       "    </tr>\n",
       "    <tr>\n",
       "      <th>42</th>\n",
       "      <td>43</td>\n",
       "      <td>96.460701</td>\n",
       "      <td>0.145327</td>\n",
       "      <td>100.000000</td>\n",
       "      <td>0.000085</td>\n",
       "      <td>534.902021</td>\n",
       "      <td>8944f932-7278-40c9-96cb-2cf2983419c9</td>\n",
       "    </tr>\n",
       "    <tr>\n",
       "      <th>43</th>\n",
       "      <td>44</td>\n",
       "      <td>96.280739</td>\n",
       "      <td>0.147948</td>\n",
       "      <td>100.000000</td>\n",
       "      <td>0.000085</td>\n",
       "      <td>547.314896</td>\n",
       "      <td>8944f932-7278-40c9-96cb-2cf2983419c9</td>\n",
       "    </tr>\n",
       "    <tr>\n",
       "      <th>44</th>\n",
       "      <td>45</td>\n",
       "      <td>96.280739</td>\n",
       "      <td>0.145720</td>\n",
       "      <td>100.000000</td>\n",
       "      <td>0.000080</td>\n",
       "      <td>559.764837</td>\n",
       "      <td>8944f932-7278-40c9-96cb-2cf2983419c9</td>\n",
       "    </tr>\n",
       "    <tr>\n",
       "      <th>45</th>\n",
       "      <td>46</td>\n",
       "      <td>96.280739</td>\n",
       "      <td>0.145111</td>\n",
       "      <td>100.000000</td>\n",
       "      <td>0.000075</td>\n",
       "      <td>572.236226</td>\n",
       "      <td>8944f932-7278-40c9-96cb-2cf2983419c9</td>\n",
       "    </tr>\n",
       "    <tr>\n",
       "      <th>46</th>\n",
       "      <td>47</td>\n",
       "      <td>96.160767</td>\n",
       "      <td>0.147591</td>\n",
       "      <td>100.000000</td>\n",
       "      <td>0.000077</td>\n",
       "      <td>584.633315</td>\n",
       "      <td>8944f932-7278-40c9-96cb-2cf2983419c9</td>\n",
       "    </tr>\n",
       "    <tr>\n",
       "      <th>47</th>\n",
       "      <td>48</td>\n",
       "      <td>96.340729</td>\n",
       "      <td>0.145685</td>\n",
       "      <td>100.000000</td>\n",
       "      <td>0.000069</td>\n",
       "      <td>597.043001</td>\n",
       "      <td>8944f932-7278-40c9-96cb-2cf2983419c9</td>\n",
       "    </tr>\n",
       "    <tr>\n",
       "      <th>48</th>\n",
       "      <td>49</td>\n",
       "      <td>96.340729</td>\n",
       "      <td>0.145663</td>\n",
       "      <td>100.000000</td>\n",
       "      <td>0.000071</td>\n",
       "      <td>609.424189</td>\n",
       "      <td>8944f932-7278-40c9-96cb-2cf2983419c9</td>\n",
       "    </tr>\n",
       "    <tr>\n",
       "      <th>49</th>\n",
       "      <td>50</td>\n",
       "      <td>96.160767</td>\n",
       "      <td>0.148225</td>\n",
       "      <td>100.000000</td>\n",
       "      <td>0.000069</td>\n",
       "      <td>621.984196</td>\n",
       "      <td>8944f932-7278-40c9-96cb-2cf2983419c9</td>\n",
       "    </tr>\n",
       "  </tbody>\n",
       "</table>\n",
       "</div>"
      ],
      "text/plain": [
       "    epoch  val_prec1  val_loss  train_prec1  train_loss        time  \\\n",
       "0       1  45.590881  1.526674    40.299255    1.683716   12.516003   \n",
       "1       2  72.705460  0.769827    61.697163    1.054290   25.008404   \n",
       "2       3  80.563881  0.521347    72.817078    0.756402   37.408093   \n",
       "3       4  78.104378  0.636168    80.502647    0.540533   49.838872   \n",
       "4       5  74.325134  0.944316    86.833664    0.370249   62.287851   \n",
       "5       6  86.082779  0.440787    91.218277    0.242475   74.725360   \n",
       "6       7  75.044991  0.980243    95.261124    0.140761   87.130649   \n",
       "7       8  90.041992  0.327841    96.990791    0.086739   99.632607   \n",
       "8       9  90.101974  0.333994    98.332848    0.050824  112.222662   \n",
       "9      10  94.121170  0.228995    99.183098    0.027395  124.692114   \n",
       "10     11  95.320930  0.158350    99.687408    0.012092  137.193474   \n",
       "11     12  95.800835  0.158442    99.962494    0.002962  149.622051   \n",
       "12     13  95.800835  0.158827    99.991669    0.001269  162.041094   \n",
       "13     14  96.340729  0.147824   100.000000    0.000730  174.540274   \n",
       "14     15  96.280739  0.144224    99.995834    0.000563  186.958937   \n",
       "15     16  96.460701  0.142298   100.000000    0.000394  199.416020   \n",
       "16     17  96.280739  0.145164   100.000000    0.000303  211.809793   \n",
       "17     18  96.220749  0.149574   100.000000    0.000326  224.248676   \n",
       "18     19  96.400719  0.143188   100.000000    0.000252  236.725659   \n",
       "19     20  96.220749  0.146178   100.000000    0.000216  249.139457   \n",
       "20     21  96.340729  0.143848   100.000000    0.000211  261.565215   \n",
       "21     22  96.400719  0.143187   100.000000    0.000185  273.972665   \n",
       "22     23  96.340729  0.144503   100.000000    0.000204  286.387124   \n",
       "23     24  96.160767  0.148165   100.000000    0.000168  298.824902   \n",
       "24     25  96.400719  0.143818   100.000000    0.000158  311.240445   \n",
       "25     26  96.280739  0.146590   100.000000    0.000143  323.662673   \n",
       "26     27  96.520691  0.144484   100.000000    0.000142  336.125834   \n",
       "27     28  96.520691  0.145924   100.000000    0.000159  348.548363   \n",
       "28     29  96.400719  0.145253   100.000000    0.000126  360.962846   \n",
       "29     30  96.280739  0.146928   100.000000    0.000118  373.393283   \n",
       "30     31  96.160767  0.145252   100.000000    0.000119  385.796580   \n",
       "31     32  96.220749  0.145703   100.000000    0.000111  398.202702   \n",
       "32     33  96.340729  0.147207   100.000000    0.000113  410.648419   \n",
       "33     34  96.280739  0.144029   100.000000    0.000109  423.076787   \n",
       "34     35  96.460701  0.147148   100.000000    0.000094  435.507638   \n",
       "35     36  96.040787  0.145541   100.000000    0.000095  447.952087   \n",
       "36     37  96.460701  0.145454   100.000000    0.000097  460.365693   \n",
       "37     38  96.340729  0.145536   100.000000    0.000084  472.763558   \n",
       "38     39  96.400719  0.146046   100.000000    0.000097  485.213348   \n",
       "39     40  96.580681  0.145690   100.000000    0.000093  497.651102   \n",
       "40     41  96.460701  0.145257   100.000000    0.000095  510.088896   \n",
       "41     42  96.460701  0.148610   100.000000    0.000086  522.482785   \n",
       "42     43  96.460701  0.145327   100.000000    0.000085  534.902021   \n",
       "43     44  96.280739  0.147948   100.000000    0.000085  547.314896   \n",
       "44     45  96.280739  0.145720   100.000000    0.000080  559.764837   \n",
       "45     46  96.280739  0.145111   100.000000    0.000075  572.236226   \n",
       "46     47  96.160767  0.147591   100.000000    0.000077  584.633315   \n",
       "47     48  96.340729  0.145685   100.000000    0.000069  597.043001   \n",
       "48     49  96.340729  0.145663   100.000000    0.000071  609.424189   \n",
       "49     50  96.160767  0.148225   100.000000    0.000069  621.984196   \n",
       "\n",
       "                                  exp_id  \n",
       "0   8944f932-7278-40c9-96cb-2cf2983419c9  \n",
       "1   8944f932-7278-40c9-96cb-2cf2983419c9  \n",
       "2   8944f932-7278-40c9-96cb-2cf2983419c9  \n",
       "3   8944f932-7278-40c9-96cb-2cf2983419c9  \n",
       "4   8944f932-7278-40c9-96cb-2cf2983419c9  \n",
       "5   8944f932-7278-40c9-96cb-2cf2983419c9  \n",
       "6   8944f932-7278-40c9-96cb-2cf2983419c9  \n",
       "7   8944f932-7278-40c9-96cb-2cf2983419c9  \n",
       "8   8944f932-7278-40c9-96cb-2cf2983419c9  \n",
       "9   8944f932-7278-40c9-96cb-2cf2983419c9  \n",
       "10  8944f932-7278-40c9-96cb-2cf2983419c9  \n",
       "11  8944f932-7278-40c9-96cb-2cf2983419c9  \n",
       "12  8944f932-7278-40c9-96cb-2cf2983419c9  \n",
       "13  8944f932-7278-40c9-96cb-2cf2983419c9  \n",
       "14  8944f932-7278-40c9-96cb-2cf2983419c9  \n",
       "15  8944f932-7278-40c9-96cb-2cf2983419c9  \n",
       "16  8944f932-7278-40c9-96cb-2cf2983419c9  \n",
       "17  8944f932-7278-40c9-96cb-2cf2983419c9  \n",
       "18  8944f932-7278-40c9-96cb-2cf2983419c9  \n",
       "19  8944f932-7278-40c9-96cb-2cf2983419c9  \n",
       "20  8944f932-7278-40c9-96cb-2cf2983419c9  \n",
       "21  8944f932-7278-40c9-96cb-2cf2983419c9  \n",
       "22  8944f932-7278-40c9-96cb-2cf2983419c9  \n",
       "23  8944f932-7278-40c9-96cb-2cf2983419c9  \n",
       "24  8944f932-7278-40c9-96cb-2cf2983419c9  \n",
       "25  8944f932-7278-40c9-96cb-2cf2983419c9  \n",
       "26  8944f932-7278-40c9-96cb-2cf2983419c9  \n",
       "27  8944f932-7278-40c9-96cb-2cf2983419c9  \n",
       "28  8944f932-7278-40c9-96cb-2cf2983419c9  \n",
       "29  8944f932-7278-40c9-96cb-2cf2983419c9  \n",
       "30  8944f932-7278-40c9-96cb-2cf2983419c9  \n",
       "31  8944f932-7278-40c9-96cb-2cf2983419c9  \n",
       "32  8944f932-7278-40c9-96cb-2cf2983419c9  \n",
       "33  8944f932-7278-40c9-96cb-2cf2983419c9  \n",
       "34  8944f932-7278-40c9-96cb-2cf2983419c9  \n",
       "35  8944f932-7278-40c9-96cb-2cf2983419c9  \n",
       "36  8944f932-7278-40c9-96cb-2cf2983419c9  \n",
       "37  8944f932-7278-40c9-96cb-2cf2983419c9  \n",
       "38  8944f932-7278-40c9-96cb-2cf2983419c9  \n",
       "39  8944f932-7278-40c9-96cb-2cf2983419c9  \n",
       "40  8944f932-7278-40c9-96cb-2cf2983419c9  \n",
       "41  8944f932-7278-40c9-96cb-2cf2983419c9  \n",
       "42  8944f932-7278-40c9-96cb-2cf2983419c9  \n",
       "43  8944f932-7278-40c9-96cb-2cf2983419c9  \n",
       "44  8944f932-7278-40c9-96cb-2cf2983419c9  \n",
       "45  8944f932-7278-40c9-96cb-2cf2983419c9  \n",
       "46  8944f932-7278-40c9-96cb-2cf2983419c9  \n",
       "47  8944f932-7278-40c9-96cb-2cf2983419c9  \n",
       "48  8944f932-7278-40c9-96cb-2cf2983419c9  \n",
       "49  8944f932-7278-40c9-96cb-2cf2983419c9  "
      ]
     },
     "execution_count": 40,
     "metadata": {},
     "output_type": "execute_result"
    }
   ],
   "source": [
    "reader = CollectionReader(STANDARD_CLASSIFIER)\n",
    "metadata = reader.df('metadata')\n",
    "logs = reader.df('logs')\n",
    "reader.close()\n",
    "logs"
   ]
  },
  {
   "cell_type": "code",
   "execution_count": 73,
   "metadata": {},
   "outputs": [
    {
     "data": {
      "image/png": "[encoded data removed]",
      "text/plain": [
       "<Figure size 432x288 with 1 Axes>"
      ]
     },
     "metadata": {
      "needs_background": "light"
     },
     "output_type": "display_data"
    },
    {
     "data": {
      "text/plain": [
       "<AxesSubplot:xlabel='epoch', ylabel='train_prec1'>"
      ]
     },
     "execution_count": 73,
     "metadata": {},
     "output_type": "execute_result"
    },
    {
     "data": {
      "image/png": "[encoded data removed]",
      "text/plain": [
       "<Figure size 432x288 with 1 Axes>"
      ]
     },
     "metadata": {
      "needs_background": "light"
     },
     "output_type": "display_data"
    }
   ],
   "source": [
    "sns.lineplot(data=logs, x='epoch', y='train_loss', label='train trunc loss')\n",
    "sns.lineplot(data=logs, x='epoch', y='val_loss', label='val trunc loss')\n",
    "plt.show()\n",
    "\n",
    "sns.lineplot(data=logs, x='epoch', y='train_prec1', label='train trunc acc')\n",
    "sns.lineplot(data=logs, x='epoch', y='val_prec1', label='val trunc acc')"
   ]
  },
  {
   "cell_type": "markdown",
   "metadata": {},
   "source": [
    "# Load Trained Models into Notebook"
   ]
  },
  {
   "cell_type": "code",
   "execution_count": 42,
   "metadata": {},
   "outputs": [
    {
     "name": "stdout",
     "output_type": "stream",
     "text": [
      "=> loading checkpoint '/home/pstefanou/cifar-10/resnet-18/base_calibrated_/e4476e64-c5bb-4d8a-b2bc-299aed256e88/checkpoint.pt.latest'\n",
      "=> loaded checkpoint '/home/pstefanou/cifar-10/resnet-18/base_calibrated_/e4476e64-c5bb-4d8a-b2bc-299aed256e88/checkpoint.pt.latest' (epoch 50)\n",
      "=> loading checkpoint '/home/pstefanou/cifar-10/resnet-18/trunc_ce_step_lr_50epochs/73765c3f-f6fe-42bc-ae4c-be73ada89fe0/checkpoint.pt.latest'\n",
      "=> loaded checkpoint '/home/pstefanou/cifar-10/resnet-18/trunc_ce_step_lr_50epochs/73765c3f-f6fe-42bc-ae4c-be73ada89fe0/checkpoint.pt.latest' (epoch 50)\n",
      "=> loading checkpoint '/home/pstefanou/cifar-10/resnet-18/standard_step_lr_50epochs/8944f932-7278-40c9-96cb-2cf2983419c9/checkpoint.pt.latest'\n",
      "=> loaded checkpoint '/home/pstefanou/cifar-10/resnet-18/standard_step_lr_50epochs/8944f932-7278-40c9-96cb-2cf2983419c9/checkpoint.pt.latest' (epoch 50)\n"
     ]
    }
   ],
   "source": [
    "base, _ = model_utils.make_and_restore_model(arch='resnet18', dataset=ds, resume_path=BASE_CLASSIFIER_PATH)\n",
    "delphi_, _ = model_utils.make_and_restore_model(arch='resnet18', dataset=ds, resume_path=LOGIT_BALL_CLASSIFIER + '/73765c3f-f6fe-42bc-ae4c-be73ada89fe0/checkpoint.pt.latest')\n",
    "standard_model, _ =  model_utils.make_and_restore_model(arch='resnet18', dataset=ds, resume_path=STANDARD_CLASSIFIER + '/8944f932-7278-40c9-96cb-2cf2983419c9/checkpoint.pt.latest')"
   ]
  },
  {
   "cell_type": "markdown",
   "metadata": {},
   "source": [
    "# Test Accuracy"
   ]
  },
  {
   "cell_type": "code",
   "execution_count": 43,
   "metadata": {},
   "outputs": [
    {
     "name": "stdout",
     "output_type": "stream",
     "text": [
      "Logging in: /home/pstefanou/cifar-10/resnet-18/trunc_ce_step_lr_50epochs/c87fbc15-08a2-4267-96c5-33ae7b95fca9\n"
     ]
    }
   ],
   "source": [
    "delphi_store = store.Store(LOGIT_BALL_CLASSIFIER)"
   ]
  },
  {
   "cell_type": "code",
   "execution_count": 44,
   "metadata": {},
   "outputs": [
    {
     "data": {
      "application/vnd.jupyter.widget-view+json": {
       "model_id": "",
       "version_major": 2,
       "version_minor": 0
      },
      "text/plain": [
       "  0%|          | 0/191 [00:00<?, ?it/s]"
      ]
     },
     "metadata": {},
     "output_type": "display_data"
    },
    {
     "name": "stdout",
     "output_type": "stream",
     "text": [
      "delphi unseen results:  {'test_prec1': tensor(67.7979, device='cuda:0'), 'test_loss': 1.7303702126199727, 'time': 4.064807415008545}\n"
     ]
    },
    {
     "data": {
      "application/vnd.jupyter.widget-view+json": {
       "model_id": "",
       "version_major": 2,
       "version_minor": 0
      },
      "text/plain": [
       "  0%|          | 0/79 [00:00<?, ?it/s]"
      ]
     },
     "metadata": {},
     "output_type": "display_data"
    },
    {
     "name": "stdout",
     "output_type": "stream",
     "text": [
      "delphi test results:  {'test_prec1': tensor(75.7000, device='cuda:0'), 'test_loss': 1.2806125955581664, 'time': 1.656463861465454}\n"
     ]
    },
    {
     "data": {
      "application/vnd.jupyter.widget-view+json": {
       "model_id": "",
       "version_major": 2,
       "version_minor": 0
      },
      "text/plain": [
       "  0%|          | 0/188 [00:00<?, ?it/s]"
      ]
     },
     "metadata": {},
     "output_type": "display_data"
    },
    {
     "name": "stdout",
     "output_type": "stream",
     "text": [
      "delphi train results:  {'test_prec1': tensor(99.9833, device='cuda:0'), 'test_loss': 0.003076611882174432, 'time': 3.9223904609680176}\n"
     ]
    },
    {
     "data": {
      "application/vnd.jupyter.widget-view+json": {
       "model_id": "",
       "version_major": 2,
       "version_minor": 0
      },
      "text/plain": [
       "  0%|          | 0/14 [00:00<?, ?it/s]"
      ]
     },
     "metadata": {},
     "output_type": "display_data"
    },
    {
     "name": "stdout",
     "output_type": "stream",
     "text": [
      "delphi val results:  {'test_prec1': tensor(95.8008, device='cuda:0'), 'test_loss': 0.17259477689051045, 'time': 0.734553337097168}\n"
     ]
    }
   ],
   "source": [
    "delphi_unseen_results = train.eval_model(args, delphi_, trunc_test_loader, delphi_store)\n",
    "print(\"delphi unseen results: \", delphi_unseen_results)\n",
    "\n",
    "delphi_test_results = train.eval_model(args, delphi_, test_loader, delphi_store)\n",
    "print(\"delphi test results: \", delphi_test_results)\n",
    "\n",
    "delphi_train_results = train.eval_model(args, delphi_, trunc_train_loader, delphi_store)\n",
    "print(\"delphi train results: \", delphi_train_results)\n",
    "\n",
    "delphi_val_results = train.eval_model(args, delphi_, trunc_val_loader, delphi_store)\n",
    "print(\"delphi val results: \", delphi_val_results)\n",
    "delphi_store.close()"
   ]
  },
  {
   "cell_type": "code",
   "execution_count": 45,
   "metadata": {},
   "outputs": [
    {
     "name": "stdout",
     "output_type": "stream",
     "text": [
      "Logging in: /home/pstefanou/cifar-10/resnet-18/base_calibrated_/82d2b83f-a31f-449f-ac58-c6b127b72b98\n"
     ]
    }
   ],
   "source": [
    "base_store = store.Store(BASE_CLASSIFIER)"
   ]
  },
  {
   "cell_type": "code",
   "execution_count": 46,
   "metadata": {},
   "outputs": [
    {
     "data": {
      "application/vnd.jupyter.widget-view+json": {
       "model_id": "",
       "version_major": 2,
       "version_minor": 0
      },
      "text/plain": [
       "  0%|          | 0/191 [00:00<?, ?it/s]"
      ]
     },
     "metadata": {},
     "output_type": "display_data"
    },
    {
     "name": "stdout",
     "output_type": "stream",
     "text": [
      "base unseen results:  {'test_prec1': tensor(97.7732, device='cuda:0'), 'test_loss': 0.07419560985944265, 'time': 4.054065942764282}\n"
     ]
    },
    {
     "data": {
      "application/vnd.jupyter.widget-view+json": {
       "model_id": "",
       "version_major": 2,
       "version_minor": 0
      },
      "text/plain": [
       "  0%|          | 0/79 [00:00<?, ?it/s]"
      ]
     },
     "metadata": {},
     "output_type": "display_data"
    },
    {
     "name": "stdout",
     "output_type": "stream",
     "text": [
      "base test results:  {'test_prec1': tensor(88.2300, device='cuda:0'), 'test_loss': 0.38766819829940796, 'time': 1.66805100440979}\n"
     ]
    },
    {
     "data": {
      "application/vnd.jupyter.widget-view+json": {
       "model_id": "",
       "version_major": 2,
       "version_minor": 0
      },
      "text/plain": [
       "  0%|          | 0/188 [00:00<?, ?it/s]"
      ]
     },
     "metadata": {},
     "output_type": "display_data"
    },
    {
     "name": "stdout",
     "output_type": "stream",
     "text": [
      "base train results:  {'test_prec1': tensor(100., device='cuda:0'), 'test_loss': 0.00041348976352267516, 'time': 3.870546340942383}\n"
     ]
    },
    {
     "data": {
      "application/vnd.jupyter.widget-view+json": {
       "model_id": "",
       "version_major": 2,
       "version_minor": 0
      },
      "text/plain": [
       "  0%|          | 0/14 [00:00<?, ?it/s]"
      ]
     },
     "metadata": {},
     "output_type": "display_data"
    },
    {
     "name": "stdout",
     "output_type": "stream",
     "text": [
      "base val results:  {'test_prec1': tensor(99.5801, device='cuda:0'), 'test_loss': 0.033390128673861576, 'time': 0.7278604507446289}\n"
     ]
    }
   ],
   "source": [
    "base_unseen_results = train.eval_model(args, base, trunc_test_loader, base_store)\n",
    "print(\"base unseen results: \", base_unseen_results)\n",
    "\n",
    "base_test_results = train.eval_model(args, base, test_loader, base_store)\n",
    "print(\"base test results: \", base_test_results)\n",
    "\n",
    "base_train_results = train.eval_model(args, base, trunc_train_loader, base_store)\n",
    "print(\"base train results: \", base_train_results)\n",
    "\n",
    "base_val_results = train.eval_model(args, base, trunc_val_loader, base_store)\n",
    "print(\"base val results: \", base_val_results)\n",
    "base_store.close()"
   ]
  },
  {
   "cell_type": "code",
   "execution_count": 47,
   "metadata": {},
   "outputs": [
    {
     "name": "stdout",
     "output_type": "stream",
     "text": [
      "Logging in: /home/pstefanou/cifar-10/resnet-18/standard_step_lr_50epochs/8c328021-98f8-47cc-a58a-267767988323\n"
     ]
    }
   ],
   "source": [
    "standard_store = store.Store(STANDARD_CLASSIFIER)"
   ]
  },
  {
   "cell_type": "code",
   "execution_count": 48,
   "metadata": {},
   "outputs": [
    {
     "data": {
      "application/vnd.jupyter.widget-view+json": {
       "model_id": "",
       "version_major": 2,
       "version_minor": 0
      },
      "text/plain": [
       "  0%|          | 0/191 [00:00<?, ?it/s]"
      ]
     },
     "metadata": {},
     "output_type": "display_data"
    },
    {
     "name": "stdout",
     "output_type": "stream",
     "text": [
      "standard unseen results:  {'test_prec1': tensor(70.6204, device='cuda:0'), 'test_loss': 1.4577881422215244, 'time': 4.052046060562134}\n"
     ]
    },
    {
     "data": {
      "application/vnd.jupyter.widget-view+json": {
       "model_id": "",
       "version_major": 2,
       "version_minor": 0
      },
      "text/plain": [
       "  0%|          | 0/79 [00:00<?, ?it/s]"
      ]
     },
     "metadata": {},
     "output_type": "display_data"
    },
    {
     "name": "stdout",
     "output_type": "stream",
     "text": [
      "standard test results:  {'test_prec1': tensor(77.9600, device='cuda:0'), 'test_loss': 1.0855117395401002, 'time': 1.6756796836853027}\n"
     ]
    },
    {
     "data": {
      "application/vnd.jupyter.widget-view+json": {
       "model_id": "",
       "version_major": 2,
       "version_minor": 0
      },
      "text/plain": [
       "  0%|          | 0/188 [00:00<?, ?it/s]"
      ]
     },
     "metadata": {},
     "output_type": "display_data"
    },
    {
     "name": "stdout",
     "output_type": "stream",
     "text": [
      "standard train results:  {'test_prec1': tensor(100., device='cuda:0'), 'test_loss': 2.5264574630418743e-05, 'time': 3.8607800006866455}\n"
     ]
    },
    {
     "data": {
      "application/vnd.jupyter.widget-view+json": {
       "model_id": "",
       "version_major": 2,
       "version_minor": 0
      },
      "text/plain": [
       "  0%|          | 0/14 [00:00<?, ?it/s]"
      ]
     },
     "metadata": {},
     "output_type": "display_data"
    },
    {
     "name": "stdout",
     "output_type": "stream",
     "text": [
      "standard val results:  {'test_prec1': tensor(96.1608, device='cuda:0'), 'test_loss': 0.14822543228804774, 'time': 0.7266895771026611}\n"
     ]
    }
   ],
   "source": [
    "standard_unseen_results = train.eval_model(args, standard_model, trunc_test_loader, standard_store)\n",
    "print(\"standard unseen results: \", standard_unseen_results)\n",
    "\n",
    "standard_test_results = train.eval_model(args, standard_model, test_loader, standard_store)\n",
    "print(\"standard test results: \", standard_test_results)\n",
    "\n",
    "standard_train_results = train.eval_model(args, standard_model, trunc_train_loader, standard_store)\n",
    "print(\"standard train results: \", standard_train_results)\n",
    "\n",
    "standard_val_results = train.eval_model(args, standard_model, trunc_val_loader, standard_store)\n",
    "print(\"standard val results: \", standard_val_results)\n",
    "standard_store.close()"
   ]
  },
  {
   "cell_type": "code",
   "execution_count": 49,
   "metadata": {},
   "outputs": [
    {
     "name": "stdout",
     "output_type": "stream",
     "text": [
      "Logging in: /home/pstefanou/cifar-10/resnet-18/trunc_ce_step_lr_50epochs/e9b23382-a21a-42c6-9982-65488d3b1835\n"
     ]
    }
   ],
   "source": [
    "delphi_store = store.Store(LOGIT_BALL_CLASSIFIER)"
   ]
  },
  {
   "cell_type": "code",
   "execution_count": 50,
   "metadata": {},
   "outputs": [],
   "source": [
    "delphi_store.close()"
   ]
  },
  {
   "cell_type": "code",
   "execution_count": 51,
   "metadata": {},
   "outputs": [
    {
     "name": "stderr",
     "output_type": "stream",
     "text": [
      "100%|██████████| 3/3 [00:00<00:00, 104.33it/s]\n"
     ]
    }
   ],
   "source": [
    "reader = CollectionReader(LOGIT_BALL_CLASSIFIER)"
   ]
  },
  {
   "cell_type": "code",
   "execution_count": 53,
   "metadata": {},
   "outputs": [
    {
     "name": "stdout",
     "output_type": "stream",
     "text": [
      "Warning: exp_id e9b23382-a21a-42c6-9982-65488d3b1835 has no table 'eval'. Skipping.\n",
      "Warning: exp_id 73765c3f-f6fe-42bc-ae4c-be73ada89fe0 has no table 'eval'. Skipping.\n"
     ]
    },
    {
     "data": {
      "text/plain": [
       "4"
      ]
     },
     "execution_count": 53,
     "metadata": {},
     "output_type": "execute_result"
    }
   ],
   "source": []
  }
 ],
 "metadata": {
  "kernelspec": {
   "display_name": "Python [conda env:root] *",
   "language": "python",
   "name": "conda-root-py"
  },
  "language_info": {
   "codemirror_mode": {
    "name": "ipython",
    "version": 3
   },
   "file_extension": ".py",
   "mimetype": "text/x-python",
   "name": "python",
   "nbconvert_exporter": "python",
   "pygments_lexer": "ipython3",
   "version": "3.8.5"
  },
  "latex_envs": {
   "LaTeX_envs_menu_present": true,
   "autoclose": false,
   "autocomplete": true,
   "bibliofile": "biblio.bib",
   "cite_by": "apalike",
   "current_citInitial": 1,
   "eqLabelWithNumbers": true,
   "eqNumInitial": 1,
   "hotkeys": {
    "equation": "Ctrl-E",
    "itemize": "Ctrl-I"
   },
   "labels_anchors": false,
   "latex_user_defs": false,
   "report_style_numbering": false,
   "user_envs_cfg": false
  },
  "toc": {
   "base_numbering": 1,
   "nav_menu": {},
   "number_sections": true,
   "sideBar": true,
   "skip_h1_title": false,
   "title_cell": "Table of Contents",
   "title_sidebar": "Contents",
   "toc_cell": false,
   "toc_position": {},
   "toc_section_display": true,
   "toc_window_display": false
  },
  "varInspector": {
   "cols": {
    "lenName": 16,
    "lenType": 16,
    "lenVar": 40
   },
   "kernels_config": {
    "python": {
     "delete_cmd_postfix": "",
     "delete_cmd_prefix": "del ",
     "library": "var_list.py",
     "varRefreshCmd": "print(var_dic_list())"
    },
    "r": {
     "delete_cmd_postfix": ") ",
     "delete_cmd_prefix": "rm(",
     "library": "var_list.r",
     "varRefreshCmd": "cat(var_dic_list()) "
    }
   },
   "types_to_exclude": [
    "module",
    "function",
    "builtin_function_or_method",
    "instance",
    "_Feature"
   ],
   "window_display": false
  }
 },
 "nbformat": 4,
 "nbformat_minor": 2
}
