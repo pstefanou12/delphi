{
 "cells": [
  {
   "cell_type": "code",
   "execution_count": 24,
   "metadata": {},
   "outputs": [],
   "source": [
    "import torchvision \n",
    "from torchvision import transforms\n",
    "from torch.utils.data import DataLoader\n",
    "import torch as ch\n",
    "import torch.nn as nn\n",
    "import math\n",
    "import matplotlib.pyplot as plt\n",
    "import cox\n",
    "from cox.utils import Parameters\n",
    "import cox.store as store\n",
    "from cox.readers import CollectionReader\n",
    "import seaborn as sns\n",
    "import os\n",
    "import seaborn as sns\n",
    "import matplotlib.pyplot as plt\n",
    "\n",
    "# set environment variable so that stores can create output files\n",
    "os.environ['HDF5_USE_FILE_LOCKING'] = 'FALSE'\n",
    "\n",
    "TRUNC_CE_CONSTANT_LR = '/home/gridsan/stefanou/cifar-10/resnet-18/trunc_ce_constant'\n",
    "TRUNC_CE_CYCLIC = '/home/gridsan/stefanou/cifar-10/resnet-18/trunc_ce_cyclic'\n",
    "TRUNC_CE_COSINE = '/home/gridsan/stefanou/cifar-10/resnet-18/trunc_ce_cosine'\n",
    "TRUNC_CE_STEP_LR = '/home/gridsan/stefanou/cifar-10/resnet-18/trunc_ce_step_lr'\n",
    "TRUNC_CE_STEP_LR_REAL = '/home/gridsan/stefanou/cifar-10/resnet-18/trunc_ce_step_lr_real'\n",
    "\n",
    "CE_CONSTANT_LR = '/home/gridsan/stefanou/cifar-10/resnet-18/ce_constant'\n",
    "CE_CYCLIC = '/home/gridsan/stefanou/cifar-10/resnet-18/ce_cyclic'\n",
    "CE_COSINE = '/home/gridsan/stefanou/cifar-10/resnet-18/ce_cosine'\n",
    "CE_STEP_LR = '/home/gridsan/stefanou/cifar-10/resnet-18/ce_step_lr'\n",
    "CE_STEP_LR_REAL = '/home/gridsan/stefanou/cifar-10/resnet-18/ce_step_lr_real'"
   ]
  },
  {
   "cell_type": "code",
   "execution_count": null,
   "metadata": {},
   "outputs": [],
   "source": [
    "model_utils.make_and_restore_model(arch='resnet50', dataset=ds, resume_path=BASE_CLASSIFIER_PATH + '15033fc8-d094-461c-b5eb-7fef776f23ec/checkpoint.pt.best')"
   ]
  },
  {
   "cell_type": "code",
   "execution_count": 4,
   "metadata": {},
   "outputs": [
    {
     "name": "stderr",
     "output_type": "stream",
     "text": [
      "100%|██████████| 32/32 [00:00<00:00, 43.18it/s]\n"
     ]
    }
   ],
   "source": [
    "ce_reader = CollectionReader(CE_CONSTANT_LR)\n",
    "trunc_reader = CollectionReader(TRUNC_CE_CONSTANT_LR)"
   ]
  },
  {
   "cell_type": "code",
   "execution_count": 8,
   "metadata": {},
   "outputs": [
    {
     "name": "stdout",
     "output_type": "stream",
     "text": [
      "Warning: exp_id e3ac6f6b-92bd-4f81-b806-2f8cc1190397 has no table 'logs'. Skipping.\n",
      "Warning: exp_id c1d35d10-7f7e-415a-98bb-4ae084bf3416 has no table 'logs'. Skipping.\n",
      "Warning: exp_id 0c61fc1a-da89-4b3f-a20c-69deed0dd5b8 has no table 'logs'. Skipping.\n",
      "Warning: exp_id b0b5819a-7f11-4848-9dc1-69a180b50a64 has no table 'logs'. Skipping.\n",
      "Warning: exp_id 284da463-e4d3-47e5-8b2d-9a9999b562bd has no table 'logs'. Skipping.\n"
     ]
    }
   ],
   "source": [
    "ce_logs = ce_reader.df('logs')\n",
    "trunc_logs = trunc_reader.df('logs')\n",
    "ce_metadata = ce_reader.df('metadata')\n",
    "trunc_metadata = trunc_reader.df('metadata')"
   ]
  },
  {
   "cell_type": "code",
   "execution_count": 31,
   "metadata": {},
   "outputs": [],
   "source": [
    "LR = [1e-1, 1e-2, 1e-3]"
   ]
  },
  {
   "cell_type": "code",
   "execution_count": 16,
   "metadata": {},
   "outputs": [],
   "source": [
    "ce_exp_id = ce_metadata[ce_metadata['lr'] == LR]['exp_id']\n",
    "ce_exp_logs = ce_logs[ce_logs.exp_id.isin(ce_exp_id)]"
   ]
  },
  {
   "cell_type": "code",
   "execution_count": 21,
   "metadata": {},
   "outputs": [],
   "source": [
    "trunc_exp_id = trunc_metadata[trunc_metadata['lr'] == LR]['exp_id']\n",
    "trunc_exp_logs = trunc_logs[trunc_logs.exp_id.isin(trunc_exp_id)]"
   ]
  },
  {
   "cell_type": "code",
   "execution_count": 47,
   "metadata": {},
   "outputs": [],
   "source": [
    "def plot(ce_metadata, ce_logs, trunc_metadata, trunc_logs, type_):\n",
    "    fig = plt.figure()\n",
    "    fig.set_figheight(10)\n",
    "    fig.set_figwidth(15)\n",
    "    for i, lr in enumerate(LR):\n",
    "        ce_exp_id = ce_metadata[ce_metadata['lr'] == lr]['exp_id']\n",
    "        ce_exp_logs = ce_logs[ce_logs.exp_id.isin(ce_exp_id)]\n",
    "\n",
    "        trunc_exp_id = trunc_metadata[trunc_metadata['lr'] == lr]['exp_id']\n",
    "        trunc_exp_logs = trunc_logs[trunc_logs.exp_id.isin(trunc_exp_id)]\n",
    "\n",
    "        fig.add_subplot(2, 3, i + 1)\n",
    "        sns.lineplot(data=ce_exp_logs, x='epoch', y='train_loss', label='ce train loss')\n",
    "        sns.lineplot(data=ce_exp_logs, x='epoch', y='val_loss', label='ce val loss')\n",
    "\n",
    "        sns.lineplot(data=trunc_exp_logs, x='epoch', y='train_loss', label='trunc ce train loss')\n",
    "        sns.lineplot(data=trunc_exp_logs, x='epoch', y='val_loss', label='trunc val loss')\n",
    "        plt.title('{} LR: {} Loss Curves'.format(type_, lr))\n",
    "\n",
    "        fig.add_subplot(2, 3, i + 4)\n",
    "\n",
    "        sns.lineplot(data=ce_exp_logs, x='epoch', y='train_prec1', label='ce train prec1')\n",
    "        sns.lineplot(data=ce_exp_logs, x='epoch', y='val_prec1', label='ce val prec1')\n",
    "\n",
    "        sns.lineplot(data=trunc_exp_logs, x='epoch', y='train_prec1', label='trunc ce train prec1')\n",
    "        sns.lineplot(data=trunc_exp_logs, x='epoch', y='val_prec1', label='trunc val prec1')\n",
    "        plt.title('{} LR: {} Prec1 Curves'.format(type_, lr))\n",
    "    plt.tight_layout()\n",
    "    plt.show()"
   ]
  },
  {
   "cell_type": "code",
   "execution_count": null,
   "metadata": {},
   "outputs": [],
   "source": [
    "plot(ce_metadata, ce_logs, trunc_metadata, trunc_logs, 'Constant')"
   ]
  },
  {
   "cell_type": "code",
   "execution_count": null,
   "metadata": {},
   "outputs": [],
   "source": []
  }
 ],
 "metadata": {
  "kernelspec": {
   "display_name": "Python 3",
   "language": "python",
   "name": "python3"
  },
  "language_info": {
   "codemirror_mode": {
    "name": "ipython",
    "version": 3
   },
   "file_extension": ".py",
   "mimetype": "text/x-python",
   "name": "python",
   "nbconvert_exporter": "python",
   "pygments_lexer": "ipython3",
   "version": "3.8.5"
  },
  "latex_envs": {
   "LaTeX_envs_menu_present": true,
   "autoclose": false,
   "autocomplete": true,
   "bibliofile": "biblio.bib",
   "cite_by": "apalike",
   "current_citInitial": 1,
   "eqLabelWithNumbers": true,
   "eqNumInitial": 1,
   "hotkeys": {
    "equation": "Ctrl-E",
    "itemize": "Ctrl-I"
   },
   "labels_anchors": false,
   "latex_user_defs": false,
   "report_style_numbering": false,
   "user_envs_cfg": false
  },
  "toc": {
   "base_numbering": 1,
   "nav_menu": {},
   "number_sections": true,
   "sideBar": true,
   "skip_h1_title": false,
   "title_cell": "Table of Contents",
   "title_sidebar": "Contents",
   "toc_cell": false,
   "toc_position": {},
   "toc_section_display": true,
   "toc_window_display": false
  },
  "varInspector": {
   "cols": {
    "lenName": 16,
    "lenType": 16,
    "lenVar": 40
   },
   "kernels_config": {
    "python": {
     "delete_cmd_postfix": "",
     "delete_cmd_prefix": "del ",
     "library": "var_list.py",
     "varRefreshCmd": "print(var_dic_list())"
    },
    "r": {
     "delete_cmd_postfix": ") ",
     "delete_cmd_prefix": "rm(",
     "library": "var_list.r",
     "varRefreshCmd": "cat(var_dic_list()) "
    }
   },
   "types_to_exclude": [
    "module",
    "function",
    "builtin_function_or_method",
    "instance",
    "_Feature"
   ],
   "window_display": false
  }
 },
 "nbformat": 4,
 "nbformat_minor": 2
}
