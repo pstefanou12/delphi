{
 "cells": [
  {
   "cell_type": "code",
   "execution_count": 1,
   "metadata": {},
   "outputs": [],
   "source": [
    "import sys\n",
    "sys.path.append('../..')\n",
    "import torchvision \n",
    "from torchvision import transforms\n",
    "from torch.utils.data import DataLoader\n",
    "import torch as ch\n",
    "import torch.nn as nn\n",
    "import math\n",
    "import matplotlib.pyplot as plt\n",
    "import cox\n",
    "from cox.utils import Parameters\n",
    "import cox.store as store\n",
    "from cox.readers import CollectionReader\n",
    "import seaborn as sns\n",
    "import pickle\n",
    "import os\n",
    "\n",
    "from delphi import train\n",
    "from delphi.imagenet_models import vgg11\n",
    "from delphi.utils import model_utils\n",
    "from delphi.utils.datasets import ImageNet\n",
    "import delphi.utils.constants as consts\n",
    "import delphi.utils.data_augmentation as da\n",
    "from delphi.utils.helpers import setup_store_with_metadata\n",
    "\n",
    "# set environment variable so that stores can create output files\n",
    "os.environ['HDF5_USE_FILE_LOCKING'] = 'FALSE'"
   ]
  },
  {
   "cell_type": "markdown",
   "metadata": {},
   "source": [
    "# Constants"
   ]
  },
  {
   "cell_type": "code",
   "execution_count": 2,
   "metadata": {},
   "outputs": [],
   "source": [
    "BASE_CLASSIFIER_PATH = '/home/gridsan/stefanou/VGG-11-IMAGENET/'"
   ]
  },
  {
   "cell_type": "markdown",
   "metadata": {},
   "source": [
    "# Experiment Hyperparameters"
   ]
  },
  {
   "cell_type": "code",
   "execution_count": 3,
   "metadata": {},
   "outputs": [
    {
     "data": {
      "text/plain": [
       "{\n",
       "  \"epochs\": 1,\n",
       "  \"num_workers\": 8,\n",
       "  \"batch_size\": 128,\n",
       "  \"lr\": 0.1,\n",
       "  \"momentum\": 0.9,\n",
       "  \"weight_decay\": 0.0005,\n",
       "  \"save_ckpt_iters\": 50,\n",
       "  \"should_save_ckpt\": true,\n",
       "  \"log_iters\": 1,\n",
       "  \"custom_lr_multiplier\": \"cosine\",\n",
       "  \"validation_split\": 0.8,\n",
       "  \"shuffle\": true,\n",
       "  \"device\": \"cuda\"\n",
       "}"
      ]
     },
     "execution_count": 3,
     "metadata": {},
     "output_type": "execute_result"
    }
   ],
   "source": [
    "args = Parameters({ \n",
    "    'epochs': 1,\n",
    "    'num_workers': 8, \n",
    "    'batch_size': 128, \n",
    "    'lr': 1e-1, \n",
    "    'momentum': .9, \n",
    "    'weight_decay': 5e-4, \n",
    "    'save_ckpt_iters': 50,\n",
    "    'should_save_ckpt': True,\n",
    "    'log_iters': 1,\n",
    "    'custom_lr_multiplier': consts.COSINE, \n",
    "    'validation_split': .8,\n",
    "    'shuffle': True,\n",
    "})\n",
    "if ch.cuda.is_available(): \n",
    "    args.__setattr__('device', 'cuda')\n",
    "args"
   ]
  },
  {
   "cell_type": "markdown",
   "metadata": {},
   "source": [
    "# Setup and Explore Dataset"
   ]
  },
  {
   "cell_type": "code",
   "execution_count": 4,
   "metadata": {
    "scrolled": false
   },
   "outputs": [
    {
     "name": "stdout",
     "output_type": "stream",
     "text": [
      "==> Preparing dataset imagenet..\n"
     ]
    }
   ],
   "source": [
    "ds = ImageNet(data_path='/home/gridsan/stefanou/ILSVRC')\n",
    "model, _ = model_utils.make_and_restore_model(arch='vgg11', dataset=ds)\n",
    "train_loader, val_loader = ds.make_loaders(batch_size=128, workers=8)"
   ]
  },
  {
   "cell_type": "markdown",
   "metadata": {},
   "source": [
    "# Setup Store and Train Model"
   ]
  },
  {
   "cell_type": "code",
   "execution_count": 5,
   "metadata": {},
   "outputs": [
    {
     "name": "stdout",
     "output_type": "stream",
     "text": [
      "Logging in: /home/gridsan/stefanou/VGG-11-IMAGENET/b22ff0f1-c99c-4308-991c-1545e1198955\n"
     ]
    }
   ],
   "source": [
    "# logging store\n",
    "out_store = store.Store(BASE_CLASSIFIER_PATH)\n",
    "setup_store_with_metadata(args, out_store)"
   ]
  },
  {
   "cell_type": "code",
   "execution_count": 6,
   "metadata": {
    "scrolled": true
   },
   "outputs": [
    {
     "data": {
      "application/vnd.jupyter.widget-view+json": {
       "model_id": "ae81aceae07a4fd1a1cadadabcba896b",
       "version_major": 2,
       "version_minor": 0
      },
      "text/plain": [
       "  0%|          | 0/4193 [00:00<?, ?it/s]"
      ]
     },
     "metadata": {},
     "output_type": "display_data"
    },
    {
     "ename": "KeyboardInterrupt",
     "evalue": "",
     "output_type": "error",
     "traceback": [
      "\u001b[0;31m---------------------------------------------------------------------------\u001b[0m",
      "\u001b[0;31mKeyboardInterrupt\u001b[0m                         Traceback (most recent call last)",
      "\u001b[0;32m<ipython-input-6-176f52548d96>\u001b[0m in \u001b[0;36m<module>\u001b[0;34m\u001b[0m\n\u001b[1;32m      1\u001b[0m \u001b[0;31m# train\u001b[0m\u001b[0;34m\u001b[0m\u001b[0;34m\u001b[0m\u001b[0;34m\u001b[0m\u001b[0m\n\u001b[0;32m----> 2\u001b[0;31m \u001b[0mfinal_model\u001b[0m \u001b[0;34m=\u001b[0m \u001b[0mtrain\u001b[0m\u001b[0;34m.\u001b[0m\u001b[0mtrain_model\u001b[0m\u001b[0;34m(\u001b[0m\u001b[0margs\u001b[0m\u001b[0;34m,\u001b[0m \u001b[0mmodel\u001b[0m\u001b[0;34m,\u001b[0m \u001b[0;34m(\u001b[0m\u001b[0mtrain_loader\u001b[0m\u001b[0;34m,\u001b[0m \u001b[0mval_loader\u001b[0m\u001b[0;34m)\u001b[0m\u001b[0;34m,\u001b[0m \u001b[0mstore\u001b[0m\u001b[0;34m=\u001b[0m\u001b[0mout_store\u001b[0m\u001b[0;34m,\u001b[0m \u001b[0mdevice\u001b[0m\u001b[0;34m=\u001b[0m\u001b[0margs\u001b[0m\u001b[0;34m.\u001b[0m\u001b[0mdevice\u001b[0m\u001b[0;34m)\u001b[0m\u001b[0;34m\u001b[0m\u001b[0;34m\u001b[0m\u001b[0m\n\u001b[0m",
      "\u001b[0;32m~/delphi/delphi/train.py\u001b[0m in \u001b[0;36mtrain_model\u001b[0;34m(args, model, loaders, checkpoint, device, dp_device_ids, store, update_params, disable_no_grad)\u001b[0m\n\u001b[1;32m    132\u001b[0m     \u001b[0mstart_time\u001b[0m \u001b[0;34m=\u001b[0m \u001b[0mtime\u001b[0m\u001b[0;34m.\u001b[0m\u001b[0mtime\u001b[0m\u001b[0;34m(\u001b[0m\u001b[0;34m)\u001b[0m\u001b[0;34m\u001b[0m\u001b[0;34m\u001b[0m\u001b[0m\n\u001b[1;32m    133\u001b[0m     \u001b[0;32mfor\u001b[0m \u001b[0mepoch\u001b[0m \u001b[0;32min\u001b[0m \u001b[0mrange\u001b[0m\u001b[0;34m(\u001b[0m\u001b[0mstart_epoch\u001b[0m\u001b[0;34m,\u001b[0m \u001b[0margs\u001b[0m\u001b[0;34m.\u001b[0m\u001b[0mepochs\u001b[0m\u001b[0;34m)\u001b[0m\u001b[0;34m:\u001b[0m\u001b[0;34m\u001b[0m\u001b[0;34m\u001b[0m\u001b[0m\n\u001b[0;32m--> 134\u001b[0;31m         \u001b[0mtrain_prec1\u001b[0m\u001b[0;34m,\u001b[0m \u001b[0mtrain_loss\u001b[0m\u001b[0;34m,\u001b[0m \u001b[0mscore\u001b[0m \u001b[0;34m=\u001b[0m \u001b[0mmodel_loop\u001b[0m\u001b[0;34m(\u001b[0m\u001b[0margs\u001b[0m\u001b[0;34m,\u001b[0m \u001b[0;34m'train'\u001b[0m\u001b[0;34m,\u001b[0m \u001b[0mtrain_loader\u001b[0m\u001b[0;34m,\u001b[0m \u001b[0mmodel\u001b[0m\u001b[0;34m,\u001b[0m \u001b[0moptimizer\u001b[0m\u001b[0;34m,\u001b[0m \u001b[0mepoch\u001b[0m\u001b[0;34m+\u001b[0m\u001b[0;36m1\u001b[0m\u001b[0;34m,\u001b[0m \u001b[0mwriter\u001b[0m\u001b[0;34m,\u001b[0m \u001b[0mdevice\u001b[0m\u001b[0;34m=\u001b[0m\u001b[0mdevice\u001b[0m\u001b[0;34m)\u001b[0m\u001b[0;34m\u001b[0m\u001b[0;34m\u001b[0m\u001b[0m\n\u001b[0m\u001b[1;32m    135\u001b[0m \u001b[0;34m\u001b[0m\u001b[0m\n\u001b[1;32m    136\u001b[0m         \u001b[0;31m# check score tolerance\u001b[0m\u001b[0;34m\u001b[0m\u001b[0;34m\u001b[0m\u001b[0;34m\u001b[0m\u001b[0m\n",
      "\u001b[0;32m~/delphi/delphi/train.py\u001b[0m in \u001b[0;36mmodel_loop\u001b[0;34m(args, loop_type, loader, model, optimizer, epoch, writer, device)\u001b[0m\n\u001b[1;32m    276\u001b[0m             \u001b[0;31m# regression with unknown variance\u001b[0m\u001b[0;34m\u001b[0m\u001b[0;34m\u001b[0m\u001b[0;34m\u001b[0m\u001b[0m\n\u001b[1;32m    277\u001b[0m             \u001b[0;32melif\u001b[0m \u001b[0minp\u001b[0m \u001b[0;32mis\u001b[0m \u001b[0;32mnot\u001b[0m \u001b[0;32mNone\u001b[0m\u001b[0;34m:\u001b[0m\u001b[0;34m\u001b[0m\u001b[0;34m\u001b[0m\u001b[0m\n\u001b[0;32m--> 278\u001b[0;31m                 \u001b[0mlosses\u001b[0m\u001b[0;34m.\u001b[0m\u001b[0mupdate\u001b[0m\u001b[0;34m(\u001b[0m\u001b[0mloss\u001b[0m\u001b[0;34m.\u001b[0m\u001b[0mitem\u001b[0m\u001b[0;34m(\u001b[0m\u001b[0;34m)\u001b[0m\u001b[0;34m,\u001b[0m \u001b[0minp\u001b[0m\u001b[0;34m.\u001b[0m\u001b[0msize\u001b[0m\u001b[0;34m(\u001b[0m\u001b[0;36m0\u001b[0m\u001b[0;34m)\u001b[0m\u001b[0;34m)\u001b[0m\u001b[0;34m\u001b[0m\u001b[0;34m\u001b[0m\u001b[0m\n\u001b[0m\u001b[1;32m    279\u001b[0m                 \u001b[0;31m# calculate score\u001b[0m\u001b[0;34m\u001b[0m\u001b[0;34m\u001b[0m\u001b[0;34m\u001b[0m\u001b[0m\n\u001b[1;32m    280\u001b[0m                 \u001b[0;32mif\u001b[0m \u001b[0;32mnot\u001b[0m \u001b[0margs\u001b[0m\u001b[0;34m.\u001b[0m\u001b[0mvar\u001b[0m \u001b[0;32mand\u001b[0m \u001b[0margs\u001b[0m\u001b[0;34m.\u001b[0m\u001b[0mscore\u001b[0m\u001b[0;34m:\u001b[0m  \u001b[0;31m# unknown variance\u001b[0m\u001b[0;34m\u001b[0m\u001b[0;34m\u001b[0m\u001b[0m\n",
      "\u001b[0;31mKeyboardInterrupt\u001b[0m: "
     ]
    }
   ],
   "source": [
    "# train\n",
    "final_model = train.train_model(args, model, (train_loader, val_loader), store=out_store, device=args.device)"
   ]
  },
  {
   "cell_type": "code",
   "execution_count": null,
   "metadata": {},
   "outputs": [],
   "source": [
    "reader = CollectionReader(BASE_CLASSIFIER_PATH)\n",
    "metadata = reader.df('metadata')\n",
    "logs = reader.df('logs')\n",
    "reader.close()\n",
    "logs.head()"
   ]
  },
  {
   "cell_type": "markdown",
   "metadata": {},
   "source": [
    "# Accuracy and Loss Curves"
   ]
  },
  {
   "cell_type": "code",
   "execution_count": null,
   "metadata": {},
   "outputs": [],
   "source": [
    "sns.lineplot(data=logs, x='epoch', y='val_prec1', label='val_prec1', color='b')\n",
    "ax = sns.lineplot(data=logs, x='epoch', y='train_prec1', label='train_prec1', color='r')\n",
    "ax.set(xlabel='Epoch', ylabel='Accuracy')\n",
    "plt.show()\n",
    "\n",
    "sns.lineplot(data=logs, x='epoch', y='val_loss', label='val_loss', color='b')\n",
    "ax = sns.lineplot(data=logs, x='epoch', y='train_loss', label='train_loss', color='r')\n",
    "ax.set(xlabel='Epoch', ylabel='Loss')"
   ]
  },
  {
   "cell_type": "markdown",
   "metadata": {},
   "source": [
    "# Load in Model"
   ]
  },
  {
   "cell_type": "code",
   "execution_count": 11,
   "metadata": {},
   "outputs": [
    {
     "name": "stdout",
     "output_type": "stream",
     "text": [
      "=> loading checkpoint '/home/pstefanou/VGG-11-CIFAR-10/15033fc8-d094-461c-b5eb-7fef776f23ec/checkpoint.pt.best'\n"
     ]
    },
    {
     "ename": "RuntimeError",
     "evalue": "Error(s) in loading state_dict for AttackerModel:\n\tMissing key(s) in state_dict: \"normalizer.new_mean\", \"normalizer.new_std\", \"model.features.0.weight\", \"model.features.0.bias\", \"model.features.1.weight\", \"model.features.1.bias\", \"model.features.1.running_mean\", \"model.features.1.running_var\", \"model.features.4.weight\", \"model.features.4.bias\", \"model.features.5.weight\", \"model.features.5.bias\", \"model.features.5.running_mean\", \"model.features.5.running_var\", \"model.features.8.weight\", \"model.features.8.bias\", \"model.features.9.weight\", \"model.features.9.bias\", \"model.features.9.running_mean\", \"model.features.9.running_var\", \"model.features.11.weight\", \"model.features.11.bias\", \"model.features.12.weight\", \"model.features.12.bias\", \"model.features.12.running_mean\", \"model.features.12.running_var\", \"model.features.15.weight\", \"model.features.15.bias\", \"model.features.16.weight\", \"model.features.16.bias\", \"model.features.16.running_mean\", \"model.features.16.running_var\", \"model.features.18.weight\", \"model.features.18.bias\", \"model.features.19.weight\", \"model.features.19.bias\", \"model.features.19.running_mean\", \"model.features.19.running_var\", \"model.features.22.weight\", \"model.features.22.bias\", \"model.features.23.weight\", \"model.features.23.bias\", \"model.features.23.running_mean\", \"model.features.23.running_var\", \"model.features.25.weight\", \"model.features.25.bias\", \"model.features.26.weight\", \"model.features.26.bias\", \"model.features.26.running_mean\", \"model.features.26.running_var\", \"model.classifier.weight\", \"model.classifier.bias\", \"attacker.normalize.new_mean\", \"attacker.normalize.new_std\", \"attacker.model.features.0.weight\", \"attacker.model.features.0.bias\", \"attacker.model.features.1.weight\", \"attacker.model.features.1.bias\", \"attacker.model.features.1.running_mean\", \"attacker.model.features.1.running_var\", \"attacker.model.features.4.weight\", \"attacker.model.features.4.bias\", \"attacker.model.features.5.weight\", \"attacker.model.features.5.bias\", \"attacker.model.features.5.running_mean\", \"attacker.model.features.5.running_var\", \"attacker.model.features.8.weight\", \"attacker.model.features.8.bias\", \"attacker.model.features.9.weight\", \"attacker.model.features.9.bias\", \"attacker.model.features.9.running_mean\", \"attacker.model.features.9.running_var\", \"attacker.model.features.11.weight\", \"attacker.model.features.11.bias\", \"attacker.model.features.12.weight\", \"attacker.model.features.12.bias\", \"attacker.model.features.12.running_mean\", \"attacker.model.features.12.running_var\", \"attacker.model.features.15.weight\", \"attacker.model.features.15.bias\", \"attacker.model.features.16.weight\", \"attacker.model.features.16.bias\", \"attacker.model.features.16.running_mean\", \"attacker.model.features.16.running_var\", \"attacker.model.features.18.weight\", \"attacker.model.features.18.bias\", \"attacker.model.features.19.weight\", \"attacker.model.features.19.bias\", \"attacker.model.features.19.running_mean\", \"attacker.model.features.19.running_var\", \"attacker.model.features.22.weight\", \"attacker.model.features.22.bias\", \"attacker.model.features.23.weight\", \"attacker.model.features.23.bias\", \"attacker.model.features.23.running_mean\", \"attacker.model.features.23.running_var\", \"attacker.model.features.25.weight\", \"attacker.model.features.25.bias\", \"attacker.model.features.26.weight\", \"attacker.model.features.26.bias\", \"attacker.model.features.26.running_mean\", \"attacker.model.features.26.running_var\", \"attacker.model.classifier.weight\", \"attacker.model.classifier.bias\". \n\tUnexpected key(s) in state_dict: \"zer.new_mean\", \"zer.new_std\", \"eatures.0.weight\", \"eatures.0.bias\", \"eatures.1.weight\", \"eatures.1.bias\", \"eatures.1.running_mean\", \"eatures.1.running_var\", \"eatures.1.num_batches_tracked\", \"eatures.4.weight\", \"eatures.4.bias\", \"eatures.5.weight\", \"eatures.5.bias\", \"eatures.5.running_mean\", \"eatures.5.running_var\", \"eatures.5.num_batches_tracked\", \"eatures.8.weight\", \"eatures.8.bias\", \"eatures.9.weight\", \"eatures.9.bias\", \"eatures.9.running_mean\", \"eatures.9.running_var\", \"eatures.9.num_batches_tracked\", \"eatures.11.weight\", \"eatures.11.bias\", \"eatures.12.weight\", \"eatures.12.bias\", \"eatures.12.running_mean\", \"eatures.12.running_var\", \"eatures.12.num_batches_tracked\", \"eatures.15.weight\", \"eatures.15.bias\", \"eatures.16.weight\", \"eatures.16.bias\", \"eatures.16.running_mean\", \"eatures.16.running_var\", \"eatures.16.num_batches_tracked\", \"eatures.18.weight\", \"eatures.18.bias\", \"eatures.19.weight\", \"eatures.19.bias\", \"eatures.19.running_mean\", \"eatures.19.running_var\", \"eatures.19.num_batches_tracked\", \"eatures.22.weight\", \"eatures.22.bias\", \"eatures.23.weight\", \"eatures.23.bias\", \"eatures.23.running_mean\", \"eatures.23.running_var\", \"eatures.23.num_batches_tracked\", \"eatures.25.weight\", \"eatures.25.bias\", \"eatures.26.weight\", \"eatures.26.bias\", \"eatures.26.running_mean\", \"eatures.26.running_var\", \"eatures.26.num_batches_tracked\", \"lassifier.weight\", \"lassifier.bias\", \"r.normalize.new_mean\", \"r.normalize.new_std\", \"r.model.features.0.weight\", \"r.model.features.0.bias\", \"r.model.features.1.weight\", \"r.model.features.1.bias\", \"r.model.features.1.running_mean\", \"r.model.features.1.running_var\", \"r.model.features.1.num_batches_tracked\", \"r.model.features.4.weight\", \"r.model.features.4.bias\", \"r.model.features.5.weight\", \"r.model.features.5.bias\", \"r.model.features.5.running_mean\", \"r.model.features.5.running_var\", \"r.model.features.5.num_batches_tracked\", \"r.model.features.8.weight\", \"r.model.features.8.bias\", \"r.model.features.9.weight\", \"r.model.features.9.bias\", \"r.model.features.9.running_mean\", \"r.model.features.9.running_var\", \"r.model.features.9.num_batches_tracked\", \"r.model.features.11.weight\", \"r.model.features.11.bias\", \"r.model.features.12.weight\", \"r.model.features.12.bias\", \"r.model.features.12.running_mean\", \"r.model.features.12.running_var\", \"r.model.features.12.num_batches_tracked\", \"r.model.features.15.weight\", \"r.model.features.15.bias\", \"r.model.features.16.weight\", \"r.model.features.16.bias\", \"r.model.features.16.running_mean\", \"r.model.features.16.running_var\", \"r.model.features.16.num_batches_tracked\", \"r.model.features.18.weight\", \"r.model.features.18.bias\", \"r.model.features.19.weight\", \"r.model.features.19.bias\", \"r.model.features.19.running_mean\", \"r.model.features.19.running_var\", \"r.model.features.19.num_batches_tracked\", \"r.model.features.22.weight\", \"r.model.features.22.bias\", \"r.model.features.23.weight\", \"r.model.features.23.bias\", \"r.model.features.23.running_mean\", \"r.model.features.23.running_var\", \"r.model.features.23.num_batches_tracked\", \"r.model.features.25.weight\", \"r.model.features.25.bias\", \"r.model.features.26.weight\", \"r.model.features.26.bias\", \"r.model.features.26.running_mean\", \"r.model.features.26.running_var\", \"r.model.features.26.num_batches_tracked\", \"r.model.classifier.weight\", \"r.model.classifier.bias\". ",
     "output_type": "error",
     "traceback": [
      "\u001b[0;31m---------------------------------------------------------------------------\u001b[0m",
      "\u001b[0;31mRuntimeError\u001b[0m                              Traceback (most recent call last)",
      "\u001b[0;32m<ipython-input-11-0284b8e21cb1>\u001b[0m in \u001b[0;36m<module>\u001b[0;34m\u001b[0m\n\u001b[0;32m----> 1\u001b[0;31m \u001b[0mmodel_utils\u001b[0m\u001b[0;34m.\u001b[0m\u001b[0mmake_and_restore_model\u001b[0m\u001b[0;34m(\u001b[0m\u001b[0march\u001b[0m\u001b[0;34m=\u001b[0m\u001b[0;34m'vgg11'\u001b[0m\u001b[0;34m,\u001b[0m \u001b[0mdataset\u001b[0m\u001b[0;34m=\u001b[0m\u001b[0mds\u001b[0m\u001b[0;34m,\u001b[0m \u001b[0mresume_path\u001b[0m\u001b[0;34m=\u001b[0m\u001b[0mBASE_CLASSIFIER_PATH\u001b[0m \u001b[0;34m+\u001b[0m \u001b[0;34m'15033fc8-d094-461c-b5eb-7fef776f23ec/checkpoint.pt.best'\u001b[0m\u001b[0;34m)\u001b[0m\u001b[0;34m\u001b[0m\u001b[0;34m\u001b[0m\u001b[0m\n\u001b[0m",
      "\u001b[0;32m~/efficient-trunc-reg-unknown-noise-var/delphi/utils/model_utils.py\u001b[0m in \u001b[0;36mmake_and_restore_model\u001b[0;34m(arch, dataset, device, resume_path, parallel, pytorch_pretrained, add_custom_forward, *_)\u001b[0m\n\u001b[1;32m     68\u001b[0m         \u001b[0msd\u001b[0m \u001b[0;34m=\u001b[0m \u001b[0mcheckpoint\u001b[0m\u001b[0;34m[\u001b[0m\u001b[0mstate_dict_path\u001b[0m\u001b[0;34m]\u001b[0m\u001b[0;34m\u001b[0m\u001b[0;34m\u001b[0m\u001b[0m\n\u001b[1;32m     69\u001b[0m         \u001b[0msd\u001b[0m \u001b[0;34m=\u001b[0m \u001b[0;34m{\u001b[0m\u001b[0mk\u001b[0m\u001b[0;34m[\u001b[0m\u001b[0mlen\u001b[0m\u001b[0;34m(\u001b[0m\u001b[0;34m'module.'\u001b[0m\u001b[0;34m)\u001b[0m\u001b[0;34m:\u001b[0m\u001b[0;34m]\u001b[0m\u001b[0;34m:\u001b[0m \u001b[0mv\u001b[0m \u001b[0;32mfor\u001b[0m \u001b[0mk\u001b[0m\u001b[0;34m,\u001b[0m \u001b[0mv\u001b[0m \u001b[0;32min\u001b[0m \u001b[0msd\u001b[0m\u001b[0;34m.\u001b[0m\u001b[0mitems\u001b[0m\u001b[0;34m(\u001b[0m\u001b[0;34m)\u001b[0m\u001b[0;34m}\u001b[0m\u001b[0;34m\u001b[0m\u001b[0;34m\u001b[0m\u001b[0m\n\u001b[0;32m---> 70\u001b[0;31m         \u001b[0mmodel\u001b[0m\u001b[0;34m.\u001b[0m\u001b[0mload_state_dict\u001b[0m\u001b[0;34m(\u001b[0m\u001b[0msd\u001b[0m\u001b[0;34m)\u001b[0m\u001b[0;34m\u001b[0m\u001b[0;34m\u001b[0m\u001b[0m\n\u001b[0m\u001b[1;32m     71\u001b[0m         \u001b[0mprint\u001b[0m\u001b[0;34m(\u001b[0m\u001b[0;34m\"=> loaded checkpoint '{}' (epoch {})\"\u001b[0m\u001b[0;34m.\u001b[0m\u001b[0mformat\u001b[0m\u001b[0;34m(\u001b[0m\u001b[0mresume_path\u001b[0m\u001b[0;34m,\u001b[0m \u001b[0mcheckpoint\u001b[0m\u001b[0;34m[\u001b[0m\u001b[0;34m'epoch'\u001b[0m\u001b[0;34m]\u001b[0m\u001b[0;34m)\u001b[0m\u001b[0;34m)\u001b[0m\u001b[0;34m\u001b[0m\u001b[0;34m\u001b[0m\u001b[0m\n\u001b[1;32m     72\u001b[0m     \u001b[0;32melif\u001b[0m \u001b[0mresume_path\u001b[0m\u001b[0;34m:\u001b[0m\u001b[0;34m\u001b[0m\u001b[0;34m\u001b[0m\u001b[0m\n",
      "\u001b[0;32m~/env/lib/python3.6/site-packages/torch/nn/modules/module.py\u001b[0m in \u001b[0;36mload_state_dict\u001b[0;34m(self, state_dict, strict)\u001b[0m\n\u001b[1;32m   1050\u001b[0m         \u001b[0;32mif\u001b[0m \u001b[0mlen\u001b[0m\u001b[0;34m(\u001b[0m\u001b[0merror_msgs\u001b[0m\u001b[0;34m)\u001b[0m \u001b[0;34m>\u001b[0m \u001b[0;36m0\u001b[0m\u001b[0;34m:\u001b[0m\u001b[0;34m\u001b[0m\u001b[0;34m\u001b[0m\u001b[0m\n\u001b[1;32m   1051\u001b[0m             raise RuntimeError('Error(s) in loading state_dict for {}:\\n\\t{}'.format(\n\u001b[0;32m-> 1052\u001b[0;31m                                self.__class__.__name__, \"\\n\\t\".join(error_msgs)))\n\u001b[0m\u001b[1;32m   1053\u001b[0m         \u001b[0;32mreturn\u001b[0m \u001b[0m_IncompatibleKeys\u001b[0m\u001b[0;34m(\u001b[0m\u001b[0mmissing_keys\u001b[0m\u001b[0;34m,\u001b[0m \u001b[0munexpected_keys\u001b[0m\u001b[0;34m)\u001b[0m\u001b[0;34m\u001b[0m\u001b[0;34m\u001b[0m\u001b[0m\n\u001b[1;32m   1054\u001b[0m \u001b[0;34m\u001b[0m\u001b[0m\n",
      "\u001b[0;31mRuntimeError\u001b[0m: Error(s) in loading state_dict for AttackerModel:\n\tMissing key(s) in state_dict: \"normalizer.new_mean\", \"normalizer.new_std\", \"model.features.0.weight\", \"model.features.0.bias\", \"model.features.1.weight\", \"model.features.1.bias\", \"model.features.1.running_mean\", \"model.features.1.running_var\", \"model.features.4.weight\", \"model.features.4.bias\", \"model.features.5.weight\", \"model.features.5.bias\", \"model.features.5.running_mean\", \"model.features.5.running_var\", \"model.features.8.weight\", \"model.features.8.bias\", \"model.features.9.weight\", \"model.features.9.bias\", \"model.features.9.running_mean\", \"model.features.9.running_var\", \"model.features.11.weight\", \"model.features.11.bias\", \"model.features.12.weight\", \"model.features.12.bias\", \"model.features.12.running_mean\", \"model.features.12.running_var\", \"model.features.15.weight\", \"model.features.15.bias\", \"model.features.16.weight\", \"model.features.16.bias\", \"model.features.16.running_mean\", \"model.features.16.running_var\", \"model.features.18.weight\", \"model.features.18.bias\", \"model.features.19.weight\", \"model.features.19.bias\", \"model.features.19.running_mean\", \"model.features.19.running_var\", \"model.features.22.weight\", \"model.features.22.bias\", \"model.features.23.weight\", \"model.features.23.bias\", \"model.features.23.running_mean\", \"model.features.23.running_var\", \"model.features.25.weight\", \"model.features.25.bias\", \"model.features.26.weight\", \"model.features.26.bias\", \"model.features.26.running_mean\", \"model.features.26.running_var\", \"model.classifier.weight\", \"model.classifier.bias\", \"attacker.normalize.new_mean\", \"attacker.normalize.new_std\", \"attacker.model.features.0.weight\", \"attacker.model.features.0.bias\", \"attacker.model.features.1.weight\", \"attacker.model.features.1.bias\", \"attacker.model.features.1.running_mean\", \"attacker.model.features.1.running_var\", \"attacker.model.features.4.weight\", \"attacker.model.features.4.bias\", \"attacker.model.features.5.weight\", \"attacker.model.features.5.bias\", \"attacker.model.features.5.running_mean\", \"attacker.model.features.5.running_var\", \"attacker.model.features.8.weight\", \"attacker.model.features.8.bias\", \"attacker.model.features.9.weight\", \"attacker.model.features.9.bias\", \"attacker.model.features.9.running_mean\", \"attacker.model.features.9.running_var\", \"attacker.model.features.11.weight\", \"attacker.model.features.11.bias\", \"attacker.model.features.12.weight\", \"attacker.model.features.12.bias\", \"attacker.model.features.12.running_mean\", \"attacker.model.features.12.running_var\", \"attacker.model.features.15.weight\", \"attacker.model.features.15.bias\", \"attacker.model.features.16.weight\", \"attacker.model.features.16.bias\", \"attacker.model.features.16.running_mean\", \"attacker.model.features.16.running_var\", \"attacker.model.features.18.weight\", \"attacker.model.features.18.bias\", \"attacker.model.features.19.weight\", \"attacker.model.features.19.bias\", \"attacker.model.features.19.running_mean\", \"attacker.model.features.19.running_var\", \"attacker.model.features.22.weight\", \"attacker.model.features.22.bias\", \"attacker.model.features.23.weight\", \"attacker.model.features.23.bias\", \"attacker.model.features.23.running_mean\", \"attacker.model.features.23.running_var\", \"attacker.model.features.25.weight\", \"attacker.model.features.25.bias\", \"attacker.model.features.26.weight\", \"attacker.model.features.26.bias\", \"attacker.model.features.26.running_mean\", \"attacker.model.features.26.running_var\", \"attacker.model.classifier.weight\", \"attacker.model.classifier.bias\". \n\tUnexpected key(s) in state_dict: \"zer.new_mean\", \"zer.new_std\", \"eatures.0.weight\", \"eatures.0.bias\", \"eatures.1.weight\", \"eatures.1.bias\", \"eatures.1.running_mean\", \"eatures.1.running_var\", \"eatures.1.num_batches_tracked\", \"eatures.4.weight\", \"eatures.4.bias\", \"eatures.5.weight\", \"eatures.5.bias\", \"eatures.5.running_mean\", \"eatures.5.running_var\", \"eatures.5.num_batches_tracked\", \"eatures.8.weight\", \"eatures.8.bias\", \"eatures.9.weight\", \"eatures.9.bias\", \"eatures.9.running_mean\", \"eatures.9.running_var\", \"eatures.9.num_batches_tracked\", \"eatures.11.weight\", \"eatures.11.bias\", \"eatures.12.weight\", \"eatures.12.bias\", \"eatures.12.running_mean\", \"eatures.12.running_var\", \"eatures.12.num_batches_tracked\", \"eatures.15.weight\", \"eatures.15.bias\", \"eatures.16.weight\", \"eatures.16.bias\", \"eatures.16.running_mean\", \"eatures.16.running_var\", \"eatures.16.num_batches_tracked\", \"eatures.18.weight\", \"eatures.18.bias\", \"eatures.19.weight\", \"eatures.19.bias\", \"eatures.19.running_mean\", \"eatures.19.running_var\", \"eatures.19.num_batches_tracked\", \"eatures.22.weight\", \"eatures.22.bias\", \"eatures.23.weight\", \"eatures.23.bias\", \"eatures.23.running_mean\", \"eatures.23.running_var\", \"eatures.23.num_batches_tracked\", \"eatures.25.weight\", \"eatures.25.bias\", \"eatures.26.weight\", \"eatures.26.bias\", \"eatures.26.running_mean\", \"eatures.26.running_var\", \"eatures.26.num_batches_tracked\", \"lassifier.weight\", \"lassifier.bias\", \"r.normalize.new_mean\", \"r.normalize.new_std\", \"r.model.features.0.weight\", \"r.model.features.0.bias\", \"r.model.features.1.weight\", \"r.model.features.1.bias\", \"r.model.features.1.running_mean\", \"r.model.features.1.running_var\", \"r.model.features.1.num_batches_tracked\", \"r.model.features.4.weight\", \"r.model.features.4.bias\", \"r.model.features.5.weight\", \"r.model.features.5.bias\", \"r.model.features.5.running_mean\", \"r.model.features.5.running_var\", \"r.model.features.5.num_batches_tracked\", \"r.model.features.8.weight\", \"r.model.features.8.bias\", \"r.model.features.9.weight\", \"r.model.features.9.bias\", \"r.model.features.9.running_mean\", \"r.model.features.9.running_var\", \"r.model.features.9.num_batches_tracked\", \"r.model.features.11.weight\", \"r.model.features.11.bias\", \"r.model.features.12.weight\", \"r.model.features.12.bias\", \"r.model.features.12.running_mean\", \"r.model.features.12.running_var\", \"r.model.features.12.num_batches_tracked\", \"r.model.features.15.weight\", \"r.model.features.15.bias\", \"r.model.features.16.weight\", \"r.model.features.16.bias\", \"r.model.features.16.running_mean\", \"r.model.features.16.running_var\", \"r.model.features.16.num_batches_tracked\", \"r.model.features.18.weight\", \"r.model.features.18.bias\", \"r.model.features.19.weight\", \"r.model.features.19.bias\", \"r.model.features.19.running_mean\", \"r.model.features.19.running_var\", \"r.model.features.19.num_batches_tracked\", \"r.model.features.22.weight\", \"r.model.features.22.bias\", \"r.model.features.23.weight\", \"r.model.features.23.bias\", \"r.model.features.23.running_mean\", \"r.model.features.23.running_var\", \"r.model.features.23.num_batches_tracked\", \"r.model.features.25.weight\", \"r.model.features.25.bias\", \"r.model.features.26.weight\", \"r.model.features.26.bias\", \"r.model.features.26.running_mean\", \"r.model.features.26.running_var\", \"r.model.features.26.num_batches_tracked\", \"r.model.classifier.weight\", \"r.model.classifier.bias\". "
     ]
    }
   ],
   "source": [
    "model_utils.make_and_restore_model(arch='vgg11', dataset=ds, resume_path=BASE_CLASSIFIER_PATH + '15033fc8-d094-461c-b5eb-7fef776f23ec/checkpoint.pt.best')"
   ]
  },
  {
   "cell_type": "markdown",
   "metadata": {},
   "source": [
    "# Test Accuracy"
   ]
  },
  {
   "cell_type": "code",
   "execution_count": 24,
   "metadata": {},
   "outputs": [
    {
     "data": {
      "application/vnd.jupyter.widget-view+json": {
       "model_id": "cf88317764d74af6a10f5ca8d03ef287",
       "version_major": 2,
       "version_minor": 0
      },
      "text/plain": [
       "HBox(children=(HTML(value=''), FloatProgress(value=0.0, max=79.0), HTML(value='')))"
      ]
     },
     "metadata": {},
     "output_type": "display_data"
    },
    {
     "name": "stdout",
     "output_type": "stream",
     "text": [
      "\n"
     ]
    },
    {
     "data": {
      "text/plain": [
       "{'test_prec1': tensor(91.1700, device='cuda:0'),\n",
       " 'test_loss': 0.36373048400878905,\n",
       " 'time': 1.1794376373291016}"
      ]
     },
     "execution_count": 24,
     "metadata": {},
     "output_type": "execute_result"
    }
   ],
   "source": [
    "test_store = store.Store(args.out_dir)\n",
    "results = train.eval_model(args, base_model, test_loader, test_store)\n",
    "results"
   ]
  },
  {
   "cell_type": "code",
   "execution_count": null,
   "metadata": {},
   "outputs": [],
   "source": []
  }
 ],
 "metadata": {
  "kernelspec": {
   "display_name": "Python 3",
   "language": "python",
   "name": "python3"
  },
  "latex_envs": {
   "LaTeX_envs_menu_present": true,
   "autoclose": false,
   "autocomplete": true,
   "bibliofile": "biblio.bib",
   "cite_by": "apalike",
   "current_citInitial": 1,
   "eqLabelWithNumbers": true,
   "eqNumInitial": 1,
   "hotkeys": {
    "equation": "Ctrl-E",
    "itemize": "Ctrl-I"
   },
   "labels_anchors": false,
   "latex_user_defs": false,
   "report_style_numbering": false,
   "user_envs_cfg": false
  },
  "toc": {
   "base_numbering": 1,
   "nav_menu": {},
   "number_sections": true,
   "sideBar": true,
   "skip_h1_title": false,
   "title_cell": "Table of Contents",
   "title_sidebar": "Contents",
   "toc_cell": false,
   "toc_position": {},
   "toc_section_display": true,
   "toc_window_display": false
  },
  "varInspector": {
   "cols": {
    "lenName": 16,
    "lenType": 16,
    "lenVar": 40
   },
   "kernels_config": {
    "python": {
     "delete_cmd_postfix": "",
     "delete_cmd_prefix": "del ",
     "library": "var_list.py",
     "varRefreshCmd": "print(var_dic_list())"
    },
    "r": {
     "delete_cmd_postfix": ") ",
     "delete_cmd_prefix": "rm(",
     "library": "var_list.r",
     "varRefreshCmd": "cat(var_dic_list()) "
    }
   },
   "types_to_exclude": [
    "module",
    "function",
    "builtin_function_or_method",
    "instance",
    "_Feature"
   ],
   "window_display": false
  }
 },
 "nbformat": 4,
 "nbformat_minor": 2
}
