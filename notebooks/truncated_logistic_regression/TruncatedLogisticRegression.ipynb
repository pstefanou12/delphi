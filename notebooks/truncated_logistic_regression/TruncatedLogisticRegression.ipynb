{
 "cells": [
  {
   "cell_type": "code",
   "execution_count": 1,
   "metadata": {},
   "outputs": [],
   "source": [
    "import sys \n",
    "sys.path.append('../..')\n",
    "from cox.utils import Parameters\n",
    "from cox.store import Store\n",
    "from cox.readers import CollectionReader\n",
    "from sklearn.metrics.pairwise import cosine_similarity\n",
    "from sklearn.linear_model import LogisticRegression\n",
    "import pandas as pd\n",
    "import matplotlib.pyplot as plt\n",
    "import seaborn as sns\n",
    "import math\n",
    "import itertools\n",
    "import numpy as np\n",
    "import os\n",
    "import IPython\n",
    "import torch as ch\n",
    "from torch import Tensor\n",
    "from torch.distributions import Uniform\n",
    "from torch.distributions.transforms import SigmoidTransform\n",
    "from torch.distributions.transformed_distribution import TransformedDistribution\n",
    "from torch.utils.data import DataLoader\n",
    "from delphi.stats.truncated_logistic_regression import truncated_logistic_regression\n",
    "from delphi.oracle import Left, Interval\n",
    "import delphi.utils.constants as consts\n",
    "os.environ['HDF5_USE_FILE_LOCKING'] = 'FALSE'"
   ]
  },
  {
   "cell_type": "markdown",
   "metadata": {},
   "source": [
    "# Helpers"
   ]
  },
  {
   "cell_type": "code",
   "execution_count": 2,
   "metadata": {},
   "outputs": [],
   "source": [
    "# EXP_NAME = 'TruncatedLogisticRegressionWeightDecay'\n",
    "# EXP_NAME = 'TruncatedLogisticRegression1e-1'\n",
    "EXP_NAME = '200Trials'\n",
    "STORE_PATH = '/home/gridsan/stefanou/LogisticRegression/' + EXP_NAME\n",
    "STORE_TABLE_NAME = 'results'"
   ]
  },
  {
   "cell_type": "markdown",
   "metadata": {},
   "source": [
    "## Default Experiment Parameters"
   ]
  },
  {
   "cell_type": "code",
   "execution_count": 3,
   "metadata": {},
   "outputs": [],
   "source": [
    "# regression parameters\n",
    "NUM_SAMPLES, DIMS = 10000, 2\n",
    "LOWER, UPPER = -1, 1\n",
    "\n",
    "# procedure hyperparameters\n",
    "args = Parameters({ \n",
    "    'epochs': 10,\n",
    "    'workers': 0, \n",
    "    'batch_size': 100,\n",
    "    'bias': True,\n",
    "    'num_samples': 1000,\n",
    "    'clamp': True, \n",
    "    'radius': 5.0, \n",
    "    'lr': 1e-1,\n",
    "    'shuffle': False, \n",
    "    'tol': 1e-2,\n",
    "    'eps': 1e-5,\n",
    "    'score': True,\n",
    "    'custom_lr_multiplier': consts.CYCLIC,\n",
    "    'var': True,\n",
    "    'momentum': .9, \n",
    "    'weight_decay': 5e-4, \n",
    "    'trials': 200,\n",
    "})"
   ]
  },
  {
   "cell_type": "markdown",
   "metadata": {},
   "source": [
    "# Logistic Distribution"
   ]
  },
  {
   "cell_type": "code",
   "execution_count": 8,
   "metadata": {},
   "outputs": [],
   "source": [
    "# define logistic distribution\n",
    "base_distribution = Uniform(0, 1)\n",
    "transforms_ = [SigmoidTransform().inv]\n",
    "logistic = TransformedDistribution(base_distribution, transforms_)"
   ]
  },
  {
   "cell_type": "code",
   "execution_count": null,
   "metadata": {
    "scrolled": true
   },
   "outputs": [
    {
     "name": "stdout",
     "output_type": "stream",
     "text": [
      "==> Preparing dataset truncated_logistic_regression..\n"
     ]
    },
    {
     "data": {
      "application/vnd.jupyter.widget-view+json": {
       "model_id": "",
       "version_major": 2,
       "version_minor": 0
      },
      "text/plain": [
       "  0%|          | 0/51 [00:00<?, ?it/s]"
      ]
     },
     "metadata": {},
     "output_type": "display_data"
    },
    {
     "data": {
      "application/vnd.jupyter.widget-view+json": {
       "model_id": "",
       "version_major": 2,
       "version_minor": 0
      },
      "text/plain": [
       "  0%|          | 0/51 [00:00<?, ?it/s]"
      ]
     },
     "metadata": {},
     "output_type": "display_data"
    },
    {
     "data": {
      "application/vnd.jupyter.widget-view+json": {
       "model_id": "",
       "version_major": 2,
       "version_minor": 0
      },
      "text/plain": [
       "  0%|          | 0/51 [00:00<?, ?it/s]"
      ]
     },
     "metadata": {},
     "output_type": "display_data"
    },
    {
     "data": {
      "application/vnd.jupyter.widget-view+json": {
       "model_id": "",
       "version_major": 2,
       "version_minor": 0
      },
      "text/plain": [
       "  0%|          | 0/51 [00:00<?, ?it/s]"
      ]
     },
     "metadata": {},
     "output_type": "display_data"
    },
    {
     "data": {
      "application/vnd.jupyter.widget-view+json": {
       "model_id": "",
       "version_major": 2,
       "version_minor": 0
      },
      "text/plain": [
       "  0%|          | 0/51 [00:00<?, ?it/s]"
      ]
     },
     "metadata": {},
     "output_type": "display_data"
    },
    {
     "data": {
      "application/vnd.jupyter.widget-view+json": {
       "model_id": "441313ab914947d99b0ea40f08f493bb",
       "version_major": 2,
       "version_minor": 0
      },
      "text/plain": [
       "  0%|          | 0/51 [00:00<?, ?it/s]"
      ]
     },
     "metadata": {},
     "output_type": "display_data"
    }
   ],
   "source": [
    "# create store\n",
    "store = Store(STORE_PATH)\n",
    "\n",
    "store.add_table(STORE_TABLE_NAME, { \n",
    "    'delphi_cos': float,\n",
    "    'mle_cos': float,\n",
    "    'alpha': float, \n",
    "    'C': float,\n",
    "})\n",
    "\n",
    "# perform each experiment a total of 10 times\n",
    "for iter_ in range(args.trials): \n",
    "    for C in [-2, -1.75, -1.5, -1.25, -1, -.75, -.5, -.25]:\n",
    "        PREDICATE = Left(Tensor([C]))\n",
    "        args.__setattr__('phi', PREDICATE)\n",
    "        \n",
    "        # generate random uniform weights\n",
    "        W = Uniform(LOWER, UPPER).sample(ch.Size([DIMS, 1]))\n",
    "        W0 = Uniform(LOWER, UPPER).sample(ch.Size([1, 1]))\n",
    "\n",
    "        # generate data\n",
    "        X = Uniform(-100, 100).sample(ch.Size([NUM_SAMPLES, DIMS]))\n",
    "        z = X.mm(W) + W0 + logistic.sample(ch.Size([NUM_SAMPLES, 1]))\n",
    "        y = ch.where(z > 0, ch.ones(1), ch.zeros(1))\n",
    "\n",
    "        # truncate\n",
    "        indices = PREDICATE(z).nonzero(as_tuple=False).flatten()\n",
    "        z_trunc, y_trunc, x_trunc = z[indices], y[indices], X[indices]\n",
    "\n",
    "        args.__setattr__('alpha', Tensor([y_trunc.size(0) / NUM_SAMPLES]))\n",
    "\n",
    "        # truncated logistic regression\n",
    "        trunc_log_reg = truncated_logistic_regression(args.phi, args.alpha, args)\n",
    "        results = trunc_log_reg.fit(x_trunc, y_trunc)\n",
    "        w, w0 = results.weight.detach().cpu(), results.bias.detach().cpu()\n",
    "        \n",
    "        # naive estimates \n",
    "        naive_log_reg = LogisticRegression(penalty='none')\n",
    "        naive_log_reg.fit(x_trunc, y_trunc.flatten())\n",
    "\n",
    "        # parameter estimates \n",
    "        real_params = ch.cat([W.T, W0], axis=1)\n",
    "        mle_params = ch.cat([Tensor(naive_log_reg.coef_), Tensor(naive_log_reg.intercept_).unsqueeze(0)], axis=1)\n",
    "        delphi_params = ch.cat([w, w0.unsqueeze(0)], axis=1)\n",
    "\n",
    "        store[STORE_TABLE_NAME].append_row({ \n",
    "            'delphi_cos': cosine_similarity(delphi_params, real_params),\n",
    "            'mle_cos': cosine_similarity(mle_params, real_params),\n",
    "            'alpha': float(args.alpha),\n",
    "            'C': C,\n",
    "        })\n",
    "        \n",
    "        IPython.display.clear_output(wait=False)\n",
    "\n",
    "# close current store\n",
    "store.close()"
   ]
  },
  {
   "cell_type": "markdown",
   "metadata": {},
   "source": [
    "# Results"
   ]
  },
  {
   "cell_type": "code",
   "execution_count": 5,
   "metadata": {},
   "outputs": [
    {
     "name": "stderr",
     "output_type": "stream",
     "text": [
      "100%|██████████| 1/1 [00:00<00:00, 127.12it/s]\n"
     ]
    },
    {
     "data": {
      "text/html": [
       "<div>\n",
       "<style scoped>\n",
       "    .dataframe tbody tr th:only-of-type {\n",
       "        vertical-align: middle;\n",
       "    }\n",
       "\n",
       "    .dataframe tbody tr th {\n",
       "        vertical-align: top;\n",
       "    }\n",
       "\n",
       "    .dataframe thead th {\n",
       "        text-align: right;\n",
       "    }\n",
       "</style>\n",
       "<table border=\"1\" class=\"dataframe\">\n",
       "  <thead>\n",
       "    <tr style=\"text-align: right;\">\n",
       "      <th></th>\n",
       "      <th>delphi_cos</th>\n",
       "      <th>mle_cos</th>\n",
       "      <th>alpha</th>\n",
       "      <th>C</th>\n",
       "      <th>exp_id</th>\n",
       "    </tr>\n",
       "  </thead>\n",
       "  <tbody>\n",
       "    <tr>\n",
       "      <th>0</th>\n",
       "      <td>-0.019873</td>\n",
       "      <td>0.995162</td>\n",
       "      <td>0.5649</td>\n",
       "      <td>-2.00</td>\n",
       "      <td>471c3032-20fd-4bee-9135-99a1fa8be86f</td>\n",
       "    </tr>\n",
       "    <tr>\n",
       "      <th>1</th>\n",
       "      <td>0.998472</td>\n",
       "      <td>0.972502</td>\n",
       "      <td>0.5014</td>\n",
       "      <td>-1.75</td>\n",
       "      <td>471c3032-20fd-4bee-9135-99a1fa8be86f</td>\n",
       "    </tr>\n",
       "    <tr>\n",
       "      <th>2</th>\n",
       "      <td>0.528341</td>\n",
       "      <td>0.977721</td>\n",
       "      <td>0.5158</td>\n",
       "      <td>-1.50</td>\n",
       "      <td>471c3032-20fd-4bee-9135-99a1fa8be86f</td>\n",
       "    </tr>\n",
       "    <tr>\n",
       "      <th>3</th>\n",
       "      <td>0.940650</td>\n",
       "      <td>0.504484</td>\n",
       "      <td>0.5041</td>\n",
       "      <td>-1.25</td>\n",
       "      <td>471c3032-20fd-4bee-9135-99a1fa8be86f</td>\n",
       "    </tr>\n",
       "    <tr>\n",
       "      <th>4</th>\n",
       "      <td>0.583522</td>\n",
       "      <td>0.932941</td>\n",
       "      <td>0.5178</td>\n",
       "      <td>-1.00</td>\n",
       "      <td>471c3032-20fd-4bee-9135-99a1fa8be86f</td>\n",
       "    </tr>\n",
       "  </tbody>\n",
       "</table>\n",
       "</div>"
      ],
      "text/plain": [
       "   delphi_cos   mle_cos   alpha     C                                exp_id\n",
       "0   -0.019873  0.995162  0.5649 -2.00  471c3032-20fd-4bee-9135-99a1fa8be86f\n",
       "1    0.998472  0.972502  0.5014 -1.75  471c3032-20fd-4bee-9135-99a1fa8be86f\n",
       "2    0.528341  0.977721  0.5158 -1.50  471c3032-20fd-4bee-9135-99a1fa8be86f\n",
       "3    0.940650  0.504484  0.5041 -1.25  471c3032-20fd-4bee-9135-99a1fa8be86f\n",
       "4    0.583522  0.932941  0.5178 -1.00  471c3032-20fd-4bee-9135-99a1fa8be86f"
      ]
     },
     "execution_count": 5,
     "metadata": {},
     "output_type": "execute_result"
    }
   ],
   "source": [
    "reader = CollectionReader(STORE_PATH)\n",
    "results = reader.df(STORE_TABLE_NAME)\n",
    "reader.close() # close reader\n",
    "results.head()"
   ]
  },
  {
   "cell_type": "markdown",
   "metadata": {},
   "source": [
    "# All Trials"
   ]
  },
  {
   "cell_type": "code",
   "execution_count": 7,
   "metadata": {},
   "outputs": [
    {
     "data": {
      "image/png": "[encoded data removed]",
      "text/plain": [
       "<Figure size 432x288 with 1 Axes>"
      ]
     },
     "metadata": {
      "needs_background": "light"
     },
     "output_type": "display_data"
    }
   ],
   "source": [
    "# variance vs param mse\n",
    "sns.lineplot(data=results, x='C', y='delphi_cos', label='delphi', color='blue')\n",
    "ax = sns.lineplot(data=results, x='C', y='mle_cos', label='mle', color='red')\n",
    "ax.set(xlabel='Truncation Parameter C', ylabel='Cosine Similarity with Theta*')\n",
    "plt.show()"
   ]
  },
  {
   "cell_type": "code",
   "execution_count": 66,
   "metadata": {},
   "outputs": [
    {
     "data": {
      "text/plain": [
       "80"
      ]
     },
     "execution_count": 66,
     "metadata": {},
     "output_type": "execute_result"
    }
   ],
   "source": [
    "len(results)"
   ]
  },
  {
   "cell_type": "code",
   "execution_count": 7,
   "metadata": {},
   "outputs": [
    {
     "data": {
      "text/plain": [
       "tensor([[[0.],\n",
       "         [0.],\n",
       "         [1.],\n",
       "         [0.],\n",
       "         [0.],\n",
       "         [1.],\n",
       "         [0.],\n",
       "         [0.],\n",
       "         [0.],\n",
       "         [0.]]])"
      ]
     },
     "execution_count": 7,
     "metadata": {},
     "output_type": "execute_result"
    }
   ],
   "source": [
    "filtered = Tensor([[[0.],\n",
    "         [0.],\n",
    "         [1.],\n",
    "         [0.],\n",
    "         [0.],\n",
    "         [1.],\n",
    "         [0.],\n",
    "         [0.],\n",
    "         [0.],\n",
    "         [0.]]])\n",
    "\n",
    "stuff = Tensor([[0, 1, 0, 0, 0, 0, 1, 0, 1, 0]]).eq(Tensor([0, 1, 0, 0, 0, 0, 0, 0, 1, 0]))[...,None]\n",
    "\n",
    "stuff * filtered"
   ]
  },
  {
   "cell_type": "code",
   "execution_count": 8,
   "metadata": {},
   "outputs": [
    {
     "data": {
      "text/plain": [
       "tensor([[[ True],\n",
       "         [ True],\n",
       "         [ True],\n",
       "         [ True],\n",
       "         [ True],\n",
       "         [ True],\n",
       "         [False],\n",
       "         [ True],\n",
       "         [ True],\n",
       "         [ True]]])"
      ]
     },
     "execution_count": 8,
     "metadata": {},
     "output_type": "execute_result"
    }
   ],
   "source": [
    "stuff"
   ]
  },
  {
   "cell_type": "code",
   "execution_count": 12,
   "metadata": {},
   "outputs": [
    {
     "data": {
      "text/plain": [
       "tensor([-0.2884])"
      ]
     },
     "execution_count": 12,
     "metadata": {},
     "output_type": "execute_result"
    }
   ],
   "source": [
    "1 - ch.exp(-Tensor([-0.2534]))"
   ]
  },
  {
   "cell_type": "code",
   "execution_count": null,
   "metadata": {},
   "outputs": [],
   "source": [
    "inner_exp = Tensor([[[-0.2883,  0.5253],\n",
    "         [-1.5561,  0.0693],\n",
    "         [ 0.6731,  0.4460],\n",
    "         [ 0.6190,  0.5776],\n",
    "         [ 0.8741,  0.7104],\n",
    "         [ 0.7807, -1.7973],\n",
    "         [ 0.4094,  0.8161],\n",
    "         [-0.8624,  0.8666],\n",
    "         [ 0.9460,  0.8933],\n",
    "         [ 0.0144,  0.5563]]])\n",
    "\n",
    "\n",
    "filtered = Tensor([[[0.],\n",
    "         [0.],\n",
    "         [1.],\n",
    "         [0.],\n",
    "         [0.],\n",
    "         [1.],\n",
    "         [0.],\n",
    "         [0.],\n",
    "         [0.],\n",
    "         [0.]]])\n",
    "\n",
    "stuff = Tensor([[0, 1, 0, 0, 0, 0, 1, 0, 1, 0]]).eq(Tensor([0, 1, 0, 0, 0, 0, 0, 0, 1, 0]))"
   ]
  }
 ],
 "metadata": {
  "kernelspec": {
   "display_name": "Python 3",
   "language": "python",
   "name": "python3"
  },
  "language_info": {
   "codemirror_mode": {
    "name": "ipython",
    "version": 3
   },
   "file_extension": ".py",
   "mimetype": "text/x-python",
   "name": "python",
   "nbconvert_exporter": "python",
   "pygments_lexer": "ipython3",
   "version": "3.8.5"
  },
  "latex_envs": {
   "LaTeX_envs_menu_present": true,
   "autoclose": false,
   "autocomplete": true,
   "bibliofile": "biblio.bib",
   "cite_by": "apalike",
   "current_citInitial": 1,
   "eqLabelWithNumbers": true,
   "eqNumInitial": 1,
   "hotkeys": {
    "equation": "Ctrl-E",
    "itemize": "Ctrl-I"
   },
   "labels_anchors": false,
   "latex_user_defs": false,
   "report_style_numbering": false,
   "user_envs_cfg": false
  },
  "toc": {
   "base_numbering": 1,
   "nav_menu": {},
   "number_sections": true,
   "sideBar": true,
   "skip_h1_title": false,
   "title_cell": "Table of Contents",
   "title_sidebar": "Contents",
   "toc_cell": false,
   "toc_position": {},
   "toc_section_display": true,
   "toc_window_display": false
  },
  "varInspector": {
   "cols": {
    "lenName": 16,
    "lenType": 16,
    "lenVar": 40
   },
   "kernels_config": {
    "python": {
     "delete_cmd_postfix": "",
     "delete_cmd_prefix": "del ",
     "library": "var_list.py",
     "varRefreshCmd": "print(var_dic_list())"
    },
    "r": {
     "delete_cmd_postfix": ") ",
     "delete_cmd_prefix": "rm(",
     "library": "var_list.r",
     "varRefreshCmd": "cat(var_dic_list()) "
    }
   },
   "types_to_exclude": [
    "module",
    "function",
    "builtin_function_or_method",
    "instance",
    "_Feature"
   ],
   "window_display": false
  }
 },
 "nbformat": 4,
 "nbformat_minor": 2
}
