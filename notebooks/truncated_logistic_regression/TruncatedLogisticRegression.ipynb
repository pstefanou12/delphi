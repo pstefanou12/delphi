{
 "cells": [
  {
   "cell_type": "code",
   "execution_count": 3,
   "metadata": {},
   "outputs": [
    {
     "name": "stdout",
     "output_type": "stream",
     "text": [
      "cuda tensors...\n"
     ]
    }
   ],
   "source": [
    "import sys \n",
    "sys.path.append('../..')\n",
    "from cox.utils import Parameters\n",
    "from cox.store import Store\n",
    "from cox.readers import CollectionReader\n",
    "from sklearn.linear_model import LogisticRegression\n",
    "import pandas as pd\n",
    "import matplotlib.pyplot as plt\n",
    "import seaborn as sns\n",
    "import os\n",
    "import IPython\n",
    "import torch as ch\n",
    "from torch import Tensor\n",
    "from torch.distributions import Uniform\n",
    "from torch.distributions.transforms import SigmoidTransform\n",
    "from torch.distributions.transformed_distribution import TransformedDistribution\n",
    "from torch.utils.data import DataLoader\n",
    "from delphi.stats.truncated_logistic_regression import truncated_logistic_regression\n",
    "from delphi.oracle import Left, Interval\n",
    "from delphi.utils.helpers import logistic\n",
    "import delphi.utils.constants as consts\n",
    "from delphi.utils.helpers import Bounds\n",
    "os.environ['HDF5_USE_FILE_LOCKING'] = 'FALSE'\n",
    "\n",
    "if ch.cuda.is_available(): \n",
    "    ch.set_default_tensor_type(ch.cuda.FloatTensor)\n",
    "    print(\"cuda tensors...\")"
   ]
  },
  {
   "cell_type": "markdown",
   "metadata": {},
   "source": [
    "# Helpers"
   ]
  },
  {
   "cell_type": "code",
   "execution_count": 4,
   "metadata": {},
   "outputs": [],
   "source": [
    "# EXP_NAME = 'TruncatedLogisticRegressionWeightDecay'\n",
    "# EXP_NAME = 'TruncatedLogisticRegression1e-1'\n",
    "EXP_NAME = '2500steps'\n",
    "STORE_PATH = '/home/gridsan/stefanou/LogisticRegression/' + EXP_NAME\n",
    "STORE_TABLE_NAME = 'results'"
   ]
  },
  {
   "cell_type": "markdown",
   "metadata": {},
   "source": [
    "## Default Experiment Parameters"
   ]
  },
  {
   "cell_type": "code",
   "execution_count": 9,
   "metadata": {},
   "outputs": [
    {
     "name": "stdout",
     "output_type": "stream",
     "text": [
      "using cuda...\n"
     ]
    }
   ],
   "source": [
    "# regression parameters\n",
    "\n",
    "# procedure hyperparameters\n",
    "args = Parameters({ \n",
    "    'workers': 0, \n",
    "    'batch_size': 100,\n",
    "    'bias': True,\n",
    "    'num_samples': 1000,\n",
    "    'samples': 10000, \n",
    "    'in_features': 2, \n",
    "    'clamp': True, \n",
    "    'radius': 5.0, \n",
    "    'lr': 1e-1,\n",
    "    'shuffle': False, \n",
    "    'tol': 1e-2,\n",
    "    'eps': 1e-5,\n",
    "    'score': True,\n",
    "    'custom_lr_multiplier': consts.CYCLIC,\n",
    "    'var': True,\n",
    "    'momentum': .9, \n",
    "    'weight_decay': 5e-4, \n",
    "    'trials': 20,\n",
    "    'lower': -1, \n",
    "    'upper': 1,\n",
    "    'epochs': 25,\n",
    "    'steps': 2500,\n",
    "})\n",
    "\n",
    "if ch.cuda.is_available(): \n",
    "    args.__setattr__('device', 'cuda')\n",
    "    print(\"using cuda...\")\n",
    "else: \n",
    "    args.__setattr__('device', 'cpu')"
   ]
  },
  {
   "cell_type": "markdown",
   "metadata": {},
   "source": [
    "# Experiment"
   ]
  },
  {
   "cell_type": "code",
   "execution_count": null,
   "metadata": {
    "scrolled": true
   },
   "outputs": [
    {
     "name": "stdout",
     "output_type": "stream",
     "text": [
      "==> Preparing dataset truncated_logistic_regression..\n"
     ]
    },
    {
     "data": {
      "application/vnd.jupyter.widget-view+json": {
       "model_id": "",
       "version_major": 2,
       "version_minor": 0
      },
      "text/plain": [
       "HBox(children=(FloatProgress(value=0.0, max=76.0), HTML(value='')))"
      ]
     },
     "metadata": {},
     "output_type": "display_data"
    }
   ],
   "source": [
    "# create store\n",
    "store = Store(STORE_PATH)\n",
    "\n",
    "store.add_table(STORE_TABLE_NAME, { \n",
    "    'delphi_cos': float,\n",
    "    'mle_cos': float,\n",
    "    'alpha': float, \n",
    "    'C': float,\n",
    "})\n",
    "\n",
    "# perform each experiment a total of 10 times\n",
    "for iter_ in range(args.trials): \n",
    "    for C in [-2, -1.75, -1.5, -1.25, -1, -.75, -.5, -.25]:\n",
    "        args.__setattr__('phi', Left(Tensor([C])))\n",
    "        \n",
    "        # generate random uniform weights        \n",
    "        ground_truth = ch.nn.Linear(in_features=args.in_features, out_features=1, bias=args.bias)\n",
    "        ground_truth.weight = ch.nn.Parameter(Uniform(args.lower, args.upper).sample(ch.Size([1, args.in_features])))\n",
    "        if ground_truth.bias is not None: \n",
    "            ground_truth.bias = ch.nn.Parameter(Uniform(args.lower, args.upper).sample(ch.Size([1,])))\n",
    "\n",
    "        # generate data\n",
    "        X = Uniform(-5, 5).sample(ch.Size([args.samples, args.in_features]))\n",
    "        z = ground_truth(X) + logistic.sample(ch.Size([args.samples, 1])).cuda()\n",
    "        y = ch.where(z > 0, ch.ones(1), ch.zeros(1))\n",
    "\n",
    "        # truncate\n",
    "        indices = args.phi(z).nonzero(as_tuple=False).flatten()\n",
    "        z_trunc, y_trunc, x_trunc = z[indices], y[indices], X[indices]\n",
    "        args.__setattr__('alpha', Tensor([y_trunc.size(0) / args.samples]))\n",
    "\n",
    "        # truncated logistic regression\n",
    "        trunc_log_reg = truncated_logistic_regression(args.phi, args.alpha, args)\n",
    "        results = trunc_log_reg.fit(x_trunc.cpu(), y_trunc.cpu())\n",
    "        w, w0 = results.weight.detach().cpu(), results.bias.detach().cpu()\n",
    "        \n",
    "        # naive estimates \n",
    "        naive_log_reg = LogisticRegression(penalty='none')\n",
    "        naive_log_reg.fit(x_trunc.cpu(), y_trunc.cpu().flatten())\n",
    "\n",
    "        # parameter estimates \n",
    "        real_params = ch.cat([ground_truth.weight, ground_truth.bias.unsqueeze(0)], axis=1)\n",
    "        mle_params = ch.cat([Tensor(naive_log_reg.coef_), Tensor(naive_log_reg.intercept_).unsqueeze(0)], axis=1)\n",
    "        delphi_params = ch.cat([w, w0.unsqueeze(0)], axis=1)\n",
    "\n",
    "        store[STORE_TABLE_NAME].append_row({ \n",
    "            'delphi_cos': ch.nn.functional.cosine_similarity(delphi_params.cuda(), Tensor(real_params).cuda()),\n",
    "            'mle_cos': ch.nn.functional.cosine_similarity(mle_params, real_params),\n",
    "            'alpha': float(args.alpha),\n",
    "            'C': C,\n",
    "        })\n",
    "        \n",
    "        IPython.display.clear_output(wait=False)\n",
    "\n",
    "# close current store\n",
    "store.close()"
   ]
  },
  {
   "cell_type": "markdown",
   "metadata": {},
   "source": [
    "# Results"
   ]
  },
  {
   "cell_type": "code",
   "execution_count": 7,
   "metadata": {},
   "outputs": [
    {
     "name": "stderr",
     "output_type": "stream",
     "text": [
      "100%|██████████| 1/1 [00:00<00:00, 148.67it/s]\n"
     ]
    },
    {
     "data": {
      "text/html": [
       "<div>\n",
       "<style scoped>\n",
       "    .dataframe tbody tr th:only-of-type {\n",
       "        vertical-align: middle;\n",
       "    }\n",
       "\n",
       "    .dataframe tbody tr th {\n",
       "        vertical-align: top;\n",
       "    }\n",
       "\n",
       "    .dataframe thead th {\n",
       "        text-align: right;\n",
       "    }\n",
       "</style>\n",
       "<table border=\"1\" class=\"dataframe\">\n",
       "  <thead>\n",
       "    <tr style=\"text-align: right;\">\n",
       "      <th></th>\n",
       "      <th>delphi_cos</th>\n",
       "      <th>mle_cos</th>\n",
       "      <th>alpha</th>\n",
       "      <th>C</th>\n",
       "      <th>exp_id</th>\n",
       "    </tr>\n",
       "  </thead>\n",
       "  <tbody>\n",
       "    <tr>\n",
       "      <th>0</th>\n",
       "      <td>0.859747</td>\n",
       "      <td>0.933698</td>\n",
       "      <td>0.8005</td>\n",
       "      <td>-2.00</td>\n",
       "      <td>d55f9527-db08-490e-812d-e0fc862ad35a</td>\n",
       "    </tr>\n",
       "    <tr>\n",
       "      <th>1</th>\n",
       "      <td>0.959080</td>\n",
       "      <td>0.826603</td>\n",
       "      <td>0.6328</td>\n",
       "      <td>-1.75</td>\n",
       "      <td>d55f9527-db08-490e-812d-e0fc862ad35a</td>\n",
       "    </tr>\n",
       "    <tr>\n",
       "      <th>2</th>\n",
       "      <td>0.973499</td>\n",
       "      <td>0.316754</td>\n",
       "      <td>0.6442</td>\n",
       "      <td>-1.50</td>\n",
       "      <td>d55f9527-db08-490e-812d-e0fc862ad35a</td>\n",
       "    </tr>\n",
       "    <tr>\n",
       "      <th>3</th>\n",
       "      <td>0.880785</td>\n",
       "      <td>0.811080</td>\n",
       "      <td>0.6706</td>\n",
       "      <td>-1.25</td>\n",
       "      <td>d55f9527-db08-490e-812d-e0fc862ad35a</td>\n",
       "    </tr>\n",
       "    <tr>\n",
       "      <th>4</th>\n",
       "      <td>0.983853</td>\n",
       "      <td>0.911434</td>\n",
       "      <td>0.7111</td>\n",
       "      <td>-1.00</td>\n",
       "      <td>d55f9527-db08-490e-812d-e0fc862ad35a</td>\n",
       "    </tr>\n",
       "  </tbody>\n",
       "</table>\n",
       "</div>"
      ],
      "text/plain": [
       "   delphi_cos   mle_cos   alpha     C                                exp_id\n",
       "0    0.859747  0.933698  0.8005 -2.00  d55f9527-db08-490e-812d-e0fc862ad35a\n",
       "1    0.959080  0.826603  0.6328 -1.75  d55f9527-db08-490e-812d-e0fc862ad35a\n",
       "2    0.973499  0.316754  0.6442 -1.50  d55f9527-db08-490e-812d-e0fc862ad35a\n",
       "3    0.880785  0.811080  0.6706 -1.25  d55f9527-db08-490e-812d-e0fc862ad35a\n",
       "4    0.983853  0.911434  0.7111 -1.00  d55f9527-db08-490e-812d-e0fc862ad35a"
      ]
     },
     "execution_count": 7,
     "metadata": {},
     "output_type": "execute_result"
    }
   ],
   "source": [
    "reader = CollectionReader(STORE_PATH)\n",
    "results = reader.df(STORE_TABLE_NAME)\n",
    "reader.close() # close reader\n",
    "results.head()"
   ]
  },
  {
   "cell_type": "markdown",
   "metadata": {},
   "source": [
    "# All Trials"
   ]
  },
  {
   "cell_type": "code",
   "execution_count": 8,
   "metadata": {},
   "outputs": [
    {
     "data": {
      "image/png": "[encoded data removed]",
      "text/plain": [
       "<Figure size 432x288 with 1 Axes>"
      ]
     },
     "metadata": {
      "needs_background": "light"
     },
     "output_type": "display_data"
    }
   ],
   "source": [
    "# variance vs param mse\n",
    "sns.lineplot(data=results, x='C', y='delphi_cos', label='delphi', color='blue')\n",
    "ax = sns.lineplot(data=results, x='C', y='mle_cos', label='mle', color='red')\n",
    "ax.set(xlabel='Truncation Parameter C', ylabel='Cosine Similarity with Theta*')\n",
    "plt.show()"
   ]
  },
  {
   "cell_type": "code",
   "execution_count": 17,
   "metadata": {},
   "outputs": [
    {
     "data": {
      "text/plain": [
       "60"
      ]
     },
     "execution_count": 17,
     "metadata": {},
     "output_type": "execute_result"
    }
   ],
   "source": [
    "len(results[results['C'] == -.25]['mle_cos'])"
   ]
  },
  {
   "cell_type": "code",
   "execution_count": 7,
   "metadata": {},
   "outputs": [
    {
     "data": {
      "text/plain": [
       "tensor([[[0.],\n",
       "         [0.],\n",
       "         [1.],\n",
       "         [0.],\n",
       "         [0.],\n",
       "         [1.],\n",
       "         [0.],\n",
       "         [0.],\n",
       "         [0.],\n",
       "         [0.]]])"
      ]
     },
     "execution_count": 7,
     "metadata": {},
     "output_type": "execute_result"
    }
   ],
   "source": [
    "filtered = Tensor([[[0.],\n",
    "         [0.],\n",
    "         [1.],\n",
    "         [0.],\n",
    "         [0.],\n",
    "         [1.],\n",
    "         [0.],\n",
    "         [0.],\n",
    "         [0.],\n",
    "         [0.]]])\n",
    "\n",
    "stuff = Tensor([[0, 1, 0, 0, 0, 0, 1, 0, 1, 0]]).eq(Tensor([0, 1, 0, 0, 0, 0, 0, 0, 1, 0]))[...,None]\n",
    "\n",
    "stuff * filtered"
   ]
  },
  {
   "cell_type": "code",
   "execution_count": 8,
   "metadata": {},
   "outputs": [
    {
     "data": {
      "text/plain": [
       "tensor([[[ True],\n",
       "         [ True],\n",
       "         [ True],\n",
       "         [ True],\n",
       "         [ True],\n",
       "         [ True],\n",
       "         [False],\n",
       "         [ True],\n",
       "         [ True],\n",
       "         [ True]]])"
      ]
     },
     "execution_count": 8,
     "metadata": {},
     "output_type": "execute_result"
    }
   ],
   "source": [
    "stuff"
   ]
  },
  {
   "cell_type": "code",
   "execution_count": 12,
   "metadata": {},
   "outputs": [
    {
     "data": {
      "text/plain": [
       "tensor([-0.2884])"
      ]
     },
     "execution_count": 12,
     "metadata": {},
     "output_type": "execute_result"
    }
   ],
   "source": [
    "1 - ch.exp(-Tensor([-0.2534]))"
   ]
  },
  {
   "cell_type": "code",
   "execution_count": null,
   "metadata": {},
   "outputs": [],
   "source": [
    "inner_exp = Tensor([[[-0.2883,  0.5253],\n",
    "         [-1.5561,  0.0693],\n",
    "         [ 0.6731,  0.4460],\n",
    "         [ 0.6190,  0.5776],\n",
    "         [ 0.8741,  0.7104],\n",
    "         [ 0.7807, -1.7973],\n",
    "         [ 0.4094,  0.8161],\n",
    "         [-0.8624,  0.8666],\n",
    "         [ 0.9460,  0.8933],\n",
    "         [ 0.0144,  0.5563]]])\n",
    "\n",
    "\n",
    "filtered = Tensor([[[0.],\n",
    "         [0.],\n",
    "         [1.],\n",
    "         [0.],\n",
    "         [0.],\n",
    "         [1.],\n",
    "         [0.],\n",
    "         [0.],\n",
    "         [0.],\n",
    "         [0.]]])\n",
    "\n",
    "stuff = Tensor([[0, 1, 0, 0, 0, 0, 1, 0, 1, 0]]).eq(Tensor([0, 1, 0, 0, 0, 0, 0, 0, 1, 0]))"
   ]
  },
  {
   "cell_type": "code",
   "execution_count": 10,
   "metadata": {},
   "outputs": [],
   "source": [
    "test = Tensor([float('-inf')])"
   ]
  },
  {
   "cell_type": "code",
   "execution_count": 13,
   "metadata": {},
   "outputs": [
    {
     "data": {
      "text/plain": [
       "tensor(-inf)"
      ]
     },
     "execution_count": 13,
     "metadata": {},
     "output_type": "execute_result"
    }
   ],
   "source": [
    "test.flatten()[0]"
   ]
  },
  {
   "cell_type": "code",
   "execution_count": 15,
   "metadata": {},
   "outputs": [
    {
     "data": {
      "text/plain": [
       "-4"
      ]
     },
     "execution_count": 15,
     "metadata": {},
     "output_type": "execute_result"
    }
   ],
   "source": [
    "import math \n",
    "\n",
    "math.floor(-3.5)"
   ]
  },
  {
   "cell_type": "code",
   "execution_count": 16,
   "metadata": {},
   "outputs": [],
   "source": [
    "x = ch.randn(3, 2)"
   ]
  },
  {
   "cell_type": "code",
   "execution_count": 38,
   "metadata": {},
   "outputs": [],
   "source": [
    "class Interval:\n",
    "    \"\"\"\n",
    "    Interval truncation\n",
    "    \"\"\"\n",
    "    # tensor inputs for vector interval truncation\n",
    "    def __init__(self, lower, upper):\n",
    "        self.bounds = Bounds(lower, upper)\n",
    "\n",
    "    def __call__(self, x):\n",
    "        # check sample device\n",
    "        if x.is_cuda:\n",
    "            return ((self.bounds.lower.cuda() < x).prod(-1) * (x < self.bounds.upper.cuda()).prod(-1))\n",
    "        return ((self.bounds.lower < x).prod(-1) * (x < self.bounds.upper).prod(-1))"
   ]
  },
  {
   "cell_type": "code",
   "execution_count": 39,
   "metadata": {},
   "outputs": [],
   "source": [
    "test_phi = Interval(ch.full(ch.Size([2,]), -1), ch.full(ch.Size([2,]), 1))"
   ]
  },
  {
   "cell_type": "code",
   "execution_count": 43,
   "metadata": {},
   "outputs": [
    {
     "data": {
      "text/plain": [
       "torch.Size([1000, 100, 1])"
      ]
     },
     "execution_count": 43,
     "metadata": {},
     "output_type": "execute_result"
    }
   ],
   "source": [
    "test_phi(noised).unsqueeze(-1).size()"
   ]
  },
  {
   "cell_type": "code",
   "execution_count": 37,
   "metadata": {},
   "outputs": [
    {
     "data": {
      "text/plain": [
       "torch.Size([1000, 100])"
      ]
     },
     "execution_count": 37,
     "metadata": {},
     "output_type": "execute_result"
    }
   ],
   "source": [
    "(noised < test_phi.bounds.lower).prod(-1).size()"
   ]
  },
  {
   "cell_type": "code",
   "execution_count": null,
   "metadata": {},
   "outputs": [],
   "source": []
  }
 ],
 "metadata": {
  "kernelspec": {
   "display_name": "Python 3",
   "language": "python",
   "name": "python3"
  },
  "language_info": {
   "codemirror_mode": {
    "name": "ipython",
    "version": 3
   },
   "file_extension": ".py",
   "mimetype": "text/x-python",
   "name": "python",
   "nbconvert_exporter": "python",
   "pygments_lexer": "ipython3",
   "version": "3.8.5"
  },
  "latex_envs": {
   "LaTeX_envs_menu_present": true,
   "autoclose": false,
   "autocomplete": true,
   "bibliofile": "biblio.bib",
   "cite_by": "apalike",
   "current_citInitial": 1,
   "eqLabelWithNumbers": true,
   "eqNumInitial": 1,
   "hotkeys": {
    "equation": "Ctrl-E",
    "itemize": "Ctrl-I"
   },
   "labels_anchors": false,
   "latex_user_defs": false,
   "report_style_numbering": false,
   "user_envs_cfg": false
  },
  "toc": {
   "base_numbering": 1,
   "nav_menu": {},
   "number_sections": true,
   "sideBar": true,
   "skip_h1_title": false,
   "title_cell": "Table of Contents",
   "title_sidebar": "Contents",
   "toc_cell": false,
   "toc_position": {},
   "toc_section_display": true,
   "toc_window_display": false
  },
  "varInspector": {
   "cols": {
    "lenName": 16,
    "lenType": 16,
    "lenVar": 40
   },
   "kernels_config": {
    "python": {
     "delete_cmd_postfix": "",
     "delete_cmd_prefix": "del ",
     "library": "var_list.py",
     "varRefreshCmd": "print(var_dic_list())"
    },
    "r": {
     "delete_cmd_postfix": ") ",
     "delete_cmd_prefix": "rm(",
     "library": "var_list.r",
     "varRefreshCmd": "cat(var_dic_list()) "
    }
   },
   "types_to_exclude": [
    "module",
    "function",
    "builtin_function_or_method",
    "instance",
    "_Feature"
   ],
   "window_display": false
  }
 },
 "nbformat": 4,
 "nbformat_minor": 2
}
