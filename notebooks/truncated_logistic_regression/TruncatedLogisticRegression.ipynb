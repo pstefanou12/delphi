{
 "cells": [
  {
   "cell_type": "code",
   "execution_count": 15,
   "metadata": {},
   "outputs": [],
   "source": [
    "import sys \n",
    "sys.path.append('../..')\n",
    "from cox.utils import Parameters\n",
    "from cox.store import Store\n",
    "from cox.readers import CollectionReader\n",
    "from sklearn.metrics.pairwise import cosine_similarity\n",
    "from sklearn.linear_model import LogisticRegression\n",
    "import pandas as pd\n",
    "import matplotlib.pyplot as plt\n",
    "import seaborn as sns\n",
    "import math\n",
    "import itertools\n",
    "import numpy as np\n",
    "import os\n",
    "import IPython\n",
    "import torch as ch\n",
    "from torch import Tensor\n",
    "from torch.distributions import Uniform\n",
    "from torch.distributions.transforms import SigmoidTransform\n",
    "from torch.distributions.transformed_distribution import TransformedDistribution\n",
    "from torch.utils.data import DataLoader\n",
    "from delphi.stats.truncated_logistic_regression import truncated_logistic_regression\n",
    "from delphi.oracle import Left, Interval\n",
    "import delphi.utils.constants as consts\n",
    "os.environ['HDF5_USE_FILE_LOCKING'] = 'FALSE'"
   ]
  },
  {
   "cell_type": "markdown",
   "metadata": {},
   "source": [
    "# Helpers"
   ]
  },
  {
   "cell_type": "code",
   "execution_count": 90,
   "metadata": {},
   "outputs": [],
   "source": [
    "STORE_PATH = '/home/gridsan/stefanou/TruncatedLogisticRegressionWeightDecay'\n",
    "STORE_TABLE_NAME = 'log_cos'"
   ]
  },
  {
   "cell_type": "markdown",
   "metadata": {},
   "source": [
    "## Default Experiment Parameters"
   ]
  },
  {
   "cell_type": "code",
   "execution_count": 91,
   "metadata": {},
   "outputs": [],
   "source": [
    "# regression parameters\n",
    "NUM_SAMPLES, DIMS = 10000, 2\n",
    "LOWER, UPPER = -1, 1\n",
    "\n",
    "# procedure hyperparameters\n",
    "args = Parameters({ \n",
    "    'epochs': 25,\n",
    "    'workers': 0, \n",
    "    'batch_size': 100,\n",
    "    'bias': True,\n",
    "    'num_samples': 100,\n",
    "    'clamp': True, \n",
    "    'radius': 5.0, \n",
    "    'lr': 1e-2,\n",
    "    'shuffle': False, \n",
    "    'tol': 1e-2,\n",
    "    'eps': 1e-5,\n",
    "    'score': True,\n",
    "    'custom_lr_multiplier': consts.CYCLIC,\n",
    "    'var': True,\n",
    "    'momentum': .9, \n",
    "    'weight_decay': 5e-4, \n",
    "})"
   ]
  },
  {
   "cell_type": "markdown",
   "metadata": {},
   "source": [
    "# Logistic Distribution"
   ]
  },
  {
   "cell_type": "code",
   "execution_count": 92,
   "metadata": {},
   "outputs": [],
   "source": [
    "# define logistic distribution\n",
    "base_distribution = Uniform(0, 1)\n",
    "transforms_ = [SigmoidTransform().inv]\n",
    "logistic = TransformedDistribution(base_distribution, transforms_)"
   ]
  },
  {
   "cell_type": "code",
   "execution_count": 93,
   "metadata": {
    "scrolled": true
   },
   "outputs": [],
   "source": [
    "# create store\n",
    "store = Store(STORE_PATH)\n",
    "\n",
    "store.add_table(STORE_TABLE_NAME, { \n",
    "    'delphi_cos': float,\n",
    "    'mle_cos': float,\n",
    "    'alpha': float, \n",
    "    'C': float,\n",
    "})\n",
    "\n",
    "# perform each experiment a total of 10 times\n",
    "for iter_ in range(10): \n",
    "    for C in [-2, -1.75, -1.5, -1.25, -1, -.75, -.5, -.25]:\n",
    "        PREDICATE = Left(Tensor([C]))\n",
    "        args.__setattr__('phi', PREDICATE)\n",
    "        \n",
    "        # generate random uniform weights\n",
    "        W = Uniform(LOWER, UPPER).sample(ch.Size([DIMS, 1]))\n",
    "        W0 = Uniform(LOWER, UPPER).sample(ch.Size([1, 1]))\n",
    "\n",
    "        # generate data\n",
    "        X = Uniform(-100, 100).sample(ch.Size([NUM_SAMPLES, DIMS]))\n",
    "        z = X.mm(W) + W0 + logistic.sample(ch.Size([NUM_SAMPLES, 1]))\n",
    "        y = ch.where(z > 0, ch.ones(1), ch.zeros(1))\n",
    "\n",
    "        # truncate\n",
    "        indices = PREDICATE(z).nonzero(as_tuple=False).flatten()\n",
    "        z_trunc, y_trunc, x_trunc = z[indices], y[indices], X[indices]\n",
    "\n",
    "        args.__setattr__('alpha', Tensor([y_trunc.size(0) / NUM_SAMPLES]))\n",
    "\n",
    "        # truncated logistic regression\n",
    "        trunc_log_reg = truncated_logistic_regression(args.phi, args.alpha, args)\n",
    "        results = trunc_log_reg.fit(x_trunc, y_trunc)\n",
    "        w, w0 = results.weight.detach().cpu(), results.bias.detach().cpu()\n",
    "        \n",
    "        # naive estimates \n",
    "        naive_log_reg = LogisticRegression()\n",
    "        naive_log_reg.fit(x_trunc, y_trunc.flatten())\n",
    "\n",
    "        # parameter estimates \n",
    "        real_params = ch.cat([W.T, W0], axis=1)\n",
    "        mle_params = ch.cat([Tensor(naive_log_reg.coef_), Tensor(naive_log_reg.intercept_).unsqueeze(0)], axis=1)\n",
    "        delphi_params = ch.cat([w, w0.unsqueeze(0)], axis=1)\n",
    "\n",
    "        store[STORE_TABLE_NAME].append_row({ \n",
    "            'delphi_cos': cosine_similarity(delphi_params, real_params),\n",
    "            'mle_cos': cosine_similarity(mle_params, real_params),\n",
    "            'alpha': float(args.alpha),\n",
    "            'C': C,\n",
    "        })\n",
    "        \n",
    "        IPython.display.clear_output(wait=False)\n",
    "\n",
    "# close current store\n",
    "store.close()"
   ]
  },
  {
   "cell_type": "markdown",
   "metadata": {},
   "source": [
    "# Results"
   ]
  },
  {
   "cell_type": "code",
   "execution_count": null,
   "metadata": {},
   "outputs": [],
   "source": [
    "reader = CollectionReader(STORE_PATH)\n",
    "results = reader.df(STORE_TABLE_NAME)\n",
    "reader.close() # close reader\n",
    "results.head()"
   ]
  },
  {
   "cell_type": "markdown",
   "metadata": {},
   "source": [
    "# All Trials"
   ]
  },
  {
   "cell_type": "code",
   "execution_count": 87,
   "metadata": {},
   "outputs": [
    {
     "name": "stdout",
     "output_type": "stream",
     "text": [
      "all trials:\n"
     ]
    },
    {
     "data": {
      "image/png": "[encoded data removed]",
      "text/plain": [
       "<Figure size 432x288 with 1 Axes>"
      ]
     },
     "metadata": {
      "needs_background": "light"
     },
     "output_type": "display_data"
    }
   ],
   "source": [
    "print(\"all trials:\")\n",
    "\n",
    "# variance vs param mse\n",
    "sns.lineplot(data=results, x='C', y='delphi_cos', label='delphi', color='blue')\n",
    "ax = sns.lineplot(data=results, x='C', y='mle_cos', label='mle', color='red')\n",
    "ax.set(xlabel='Truncation Parameter C', ylabel='Cosine Similarity with Theta*')\n",
    "plt.show()"
   ]
  },
  {
   "cell_type": "code",
   "execution_count": 66,
   "metadata": {},
   "outputs": [
    {
     "data": {
      "text/plain": [
       "80"
      ]
     },
     "execution_count": 66,
     "metadata": {},
     "output_type": "execute_result"
    }
   ],
   "source": [
    "len(results)"
   ]
  },
  {
   "cell_type": "code",
   "execution_count": null,
   "metadata": {},
   "outputs": [],
   "source": []
  }
 ],
 "metadata": {
  "kernelspec": {
   "display_name": "Python 3",
   "language": "python",
   "name": "python3"
  },
  "language_info": {
   "codemirror_mode": {
    "name": "ipython",
    "version": 3
   },
   "file_extension": ".py",
   "mimetype": "text/x-python",
   "name": "python",
   "nbconvert_exporter": "python",
   "pygments_lexer": "ipython3",
   "version": "3.8.5"
  },
  "latex_envs": {
   "LaTeX_envs_menu_present": true,
   "autoclose": false,
   "autocomplete": true,
   "bibliofile": "biblio.bib",
   "cite_by": "apalike",
   "current_citInitial": 1,
   "eqLabelWithNumbers": true,
   "eqNumInitial": 1,
   "hotkeys": {
    "equation": "Ctrl-E",
    "itemize": "Ctrl-I"
   },
   "labels_anchors": false,
   "latex_user_defs": false,
   "report_style_numbering": false,
   "user_envs_cfg": false
  },
  "toc": {
   "base_numbering": 1,
   "nav_menu": {},
   "number_sections": true,
   "sideBar": true,
   "skip_h1_title": false,
   "title_cell": "Table of Contents",
   "title_sidebar": "Contents",
   "toc_cell": false,
   "toc_position": {},
   "toc_section_display": true,
   "toc_window_display": false
  },
  "varInspector": {
   "cols": {
    "lenName": 16,
    "lenType": 16,
    "lenVar": 40
   },
   "kernels_config": {
    "python": {
     "delete_cmd_postfix": "",
     "delete_cmd_prefix": "del ",
     "library": "var_list.py",
     "varRefreshCmd": "print(var_dic_list())"
    },
    "r": {
     "delete_cmd_postfix": ") ",
     "delete_cmd_prefix": "rm(",
     "library": "var_list.r",
     "varRefreshCmd": "cat(var_dic_list()) "
    }
   },
   "types_to_exclude": [
    "module",
    "function",
    "builtin_function_or_method",
    "instance",
    "_Feature"
   ],
   "window_display": false
  }
 },
 "nbformat": 4,
 "nbformat_minor": 2
}
