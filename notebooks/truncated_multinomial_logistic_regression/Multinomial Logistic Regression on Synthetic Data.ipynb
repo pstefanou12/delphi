{
 "cells": [
  {
   "cell_type": "code",
   "execution_count": 115,
   "metadata": {},
   "outputs": [],
   "source": [
    "import sys \n",
    "sys.path.append('../..')\n",
    "from cox.utils import Parameters\n",
    "from cox.store import Store\n",
    "from cox.readers import CollectionReader\n",
    "import pandas as pd\n",
    "import matplotlib.pyplot as plt\n",
    "import seaborn as sns\n",
    "import math\n",
    "import itertools\n",
    "import numpy as np\n",
    "import torch as ch\n",
    "from torch import Tensor\n",
    "import torch.nn as nn\n",
    "from torch.distributions import Gumbel, Uniform\n",
    "from torch.distributions.multivariate_normal import MultivariateNormal\n",
    "from torch.utils.data import TensorDataset, DataLoader\n",
    "import torch.nn.functional as F\n",
    "from delphi.utils import constants as consts\n",
    "from delphi import oracle\n",
    "from delphi import train\n",
    "from delphi.utils import defaults\n",
    "import datetime"
   ]
  },
  {
   "cell_type": "markdown",
   "metadata": {},
   "source": [
    "# Store Information, etc"
   ]
  },
  {
   "cell_type": "code",
   "execution_count": 2,
   "metadata": {},
   "outputs": [
    {
     "name": "stdout",
     "output_type": "stream",
     "text": [
      "Logging in: /home/pstefanou/LogisticRegression/5b31e98e-45d5-4775-b2ac-635e2e34fd3f\n"
     ]
    },
    {
     "data": {
      "text/plain": [
       "<cox.store.Table at 0x7f43881d2208>"
      ]
     },
     "execution_count": 2,
     "metadata": {},
     "output_type": "execute_result"
    }
   ],
   "source": [
    "STORE_PATH = '/home/pstefanou/MultinomialLogisticRegression'\n",
    "STORE_TABLE_NAME = 'multi_log_reg'\n",
    "\n",
    "store = Store(STORE_PATH)\n",
    "\n",
    "store.add_table(STORE_TABLE_NAME, { \n",
    "    'delphi_cos': float,\n",
    "    'mle_cos': float,\n",
    "    'alpha': float, \n",
    "    'C': float,\n",
    "})"
   ]
  },
  {
   "cell_type": "markdown",
   "metadata": {},
   "source": [
    "# Standard Gumbel Distribution"
   ]
  },
  {
   "cell_type": "code",
   "execution_count": 116,
   "metadata": {},
   "outputs": [
    {
     "data": {
      "text/plain": [
       "(array([  3.,   2.,   1.,   7.,  10.,  18.,  46.,  67.,  95., 131., 183.,\n",
       "        232., 238., 323., 314., 403., 413., 424., 448., 426., 442., 463.,\n",
       "        408., 413., 389., 376., 353., 335., 261., 266., 235., 247., 188.,\n",
       "        180., 173., 162., 138., 126., 108.,  86.,  98.,  91.,  66.,  62.,\n",
       "         73.,  38.,  50.,  38.,  33.,  29.,  26.,  25.,  24.,  28.,  17.,\n",
       "         14.,  20.,  13.,  13.,  13.,  11.,   9.,   9.,   6.,  11.,   5.,\n",
       "          7.,   2.,   4.,   3.,   2.,   2.,   2.,   2.,   3.,   2.,   3.,\n",
       "          2.,   1.,   3.,   1.,   0.,   0.,   0.,   0.,   2.,   1.,   0.,\n",
       "          1.,   0.,   0.,   0.,   0.,   0.,   0.,   0.,   0.,   0.,   1.,\n",
       "          1.]),\n",
       " array([-2.3604083 , -2.2408545 , -2.121301  , -2.0017471 , -1.8821934 ,\n",
       "        -1.7626398 , -1.6430861 , -1.5235324 , -1.4039787 , -1.284425  ,\n",
       "        -1.1648712 , -1.0453175 , -0.92576385, -0.80621016, -0.6866565 ,\n",
       "        -0.56710273, -0.44754905, -0.32799533, -0.20844163, -0.08888792,\n",
       "         0.03066578,  0.15021949,  0.2697732 ,  0.3893269 ,  0.5088806 ,\n",
       "         0.6284343 ,  0.747988  ,  0.86754173,  0.9870954 ,  1.1066492 ,\n",
       "         1.2262028 ,  1.3457565 ,  1.4653102 ,  1.5848639 ,  1.7044176 ,\n",
       "         1.8239714 ,  1.9435251 ,  2.0630786 ,  2.1826324 ,  2.3021863 ,\n",
       "         2.4217398 ,  2.5412936 ,  2.6608472 ,  2.780401  ,  2.8999548 ,\n",
       "         3.0195084 ,  3.1390622 ,  3.2586157 ,  3.3781695 ,  3.497723  ,\n",
       "         3.617277  ,  3.7368307 ,  3.8563843 ,  3.975938  ,  4.095492  ,\n",
       "         4.2150455 ,  4.334599  ,  4.454153  ,  4.5737066 ,  4.69326   ,\n",
       "         4.8128138 ,  4.932368  ,  5.0519214 ,  5.171475  ,  5.291029  ,\n",
       "         5.4105825 ,  5.530136  ,  5.6496897 ,  5.7692437 ,  5.8887973 ,\n",
       "         6.008351  ,  6.127905  ,  6.2474585 ,  6.367012  ,  6.4865656 ,\n",
       "         6.6061196 ,  6.725673  ,  6.845227  ,  6.964781  ,  7.0843344 ,\n",
       "         7.203888  ,  7.3234415 ,  7.4429955 ,  7.562549  ,  7.6821027 ,\n",
       "         7.8016567 ,  7.9212103 ,  8.040764  ,  8.160317  ,  8.279871  ,\n",
       "         8.3994255 ,  8.518979  ,  8.638533  ,  8.758086  ,  8.87764   ,\n",
       "         8.997193  ,  9.116747  ,  9.236301  ,  9.355855  ,  9.475409  ,\n",
       "         9.594962  ], dtype=float32),\n",
       " <a list of 100 Patch objects>)"
      ]
     },
     "execution_count": 116,
     "metadata": {},
     "output_type": "execute_result"
    },
    {
     "data": {
      "image/png": "[encoded data removed]",
      "text/plain": [
       "<Figure size 432x288 with 1 Axes>"
      ]
     },
     "metadata": {
      "needs_background": "light"
     },
     "output_type": "display_data"
    }
   ],
   "source": [
    "G = Gumbel(0, 1)\n",
    "\n",
    "samples = G.sample(ch.Size([10000, 1])).T\n",
    "plt.hist(samples, bins=100)"
   ]
  },
  {
   "cell_type": "markdown",
   "metadata": {},
   "source": [
    "## Default Experiment Parameters"
   ]
  },
  {
   "cell_type": "code",
   "execution_count": 138,
   "metadata": {},
   "outputs": [],
   "source": [
    "# procedure hyperparameters\n",
    "args = Parameters({ \n",
    "    'epochs': 25,\n",
    "    'num_workers': 0, \n",
    "    'batch_size': 10,\n",
    "    'bias': True,\n",
    "    'num_samples': 100,\n",
    "    'clamp': True, \n",
    "    'radius': 5.0, \n",
    "    'var_lr': 1e-2,\n",
    "    'lr': 1e-1,\n",
    "    'shuffle': False, \n",
    "    'tol': 1e-2,\n",
    "    'custom_lr_multiplier': consts.COSINE,\n",
    "    'samples': 10000,  # number of samples to generate for ground truth\n",
    "    'in_features': 1, # number of in-features to multi-log-reg\n",
    "    'k': 2, # number of classes\n",
    "    'lower': -1, # lower bound for generating ground truth weights\n",
    "    'upper': 1,  # upper bound for generating ground truth weights\n",
    "    'custom_criterion': F.gumbel_softmax,\n",
    "})\n",
    "\n",
    "# args = defaults.check_and_fill_args(train_kwargs, defaults.TRAINING_ARGS, CIFAR)"
   ]
  },
  {
   "cell_type": "markdown",
   "metadata": {},
   "source": [
    "# Multinomial Logistic Regression"
   ]
  },
  {
   "cell_type": "code",
   "execution_count": 172,
   "metadata": {},
   "outputs": [
    {
     "name": "stdout",
     "output_type": "stream",
     "text": [
      "ground truth weights: Parameter containing:\n",
      "tensor([[-0.4753],\n",
      "        [-0.3206]], requires_grad=True)\n",
      "ground truth bias: Parameter containing:\n",
      "tensor([-0.0283,  0.6675], requires_grad=True)\n"
     ]
    },
    {
     "ename": "RuntimeError",
     "evalue": "The size of tensor a (2) must match the size of tensor b (10000) at non-singleton dimension 1",
     "output_type": "error",
     "traceback": [
      "\u001b[0;31m---------------------------------------------------------------------------\u001b[0m",
      "\u001b[0;31mRuntimeError\u001b[0m                              Traceback (most recent call last)",
      "\u001b[0;32m<ipython-input-172-be54252c5c14>\u001b[0m in \u001b[0;36m<module>\u001b[0;34m\u001b[0m\n\u001b[1;32m     16\u001b[0m \u001b[0my\u001b[0m \u001b[0;34m=\u001b[0m \u001b[0mch\u001b[0m\u001b[0;34m.\u001b[0m\u001b[0margmax\u001b[0m\u001b[0;34m(\u001b[0m\u001b[0mz\u001b[0m \u001b[0;34m+\u001b[0m \u001b[0mG\u001b[0m\u001b[0;34m.\u001b[0m\u001b[0msample\u001b[0m\u001b[0;34m(\u001b[0m\u001b[0mz\u001b[0m\u001b[0;34m.\u001b[0m\u001b[0msize\u001b[0m\u001b[0;34m(\u001b[0m\u001b[0;34m)\u001b[0m\u001b[0;34m)\u001b[0m\u001b[0;34m,\u001b[0m \u001b[0mdim\u001b[0m\u001b[0;34m=\u001b[0m\u001b[0;36m1\u001b[0m\u001b[0;34m)\u001b[0m\u001b[0;34m\u001b[0m\u001b[0;34m\u001b[0m\u001b[0m\n\u001b[1;32m     17\u001b[0m \u001b[0;31m# print(\"accuracy: {}\".format((ch.argmax(ch.log_softmax(ground_truth(X), dim=1), dim=1) == y).nonzero(as_tuple=False).flatten().size(0)/args.samples))\u001b[0m\u001b[0;34m\u001b[0m\u001b[0;34m\u001b[0m\u001b[0;34m\u001b[0m\u001b[0m\n\u001b[0;32m---> 18\u001b[0;31m \u001b[0mprint\u001b[0m\u001b[0;34m(\u001b[0m\u001b[0;34m\"accuracy: {}\"\u001b[0m\u001b[0;34m.\u001b[0m\u001b[0mformat\u001b[0m\u001b[0;34m(\u001b[0m\u001b[0;34m(\u001b[0m\u001b[0mF\u001b[0m\u001b[0;34m.\u001b[0m\u001b[0mgumbel_softmax\u001b[0m\u001b[0;34m(\u001b[0m\u001b[0mch\u001b[0m\u001b[0;34m.\u001b[0m\u001b[0mlog_softmax\u001b[0m\u001b[0;34m(\u001b[0m\u001b[0mground_truth\u001b[0m\u001b[0;34m(\u001b[0m\u001b[0mX\u001b[0m\u001b[0;34m)\u001b[0m\u001b[0;34m,\u001b[0m \u001b[0mdim\u001b[0m\u001b[0;34m=\u001b[0m\u001b[0;36m1\u001b[0m\u001b[0;34m)\u001b[0m\u001b[0;34m,\u001b[0m \u001b[0mdim\u001b[0m\u001b[0;34m=\u001b[0m\u001b[0;36m1\u001b[0m\u001b[0;34m)\u001b[0m \u001b[0;34m==\u001b[0m \u001b[0my\u001b[0m\u001b[0;34m)\u001b[0m\u001b[0;34m.\u001b[0m\u001b[0mnonzero\u001b[0m\u001b[0;34m(\u001b[0m\u001b[0mas_tuple\u001b[0m\u001b[0;34m=\u001b[0m\u001b[0;32mFalse\u001b[0m\u001b[0;34m)\u001b[0m\u001b[0;34m.\u001b[0m\u001b[0mflatten\u001b[0m\u001b[0;34m(\u001b[0m\u001b[0;34m)\u001b[0m\u001b[0;34m.\u001b[0m\u001b[0msize\u001b[0m\u001b[0;34m(\u001b[0m\u001b[0;36m0\u001b[0m\u001b[0;34m)\u001b[0m\u001b[0;34m/\u001b[0m\u001b[0margs\u001b[0m\u001b[0;34m.\u001b[0m\u001b[0msamples\u001b[0m\u001b[0;34m)\u001b[0m\u001b[0;34m)\u001b[0m\u001b[0;34m\u001b[0m\u001b[0;34m\u001b[0m\u001b[0m\n\u001b[0m",
      "\u001b[0;32m~/env/lib/python3.6/site-packages/torch/tensor.py\u001b[0m in \u001b[0;36mwrapped\u001b[0;34m(*args, **kwargs)\u001b[0m\n\u001b[1;32m     25\u001b[0m             \u001b[0;32mreturn\u001b[0m \u001b[0mhandle_torch_function\u001b[0m\u001b[0;34m(\u001b[0m\u001b[0mwrapped\u001b[0m\u001b[0;34m,\u001b[0m \u001b[0margs\u001b[0m\u001b[0;34m,\u001b[0m \u001b[0;34m*\u001b[0m\u001b[0margs\u001b[0m\u001b[0;34m,\u001b[0m \u001b[0;34m**\u001b[0m\u001b[0mkwargs\u001b[0m\u001b[0;34m)\u001b[0m\u001b[0;34m\u001b[0m\u001b[0;34m\u001b[0m\u001b[0m\n\u001b[1;32m     26\u001b[0m         \u001b[0;32mtry\u001b[0m\u001b[0;34m:\u001b[0m\u001b[0;34m\u001b[0m\u001b[0;34m\u001b[0m\u001b[0m\n\u001b[0;32m---> 27\u001b[0;31m             \u001b[0;32mreturn\u001b[0m \u001b[0mf\u001b[0m\u001b[0;34m(\u001b[0m\u001b[0;34m*\u001b[0m\u001b[0margs\u001b[0m\u001b[0;34m,\u001b[0m \u001b[0;34m**\u001b[0m\u001b[0mkwargs\u001b[0m\u001b[0;34m)\u001b[0m\u001b[0;34m\u001b[0m\u001b[0;34m\u001b[0m\u001b[0m\n\u001b[0m\u001b[1;32m     28\u001b[0m         \u001b[0;32mexcept\u001b[0m \u001b[0mTypeError\u001b[0m\u001b[0;34m:\u001b[0m\u001b[0;34m\u001b[0m\u001b[0;34m\u001b[0m\u001b[0m\n\u001b[1;32m     29\u001b[0m             \u001b[0;32mreturn\u001b[0m \u001b[0mNotImplemented\u001b[0m\u001b[0;34m\u001b[0m\u001b[0;34m\u001b[0m\u001b[0m\n",
      "\u001b[0;31mRuntimeError\u001b[0m: The size of tensor a (2) must match the size of tensor b (10000) at non-singleton dimension 1"
     ]
    }
   ],
   "source": [
    "# generate ground-truth from uniform distribution\n",
    "U = Uniform(args.lower, args.upper)\n",
    "ground_truth = nn.Linear(in_features=args.IN_FEATURES, out_features=args.K, bias=args.bias)\n",
    "ground_truth.weight = nn.Parameter(U.sample(ch.Size([args.K, args.IN_FEATURES])))\n",
    "if ground_truth.bias is not None: \n",
    "    ground_truth.bias = nn.Parameter(U.sample(ch.Size([args.K,])))\n",
    "print(\"ground truth weights: {}\".format(ground_truth.weight))\n",
    "print(\"ground truth bias: {}\".format(ground_truth.bias))\n",
    "# independent variable \n",
    "M = MultivariateNormal(ch.zeros(args.IN_FEATURES), ch.eye(args.IN_FEATURES)/args.IN_FEATURES)\n",
    "X = M.sample(ch.Size([args.samples]))\n",
    "\n",
    "# determine base model logits \n",
    "z = ground_truth(X)\n",
    "# add gumbel noise to all logits and take argmax\n",
    "y = ch.argmax(z + G.sample(z.size()), dim=1)\n",
    "# print(\"accuracy: {}\".format((ch.argmax(ch.log_softmax(ground_truth(X), dim=1), dim=1) == y).nonzero(as_tuple=False).flatten().size(0)/args.samples))\n",
    "print(\"accuracy: {}\".format((F.gumbel_softmax(ch.log_softmax(ground_truth(X), dim=1), dim=1) == y).nonzero(as_tuple=False).flatten().size(0)/args.samples))"
   ]
  },
  {
   "cell_type": "markdown",
   "metadata": {},
   "source": [
    "# Model to Generate Data"
   ]
  },
  {
   "cell_type": "code",
   "execution_count": 181,
   "metadata": {},
   "outputs": [
    {
     "data": {
      "text/plain": [
       "10000"
      ]
     },
     "execution_count": 181,
     "metadata": {},
     "output_type": "execute_result"
    }
   ],
   "source": []
  },
  {
   "cell_type": "code",
   "execution_count": 140,
   "metadata": {},
   "outputs": [],
   "source": [
    "ds = TensorDataset(X, y)\n",
    "loaders = (DataLoader(ds), None)"
   ]
  },
  {
   "cell_type": "code",
   "execution_count": 113,
   "metadata": {},
   "outputs": [
    {
     "ename": "TypeError",
     "evalue": "'<' not supported between instances of 'NoneType' and 'float'",
     "output_type": "error",
     "traceback": [
      "\u001b[0;31m---------------------------------------------------------------------------\u001b[0m",
      "\u001b[0;31mTypeError\u001b[0m                                 Traceback (most recent call last)",
      "\u001b[0;32m<ipython-input-113-31895f1e67cf>\u001b[0m in \u001b[0;36m<module>\u001b[0;34m\u001b[0m\n\u001b[0;32m----> 1\u001b[0;31m \u001b[0mresults\u001b[0m \u001b[0;34m=\u001b[0m \u001b[0mtrain\u001b[0m\u001b[0;34m.\u001b[0m\u001b[0mtrain_model\u001b[0m\u001b[0;34m(\u001b[0m\u001b[0margs\u001b[0m\u001b[0;34m,\u001b[0m \u001b[0mmodel\u001b[0m\u001b[0;34m=\u001b[0m\u001b[0mnn\u001b[0m\u001b[0;34m.\u001b[0m\u001b[0mLinear\u001b[0m\u001b[0;34m(\u001b[0m\u001b[0min_features\u001b[0m\u001b[0;34m=\u001b[0m\u001b[0margs\u001b[0m\u001b[0;34m.\u001b[0m\u001b[0mIN_FEATURES\u001b[0m\u001b[0;34m,\u001b[0m \u001b[0mout_features\u001b[0m\u001b[0;34m=\u001b[0m\u001b[0margs\u001b[0m\u001b[0;34m.\u001b[0m\u001b[0mk\u001b[0m\u001b[0;34m,\u001b[0m \u001b[0mbias\u001b[0m\u001b[0;34m=\u001b[0m\u001b[0margs\u001b[0m\u001b[0;34m.\u001b[0m\u001b[0mbias\u001b[0m\u001b[0;34m)\u001b[0m\u001b[0;34m,\u001b[0m \u001b[0mloaders\u001b[0m\u001b[0;34m=\u001b[0m\u001b[0mloaders\u001b[0m\u001b[0;34m)\u001b[0m\u001b[0;34m\u001b[0m\u001b[0;34m\u001b[0m\u001b[0m\n\u001b[0m",
      "\u001b[0;32m~/efficient-trunc-reg-unknown-noise-var/delphi/train.py\u001b[0m in \u001b[0;36mtrain_model\u001b[0;34m(args, model, loaders, checkpoint, device, dp_device_ids, store, update_params, disable_no_grad)\u001b[0m\n\u001b[1;32m    114\u001b[0m     \u001b[0;31m# data loaders\u001b[0m\u001b[0;34m\u001b[0m\u001b[0;34m\u001b[0m\u001b[0;34m\u001b[0m\u001b[0m\n\u001b[1;32m    115\u001b[0m     \u001b[0mtrain_loader\u001b[0m\u001b[0;34m,\u001b[0m \u001b[0mval_loader\u001b[0m \u001b[0;34m=\u001b[0m \u001b[0mloaders\u001b[0m\u001b[0;34m\u001b[0m\u001b[0;34m\u001b[0m\u001b[0m\n\u001b[0;32m--> 116\u001b[0;31m     \u001b[0moptimizer\u001b[0m\u001b[0;34m,\u001b[0m \u001b[0mschedule\u001b[0m \u001b[0;34m=\u001b[0m \u001b[0mmake_optimizer_and_schedule\u001b[0m\u001b[0;34m(\u001b[0m\u001b[0margs\u001b[0m\u001b[0;34m,\u001b[0m \u001b[0mmodel\u001b[0m\u001b[0;34m,\u001b[0m \u001b[0mcheckpoint\u001b[0m\u001b[0;34m,\u001b[0m \u001b[0mupdate_params\u001b[0m\u001b[0;34m)\u001b[0m\u001b[0;34m\u001b[0m\u001b[0;34m\u001b[0m\u001b[0m\n\u001b[0m\u001b[1;32m    117\u001b[0m \u001b[0;34m\u001b[0m\u001b[0m\n\u001b[1;32m    118\u001b[0m     \u001b[0;31m# put the model into parallel mode\u001b[0m\u001b[0;34m\u001b[0m\u001b[0;34m\u001b[0m\u001b[0;34m\u001b[0m\u001b[0m\n",
      "\u001b[0;32m~/efficient-trunc-reg-unknown-noise-var/delphi/train.py\u001b[0m in \u001b[0;36mmake_optimizer_and_schedule\u001b[0;34m(args, model, checkpoint, params)\u001b[0m\n\u001b[1;32m     24\u001b[0m     \u001b[0mparam_list\u001b[0m \u001b[0;34m=\u001b[0m \u001b[0mmodel\u001b[0m\u001b[0;34m.\u001b[0m\u001b[0mparameters\u001b[0m\u001b[0;34m(\u001b[0m\u001b[0;34m)\u001b[0m \u001b[0;32mif\u001b[0m \u001b[0mparams\u001b[0m \u001b[0;32mis\u001b[0m \u001b[0;32mNone\u001b[0m \u001b[0;32melse\u001b[0m \u001b[0mparams\u001b[0m\u001b[0;34m\u001b[0m\u001b[0;34m\u001b[0m\u001b[0m\n\u001b[1;32m     25\u001b[0m \u001b[0;34m\u001b[0m\u001b[0m\n\u001b[0;32m---> 26\u001b[0;31m     \u001b[0moptimizer\u001b[0m \u001b[0;34m=\u001b[0m \u001b[0mSGD\u001b[0m\u001b[0;34m(\u001b[0m\u001b[0mparam_list\u001b[0m\u001b[0;34m,\u001b[0m \u001b[0margs\u001b[0m\u001b[0;34m.\u001b[0m\u001b[0mlr\u001b[0m\u001b[0;34m,\u001b[0m \u001b[0mmomentum\u001b[0m\u001b[0;34m=\u001b[0m\u001b[0margs\u001b[0m\u001b[0;34m.\u001b[0m\u001b[0mmomentum\u001b[0m\u001b[0;34m,\u001b[0m \u001b[0mweight_decay\u001b[0m\u001b[0;34m=\u001b[0m\u001b[0margs\u001b[0m\u001b[0;34m.\u001b[0m\u001b[0mweight_decay\u001b[0m\u001b[0;34m)\u001b[0m\u001b[0;34m\u001b[0m\u001b[0;34m\u001b[0m\u001b[0m\n\u001b[0m\u001b[1;32m     27\u001b[0m \u001b[0;34m\u001b[0m\u001b[0m\n\u001b[1;32m     28\u001b[0m     \u001b[0;31m# Make schedule\u001b[0m\u001b[0;34m\u001b[0m\u001b[0;34m\u001b[0m\u001b[0;34m\u001b[0m\u001b[0m\n",
      "\u001b[0;32m~/env/lib/python3.6/site-packages/torch/optim/sgd.py\u001b[0m in \u001b[0;36m__init__\u001b[0;34m(self, params, lr, momentum, dampening, weight_decay, nesterov)\u001b[0m\n\u001b[1;32m     57\u001b[0m         \u001b[0;32mif\u001b[0m \u001b[0mlr\u001b[0m \u001b[0;32mis\u001b[0m \u001b[0;32mnot\u001b[0m \u001b[0mrequired\u001b[0m \u001b[0;32mand\u001b[0m \u001b[0mlr\u001b[0m \u001b[0;34m<\u001b[0m \u001b[0;36m0.0\u001b[0m\u001b[0;34m:\u001b[0m\u001b[0;34m\u001b[0m\u001b[0;34m\u001b[0m\u001b[0m\n\u001b[1;32m     58\u001b[0m             \u001b[0;32mraise\u001b[0m \u001b[0mValueError\u001b[0m\u001b[0;34m(\u001b[0m\u001b[0;34m\"Invalid learning rate: {}\"\u001b[0m\u001b[0;34m.\u001b[0m\u001b[0mformat\u001b[0m\u001b[0;34m(\u001b[0m\u001b[0mlr\u001b[0m\u001b[0;34m)\u001b[0m\u001b[0;34m)\u001b[0m\u001b[0;34m\u001b[0m\u001b[0;34m\u001b[0m\u001b[0m\n\u001b[0;32m---> 59\u001b[0;31m         \u001b[0;32mif\u001b[0m \u001b[0mmomentum\u001b[0m \u001b[0;34m<\u001b[0m \u001b[0;36m0.0\u001b[0m\u001b[0;34m:\u001b[0m\u001b[0;34m\u001b[0m\u001b[0;34m\u001b[0m\u001b[0m\n\u001b[0m\u001b[1;32m     60\u001b[0m             \u001b[0;32mraise\u001b[0m \u001b[0mValueError\u001b[0m\u001b[0;34m(\u001b[0m\u001b[0;34m\"Invalid momentum value: {}\"\u001b[0m\u001b[0;34m.\u001b[0m\u001b[0mformat\u001b[0m\u001b[0;34m(\u001b[0m\u001b[0mmomentum\u001b[0m\u001b[0;34m)\u001b[0m\u001b[0;34m)\u001b[0m\u001b[0;34m\u001b[0m\u001b[0;34m\u001b[0m\u001b[0m\n\u001b[1;32m     61\u001b[0m         \u001b[0;32mif\u001b[0m \u001b[0mweight_decay\u001b[0m \u001b[0;34m<\u001b[0m \u001b[0;36m0.0\u001b[0m\u001b[0;34m:\u001b[0m\u001b[0;34m\u001b[0m\u001b[0;34m\u001b[0m\u001b[0m\n",
      "\u001b[0;31mTypeError\u001b[0m: '<' not supported between instances of 'NoneType' and 'float'"
     ]
    }
   ],
   "source": [
    "results = train.train_model(args, model=nn.Linear(in_features=args.IN_FEATURES, out_features=args.k, bias=args.bias), loaders=loaders)"
   ]
  },
  {
   "cell_type": "markdown",
   "metadata": {},
   "source": [
    "# Gradient"
   ]
  },
  {
   "cell_type": "code",
   "execution_count": 5,
   "metadata": {
    "scrolled": true
   },
   "outputs": [
    {
     "data": {
      "application/vnd.jupyter.widget-view+json": {
       "model_id": "a66a3826af914ddcb834ba1b272d7995",
       "version_major": 2,
       "version_minor": 0
      },
      "text/plain": [
       "HBox(children=(HTML(value=''), FloatProgress(value=0.0, max=503.0), HTML(value='')))"
      ]
     },
     "metadata": {},
     "output_type": "display_data"
    },
    {
     "name": "stdout",
     "output_type": "stream",
     "text": [
      "\n"
     ]
    },
    {
     "ename": "TypeError",
     "evalue": "unsupported operand type(s) for *: 'float' and 'NoneType'",
     "output_type": "error",
     "traceback": [
      "\u001b[0;31m---------------------------------------------------------------------------\u001b[0m",
      "\u001b[0;31mTypeError\u001b[0m                                 Traceback (most recent call last)",
      "\u001b[0;32m<ipython-input-5-8aaa20b4b15f>\u001b[0m in \u001b[0;36m<module>\u001b[0;34m\u001b[0m\n\u001b[1;32m     23\u001b[0m         trunc_log_reg = truncated_logistic_regression(phi=args.phi, alpha=args.alpha, bias=args.bias, epochs=args.epochs, \n\u001b[1;32m     24\u001b[0m                                                       lr=args.lr, num_samples=args.num_samples, tol=args.tol)\n\u001b[0;32m---> 25\u001b[0;31m         \u001b[0mresults\u001b[0m \u001b[0;34m=\u001b[0m \u001b[0mtrunc_log_reg\u001b[0m\u001b[0;34m.\u001b[0m\u001b[0mfit\u001b[0m\u001b[0;34m(\u001b[0m\u001b[0mS\u001b[0m\u001b[0;34m)\u001b[0m\u001b[0;34m\u001b[0m\u001b[0;34m\u001b[0m\u001b[0m\n\u001b[0m\u001b[1;32m     26\u001b[0m         \u001b[0mw\u001b[0m\u001b[0;34m,\u001b[0m \u001b[0mw0\u001b[0m \u001b[0;34m=\u001b[0m \u001b[0mresults\u001b[0m\u001b[0;34m.\u001b[0m\u001b[0mweight\u001b[0m\u001b[0;34m.\u001b[0m\u001b[0mdetach\u001b[0m\u001b[0;34m(\u001b[0m\u001b[0;34m)\u001b[0m\u001b[0;34m.\u001b[0m\u001b[0mcpu\u001b[0m\u001b[0;34m(\u001b[0m\u001b[0;34m)\u001b[0m\u001b[0;34m,\u001b[0m \u001b[0mresults\u001b[0m\u001b[0;34m.\u001b[0m\u001b[0mbias\u001b[0m\u001b[0;34m.\u001b[0m\u001b[0mdetach\u001b[0m\u001b[0;34m(\u001b[0m\u001b[0;34m)\u001b[0m\u001b[0;34m.\u001b[0m\u001b[0mcpu\u001b[0m\u001b[0;34m(\u001b[0m\u001b[0;34m)\u001b[0m\u001b[0;34m\u001b[0m\u001b[0;34m\u001b[0m\u001b[0m\n\u001b[1;32m     27\u001b[0m \u001b[0;34m\u001b[0m\u001b[0m\n",
      "\u001b[0;32m~/efficient-trunc-reg-unknown-noise-var/delphi/stats/truncated_logistic_regression.py\u001b[0m in \u001b[0;36mfit\u001b[0;34m(self, S)\u001b[0m\n\u001b[1;32m     83\u001b[0m         \u001b[0mconfig\u001b[0m\u001b[0;34m.\u001b[0m\u001b[0margs\u001b[0m\u001b[0;34m.\u001b[0m\u001b[0m__setattr__\u001b[0m\u001b[0;34m(\u001b[0m\u001b[0;34m'iteration_hook'\u001b[0m\u001b[0;34m,\u001b[0m \u001b[0mself\u001b[0m\u001b[0;34m.\u001b[0m\u001b[0mprojection_set\u001b[0m\u001b[0;34m)\u001b[0m\u001b[0;34m\u001b[0m\u001b[0;34m\u001b[0m\u001b[0m\n\u001b[1;32m     84\u001b[0m         \u001b[0;31m# run PGD to predict actual estimates\u001b[0m\u001b[0;34m\u001b[0m\u001b[0;34m\u001b[0m\u001b[0;34m\u001b[0m\u001b[0m\n\u001b[0;32m---> 85\u001b[0;31m         \u001b[0;32mreturn\u001b[0m \u001b[0mtrain_model\u001b[0m\u001b[0;34m(\u001b[0m\u001b[0mself\u001b[0m\u001b[0;34m.\u001b[0m\u001b[0m_log_reg\u001b[0m\u001b[0;34m,\u001b[0m \u001b[0;34m(\u001b[0m\u001b[0mS\u001b[0m\u001b[0;34m,\u001b[0m \u001b[0;32mNone\u001b[0m\u001b[0;34m)\u001b[0m\u001b[0;34m)\u001b[0m\u001b[0;34m\u001b[0m\u001b[0;34m\u001b[0m\u001b[0m\n\u001b[0m\u001b[1;32m     86\u001b[0m \u001b[0;34m\u001b[0m\u001b[0m\n\u001b[1;32m     87\u001b[0m \u001b[0;34m\u001b[0m\u001b[0m\n",
      "\u001b[0;32m~/efficient-trunc-reg-unknown-noise-var/delphi/train.py\u001b[0m in \u001b[0;36mtrain_model\u001b[0;34m(model, loaders, checkpoint, device, dp_device_ids, store, update_params, disable_no_grad)\u001b[0m\n\u001b[1;32m    157\u001b[0m \u001b[0;34m\u001b[0m\u001b[0m\n\u001b[1;32m    158\u001b[0m         \u001b[0;31m# update lr\u001b[0m\u001b[0;34m\u001b[0m\u001b[0;34m\u001b[0m\u001b[0;34m\u001b[0m\u001b[0m\n\u001b[0;32m--> 159\u001b[0;31m         \u001b[0;32mif\u001b[0m \u001b[0mschedule\u001b[0m\u001b[0;34m:\u001b[0m \u001b[0mschedule\u001b[0m\u001b[0;34m.\u001b[0m\u001b[0mstep\u001b[0m\u001b[0;34m(\u001b[0m\u001b[0;34m)\u001b[0m\u001b[0;34m\u001b[0m\u001b[0;34m\u001b[0m\u001b[0m\n\u001b[0m\u001b[1;32m    160\u001b[0m \u001b[0;34m\u001b[0m\u001b[0m\n\u001b[1;32m    161\u001b[0m         \u001b[0mtqdm\u001b[0m\u001b[0;34m.\u001b[0m\u001b[0m_instances\u001b[0m\u001b[0;34m.\u001b[0m\u001b[0mclear\u001b[0m\u001b[0;34m(\u001b[0m\u001b[0;34m)\u001b[0m\u001b[0;34m\u001b[0m\u001b[0;34m\u001b[0m\u001b[0m\n",
      "\u001b[0;32m~/env/lib/python3.6/site-packages/torch/optim/lr_scheduler.py\u001b[0m in \u001b[0;36mstep\u001b[0;34m(self, epoch)\u001b[0m\n\u001b[1;32m    152\u001b[0m             \u001b[0;32mif\u001b[0m \u001b[0mepoch\u001b[0m \u001b[0;32mis\u001b[0m \u001b[0;32mNone\u001b[0m\u001b[0;34m:\u001b[0m\u001b[0;34m\u001b[0m\u001b[0;34m\u001b[0m\u001b[0m\n\u001b[1;32m    153\u001b[0m                 \u001b[0mself\u001b[0m\u001b[0;34m.\u001b[0m\u001b[0mlast_epoch\u001b[0m \u001b[0;34m+=\u001b[0m \u001b[0;36m1\u001b[0m\u001b[0;34m\u001b[0m\u001b[0;34m\u001b[0m\u001b[0m\n\u001b[0;32m--> 154\u001b[0;31m                 \u001b[0mvalues\u001b[0m \u001b[0;34m=\u001b[0m \u001b[0mself\u001b[0m\u001b[0;34m.\u001b[0m\u001b[0mget_lr\u001b[0m\u001b[0;34m(\u001b[0m\u001b[0;34m)\u001b[0m\u001b[0;34m\u001b[0m\u001b[0;34m\u001b[0m\u001b[0m\n\u001b[0m\u001b[1;32m    155\u001b[0m             \u001b[0;32melse\u001b[0m\u001b[0;34m:\u001b[0m\u001b[0;34m\u001b[0m\u001b[0;34m\u001b[0m\u001b[0m\n\u001b[1;32m    156\u001b[0m                 \u001b[0mwarnings\u001b[0m\u001b[0;34m.\u001b[0m\u001b[0mwarn\u001b[0m\u001b[0;34m(\u001b[0m\u001b[0mEPOCH_DEPRECATION_WARNING\u001b[0m\u001b[0;34m,\u001b[0m \u001b[0mUserWarning\u001b[0m\u001b[0;34m)\u001b[0m\u001b[0;34m\u001b[0m\u001b[0;34m\u001b[0m\u001b[0m\n",
      "\u001b[0;32m~/env/lib/python3.6/site-packages/torch/optim/lr_scheduler.py\u001b[0m in \u001b[0;36mget_lr\u001b[0;34m(self)\u001b[0m\n\u001b[1;32m    373\u001b[0m             \u001b[0;32mreturn\u001b[0m \u001b[0;34m[\u001b[0m\u001b[0mgroup\u001b[0m\u001b[0;34m[\u001b[0m\u001b[0;34m'lr'\u001b[0m\u001b[0;34m]\u001b[0m \u001b[0;32mfor\u001b[0m \u001b[0mgroup\u001b[0m \u001b[0;32min\u001b[0m \u001b[0mself\u001b[0m\u001b[0;34m.\u001b[0m\u001b[0moptimizer\u001b[0m\u001b[0;34m.\u001b[0m\u001b[0mparam_groups\u001b[0m\u001b[0;34m]\u001b[0m\u001b[0;34m\u001b[0m\u001b[0;34m\u001b[0m\u001b[0m\n\u001b[1;32m    374\u001b[0m         return [group['lr'] * self.gamma\n\u001b[0;32m--> 375\u001b[0;31m                 for group in self.optimizer.param_groups]\n\u001b[0m\u001b[1;32m    376\u001b[0m \u001b[0;34m\u001b[0m\u001b[0m\n\u001b[1;32m    377\u001b[0m     \u001b[0;32mdef\u001b[0m \u001b[0m_get_closed_form_lr\u001b[0m\u001b[0;34m(\u001b[0m\u001b[0mself\u001b[0m\u001b[0;34m)\u001b[0m\u001b[0;34m:\u001b[0m\u001b[0;34m\u001b[0m\u001b[0;34m\u001b[0m\u001b[0m\n",
      "\u001b[0;32m~/env/lib/python3.6/site-packages/torch/optim/lr_scheduler.py\u001b[0m in \u001b[0;36m<listcomp>\u001b[0;34m(.0)\u001b[0m\n\u001b[1;32m    373\u001b[0m             \u001b[0;32mreturn\u001b[0m \u001b[0;34m[\u001b[0m\u001b[0mgroup\u001b[0m\u001b[0;34m[\u001b[0m\u001b[0;34m'lr'\u001b[0m\u001b[0;34m]\u001b[0m \u001b[0;32mfor\u001b[0m \u001b[0mgroup\u001b[0m \u001b[0;32min\u001b[0m \u001b[0mself\u001b[0m\u001b[0;34m.\u001b[0m\u001b[0moptimizer\u001b[0m\u001b[0;34m.\u001b[0m\u001b[0mparam_groups\u001b[0m\u001b[0;34m]\u001b[0m\u001b[0;34m\u001b[0m\u001b[0;34m\u001b[0m\u001b[0m\n\u001b[1;32m    374\u001b[0m         return [group['lr'] * self.gamma\n\u001b[0;32m--> 375\u001b[0;31m                 for group in self.optimizer.param_groups]\n\u001b[0m\u001b[1;32m    376\u001b[0m \u001b[0;34m\u001b[0m\u001b[0m\n\u001b[1;32m    377\u001b[0m     \u001b[0;32mdef\u001b[0m \u001b[0m_get_closed_form_lr\u001b[0m\u001b[0;34m(\u001b[0m\u001b[0mself\u001b[0m\u001b[0;34m)\u001b[0m\u001b[0;34m:\u001b[0m\u001b[0;34m\u001b[0m\u001b[0;34m\u001b[0m\u001b[0m\n",
      "\u001b[0;31mTypeError\u001b[0m: unsupported operand type(s) for *: 'float' and 'NoneType'"
     ]
    }
   ],
   "source": [
    "# perform each experiment a total of 10 times\n",
    "for iter_ in range(100): \n",
    "    for C in [-2, -.5, -1, -.5]:\n",
    "        PREDICATE = Left(Tensor([C]))\n",
    "        args.__setattr__('phi', PREDICATE)\n",
    "        # generate random uniform weights\n",
    "        W = Uniform(LOWER, UPPER).sample(ch.Size([DIMS, 1]))\n",
    "        W0 = Uniform(LOWER, UPPER).sample(ch.Size([1, 1]))\n",
    "\n",
    "        # generate data\n",
    "        X = Uniform(-100, 100).sample(ch.Size([NUM_SAMPLES, DIMS]))\n",
    "        z = X.mm(W) + W0 + logistic.sample(ch.Size([NUM_SAMPLES, 1]))\n",
    "        y = ch.where(z > 0, 1.0, 0.0)\n",
    "        # truncate\n",
    "        indices = PREDICATE(z).nonzero(as_tuple=False).flatten()\n",
    "        z_trunc, y_trunc, x_trunc = z[indices], y[indices], X[indices]\n",
    "\n",
    "        args.__setattr__('alpha', Tensor([y_trunc.size(0) / NUM_SAMPLES]))\n",
    "\n",
    "        # truncated logistic regression\n",
    "        data = TruncatedLogisticRegressionDataset(x_trunc, y_trunc, bias=args.bias)\n",
    "        S = DataLoader(data, batch_size=args.batch_size, num_workers=args.num_workers, shuffle=args.shuffle)\n",
    "        trunc_log_reg = truncated_logistic_regression(phi=args.phi, alpha=args.alpha, bias=args.bias, epochs=args.epochs, \n",
    "                                                      lr=args.lr, num_samples=args.num_samples, tol=args.tol)\n",
    "        results = trunc_log_reg.fit(S)\n",
    "        w, w0 = results.weight.detach().cpu(), results.bias.detach().cpu()\n",
    "\n",
    "        # parameter estimates \n",
    "        real_params = ch.cat([W.T, W0], axis=1)\n",
    "        mle_params = ch.cat([data.w, data.w0.unsqueeze(0)], axis=1)\n",
    "        delphi_params = ch.cat([w, w0.unsqueeze(0)], axis=1)\n",
    "\n",
    "        # metrics\n",
    "        mle_cos = cosine_similarity(mle_params, real_params)\n",
    "        delphi_cos = cosine_similarity(delphi_params, real_params)\n",
    "\n",
    "        store[STORE_TABLE_NAME].append_row({ \n",
    "            'delphi_cos': delphi_cos,\n",
    "            'mle_cos': mle_cos,\n",
    "            'alpha': float(args.alpha),\n",
    "            'C': C,\n",
    "        })\n",
    "\n",
    "# close current store\n",
    "store.close()"
   ]
  },
  {
   "cell_type": "markdown",
   "metadata": {},
   "source": [
    "# Results"
   ]
  },
  {
   "cell_type": "code",
   "execution_count": 7,
   "metadata": {},
   "outputs": [
    {
     "name": "stderr",
     "output_type": "stream",
     "text": [
      "100%|██████████| 8/8 [00:00<00:00, 234.15it/s]"
     ]
    },
    {
     "name": "stdout",
     "output_type": "stream",
     "text": [
      "Warning: exp_id 564af869-fdaa-41ad-b358-43bb4ab3d7fe has no table 'log_cos'. Skipping.\n",
      "Warning: exp_id a7dd9a9f-5c24-4d3c-b2d5-9c692c4e7408 has no table 'log_cos'. Skipping.\n",
      "Warning: exp_id 1fce1f47-14c9-45ea-a407-1ee482f59473 has no table 'log_cos'. Skipping.\n",
      "Warning: exp_id 4107e665-1d0c-4e0a-aa92-9cb1055f4483 has no table 'log_cos'. Skipping.\n",
      "Warning: exp_id edce2d5d-80e4-471e-98a6-998dc4530c70 has no table 'log_cos'. Skipping.\n",
      "Warning: exp_id 51e47e62-79a4-4bf9-88d2-4d67584f902f has no table 'log_cos'. Skipping.\n",
      "Warning: exp_id 5bc8a7bb-e680-48e9-be5f-ca076ee63c00 has no table 'log_cos'. Skipping.\n"
     ]
    },
    {
     "name": "stderr",
     "output_type": "stream",
     "text": [
      "\n"
     ]
    },
    {
     "data": {
      "text/html": [
       "<div>\n",
       "<style scoped>\n",
       "    .dataframe tbody tr th:only-of-type {\n",
       "        vertical-align: middle;\n",
       "    }\n",
       "\n",
       "    .dataframe tbody tr th {\n",
       "        vertical-align: top;\n",
       "    }\n",
       "\n",
       "    .dataframe thead th {\n",
       "        text-align: right;\n",
       "    }\n",
       "</style>\n",
       "<table border=\"1\" class=\"dataframe\">\n",
       "  <thead>\n",
       "    <tr style=\"text-align: right;\">\n",
       "      <th></th>\n",
       "      <th>delphi_cos</th>\n",
       "      <th>mle_cos</th>\n",
       "      <th>alpha</th>\n",
       "      <th>C</th>\n",
       "      <th>exp_id</th>\n",
       "    </tr>\n",
       "  </thead>\n",
       "  <tbody>\n",
       "    <tr>\n",
       "      <th>0</th>\n",
       "      <td>0.755610</td>\n",
       "      <td>0.811039</td>\n",
       "      <td>0.5251</td>\n",
       "      <td>-2.0</td>\n",
       "      <td>408c0688-d0a7-4500-9cfc-8b1ace2fa078</td>\n",
       "    </tr>\n",
       "    <tr>\n",
       "      <th>1</th>\n",
       "      <td>0.503841</td>\n",
       "      <td>-0.020497</td>\n",
       "      <td>0.5069</td>\n",
       "      <td>-0.5</td>\n",
       "      <td>408c0688-d0a7-4500-9cfc-8b1ace2fa078</td>\n",
       "    </tr>\n",
       "    <tr>\n",
       "      <th>2</th>\n",
       "      <td>0.987580</td>\n",
       "      <td>0.858828</td>\n",
       "      <td>0.5075</td>\n",
       "      <td>-1.0</td>\n",
       "      <td>408c0688-d0a7-4500-9cfc-8b1ace2fa078</td>\n",
       "    </tr>\n",
       "    <tr>\n",
       "      <th>3</th>\n",
       "      <td>0.904469</td>\n",
       "      <td>-0.610786</td>\n",
       "      <td>0.5042</td>\n",
       "      <td>-0.5</td>\n",
       "      <td>408c0688-d0a7-4500-9cfc-8b1ace2fa078</td>\n",
       "    </tr>\n",
       "    <tr>\n",
       "      <th>4</th>\n",
       "      <td>0.932691</td>\n",
       "      <td>0.932682</td>\n",
       "      <td>0.5145</td>\n",
       "      <td>-2.0</td>\n",
       "      <td>408c0688-d0a7-4500-9cfc-8b1ace2fa078</td>\n",
       "    </tr>\n",
       "  </tbody>\n",
       "</table>\n",
       "</div>"
      ],
      "text/plain": [
       "   delphi_cos   mle_cos   alpha    C                                exp_id\n",
       "0    0.755610  0.811039  0.5251 -2.0  408c0688-d0a7-4500-9cfc-8b1ace2fa078\n",
       "1    0.503841 -0.020497  0.5069 -0.5  408c0688-d0a7-4500-9cfc-8b1ace2fa078\n",
       "2    0.987580  0.858828  0.5075 -1.0  408c0688-d0a7-4500-9cfc-8b1ace2fa078\n",
       "3    0.904469 -0.610786  0.5042 -0.5  408c0688-d0a7-4500-9cfc-8b1ace2fa078\n",
       "4    0.932691  0.932682  0.5145 -2.0  408c0688-d0a7-4500-9cfc-8b1ace2fa078"
      ]
     },
     "execution_count": 7,
     "metadata": {},
     "output_type": "execute_result"
    }
   ],
   "source": [
    "reader = CollectionReader(STORE_PATH)\n",
    "results = reader.df(STORE_TABLE_NAME)\n",
    "reader.close() # close reader\n",
    "results.head()"
   ]
  },
  {
   "cell_type": "markdown",
   "metadata": {},
   "source": [
    "# All Trials"
   ]
  },
  {
   "cell_type": "code",
   "execution_count": 8,
   "metadata": {},
   "outputs": [
    {
     "name": "stdout",
     "output_type": "stream",
     "text": [
      "all trials:\n"
     ]
    },
    {
     "data": {
      "image/png": "[encoded data removed]",
      "text/plain": [
       "<Figure size 432x288 with 1 Axes>"
      ]
     },
     "metadata": {
      "needs_background": "light"
     },
     "output_type": "display_data"
    }
   ],
   "source": [
    "print(\"all trials:\")\n",
    "\n",
    "# variance vs param mse\n",
    "sns.lineplot(data=results, x='C', y='delphi_cos', label='delphi', color='blue')\n",
    "ax = sns.lineplot(data=results, x='C', y='mle_cos', label='mle', color='red')\n",
    "ax.set(xlabel='Truncation Parameter C', ylabel='Cosine Similarity with Theta*')\n",
    "plt.show()"
   ]
  },
  {
   "cell_type": "markdown",
   "metadata": {},
   "source": [
    "# Remove Best and Worst Trial from Results"
   ]
  },
  {
   "cell_type": "code",
   "execution_count": 55,
   "metadata": {},
   "outputs": [
    {
     "name": "stdout",
     "output_type": "stream",
     "text": [
      "remove best and worst trials:\n"
     ]
    },
    {
     "ename": "NameError",
     "evalue": "name 'noise_lambda' is not defined",
     "output_type": "error",
     "traceback": [
      "\u001b[0;31m---------------------------------------------------------------------------\u001b[0m",
      "\u001b[0;31mNameError\u001b[0m                                 Traceback (most recent call last)",
      "\u001b[0;32m<ipython-input-55-bd15b3037e02>\u001b[0m in \u001b[0;36m<module>\u001b[0;34m\u001b[0m\n\u001b[1;32m      2\u001b[0m \u001b[0;34m\u001b[0m\u001b[0m\n\u001b[1;32m      3\u001b[0m \u001b[0;31m# plot results for regression parameter MSE\u001b[0m\u001b[0;34m\u001b[0m\u001b[0;34m\u001b[0m\u001b[0;34m\u001b[0m\u001b[0m\n\u001b[0;32m----> 4\u001b[0;31m \u001b[0msns\u001b[0m\u001b[0;34m.\u001b[0m\u001b[0mlineplot\u001b[0m\u001b[0;34m(\u001b[0m\u001b[0mdata\u001b[0m\u001b[0;34m=\u001b[0m\u001b[0mresults\u001b[0m\u001b[0;34m.\u001b[0m\u001b[0mdrop\u001b[0m\u001b[0;34m(\u001b[0m\u001b[0mnoise_lambda\u001b[0m\u001b[0;34m(\u001b[0m\u001b[0;34m'unknown_param_mse'\u001b[0m\u001b[0;34m)\u001b[0m\u001b[0;34m)\u001b[0m\u001b[0;34m,\u001b[0m \u001b[0mx\u001b[0m\u001b[0;34m=\u001b[0m\u001b[0;34m'var'\u001b[0m\u001b[0;34m,\u001b[0m \u001b[0my\u001b[0m\u001b[0;34m=\u001b[0m\u001b[0;34m'unknown_param_mse'\u001b[0m\u001b[0;34m,\u001b[0m \u001b[0mlabel\u001b[0m\u001b[0;34m=\u001b[0m\u001b[0;34m'unknown'\u001b[0m\u001b[0;34m,\u001b[0m \u001b[0mcolor\u001b[0m\u001b[0;34m=\u001b[0m\u001b[0;34m'blue'\u001b[0m\u001b[0;34m)\u001b[0m\u001b[0;34m\u001b[0m\u001b[0;34m\u001b[0m\u001b[0m\n\u001b[0m\u001b[1;32m      5\u001b[0m \u001b[0msns\u001b[0m\u001b[0;34m.\u001b[0m\u001b[0mlineplot\u001b[0m\u001b[0;34m(\u001b[0m\u001b[0mdata\u001b[0m\u001b[0;34m=\u001b[0m\u001b[0mresults\u001b[0m\u001b[0;34m.\u001b[0m\u001b[0mdrop\u001b[0m\u001b[0;34m(\u001b[0m\u001b[0mnoise_lambda\u001b[0m\u001b[0;34m(\u001b[0m\u001b[0;34m'known_param_mse'\u001b[0m\u001b[0;34m)\u001b[0m\u001b[0;34m)\u001b[0m\u001b[0;34m,\u001b[0m \u001b[0mx\u001b[0m\u001b[0;34m=\u001b[0m\u001b[0;34m'var'\u001b[0m\u001b[0;34m,\u001b[0m \u001b[0my\u001b[0m\u001b[0;34m=\u001b[0m\u001b[0;34m'known_param_mse'\u001b[0m\u001b[0;34m,\u001b[0m \u001b[0mlabel\u001b[0m\u001b[0;34m=\u001b[0m\u001b[0;34m'known'\u001b[0m\u001b[0;34m,\u001b[0m \u001b[0mcolor\u001b[0m\u001b[0;34m=\u001b[0m\u001b[0;34m'purple'\u001b[0m\u001b[0;34m)\u001b[0m\u001b[0;34m\u001b[0m\u001b[0;34m\u001b[0m\u001b[0m\n\u001b[1;32m      6\u001b[0m \u001b[0max\u001b[0m \u001b[0;34m=\u001b[0m \u001b[0msns\u001b[0m\u001b[0;34m.\u001b[0m\u001b[0mlineplot\u001b[0m\u001b[0;34m(\u001b[0m\u001b[0mdata\u001b[0m\u001b[0;34m=\u001b[0m\u001b[0mresults\u001b[0m\u001b[0;34m.\u001b[0m\u001b[0mdrop\u001b[0m\u001b[0;34m(\u001b[0m\u001b[0mnoise_lambda\u001b[0m\u001b[0;34m(\u001b[0m\u001b[0;34m'ols_param_mse'\u001b[0m\u001b[0;34m)\u001b[0m\u001b[0;34m)\u001b[0m\u001b[0;34m,\u001b[0m \u001b[0mx\u001b[0m\u001b[0;34m=\u001b[0m\u001b[0;34m'var'\u001b[0m\u001b[0;34m,\u001b[0m \u001b[0my\u001b[0m\u001b[0;34m=\u001b[0m\u001b[0;34m'ols_param_mse'\u001b[0m\u001b[0;34m,\u001b[0m \u001b[0mlabel\u001b[0m\u001b[0;34m=\u001b[0m\u001b[0;34m'ols'\u001b[0m\u001b[0;34m,\u001b[0m \u001b[0mcolor\u001b[0m\u001b[0;34m=\u001b[0m\u001b[0;34m'red'\u001b[0m\u001b[0;34m)\u001b[0m\u001b[0;34m\u001b[0m\u001b[0;34m\u001b[0m\u001b[0m\n",
      "\u001b[0;31mNameError\u001b[0m: name 'noise_lambda' is not defined"
     ]
    }
   ],
   "source": [
    "print(\"remove best and worst trials:\")\n",
    "\n",
    "# plot results for regression parameter MSE\n",
    "sns.lineplot(data=results.drop(noise_lambda('unknown_param_mse')), x='var', y='unknown_param_mse', label='unknown', color='blue')\n",
    "sns.lineplot(data=results.drop(noise_lambda('known_param_mse')), x='var', y='known_param_mse', label='known', color='purple')\n",
    "ax = sns.lineplot(data=results.drop(noise_lambda('ols_param_mse')), x='var', y='ols_param_mse', label='ols', color='red')\n",
    "ax.set(xlabel='Noise Variance', ylabel='Squared Error Theta*')\n",
    "plt.show()\n",
    "\n",
    "# plot results for regression parameter MSE\n",
    "sns.lineplot(data=results.drop(noise_lambda('unknown_var_mse')), x='var', y='unknown_var_mse', label='unknown', color='blue')\n",
    "ax = sns.lineplot(data=results.drop(noise_lambda('ols_var_mse')), x='var', y='ols_var_mse', label='ols', color='red')\n",
    "ax.set(xlabel='Noise Variance', ylabel='Squared Error Sigma^2*')\n",
    "plt.show()"
   ]
  },
  {
   "cell_type": "code",
   "execution_count": 95,
   "metadata": {},
   "outputs": [],
   "source": [
    "s = Store('/home/pstefanou/LogisticRegression/', 'ae6627d0-9b20-49ca-9aca-73d0a07637c0')"
   ]
  },
  {
   "cell_type": "code",
   "execution_count": 97,
   "metadata": {},
   "outputs": [],
   "source": [
    "s.close()"
   ]
  },
  {
   "cell_type": "code",
   "execution_count": 147,
   "metadata": {},
   "outputs": [
    {
     "name": "stdout",
     "output_type": "stream",
     "text": [
      "soft: tensor([[7.1953e-03, 1.1171e-01, 2.0755e-03, 1.7464e-01, 4.7869e-03, 2.4271e-02,\n",
      "         3.1879e-04, 6.7909e-03, 1.5592e-03, 2.2556e-03, 2.2304e-01, 1.2665e-03,\n",
      "         8.5572e-04, 2.7406e-03, 1.3439e-02, 1.0934e-03, 3.9113e-04, 4.4345e-04,\n",
      "         1.0770e-03, 2.8287e-03, 1.0578e-02, 4.5601e-03, 9.8678e-04, 1.9285e-03,\n",
      "         6.0516e-04, 2.5309e-03, 7.6561e-03, 2.2072e-02, 2.7787e-01, 5.1688e-02,\n",
      "         9.5961e-04, 3.5785e-02],\n",
      "        [3.1155e-02, 1.3558e-03, 2.6041e-02, 6.8919e-03, 1.3617e-02, 5.4008e-03,\n",
      "         6.0367e-03, 9.0659e-02, 3.9518e-03, 4.1261e-04, 4.2847e-02, 5.1434e-03,\n",
      "         2.6073e-01, 1.3171e-02, 1.2959e-02, 4.0272e-02, 6.4154e-03, 1.4522e-02,\n",
      "         6.1483e-03, 1.3966e-03, 7.5609e-03, 2.5276e-03, 1.5812e-03, 5.8751e-03,\n",
      "         2.1703e-03, 2.0061e-02, 3.4008e-01, 1.3933e-02, 1.6006e-03, 4.3361e-03,\n",
      "         7.9422e-03, 3.2001e-03],\n",
      "        [5.6526e-02, 1.5932e-02, 1.3664e-02, 1.4870e-02, 2.2578e-01, 4.4286e-03,\n",
      "         4.3574e-03, 6.3728e-03, 9.4150e-03, 4.0554e-03, 3.9938e-03, 7.0022e-02,\n",
      "         8.2228e-02, 2.5449e-03, 3.5446e-03, 2.0952e-02, 1.2629e-01, 2.8941e-02,\n",
      "         1.0325e-02, 3.8941e-03, 1.2094e-02, 5.1796e-03, 5.3271e-02, 9.9864e-03,\n",
      "         2.1918e-02, 1.1899e-02, 1.8826e-02, 2.3074e-03, 3.8675e-04, 4.2859e-02,\n",
      "         1.0777e-01, 5.3587e-03],\n",
      "        [1.5961e-02, 3.8865e-03, 6.1433e-03, 4.3081e-03, 4.9845e-03, 8.7097e-04,\n",
      "         1.3373e-02, 7.6190e-04, 4.5625e-03, 1.0478e-03, 7.9139e-03, 2.7900e-03,\n",
      "         6.0715e-03, 1.0056e-03, 9.8181e-03, 3.1378e-01, 8.8548e-03, 7.5330e-04,\n",
      "         6.1838e-03, 4.3641e-01, 4.7963e-02, 3.4039e-03, 9.2073e-03, 7.1250e-04,\n",
      "         3.1345e-02, 2.8592e-03, 2.4838e-02, 1.1228e-02, 4.3318e-03, 3.6525e-03,\n",
      "         8.1821e-03, 2.8046e-03],\n",
      "        [2.7430e-04, 2.6653e-03, 1.5822e-03, 3.6004e-03, 8.0333e-04, 1.2805e-03,\n",
      "         4.7087e-03, 5.3310e-03, 1.2741e-02, 3.1926e-03, 2.4689e-03, 1.1040e-04,\n",
      "         2.4005e-03, 4.5554e-03, 8.6409e-04, 1.9158e-04, 1.0411e-03, 3.7216e-05,\n",
      "         6.1403e-04, 3.0099e-04, 4.4330e-05, 9.4307e-01, 5.0042e-03, 2.7345e-04,\n",
      "         4.8958e-04, 3.5534e-04, 7.3341e-04, 6.0166e-05, 6.5668e-04, 2.2670e-04,\n",
      "         1.2162e-04, 2.0336e-04],\n",
      "        [1.3669e-02, 6.5577e-03, 2.8634e-02, 1.9057e-02, 1.7729e-04, 3.2941e-03,\n",
      "         6.3196e-03, 9.2713e-04, 2.7897e-03, 3.2540e-03, 1.6132e-03, 1.8366e-02,\n",
      "         6.6315e-04, 7.6356e-02, 1.1828e-02, 2.7238e-03, 1.2906e-02, 1.7113e-02,\n",
      "         3.4058e-01, 1.7946e-03, 1.5862e-02, 3.5125e-03, 5.4085e-03, 5.4920e-04,\n",
      "         3.5665e-01, 2.8145e-03, 2.2035e-03, 1.3713e-03, 1.3445e-04, 1.5769e-02,\n",
      "         2.6183e-02, 9.1401e-04],\n",
      "        [2.4010e-03, 2.4652e-03, 2.5134e-03, 4.9490e-03, 3.8452e-03, 2.3451e-03,\n",
      "         2.3661e-03, 2.6239e-01, 8.0889e-03, 1.4082e-02, 3.9599e-02, 3.7744e-03,\n",
      "         1.5534e-03, 4.7946e-03, 3.8740e-03, 1.1589e-02, 3.5818e-01, 6.3475e-04,\n",
      "         2.6042e-02, 1.9097e-02, 2.8201e-02, 1.0583e-02, 7.9415e-03, 2.6593e-02,\n",
      "         8.0734e-03, 6.5164e-04, 4.4488e-02, 8.2172e-02, 4.0973e-03, 2.5291e-03,\n",
      "         9.1306e-03, 9.5807e-04],\n",
      "        [1.7068e-02, 1.1829e-02, 1.5402e-02, 5.0021e-04, 7.0324e-03, 3.0792e-02,\n",
      "         7.5702e-03, 5.3754e-03, 1.6229e-02, 5.1117e-03, 1.2058e-02, 1.7519e-01,\n",
      "         2.0965e-03, 1.1767e-03, 1.0689e-02, 3.0099e-03, 1.7013e-03, 2.4069e-02,\n",
      "         4.8382e-04, 1.1555e-02, 4.0636e-01, 4.6932e-02, 1.4822e-03, 2.3825e-03,\n",
      "         7.9770e-04, 3.6816e-03, 4.9307e-03, 3.7318e-03, 3.4808e-03, 1.7790e-02,\n",
      "         1.4635e-01, 3.1422e-03],\n",
      "        [2.3764e-03, 6.7530e-03, 2.7620e-03, 1.0807e-01, 1.3544e-02, 2.3831e-03,\n",
      "         4.0968e-04, 9.1658e-03, 8.4613e-02, 6.5190e-03, 6.8506e-04, 3.7309e-03,\n",
      "         1.2187e-02, 5.0676e-02, 1.6080e-02, 6.8728e-03, 6.5443e-04, 2.6026e-03,\n",
      "         5.0461e-03, 2.7562e-02, 7.7531e-02, 6.6887e-02, 2.6554e-01, 1.3122e-03,\n",
      "         3.2953e-03, 2.9598e-03, 1.7468e-02, 8.4616e-02, 1.5564e-02, 6.4602e-02,\n",
      "         3.0519e-02, 7.0205e-03],\n",
      "        [6.9639e-03, 3.2827e-02, 1.4910e-01, 3.2793e-03, 5.0022e-03, 2.1962e-03,\n",
      "         3.9969e-02, 8.3549e-03, 7.4097e-04, 8.6649e-02, 3.3359e-03, 1.2532e-03,\n",
      "         5.2170e-03, 3.6789e-01, 6.6555e-04, 2.4467e-02, 1.1227e-03, 1.0276e-01,\n",
      "         4.0369e-02, 4.6839e-04, 4.8295e-04, 6.2332e-03, 2.6406e-03, 3.1946e-03,\n",
      "         2.7778e-03, 1.1018e-02, 2.9941e-03, 4.4644e-03, 1.8746e-03, 7.2864e-02,\n",
      "         4.3306e-03, 4.4961e-03],\n",
      "        [1.9549e-02, 1.5667e-02, 2.6198e-02, 1.2780e-02, 8.1037e-03, 2.3376e-02,\n",
      "         3.1145e-03, 2.4182e-03, 1.6144e-02, 6.1424e-04, 2.4163e-04, 1.5053e-03,\n",
      "         1.6125e-02, 3.3870e-02, 1.2875e-02, 9.4336e-04, 7.7447e-03, 5.4742e-04,\n",
      "         4.3520e-03, 7.9560e-03, 3.8671e-03, 2.0295e-02, 3.3565e-02, 1.4272e-03,\n",
      "         1.7024e-03, 1.9134e-02, 1.2114e-02, 6.6563e-01, 1.2434e-03, 8.7661e-03,\n",
      "         8.0836e-03, 1.0053e-02],\n",
      "        [3.7799e-03, 1.3384e-02, 5.2585e-04, 3.1303e-02, 3.2402e-03, 1.9502e-03,\n",
      "         6.4964e-04, 8.2790e-03, 1.4902e-02, 8.7865e-03, 6.8467e-03, 2.1792e-03,\n",
      "         4.1179e-03, 4.4040e-03, 8.1299e-03, 1.2972e-01, 4.0166e-03, 1.0999e-03,\n",
      "         1.4161e-03, 5.6991e-04, 1.0939e-01, 3.2550e-03, 3.6957e-01, 9.5274e-03,\n",
      "         9.0754e-04, 1.3759e-04, 2.1449e-01, 9.6171e-04, 8.9151e-04, 3.8089e-03,\n",
      "         2.6986e-02, 1.0772e-02],\n",
      "        [1.1992e-02, 7.7004e-02, 1.2637e-02, 1.2233e-01, 5.5574e-03, 6.7439e-03,\n",
      "         4.9878e-02, 3.2062e-03, 9.9935e-03, 1.3400e-01, 1.2121e-01, 4.0933e-03,\n",
      "         5.9011e-03, 1.1463e-02, 7.9044e-03, 7.8101e-02, 2.8997e-02, 2.5540e-03,\n",
      "         1.3421e-03, 1.9591e-02, 9.6786e-02, 2.6024e-03, 1.9523e-02, 5.3132e-03,\n",
      "         5.9628e-03, 2.7570e-02, 3.7055e-02, 4.2111e-02, 6.1855e-04, 1.7016e-02,\n",
      "         2.8797e-02, 2.1474e-03],\n",
      "        [1.0511e-01, 1.2304e-02, 2.2204e-02, 8.3951e-03, 3.6823e-02, 1.3916e-02,\n",
      "         2.1346e-02, 3.1385e-03, 1.2748e-01, 3.6171e-04, 1.2991e-01, 2.3313e-02,\n",
      "         3.3955e-03, 4.5068e-03, 1.0167e-03, 2.7240e-02, 1.4722e-01, 1.4522e-03,\n",
      "         1.1373e-02, 1.1821e-03, 2.0751e-03, 7.3870e-02, 5.0731e-03, 1.7659e-02,\n",
      "         4.1285e-02, 7.3836e-03, 3.1640e-03, 1.8152e-02, 9.9195e-02, 2.4132e-02,\n",
      "         2.3165e-03, 4.0107e-03],\n",
      "        [8.0046e-03, 1.9815e-03, 2.3509e-04, 3.6423e-03, 4.1708e-01, 7.5433e-03,\n",
      "         2.5634e-02, 5.6647e-03, 8.5492e-03, 6.5045e-03, 7.3550e-04, 3.0024e-02,\n",
      "         6.2912e-03, 2.6567e-03, 9.3207e-04, 3.6505e-02, 1.3399e-03, 1.3900e-01,\n",
      "         1.0712e-01, 9.0833e-03, 3.5899e-03, 2.7218e-02, 6.6665e-02, 1.3288e-02,\n",
      "         2.6000e-04, 4.9036e-03, 4.0256e-03, 2.0652e-03, 8.9983e-03, 4.5040e-02,\n",
      "         1.6458e-03, 3.7745e-03],\n",
      "        [6.3994e-03, 9.7130e-03, 2.4621e-02, 1.9552e-03, 7.7629e-03, 3.0027e-02,\n",
      "         2.5740e-02, 8.8137e-02, 3.5040e-02, 1.0758e-02, 7.2159e-03, 8.4843e-04,\n",
      "         2.1628e-02, 1.0662e-02, 2.3183e-01, 5.6356e-03, 2.4078e-02, 1.4918e-02,\n",
      "         8.6148e-04, 3.6355e-02, 3.3062e-03, 6.1797e-03, 1.2494e-02, 5.1024e-04,\n",
      "         7.1081e-03, 1.7359e-03, 2.3258e-02, 1.1438e-03, 3.0596e-04, 5.6393e-03,\n",
      "         3.3769e-01, 6.4454e-03],\n",
      "        [4.6060e-03, 2.0665e-03, 2.7726e-02, 2.5593e-03, 3.3782e-01, 9.4921e-03,\n",
      "         1.2116e-03, 1.9876e-02, 4.1987e-03, 8.8928e-02, 8.3120e-03, 3.2244e-03,\n",
      "         6.1959e-02, 2.0505e-02, 1.5685e-02, 1.9195e-02, 1.0938e-02, 6.9172e-04,\n",
      "         4.0970e-03, 4.1036e-03, 3.4890e-02, 1.6740e-01, 1.1882e-02, 9.3718e-03,\n",
      "         3.3389e-02, 2.5671e-02, 2.6119e-03, 1.2855e-02, 5.3959e-03, 1.2905e-02,\n",
      "         9.4462e-04, 3.5484e-02],\n",
      "        [3.0193e-02, 3.6747e-03, 3.1070e-03, 1.5303e-03, 1.7865e-03, 5.1481e-04,\n",
      "         1.1161e-03, 8.1986e-02, 6.4113e-03, 4.9164e-03, 1.7350e-03, 1.9138e-03,\n",
      "         5.4574e-04, 2.1491e-02, 2.7280e-02, 3.6587e-04, 7.8369e-04, 5.8812e-04,\n",
      "         2.3761e-02, 5.4740e-03, 7.0873e-01, 8.4200e-04, 1.0142e-02, 9.2096e-05,\n",
      "         1.2147e-03, 3.3277e-02, 8.1517e-04, 3.6614e-04, 3.4984e-03, 3.0104e-03,\n",
      "         2.8070e-03, 1.6028e-02],\n",
      "        [9.9796e-02, 6.7216e-03, 6.0978e-02, 1.0335e-03, 4.2655e-02, 6.0655e-03,\n",
      "         1.9090e-01, 4.4663e-02, 3.2568e-02, 4.1959e-03, 1.5175e-01, 1.9311e-02,\n",
      "         1.5788e-02, 2.0194e-02, 1.0371e-03, 6.5969e-03, 1.5025e-02, 4.3308e-03,\n",
      "         7.6443e-03, 1.0412e-03, 9.9802e-03, 3.1633e-03, 1.3487e-03, 2.3791e-03,\n",
      "         7.0876e-03, 5.5666e-02, 4.1814e-03, 4.7803e-02, 9.9333e-02, 1.2568e-02,\n",
      "         2.2638e-03, 2.1936e-02],\n",
      "        [1.6643e-03, 9.8627e-03, 2.4583e-03, 2.2043e-03, 8.4407e-03, 3.5434e-03,\n",
      "         2.1501e-03, 2.1239e-03, 1.8003e-03, 2.3525e-01, 1.1482e-02, 1.0910e-03,\n",
      "         5.6074e-03, 2.8141e-03, 8.6896e-02, 1.5265e-02, 2.2958e-02, 5.5957e-03,\n",
      "         1.8812e-02, 8.0807e-02, 2.3735e-02, 2.9128e-03, 4.9242e-02, 2.6275e-02,\n",
      "         7.7690e-03, 6.6973e-03, 3.5381e-02, 3.3831e-03, 1.1005e-03, 1.1870e-02,\n",
      "         3.0589e-01, 4.9114e-03]])\n",
      "hard: tensor([[0., 0., 0., 0., 0., 0., 0., 0., 0., 0., 0., 0., 0., 0., 0., 0., 0., 0.,\n",
      "         0., 0., 0., 0., 0., 0., 0., 0., 0., 0., 1., 0., 0., 0.],\n",
      "        [0., 1., 0., 0., 0., 0., 0., 0., 0., 0., 0., 0., 0., 0., 0., 0., 0., 0.,\n",
      "         0., 0., 0., 0., 0., 0., 0., 0., 0., 0., 0., 0., 0., 0.],\n",
      "        [0., 0., 0., 0., 0., 0., 0., 0., 0., 0., 0., 0., 0., 0., 0., 0., 0., 0.,\n",
      "         0., 0., 0., 0., 0., 0., 0., 0., 0., 0., 0., 0., 1., 0.],\n",
      "        [0., 0., 0., 0., 0., 0., 0., 0., 1., 0., 0., 0., 0., 0., 0., 0., 0., 0.,\n",
      "         0., 0., 0., 0., 0., 0., 0., 0., 0., 0., 0., 0., 0., 0.],\n",
      "        [0., 0., 0., 0., 0., 0., 0., 0., 0., 0., 1., 0., 0., 0., 0., 0., 0., 0.,\n",
      "         0., 0., 0., 0., 0., 0., 0., 0., 0., 0., 0., 0., 0., 0.],\n",
      "        [0., 0., 0., 0., 0., 0., 0., 0., 0., 0., 0., 0., 0., 0., 0., 0., 0., 0.,\n",
      "         0., 0., 0., 0., 0., 0., 0., 0., 0., 0., 1., 0., 0., 0.],\n",
      "        [0., 0., 0., 0., 0., 0., 0., 0., 0., 0., 0., 0., 0., 0., 1., 0., 0., 0.,\n",
      "         0., 0., 0., 0., 0., 0., 0., 0., 0., 0., 0., 0., 0., 0.],\n",
      "        [0., 0., 0., 0., 0., 0., 0., 0., 0., 0., 1., 0., 0., 0., 0., 0., 0., 0.,\n",
      "         0., 0., 0., 0., 0., 0., 0., 0., 0., 0., 0., 0., 0., 0.],\n",
      "        [0., 0., 0., 0., 0., 0., 0., 0., 0., 0., 0., 0., 0., 0., 0., 0., 0., 0.,\n",
      "         0., 0., 0., 1., 0., 0., 0., 0., 0., 0., 0., 0., 0., 0.],\n",
      "        [0., 0., 0., 0., 0., 0., 0., 0., 0., 0., 0., 0., 0., 0., 0., 0., 0., 0.,\n",
      "         1., 0., 0., 0., 0., 0., 0., 0., 0., 0., 0., 0., 0., 0.],\n",
      "        [0., 0., 0., 0., 0., 0., 0., 0., 0., 0., 0., 0., 0., 1., 0., 0., 0., 0.,\n",
      "         0., 0., 0., 0., 0., 0., 0., 0., 0., 0., 0., 0., 0., 0.],\n",
      "        [0., 0., 0., 0., 0., 0., 0., 0., 0., 0., 0., 0., 0., 0., 0., 0., 0., 0.,\n",
      "         0., 0., 0., 0., 0., 0., 0., 0., 0., 0., 0., 0., 1., 0.],\n",
      "        [0., 0., 0., 0., 0., 0., 0., 0., 0., 0., 0., 0., 0., 0., 0., 0., 0., 0.,\n",
      "         0., 0., 0., 0., 1., 0., 0., 0., 0., 0., 0., 0., 0., 0.],\n",
      "        [0., 0., 0., 0., 0., 0., 0., 0., 0., 0., 0., 0., 0., 0., 0., 0., 1., 0.,\n",
      "         0., 0., 0., 0., 0., 0., 0., 0., 0., 0., 0., 0., 0., 0.],\n",
      "        [0., 0., 0., 0., 0., 0., 1., 0., 0., 0., 0., 0., 0., 0., 0., 0., 0., 0.,\n",
      "         0., 0., 0., 0., 0., 0., 0., 0., 0., 0., 0., 0., 0., 0.],\n",
      "        [0., 0., 0., 0., 0., 0., 0., 0., 0., 0., 0., 0., 0., 0., 0., 0., 0., 0.,\n",
      "         0., 0., 0., 0., 1., 0., 0., 0., 0., 0., 0., 0., 0., 0.],\n",
      "        [0., 0., 0., 0., 0., 0., 0., 0., 0., 0., 0., 0., 0., 0., 1., 0., 0., 0.,\n",
      "         0., 0., 0., 0., 0., 0., 0., 0., 0., 0., 0., 0., 0., 0.],\n",
      "        [0., 0., 0., 0., 0., 0., 0., 0., 0., 0., 0., 0., 0., 0., 1., 0., 0., 0.,\n",
      "         0., 0., 0., 0., 0., 0., 0., 0., 0., 0., 0., 0., 0., 0.],\n",
      "        [0., 0., 1., 0., 0., 0., 0., 0., 0., 0., 0., 0., 0., 0., 0., 0., 0., 0.,\n",
      "         0., 0., 0., 0., 0., 0., 0., 0., 0., 0., 0., 0., 0., 0.],\n",
      "        [0., 0., 0., 0., 0., 0., 0., 0., 0., 0., 0., 0., 0., 0., 0., 0., 0., 0.,\n",
      "         0., 0., 0., 0., 0., 0., 0., 0., 0., 0., 0., 0., 0., 1.]])\n"
     ]
    }
   ],
   "source": [
    "logits = ch.randn(20, 32)\n",
    "print(\"soft: {}\".format(F.gumbel_softmax(logits, tau=1, hard=False)))\n",
    "print(\"hard: {}\".format(F.gumbel_softmax(logits, tau=1, hard=True)))"
   ]
  },
  {
   "cell_type": "code",
   "execution_count": null,
   "metadata": {},
   "outputs": [],
   "source": []
  }
 ],
 "metadata": {
  "kernelspec": {
   "display_name": "env",
   "language": "python",
   "name": "env"
  },
  "language_info": {
   "codemirror_mode": {
    "name": "ipython",
    "version": 3
   },
   "file_extension": ".py",
   "mimetype": "text/x-python",
   "name": "python",
   "nbconvert_exporter": "python",
   "pygments_lexer": "ipython3",
   "version": "3.6.9"
  }
 },
 "nbformat": 4,
 "nbformat_minor": 2
}
