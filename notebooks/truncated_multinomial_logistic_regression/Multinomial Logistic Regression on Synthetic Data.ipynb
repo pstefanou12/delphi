{
 "cells": [
  {
   "cell_type": "code",
   "execution_count": 1,
   "metadata": {},
   "outputs": [],
   "source": [
    "import sys \n",
    "sys.path.append('../..')\n",
    "from cox.utils import Parameters\n",
    "from cox.store import Store\n",
    "from cox.readers import CollectionReader\n",
    "import pandas as pd\n",
    "import matplotlib.pyplot as plt\n",
    "import seaborn as sns\n",
    "import math\n",
    "import itertools\n",
    "import numpy as np\n",
    "import torch as ch\n",
    "from torch import Tensor\n",
    "import torch.nn as nn\n",
    "from torch.distributions import Gumbel, Uniform\n",
    "from torch.distributions.multivariate_normal import MultivariateNormal\n",
    "from torch.utils.data import TensorDataset, DataLoader\n",
    "import torch.nn.functional as F\n",
    "from delphi.utils import constants as consts\n",
    "from delphi import oracle\n",
    "from delphi import train\n",
    "from delphi.utils import defaults\n",
    "import datetime"
   ]
  },
  {
   "cell_type": "markdown",
   "metadata": {},
   "source": [
    "# Store Information, etc"
   ]
  },
  {
   "cell_type": "code",
   "execution_count": 2,
   "metadata": {},
   "outputs": [
    {
     "name": "stdout",
     "output_type": "stream",
     "text": [
      "Logging in: /home/pstefanou/LogisticRegression/5b31e98e-45d5-4775-b2ac-635e2e34fd3f\n"
     ]
    },
    {
     "data": {
      "text/plain": [
       "<cox.store.Table at 0x7f43881d2208>"
      ]
     },
     "execution_count": 2,
     "metadata": {},
     "output_type": "execute_result"
    }
   ],
   "source": [
    "STORE_PATH = '/home/pstefanou/MultinomialLogisticRegression'\n",
    "STORE_TABLE_NAME = 'multi_log_reg'\n",
    "\n",
    "store = Store(STORE_PATH)\n",
    "\n",
    "store.add_table(STORE_TABLE_NAME, { \n",
    "    'delphi_cos': float,\n",
    "    'mle_cos': float,\n",
    "    'alpha': float, \n",
    "    'C': float,\n",
    "})"
   ]
  },
  {
   "cell_type": "markdown",
   "metadata": {},
   "source": [
    "# Standard Gumbel Distribution"
   ]
  },
  {
   "cell_type": "code",
   "execution_count": 2,
   "metadata": {},
   "outputs": [
    {
     "data": {
      "text/plain": [
       "(array([  4.,   4.,   5.,  23.,  27.,  63.,  69.,  91., 153., 185., 226.,\n",
       "        261., 283., 326., 352., 395., 386., 399., 426., 391., 399., 388.,\n",
       "        414., 367., 333., 337., 313., 319., 297., 260., 238., 212., 201.,\n",
       "        201., 165., 137., 126., 115., 104., 101.,  97.,  97.,  76.,  65.,\n",
       "         59.,  46.,  48.,  43.,  35.,  41.,  46.,  29.,  25.,  24.,  23.,\n",
       "         12.,  15.,  12.,  10.,  11.,   9.,   9.,  12.,   6.,   5.,   5.,\n",
       "          2.,   4.,   3.,   1.,   5.,   7.,   2.,   2.,   4.,   1.,   2.,\n",
       "          3.,   1.,   0.,   1.,   1.,   2.,   1.,   0.,   0.,   0.,   1.,\n",
       "          0.,   0.,   0.,   0.,   0.,   0.,   0.,   0.,   0.,   0.,   0.,\n",
       "          1.]),\n",
       " array([-2.1231728 , -2.010586  , -1.8979993 , -1.7854125 , -1.6728258 ,\n",
       "        -1.5602391 , -1.4476523 , -1.3350655 , -1.2224787 , -1.109892  ,\n",
       "        -0.9973053 , -0.88471854, -0.7721318 , -0.65954506, -0.5469583 ,\n",
       "        -0.43437156, -0.32178482, -0.20919807, -0.09661133,  0.01597542,\n",
       "         0.12856217,  0.2411489 ,  0.35373566,  0.4663224 ,  0.57890916,\n",
       "         0.6914959 ,  0.80408263,  0.91666937,  1.0292561 ,  1.1418428 ,\n",
       "         1.2544296 ,  1.3670163 ,  1.4796032 ,  1.5921899 ,  1.7047766 ,\n",
       "         1.8173634 ,  1.9299501 ,  2.0425367 ,  2.1551237 ,  2.2677104 ,\n",
       "         2.3802972 ,  2.492884  ,  2.6054707 ,  2.7180574 ,  2.8306441 ,\n",
       "         2.9432309 ,  3.0558176 ,  3.1684043 ,  3.280991  ,  3.3935778 ,\n",
       "         3.5061646 ,  3.6187513 ,  3.731338  ,  3.8439248 ,  3.9565115 ,\n",
       "         4.0690985 ,  4.181685  ,  4.294272  ,  4.4068584 ,  4.5194454 ,\n",
       "         4.632032  ,  4.744619  ,  4.8572054 ,  4.9697924 ,  5.082379  ,\n",
       "         5.194966  ,  5.3075523 ,  5.4201393 ,  5.532726  ,  5.645313  ,\n",
       "         5.7578993 ,  5.8704863 ,  5.9830728 ,  6.0956597 ,  6.208246  ,\n",
       "         6.320833  ,  6.43342   ,  6.5460067 ,  6.6585937 ,  6.77118   ,\n",
       "         6.883767  ,  6.9963536 ,  7.1089406 ,  7.221527  ,  7.334114  ,\n",
       "         7.4467006 ,  7.5592875 ,  7.671874  ,  7.784461  ,  7.8970475 ,\n",
       "         8.009634  ,  8.122221  ,  8.234808  ,  8.347395  ,  8.459981  ,\n",
       "         8.572568  ,  8.685155  ,  8.797742  ,  8.910328  ,  9.022915  ,\n",
       "         9.135502  ], dtype=float32),\n",
       " <a list of 100 Patch objects>)"
      ]
     },
     "execution_count": 2,
     "metadata": {},
     "output_type": "execute_result"
    },
    {
     "data": {
      "image/png": "[encoded data removed]",
      "text/plain": [
       "<Figure size 432x288 with 1 Axes>"
      ]
     },
     "metadata": {
      "needs_background": "light"
     },
     "output_type": "display_data"
    }
   ],
   "source": [
    "G = Gumbel(0, 1)\n",
    "\n",
    "samples = G.sample(ch.Size([10000, 1])).T\n",
    "plt.hist(samples, bins=100)"
   ]
  },
  {
   "cell_type": "markdown",
   "metadata": {},
   "source": [
    "## Default Experiment Parameters"
   ]
  },
  {
   "cell_type": "code",
   "execution_count": 3,
   "metadata": {},
   "outputs": [],
   "source": [
    "# procedure hyperparameters\n",
    "args = Parameters({ \n",
    "    'epochs': 25,\n",
    "    'num_workers': 0, \n",
    "    'batch_size': 10,\n",
    "    'bias': True,\n",
    "    'num_samples': 100,\n",
    "    'clamp': True, \n",
    "    'radius': 5.0, \n",
    "    'var_lr': 1e-2,\n",
    "    'lr': 1e-1,\n",
    "    'shuffle': False, \n",
    "    'tol': 1e-2,\n",
    "    'custom_lr_multiplier': consts.COSINE,\n",
    "    'samples': 10000,  # number of samples to generate for ground truth\n",
    "    'in_features': 1, # number of in-features to multi-log-reg\n",
    "    'k': 2, # number of classes\n",
    "    'lower': -1, # lower bound for generating ground truth weights\n",
    "    'upper': 1,  # upper bound for generating ground truth weights\n",
    "    'custom_criterion': F.gumbel_softmax,\n",
    "})\n",
    "\n",
    "# args = defaults.check_and_fill_args(train_kwargs, defaults.TRAINING_ARGS, CIFAR)"
   ]
  },
  {
   "cell_type": "markdown",
   "metadata": {},
   "source": [
    "# Multinomial Logistic Regression"
   ]
  },
  {
   "cell_type": "code",
   "execution_count": 4,
   "metadata": {},
   "outputs": [
    {
     "name": "stdout",
     "output_type": "stream",
     "text": [
      "ground truth weights: Parameter containing:\n",
      "tensor([[ 0.3512],\n",
      "        [-0.3677]], requires_grad=True)\n",
      "ground truth bias: Parameter containing:\n",
      "tensor([-0.0230,  0.5621], requires_grad=True)\n"
     ]
    }
   ],
   "source": [
    "# generate ground-truth from uniform distribution\n",
    "U = Uniform(args.lower, args.upper)\n",
    "ground_truth = nn.Linear(in_features=args.IN_FEATURES, out_features=args.K, bias=args.bias)\n",
    "ground_truth.weight = nn.Parameter(U.sample(ch.Size([args.K, args.IN_FEATURES])))\n",
    "if ground_truth.bias is not None: \n",
    "    ground_truth.bias = nn.Parameter(U.sample(ch.Size([args.K,])))\n",
    "print(\"ground truth weights: {}\".format(ground_truth.weight))\n",
    "print(\"ground truth bias: {}\".format(ground_truth.bias))\n",
    "# independent variable \n",
    "M = MultivariateNormal(ch.zeros(args.IN_FEATURES), ch.eye(args.IN_FEATURES)/args.IN_FEATURES)\n",
    "X = M.sample(ch.Size([args.samples]))\n",
    "# determine base model logits \n",
    "z = ground_truth(X)\n",
    "# apply softmax to unnormalized likelihoods\n",
    "y = ch.argmax(ch.nn.Softmax(dim=1)(z), dim=1)"
   ]
  },
  {
   "cell_type": "markdown",
   "metadata": {},
   "source": [
    "# Untruncated Experiment"
   ]
  },
  {
   "cell_type": "code",
   "execution_count": 14,
   "metadata": {},
   "outputs": [],
   "source": [
    "gumbel = Gumbel(0, 1)\n",
    "\n",
    "class GumbelCE(ch.autograd.Function):\n",
    "    @staticmethod\n",
    "    def forward(ctx, pred, targ):\n",
    "        ctx.save_for_backward(pred, targ)\n",
    "        loss = ch.nn.CrossEntropyLoss()\n",
    "        return loss(pred, targ)\n",
    "\n",
    "    @staticmethod\n",
    "    def backward(ctx, grad_output):\n",
    "        pred, targ = ctx.saved_tensors\n",
    "        # retain logits of kth class\n",
    "        stacked = pred[None, ...].repeat(args.num_samples, 1, 1)        \n",
    "        # add noise to logits\n",
    "        noised = stacked + gumbel.sample(stacked.size())\n",
    "        out = noised.sum(dim=0) / noised.size(0)\n",
    "        # calculate gradient \n",
    "        grad = 1 - ch.exp(-out)\n",
    "        return grad / pred.size(0), -grad / pred.size(0)"
   ]
  },
  {
   "cell_type": "code",
   "execution_count": 15,
   "metadata": {},
   "outputs": [],
   "source": [
    "emp_multi_log_reg = nn.Linear(in_features=args.IN_FEATURES, out_features=args.K, bias=args.bias)"
   ]
  },
  {
   "cell_type": "code",
   "execution_count": 16,
   "metadata": {},
   "outputs": [],
   "source": [
    "ds = TensorDataset(X, y)\n",
    "loader = DataLoader(ds, num_workers=args.num_workers)\n",
    "criterion = GumbelCE.apply\n",
    "optimizer = ch.optim.SGD(emp_multi_log_reg.parameters(), lr=1e-2)"
   ]
  },
  {
   "cell_type": "code",
   "execution_count": 18,
   "metadata": {},
   "outputs": [
    {
     "name": "stdout",
     "output_type": "stream",
     "text": [
      "X: tensor([[-0.9555]])\n",
      "y: tensor([1])\n"
     ]
    }
   ],
   "source": [
    "# for epoch in range(args.epochs): \n",
    "for X, y in loader: \n",
    "    print(\"X: {}\".format(X))\n",
    "    print(\"y: {}\".format(y))\n",
    "    pred = emp_multi_log_reg(X)\n",
    "    loss = criterion(pred,  y)\n",
    "    loss.backward()\n",
    "    optimizer.step()       \n",
    "        "
   ]
  },
  {
   "cell_type": "code",
   "execution_count": 209,
   "metadata": {},
   "outputs": [
    {
     "name": "stdout",
     "output_type": "stream",
     "text": [
      "pred: tensor([[0., 1.]], grad_fn=<AddBackward0>)\n"
     ]
    }
   ],
   "source": [
    "print(\"pred: {}\".format(pred))"
   ]
  },
  {
   "cell_type": "code",
   "execution_count": 7,
   "metadata": {},
   "outputs": [
    {
     "name": "stderr",
     "output_type": "stream",
     "text": [
      "100%|██████████| 8/8 [00:00<00:00, 234.15it/s]"
     ]
    },
    {
     "name": "stdout",
     "output_type": "stream",
     "text": [
      "Warning: exp_id 564af869-fdaa-41ad-b358-43bb4ab3d7fe has no table 'log_cos'. Skipping.\n",
      "Warning: exp_id a7dd9a9f-5c24-4d3c-b2d5-9c692c4e7408 has no table 'log_cos'. Skipping.\n",
      "Warning: exp_id 1fce1f47-14c9-45ea-a407-1ee482f59473 has no table 'log_cos'. Skipping.\n",
      "Warning: exp_id 4107e665-1d0c-4e0a-aa92-9cb1055f4483 has no table 'log_cos'. Skipping.\n",
      "Warning: exp_id edce2d5d-80e4-471e-98a6-998dc4530c70 has no table 'log_cos'. Skipping.\n",
      "Warning: exp_id 51e47e62-79a4-4bf9-88d2-4d67584f902f has no table 'log_cos'. Skipping.\n",
      "Warning: exp_id 5bc8a7bb-e680-48e9-be5f-ca076ee63c00 has no table 'log_cos'. Skipping.\n"
     ]
    },
    {
     "name": "stderr",
     "output_type": "stream",
     "text": [
      "\n"
     ]
    },
    {
     "data": {
      "text/html": [
       "<div>\n",
       "<style scoped>\n",
       "    .dataframe tbody tr th:only-of-type {\n",
       "        vertical-align: middle;\n",
       "    }\n",
       "\n",
       "    .dataframe tbody tr th {\n",
       "        vertical-align: top;\n",
       "    }\n",
       "\n",
       "    .dataframe thead th {\n",
       "        text-align: right;\n",
       "    }\n",
       "</style>\n",
       "<table border=\"1\" class=\"dataframe\">\n",
       "  <thead>\n",
       "    <tr style=\"text-align: right;\">\n",
       "      <th></th>\n",
       "      <th>delphi_cos</th>\n",
       "      <th>mle_cos</th>\n",
       "      <th>alpha</th>\n",
       "      <th>C</th>\n",
       "      <th>exp_id</th>\n",
       "    </tr>\n",
       "  </thead>\n",
       "  <tbody>\n",
       "    <tr>\n",
       "      <th>0</th>\n",
       "      <td>0.755610</td>\n",
       "      <td>0.811039</td>\n",
       "      <td>0.5251</td>\n",
       "      <td>-2.0</td>\n",
       "      <td>408c0688-d0a7-4500-9cfc-8b1ace2fa078</td>\n",
       "    </tr>\n",
       "    <tr>\n",
       "      <th>1</th>\n",
       "      <td>0.503841</td>\n",
       "      <td>-0.020497</td>\n",
       "      <td>0.5069</td>\n",
       "      <td>-0.5</td>\n",
       "      <td>408c0688-d0a7-4500-9cfc-8b1ace2fa078</td>\n",
       "    </tr>\n",
       "    <tr>\n",
       "      <th>2</th>\n",
       "      <td>0.987580</td>\n",
       "      <td>0.858828</td>\n",
       "      <td>0.5075</td>\n",
       "      <td>-1.0</td>\n",
       "      <td>408c0688-d0a7-4500-9cfc-8b1ace2fa078</td>\n",
       "    </tr>\n",
       "    <tr>\n",
       "      <th>3</th>\n",
       "      <td>0.904469</td>\n",
       "      <td>-0.610786</td>\n",
       "      <td>0.5042</td>\n",
       "      <td>-0.5</td>\n",
       "      <td>408c0688-d0a7-4500-9cfc-8b1ace2fa078</td>\n",
       "    </tr>\n",
       "    <tr>\n",
       "      <th>4</th>\n",
       "      <td>0.932691</td>\n",
       "      <td>0.932682</td>\n",
       "      <td>0.5145</td>\n",
       "      <td>-2.0</td>\n",
       "      <td>408c0688-d0a7-4500-9cfc-8b1ace2fa078</td>\n",
       "    </tr>\n",
       "  </tbody>\n",
       "</table>\n",
       "</div>"
      ],
      "text/plain": [
       "   delphi_cos   mle_cos   alpha    C                                exp_id\n",
       "0    0.755610  0.811039  0.5251 -2.0  408c0688-d0a7-4500-9cfc-8b1ace2fa078\n",
       "1    0.503841 -0.020497  0.5069 -0.5  408c0688-d0a7-4500-9cfc-8b1ace2fa078\n",
       "2    0.987580  0.858828  0.5075 -1.0  408c0688-d0a7-4500-9cfc-8b1ace2fa078\n",
       "3    0.904469 -0.610786  0.5042 -0.5  408c0688-d0a7-4500-9cfc-8b1ace2fa078\n",
       "4    0.932691  0.932682  0.5145 -2.0  408c0688-d0a7-4500-9cfc-8b1ace2fa078"
      ]
     },
     "execution_count": 7,
     "metadata": {},
     "output_type": "execute_result"
    }
   ],
   "source": [
    "reader = CollectionReader(STORE_PATH)\n",
    "results = reader.df(STORE_TABLE_NAME)\n",
    "reader.close() # close reader\n",
    "results.head()"
   ]
  },
  {
   "cell_type": "markdown",
   "metadata": {},
   "source": [
    "# All Trials"
   ]
  },
  {
   "cell_type": "code",
   "execution_count": 214,
   "metadata": {},
   "outputs": [],
   "source": [
    "loss = ch.nn.CrossEntropyLoss()\n",
    "in_ = ch.randn(3, 5, requires_grad=True)\n",
    "targ = ch.empty(3, dtype=ch.long).random_(5)\n",
    "output = loss(in_, targ)\n",
    "output.backward()"
   ]
  },
  {
   "cell_type": "code",
   "execution_count": 8,
   "metadata": {},
   "outputs": [
    {
     "name": "stdout",
     "output_type": "stream",
     "text": [
      "all trials:\n"
     ]
    },
    {
     "data": {
      "image/png": "[encoded data removed]",
      "text/plain": [
       "<Figure size 432x288 with 1 Axes>"
      ]
     },
     "metadata": {
      "needs_background": "light"
     },
     "output_type": "display_data"
    }
   ],
   "source": [
    "print(\"all trials:\")\n",
    "\n",
    "# variance vs param mse\n",
    "sns.lineplot(data=results, x='C', y='delphi_cos', label='delphi', color='blue')\n",
    "ax = sns.lineplot(data=results, x='C', y='mle_cos', label='mle', color='red')\n",
    "ax.set(xlabel='Truncation Parameter C', ylabel='Cosine Similarity with Theta*')\n",
    "plt.show()"
   ]
  },
  {
   "cell_type": "code",
   "execution_count": 215,
   "metadata": {},
   "outputs": [
    {
     "data": {
      "text/plain": [
       "tensor(1.6816, grad_fn=<NllLossBackward>)"
      ]
     },
     "execution_count": 215,
     "metadata": {},
     "output_type": "execute_result"
    }
   ],
   "source": []
  },
  {
   "cell_type": "code",
   "execution_count": 232,
   "metadata": {},
   "outputs": [
    {
     "data": {
      "text/plain": [
       "tensor([[ 1.7647, -0.4050,  0.5992, -1.1123, -0.1541],\n",
       "        [ 1.0274, -1.0257, -0.4407,  0.2456,  0.0607],\n",
       "        [-0.0506,  2.1215,  1.7285, -0.7172, -1.3141]], requires_grad=True)"
      ]
     },
     "execution_count": 232,
     "metadata": {},
     "output_type": "execute_result"
    }
   ],
   "source": [
    "in_"
   ]
  },
  {
   "cell_type": "code",
   "execution_count": 233,
   "metadata": {},
   "outputs": [
    {
     "data": {
      "text/plain": [
       "tensor([1, 2, 4])"
      ]
     },
     "execution_count": 233,
     "metadata": {},
     "output_type": "execute_result"
    }
   ],
   "source": [
    "targ"
   ]
  },
  {
   "cell_type": "code",
   "execution_count": 239,
   "metadata": {},
   "outputs": [
    {
     "data": {
      "text/plain": [
       "tensor([-0.4050,  0.5992, -0.1541], grad_fn=<IndexSelectBackward>)"
      ]
     },
     "execution_count": 239,
     "metadata": {},
     "output_type": "execute_result"
    }
   ],
   "source": [
    "ch.index_select(in_, 0, targ.unsqueeze())"
   ]
  },
  {
   "cell_type": "code",
   "execution_count": 237,
   "metadata": {},
   "outputs": [
    {
     "data": {
      "text/plain": [
       "tensor([ 1.7647, -0.4050,  0.5992, -1.1123, -0.1541], grad_fn=<SelectBackward>)"
      ]
     },
     "execution_count": 237,
     "metadata": {},
     "output_type": "execute_result"
    }
   ],
   "source": []
  },
  {
   "cell_type": "code",
   "execution_count": null,
   "metadata": {},
   "outputs": [],
   "source": []
  }
 ],
 "metadata": {
  "kernelspec": {
   "display_name": "env",
   "language": "python",
   "name": "env"
  },
  "language_info": {
   "codemirror_mode": {
    "name": "ipython",
    "version": 3
   },
   "file_extension": ".py",
   "mimetype": "text/x-python",
   "name": "python",
   "nbconvert_exporter": "python",
   "pygments_lexer": "ipython3",
   "version": "3.6.9"
  }
 },
 "nbformat": 4,
 "nbformat_minor": 2
}
