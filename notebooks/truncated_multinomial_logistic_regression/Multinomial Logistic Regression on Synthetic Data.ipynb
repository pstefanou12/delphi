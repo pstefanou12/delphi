{
 "cells": [
  {
   "cell_type": "code",
   "execution_count": 1,
   "metadata": {},
   "outputs": [],
   "source": [
    "import sys \n",
    "sys.path.append('../..')\n",
    "from cox.utils import Parameters\n",
    "from cox.store import Store\n",
    "from cox.readers import CollectionReader\n",
    "import pandas as pd\n",
    "import matplotlib.pyplot as plt\n",
    "import seaborn as sns\n",
    "import math\n",
    "import itertools\n",
    "import numpy as np\n",
    "import torch as ch\n",
    "from torch import Tensor\n",
    "import torch.nn as nn\n",
    "from torch.distributions import Gumbel, Uniform\n",
    "from torch.distributions.multivariate_normal import MultivariateNormal\n",
    "from torch.utils.data import TensorDataset, DataLoader\n",
    "import torch.nn.functional as F\n",
    "import datetime"
   ]
  },
  {
   "cell_type": "markdown",
   "metadata": {},
   "source": [
    "## Default Experiment Parameters"
   ]
  },
  {
   "cell_type": "code",
   "execution_count": 178,
   "metadata": {},
   "outputs": [],
   "source": [
    "# procedure hyperparameters\n",
    "args = Parameters({ \n",
    "    'epochs': 25,\n",
    "    'num_workers': 0, \n",
    "    'batch_size': 100,\n",
    "    'bias': True,\n",
    "    'num_samples': 100,\n",
    "    'clamp': True, \n",
    "    'radius': 5.0, \n",
    "    'var_lr': 1e-2,\n",
    "    'lr': 1e-1,\n",
    "    'shuffle': False, \n",
    "    'tol': 1e-2,\n",
    "    'samples': 10000,  # number of samples to generate for ground truth\n",
    "    'in_features': 2, # number of in-features to multi-log-reg\n",
    "    'k': 2, # number of classes\n",
    "    'lower': -1, # lower bound for generating ground truth weights\n",
    "    'upper': 1,  # upper bound for generating ground truth weights\n",
    "    'custom_criterion': F.gumbel_softmax,\n",
    "    'trials': 10,\n",
    "})"
   ]
  },
  {
   "cell_type": "markdown",
   "metadata": {},
   "source": [
    "# Generate Synthetic Data"
   ]
  },
  {
   "cell_type": "code",
   "execution_count": 37,
   "metadata": {},
   "outputs": [
    {
     "name": "stdout",
     "output_type": "stream",
     "text": [
      "ground truth weights: Parameter containing:\n",
      "tensor([[ 0.1325,  0.7295],\n",
      "        [-0.1977,  0.4415]], requires_grad=True)\n",
      "ground truth bias: Parameter containing:\n",
      "tensor([-0.5368, -0.3590], requires_grad=True)\n"
     ]
    }
   ],
   "source": [
    "# generate ground-truth from uniform distribution\n",
    "U = Uniform(args.lower, args.upper)\n",
    "ground_truth = nn.Linear(in_features=args.IN_FEATURES, out_features=args.K, bias=args.bias)\n",
    "ground_truth.weight = nn.Parameter(U.sample(ch.Size([args.K, args.IN_FEATURES])))\n",
    "if ground_truth.bias is not None: \n",
    "    ground_truth.bias = nn.Parameter(U.sample(ch.Size([args.K,])))\n",
    "print(\"ground truth weights: {}\".format(ground_truth.weight))\n",
    "print(\"ground truth bias: {}\".format(ground_truth.bias))\n",
    "# independent variable \n",
    "U_ = Uniform(-5, 5)\n",
    "X = U_.sample(ch.Size([args.samples, args.IN_FEATURES]))\n",
    "# determine base model logits \n",
    "z = ground_truth(X)\n",
    "# apply softmax to unnormalized likelihoods\n",
    "y = ch.argmax(ch.nn.Softmax(dim=1)(z), dim=1)"
   ]
  },
  {
   "cell_type": "markdown",
   "metadata": {},
   "source": [
    "# Algorithm Parameters"
   ]
  },
  {
   "cell_type": "code",
   "execution_count": 156,
   "metadata": {},
   "outputs": [],
   "source": [
    "# all synthetic data \n",
    "ds = TensorDataset(X, y)\n",
    "# split ds into training and validation data sets\n",
    "train_length = int(len(ds)*.8)\n",
    "val_length = len(ds) - train_length\n",
    "train_ds, val_ds = ch.utils.data.random_split(ds, [train_length, val_length])\n",
    "# train and validation loaders\n",
    "train_loader = DataLoader(train_ds, num_workers=args.num_workers, batch_size=args.batch_size)\n",
    "val_loader = DataLoader(val_ds, num_workers=args.num_workers, batch_size=args.batch_size)\n",
    "# gradients\n",
    "gumbel_ce = GumbelCE.apply\n",
    "ce_loss = nn.CrossEntropyLoss()"
   ]
  },
  {
   "cell_type": "markdown",
   "metadata": {},
   "source": [
    "# PyTorch CE Loss"
   ]
  },
  {
   "cell_type": "code",
   "execution_count": 170,
   "metadata": {},
   "outputs": [
    {
     "name": "stdout",
     "output_type": "stream",
     "text": [
      "Logging in: /home/pstefanou/MultinomialLogisticRegression/ee81d48c-ef02-4d76-842d-104b0a60267e\n"
     ]
    },
    {
     "data": {
      "text/plain": [
       "<cox.store.Table at 0x7f98a852d860>"
      ]
     },
     "execution_count": 170,
     "metadata": {},
     "output_type": "execute_result"
    }
   ],
   "source": [
    "# CE LOSS TABLE FOR METRICS\n",
    "CE_LOSS_TABLE_NAME = 'ce_loss'\n",
    "\n",
    "STORE_PATH = '/home/pstefanou/MultinomialLogisticRegression'\n",
    "store = Store(STORE_PATH)\n",
    "\n",
    "store.add_table(CE_LOSS_TABLE_NAME, { \n",
    "    'train_acc': float, \n",
    "    'val_acc': float, \n",
    "    'train_loss': float, \n",
    "    'val_loss': float,\n",
    "    'epoch': int,\n",
    "})"
   ]
  },
  {
   "cell_type": "code",
   "execution_count": 296,
   "metadata": {
    "scrolled": true
   },
   "outputs": [],
   "source": [
    "multi_log_reg = nn.Linear(in_features=args.IN_FEATURES, out_features=args.K, bias=args.bias)\n",
    "# optimizer and scheduler\n",
    "optimizer = ch.optim.SGD(multi_log_reg.parameters(), lr=1e-1)\n",
    "scheduler = ch.optim.lr_scheduler.CosineAnnealingLR(optimizer, args.epochs)\n",
    "\n",
    "for i in range(args.trials):\n",
    "    for epoch in range(args.epochs): \n",
    "        # train loop\n",
    "        train_loss, train_acc = Tensor([]), Tensor([])\n",
    "        for batch_X, batch_y in train_loader: \n",
    "            optimizer.zero_grad()\n",
    "            pred = multi_log_reg(batch_X)\n",
    "            loss = ce_loss(pred,  batch_y)\n",
    "            loss.backward()\n",
    "            optimizer.step()\n",
    "            scheduler.step()\n",
    "            # keep track of algorithm training loss and accuracy\n",
    "            acc = (ch.argmax(ch.nn.Softmax(dim=1)(pred), dim=1) == batch_y).sum() / batch_y.size(0)\n",
    "            train_loss = ch.cat([train_loss, Tensor([loss])]) if train_loss.size() != ch.Size([0]) else Tensor([loss])\n",
    "            train_acc = ch.cat([train_acc, Tensor([acc])]) if train_acc.size() != ch.Size([0]) else Tensor([acc])\n",
    "        # validation loop\n",
    "        val_loss, val_acc = Tensor([]), Tensor([])\n",
    "        with ch.no_grad(): \n",
    "            for batch_X, batch_y in val_loader: \n",
    "                pred = multi_log_reg(batch_X)\n",
    "                loss = ce_loss(pred, batch_y)\n",
    "                # keep track of algorithm validation loss and accuracy\n",
    "                acc = (ch.argmax(ch.nn.Softmax(dim=1)(pred), dim=1) == batch_y).sum() / batch_y.size(0)            \n",
    "                val_loss = ch.cat([val_loss, Tensor([loss])]) if val_loss.size() != ch.Size([0]) else Tensor([loss])\n",
    "                val_acc = ch.cat([val_acc, Tensor([acc])]) if val_acc.size() != ch.Size([0]) else Tensor([acc])\n",
    "\n",
    "        store[CE_LOSS_TABLE_NAME].append_row({ \n",
    "            'train_acc': float(train_acc.mean()), \n",
    "            'val_acc': float(val_acc.mean()), \n",
    "            'train_loss': float(train_loss.mean()), \n",
    "            'val_loss': float(val_loss.mean()),\n",
    "            'epoch': int(epoch + 1),\n",
    "        })\n",
    "store.close()"
   ]
  },
  {
   "cell_type": "markdown",
   "metadata": {},
   "source": [
    "# Read Results Experiment"
   ]
  },
  {
   "cell_type": "code",
   "execution_count": 297,
   "metadata": {},
   "outputs": [
    {
     "name": "stderr",
     "output_type": "stream",
     "text": [
      "100%|██████████| 1/1 [00:00<00:00, 136.53it/s]\n"
     ]
    },
    {
     "data": {
      "text/html": [
       "<div>\n",
       "<style scoped>\n",
       "    .dataframe tbody tr th:only-of-type {\n",
       "        vertical-align: middle;\n",
       "    }\n",
       "\n",
       "    .dataframe tbody tr th {\n",
       "        vertical-align: top;\n",
       "    }\n",
       "\n",
       "    .dataframe thead th {\n",
       "        text-align: right;\n",
       "    }\n",
       "</style>\n",
       "<table border=\"1\" class=\"dataframe\">\n",
       "  <thead>\n",
       "    <tr style=\"text-align: right;\">\n",
       "      <th></th>\n",
       "      <th>train_acc</th>\n",
       "      <th>val_acc</th>\n",
       "      <th>train_loss</th>\n",
       "      <th>val_loss</th>\n",
       "      <th>epoch</th>\n",
       "      <th>exp_id</th>\n",
       "    </tr>\n",
       "  </thead>\n",
       "  <tbody>\n",
       "    <tr>\n",
       "      <th>0</th>\n",
       "      <td>0.905375</td>\n",
       "      <td>0.9655</td>\n",
       "      <td>0.247662</td>\n",
       "      <td>0.134356</td>\n",
       "      <td>1</td>\n",
       "      <td>9b8828df-1f70-4d59-8592-a8f7bf5f4aac</td>\n",
       "    </tr>\n",
       "    <tr>\n",
       "      <th>1</th>\n",
       "      <td>0.972625</td>\n",
       "      <td>0.9825</td>\n",
       "      <td>0.119914</td>\n",
       "      <td>0.098980</td>\n",
       "      <td>2</td>\n",
       "      <td>9b8828df-1f70-4d59-8592-a8f7bf5f4aac</td>\n",
       "    </tr>\n",
       "    <tr>\n",
       "      <th>2</th>\n",
       "      <td>0.986625</td>\n",
       "      <td>0.9880</td>\n",
       "      <td>0.097408</td>\n",
       "      <td>0.087487</td>\n",
       "      <td>3</td>\n",
       "      <td>9b8828df-1f70-4d59-8592-a8f7bf5f4aac</td>\n",
       "    </tr>\n",
       "    <tr>\n",
       "      <th>3</th>\n",
       "      <td>0.990625</td>\n",
       "      <td>0.9920</td>\n",
       "      <td>0.086181</td>\n",
       "      <td>0.077488</td>\n",
       "      <td>4</td>\n",
       "      <td>9b8828df-1f70-4d59-8592-a8f7bf5f4aac</td>\n",
       "    </tr>\n",
       "    <tr>\n",
       "      <th>4</th>\n",
       "      <td>0.993750</td>\n",
       "      <td>0.9945</td>\n",
       "      <td>0.078955</td>\n",
       "      <td>0.072315</td>\n",
       "      <td>5</td>\n",
       "      <td>9b8828df-1f70-4d59-8592-a8f7bf5f4aac</td>\n",
       "    </tr>\n",
       "  </tbody>\n",
       "</table>\n",
       "</div>"
      ],
      "text/plain": [
       "   train_acc  val_acc  train_loss  val_loss  epoch  \\\n",
       "0   0.905375   0.9655    0.247662  0.134356      1   \n",
       "1   0.972625   0.9825    0.119914  0.098980      2   \n",
       "2   0.986625   0.9880    0.097408  0.087487      3   \n",
       "3   0.990625   0.9920    0.086181  0.077488      4   \n",
       "4   0.993750   0.9945    0.078955  0.072315      5   \n",
       "\n",
       "                                 exp_id  \n",
       "0  9b8828df-1f70-4d59-8592-a8f7bf5f4aac  \n",
       "1  9b8828df-1f70-4d59-8592-a8f7bf5f4aac  \n",
       "2  9b8828df-1f70-4d59-8592-a8f7bf5f4aac  \n",
       "3  9b8828df-1f70-4d59-8592-a8f7bf5f4aac  \n",
       "4  9b8828df-1f70-4d59-8592-a8f7bf5f4aac  "
      ]
     },
     "execution_count": 297,
     "metadata": {},
     "output_type": "execute_result"
    }
   ],
   "source": [
    "reader = CollectionReader(STORE_PATH)\n",
    "results = reader.df(CE_LOSS_TABLE_NAME)\n",
    "reader.close() # close reader\n",
    "results.head()"
   ]
  },
  {
   "cell_type": "markdown",
   "metadata": {},
   "source": [
    "# Plot Loss and Accuracy Curves"
   ]
  },
  {
   "cell_type": "code",
   "execution_count": 299,
   "metadata": {},
   "outputs": [
    {
     "data": {
      "image/png": "[encoded data removed]",
      "text/plain": [
       "<Figure size 432x288 with 1 Axes>"
      ]
     },
     "metadata": {
      "needs_background": "light"
     },
     "output_type": "display_data"
    },
    {
     "data": {
      "image/png": "[encoded data removed]",
      "text/plain": [
       "<Figure size 432x288 with 1 Axes>"
      ]
     },
     "metadata": {
      "needs_background": "light"
     },
     "output_type": "display_data"
    }
   ],
   "source": [
    "sns.lineplot(data=results, x='epoch', y='train_loss', label='train loss')\n",
    "ax = sns.lineplot(data=results, x='epoch', y='val_loss', color='red', label='val loss')\n",
    "ax.set(xlabel='epoch', ylabel='CE Loss')\n",
    "plt.show()\n",
    "\n",
    "sns.lineplot(data=results, x='epoch', y='train_acc', label='train acc')\n",
    "ax = sns.lineplot(data=results, x='epoch', y='val_acc', color='red', label='val acc')\n",
    "ax.set(xlabel='epoch', ylabel='Accuracy')\n",
    "plt.show()"
   ]
  },
  {
   "cell_type": "markdown",
   "metadata": {},
   "source": [
    "# CE Latent Variable Model Loss"
   ]
  },
  {
   "cell_type": "code",
   "execution_count": 236,
   "metadata": {},
   "outputs": [],
   "source": [
    "gumbel = Gumbel(0, 1)\n",
    "\n",
    "class GumbelCE(ch.autograd.Function):\n",
    "    @staticmethod\n",
    "    def forward(ctx, pred, targ):\n",
    "        ctx.save_for_backward(pred, targ)\n",
    "        loss = ch.nn.CrossEntropyLoss()\n",
    "        return loss(pred, targ)\n",
    "\n",
    "    @staticmethod\n",
    "    def backward(ctx, grad_output):\n",
    "        pred, targ = ctx.saved_tensors\n",
    "        # make num_samples copies of pred logits\n",
    "        stacked = pred[None, ...].repeat(args.num_samples, 1, 1)        \n",
    "        # add gumbel noise to logits\n",
    "        noised = stacked + gumbel.sample(stacked.size())\n",
    "        # remove noisy logits that fall below z_k\n",
    "        for i in range(noised.size(1)): # iterate over samples within batch\n",
    "            # get minimum noisy logit for kth class\n",
    "            z_k_min = ch.min(noised[:, i, int(targ[i])])\n",
    "            # remove logits that are strictly larger than z_k_min\n",
    "            for j in range(noised.size(2)):\n",
    "                if j != targ[i]: \n",
    "                    values = noised[:, i, j]\n",
    "                    noised[:, i, j] = ch.where(values > z_k_min, ch.zeros(1), values) \n",
    "                    \n",
    "        out = noised.sum(dim = 0) / (noised.count_nonzero(dim=0) + 1e-5)\n",
    "        # calculate gradient \n",
    "        grad = (1 - ch.exp(-out))\n",
    "        return grad / pred.size(0), None"
   ]
  },
  {
   "cell_type": "code",
   "execution_count": 232,
   "metadata": {},
   "outputs": [
    {
     "name": "stdout",
     "output_type": "stream",
     "text": [
      "Logging in: /home/pstefanou/MultinomialLogisticRegression/5120b794-4f18-4748-a2ce-8037f71157a4\n"
     ]
    },
    {
     "data": {
      "text/plain": [
       "<cox.store.Table at 0x7f98986b9c18>"
      ]
     },
     "execution_count": 232,
     "metadata": {},
     "output_type": "execute_result"
    }
   ],
   "source": [
    "# CE LOSS TABLE FOR METRICS\n",
    "LATENT_CE_TABLE_NAME = 'latent_ce_grad'\n",
    "\n",
    "STORE_PATH = '/home/pstefanou/MultinomialLogisticRegression'\n",
    "store = Store(STORE_PATH)\n",
    "\n",
    "store.add_table(LATENT_CE_TABLE_NAME, { \n",
    "    'train_acc': float, \n",
    "    'val_acc': float, \n",
    "    'train_loss': float, \n",
    "    'val_loss': float,\n",
    "    'epoch': int,\n",
    "})"
   ]
  },
  {
   "cell_type": "code",
   "execution_count": 233,
   "metadata": {
    "scrolled": true
   },
   "outputs": [
    {
     "name": "stdout",
     "output_type": "stream",
     "text": [
      "out: tensor([[ 7.1837e-01, -1.3625e+06],\n",
      "        [ 1.4656e+00,  6.7347e+05],\n",
      "        [ 1.0604e+00,  1.4455e+06],\n",
      "        [-1.1016e-01,  0.0000e+00],\n",
      "        [ 0.0000e+00, -8.8154e+05],\n",
      "        [ 7.5298e-01,  4.9940e+06],\n",
      "        [ 1.3059e+00,  1.1986e+06],\n",
      "        [ 1.0866e+00,  1.5581e+06],\n",
      "        [ 1.4620e+00,  8.3908e+05],\n",
      "        [ 3.3269e-02, -2.9742e+06],\n",
      "        [ 0.0000e+00, -4.5539e+06],\n",
      "        [ 0.0000e+00, -5.2080e+06],\n",
      "        [ 2.3994e-01,  0.0000e+00],\n",
      "        [ 4.1329e-01,  0.0000e+00],\n",
      "        [ 2.6320e-01, -3.6955e+06],\n",
      "        [ 4.0510e-01, -1.9438e+06],\n",
      "        [ 4.7024e-01,  0.0000e+00],\n",
      "        [ 4.8093e-01,  2.0973e+06],\n",
      "        [ 7.0742e-01,  4.7415e+06],\n",
      "        [ 0.0000e+00, -4.8106e+06],\n",
      "        [ 7.9239e-01,  6.4460e+06],\n",
      "        [ 5.3804e-01,  0.0000e+00],\n",
      "        [ 7.2226e-01, -1.2410e+06],\n",
      "        [ 0.0000e+00, -1.0184e+06],\n",
      "        [ 1.1588e+00,  3.7912e+05],\n",
      "        [ 0.0000e+00, -4.5208e+06],\n",
      "        [ 6.8325e-01,  4.7021e+06],\n",
      "        [ 1.5135e-01, -3.1276e+06],\n",
      "        [-8.5551e-02, -2.5610e+06],\n",
      "        [ 0.0000e+00, -4.0175e+05],\n",
      "        [ 3.8910e-01,  0.0000e+00],\n",
      "        [ 5.8689e-01, -2.6247e+06],\n",
      "        [ 6.7551e-01, -2.5898e+05],\n",
      "        [ 6.7154e-01, -2.8303e+06],\n",
      "        [ 1.1564e-01, -1.5465e+06],\n",
      "        [ 0.0000e+00, -3.5325e+06],\n",
      "        [ 4.6868e-01,  0.0000e+00],\n",
      "        [ 1.0676e+00,  3.8106e+06],\n",
      "        [ 3.9515e-01, -3.3128e+06],\n",
      "        [ 3.7695e-01,  0.0000e+00],\n",
      "        [ 0.0000e+00, -3.5586e+06],\n",
      "        [ 7.8846e-01,  4.3981e+06],\n",
      "        [ 8.9231e-02, -6.3408e+05],\n",
      "        [-6.4880e-02,  0.0000e+00],\n",
      "        [ 6.5750e-01, -3.9564e+05],\n",
      "        [ 2.4515e-01,  0.0000e+00],\n",
      "        [ 6.0026e-01,  0.0000e+00],\n",
      "        [ 0.0000e+00, -4.0231e+06],\n",
      "        [ 5.2864e-01,  4.7987e+06],\n",
      "        [ 0.0000e+00, -9.1474e+04],\n",
      "        [ 4.9957e-01,  0.0000e+00],\n",
      "        [ 5.8049e-01,  0.0000e+00],\n",
      "        [ 3.5688e-01,  0.0000e+00],\n",
      "        [ 0.0000e+00, -5.4352e+06],\n",
      "        [ 0.0000e+00, -5.9868e+06],\n",
      "        [ 2.2717e-01,  0.0000e+00],\n",
      "        [ 2.0289e-04, -2.5083e+06],\n",
      "        [ 7.9077e-01,  2.0466e+06],\n",
      "        [ 5.4919e-01,  4.2059e+06],\n",
      "        [ 5.7809e-01, -3.9716e+05],\n",
      "        [ 2.7700e-02,  0.0000e+00],\n",
      "        [ 6.0847e-01,  0.0000e+00],\n",
      "        [ 7.0979e-01,  2.9272e+06],\n",
      "        [ 3.0213e-01, -3.9538e+06],\n",
      "        [ 1.4304e+00,  2.6661e+06],\n",
      "        [ 7.7917e-01,  8.3005e+05],\n",
      "        [-6.4846e-02,  0.0000e+00],\n",
      "        [ 0.0000e+00, -4.4940e+06],\n",
      "        [-1.6619e-01, -2.1249e+06],\n",
      "        [ 0.0000e+00, -5.0693e+05],\n",
      "        [ 0.0000e+00, -3.3084e+06],\n",
      "        [ 2.0892e-01,  0.0000e+00],\n",
      "        [ 9.3837e-01,  2.2853e+06],\n",
      "        [ 4.4549e-01, -4.6107e+06],\n",
      "        [ 4.1530e-01, -9.9178e+05],\n",
      "        [ 0.0000e+00, -1.5566e+06],\n",
      "        [ 1.7106e-01, -6.6075e+05],\n",
      "        [ 1.1892e-01, -6.6401e+05],\n",
      "        [ 1.1416e+00,  1.2592e+06],\n",
      "        [ 0.0000e+00, -3.7708e+06],\n",
      "        [ 6.9128e-01,  1.3147e+06],\n",
      "        [ 5.9134e-01, -2.3750e+06],\n",
      "        [ 5.0011e-01,  2.1666e+06],\n",
      "        [-1.9866e-01,  0.0000e+00],\n",
      "        [ 7.1963e-01,  4.9954e+06],\n",
      "        [ 8.7868e-01, -5.3858e+06],\n",
      "        [ 3.4417e-01,  0.0000e+00],\n",
      "        [-2.1196e-01,  0.0000e+00],\n",
      "        [ 1.0984e+00,  1.7698e+06],\n",
      "        [ 0.0000e+00, -4.8197e+06],\n",
      "        [ 3.7799e-02,  0.0000e+00],\n",
      "        [ 4.9580e-01,  6.9271e+06],\n",
      "        [ 0.0000e+00, -3.6405e+04],\n",
      "        [ 4.6344e-01, -1.9204e+06],\n",
      "        [ 3.0710e-01,  5.2816e+06],\n",
      "        [ 0.0000e+00, -1.8239e+06],\n",
      "        [ 0.0000e+00, -5.3217e+05],\n",
      "        [ 4.8844e-01, -4.0797e+05],\n",
      "        [ 0.0000e+00, -8.1057e+05],\n",
      "        [ 6.4607e-01,  1.1565e+05]])\n",
      "noised: tensor([[[-1.1448e-01, -1.3625e+06],\n",
      "         [ 6.9681e-02,  6.7347e+05],\n",
      "         [ 5.7154e-01,  1.4455e+06],\n",
      "         ...,\n",
      "         [ 7.0446e-01, -4.0797e+05],\n",
      "         [ 0.0000e+00, -8.1057e+05],\n",
      "         [-6.9780e-01,  1.1564e+05]],\n",
      "\n",
      "        [[ 1.0920e+00, -1.3625e+06],\n",
      "         [ 3.8194e+00,  6.7347e+05],\n",
      "         [ 1.2447e+00,  1.4455e+06],\n",
      "         ...,\n",
      "         [-9.8742e-01, -4.0797e+05],\n",
      "         [ 0.0000e+00, -8.1057e+05],\n",
      "         [-4.1178e-01,  1.1565e+05]],\n",
      "\n",
      "        [[ 3.6720e-01, -1.3625e+06],\n",
      "         [ 2.8358e+00,  6.7347e+05],\n",
      "         [ 1.4353e+00,  1.4455e+06],\n",
      "         ...,\n",
      "         [ 1.7340e-01, -4.0797e+05],\n",
      "         [ 0.0000e+00, -8.1057e+05],\n",
      "         [ 7.3954e-01,  1.1564e+05]],\n",
      "\n",
      "        ...,\n",
      "\n",
      "        [[ 4.9291e+00, -1.3625e+06],\n",
      "         [ 9.5741e-01,  6.7347e+05],\n",
      "         [ 2.0755e+00,  1.4455e+06],\n",
      "         ...,\n",
      "         [ 3.0134e-01, -4.0797e+05],\n",
      "         [ 0.0000e+00, -8.1057e+05],\n",
      "         [ 1.0198e+00,  1.1564e+05]],\n",
      "\n",
      "        [[-1.0901e+00, -1.3625e+06],\n",
      "         [ 2.3326e+00,  6.7347e+05],\n",
      "         [ 1.9754e+00,  1.4455e+06],\n",
      "         ...,\n",
      "         [ 1.6531e+00, -4.0797e+05],\n",
      "         [ 0.0000e+00, -8.1057e+05],\n",
      "         [-2.2143e-01,  1.1564e+05]],\n",
      "\n",
      "        [[ 2.1462e-01, -1.3625e+06],\n",
      "         [ 1.5727e+00,  6.7347e+05],\n",
      "         [ 5.7173e-01,  1.4455e+06],\n",
      "         ...,\n",
      "         [ 1.4099e+00, -4.0797e+05],\n",
      "         [ 0.0000e+00, -8.1057e+05],\n",
      "         [ 1.2735e+00,  1.1564e+05]]])\n",
      "pred: tensor([[-5.2424e-03, -1.3625e+06],\n",
      "        [ 9.4090e-01,  6.7347e+05],\n",
      "        [ 5.5625e-01,  1.4455e+06],\n",
      "        [-7.6831e-01,  5.5429e+04],\n",
      "        [ 5.5282e-01, -8.8154e+05],\n",
      "        [ 9.6294e-02,  4.9940e+06],\n",
      "        [ 8.6523e-01,  1.1986e+06],\n",
      "        [ 2.3876e-01,  1.5581e+06],\n",
      "        [ 8.0552e-01,  8.3908e+05],\n",
      "        [-3.6945e-01, -2.9742e+06],\n",
      "        [ 4.1403e-01, -4.5539e+06],\n",
      "        [ 1.4427e-01, -5.2080e+06],\n",
      "        [-1.9116e-01,  4.2783e+06],\n",
      "        [-3.0121e-01,  4.2084e+06],\n",
      "        [-1.9577e-01, -3.6955e+06],\n",
      "        [-3.7014e-01, -1.9438e+06],\n",
      "        [-1.6617e-01,  2.4899e+06],\n",
      "        [-1.4684e-03,  2.0973e+06],\n",
      "        [ 1.1801e-01,  4.7415e+06],\n",
      "        [ 4.0515e-01, -4.8106e+06],\n",
      "        [ 9.8551e-02,  6.4460e+06],\n",
      "        [-2.2578e-01,  4.0575e+06],\n",
      "        [-2.4577e-02, -1.2410e+06],\n",
      "        [ 8.3967e-01, -1.0184e+06],\n",
      "        [ 6.4367e-01,  3.7912e+05],\n",
      "        [ 1.3119e-01, -4.5208e+06],\n",
      "        [ 1.9059e-01,  4.7021e+06],\n",
      "        [-4.1902e-01, -3.1276e+06],\n",
      "        [-4.6644e-01, -2.5610e+06],\n",
      "        [ 6.7740e-02, -4.0175e+05],\n",
      "        [-7.5586e-02,  1.7860e+06],\n",
      "        [-1.5313e-01, -2.6247e+06],\n",
      "        [-6.9955e-02, -2.5898e+05],\n",
      "        [-1.1935e-01, -2.8303e+06],\n",
      "        [-2.8047e-01, -1.5465e+06],\n",
      "        [ 3.2139e-01, -3.5325e+06],\n",
      "        [-6.1860e-02,  1.3438e+05],\n",
      "        [ 3.5542e-01,  3.8106e+06],\n",
      "        [-1.9392e-01, -3.3128e+06],\n",
      "        [-1.2610e-01,  8.6942e+05],\n",
      "        [ 2.2676e-01, -3.5586e+06],\n",
      "        [ 2.7652e-01,  4.3981e+06],\n",
      "        [-2.9382e-01, -6.3408e+05],\n",
      "        [-8.7893e-01,  1.5363e+05],\n",
      "        [-4.0516e-02, -3.9564e+05],\n",
      "        [-1.0982e-01,  2.8011e+06],\n",
      "        [-2.2635e-01,  1.3495e+06],\n",
      "        [ 4.3206e-01, -4.0231e+06],\n",
      "        [ 2.6989e-01,  4.7987e+06],\n",
      "        [ 2.5166e-01, -9.1475e+04],\n",
      "        [-5.1185e-02,  2.9930e+06],\n",
      "        [-8.9322e-02,  3.0808e+06],\n",
      "        [-1.9398e-01,  2.3312e+06],\n",
      "        [ 1.7280e-01, -5.4352e+06],\n",
      "        [ 1.9585e-01, -5.9868e+06],\n",
      "        [-2.4348e-01,  5.3256e+06],\n",
      "        [-4.8377e-01, -2.5083e+06],\n",
      "        [ 3.5789e-01,  2.0466e+06],\n",
      "        [-3.5871e-02,  4.2059e+06],\n",
      "        [-4.0957e-02, -3.9716e+05],\n",
      "        [-4.4760e-01,  4.0707e+05],\n",
      "        [-3.8484e-02,  9.4215e+05],\n",
      "        [ 2.5661e-01,  2.9272e+06],\n",
      "        [-1.9378e-01, -3.9538e+06],\n",
      "        [ 6.2821e-01,  2.6661e+06],\n",
      "        [ 6.8402e-02,  8.3005e+05],\n",
      "        [-5.4889e-01,  1.9715e+05],\n",
      "        [ 2.1911e-01, -4.4940e+06],\n",
      "        [-5.5520e-01, -2.1249e+06],\n",
      "        [ 8.3090e-01, -5.0694e+05],\n",
      "        [ 1.0714e-01, -3.3084e+06],\n",
      "        [-4.2482e-01,  1.2856e+05],\n",
      "        [ 2.8983e-01,  2.2853e+06],\n",
      "        [-1.4832e-01, -4.6107e+06],\n",
      "        [-3.4124e-02, -9.9178e+05],\n",
      "        [ 3.9494e-01, -1.5566e+06],\n",
      "        [-2.8148e-01, -6.6075e+05],\n",
      "        [-5.1958e-01, -6.6401e+05],\n",
      "        [ 6.1650e-01,  1.2592e+06],\n",
      "        [ 2.4169e-01, -3.7708e+06],\n",
      "        [ 2.5992e-02,  1.3147e+06],\n",
      "        [-9.1789e-02, -2.3750e+06],\n",
      "        [ 4.6792e-02,  2.1666e+06],\n",
      "        [-5.5596e-01,  2.5420e+06],\n",
      "        [ 8.4670e-03,  4.9954e+06],\n",
      "        [ 7.5823e-02, -5.3858e+06],\n",
      "        [-3.1865e-01,  4.3169e+06],\n",
      "        [-7.1949e-01,  1.4308e+06],\n",
      "        [ 4.8673e-01,  1.7698e+06],\n",
      "        [ 4.0419e-01, -4.8197e+06],\n",
      "        [-4.5992e-01,  2.7864e+06],\n",
      "        [-6.3729e-02,  6.9271e+06],\n",
      "        [ 1.1158e-01, -3.6405e+04],\n",
      "        [-1.5535e-01, -1.9204e+06],\n",
      "        [ 5.8760e-03,  5.2816e+06],\n",
      "        [ 6.8128e-01, -1.8239e+06],\n",
      "        [ 2.9657e-01, -5.3217e+05],\n",
      "        [-2.1483e-01, -4.0797e+05],\n",
      "        [ 6.6865e-01, -8.1057e+05],\n",
      "        [ 2.1579e-01,  1.1564e+05]], grad_fn=<AddmmBackward>)\n"
     ]
    }
   ],
   "source": [
    "multi_log_reg = nn.Linear(in_features=args.IN_FEATURES, out_features=args.K, bias=args.bias)\n",
    "# optimizer and scheduler\n",
    "optimizer = ch.optim.SGD(multi_log_reg.parameters(), lr=1e-1)\n",
    "scheduler = ch.optim.lr_scheduler.CosineAnnealingLR(optimizer, args.epochs)\n",
    "\n",
    "# for i in range(args.trials):\n",
    "for epoch in range(args.epochs): \n",
    "    # train loop\n",
    "    train_loss, train_acc = Tensor([]), Tensor([])\n",
    "    for batch_X, batch_y in train_loader: \n",
    "        optimizer.zero_grad()\n",
    "        pred = multi_log_reg(batch_X)\n",
    "        loss = GumbelCE.apply(pred,  batch_y)\n",
    "        loss.backward()\n",
    "        optimizer.step()\n",
    "        scheduler.step()\n",
    "        # keep track of algorithm training loss and accuracy\n",
    "        acc = (ch.argmax(ch.nn.Softmax(dim=1)(pred), dim=1) == batch_y).sum() / batch_y.size(0)\n",
    "        train_loss = ch.cat([train_loss, Tensor([loss])]) if train_loss.size() != ch.Size([0]) else Tensor([loss])\n",
    "        train_acc = ch.cat([train_acc, Tensor([acc])]) if train_acc.size() != ch.Size([0]) else Tensor([acc])\n",
    "    # validation loop\n",
    "    val_loss, val_acc = Tensor([]), Tensor([])\n",
    "    with ch.no_grad(): \n",
    "        for batch_X, batch_y in val_loader: \n",
    "            pred = multi_log_reg(batch_X)\n",
    "            loss = gumbel_ce(pred, batch_y)\n",
    "            # keep track of algorithm validation loss and accuracy\n",
    "            acc = (ch.argmax(ch.nn.Softmax(dim=1)(pred), dim=1) == batch_y).sum() / batch_y.size(0)            \n",
    "            val_loss = ch.cat([val_loss, Tensor([loss])]) if val_loss.size() != ch.Size([0]) else Tensor([loss])\n",
    "            val_acc = ch.cat([val_acc, Tensor([acc])]) if val_acc.size() != ch.Size([0]) else Tensor([acc])\n",
    "\n",
    "    store[LATENT_CE_TABLE_NAME].append_row({ \n",
    "        'train_acc': float(train_acc.mean()), \n",
    "        'val_acc': float(val_acc.mean()), \n",
    "        'train_loss': float(train_loss.mean()), \n",
    "        'val_loss': float(val_loss.mean()),\n",
    "        'epoch': int(epoch + 1),\n",
    "    })\n",
    "store.close()"
   ]
  },
  {
   "cell_type": "code",
   "execution_count": 234,
   "metadata": {},
   "outputs": [
    {
     "name": "stderr",
     "output_type": "stream",
     "text": [
      "100%|██████████| 1/1 [00:00<00:00, 191.15it/s]\n"
     ]
    },
    {
     "data": {
      "text/html": [
       "<div>\n",
       "<style scoped>\n",
       "    .dataframe tbody tr th:only-of-type {\n",
       "        vertical-align: middle;\n",
       "    }\n",
       "\n",
       "    .dataframe tbody tr th {\n",
       "        vertical-align: top;\n",
       "    }\n",
       "\n",
       "    .dataframe thead th {\n",
       "        text-align: right;\n",
       "    }\n",
       "</style>\n",
       "<table border=\"1\" class=\"dataframe\">\n",
       "  <thead>\n",
       "    <tr style=\"text-align: right;\">\n",
       "      <th></th>\n",
       "      <th>train_acc</th>\n",
       "      <th>val_acc</th>\n",
       "      <th>train_loss</th>\n",
       "      <th>val_loss</th>\n",
       "      <th>epoch</th>\n",
       "      <th>exp_id</th>\n",
       "    </tr>\n",
       "  </thead>\n",
       "  <tbody>\n",
       "    <tr>\n",
       "      <th>0</th>\n",
       "      <td>0.444625</td>\n",
       "      <td>0.4645</td>\n",
       "      <td>NaN</td>\n",
       "      <td>NaN</td>\n",
       "      <td>1</td>\n",
       "      <td>5120b794-4f18-4748-a2ce-8037f71157a4</td>\n",
       "    </tr>\n",
       "    <tr>\n",
       "      <th>1</th>\n",
       "      <td>0.447250</td>\n",
       "      <td>0.4645</td>\n",
       "      <td>NaN</td>\n",
       "      <td>NaN</td>\n",
       "      <td>2</td>\n",
       "      <td>5120b794-4f18-4748-a2ce-8037f71157a4</td>\n",
       "    </tr>\n",
       "    <tr>\n",
       "      <th>2</th>\n",
       "      <td>0.447250</td>\n",
       "      <td>0.4645</td>\n",
       "      <td>NaN</td>\n",
       "      <td>NaN</td>\n",
       "      <td>3</td>\n",
       "      <td>5120b794-4f18-4748-a2ce-8037f71157a4</td>\n",
       "    </tr>\n",
       "    <tr>\n",
       "      <th>3</th>\n",
       "      <td>0.447250</td>\n",
       "      <td>0.4645</td>\n",
       "      <td>NaN</td>\n",
       "      <td>NaN</td>\n",
       "      <td>4</td>\n",
       "      <td>5120b794-4f18-4748-a2ce-8037f71157a4</td>\n",
       "    </tr>\n",
       "    <tr>\n",
       "      <th>4</th>\n",
       "      <td>0.447250</td>\n",
       "      <td>0.4645</td>\n",
       "      <td>NaN</td>\n",
       "      <td>NaN</td>\n",
       "      <td>5</td>\n",
       "      <td>5120b794-4f18-4748-a2ce-8037f71157a4</td>\n",
       "    </tr>\n",
       "  </tbody>\n",
       "</table>\n",
       "</div>"
      ],
      "text/plain": [
       "   train_acc  val_acc  train_loss  val_loss  epoch  \\\n",
       "0   0.444625   0.4645         NaN       NaN      1   \n",
       "1   0.447250   0.4645         NaN       NaN      2   \n",
       "2   0.447250   0.4645         NaN       NaN      3   \n",
       "3   0.447250   0.4645         NaN       NaN      4   \n",
       "4   0.447250   0.4645         NaN       NaN      5   \n",
       "\n",
       "                                 exp_id  \n",
       "0  5120b794-4f18-4748-a2ce-8037f71157a4  \n",
       "1  5120b794-4f18-4748-a2ce-8037f71157a4  \n",
       "2  5120b794-4f18-4748-a2ce-8037f71157a4  \n",
       "3  5120b794-4f18-4748-a2ce-8037f71157a4  \n",
       "4  5120b794-4f18-4748-a2ce-8037f71157a4  "
      ]
     },
     "execution_count": 234,
     "metadata": {},
     "output_type": "execute_result"
    }
   ],
   "source": [
    "reader = CollectionReader(STORE_PATH)\n",
    "results = reader.df(LATENT_CE_TABLE_NAME)\n",
    "reader.close() # close reader\n",
    "results.head()"
   ]
  },
  {
   "cell_type": "code",
   "execution_count": 235,
   "metadata": {},
   "outputs": [
    {
     "data": {
      "image/png": "[encoded data removed]",
      "text/plain": [
       "<Figure size 432x288 with 1 Axes>"
      ]
     },
     "metadata": {
      "needs_background": "light"
     },
     "output_type": "display_data"
    },
    {
     "data": {
      "image/png": "[encoded data removed]",
      "text/plain": [
       "<Figure size 432x288 with 1 Axes>"
      ]
     },
     "metadata": {
      "needs_background": "light"
     },
     "output_type": "display_data"
    }
   ],
   "source": [
    "sns.lineplot(data=results, x='epoch', y='train_loss', label='train loss')\n",
    "ax = sns.lineplot(data=results, x='epoch', y='val_loss', color='red', label='val loss')\n",
    "ax.set(xlabel='epoch', ylabel='Gumbel CE Loss')\n",
    "plt.show()\n",
    "\n",
    "sns.lineplot(data=results, x='epoch', y='train_acc', label='train acc')\n",
    "ax = sns.lineplot(data=results, x='epoch', y='val_acc', color='red', label='val acc')\n",
    "ax.set(xlabel='epoch', ylabel='Accuracy')\n",
    "plt.show()"
   ]
  },
  {
   "cell_type": "code",
   "execution_count": 133,
   "metadata": {},
   "outputs": [],
   "source": [
    "test = Tensor([[[-0.8153,  0.9321],\n",
    "         [ 1.6409,  1.4907]],\n",
    "\n",
    "        [[-0.2041,  2.5975],\n",
    "         [ 2.3670, -0.6141]],\n",
    "\n",
    "        [[-0.1747,  0.4671],\n",
    "         [ 0.0349, -0.2609]],\n",
    "\n",
    "        [[ 0.8713, -0.1168],\n",
    "         [ 1.6669,  3.2979]],\n",
    "\n",
    "        [[ 0.2851,  1.5309],\n",
    "         [ 3.7432,  2.3373]],\n",
    "\n",
    "        [[-1.0572,  0.1300],\n",
    "         [-0.0998,  4.2500]],\n",
    "\n",
    "        [[ 1.5892,  5.3270],\n",
    "         [ 0.1965,  0.6978]],\n",
    "\n",
    "        [[-0.2203,  2.6455],\n",
    "         [ 0.6695,  5.0271]],\n",
    "\n",
    "        [[-0.5540,  0.6035],\n",
    "         [ 1.9118, -0.8531]],\n",
    "\n",
    "        [[ 0.6381,  2.2505],\n",
    "         [ 1.1812, -0.2528]]])\n",
    "targ = Tensor([1, 1])"
   ]
  },
  {
   "cell_type": "code",
   "execution_count": 134,
   "metadata": {},
   "outputs": [
    {
     "name": "stdout",
     "output_type": "stream",
     "text": [
      "z k min: -0.11680000275373459\n",
      "values: tensor([-0.8153, -0.2041, -0.1747,  0.8713,  0.2851, -1.0572,  1.5892, -0.2203,\n",
      "        -0.5540,  0.6381])\n",
      "z k min: -0.8531000018119812\n",
      "values: tensor([ 1.6409,  2.3670,  0.0349,  1.6669,  3.7432, -0.0998,  0.1965,  0.6695,\n",
      "         1.9118,  1.1812])\n"
     ]
    }
   ],
   "source": [
    "# iterate over samples within batch\n",
    "for i in range(test.size(1)): \n",
    "    # get minimum noisy logit for kth class\n",
    "    z_k_min = ch.min(test[:, i, int(targ[i])])\n",
    "    print(\"z k min: {}\".format(z_k_min))\n",
    "    # remove logits that are strictly larger than z_k_min\n",
    "    for j in range(test.size(1)):\n",
    "        if j != targ[i]: \n",
    "            values = test[:, i, int(j)]\n",
    "            print(\"values: {}\".format(values))\n",
    "            test[:, i, int(j)] = ch.where(values > z_k_min, ch.zeros(1), values)   "
   ]
  },
  {
   "cell_type": "code",
   "execution_count": 135,
   "metadata": {},
   "outputs": [
    {
     "data": {
      "text/plain": [
       "tensor([[[-0.8153,  0.9321],\n",
       "         [ 0.0000,  1.4907]],\n",
       "\n",
       "        [[-0.2041,  2.5975],\n",
       "         [ 0.0000, -0.6141]],\n",
       "\n",
       "        [[-0.1747,  0.4671],\n",
       "         [ 0.0000, -0.2609]],\n",
       "\n",
       "        [[ 0.0000, -0.1168],\n",
       "         [ 0.0000,  3.2979]],\n",
       "\n",
       "        [[ 0.0000,  1.5309],\n",
       "         [ 0.0000,  2.3373]],\n",
       "\n",
       "        [[-1.0572,  0.1300],\n",
       "         [ 0.0000,  4.2500]],\n",
       "\n",
       "        [[ 0.0000,  5.3270],\n",
       "         [ 0.0000,  0.6978]],\n",
       "\n",
       "        [[-0.2203,  2.6455],\n",
       "         [ 0.0000,  5.0271]],\n",
       "\n",
       "        [[-0.5540,  0.6035],\n",
       "         [ 0.0000, -0.8531]],\n",
       "\n",
       "        [[ 0.0000,  2.2505],\n",
       "         [ 0.0000, -0.2528]]])"
      ]
     },
     "execution_count": 135,
     "metadata": {},
     "output_type": "execute_result"
    }
   ],
   "source": [
    "test"
   ]
  },
  {
   "cell_type": "code",
   "execution_count": 91,
   "metadata": {},
   "outputs": [
    {
     "data": {
      "text/plain": [
       "tensor([], size=(0, 1), dtype=torch.int64)"
      ]
     },
     "execution_count": 91,
     "metadata": {},
     "output_type": "execute_result"
    }
   ],
   "source": [
    "test[:, 0, 0].nonzero(as_tuple=False)"
   ]
  },
  {
   "cell_type": "code",
   "execution_count": 99,
   "metadata": {},
   "outputs": [
    {
     "data": {
      "text/plain": [
       "tensor(0)"
      ]
     },
     "execution_count": 99,
     "metadata": {},
     "output_type": "execute_result"
    }
   ],
   "source": [
    "test[:, 0, 0].count_nonzero()"
   ]
  },
  {
   "cell_type": "code",
   "execution_count": 101,
   "metadata": {},
   "outputs": [
    {
     "data": {
      "text/plain": [
       "tensor([[ 0, 10],\n",
       "        [10,  0]])"
      ]
     },
     "execution_count": 101,
     "metadata": {},
     "output_type": "execute_result"
    }
   ],
   "source": []
  },
  {
   "cell_type": "code",
   "execution_count": null,
   "metadata": {},
   "outputs": [],
   "source": []
  }
 ],
 "metadata": {
  "kernelspec": {
   "display_name": "env",
   "language": "python",
   "name": "env"
  },
  "language_info": {
   "codemirror_mode": {
    "name": "ipython",
    "version": 3
   },
   "file_extension": ".py",
   "mimetype": "text/x-python",
   "name": "python",
   "nbconvert_exporter": "python",
   "pygments_lexer": "ipython3",
   "version": "3.6.9"
  }
 },
 "nbformat": 4,
 "nbformat_minor": 2
}
