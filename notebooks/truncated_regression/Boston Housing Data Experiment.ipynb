{
 "cells": [
  {
   "cell_type": "markdown",
   "metadata": {},
   "source": [
    "# Boston Housing Data Experiment \n",
    "Semi-synthetic dataset experiment\n"
   ]
  },
  {
   "cell_type": "code",
   "execution_count": 2,
   "metadata": {},
   "outputs": [],
   "source": [
    "import sys \n",
    "sys.path.append('../..')\n",
    "import cox\n",
    "from cox.store import Store\n",
    "from cox.utils import Parameters\n",
    "from cox.readers import CollectionReader\n",
    "import torch as ch\n",
    "from torch import Tensor\n",
    "import torch.linalg as LA\n",
    "from torch.utils.data import DataLoader\n",
    "import pandas as pd\n",
    "import seaborn as sns\n",
    "import matplotlib.pyplot as plt\n",
    "import numpy as np\n",
    "from sklearn.linear_model import LinearRegression\n",
    "from sklearn.datasets import load_boston\n",
    "from delphi import oracle \n",
    "from delphi.stats.linear_regression import TruncatedRegression"
   ]
  },
  {
   "cell_type": "markdown",
   "metadata": {},
   "source": [
    "# Load Boston Housing Dataset into Notebook\n",
    "Load Boston Housing Dataset into notebook using SKLearn import function."
   ]
  },
  {
   "cell_type": "code",
   "execution_count": 3,
   "metadata": {},
   "outputs": [
    {
     "data": {
      "text/html": [
       "<div>\n",
       "<style scoped>\n",
       "    .dataframe tbody tr th:only-of-type {\n",
       "        vertical-align: middle;\n",
       "    }\n",
       "\n",
       "    .dataframe tbody tr th {\n",
       "        vertical-align: top;\n",
       "    }\n",
       "\n",
       "    .dataframe thead th {\n",
       "        text-align: right;\n",
       "    }\n",
       "</style>\n",
       "<table border=\"1\" class=\"dataframe\">\n",
       "  <thead>\n",
       "    <tr style=\"text-align: right;\">\n",
       "      <th></th>\n",
       "      <th>CRIM</th>\n",
       "      <th>ZN</th>\n",
       "      <th>INDUS</th>\n",
       "      <th>CHAS</th>\n",
       "      <th>NOX</th>\n",
       "      <th>RM</th>\n",
       "      <th>AGE</th>\n",
       "      <th>DIS</th>\n",
       "      <th>RAD</th>\n",
       "      <th>TAX</th>\n",
       "      <th>PTRATIO</th>\n",
       "      <th>B</th>\n",
       "      <th>LSTAT</th>\n",
       "      <th>MEDV</th>\n",
       "    </tr>\n",
       "  </thead>\n",
       "  <tbody>\n",
       "    <tr>\n",
       "      <th>0</th>\n",
       "      <td>0.00632</td>\n",
       "      <td>18.0</td>\n",
       "      <td>2.31</td>\n",
       "      <td>0.0</td>\n",
       "      <td>0.538</td>\n",
       "      <td>6.575</td>\n",
       "      <td>65.2</td>\n",
       "      <td>4.0900</td>\n",
       "      <td>1.0</td>\n",
       "      <td>296.0</td>\n",
       "      <td>15.3</td>\n",
       "      <td>396.90</td>\n",
       "      <td>4.98</td>\n",
       "      <td>24.0</td>\n",
       "    </tr>\n",
       "    <tr>\n",
       "      <th>1</th>\n",
       "      <td>0.02731</td>\n",
       "      <td>0.0</td>\n",
       "      <td>7.07</td>\n",
       "      <td>0.0</td>\n",
       "      <td>0.469</td>\n",
       "      <td>6.421</td>\n",
       "      <td>78.9</td>\n",
       "      <td>4.9671</td>\n",
       "      <td>2.0</td>\n",
       "      <td>242.0</td>\n",
       "      <td>17.8</td>\n",
       "      <td>396.90</td>\n",
       "      <td>9.14</td>\n",
       "      <td>21.6</td>\n",
       "    </tr>\n",
       "    <tr>\n",
       "      <th>2</th>\n",
       "      <td>0.02729</td>\n",
       "      <td>0.0</td>\n",
       "      <td>7.07</td>\n",
       "      <td>0.0</td>\n",
       "      <td>0.469</td>\n",
       "      <td>7.185</td>\n",
       "      <td>61.1</td>\n",
       "      <td>4.9671</td>\n",
       "      <td>2.0</td>\n",
       "      <td>242.0</td>\n",
       "      <td>17.8</td>\n",
       "      <td>392.83</td>\n",
       "      <td>4.03</td>\n",
       "      <td>34.7</td>\n",
       "    </tr>\n",
       "    <tr>\n",
       "      <th>3</th>\n",
       "      <td>0.03237</td>\n",
       "      <td>0.0</td>\n",
       "      <td>2.18</td>\n",
       "      <td>0.0</td>\n",
       "      <td>0.458</td>\n",
       "      <td>6.998</td>\n",
       "      <td>45.8</td>\n",
       "      <td>6.0622</td>\n",
       "      <td>3.0</td>\n",
       "      <td>222.0</td>\n",
       "      <td>18.7</td>\n",
       "      <td>394.63</td>\n",
       "      <td>2.94</td>\n",
       "      <td>33.4</td>\n",
       "    </tr>\n",
       "    <tr>\n",
       "      <th>4</th>\n",
       "      <td>0.06905</td>\n",
       "      <td>0.0</td>\n",
       "      <td>2.18</td>\n",
       "      <td>0.0</td>\n",
       "      <td>0.458</td>\n",
       "      <td>7.147</td>\n",
       "      <td>54.2</td>\n",
       "      <td>6.0622</td>\n",
       "      <td>3.0</td>\n",
       "      <td>222.0</td>\n",
       "      <td>18.7</td>\n",
       "      <td>396.90</td>\n",
       "      <td>5.33</td>\n",
       "      <td>36.2</td>\n",
       "    </tr>\n",
       "  </tbody>\n",
       "</table>\n",
       "</div>"
      ],
      "text/plain": [
       "      CRIM    ZN  INDUS  CHAS    NOX     RM   AGE     DIS  RAD    TAX  \\\n",
       "0  0.00632  18.0   2.31   0.0  0.538  6.575  65.2  4.0900  1.0  296.0   \n",
       "1  0.02731   0.0   7.07   0.0  0.469  6.421  78.9  4.9671  2.0  242.0   \n",
       "2  0.02729   0.0   7.07   0.0  0.469  7.185  61.1  4.9671  2.0  242.0   \n",
       "3  0.03237   0.0   2.18   0.0  0.458  6.998  45.8  6.0622  3.0  222.0   \n",
       "4  0.06905   0.0   2.18   0.0  0.458  7.147  54.2  6.0622  3.0  222.0   \n",
       "\n",
       "   PTRATIO       B  LSTAT  MEDV  \n",
       "0     15.3  396.90   4.98  24.0  \n",
       "1     17.8  396.90   9.14  21.6  \n",
       "2     17.8  392.83   4.03  34.7  \n",
       "3     18.7  394.63   2.94  33.4  \n",
       "4     18.7  396.90   5.33  36.2  "
      ]
     },
     "execution_count": 3,
     "metadata": {},
     "output_type": "execute_result"
    }
   ],
   "source": [
    "bunch = load_boston()\n",
    "data = np.concatenate([bunch['data'], np.expand_dims(bunch['target'], 1)], axis=1)\n",
    "df = pd.DataFrame(data, columns=bunch['feature_names'].tolist() + ['MEDV'])\n",
    "df.head()"
   ]
  },
  {
   "cell_type": "markdown",
   "metadata": {},
   "source": [
    "# Data Exploration\n",
    "First, we will explore our dataset and determine which features that we can to include for our multiple linear regression problem."
   ]
  },
  {
   "cell_type": "markdown",
   "metadata": {},
   "source": [
    "When first exploring the features of our dataset, we compare the the mean the and the median values of the features from our dataset. We can see that for the ZN, TAX, CRIM, and B features that our mean and median features have both skewed distributions and more outliers."
   ]
  },
  {
   "cell_type": "markdown",
   "metadata": {},
   "source": [
    "Now, we examine the box plots of these features. When looking at the box plots, we can see that "
   ]
  },
  {
   "cell_type": "code",
   "execution_count": 5,
   "metadata": {},
   "outputs": [
    {
     "data": {
      "image/png": "[encoded data removed]",
      "text/plain": [
       "<Figure size 432x288 with 1 Axes>"
      ]
     },
     "metadata": {
      "needs_background": "light"
     },
     "output_type": "display_data"
    },
    {
     "data": {
      "image/png": "[encoded data removed]",
      "text/plain": [
       "<Figure size 432x288 with 1 Axes>"
      ]
     },
     "metadata": {
      "needs_background": "light"
     },
     "output_type": "display_data"
    },
    {
     "data": {
      "image/png": "[encoded data removed]",
      "text/plain": [
       "<Figure size 432x288 with 1 Axes>"
      ]
     },
     "metadata": {
      "needs_background": "light"
     },
     "output_type": "display_data"
    },
    {
     "data": {
      "image/png": "[encoded data removed]",
      "text/plain": [
       "<Figure size 432x288 with 1 Axes>"
      ]
     },
     "metadata": {
      "needs_background": "light"
     },
     "output_type": "display_data"
    }
   ],
   "source": [
    "plt.boxplot(df['ZN'])\n",
    "plt.show()\n",
    "plt.boxplot(df['CRIM'])\n",
    "plt.show()\n",
    "plt.boxplot(df['TAX'])\n",
    "plt.show()\n",
    "plt.boxplot(df['B'])\n",
    "plt.show()"
   ]
  },
  {
   "cell_type": "markdown",
   "metadata": {},
   "source": [
    "By plotting the density of the target variable MDEV, we can see that the target variable MEDV is normally distributed, with a few outliers. "
   ]
  },
  {
   "cell_type": "code",
   "execution_count": 6,
   "metadata": {},
   "outputs": [
    {
     "data": {
      "image/png": "[encoded data removed]",
      "text/plain": [
       "<Figure size 432x288 with 1 Axes>"
      ]
     },
     "metadata": {
      "needs_background": "light"
     },
     "output_type": "display_data"
    }
   ],
   "source": [
    "plt.hist(df['MEDV'], bins=100, color='red')\n",
    "plt.show()"
   ]
  },
  {
   "cell_type": "markdown",
   "metadata": {},
   "source": [
    "Next, by looking at the correlation matrix, we can see that the most influential features on house price are LSTAT and RM. LSTAT has a strong negative correlation with MEDV, while RM has a strong one. Intuitively, this makes sense as RM represents the numebr of rooms in the house; houses tend to cost more if they have more rooms. Further, LSTAT represents the percentage of lower status of the population; house prices tend to reflect the financial status of the population."
   ]
  },
  {
   "cell_type": "code",
   "execution_count": 7,
   "metadata": {},
   "outputs": [
    {
     "data": {
      "text/html": [
       "<div>\n",
       "<style scoped>\n",
       "    .dataframe tbody tr th:only-of-type {\n",
       "        vertical-align: middle;\n",
       "    }\n",
       "\n",
       "    .dataframe tbody tr th {\n",
       "        vertical-align: top;\n",
       "    }\n",
       "\n",
       "    .dataframe thead th {\n",
       "        text-align: right;\n",
       "    }\n",
       "</style>\n",
       "<table border=\"1\" class=\"dataframe\">\n",
       "  <thead>\n",
       "    <tr style=\"text-align: right;\">\n",
       "      <th></th>\n",
       "      <th>CRIM</th>\n",
       "      <th>ZN</th>\n",
       "      <th>INDUS</th>\n",
       "      <th>CHAS</th>\n",
       "      <th>NOX</th>\n",
       "      <th>RM</th>\n",
       "      <th>AGE</th>\n",
       "      <th>DIS</th>\n",
       "      <th>RAD</th>\n",
       "      <th>TAX</th>\n",
       "      <th>PTRATIO</th>\n",
       "      <th>B</th>\n",
       "      <th>LSTAT</th>\n",
       "      <th>MEDV</th>\n",
       "    </tr>\n",
       "  </thead>\n",
       "  <tbody>\n",
       "    <tr>\n",
       "      <th>CRIM</th>\n",
       "      <td>1.000000</td>\n",
       "      <td>-0.200469</td>\n",
       "      <td>0.406583</td>\n",
       "      <td>-0.055892</td>\n",
       "      <td>0.420972</td>\n",
       "      <td>-0.219247</td>\n",
       "      <td>0.352734</td>\n",
       "      <td>-0.379670</td>\n",
       "      <td>0.625505</td>\n",
       "      <td>0.582764</td>\n",
       "      <td>0.289946</td>\n",
       "      <td>-0.385064</td>\n",
       "      <td>0.455621</td>\n",
       "      <td>-0.388305</td>\n",
       "    </tr>\n",
       "    <tr>\n",
       "      <th>ZN</th>\n",
       "      <td>-0.200469</td>\n",
       "      <td>1.000000</td>\n",
       "      <td>-0.533828</td>\n",
       "      <td>-0.042697</td>\n",
       "      <td>-0.516604</td>\n",
       "      <td>0.311991</td>\n",
       "      <td>-0.569537</td>\n",
       "      <td>0.664408</td>\n",
       "      <td>-0.311948</td>\n",
       "      <td>-0.314563</td>\n",
       "      <td>-0.391679</td>\n",
       "      <td>0.175520</td>\n",
       "      <td>-0.412995</td>\n",
       "      <td>0.360445</td>\n",
       "    </tr>\n",
       "    <tr>\n",
       "      <th>INDUS</th>\n",
       "      <td>0.406583</td>\n",
       "      <td>-0.533828</td>\n",
       "      <td>1.000000</td>\n",
       "      <td>0.062938</td>\n",
       "      <td>0.763651</td>\n",
       "      <td>-0.391676</td>\n",
       "      <td>0.644779</td>\n",
       "      <td>-0.708027</td>\n",
       "      <td>0.595129</td>\n",
       "      <td>0.720760</td>\n",
       "      <td>0.383248</td>\n",
       "      <td>-0.356977</td>\n",
       "      <td>0.603800</td>\n",
       "      <td>-0.483725</td>\n",
       "    </tr>\n",
       "    <tr>\n",
       "      <th>CHAS</th>\n",
       "      <td>-0.055892</td>\n",
       "      <td>-0.042697</td>\n",
       "      <td>0.062938</td>\n",
       "      <td>1.000000</td>\n",
       "      <td>0.091203</td>\n",
       "      <td>0.091251</td>\n",
       "      <td>0.086518</td>\n",
       "      <td>-0.099176</td>\n",
       "      <td>-0.007368</td>\n",
       "      <td>-0.035587</td>\n",
       "      <td>-0.121515</td>\n",
       "      <td>0.048788</td>\n",
       "      <td>-0.053929</td>\n",
       "      <td>0.175260</td>\n",
       "    </tr>\n",
       "    <tr>\n",
       "      <th>NOX</th>\n",
       "      <td>0.420972</td>\n",
       "      <td>-0.516604</td>\n",
       "      <td>0.763651</td>\n",
       "      <td>0.091203</td>\n",
       "      <td>1.000000</td>\n",
       "      <td>-0.302188</td>\n",
       "      <td>0.731470</td>\n",
       "      <td>-0.769230</td>\n",
       "      <td>0.611441</td>\n",
       "      <td>0.668023</td>\n",
       "      <td>0.188933</td>\n",
       "      <td>-0.380051</td>\n",
       "      <td>0.590879</td>\n",
       "      <td>-0.427321</td>\n",
       "    </tr>\n",
       "    <tr>\n",
       "      <th>RM</th>\n",
       "      <td>-0.219247</td>\n",
       "      <td>0.311991</td>\n",
       "      <td>-0.391676</td>\n",
       "      <td>0.091251</td>\n",
       "      <td>-0.302188</td>\n",
       "      <td>1.000000</td>\n",
       "      <td>-0.240265</td>\n",
       "      <td>0.205246</td>\n",
       "      <td>-0.209847</td>\n",
       "      <td>-0.292048</td>\n",
       "      <td>-0.355501</td>\n",
       "      <td>0.128069</td>\n",
       "      <td>-0.613808</td>\n",
       "      <td>0.695360</td>\n",
       "    </tr>\n",
       "    <tr>\n",
       "      <th>AGE</th>\n",
       "      <td>0.352734</td>\n",
       "      <td>-0.569537</td>\n",
       "      <td>0.644779</td>\n",
       "      <td>0.086518</td>\n",
       "      <td>0.731470</td>\n",
       "      <td>-0.240265</td>\n",
       "      <td>1.000000</td>\n",
       "      <td>-0.747881</td>\n",
       "      <td>0.456022</td>\n",
       "      <td>0.506456</td>\n",
       "      <td>0.261515</td>\n",
       "      <td>-0.273534</td>\n",
       "      <td>0.602339</td>\n",
       "      <td>-0.376955</td>\n",
       "    </tr>\n",
       "    <tr>\n",
       "      <th>DIS</th>\n",
       "      <td>-0.379670</td>\n",
       "      <td>0.664408</td>\n",
       "      <td>-0.708027</td>\n",
       "      <td>-0.099176</td>\n",
       "      <td>-0.769230</td>\n",
       "      <td>0.205246</td>\n",
       "      <td>-0.747881</td>\n",
       "      <td>1.000000</td>\n",
       "      <td>-0.494588</td>\n",
       "      <td>-0.534432</td>\n",
       "      <td>-0.232471</td>\n",
       "      <td>0.291512</td>\n",
       "      <td>-0.496996</td>\n",
       "      <td>0.249929</td>\n",
       "    </tr>\n",
       "    <tr>\n",
       "      <th>RAD</th>\n",
       "      <td>0.625505</td>\n",
       "      <td>-0.311948</td>\n",
       "      <td>0.595129</td>\n",
       "      <td>-0.007368</td>\n",
       "      <td>0.611441</td>\n",
       "      <td>-0.209847</td>\n",
       "      <td>0.456022</td>\n",
       "      <td>-0.494588</td>\n",
       "      <td>1.000000</td>\n",
       "      <td>0.910228</td>\n",
       "      <td>0.464741</td>\n",
       "      <td>-0.444413</td>\n",
       "      <td>0.488676</td>\n",
       "      <td>-0.381626</td>\n",
       "    </tr>\n",
       "    <tr>\n",
       "      <th>TAX</th>\n",
       "      <td>0.582764</td>\n",
       "      <td>-0.314563</td>\n",
       "      <td>0.720760</td>\n",
       "      <td>-0.035587</td>\n",
       "      <td>0.668023</td>\n",
       "      <td>-0.292048</td>\n",
       "      <td>0.506456</td>\n",
       "      <td>-0.534432</td>\n",
       "      <td>0.910228</td>\n",
       "      <td>1.000000</td>\n",
       "      <td>0.460853</td>\n",
       "      <td>-0.441808</td>\n",
       "      <td>0.543993</td>\n",
       "      <td>-0.468536</td>\n",
       "    </tr>\n",
       "    <tr>\n",
       "      <th>PTRATIO</th>\n",
       "      <td>0.289946</td>\n",
       "      <td>-0.391679</td>\n",
       "      <td>0.383248</td>\n",
       "      <td>-0.121515</td>\n",
       "      <td>0.188933</td>\n",
       "      <td>-0.355501</td>\n",
       "      <td>0.261515</td>\n",
       "      <td>-0.232471</td>\n",
       "      <td>0.464741</td>\n",
       "      <td>0.460853</td>\n",
       "      <td>1.000000</td>\n",
       "      <td>-0.177383</td>\n",
       "      <td>0.374044</td>\n",
       "      <td>-0.507787</td>\n",
       "    </tr>\n",
       "    <tr>\n",
       "      <th>B</th>\n",
       "      <td>-0.385064</td>\n",
       "      <td>0.175520</td>\n",
       "      <td>-0.356977</td>\n",
       "      <td>0.048788</td>\n",
       "      <td>-0.380051</td>\n",
       "      <td>0.128069</td>\n",
       "      <td>-0.273534</td>\n",
       "      <td>0.291512</td>\n",
       "      <td>-0.444413</td>\n",
       "      <td>-0.441808</td>\n",
       "      <td>-0.177383</td>\n",
       "      <td>1.000000</td>\n",
       "      <td>-0.366087</td>\n",
       "      <td>0.333461</td>\n",
       "    </tr>\n",
       "    <tr>\n",
       "      <th>LSTAT</th>\n",
       "      <td>0.455621</td>\n",
       "      <td>-0.412995</td>\n",
       "      <td>0.603800</td>\n",
       "      <td>-0.053929</td>\n",
       "      <td>0.590879</td>\n",
       "      <td>-0.613808</td>\n",
       "      <td>0.602339</td>\n",
       "      <td>-0.496996</td>\n",
       "      <td>0.488676</td>\n",
       "      <td>0.543993</td>\n",
       "      <td>0.374044</td>\n",
       "      <td>-0.366087</td>\n",
       "      <td>1.000000</td>\n",
       "      <td>-0.737663</td>\n",
       "    </tr>\n",
       "    <tr>\n",
       "      <th>MEDV</th>\n",
       "      <td>-0.388305</td>\n",
       "      <td>0.360445</td>\n",
       "      <td>-0.483725</td>\n",
       "      <td>0.175260</td>\n",
       "      <td>-0.427321</td>\n",
       "      <td>0.695360</td>\n",
       "      <td>-0.376955</td>\n",
       "      <td>0.249929</td>\n",
       "      <td>-0.381626</td>\n",
       "      <td>-0.468536</td>\n",
       "      <td>-0.507787</td>\n",
       "      <td>0.333461</td>\n",
       "      <td>-0.737663</td>\n",
       "      <td>1.000000</td>\n",
       "    </tr>\n",
       "  </tbody>\n",
       "</table>\n",
       "</div>"
      ],
      "text/plain": [
       "             CRIM        ZN     INDUS      CHAS       NOX        RM       AGE  \\\n",
       "CRIM     1.000000 -0.200469  0.406583 -0.055892  0.420972 -0.219247  0.352734   \n",
       "ZN      -0.200469  1.000000 -0.533828 -0.042697 -0.516604  0.311991 -0.569537   \n",
       "INDUS    0.406583 -0.533828  1.000000  0.062938  0.763651 -0.391676  0.644779   \n",
       "CHAS    -0.055892 -0.042697  0.062938  1.000000  0.091203  0.091251  0.086518   \n",
       "NOX      0.420972 -0.516604  0.763651  0.091203  1.000000 -0.302188  0.731470   \n",
       "RM      -0.219247  0.311991 -0.391676  0.091251 -0.302188  1.000000 -0.240265   \n",
       "AGE      0.352734 -0.569537  0.644779  0.086518  0.731470 -0.240265  1.000000   \n",
       "DIS     -0.379670  0.664408 -0.708027 -0.099176 -0.769230  0.205246 -0.747881   \n",
       "RAD      0.625505 -0.311948  0.595129 -0.007368  0.611441 -0.209847  0.456022   \n",
       "TAX      0.582764 -0.314563  0.720760 -0.035587  0.668023 -0.292048  0.506456   \n",
       "PTRATIO  0.289946 -0.391679  0.383248 -0.121515  0.188933 -0.355501  0.261515   \n",
       "B       -0.385064  0.175520 -0.356977  0.048788 -0.380051  0.128069 -0.273534   \n",
       "LSTAT    0.455621 -0.412995  0.603800 -0.053929  0.590879 -0.613808  0.602339   \n",
       "MEDV    -0.388305  0.360445 -0.483725  0.175260 -0.427321  0.695360 -0.376955   \n",
       "\n",
       "              DIS       RAD       TAX   PTRATIO         B     LSTAT      MEDV  \n",
       "CRIM    -0.379670  0.625505  0.582764  0.289946 -0.385064  0.455621 -0.388305  \n",
       "ZN       0.664408 -0.311948 -0.314563 -0.391679  0.175520 -0.412995  0.360445  \n",
       "INDUS   -0.708027  0.595129  0.720760  0.383248 -0.356977  0.603800 -0.483725  \n",
       "CHAS    -0.099176 -0.007368 -0.035587 -0.121515  0.048788 -0.053929  0.175260  \n",
       "NOX     -0.769230  0.611441  0.668023  0.188933 -0.380051  0.590879 -0.427321  \n",
       "RM       0.205246 -0.209847 -0.292048 -0.355501  0.128069 -0.613808  0.695360  \n",
       "AGE     -0.747881  0.456022  0.506456  0.261515 -0.273534  0.602339 -0.376955  \n",
       "DIS      1.000000 -0.494588 -0.534432 -0.232471  0.291512 -0.496996  0.249929  \n",
       "RAD     -0.494588  1.000000  0.910228  0.464741 -0.444413  0.488676 -0.381626  \n",
       "TAX     -0.534432  0.910228  1.000000  0.460853 -0.441808  0.543993 -0.468536  \n",
       "PTRATIO -0.232471  0.464741  0.460853  1.000000 -0.177383  0.374044 -0.507787  \n",
       "B        0.291512 -0.444413 -0.441808 -0.177383  1.000000 -0.366087  0.333461  \n",
       "LSTAT   -0.496996  0.488676  0.543993  0.374044 -0.366087  1.000000 -0.737663  \n",
       "MEDV     0.249929 -0.381626 -0.468536 -0.507787  0.333461 -0.737663  1.000000  "
      ]
     },
     "execution_count": 7,
     "metadata": {},
     "output_type": "execute_result"
    }
   ],
   "source": [
    "corr_matrix = df.corr()\n",
    "corr_matrix"
   ]
  },
  {
   "cell_type": "markdown",
   "metadata": {},
   "source": [
    "Look at the Correlation Between LSTAT and MEDV. We notice that although there is a strong correlation between LSTAT and MEDV, we can see that the relationship is non-linear."
   ]
  },
  {
   "cell_type": "code",
   "execution_count": 8,
   "metadata": {},
   "outputs": [
    {
     "data": {
      "image/png": "[encoded data removed]",
      "text/plain": [
       "<Figure size 432x288 with 1 Axes>"
      ]
     },
     "metadata": {
      "needs_background": "light"
     },
     "output_type": "display_data"
    }
   ],
   "source": [
    "lstat, medv = np.expand_dims(df['LSTAT'].to_numpy(), 1), np.expand_dims(df['MEDV'].to_numpy(), 1)\n",
    "\n",
    "# fit onls to entire \"our of the box\" data\n",
    "ols = LinearRegression() \n",
    "ols.fit(lstat, medv)\n",
    "\n",
    "ax = plt.subplot(1, 1, 1)\n",
    "plt.scatter(df['LSTAT'], df['MEDV'])\n",
    "plt.plot(lstat, ols.predict(lstat), color='red')\n",
    "ax.set_xlabel('LSTAT')\n",
    "ax.set_ylabel('MEDV')\n",
    "plt.show()"
   ]
  },
  {
   "cell_type": "markdown",
   "metadata": {},
   "source": [
    "Now, we will normalize the features in our dataset by divicing each feature by the bound of the l-infinity norm of data time $\\sqrt{k}$, where $k$ is the number of dimensions that we are dealing with."
   ]
  },
  {
   "cell_type": "code",
   "execution_count": 9,
   "metadata": {},
   "outputs": [
    {
     "data": {
      "image/png": "[encoded data removed]",
      "text/plain": [
       "<Figure size 432x288 with 1 Axes>"
      ]
     },
     "metadata": {
      "needs_background": "light"
     },
     "output_type": "display_data"
    }
   ],
   "source": [
    "lstat_max_norm = LA.norm(Tensor(lstat), dim=-1, ord=float('inf')).max()\n",
    "lstat_norm = lstat / lstat_max_norm\n",
    "\n",
    "ols_ = LinearRegression()\n",
    "ols_.fit(lstat_norm, medv)\n",
    "\n",
    "ax = plt.subplot(1, 1, 1)\n",
    "plt.scatter(lstat_norm, df['MEDV'])\n",
    "plt.plot(lstat_norm, ols_.predict(lstat_norm), color='red')\n",
    "ax.set_xlabel('LSTAT')\n",
    "ax.set_ylabel('MEDV')\n",
    "plt.show()"
   ]
  },
  {
   "cell_type": "markdown",
   "metadata": {},
   "source": [
    "After looking at the scatter plot, we see that there is a negative correlation the percentage of the population that is lower class and the average price of the house in the area. Intuitively, this makes sense. Nowe, let's see what our ols fit looks like. "
   ]
  },
  {
   "cell_type": "markdown",
   "metadata": {},
   "source": [
    "Now, let's see how our ols fits with respect to the linear regression latent variable model. I will do this by adding Gaussian noise to what we consider to be the ground-truth regression. "
   ]
  },
  {
   "cell_type": "code",
   "execution_count": 10,
   "metadata": {},
   "outputs": [
    {
     "data": {
      "image/png": "[encoded data removed]",
      "text/plain": [
       "<Figure size 432x288 with 1 Axes>"
      ]
     },
     "metadata": {
      "needs_background": "light"
     },
     "output_type": "display_data"
    }
   ],
   "source": [
    "# create data for predicting regression values\n",
    "data = np.linspace(0, 35, 200).reshape(200, 1)\n",
    "gt_pred = ols.predict(data)\n",
    "\n",
    "# calculate empirical noise std\n",
    "gt_var = (medv - ols.predict(lstat)).var(0)\n",
    "\n",
    "ax = plt.subplot(1, 1, 1)\n",
    "plt.scatter(lstat, medv)\n",
    "plt.plot(data, gt_pred, color='red', label='gt pred')\n",
    "\n",
    "plt.scatter(data, gt_pred + np.sqrt(gt_var)*np.random.randn(data.shape[0], 1), color='green', alpha=.5)\n",
    "ax.set_xlabel('LSTAT')\n",
    "ax.set_ylabel('MEDV')\n",
    "plt.legend()\n",
    "plt.show()"
   ]
  },
  {
   "cell_type": "markdown",
   "metadata": {},
   "source": [
    "# Truncate Normal Dataset\n",
    "\n",
    "Now, let's see what happens when we truncate our dataset at 25."
   ]
  },
  {
   "cell_type": "code",
   "execution_count": 113,
   "metadata": {},
   "outputs": [
    {
     "name": "stdout",
     "output_type": "stream",
     "text": [
      "percentage of remaining samples:  0.9683794379234314\n",
      "R2 Score:  0.57735301258215\n"
     ]
    },
    {
     "data": {
      "image/png": "[encoded data removed]",
      "text/plain": [
       "<Figure size 432x288 with 1 Axes>"
      ]
     },
     "metadata": {
      "needs_background": "light"
     },
     "output_type": "display_data"
    }
   ],
   "source": [
    "phi = oracle.Right(Tensor([50.0]))\n",
    "# truncate data set\n",
    "filtered = phi(Tensor(medv))\n",
    "indices = filtered.flatten().nonzero(as_tuple=False).flatten()\n",
    "x_trunc, y_trunc = lstat[indices], medv[indices]\n",
    "\n",
    "alpha = Tensor([x_trunc.shape[0] / lstat.shape[0]])\n",
    "print(\"percentage of remaining samples: \", float(alpha))\n",
    "\n",
    "\n",
    "# create training and validation datasets\n",
    "val = int(.8*len(x_trunc))\n",
    "\n",
    "# trunc ols\n",
    "trunc_ols = LinearRegression()\n",
    "trunc_ols.fit(x_trunc, y_trunc)\n",
    "r2_score = trunc_ols.score(x_trunc, y_trunc)\n",
    "print(\"R2 Score: \", r2_score)\n",
    "\n",
    "data_stand = np.expand_dims(np.linspace(-1.5, 3, 100), 1)\n",
    "data_stand_pt = Tensor(data_stand)\n",
    "trunc_ols_pred = trunc_ols.predict(data)\n",
    "ax = plt.subplot(1, 1, 1)\n",
    "plt.scatter(x_trunc, y_trunc)\n",
    "plt.plot(data, trunc_ols_pred, color='red', label='trunc ols')\n",
    "plt.plot(data, ols.predict(data), color='green', label='gt pred')\n",
    "ax.set_xlabel('LSTAT')\n",
    "ax.set_ylabel('MEDV')\n",
    "plt.legend()\n",
    "plt.show()"
   ]
  },
  {
   "cell_type": "markdown",
   "metadata": {},
   "source": [
    "Now, we scale the dependent variable of our dataset by dividing it by the underlying standard deviation of our noise variance."
   ]
  },
  {
   "cell_type": "code",
   "execution_count": 120,
   "metadata": {},
   "outputs": [
    {
     "name": "stdout",
     "output_type": "stream",
     "text": [
      "args:  {\n",
      "  \"workers\": 2,\n",
      "  \"bs\": 100,\n",
      "  \"bias\": true,\n",
      "  \"num_samples\": 100,\n",
      "  \"tol\": 0.05,\n",
      "  \"steps\": 2000\n",
      "}\n"
     ]
    }
   ],
   "source": [
    "# experiment hyperparameters\n",
    "args = Parameters({ \n",
    "    'workers': 2, \n",
    "    'bs': 100,\n",
    "    'bias': True,\n",
    "    'num_samples': 100,\n",
    "    'tol': 5e-2,\n",
    "    'steps': 2000,\n",
    "})\n",
    "print(\"args: \", args)"
   ]
  },
  {
   "cell_type": "markdown",
   "metadata": {},
   "source": [
    "First we will try to debias a truncated regression in the case where we assume that we know the noise variance."
   ]
  },
  {
   "cell_type": "code",
   "execution_count": 121,
   "metadata": {
    "scrolled": true
   },
   "outputs": [
    {
     "name": "stdout",
     "output_type": "stream",
     "text": [
      "Iteration: 0.0 | Score: [-0.041839055716991425]\n",
      "Iteration: 1.0 | Score: [-0.16984973847866058]\n",
      "Iteration: 2.0 | Score: [-0.19842351973056793]\n",
      "Iteration: 3.0 | Score: [-0.1922968327999115]\n",
      "Iteration: 4.0 | Score: [-0.21665233373641968]\n",
      "Iteration: 5.0 | Score: [-0.16114568710327148]\n",
      "Iteration: 6.0 | Score: [-0.15054722130298615]\n",
      "Iteration: 7.0 | Score: [-0.1347455233335495]\n",
      "Iteration: 8.0 | Score: [-0.08755429089069366]\n",
      "Iteration: 9.0 | Score: [-0.04334840923547745]\n"
     ]
    },
    {
     "data": {
      "image/png": "[encoded data removed]",
      "text/plain": [
       "<Figure size 432x288 with 1 Axes>"
      ]
     },
     "metadata": {
      "needs_background": "light"
     },
     "output_type": "display_data"
    }
   ],
   "source": [
    "# scale dependent variable by std dev of noise var\n",
    "noise_var = Tensor((medv - ols.predict(lstat)).var(0))\n",
    "stand_y_trunc = (y_trunc / ch.sqrt(noise_var)).float()\n",
    "\n",
    "# normalize independent variables\n",
    "beta = LA.norm(Tensor(x_trunc), dim=-1, ord=float('inf')).max()\n",
    "x_trunc_norm = (x_trunc / beta).float()\n",
    "\n",
    "stand_phi = oracle.Right(Tensor([50.0]) / ch.sqrt(noise_var))\n",
    "# truncated linear regression with known noise variance using empirical noise variance\n",
    "known_trunc_reg = TruncatedRegression(phi=stand_phi, alpha=alpha, bias=args.bias, unknown=False, val=val, tol=args.tol, steps=args.steps, n=100)\n",
    "known_results = known_trunc_reg.fit(x_trunc_norm, stand_y_trunc)\n",
    "w_, w0_ = (known_results.weight.detach().cpu() * ch.sqrt(noise_var)) / beta, known_results.bias.detach().cpu() * ch.sqrt(noise_var)\n",
    "\n",
    "\n",
    "# plot linear regressions\n",
    "plt.plot(data, trunc_ols.predict(data), color='red', label='trunc ols')\n",
    "plt.plot(data, Tensor(data)@w_ + w0_, color='green', label='known variance')\n",
    "plt.plot(data, ols.predict(data), color='blue', label='ground-truth')\n",
    "plt.scatter(x_trunc, y_trunc)\n",
    "plt.legend()\n",
    "plt.show()"
   ]
  },
  {
   "cell_type": "markdown",
   "metadata": {},
   "source": [
    "Now, we will run the same procedure with unknown variance."
   ]
  },
  {
   "cell_type": "code",
   "execution_count": 122,
   "metadata": {},
   "outputs": [
    {
     "name": "stdout",
     "output_type": "stream",
     "text": [
      "Iteration: 0.0 | Score: [0.03161007910966873, 0.1075877845287323]\n",
      "Iteration: 1.0 | Score: [-5.170074939727783, 0.4858531951904297]\n",
      "Iteration: 2.0 | Score: [-6.267785549163818, 4.034688949584961]\n",
      "Iteration: 3.0 | Score: [-6.109661102294922, 2.7027196884155273]\n",
      "Iteration: 4.0 | Score: [-5.388279438018799, 3.1864829063415527]\n",
      "Iteration: 5.0 | Score: [-10.831703186035156, -22.42953109741211]\n",
      "Iteration: 6.0 | Score: [-7.546189308166504, -5.579694747924805]\n",
      "Iteration: 7.0 | Score: [-8.504398345947266, -8.014792442321777]\n",
      "Iteration: 8.0 | Score: [-7.063817977905273, 0.49746114015579224]\n",
      "Iteration: 9.0 | Score: [-6.874243259429932, -0.9866456985473633]\n",
      "Iteration: 10.0 | Score: [-6.407708168029785, -1.5626580715179443]\n",
      "Iteration: 11.0 | Score: [-6.986201286315918, -3.6341824531555176]\n",
      "Iteration: 12.0 | Score: [-6.070960998535156, 0.12307628989219666]\n",
      "Iteration: 13.0 | Score: [-10.570113182067871, -20.688074111938477]\n",
      "Iteration: 14.0 | Score: [-6.964513301849365, 2.151519775390625]\n",
      "Iteration: 15.0 | Score: [-6.503032207489014, 1.7785863876342773]\n",
      "Iteration: 16.0 | Score: [-6.033697128295898, 1.733085036277771]\n",
      "Iteration: 17.0 | Score: [-5.681969165802002, 2.2806456089019775]\n",
      "Iteration: 18.0 | Score: [-5.408553600311279, 2.7384049892425537]\n",
      "Iteration: 19.0 | Score: [-5.225872993469238, 4.534078598022461]\n",
      "Iteration: 20.0 | Score: [-5.207005977630615, 5.557950973510742]\n"
     ]
    },
    {
     "data": {
      "image/png": "[encoded data removed]",
      "text/plain": [
       "<Figure size 432x288 with 1 Axes>"
      ]
     },
     "metadata": {
      "needs_background": "light"
     },
     "output_type": "display_data"
    }
   ],
   "source": [
    "# scale dependent variable by std dev of noise var\n",
    "emp_noise_var = Tensor((y_trunc - trunc_ols.predict(x_trunc)).var(0))\n",
    "emp_stand_y_trunc = (y_trunc / ch.sqrt(emp_noise_var)).float()\n",
    "\n",
    "# normalize independent variables\n",
    "beta = LA.norm(Tensor(x_trunc), dim=-1, ord=float('inf')).max()\n",
    "x_trunc_norm = (x_trunc / beta).float()\n",
    "\n",
    "emp_stand_phi = oracle.Right(Tensor([50.0]) / ch.sqrt(emp_noise_var))\n",
    "# truncated linear regression with known noise variance using empirical noise variance\n",
    "unknown_trunc_reg = TruncatedRegression(phi=emp_stand_phi, alpha=alpha, bias=args.bias, unknown=True, val=val, tol=5e-1, steps=args.steps, n=100)\n",
    "unknown_results = unknown_trunc_reg.fit(x_trunc_norm, emp_stand_y_trunc)\n",
    "unknown_var = unknown_results.lambda_.inverse().detach().cpu()\n",
    "w_, w0_ = (known_results.weight.detach().cpu() * ch.sqrt(emp_noise_var) * unknown_var) / beta, known_results.bias.detach().cpu() * unknown_var * ch.sqrt(emp_noise_var)\n",
    "\n",
    "\n",
    "# plot linear regressions\n",
    "plt.plot(data, trunc_ols.predict(data), color='red', label='trunc ols')\n",
    "plt.plot(data, Tensor(data)@w_ + w0_, color='green', label='unknown')\n",
    "plt.plot(data, ols.predict(data), color='blue', label='ground-truth')\n",
    "plt.scatter(x_trunc, y_trunc)\n",
    "plt.legend()\n",
    "plt.show()"
   ]
  },
  {
   "cell_type": "code",
   "execution_count": 125,
   "metadata": {},
   "outputs": [
    {
     "data": {
      "text/plain": [
       "(tensor([26.0928]), tensor([38.4830]))"
      ]
     },
     "execution_count": 125,
     "metadata": {},
     "output_type": "execute_result"
    }
   ],
   "source": []
  },
  {
   "cell_type": "code",
   "execution_count": null,
   "metadata": {},
   "outputs": [],
   "source": []
  },
  {
   "cell_type": "code",
   "execution_count": 134,
   "metadata": {},
   "outputs": [
    {
     "data": {
      "text/plain": [
       "(506,)"
      ]
     },
     "execution_count": 134,
     "metadata": {},
     "output_type": "execute_result"
    }
   ],
   "source": [
    "rm = df['RM'].to_numpy()\n",
    "rm.shape"
   ]
  },
  {
   "cell_type": "code",
   "execution_count": 141,
   "metadata": {},
   "outputs": [
    {
     "data": {
      "text/plain": [
       "[<matplotlib.lines.Line2D at 0x7feb8438aa90>]"
      ]
     },
     "execution_count": 141,
     "metadata": {},
     "output_type": "execute_result"
    },
    {
     "data": {
      "image/png": "[encoded data removed]",
      "text/plain": [
       "<Figure size 432x288 with 1 Axes>"
      ]
     },
     "metadata": {
      "needs_background": "light"
     },
     "output_type": "display_data"
    }
   ],
   "source": [
    "mesh = np.linspace(4, 9, 100).reshape(-1, 1)\n",
    "gt = LinearRegression()\n",
    "gt.fit(rm.reshape(-1, 1), medv)\n",
    "plt.scatter(rm, medv)\n",
    "plt.plot(mesh, gt.predict(mesh).reshape(-1, 1), color='red')"
   ]
  },
  {
   "cell_type": "code",
   "execution_count": 130,
   "metadata": {},
   "outputs": [
    {
     "data": {
      "text/plain": [
       "array([[ 0.        ],\n",
       "       [ 0.1758794 ],\n",
       "       [ 0.35175879],\n",
       "       [ 0.52763819],\n",
       "       [ 0.70351759],\n",
       "       [ 0.87939698],\n",
       "       [ 1.05527638],\n",
       "       [ 1.23115578],\n",
       "       [ 1.40703518],\n",
       "       [ 1.58291457],\n",
       "       [ 1.75879397],\n",
       "       [ 1.93467337],\n",
       "       [ 2.11055276],\n",
       "       [ 2.28643216],\n",
       "       [ 2.46231156],\n",
       "       [ 2.63819095],\n",
       "       [ 2.81407035],\n",
       "       [ 2.98994975],\n",
       "       [ 3.16582915],\n",
       "       [ 3.34170854],\n",
       "       [ 3.51758794],\n",
       "       [ 3.69346734],\n",
       "       [ 3.86934673],\n",
       "       [ 4.04522613],\n",
       "       [ 4.22110553],\n",
       "       [ 4.39698492],\n",
       "       [ 4.57286432],\n",
       "       [ 4.74874372],\n",
       "       [ 4.92462312],\n",
       "       [ 5.10050251],\n",
       "       [ 5.27638191],\n",
       "       [ 5.45226131],\n",
       "       [ 5.6281407 ],\n",
       "       [ 5.8040201 ],\n",
       "       [ 5.9798995 ],\n",
       "       [ 6.15577889],\n",
       "       [ 6.33165829],\n",
       "       [ 6.50753769],\n",
       "       [ 6.68341709],\n",
       "       [ 6.85929648],\n",
       "       [ 7.03517588],\n",
       "       [ 7.21105528],\n",
       "       [ 7.38693467],\n",
       "       [ 7.56281407],\n",
       "       [ 7.73869347],\n",
       "       [ 7.91457286],\n",
       "       [ 8.09045226],\n",
       "       [ 8.26633166],\n",
       "       [ 8.44221106],\n",
       "       [ 8.61809045],\n",
       "       [ 8.79396985],\n",
       "       [ 8.96984925],\n",
       "       [ 9.14572864],\n",
       "       [ 9.32160804],\n",
       "       [ 9.49748744],\n",
       "       [ 9.67336683],\n",
       "       [ 9.84924623],\n",
       "       [10.02512563],\n",
       "       [10.20100503],\n",
       "       [10.37688442],\n",
       "       [10.55276382],\n",
       "       [10.72864322],\n",
       "       [10.90452261],\n",
       "       [11.08040201],\n",
       "       [11.25628141],\n",
       "       [11.4321608 ],\n",
       "       [11.6080402 ],\n",
       "       [11.7839196 ],\n",
       "       [11.95979899],\n",
       "       [12.13567839],\n",
       "       [12.31155779],\n",
       "       [12.48743719],\n",
       "       [12.66331658],\n",
       "       [12.83919598],\n",
       "       [13.01507538],\n",
       "       [13.19095477],\n",
       "       [13.36683417],\n",
       "       [13.54271357],\n",
       "       [13.71859296],\n",
       "       [13.89447236],\n",
       "       [14.07035176],\n",
       "       [14.24623116],\n",
       "       [14.42211055],\n",
       "       [14.59798995],\n",
       "       [14.77386935],\n",
       "       [14.94974874],\n",
       "       [15.12562814],\n",
       "       [15.30150754],\n",
       "       [15.47738693],\n",
       "       [15.65326633],\n",
       "       [15.82914573],\n",
       "       [16.00502513],\n",
       "       [16.18090452],\n",
       "       [16.35678392],\n",
       "       [16.53266332],\n",
       "       [16.70854271],\n",
       "       [16.88442211],\n",
       "       [17.06030151],\n",
       "       [17.2361809 ],\n",
       "       [17.4120603 ],\n",
       "       [17.5879397 ],\n",
       "       [17.7638191 ],\n",
       "       [17.93969849],\n",
       "       [18.11557789],\n",
       "       [18.29145729],\n",
       "       [18.46733668],\n",
       "       [18.64321608],\n",
       "       [18.81909548],\n",
       "       [18.99497487],\n",
       "       [19.17085427],\n",
       "       [19.34673367],\n",
       "       [19.52261307],\n",
       "       [19.69849246],\n",
       "       [19.87437186],\n",
       "       [20.05025126],\n",
       "       [20.22613065],\n",
       "       [20.40201005],\n",
       "       [20.57788945],\n",
       "       [20.75376884],\n",
       "       [20.92964824],\n",
       "       [21.10552764],\n",
       "       [21.28140704],\n",
       "       [21.45728643],\n",
       "       [21.63316583],\n",
       "       [21.80904523],\n",
       "       [21.98492462],\n",
       "       [22.16080402],\n",
       "       [22.33668342],\n",
       "       [22.51256281],\n",
       "       [22.68844221],\n",
       "       [22.86432161],\n",
       "       [23.04020101],\n",
       "       [23.2160804 ],\n",
       "       [23.3919598 ],\n",
       "       [23.5678392 ],\n",
       "       [23.74371859],\n",
       "       [23.91959799],\n",
       "       [24.09547739],\n",
       "       [24.27135678],\n",
       "       [24.44723618],\n",
       "       [24.62311558],\n",
       "       [24.79899497],\n",
       "       [24.97487437],\n",
       "       [25.15075377],\n",
       "       [25.32663317],\n",
       "       [25.50251256],\n",
       "       [25.67839196],\n",
       "       [25.85427136],\n",
       "       [26.03015075],\n",
       "       [26.20603015],\n",
       "       [26.38190955],\n",
       "       [26.55778894],\n",
       "       [26.73366834],\n",
       "       [26.90954774],\n",
       "       [27.08542714],\n",
       "       [27.26130653],\n",
       "       [27.43718593],\n",
       "       [27.61306533],\n",
       "       [27.78894472],\n",
       "       [27.96482412],\n",
       "       [28.14070352],\n",
       "       [28.31658291],\n",
       "       [28.49246231],\n",
       "       [28.66834171],\n",
       "       [28.84422111],\n",
       "       [29.0201005 ],\n",
       "       [29.1959799 ],\n",
       "       [29.3718593 ],\n",
       "       [29.54773869],\n",
       "       [29.72361809],\n",
       "       [29.89949749],\n",
       "       [30.07537688],\n",
       "       [30.25125628],\n",
       "       [30.42713568],\n",
       "       [30.60301508],\n",
       "       [30.77889447],\n",
       "       [30.95477387],\n",
       "       [31.13065327],\n",
       "       [31.30653266],\n",
       "       [31.48241206],\n",
       "       [31.65829146],\n",
       "       [31.83417085],\n",
       "       [32.01005025],\n",
       "       [32.18592965],\n",
       "       [32.36180905],\n",
       "       [32.53768844],\n",
       "       [32.71356784],\n",
       "       [32.88944724],\n",
       "       [33.06532663],\n",
       "       [33.24120603],\n",
       "       [33.41708543],\n",
       "       [33.59296482],\n",
       "       [33.76884422],\n",
       "       [33.94472362],\n",
       "       [34.12060302],\n",
       "       [34.29648241],\n",
       "       [34.47236181],\n",
       "       [34.64824121],\n",
       "       [34.8241206 ],\n",
       "       [35.        ]])"
      ]
     },
     "execution_count": 130,
     "metadata": {},
     "output_type": "execute_result"
    }
   ],
   "source": [
    "data"
   ]
  },
  {
   "cell_type": "markdown",
   "metadata": {},
   "source": [
    "We notice that due to the magnitude of the features, our gradients became unbounded. To account for this, we will now try both standardizing and normalizing our dataset to see if this provides more stable results."
   ]
  },
  {
   "cell_type": "markdown",
   "metadata": {},
   "source": [
    "# Normalize the Data "
   ]
  },
  {
   "cell_type": "code",
   "execution_count": 15,
   "metadata": {},
   "outputs": [
    {
     "name": "stderr",
     "output_type": "stream",
     "text": [
      "100%|██████████| 5/5 [00:00<00:00, 239.77it/s]\n"
     ]
    },
    {
     "data": {
      "text/html": [
       "<div>\n",
       "<style scoped>\n",
       "    .dataframe tbody tr th:only-of-type {\n",
       "        vertical-align: middle;\n",
       "    }\n",
       "\n",
       "    .dataframe tbody tr th {\n",
       "        vertical-align: top;\n",
       "    }\n",
       "\n",
       "    .dataframe thead th {\n",
       "        text-align: right;\n",
       "    }\n",
       "</style>\n",
       "<table border=\"1\" class=\"dataframe\">\n",
       "  <thead>\n",
       "    <tr style=\"text-align: right;\">\n",
       "      <th></th>\n",
       "      <th>c</th>\n",
       "      <th>pred_var_mse</th>\n",
       "      <th>pred_param_mse</th>\n",
       "      <th>emp_var_mse</th>\n",
       "      <th>emp_param_mse</th>\n",
       "      <th>exp_id</th>\n",
       "    </tr>\n",
       "  </thead>\n",
       "  <tbody>\n",
       "    <tr>\n",
       "      <th>0</th>\n",
       "      <td>-1.00</td>\n",
       "      <td>0.008450</td>\n",
       "      <td>0.013141</td>\n",
       "      <td>0.010971</td>\n",
       "      <td>0.026666</td>\n",
       "      <td>ce7fc4ba-f89d-4841-8845-bf0c7aaa6fc8</td>\n",
       "    </tr>\n",
       "    <tr>\n",
       "      <th>1</th>\n",
       "      <td>-0.75</td>\n",
       "      <td>0.041437</td>\n",
       "      <td>0.067314</td>\n",
       "      <td>0.042745</td>\n",
       "      <td>0.078930</td>\n",
       "      <td>ce7fc4ba-f89d-4841-8845-bf0c7aaa6fc8</td>\n",
       "    </tr>\n",
       "    <tr>\n",
       "      <th>2</th>\n",
       "      <td>-0.50</td>\n",
       "      <td>0.009972</td>\n",
       "      <td>0.030401</td>\n",
       "      <td>0.012456</td>\n",
       "      <td>0.052398</td>\n",
       "      <td>ce7fc4ba-f89d-4841-8845-bf0c7aaa6fc8</td>\n",
       "    </tr>\n",
       "    <tr>\n",
       "      <th>3</th>\n",
       "      <td>-0.25</td>\n",
       "      <td>0.023096</td>\n",
       "      <td>0.051561</td>\n",
       "      <td>0.024455</td>\n",
       "      <td>0.078662</td>\n",
       "      <td>ce7fc4ba-f89d-4841-8845-bf0c7aaa6fc8</td>\n",
       "    </tr>\n",
       "    <tr>\n",
       "      <th>4</th>\n",
       "      <td>0.00</td>\n",
       "      <td>0.032857</td>\n",
       "      <td>0.139660</td>\n",
       "      <td>0.032722</td>\n",
       "      <td>0.173678</td>\n",
       "      <td>ce7fc4ba-f89d-4841-8845-bf0c7aaa6fc8</td>\n",
       "    </tr>\n",
       "  </tbody>\n",
       "</table>\n",
       "</div>"
      ],
      "text/plain": [
       "      c  pred_var_mse  pred_param_mse  emp_var_mse  emp_param_mse  \\\n",
       "0 -1.00      0.008450        0.013141     0.010971       0.026666   \n",
       "1 -0.75      0.041437        0.067314     0.042745       0.078930   \n",
       "2 -0.50      0.009972        0.030401     0.012456       0.052398   \n",
       "3 -0.25      0.023096        0.051561     0.024455       0.078662   \n",
       "4  0.00      0.032857        0.139660     0.032722       0.173678   \n",
       "\n",
       "                                 exp_id  \n",
       "0  ce7fc4ba-f89d-4841-8845-bf0c7aaa6fc8  \n",
       "1  ce7fc4ba-f89d-4841-8845-bf0c7aaa6fc8  \n",
       "2  ce7fc4ba-f89d-4841-8845-bf0c7aaa6fc8  \n",
       "3  ce7fc4ba-f89d-4841-8845-bf0c7aaa6fc8  \n",
       "4  ce7fc4ba-f89d-4841-8845-bf0c7aaa6fc8  "
      ]
     },
     "execution_count": 15,
     "metadata": {},
     "output_type": "execute_result"
    }
   ],
   "source": [
    "reader = CollectionReader(STORE_PATH)\n",
    "results = reader.df(STORE_TABLE_NAME)\n",
    "results.head()"
   ]
  },
  {
   "cell_type": "markdown",
   "metadata": {},
   "source": [
    "# Plot Results"
   ]
  },
  {
   "cell_type": "code",
   "execution_count": 16,
   "metadata": {},
   "outputs": [
    {
     "data": {
      "image/png": "[encoded data removed]",
      "text/plain": [
       "<Figure size 432x288 with 1 Axes>"
      ]
     },
     "metadata": {
      "needs_background": "light"
     },
     "output_type": "display_data"
    }
   ],
   "source": [
    "# plot results for regression parameter MSE\n",
    "sns.lineplot(data=results, x='c', y='pred_param_mse', label='delphi', color='blue')\n",
    "ax = sns.lineplot(data=results, x='c', y='emp_param_mse', label='ols', color='red')\n",
    "ax.set(xlabel='Truncation Parameter C', ylabel='MSE')\n",
    "plt.show()"
   ]
  },
  {
   "cell_type": "code",
   "execution_count": 17,
   "metadata": {},
   "outputs": [
    {
     "data": {
      "image/png": "[encoded data removed]",
      "text/plain": [
       "<Figure size 432x288 with 1 Axes>"
      ]
     },
     "metadata": {
      "needs_background": "light"
     },
     "output_type": "display_data"
    }
   ],
   "source": [
    "# plot results for regression noise variance MSE\n",
    "sns.lineplot(data=results, x='c', y='pred_var_mse', label='delphi', color=\"blue\")\n",
    "ax = sns.lineplot(data=results, x='c', y='emp_var_mse', label='ols', color=\"red\")\n",
    "ax.set(xlabel='Truncation Parameter C', ylabel='MSE')\n",
    "ax.set(ylim=(0, .05))\n",
    "plt.show()"
   ]
  },
  {
   "cell_type": "code",
   "execution_count": null,
   "metadata": {},
   "outputs": [],
   "source": []
  }
 ],
 "metadata": {
  "kernelspec": {
   "display_name": "Python 3",
   "language": "python",
   "name": "python3"
  },
  "language_info": {
   "codemirror_mode": {
    "name": "ipython",
    "version": 3
   },
   "file_extension": ".py",
   "mimetype": "text/x-python",
   "name": "python",
   "nbconvert_exporter": "python",
   "pygments_lexer": "ipython3",
   "version": "3.8.5"
  },
  "latex_envs": {
   "LaTeX_envs_menu_present": true,
   "autoclose": false,
   "autocomplete": true,
   "bibliofile": "biblio.bib",
   "cite_by": "apalike",
   "current_citInitial": 1,
   "eqLabelWithNumbers": true,
   "eqNumInitial": 1,
   "hotkeys": {
    "equation": "Ctrl-E",
    "itemize": "Ctrl-I"
   },
   "labels_anchors": false,
   "latex_user_defs": false,
   "report_style_numbering": false,
   "user_envs_cfg": false
  },
  "toc": {
   "base_numbering": 1,
   "nav_menu": {},
   "number_sections": true,
   "sideBar": true,
   "skip_h1_title": false,
   "title_cell": "Table of Contents",
   "title_sidebar": "Contents",
   "toc_cell": false,
   "toc_position": {},
   "toc_section_display": true,
   "toc_window_display": false
  },
  "varInspector": {
   "cols": {
    "lenName": 16,
    "lenType": 16,
    "lenVar": 40
   },
   "kernels_config": {
    "python": {
     "delete_cmd_postfix": "",
     "delete_cmd_prefix": "del ",
     "library": "var_list.py",
     "varRefreshCmd": "print(var_dic_list())"
    },
    "r": {
     "delete_cmd_postfix": ") ",
     "delete_cmd_prefix": "rm(",
     "library": "var_list.r",
     "varRefreshCmd": "cat(var_dic_list()) "
    }
   },
   "types_to_exclude": [
    "module",
    "function",
    "builtin_function_or_method",
    "instance",
    "_Feature"
   ],
   "window_display": false
  }
 },
 "nbformat": 4,
 "nbformat_minor": 2
}
