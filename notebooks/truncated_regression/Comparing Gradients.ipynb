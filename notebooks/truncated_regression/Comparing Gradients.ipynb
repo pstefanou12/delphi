{
 "cells": [
  {
   "cell_type": "markdown",
   "metadata": {},
   "source": [
    "# Comparing Gradients \n",
    "In this notebook, we aim to emphasis the practicality of our framework, by showing how are gradients can also be used in the untruncated regression setting. We do this by showing that our TruncatedUnknownVarianceMSE and TruncatedMSE gradients are equal to the respective MSE gradient in the untruncated setting. Further, we claim that our gradients work in teh untruncated setting by passing in an identitry oracle into our frameowork."
   ]
  },
  {
   "cell_type": "code",
   "execution_count": 1,
   "metadata": {},
   "outputs": [],
   "source": [
    "import sys \n",
    "sys.path.append('../..')\n",
    "from cox.utils import Parameters\n",
    "from cox.store import Store\n",
    "from cox.readers import CollectionReader\n",
    "from sklearn.linear_model import LinearRegression\n",
    "import pandas as pd\n",
    "import matplotlib.pyplot as plt\n",
    "import seaborn as sns\n",
    "import math\n",
    "import config\n",
    "import numpy as np\n",
    "import torch as ch\n",
    "from torch import Tensor\n",
    "from torch.distributions.normal import Normal\n",
    "from torch.distributions.multivariate_normal import MultivariateNormal\n",
    "from torch.distributions import Uniform\n",
    "from torch.utils.data import DataLoader\n",
    "from delphi.stats.linear_regression import TruncatedLinearRegression\n",
    "from delphi import oracle\n",
    "from delphi import grad\n",
    "import datetime"
   ]
  },
  {
   "cell_type": "markdown",
   "metadata": {},
   "source": [
    "# Experiment Hyperparameters"
   ]
  },
  {
   "cell_type": "code",
   "execution_count": 56,
   "metadata": {},
   "outputs": [
    {
     "name": "stdout",
     "output_type": "stream",
     "text": [
      "args:  {\n",
      "  \"bias\": true,\n",
      "  \"num_samples\": 100,\n",
      "  \"samples\": 10000,\n",
      "  \"shuffle\": true,\n",
      "  \"tol\": 0.05,\n",
      "  \"momentum\": 0.5,\n",
      "  \"w_lower\": -1,\n",
      "  \"w_upper\": 1,\n",
      "  \"x_lower\": -5,\n",
      "  \"x_upper\": 5,\n",
      "  \"var\": 1.0,\n",
      "  \"dims\": 3,\n",
      "  \"k\": 1,\n",
      "  \"eps\": 1e-05\n",
      "}\n"
     ]
    }
   ],
   "source": [
    "args = Parameters({ \n",
    "    'bias': True,\n",
    "    'num_samples': 100,\n",
    "    'samples': 10000, \n",
    "    'shuffle': True, \n",
    "    'tol': 5e-2,\n",
    "    'momentum': .5,\n",
    "    'w_lower': -1, \n",
    "    'w_upper': 1, \n",
    "    'x_lower': -5, \n",
    "    'x_upper': 5,\n",
    "    'var': 1.0,\n",
    "    'dims': 3,\n",
    "    'k': 1,\n",
    "    'eps': 1e-5,\n",
    "})\n",
    "config.args = args\n",
    "print(\"args: \", args)"
   ]
  },
  {
   "cell_type": "markdown",
   "metadata": {},
   "source": [
    "# Gradients of Interest"
   ]
  },
  {
   "cell_type": "code",
   "execution_count": 29,
   "metadata": {},
   "outputs": [],
   "source": [
    "mse = ch.nn.MSELoss()\n",
    "trunc_mse = grad.TruncatedMSE.apply \n",
    "trunc_unknown_mse = grad.TruncatedUnknownVarianceMSE.apply "
   ]
  },
  {
   "cell_type": "markdown",
   "metadata": {},
   "source": [
    "# Helpers"
   ]
  },
  {
   "cell_type": "code",
   "execution_count": 74,
   "metadata": {},
   "outputs": [],
   "source": [
    "def gradient_similarity(args, grad_1, grad_2, x_trunc, y_trunc):\n",
    "    \"\"\"\n",
    "    grad_1: first gradient\n",
    "    grad_2: second gradient \n",
    "    x_trunc: truncated independent random variable \n",
    "    y_trnuc: truncated dependent random variable\n",
    "    returns: grad_1 and grad_2 gradients with respect to the noised output\n",
    "    \"\"\"\n",
    "    # pass data through model\n",
    "    model = ch.nn.Linear(in_features=args.dims, out_features=args.k)\n",
    "    pred = model(x_trunc)\n",
    "    \n",
    "    # see if works with lambda\n",
    "    try: \n",
    "        g1_loss = grad_1(pred, y_trunc, Tensor([1.0])[None,...])\n",
    "\n",
    "#         g1_loss = grad_1(pred, y_trunc, ch.abs(ch.randn(1))[None,...])\n",
    "    except: \n",
    "        g1_loss = grad_1(pred, y_trunc)\n",
    "    g1_g, = ch.autograd.grad(g1_loss, [pred])\n",
    "        \n",
    "    # see if works with lambda\n",
    "    try: \n",
    "        g2_loss = grad_2(pred, y_trunc, ch.abs(ch.randn(1))[None,...])\n",
    "    except: \n",
    "        g2_loss = grad_2(pred, y_trunc)\n",
    "\n",
    "    g2_g, = ch.autograd.grad(g2_loss, [pred])\n",
    "\n",
    "\n",
    "    print('Cosine Similarity between grad 1 and grad 2: ',\n",
    "            ch.nn.CosineSimilarity(dim=1)(g2_g.T, g1_g.T))\n",
    "    print(\"----\")\n",
    "    \n",
    "    return g1_g, g2_g"
   ]
  },
  {
   "cell_type": "markdown",
   "metadata": {},
   "source": [
    "# Generate Synthetic Data for Comparing Gradients"
   ]
  },
  {
   "cell_type": "code",
   "execution_count": 35,
   "metadata": {},
   "outputs": [
    {
     "name": "stdout",
     "output_type": "stream",
     "text": [
      "alpha:  1.0\n"
     ]
    }
   ],
   "source": [
    "# distributions to sample from \n",
    "U = Uniform(args.w_lower, args.w_upper)\n",
    "U_ = Uniform(args.x_lower, args.x_upper)\n",
    "\n",
    "# generate ground truth\n",
    "gt = ch.nn.Linear(in_features=args.dims, out_features=1, bias=args.bias)\n",
    "gt.weight = ch.nn.Parameter(U.sample(ch.Size([1, args.dims]))) \n",
    "# bias term \n",
    "if args.bias: \n",
    "    gt.bias = ch.nn.Parameter(U.sample(ch.Size([1, 1])))\n",
    "# ground-truth data\n",
    "X = U_.sample(ch.Size([args.samples, args.dims]))\n",
    "y = gt(X) + ch.sqrt(Tensor([args.var])) * ch.randn(X.size(0), 1)"
   ]
  },
  {
   "cell_type": "markdown",
   "metadata": {},
   "source": [
    "# Identity Oracle\n",
    "We first compare our methods in the case where we pass in an identity oracle. We show how the gradients calculate by TruncatedMSE and TruncatedUnknownMSE consistently have a very high cosine similarity to each other. "
   ]
  },
  {
   "cell_type": "code",
   "execution_count": 67,
   "metadata": {},
   "outputs": [
    {
     "name": "stdout",
     "output_type": "stream",
     "text": [
      "alpha:  1.0\n",
      "Truncated MSE and MSE:\n",
      "Cosine Similarity between grad 1 and grad 2:  tensor([0.9998])\n",
      "----\n",
      "Truncated Unknown Variance MSE and MSE:\n",
      "Cosine Similarity between grad 1 and grad 2:  tensor([0.9937])\n",
      "----\n",
      "Truncated Unknown Variance MSE and Truncated MSE:\n",
      "Cosine Similarity between grad 1 and grad 2:  tensor([0.9985])\n",
      "----\n"
     ]
    }
   ],
   "source": [
    "config.args.__setattr__('phi', oracle.Identity())\n",
    "config.args.__setattr__('var', Tensor([1.0]))\n",
    "\n",
    "filtered = config.args.phi(y)\n",
    "indices = filtered.nonzero(as_tuple=False).flatten()\n",
    "x_trunc, y_trunc = X[indices], y[indices]\n",
    "\n",
    "print(\"alpha: \", x_trunc.size(0) / X.size(0))\n",
    "\n",
    "print(\"Truncated MSE and MSE:\")\n",
    "g_trunc, g_mse = gradient_similarity(config.args, trunc_mse, mse, x_trunc, y_trunc)\n",
    "\n",
    "print(\"Truncated Unknown Variance MSE and MSE:\")\n",
    "g_trunc_unknown, g_mse = gradient_similarity(config.args, trunc_unknown_mse, mse, x_trunc, y_trunc)\n",
    "\n",
    "print(\"Truncated Unknown Variance MSE and Truncated MSE:\")\n",
    "g_trunc_unknown, g_trunc = gradient_similarity(config.args, trunc_unknown_mse, trunc_mse, x_trunc, y_trunc)\n"
   ]
  },
  {
   "cell_type": "markdown",
   "metadata": {},
   "source": [
    "# Untruncated Regression\n",
    "Now we show how our framework can be used to solve the untruncated rergression problem. "
   ]
  },
  {
   "cell_type": "markdown",
   "metadata": {},
   "source": [
    "TODO: change framework for regression so that start at random initial points. Instead calculate empirical estimates in projection set, and then prroject initial estimates to within the projection set in pre-training hook."
   ]
  },
  {
   "cell_type": "markdown",
   "metadata": {},
   "source": [
    "# Left Truncation Oracle"
   ]
  },
  {
   "cell_type": "code",
   "execution_count": 87,
   "metadata": {},
   "outputs": [
    {
     "name": "stdout",
     "output_type": "stream",
     "text": [
      "alpha:  0.4904\n",
      "Truncated MSE and MSE:\n",
      "Cosine Similarity between grad 1 and grad 2:  tensor([0.9870])\n",
      "----\n",
      "Truncated Unknown Variance MSE and MSE:\n",
      "Cosine Similarity between grad 1 and grad 2:  tensor([0.9513])\n",
      "----\n",
      "Truncated Unknown Variance MSE and Truncated MSE:\n",
      "Cosine Similarity between grad 1 and grad 2:  tensor([0.9989])\n",
      "----\n"
     ]
    }
   ],
   "source": [
    "config.args.__setattr__('phi', oracle.Left(Tensor([0.0])))\n",
    "config.args.__setattr__('var', Tensor([1.0]))\n",
    "\n",
    "filtered = config.args.phi(y)\n",
    "indices = filtered.nonzero(as_tuple=False).flatten()\n",
    "x_trunc, y_trunc = X[indices], y[indices]\n",
    "\n",
    "print(\"alpha: \", x_trunc.size(0) / X.size(0))\n",
    "\n",
    "print(\"Truncated MSE and MSE:\")\n",
    "g_trunc, g_mse = gradient_similarity(config.args, trunc_mse, mse, x_trunc, y_trunc)\n",
    "\n",
    "print(\"Truncated Unknown Variance MSE and MSE:\")\n",
    "g_trunc_unknown, g_mse = gradient_similarity(config.args, trunc_unknown_mse, mse, x_trunc, y_trunc)\n",
    "\n",
    "print(\"Truncated Unknown Variance MSE and Truncated MSE:\")\n",
    "g_trunc_unknown, g_trunc = gradient_similarity(config.args, trunc_unknown_mse, trunc_mse, x_trunc, y_trunc)\n"
   ]
  },
  {
   "cell_type": "code",
   "execution_count": 84,
   "metadata": {},
   "outputs": [
    {
     "data": {
      "text/plain": [
       "tensor(6.0874e-05)"
      ]
     },
     "execution_count": 84,
     "metadata": {},
     "output_type": "execute_result"
    }
   ],
   "source": [
    "ch.nn.MSELoss()(g_trunc, g_mse)"
   ]
  },
  {
   "cell_type": "code",
   "execution_count": 88,
   "metadata": {},
   "outputs": [
    {
     "data": {
      "text/plain": [
       "Linear(in_features=1, out_features=1, bias=True)"
      ]
     },
     "execution_count": 88,
     "metadata": {},
     "output_type": "execute_result"
    }
   ],
   "source": [
    "ch.nn.Linear(in_features=1, out_features=1, bias=True)"
   ]
  },
  {
   "cell_type": "code",
   "execution_count": null,
   "metadata": {},
   "outputs": [],
   "source": []
  }
 ],
 "metadata": {
  "kernelspec": {
   "display_name": "Python 3",
   "language": "python",
   "name": "python3"
  },
  "language_info": {
   "codemirror_mode": {
    "name": "ipython",
    "version": 3
   },
   "file_extension": ".py",
   "mimetype": "text/x-python",
   "name": "python",
   "nbconvert_exporter": "python",
   "pygments_lexer": "ipython3",
   "version": "3.8.5"
  },
  "latex_envs": {
   "LaTeX_envs_menu_present": true,
   "autoclose": false,
   "autocomplete": true,
   "bibliofile": "biblio.bib",
   "cite_by": "apalike",
   "current_citInitial": 1,
   "eqLabelWithNumbers": true,
   "eqNumInitial": 1,
   "hotkeys": {
    "equation": "Ctrl-E",
    "itemize": "Ctrl-I"
   },
   "labels_anchors": false,
   "latex_user_defs": false,
   "report_style_numbering": false,
   "user_envs_cfg": false
  },
  "toc": {
   "base_numbering": 1,
   "nav_menu": {},
   "number_sections": true,
   "sideBar": true,
   "skip_h1_title": false,
   "title_cell": "Table of Contents",
   "title_sidebar": "Contents",
   "toc_cell": false,
   "toc_position": {},
   "toc_section_display": true,
   "toc_window_display": false
  },
  "varInspector": {
   "cols": {
    "lenName": 16,
    "lenType": 16,
    "lenVar": 40
   },
   "kernels_config": {
    "python": {
     "delete_cmd_postfix": "",
     "delete_cmd_prefix": "del ",
     "library": "var_list.py",
     "varRefreshCmd": "print(var_dic_list())"
    },
    "r": {
     "delete_cmd_postfix": ") ",
     "delete_cmd_prefix": "rm(",
     "library": "var_list.r",
     "varRefreshCmd": "cat(var_dic_list()) "
    }
   },
   "types_to_exclude": [
    "module",
    "function",
    "builtin_function_or_method",
    "instance",
    "_Feature"
   ],
   "window_display": false
  }
 },
 "nbformat": 4,
 "nbformat_minor": 2
}
