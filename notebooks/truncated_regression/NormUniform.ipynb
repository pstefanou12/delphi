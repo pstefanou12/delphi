{
 "cells": [
  {
   "cell_type": "code",
   "execution_count": 1,
   "metadata": {},
   "outputs": [],
   "source": [
    "import subprocess \n",
    "import torch as ch\n",
    "from torch import Tensor\n",
    "import torch.linalg as LA\n",
    "from torch.distributions import Uniform\n",
    "from torch.distributions.multivariate_normal import MultivariateNormal\n",
    "import pandas as pd\n",
    "import numpy as np\n",
    "import csv\n",
    "import json\n",
    "from cox.utils import Parameters\n",
    "from cox.store import Store\n",
    "\n",
    "from cox.readers import CollectionReader\n",
    "import os\n",
    "from sklearn.linear_model import LinearRegression\n",
    "from sklearn.metrics import r2_score\n",
    "\n",
    "import datetime\n",
    "import seaborn as sns\n",
    "import matplotlib.pyplot as plt\n",
    "import datetime\n",
    "import math \n",
    "\n",
    "import sys \n",
    "sys.path.append('../..')\n",
    "from delphi.stats.linear_regression import TruncatedRegression\n",
    "from delphi import oracle\n",
    "from delphi.utils import constants as consts\n",
    "from delphi.utils.helpers import setup_store_with_metadata\n",
    "\n",
    "OUT_DIR = '/home/gridsan/stefanou/Regression/'\n",
    "TABLE_NAME = 'logs'\n",
    "\n",
    "# set environment variable so that stores can create output files\n",
    "os.environ['HDF5_USE_FILE_LOCKING'] = 'FALSE'"
   ]
  },
  {
   "cell_type": "code",
   "execution_count": 2,
   "metadata": {},
   "outputs": [],
   "source": [
    "args = Parameters({\n",
    "    \"bias\": True,\n",
    "    \"samples\": 10000,\n",
    "    \"c\": 0,\n",
    "    \"batch_size\": 5,\n",
    "    \"lr\": 1e-1,\n",
    "    \"trials\": 3,\n",
    "    \"workers\": 0,\n",
    "    \"steps\": 2500,\n",
    "    \"x_lower\": -10,\n",
    "    \"x_upper\": 10,\n",
    "    \"w_lower\": -1,\n",
    "    \"w_upper\": 1,\n",
    "    \"num_samples\": 100,\n",
    "})\n",
    "mse_loss = ch.nn.MSELoss()"
   ]
  },
  {
   "cell_type": "markdown",
   "metadata": {},
   "source": [
    "I will start by generating the ground-truth for our expriment."
   ]
  },
  {
   "cell_type": "code",
   "execution_count": 65,
   "metadata": {},
   "outputs": [
    {
     "name": "stdout",
     "output_type": "stream",
     "text": [
      "gt weight:  Parameter containing:\n",
      "tensor([[1.]], requires_grad=True)\n",
      "gt bias:  Parameter containing:\n",
      "tensor([[1.]], requires_grad=True)\n",
      "alpha:  tensor([0.6567])\n",
      "gt ols coef:  [[1.0079979]]\n",
      "gt ols intercept:  [0.9881993]\n",
      "trunc ols coef:  [[0.52924424]]\n",
      "trunc ols intercept:  [2.2459528]\n"
     ]
    },
    {
     "data": {
      "text/plain": [
       "Text(0, 0.5, 'y')"
      ]
     },
     "execution_count": 65,
     "metadata": {},
     "output_type": "execute_result"
    },
    {
     "data": {
      "image/png": "[encoded data removed]",
      "text/plain": [
       "<Figure size 432x288 with 1 Axes>"
      ]
     },
     "metadata": {
      "needs_background": "light"
     },
     "output_type": "display_data"
    }
   ],
   "source": [
    "# distribution for generating feature vectors\n",
    "d, k = 1, 1\n",
    "w = Uniform(-1, 1)\n",
    "# m = Uniform(-5, 5)\n",
    "m = MultivariateNormal(ch.zeros(d), ch.eye(d)/d)\n",
    "phi = oracle.Left(Tensor([0.0]))\n",
    "# phi = oracle.Identity()\n",
    "\n",
    "# generate ground truth\n",
    "gt = ch.nn.Linear(in_features=k, out_features=1)\n",
    "# gt.weight = ch.nn.Parameter(w.sample(ch.Size([k, d])))\n",
    "gt.weight = ch.nn.Parameter(ch.ones(k , d))\n",
    "\n",
    "\n",
    "# gt.bias = ch.nn.Parameter(ch.ones(1, 1)) if args.bias else None\n",
    "# gt.bias = ch.nn.Parameter(w.sample(ch.Size([1, 1]))) if args.bias else None\n",
    "gt.bias = ch.nn.Parameter(ch.ones(1, 1)) if args.bias else None\n",
    "\n",
    "\n",
    "print(\"gt weight: \", gt.weight)\n",
    "print(\"gt bias: \", gt.bias)\n",
    "\n",
    "# create base classifier\n",
    "with ch.no_grad():\n",
    "    # generate data\n",
    "    X = m.sample(ch.Size([args.samples, d])) if isinstance(m, Uniform) else m.sample(ch.Size([args.samples]))\n",
    "\n",
    "    y = gt(X)\n",
    "\n",
    "noise_var = Tensor([5.0])[...,None]\n",
    "# remove synthetic data from the computation graph\n",
    "with ch.no_grad():\n",
    "    # add noise to ground-truth pedictions\n",
    "    noised = y + ch.sqrt(noise_var) * ch.randn(X.size(0), 1)\n",
    "    # truncate based off of the standardized data\n",
    "    indices = phi(noised).flatten().nonzero(as_tuple=False).flatten()\n",
    "    y_trunc, x_trunc = noised[indices], X[indices]\n",
    "    alpha = Tensor([y_trunc.size(0) / args.samples])\n",
    "    print(\"alpha: \", alpha)\n",
    "    \n",
    "# ground-truth OLS\n",
    "gt_ols = LinearRegression()\n",
    "gt_ols.fit(X, noised)\n",
    "print(\"gt ols coef: \", gt_ols.coef_)\n",
    "print(\"gt ols intercept: \", gt_ols.intercept_)\n",
    "\n",
    "trunc_ols = LinearRegression()\n",
    "trunc_ols.fit(x_trunc, y_trunc)\n",
    "trunc_ols_pred = trunc_ols.predict(x_trunc)\n",
    "print(\"trunc ols coef: \", trunc_ols.coef_)\n",
    "print(\"trunc ols intercept: \", trunc_ols.intercept_)\n",
    "\n",
    "# data for plotting regressions\n",
    "unnorm_data = np.linspace(-5, 5, 100).reshape(100, 1)\n",
    "norm_data = np.linspace(-1, 1, 100).reshape(100, 1)\n",
    "\n",
    "ax = plt.subplot(1, 1, 1)\n",
    "plt.scatter(X, noised)\n",
    "plt.scatter(x_trunc, y_trunc)\n",
    "plt.plot(unnorm_data, gt_ols.predict(unnorm_data), color='green', label='gt ols')\n",
    "plt.plot(unnorm_data, trunc_ols.predict(unnorm_data), color='red', label='trunc ols')\n",
    "plt.legend()\n",
    "plt.title(\"Empirical and Ground Truth Dataset and Model\")\n",
    "ax.set_xlabel(\"x\")\n",
    "ax.set_ylabel(\"y\")"
   ]
  },
  {
   "cell_type": "markdown",
   "metadata": {},
   "source": [
    "Now, we want to standardize our truncated dataset, so that our empirical estimates are located on the l2 ball. First we will divide all of our covariate features by $B\\sqrt{k}$, so that all of our covariate features $||x_{i}||_{2}^{2} \\leq 1$, and reside on the $\\ell_{2}$ ball. This way the norm of $w$ will be multiplied by $B\\sqrt{k}$."
   ]
  },
  {
   "cell_type": "code",
   "execution_count": 66,
   "metadata": {},
   "outputs": [
    {
     "name": "stdout",
     "output_type": "stream",
     "text": [
      "max truncated x norm tensor(4.4484)\n",
      "beta:  tensor(4.4484)\n",
      "x max l2:  tensor(1.)\n"
     ]
    }
   ],
   "source": [
    "max_x_trunc_norm = LA.norm(x_trunc, dim=-1, ord=float('inf')).max()\n",
    "print(\"max truncated x norm\", max_x_trunc_norm)\n",
    "\n",
    "beta = max_x_trunc_norm*math.sqrt(X.size(1))\n",
    "print(\"beta: \", beta)\n",
    "\n",
    "x_trunc_norm = x_trunc / beta\n",
    "print(\"x max l2: \", x_trunc_norm.norm(dim=-1).max())"
   ]
  },
  {
   "cell_type": "markdown",
   "metadata": {},
   "source": [
    "We now observe that the norm of the truncated x covariates is bounded by 1. So, now we will standardze our dependent variable so that it's ground-truth takes the form of the linear regression latent variable model with noise variance of 1. First, let's calculate the predicted values from our naive ols regression on teh truncated data."
   ]
  },
  {
   "cell_type": "code",
   "execution_count": 82,
   "metadata": {},
   "outputs": [
    {
     "name": "stdout",
     "output_type": "stream",
     "text": [
      "trunc reg noise var:  tensor([3.5430])\n"
     ]
    }
   ],
   "source": [
    "emp_stand_y_trunc = y_trunc / ch.sqrt(emp_noise_var)\n",
    "trunc_noise_var = (emp_stand_y_trunc - (trunc_ols_pred / ch.sqrt(emp_noise_var))).var(0)\n",
    "print(\"trunc reg noise var: \", trunc_noise_var)\n",
    "\n",
    "new_X, emp_stand_noised = X / beta, noised / ch.sqrt(emp_noise_var)"
   ]
  },
  {
   "cell_type": "markdown",
   "metadata": {},
   "source": [
    "First, we will standardize our data for the case where we assume that we know the underlying ground-truth noise variance."
   ]
  },
  {
   "cell_type": "code",
   "execution_count": 80,
   "metadata": {},
   "outputs": [
    {
     "data": {
      "text/plain": [
       "Text(0, 0.5, 'y')"
      ]
     },
     "execution_count": 80,
     "metadata": {},
     "output_type": "execute_result"
    },
    {
     "data": {
      "image/png": "[encoded data removed]",
      "text/plain": [
       "<Figure size 432x288 with 1 Axes>"
      ]
     },
     "metadata": {
      "needs_background": "light"
     },
     "output_type": "display_data"
    }
   ],
   "source": [
    "stand_noised, stand_y_trunc = noised / ch.sqrt(noise_var), y_trunc / ch.sqrt(noise_var)\n",
    "\n",
    "gt_stand = LinearRegression()\n",
    "gt_stand.fit(new_X, stand_noised)\n",
    "\n",
    "trunc_stand_ols = LinearRegression()\n",
    "trunc_stand_ols.fit(x_trunc_norm, stand_y_trunc)\n",
    "\n",
    "ax = plt.subplot(1, 1, 1)\n",
    "plt.scatter(new_X, stand_noised, label='entire dataset', alpha=.75)\n",
    "plt.scatter(x_trunc_norm, stand_y_trunc, label='truncated dataset', alpha=.75)\n",
    "plt.plot(norm_data, gt_stand.predict(norm_data), color='green', label='gt ols')\n",
    "plt.plot(norm_data, trunc_stand_ols.predict(norm_data), color='red', label='trunc ols')\n",
    "plt.legend()\n",
    "plt.title(\"Y Scaled by Ground-Truth Noise Variance\")\n",
    "ax.set_xlabel(\"x\")\n",
    "ax.set_ylabel(\"y\")"
   ]
  },
  {
   "cell_type": "markdown",
   "metadata": {},
   "source": [
    "Truncated Regression with Known Variance"
   ]
  },
  {
   "cell_type": "code",
   "execution_count": 70,
   "metadata": {},
   "outputs": [
    {
     "name": "stdout",
     "output_type": "stream",
     "text": [
      "0 steps | score: [0.2201543003320694]\n",
      "1000 steps | score: [-0.09843055158853531]\n",
      "2000 steps | score: [-0.042901020497083664]\n",
      "3000 steps | score: [-0.08949846774339676]\n",
      "4000 steps | score: [-0.06773091852664948]\n",
      "5000 steps | score: [-0.0415012389421463]\n",
      "6000 steps | score: [-0.04534110426902771]\n"
     ]
    }
   ],
   "source": [
    "trunc_reg = TruncatedRegression(phi=phi, alpha=alpha, bias=True, unknown=False, val=500, bs=1, n=1000, tol=1e-2, steps=5000)\n",
    "known_res = trunc_reg.fit(x_trunc_norm, stand_y_trunc)\n",
    "known_weight_unnorm, known_bias_unnorm = (known_res.weight * ch.sqrt(noise_var)) / beta, known_res.bias * ch.sqrt(noise_var)"
   ]
  },
  {
   "cell_type": "code",
   "execution_count": 77,
   "metadata": {},
   "outputs": [
    {
     "data": {
      "image/png": "[encoded data removed]",
      "text/plain": [
       "<Figure size 432x288 with 1 Axes>"
      ]
     },
     "metadata": {
      "needs_background": "light"
     },
     "output_type": "display_data"
    },
    {
     "data": {
      "image/png": "[encoded data removed]",
      "text/plain": [
       "<Figure size 432x288 with 1 Axes>"
      ]
     },
     "metadata": {
      "needs_background": "light"
     },
     "output_type": "display_data"
    }
   ],
   "source": [
    "ax = plt.subplot(1, 1, 1)\n",
    "plt.scatter(new_X, stand_noised, label='entire dataset', alpha=.5)\n",
    "plt.scatter(x_trunc_norm, stand_y_trunc, label='truncated dataset', alpha=.5)\n",
    "plt.plot(norm_data, trunc_stand_ols.predict(norm_data), color='r', label='ols')\n",
    "plt.plot(norm_data, gt_stand.predict(norm_data), color='green', label='gt')\n",
    "plt.plot(norm_data, known_res(Tensor(norm_data)).detach().numpy(), label='known', color='blue')\n",
    "plt.legend()\n",
    "plt.title(\"Known Noise Variance - Normalized\")\n",
    "ax.set_xlabel(\"x\")\n",
    "ax.set_ylabel(\"y\")\n",
    "plt.show()\n",
    "\n",
    "ax = plt.subplot(1, 1, 1)\n",
    "plt.scatter(X, noised, label='entire dataset', alpha=.5)\n",
    "plt.scatter(x_trunc, y_trunc, label='truncated dataset', alpha=.5)\n",
    "plt.plot(unnorm_data, trunc_ols.predict(unnorm_data), color='r', label='ols')\n",
    "plt.plot(unnorm_data, gt_ols.predict(unnorm_data), color='green', label='gt')\n",
    "plt.plot(unnorm_data, (Tensor(unnorm_data)@known_weight_unnorm + known_bias_unnorm).detach().numpy(), label='known', color='blue')\n",
    "plt.legend()\n",
    "plt.title(\"Known Noise Variance - UnNormalized\")\n",
    "ax.set_xlabel(\"x\")\n",
    "ax.set_ylabel(\"y\")\n",
    "plt.show()"
   ]
  },
  {
   "cell_type": "markdown",
   "metadata": {},
   "source": [
    "Truncated Regression with Unknown Noise Variance"
   ]
  },
  {
   "cell_type": "code",
   "execution_count": 75,
   "metadata": {},
   "outputs": [
    {
     "name": "stdout",
     "output_type": "stream",
     "text": [
      "0 steps | score: [1.983651041984558, -45.043495178222656]\n",
      "1000 steps | score: [0.31467756628990173, -11.878240585327148]\n",
      "2000 steps | score: [0.05988486856222153, -0.908597469329834]\n",
      "3000 steps | score: [-0.015524564310908318, 0.5484538078308105]\n",
      "4000 steps | score: [-0.0018043111776933074, 0.25583335757255554]\n",
      "5000 steps | score: [-0.015517188236117363, 0.5384339094161987]\n"
     ]
    }
   ],
   "source": [
    "trunc_reg = TruncatedRegression(phi=phi, alpha=alpha, bias=True, unknown=True, bs=10, n=1000, tol=1e-2, val=1000, steps=5000)\n",
    "unknown_res = trunc_reg.fit(x_trunc_norm, emp_stand_y_trunc)\n",
    "unknown_var = unknown_res.lambda_.inverse()\n",
    "unknown_weight_unnorm, unknown_bias_unnorm = (((unknown_res.weight * unknown_var) * ch.sqrt(emp_noise_var)) / beta).detach().numpy(), ((unknown_res.bias * unknown_var) * ch.sqrt(emp_noise_var)).detach().numpy()"
   ]
  },
  {
   "cell_type": "code",
   "execution_count": 83,
   "metadata": {},
   "outputs": [
    {
     "data": {
      "image/png": "[encoded data removed]",
      "text/plain": [
       "<Figure size 432x288 with 1 Axes>"
      ]
     },
     "metadata": {
      "needs_background": "light"
     },
     "output_type": "display_data"
    },
    {
     "data": {
      "image/png": "[encoded data removed]",
      "text/plain": [
       "<Figure size 432x288 with 1 Axes>"
      ]
     },
     "metadata": {
      "needs_background": "light"
     },
     "output_type": "display_data"
    }
   ],
   "source": [
    "ax = plt.subplot(1, 1, 1)\n",
    "plt.scatter(new_X, emp_stand_noised, label='entire dataset', alpha=.75)\n",
    "plt.scatter(x_trunc_norm, emp_stand_y_trunc, label='truncated dataset', alpha=.75)\n",
    "plt.plot(norm_data, trunc_emp_stand_ols.predict(norm_data), color='r', label='ols')\n",
    "plt.plot(norm_data, gt_emp_stand.predict(norm_data), color='green', label='gt')\n",
    "plt.plot(norm_data, unknown_res(Tensor(norm_data)).detach().numpy(), label='unknown', color='blue')\n",
    "plt.legend()\n",
    "ax.set_title(\"Unknown Noise Variance - Normalized\")\n",
    "ax.set_xlabel(\"x\")\n",
    "ax.set_ylabel(\"y\")\n",
    "plt.show()\n",
    "\n",
    "ax = plt.subplot(1, 1, 1)\n",
    "plt.scatter(X, noised, label='entire dataset', alpha=.75)\n",
    "plt.scatter(x_trunc, y_trunc, label='truncated dataset', alpha=.75)\n",
    "plt.plot(unnorm_data, trunc_ols.predict(unnorm_data), label='ols', color='red')\n",
    "plt.plot(unnorm_data, gt_ols.predict(unnorm_data), color='g', label='gt')\n",
    "plt.plot(unnorm_data, (Tensor(unnorm_data)@unknown_weight_unnorm + unknown_bias_unnorm), color='blue', label='unknown')\n",
    "plt.legend()\n",
    "ax.set_title(\"Unknown Noise Variance - UnNormalized\")\n",
    "ax.set_xlabel(\"x\")\n",
    "ax.set_ylabel(\"y\")\n",
    "plt.show()"
   ]
  },
  {
   "cell_type": "markdown",
   "metadata": {},
   "source": [
    "# Truncate at Zero and Run for High Variance"
   ]
  },
  {
   "cell_type": "code",
   "execution_count": 3,
   "metadata": {},
   "outputs": [],
   "source": [
    "args.__setattr__('batch_size', 10)\n",
    "args.__setattr__('steps', 1500)\n",
    "args.__setattr__('step_lr', 100)\n",
    "args.__setattr__('step_lr_gamma', .9)\n",
    "args.__setattr__('custom_lr_multiplier', None)\n",
    "args.__setattr__('tol', 1e-2)\n",
    "args.__setattr__('trials', 5)\n",
    "args.__setattr__('samples', 10000)\n",
    "\n",
    "EXP = 'SanitySanity'"
   ]
  },
  {
   "cell_type": "code",
   "execution_count": 4,
   "metadata": {
    "scrolled": true
   },
   "outputs": [
    {
     "name": "stdout",
     "output_type": "stream",
     "text": [
      "Logging in: /home/gridsan/stefanou/Regression/SanitySanity/4f3e08b4-cf05-465b-aa15-a6243b2dd8d8\n",
      "0 steps | score: [1.0161566734313965]\n",
      "1000 steps | score: [0.20213480293750763]\n",
      "2000 steps | score: [0.13778415322303772]\n",
      "3000 steps | score: [0.1384429633617401]\n",
      "4000 steps | score: [0.14027059078216553]\n",
      "5000 steps | score: [0.13968273997306824]\n",
      "6000 steps | score: [0.14173193275928497]\n",
      "7000 steps | score: [0.1387113332748413]\n",
      "8000 steps | score: [0.14034007489681244]\n",
      "9000 steps | score: [0.13697212934494019]\n",
      "0 steps | score: [2.1546316146850586, 0.6054897308349609]\n",
      "1000 steps | score: [0.8807862997055054, 0.8118986487388611]\n",
      "2000 steps | score: [0.8807862997055054, 0.8118986487388611]\n",
      "3000 steps | score: [1.2030839920043945, 0.5791264176368713]\n",
      "4000 steps | score: [1.2422047853469849, 0.5657793283462524]\n",
      "5000 steps | score: [1.2107502222061157, 0.5809916853904724]\n",
      "6000 steps | score: [1.1920583248138428, 0.5671777725219727]\n",
      "7000 steps | score: [1.1921796798706055, 0.5748233795166016]\n",
      "8000 steps | score: [1.1827200651168823, 0.5745518207550049]\n",
      "9000 steps | score: [1.1984527111053467, 0.5655512809753418]\n",
      "0 steps | score: [0.8815101981163025]\n",
      "1000 steps | score: [0.11431088298559189]\n",
      "2000 steps | score: [0.19046735763549805]\n",
      "3000 steps | score: [0.1617349535226822]\n",
      "4000 steps | score: [0.12914586067199707]\n",
      "5000 steps | score: [0.11409906297922134]\n",
      "6000 steps | score: [0.12333014607429504]\n",
      "7000 steps | score: [0.138634592294693]\n",
      "8000 steps | score: [0.13365459442138672]\n",
      "9000 steps | score: [0.16434642672538757]\n",
      "0 steps | score: [0.7693324089050293, 0.570281445980072]\n",
      "1000 steps | score: [-0.4254775643348694, 0.9313754439353943]\n",
      "2000 steps | score: [1.0980892181396484, -2.7449328899383545]\n",
      "3000 steps | score: [0.6471099853515625, -0.294752836227417]\n",
      "4000 steps | score: [0.6120389103889465, -0.3555138111114502]\n",
      "5000 steps | score: [0.6297453045845032, -0.2873542904853821]\n",
      "6000 steps | score: [0.6439400911331177, -0.31822797656059265]\n",
      "7000 steps | score: [0.6157218217849731, -0.28754276037216187]\n",
      "8000 steps | score: [0.623764157295227, -0.29411375522613525]\n",
      "9000 steps | score: [0.5906266570091248, -0.262847900390625]\n",
      "0 steps | score: [0.47521698474884033]\n",
      "1000 steps | score: [0.028313318267464638]\n",
      "2000 steps | score: [0.03009648807346821]\n",
      "3000 steps | score: [-0.0015961583703756332]\n",
      "0 steps | score: [-0.10530714690685272, 0.71156907081604]\n",
      "1000 steps | score: [-0.37000948190689087, 0.8702148199081421]\n",
      "2000 steps | score: [-0.1650654673576355, 0.7611802220344543]\n",
      "3000 steps | score: [-0.18936385214328766, 0.7927452325820923]\n",
      "4000 steps | score: [-0.07586473226547241, 0.641856849193573]\n",
      "5000 steps | score: [-0.07321657240390778, 0.6227130889892578]\n",
      "6000 steps | score: [-0.05281035229563713, 0.5908952951431274]\n",
      "7000 steps | score: [-0.06425078958272934, 0.6067193746566772]\n",
      "8000 steps | score: [-0.07347090542316437, 0.6202202439308167]\n",
      "9000 steps | score: [-0.04890324920415878, 0.582485020160675]\n",
      "0 steps | score: [1.3695414066314697]\n",
      "1000 steps | score: [0.6747254729270935]\n",
      "2000 steps | score: [0.6747254729270935]\n",
      "3000 steps | score: [0.6747254729270935]\n",
      "4000 steps | score: [0.6747254729270935]\n",
      "5000 steps | score: [0.6747254729270935]\n",
      "6000 steps | score: [0.6747254729270935]\n",
      "7000 steps | score: [0.6747254729270935]\n",
      "8000 steps | score: [0.6747254729270935]\n",
      "9000 steps | score: [0.6747254729270935]\n",
      "0 steps | score: [1.9031442403793335, 0.4869621992111206]\n",
      "1000 steps | score: [0.6907284259796143, 0.7493343353271484]\n",
      "2000 steps | score: [0.6907284259796143, 0.7493343353271484]\n",
      "3000 steps | score: [1.5699177980422974, -0.8401015996932983]\n",
      "4000 steps | score: [1.1231122016906738, 0.6153066754341125]\n",
      "5000 steps | score: [1.58099365234375, 0.5483295917510986]\n",
      "6000 steps | score: [1.717774510383606, 0.5008883476257324]\n",
      "7000 steps | score: [1.8303885459899902, 0.49264371395111084]\n",
      "8000 steps | score: [1.8972679376602173, 0.47860169410705566]\n",
      "9000 steps | score: [1.8535958528518677, 0.48879048228263855]\n",
      "0 steps | score: [0.8053120970726013]\n",
      "1000 steps | score: [0.07006234675645828]\n",
      "2000 steps | score: [-0.013153735548257828]\n",
      "3000 steps | score: [0.013412412256002426]\n",
      "4000 steps | score: [-0.009453259408473969]\n",
      "0 steps | score: [0.509738028049469, 0.455375611782074]\n",
      "1000 steps | score: [-0.6259307265281677, 0.8715693950653076]\n",
      "2000 steps | score: [-0.3311882019042969, 0.45902949571609497]\n",
      "3000 steps | score: [-0.027847830206155777, 0.3387643098831177]\n",
      "4000 steps | score: [-0.09274320304393768, 0.31689074635505676]\n",
      "5000 steps | score: [-0.05196835473179817, 0.334370493888855]\n",
      "6000 steps | score: [-0.074671171605587, 0.3676407039165497]\n",
      "7000 steps | score: [-0.04650010168552399, 0.3398803472518921]\n",
      "8000 steps | score: [-0.06025821343064308, 0.36914724111557007]\n",
      "9000 steps | score: [-0.05536671727895737, 0.3473457396030426]\n",
      "Logging in: /home/gridsan/stefanou/Regression/SanitySanity/61425592-b66d-480f-b7f2-e24bbd68c37b\n",
      "0 steps | score: [0.7374163866043091]\n",
      "1000 steps | score: [0.16480690240859985]\n",
      "2000 steps | score: [0.03395386040210724]\n",
      "3000 steps | score: [0.07029974460601807]\n",
      "4000 steps | score: [0.13062405586242676]\n",
      "5000 steps | score: [0.12184727191925049]\n",
      "6000 steps | score: [0.049239158630371094]\n",
      "7000 steps | score: [0.06968698650598526]\n",
      "0 steps | score: [0.9564125537872314, -0.37073126435279846]\n",
      "1000 steps | score: [0.015608378686010838, 0.2821633219718933]\n",
      "2000 steps | score: [0.015608378686010838, 0.2821633219718933]\n",
      "3000 steps | score: [0.015608378686010838, 0.2821633219718933]\n",
      "4000 steps | score: [0.015608378686010838, 0.2821633219718933]\n",
      "5000 steps | score: [0.015608378686010838, 0.2821633219718933]\n",
      "6000 steps | score: [0.015608378686010838, 0.2821633219718933]\n",
      "7000 steps | score: [0.015608378686010838, 0.2821633219718933]\n",
      "0 steps | score: [0.4633912742137909]\n",
      "1000 steps | score: [-0.06905287504196167]\n",
      "2000 steps | score: [-0.06711301952600479]\n",
      "3000 steps | score: [-0.04503660276532173]\n",
      "4000 steps | score: [-0.08932070434093475]\n",
      "5000 steps | score: [-0.07699190825223923]\n",
      "6000 steps | score: [-0.08690260350704193]\n",
      "7000 steps | score: [-0.08479668200016022]\n",
      "8000 steps | score: [-0.09681203961372375]\n",
      "0 steps | score: [0.3054802715778351, -0.05626106262207031]\n",
      "1000 steps | score: [0.01592887192964554, 0.35040172934532166]\n",
      "2000 steps | score: [0.12777099013328552, -0.49317270517349243]\n",
      "3000 steps | score: [0.0061850398778915405, 0.21022123098373413]\n",
      "4000 steps | score: [0.05276660621166229, 0.26389962434768677]\n",
      "5000 steps | score: [0.0917339026927948, 0.25522559881210327]\n",
      "6000 steps | score: [0.21537305414676666, 0.06506176292896271]\n",
      "7000 steps | score: [0.21897360682487488, 0.08226751536130905]\n",
      "8000 steps | score: [0.2700250446796417, 0.0013861507177352905]\n",
      "0 steps | score: [0.8955634832382202]\n",
      "1000 steps | score: [0.215519517660141]\n",
      "2000 steps | score: [0.215519517660141]\n",
      "3000 steps | score: [0.215519517660141]\n",
      "4000 steps | score: [0.215519517660141]\n",
      "5000 steps | score: [0.215519517660141]\n",
      "6000 steps | score: [0.215519517660141]\n",
      "7000 steps | score: [0.215519517660141]\n",
      "8000 steps | score: [0.215519517660141]\n",
      "0 steps | score: [0.9798552989959717, 0.2081618756055832]\n",
      "1000 steps | score: [0.19169990718364716, 0.584432065486908]\n",
      "2000 steps | score: [0.19169990718364716, 0.584432065486908]\n",
      "3000 steps | score: [0.19169990718364716, 0.584432065486908]\n",
      "4000 steps | score: [0.1993984431028366, 0.5805451273918152]\n",
      "5000 steps | score: [0.6128066778182983, 0.3432566523551941]\n",
      "6000 steps | score: [0.8141544461250305, 0.2795116901397705]\n",
      "7000 steps | score: [0.9312268495559692, 0.2265245020389557]\n",
      "8000 steps | score: [0.9419426918029785, 0.24135656654834747]\n",
      "0 steps | score: [0.958294689655304]\n",
      "1000 steps | score: [0.14554494619369507]\n",
      "2000 steps | score: [0.14554494619369507]\n",
      "3000 steps | score: [0.14554494619369507]\n",
      "4000 steps | score: [0.14554494619369507]\n",
      "5000 steps | score: [0.14554494619369507]\n",
      "6000 steps | score: [0.14554494619369507]\n",
      "7000 steps | score: [0.14554494619369507]\n",
      "8000 steps | score: [0.14554494619369507]\n",
      "0 steps | score: [0.9345831871032715, 0.1355811506509781]\n",
      "1000 steps | score: [0.08809714764356613, 0.6149510741233826]\n",
      "2000 steps | score: [0.08809714764356613, 0.6149510741233826]\n",
      "3000 steps | score: [0.08809714764356613, 0.6149510741233826]\n",
      "4000 steps | score: [0.165933296084404, 0.5839038491249084]\n"
     ]
    },
    {
     "name": "stdout",
     "output_type": "stream",
     "text": [
      "5000 steps | score: [0.6624674797058105, 0.3050228953361511]\n",
      "6000 steps | score: [0.8315299153327942, 0.21324913203716278]\n",
      "7000 steps | score: [0.9179614782333374, 0.14458653330802917]\n",
      "8000 steps | score: [0.9524884819984436, 0.12712202966213226]\n",
      "0 steps | score: [0.569206714630127]\n",
      "1000 steps | score: [-0.1584116667509079]\n",
      "2000 steps | score: [-0.118252232670784]\n",
      "3000 steps | score: [-0.09540683031082153]\n",
      "4000 steps | score: [-0.12887364625930786]\n",
      "5000 steps | score: [-0.0948496088385582]\n",
      "6000 steps | score: [-0.1312478631734848]\n",
      "7000 steps | score: [-0.08388315141201019]\n",
      "8000 steps | score: [-0.1445082128047943]\n",
      "9000 steps | score: [-0.156188502907753]\n",
      "0 steps | score: [0.5788978934288025, 0.07731187343597412]\n",
      "1000 steps | score: [-0.2789216935634613, 0.6736031770706177]\n",
      "2000 steps | score: [-0.2789216935634613, 0.6736031770706177]\n",
      "3000 steps | score: [-0.19462183117866516, 0.4231935143470764]\n",
      "4000 steps | score: [0.1595153957605362, 0.43281978368759155]\n",
      "5000 steps | score: [0.37400537729263306, 0.2800962030887604]\n",
      "6000 steps | score: [0.5036305785179138, 0.15371866524219513]\n",
      "7000 steps | score: [0.5430160164833069, 0.12421143054962158]\n",
      "8000 steps | score: [0.5781257152557373, 0.07701868563890457]\n",
      "9000 steps | score: [0.5816378593444824, 0.08024667948484421]\n",
      "Logging in: /home/gridsan/stefanou/Regression/SanitySanity/afda6039-e74b-4527-9271-8db17c79d1ed\n",
      "0 steps | score: [1.683112621307373]\n",
      "1000 steps | score: [1.1594409942626953]\n",
      "2000 steps | score: [1.1594409942626953]\n",
      "3000 steps | score: [1.1594409942626953]\n",
      "4000 steps | score: [1.1594409942626953]\n",
      "5000 steps | score: [1.1594409942626953]\n",
      "6000 steps | score: [1.1594409942626953]\n",
      "7000 steps | score: [1.1594409942626953]\n",
      "0 steps | score: [1.1169157028198242, 0.27255553007125854]\n",
      "1000 steps | score: [0.25318944454193115, 0.5977959632873535]\n",
      "2000 steps | score: [0.25318944454193115, 0.5977959632873535]\n",
      "3000 steps | score: [0.25318944454193115, 0.5977959632873535]\n",
      "4000 steps | score: [0.25318944454193115, 0.5977959632873535]\n",
      "5000 steps | score: [0.5185650587081909, 0.43577104806900024]\n",
      "6000 steps | score: [0.9036909341812134, 0.34155458211898804]\n",
      "7000 steps | score: [1.053565263748169, 0.278071790933609]\n",
      "0 steps | score: [0.5247686505317688]\n",
      "1000 steps | score: [-0.2800145745277405]\n",
      "2000 steps | score: [-0.25873902440071106]\n",
      "3000 steps | score: [-0.2797825336456299]\n",
      "4000 steps | score: [-0.2815520167350769]\n",
      "5000 steps | score: [-0.2738352119922638]\n",
      "6000 steps | score: [-0.2815520167350769]\n",
      "7000 steps | score: [-0.27966031432151794]\n",
      "8000 steps | score: [-0.27170899510383606]\n",
      "0 steps | score: [1.0212169885635376, 0.02855774015188217]\n",
      "1000 steps | score: [0.1333315372467041, 0.5050063729286194]\n",
      "2000 steps | score: [0.1333315372467041, 0.5050063729286194]\n",
      "3000 steps | score: [0.1333315372467041, 0.5050063729286194]\n",
      "4000 steps | score: [0.26205047965049744, 0.4423149824142456]\n",
      "5000 steps | score: [0.7393345236778259, 0.21746903657913208]\n",
      "6000 steps | score: [0.9407486915588379, 0.08309617638587952]\n",
      "7000 steps | score: [1.0007097721099854, 0.038645729422569275]\n",
      "8000 steps | score: [1.0097475051879883, 0.025928638875484467]\n",
      "0 steps | score: [1.0200319290161133]\n",
      "1000 steps | score: [0.28092923760414124]\n",
      "2000 steps | score: [0.28092923760414124]\n",
      "3000 steps | score: [0.28092923760414124]\n",
      "4000 steps | score: [0.28092923760414124]\n",
      "5000 steps | score: [0.28092923760414124]\n",
      "6000 steps | score: [0.28092923760414124]\n",
      "7000 steps | score: [0.28092923760414124]\n",
      "8000 steps | score: [0.28092923760414124]\n",
      "0 steps | score: [1.1546285152435303, 0.12582412362098694]\n",
      "1000 steps | score: [0.3004606366157532, 0.5356440544128418]\n",
      "2000 steps | score: [0.3004606366157532, 0.5356440544128418]\n",
      "3000 steps | score: [0.3004606366157532, 0.5356440544128418]\n",
      "4000 steps | score: [0.30084946751594543, 0.5356374382972717]\n",
      "5000 steps | score: [0.7883443832397461, 0.2997899055480957]\n",
      "6000 steps | score: [1.0504398345947266, 0.17721731960773468]\n",
      "7000 steps | score: [1.1051777601242065, 0.16302213072776794]\n",
      "8000 steps | score: [1.1232376098632812, 0.15117880702018738]\n",
      "0 steps | score: [0.7359383702278137]\n",
      "1000 steps | score: [0.15157733857631683]\n",
      "2000 steps | score: [0.2369500696659088]\n",
      "3000 steps | score: [0.22005566954612732]\n",
      "4000 steps | score: [0.15427352488040924]\n",
      "5000 steps | score: [0.18116211891174316]\n",
      "6000 steps | score: [0.15752145648002625]\n",
      "7000 steps | score: [0.13722288608551025]\n",
      "8000 steps | score: [0.15250204503536224]\n",
      "0 steps | score: [0.4517499804496765, -0.1692197322845459]\n",
      "1000 steps | score: [0.17271393537521362, 0.2295846790075302]\n",
      "2000 steps | score: [-0.057874344289302826, -0.5502636432647705]\n",
      "3000 steps | score: [-0.020804546773433685, -1.6367956399917603]\n",
      "4000 steps | score: [0.1307620406150818, 0.17040272057056427]\n",
      "5000 steps | score: [0.28118979930877686, 0.06620196253061295]\n",
      "6000 steps | score: [0.2596474289894104, 0.06794007122516632]\n",
      "7000 steps | score: [0.261643648147583, 0.07807943224906921]\n",
      "8000 steps | score: [0.28651273250579834, 0.0582180880010128]\n",
      "0 steps | score: [0.29197433590888977]\n",
      "1000 steps | score: [0.12848475575447083]\n",
      "2000 steps | score: [0.0602390393614769]\n",
      "3000 steps | score: [0.020652107894420624]\n",
      "4000 steps | score: [0.03194979205727577]\n",
      "5000 steps | score: [0.0333239920437336]\n",
      "6000 steps | score: [0.0062285736203193665]\n",
      "0 steps | score: [0.2662937045097351, -0.443827748298645]\n",
      "1000 steps | score: [0.6118144989013672, -1.2252006530761719]\n",
      "2000 steps | score: [0.17182974517345428, -0.22049789130687714]\n",
      "3000 steps | score: [0.08309058845043182, -0.07783888280391693]\n",
      "4000 steps | score: [0.18079021573066711, -0.3290413022041321]\n",
      "5000 steps | score: [0.20548886060714722, -0.3823017179965973]\n",
      "6000 steps | score: [0.20669518411159515, -0.36914366483688354]\n",
      "7000 steps | score: [0.18089331686496735, -0.3000369071960449]\n",
      "8000 steps | score: [0.10172639042139053, -0.11889967322349548]\n",
      "Logging in: /home/gridsan/stefanou/Regression/SanitySanity/0935f68f-3c56-4e0a-bb43-a23c3edc1adc\n",
      "0 steps | score: [0.15290896594524384]\n",
      "1000 steps | score: [-0.033276766538619995]\n",
      "2000 steps | score: [-0.04652059078216553]\n",
      "3000 steps | score: [-0.0010666071902960539]\n",
      "0 steps | score: [-0.7231007814407349, 1.2776665687561035]\n",
      "1000 steps | score: [-0.11975277960300446, 0.3590334951877594]\n",
      "2000 steps | score: [0.22322332859039307, -0.2209460437297821]\n",
      "3000 steps | score: [0.08470878005027771, 0.0452025942504406]\n",
      "4000 steps | score: [0.0986982062458992, -0.036984480917453766]\n",
      "5000 steps | score: [0.14846284687519073, -0.09066703170537949]\n",
      "6000 steps | score: [0.15635061264038086, -0.09579090774059296]\n",
      "7000 steps | score: [0.0987233892083168, 0.0015973388217389584]\n",
      "8000 steps | score: [0.08623702079057693, 0.027414171025156975]\n",
      "9000 steps | score: [0.09741011261940002, 0.010567939840257168]\n",
      "0 steps | score: [0.4539812505245209]\n",
      "1000 steps | score: [-0.2073788046836853]\n",
      "2000 steps | score: [-0.12083691358566284]\n",
      "3000 steps | score: [-0.10753018409013748]\n",
      "4000 steps | score: [-0.13935306668281555]\n",
      "5000 steps | score: [-0.11589185893535614]\n",
      "6000 steps | score: [-0.12920334935188293]\n",
      "7000 steps | score: [-0.10638217628002167]\n",
      "8000 steps | score: [-0.10473190993070602]\n",
      "9000 steps | score: [-0.1103641539812088]\n",
      "0 steps | score: [0.3489615321159363, 0.016491200774908066]\n",
      "1000 steps | score: [-0.3825720548629761, 0.5447648763656616]\n",
      "2000 steps | score: [-0.12342478334903717, 0.3084847927093506]\n",
      "3000 steps | score: [-0.2631683051586151, 0.4657666087150574]\n",
      "4000 steps | score: [0.07559279352426529, 0.2856585383415222]\n",
      "5000 steps | score: [0.1703956127166748, 0.204824298620224]\n",
      "6000 steps | score: [0.2918367385864258, 0.08831999450922012]\n",
      "7000 steps | score: [0.32292333245277405, 0.03339460864663124]\n",
      "8000 steps | score: [0.31681716442108154, 0.050197623670101166]\n",
      "9000 steps | score: [0.33978989720344543, 0.01947285234928131]\n",
      "0 steps | score: [0.4658629298210144]\n",
      "1000 steps | score: [0.006818817928433418]\n",
      "0 steps | score: [0.1539517492055893, 0.038710832595825195]\n",
      "1000 steps | score: [0.08018378913402557, 0.13168863952159882]\n",
      "2000 steps | score: [-0.1005782037973404, 0.37089061737060547]\n",
      "3000 steps | score: [0.10491320490837097, 0.048665180802345276]\n",
      "4000 steps | score: [0.05211002379655838, 0.1464518904685974]\n",
      "5000 steps | score: [0.0384240448474884, 0.2204269915819168]\n"
     ]
    },
    {
     "name": "stdout",
     "output_type": "stream",
     "text": [
      "6000 steps | score: [0.09732357412576675, 0.1296232044696808]\n",
      "7000 steps | score: [0.10015040636062622, 0.13774940371513367]\n",
      "8000 steps | score: [0.1331903636455536, 0.06248818337917328]\n",
      "9000 steps | score: [0.13593725860118866, 0.05902613699436188]\n",
      "0 steps | score: [0.5067904591560364]\n",
      "1000 steps | score: [-0.06159311532974243]\n",
      "2000 steps | score: [-0.06970815360546112]\n",
      "3000 steps | score: [-0.13261368870735168]\n",
      "4000 steps | score: [-0.051747940480709076]\n",
      "5000 steps | score: [-0.121328204870224]\n",
      "6000 steps | score: [-0.013451794162392616]\n",
      "7000 steps | score: [-0.0910089761018753]\n",
      "8000 steps | score: [-0.055587172508239746]\n",
      "9000 steps | score: [-0.10793159902095795]\n",
      "0 steps | score: [0.4909663498401642, 0.13804055750370026]\n",
      "1000 steps | score: [-0.19139769673347473, 0.1150314211845398]\n",
      "2000 steps | score: [-0.2545692026615143, 0.3616797924041748]\n",
      "3000 steps | score: [-0.3816717863082886, 0.38965481519699097]\n",
      "4000 steps | score: [-0.38200610876083374, 0.3774363398551941]\n",
      "5000 steps | score: [-0.2614796459674835, 0.2701515853404999]\n",
      "6000 steps | score: [-0.25212517380714417, 0.22352254390716553]\n",
      "7000 steps | score: [-0.22364065051078796, 0.1595057249069214]\n",
      "8000 steps | score: [-0.20326563715934753, 0.10210864245891571]\n",
      "9000 steps | score: [-0.21701684594154358, 0.12005927413702011]\n",
      "0 steps | score: [0.5103203654289246]\n",
      "1000 steps | score: [-0.2058853805065155]\n",
      "2000 steps | score: [-0.2481117695569992]\n",
      "3000 steps | score: [-0.2185564935207367]\n",
      "4000 steps | score: [-0.20411765575408936]\n",
      "5000 steps | score: [-0.2039421796798706]\n",
      "6000 steps | score: [-0.20071637630462646]\n",
      "7000 steps | score: [-0.19838255643844604]\n",
      "8000 steps | score: [-0.15063349902629852]\n",
      "9000 steps | score: [-0.1947299838066101]\n",
      "0 steps | score: [0.5881985425949097, 0.13993890583515167]\n",
      "1000 steps | score: [-0.36467403173446655, 0.7144550681114197]\n",
      "2000 steps | score: [-0.36467403173446655, 0.7144550681114197]\n",
      "3000 steps | score: [-0.1138584241271019, 0.4306865930557251]\n",
      "4000 steps | score: [0.1565805971622467, 0.4603137671947479]\n",
      "5000 steps | score: [0.41390496492385864, 0.27308371663093567]\n",
      "6000 steps | score: [0.5212358832359314, 0.17849117517471313]\n",
      "7000 steps | score: [0.5602328777313232, 0.16477102041244507]\n",
      "8000 steps | score: [0.5785307884216309, 0.13188093900680542]\n",
      "9000 steps | score: [0.6112092733383179, 0.11618209630250931]\n",
      "Logging in: /home/gridsan/stefanou/Regression/SanitySanity/a49fb3f9-5913-401a-815e-b5a30c8408c9\n",
      "0 steps | score: [0.3318776786327362]\n",
      "1000 steps | score: [-0.10362640768289566]\n",
      "2000 steps | score: [0.037292029708623886]\n",
      "3000 steps | score: [0.004729096777737141]\n",
      "0 steps | score: [0.05243227258324623, 0.05322696268558502]\n",
      "1000 steps | score: [-0.5050063133239746, 0.7218015193939209]\n",
      "2000 steps | score: [0.292516827583313, -0.14213396608829498]\n",
      "3000 steps | score: [0.1609584391117096, -0.00876031443476677]\n",
      "4000 steps | score: [0.07927093654870987, 0.13378790020942688]\n",
      "5000 steps | score: [0.013358324766159058, 0.1945715844631195]\n",
      "6000 steps | score: [0.09038630872964859, 0.0827968567609787]\n",
      "7000 steps | score: [0.010874871164560318, 0.20967668294906616]\n",
      "8000 steps | score: [-0.0018036291003227234, 0.21529796719551086]\n",
      "9000 steps | score: [-0.023522986099123955, 0.24086549878120422]\n",
      "10000 steps | score: [0.005093071609735489, 0.2081902027130127]\n",
      "11000 steps | score: [0.011703785508871078, 0.20714963972568512]\n",
      "0 steps | score: [0.1208527535200119]\n",
      "1000 steps | score: [-0.01601361855864525]\n",
      "2000 steps | score: [-0.11338343471288681]\n",
      "3000 steps | score: [-0.08056697994470596]\n",
      "4000 steps | score: [-0.05656129866838455]\n",
      "5000 steps | score: [-0.052031755447387695]\n",
      "6000 steps | score: [-0.02937300130724907]\n",
      "7000 steps | score: [-0.043544791638851166]\n",
      "8000 steps | score: [-0.008289298973977566]\n",
      "0 steps | score: [-0.21614745259284973, 0.3263666331768036]\n",
      "1000 steps | score: [-2.9938037395477295, 2.6438004970550537]\n",
      "2000 steps | score: [0.014192190952599049, -0.058572202920913696]\n",
      "3000 steps | score: [0.058146752417087555, -0.150935560464859]\n",
      "4000 steps | score: [0.0838048905134201, -0.1749590039253235]\n",
      "5000 steps | score: [0.21631298959255219, -0.3867930769920349]\n",
      "6000 steps | score: [0.08547984063625336, -0.1686970591545105]\n",
      "7000 steps | score: [0.0396277941763401, -0.10893918573856354]\n",
      "8000 steps | score: [0.03044535405933857, -0.08302619308233261]\n",
      "9000 steps | score: [0.0011156722903251648, -0.026435911655426025]\n",
      "10000 steps | score: [0.005403828341513872, -0.042644158005714417]\n",
      "11000 steps | score: [0.014362962916493416, -0.055044207721948624]\n",
      "0 steps | score: [0.43626701831817627]\n",
      "1000 steps | score: [0.13305558264255524]\n",
      "2000 steps | score: [0.061455756425857544]\n",
      "3000 steps | score: [0.06365949660539627]\n",
      "4000 steps | score: [0.05787171423435211]\n",
      "5000 steps | score: [0.07433372735977173]\n",
      "6000 steps | score: [0.06264255940914154]\n",
      "7000 steps | score: [0.06043221801519394]\n",
      "8000 steps | score: [0.06559637933969498]\n",
      "9000 steps | score: [0.04497925564646721]\n",
      "10000 steps | score: [0.05600946769118309]\n",
      "0 steps | score: [0.01763267070055008, -0.033711694180965424]\n",
      "1000 steps | score: [0.12748393416404724, -0.11246104538440704]\n",
      "2000 steps | score: [0.53495192527771, -0.7666594386100769]\n",
      "3000 steps | score: [0.0706653892993927, -0.028021492063999176]\n",
      "4000 steps | score: [-0.06680922210216522, 0.15707093477249146]\n",
      "5000 steps | score: [0.007256126496940851, 0.03910356014966965]\n",
      "6000 steps | score: [0.010212333872914314, 0.02885993756353855]\n",
      "7000 steps | score: [0.034999147057533264, -0.01592591404914856]\n",
      "8000 steps | score: [0.0427640900015831, -0.00934450700879097]\n",
      "9000 steps | score: [0.061457812786102295, -0.0607479028403759]\n",
      "10000 steps | score: [-0.0021509015932679176, 0.04357755556702614]\n",
      "0 steps | score: [0.18171024322509766]\n",
      "1000 steps | score: [-0.037565067410469055]\n",
      "2000 steps | score: [-0.008400637656450272]\n",
      "0 steps | score: [-0.2130662202835083, 0.374744713306427]\n",
      "1000 steps | score: [-0.18304356932640076, 0.2398681789636612]\n",
      "2000 steps | score: [-0.09805664420127869, 0.12244701385498047]\n",
      "3000 steps | score: [-0.05973164737224579, 0.05169796943664551]\n",
      "4000 steps | score: [0.08305082470178604, -0.16187608242034912]\n",
      "5000 steps | score: [0.08168508857488632, -0.1592496633529663]\n",
      "6000 steps | score: [0.06761543452739716, -0.12447048723697662]\n",
      "7000 steps | score: [0.025245696306228638, -0.06655805557966232]\n",
      "8000 steps | score: [-0.029603391885757446, 0.02062186598777771]\n",
      "9000 steps | score: [-0.027009427547454834, 0.010283157229423523]\n",
      "10000 steps | score: [-0.019075244665145874, -0.018039211630821228]\n",
      "0 steps | score: [1.0858889818191528]\n",
      "1000 steps | score: [0.3429976999759674]\n",
      "2000 steps | score: [0.3429976999759674]\n",
      "3000 steps | score: [0.3429976999759674]\n",
      "4000 steps | score: [0.3429976999759674]\n",
      "5000 steps | score: [0.3429976999759674]\n",
      "6000 steps | score: [0.3429976999759674]\n",
      "7000 steps | score: [0.3429976999759674]\n",
      "8000 steps | score: [0.3429976999759674]\n",
      "9000 steps | score: [0.3429976999759674]\n",
      "10000 steps | score: [0.3429976999759674]\n",
      "0 steps | score: [1.106646180152893, 0.3122633993625641]\n",
      "1000 steps | score: [0.37794628739356995, 0.6876614093780518]\n",
      "2000 steps | score: [0.37794628739356995, 0.6876614093780518]\n",
      "3000 steps | score: [0.37794628739356995, 0.6876614093780518]\n",
      "4000 steps | score: [0.47474560141563416, 0.6595563292503357]\n",
      "5000 steps | score: [0.9340136051177979, 0.5132213830947876]\n",
      "6000 steps | score: [1.1063421964645386, 0.4138692021369934]\n",
      "7000 steps | score: [1.1932224035263062, 0.36021074652671814]\n",
      "8000 steps | score: [1.1734691858291626, 0.363391637802124]\n",
      "9000 steps | score: [1.2063795328140259, 0.33887824416160583]\n",
      "10000 steps | score: [1.2190110683441162, 0.3313940167427063]\n"
     ]
    }
   ],
   "source": [
    " # expriment parameters\n",
    "w_lower, w_upper = -1, 1\n",
    "d, k = 1, 1\n",
    "\n",
    "for i in range(args.trials):\n",
    "    # create store and add table\n",
    "    store = Store(OUT_DIR + EXP)\n",
    "    store.add_table(TABLE_NAME, { \n",
    "        'ols_r2': float,\n",
    "        'ols_param_mse': float,\n",
    "        'ols_var_l1': float,\n",
    "        'known_r2': float,\n",
    "        'known_param_mse': float,\n",
    "        'known_time': int,\n",
    "        'unknown_r2': float, \n",
    "        'unknown_param_mse': float,\n",
    "        'unknown_var_l1': float,\n",
    "        'unknown_time': int,\n",
    "        'alpha': float, \n",
    "        'num_samples': int,\n",
    "        'noise_scale': float, \n",
    "    })\n",
    "\n",
    "    # distribution for generating feature vectors\n",
    "    w = Uniform(w_lower, w_upper)\n",
    "    dist = MultivariateNormal(ch.zeros(d), ch.eye(d)/d)\n",
    "#     dist = Uniform(-5, 5)\n",
    "    phi = oracle.Left(Tensor([0.0]))\n",
    "    \n",
    "    # generate ground truth\n",
    "    gt = ch.nn.Linear(in_features=d, out_features=k)\n",
    "    gt.weight = ch.nn.Parameter(w.sample(ch.Size([k, d])))\n",
    "    gt.bias = ch.nn.Parameter(w.sample(ch.Size([1, 1]))) if args.bias else None\n",
    "    \n",
    "    # create base classifier\n",
    "    with ch.no_grad():\n",
    "        # generate data\n",
    "        X = dist.sample(ch.Size([args.samples]))\n",
    "        y = gt(X)\n",
    "        \n",
    "    for noise_var in range(1, 6): \n",
    "        noise_var = Tensor([noise_var])[None,...]\n",
    "        # add noise to ground-truth pedictions\n",
    "        noised = y + ch.sqrt(noise_var)*ch.randn(X.size(0), 1)\n",
    "        # truncate based off of the standardized data\n",
    "        indices = phi(noised).nonzero(as_tuple=False).flatten()\n",
    "        y_trunc, x_trunc = noised[indices], X[indices]\n",
    "        alpha = Tensor([y_trunc.size(0) / args.samples])\n",
    "        \n",
    "        # normalize x features so that ||x_{i}||_{2}^{2} <= 1\n",
    "        l_inf = LA.norm(x_trunc, dim=-1, ord=float('inf')).max() # find max l_inf\n",
    "        # calculate normalizing constant\n",
    "        beta = l_inf*math.sqrt(d)\n",
    "        \"\"\"\n",
    "        Divide input features by normalizing constant. By doing so, \n",
    "        the weights will be increased by a magnitude of beta.\n",
    "        \"\"\"\n",
    "        x_trunc_norm = x_trunc / beta\n",
    "         # normalize entire dataset by beta\n",
    "        x_norm = X / beta\n",
    "        \n",
    "        # ground-truth ols\n",
    "        gt_ols = LinearRegression()\n",
    "        gt_ols.fit(X, noised)\n",
    "        gt_params = ch.cat([Tensor(gt_ols.coef_).T, Tensor(gt_ols.intercept_)[..., None]]).flatten()\n",
    "        \n",
    "        # empirical linear regression\n",
    "        ols = LinearRegression() \n",
    "        ols.fit(x_trunc, y_trunc)\n",
    "        ols_var = ch.var(Tensor(ols.predict(x_trunc)) - y_trunc, dim=0)[..., None]\n",
    "        ols_params = ch.cat([Tensor(ols.coef_).T, Tensor(ols.intercept_)[..., None]]).flatten()\n",
    "        # check r2 for entire dataset\n",
    "        ols_pred = ols.predict(X)\n",
    "\n",
    "        # ols results\n",
    "        store[TABLE_NAME].update_row({\n",
    "            'ols_r2': r2_score(noised.flatten(), ols_pred.flatten()), \n",
    "            'ols_var_l1': ch.abs(ols_var - noise_var),\n",
    "            'ols_param_mse': mse_loss(ols_params, gt_params),\n",
    "        })\n",
    "\n",
    "        \n",
    "        \"\"\"\n",
    "        Run dataset on truncated regression with known variance. This means that we want to standardize \n",
    "        our dependent variable by the true noise variance. \n",
    "        \"\"\"\n",
    "        # standardize y trunc by the empirical noise variance\n",
    "        stand_y_trunc = y_trunc / math.sqrt(noise_var)\n",
    "        # standardize noised by the empirical noise variance\n",
    "        stand_noised = noised / math.sqrt(noise_var)\n",
    "        trunc_reg = trunc_reg = TruncatedRegression(phi=phi, alpha=alpha, bias=True, unknown=False, bs=1, n=1000, tol=1e-2, steps=5000)\n",
    "        st = datetime.datetime.now()\n",
    "        known_results = trunc_reg.fit(x_trunc_norm, stand_y_trunc)\n",
    "        w, w0 = (known_results.weight.detach().cpu() * math.sqrt(noise_var)) / beta, known_results.bias.detach().cpu()[..., None] * math.sqrt(noise_var)\n",
    "        known_params = ch.cat([w, w0], dim=1).flatten()\n",
    "        # known results\n",
    "        store[TABLE_NAME].update_row({\n",
    "            'known_r2': r2_score(noised.flatten(), X@w.T + w0), \n",
    "            'known_param_mse': mse_loss(known_params, gt_params),\n",
    "            'known_time': int((datetime.datetime.now() - st).total_seconds()), \n",
    "        })\n",
    "        \n",
    "        # variance of the residuals\n",
    "        emp_noise_var = (y_trunc - ols.predict(x_trunc_norm)).var(0)\n",
    "        # standardize y trunc by the empirical noise variance\n",
    "        emp_stand_y_trunc = y_trunc / ch.sqrt(emp_noise_var)\n",
    "        \n",
    "        # truncated regression with unknown variance\n",
    "        trunc_reg = TruncatedRegression(phi=phi, alpha=alpha, bias=True, unknown=True, bs=1, n=1000, tol=1e-2, steps=5000)\n",
    "        st = datetime.datetime.now()\n",
    "        unknown_results = trunc_reg.fit(x_trunc_norm, emp_stand_y_trunc)\n",
    "\n",
    "        var_ = unknown_results.lambda_.inverse()\n",
    "        unknown_var = var_ * emp_noise_var\n",
    "        w, w0 = (((unknown_results.weight * var_) * ch.sqrt(emp_noise_var)) / beta).detach(), ((unknown_results.bias * ch.sqrt(emp_noise_var))).detach()[None,...]\n",
    "        unknown_params = ch.cat([w, w0], dim=1).flatten()\n",
    "\n",
    "        # known emp results\n",
    "        store[TABLE_NAME].update_row({\n",
    "            'unknown_r2': r2_score(noised.flatten(), X@w.T + w0), \n",
    "            'unknown_param_mse': mse_loss(unknown_params, gt_params),\n",
    "            'unknown_var_l1': float(ch.abs(unknown_var - noise_var)),\n",
    "            'unknown_time': int((datetime.datetime.now() - st).total_seconds()), \n",
    "        })\n",
    "        \n",
    "        \n",
    "        # add additional exp data to store\n",
    "        store[TABLE_NAME].update_row({ \n",
    "            'alpha': float(alpha.flatten()),\n",
    "            'num_samples': x_trunc.size(0),\n",
    "            'noise_scale': noise_var, \n",
    "        })\n",
    "\n",
    "        # append row to table\n",
    "        store[TABLE_NAME].flush_row()\n",
    "    store.close()    "
   ]
  },
  {
   "cell_type": "code",
   "execution_count": 5,
   "metadata": {},
   "outputs": [
    {
     "name": "stderr",
     "output_type": "stream",
     "text": [
      "100%|██████████| 5/5 [00:00<00:00, 150.84it/s]\n"
     ]
    },
    {
     "data": {
      "text/html": [
       "<div>\n",
       "<style scoped>\n",
       "    .dataframe tbody tr th:only-of-type {\n",
       "        vertical-align: middle;\n",
       "    }\n",
       "\n",
       "    .dataframe tbody tr th {\n",
       "        vertical-align: top;\n",
       "    }\n",
       "\n",
       "    .dataframe thead th {\n",
       "        text-align: right;\n",
       "    }\n",
       "</style>\n",
       "<table border=\"1\" class=\"dataframe\">\n",
       "  <thead>\n",
       "    <tr style=\"text-align: right;\">\n",
       "      <th></th>\n",
       "      <th>ols_r2</th>\n",
       "      <th>ols_param_mse</th>\n",
       "      <th>ols_var_l1</th>\n",
       "      <th>known_r2</th>\n",
       "      <th>known_param_mse</th>\n",
       "      <th>known_time</th>\n",
       "      <th>unknown_r2</th>\n",
       "      <th>unknown_param_mse</th>\n",
       "      <th>unknown_var_l1</th>\n",
       "      <th>unknown_time</th>\n",
       "      <th>alpha</th>\n",
       "      <th>num_samples</th>\n",
       "      <th>noise_scale</th>\n",
       "      <th>exp_id</th>\n",
       "    </tr>\n",
       "  </thead>\n",
       "  <tbody>\n",
       "    <tr>\n",
       "      <th>0</th>\n",
       "      <td>-0.123073</td>\n",
       "      <td>0.493105</td>\n",
       "      <td>0.736519</td>\n",
       "      <td>0.390539</td>\n",
       "      <td>0.038964</td>\n",
       "      <td>1</td>\n",
       "      <td>-0.443126</td>\n",
       "      <td>0.775886</td>\n",
       "      <td>0.757503</td>\n",
       "      <td>6</td>\n",
       "      <td>0.9062</td>\n",
       "      <td>9062</td>\n",
       "      <td>1.0</td>\n",
       "      <td>0935f68f-3c56-4e0a-bb43-a23c3edc1adc</td>\n",
       "    </tr>\n",
       "    <tr>\n",
       "      <th>1</th>\n",
       "      <td>-0.629737</td>\n",
       "      <td>1.252742</td>\n",
       "      <td>1.143939</td>\n",
       "      <td>-1.384196</td>\n",
       "      <td>2.306686</td>\n",
       "      <td>4</td>\n",
       "      <td>-0.617780</td>\n",
       "      <td>1.236003</td>\n",
       "      <td>1.144339</td>\n",
       "      <td>6</td>\n",
       "      <td>0.9288</td>\n",
       "      <td>9288</td>\n",
       "      <td>2.0</td>\n",
       "      <td>0935f68f-3c56-4e0a-bb43-a23c3edc1adc</td>\n",
       "    </tr>\n",
       "    <tr>\n",
       "      <th>2</th>\n",
       "      <td>-0.570762</td>\n",
       "      <td>1.475369</td>\n",
       "      <td>2.227428</td>\n",
       "      <td>-0.241274</td>\n",
       "      <td>0.846489</td>\n",
       "      <td>0</td>\n",
       "      <td>-0.569579</td>\n",
       "      <td>1.473108</td>\n",
       "      <td>2.228224</td>\n",
       "      <td>6</td>\n",
       "      <td>0.9112</td>\n",
       "      <td>9112</td>\n",
       "      <td>3.0</td>\n",
       "      <td>0935f68f-3c56-4e0a-bb43-a23c3edc1adc</td>\n",
       "    </tr>\n",
       "    <tr>\n",
       "      <th>3</th>\n",
       "      <td>-0.673534</td>\n",
       "      <td>1.995131</td>\n",
       "      <td>2.292560</td>\n",
       "      <td>-2.189516</td>\n",
       "      <td>5.620517</td>\n",
       "      <td>4</td>\n",
       "      <td>-6.687416</td>\n",
       "      <td>16.413698</td>\n",
       "      <td>2.910714</td>\n",
       "      <td>6</td>\n",
       "      <td>0.9268</td>\n",
       "      <td>9268</td>\n",
       "      <td>4.0</td>\n",
       "      <td>0935f68f-3c56-4e0a-bb43-a23c3edc1adc</td>\n",
       "    </tr>\n",
       "    <tr>\n",
       "      <th>4</th>\n",
       "      <td>-0.742098</td>\n",
       "      <td>2.511789</td>\n",
       "      <td>2.621980</td>\n",
       "      <td>-3.594354</td>\n",
       "      <td>10.645480</td>\n",
       "      <td>4</td>\n",
       "      <td>-0.654429</td>\n",
       "      <td>2.261262</td>\n",
       "      <td>2.619210</td>\n",
       "      <td>6</td>\n",
       "      <td>0.9526</td>\n",
       "      <td>9526</td>\n",
       "      <td>5.0</td>\n",
       "      <td>0935f68f-3c56-4e0a-bb43-a23c3edc1adc</td>\n",
       "    </tr>\n",
       "  </tbody>\n",
       "</table>\n",
       "</div>"
      ],
      "text/plain": [
       "     ols_r2  ols_param_mse  ols_var_l1  known_r2  known_param_mse  known_time  \\\n",
       "0 -0.123073       0.493105    0.736519  0.390539         0.038964           1   \n",
       "1 -0.629737       1.252742    1.143939 -1.384196         2.306686           4   \n",
       "2 -0.570762       1.475369    2.227428 -0.241274         0.846489           0   \n",
       "3 -0.673534       1.995131    2.292560 -2.189516         5.620517           4   \n",
       "4 -0.742098       2.511789    2.621980 -3.594354        10.645480           4   \n",
       "\n",
       "   unknown_r2  unknown_param_mse  unknown_var_l1  unknown_time   alpha  \\\n",
       "0   -0.443126           0.775886        0.757503             6  0.9062   \n",
       "1   -0.617780           1.236003        1.144339             6  0.9288   \n",
       "2   -0.569579           1.473108        2.228224             6  0.9112   \n",
       "3   -6.687416          16.413698        2.910714             6  0.9268   \n",
       "4   -0.654429           2.261262        2.619210             6  0.9526   \n",
       "\n",
       "   num_samples  noise_scale                                exp_id  \n",
       "0         9062          1.0  0935f68f-3c56-4e0a-bb43-a23c3edc1adc  \n",
       "1         9288          2.0  0935f68f-3c56-4e0a-bb43-a23c3edc1adc  \n",
       "2         9112          3.0  0935f68f-3c56-4e0a-bb43-a23c3edc1adc  \n",
       "3         9268          4.0  0935f68f-3c56-4e0a-bb43-a23c3edc1adc  \n",
       "4         9526          5.0  0935f68f-3c56-4e0a-bb43-a23c3edc1adc  "
      ]
     },
     "execution_count": 5,
     "metadata": {},
     "output_type": "execute_result"
    }
   ],
   "source": [
    "# store.close()\n",
    "reader = CollectionReader(OUT_DIR + EXP)\n",
    "logs = reader.df(TABLE_NAME)\n",
    "reader.close()\n",
    "logs.head()"
   ]
  },
  {
   "cell_type": "code",
   "execution_count": null,
   "metadata": {},
   "outputs": [],
   "source": [
    "logs"
   ]
  },
  {
   "cell_type": "code",
   "execution_count": 8,
   "metadata": {},
   "outputs": [],
   "source": [
    "cleaned_logs = pd.DataFrame(columns=logs.columns)\n",
    "for var in range(1, 21):\n",
    "    noise_scale = logs[logs['noise_scale'] == var].reset_index()\n",
    "    noise_scale.drop(index=noise_scale[['unknown_param_mse', 'unknown_var_mse']].sum(1).idxmax(), inplace=True)\n",
    "    cleaned_logs = pd.concat([cleaned_logs, noise_scale])\n",
    "cleaned_logs = cleaned_logs.reset_index()"
   ]
  },
  {
   "cell_type": "code",
   "execution_count": 9,
   "metadata": {},
   "outputs": [
    {
     "data": {
      "text/html": [
       "<div>\n",
       "<style scoped>\n",
       "    .dataframe tbody tr th:only-of-type {\n",
       "        vertical-align: middle;\n",
       "    }\n",
       "\n",
       "    .dataframe tbody tr th {\n",
       "        vertical-align: top;\n",
       "    }\n",
       "\n",
       "    .dataframe thead th {\n",
       "        text-align: right;\n",
       "    }\n",
       "</style>\n",
       "<table border=\"1\" class=\"dataframe\">\n",
       "  <thead>\n",
       "    <tr style=\"text-align: right;\">\n",
       "      <th></th>\n",
       "      <th>level_0</th>\n",
       "      <th>ols_r2</th>\n",
       "      <th>ols_param_mse</th>\n",
       "      <th>ols_var_l1</th>\n",
       "      <th>ols_var_mse</th>\n",
       "      <th>unknown_r2</th>\n",
       "      <th>unknown_param_mse</th>\n",
       "      <th>unknown_var_l1</th>\n",
       "      <th>unknown_var_mse</th>\n",
       "      <th>unknown_time</th>\n",
       "      <th>alpha</th>\n",
       "      <th>num_samples</th>\n",
       "      <th>noise_scale</th>\n",
       "      <th>exp_id</th>\n",
       "      <th>known_r2</th>\n",
       "      <th>known_param_mse</th>\n",
       "      <th>known_time</th>\n",
       "      <th>index</th>\n",
       "    </tr>\n",
       "  </thead>\n",
       "  <tbody>\n",
       "    <tr>\n",
       "      <th>0</th>\n",
       "      <td>0</td>\n",
       "      <td>0.052876</td>\n",
       "      <td>0.035191</td>\n",
       "      <td>0.367578</td>\n",
       "      <td>0.135114</td>\n",
       "      <td>0.126953</td>\n",
       "      <td>0.011241</td>\n",
       "      <td>0.022865</td>\n",
       "      <td>0.000523</td>\n",
       "      <td>21</td>\n",
       "      <td>0.80450</td>\n",
       "      <td>80450</td>\n",
       "      <td>1.0</td>\n",
       "      <td>5dfd0daa-d6ef-4643-a3ea-6976acf81378</td>\n",
       "      <td>NaN</td>\n",
       "      <td>NaN</td>\n",
       "      <td>NaN</td>\n",
       "      <td>0.0</td>\n",
       "    </tr>\n",
       "    <tr>\n",
       "      <th>1</th>\n",
       "      <td>1</td>\n",
       "      <td>0.099686</td>\n",
       "      <td>0.050013</td>\n",
       "      <td>0.402627</td>\n",
       "      <td>0.162108</td>\n",
       "      <td>0.216881</td>\n",
       "      <td>0.009505</td>\n",
       "      <td>0.233401</td>\n",
       "      <td>0.054476</td>\n",
       "      <td>10</td>\n",
       "      <td>0.77440</td>\n",
       "      <td>7744</td>\n",
       "      <td>1.0</td>\n",
       "      <td>05ffa43b-a3b7-4be7-9518-65c32f2f7fde</td>\n",
       "      <td>0.239027</td>\n",
       "      <td>0.002357</td>\n",
       "      <td>4.0</td>\n",
       "      <td>0.0</td>\n",
       "    </tr>\n",
       "    <tr>\n",
       "      <th>2</th>\n",
       "      <td>2</td>\n",
       "      <td>0.093766</td>\n",
       "      <td>0.063837</td>\n",
       "      <td>0.390439</td>\n",
       "      <td>0.152443</td>\n",
       "      <td>0.258215</td>\n",
       "      <td>0.001188</td>\n",
       "      <td>0.042126</td>\n",
       "      <td>0.001775</td>\n",
       "      <td>18</td>\n",
       "      <td>0.75043</td>\n",
       "      <td>75043</td>\n",
       "      <td>1.0</td>\n",
       "      <td>fb442fce-c577-457b-9d7e-84bc7e718fd0</td>\n",
       "      <td>NaN</td>\n",
       "      <td>NaN</td>\n",
       "      <td>NaN</td>\n",
       "      <td>0.0</td>\n",
       "    </tr>\n",
       "    <tr>\n",
       "      <th>3</th>\n",
       "      <td>3</td>\n",
       "      <td>-0.213915</td>\n",
       "      <td>0.123821</td>\n",
       "      <td>0.539218</td>\n",
       "      <td>0.290756</td>\n",
       "      <td>0.219701</td>\n",
       "      <td>0.005739</td>\n",
       "      <td>0.128202</td>\n",
       "      <td>0.016436</td>\n",
       "      <td>8</td>\n",
       "      <td>0.56800</td>\n",
       "      <td>5680</td>\n",
       "      <td>1.0</td>\n",
       "      <td>5e0d3a90-508d-42b8-8084-76ea0233aadc</td>\n",
       "      <td>NaN</td>\n",
       "      <td>NaN</td>\n",
       "      <td>NaN</td>\n",
       "      <td>0.0</td>\n",
       "    </tr>\n",
       "    <tr>\n",
       "      <th>4</th>\n",
       "      <td>4</td>\n",
       "      <td>-1.826375</td>\n",
       "      <td>0.300547</td>\n",
       "      <td>0.741835</td>\n",
       "      <td>0.550319</td>\n",
       "      <td>-0.621173</td>\n",
       "      <td>0.117608</td>\n",
       "      <td>0.500674</td>\n",
       "      <td>0.250675</td>\n",
       "      <td>18</td>\n",
       "      <td>0.18880</td>\n",
       "      <td>1888</td>\n",
       "      <td>1.0</td>\n",
       "      <td>dbe308eb-4934-4ced-824e-8aa130ad5fc9</td>\n",
       "      <td>NaN</td>\n",
       "      <td>NaN</td>\n",
       "      <td>NaN</td>\n",
       "      <td>0.0</td>\n",
       "    </tr>\n",
       "    <tr>\n",
       "      <th>...</th>\n",
       "      <td>...</td>\n",
       "      <td>...</td>\n",
       "      <td>...</td>\n",
       "      <td>...</td>\n",
       "      <td>...</td>\n",
       "      <td>...</td>\n",
       "      <td>...</td>\n",
       "      <td>...</td>\n",
       "      <td>...</td>\n",
       "      <td>...</td>\n",
       "      <td>...</td>\n",
       "      <td>...</td>\n",
       "      <td>...</td>\n",
       "      <td>...</td>\n",
       "      <td>...</td>\n",
       "      <td>...</td>\n",
       "      <td>...</td>\n",
       "      <td>...</td>\n",
       "    </tr>\n",
       "    <tr>\n",
       "      <th>509</th>\n",
       "      <td>21</td>\n",
       "      <td>-0.535242</td>\n",
       "      <td>1.068529</td>\n",
       "      <td>12.477976</td>\n",
       "      <td>155.699875</td>\n",
       "      <td>-0.088635</td>\n",
       "      <td>0.232418</td>\n",
       "      <td>9.549336</td>\n",
       "      <td>91.189827</td>\n",
       "      <td>16</td>\n",
       "      <td>0.53480</td>\n",
       "      <td>5348</td>\n",
       "      <td>20.0</td>\n",
       "      <td>20bda2ca-527b-47ef-9629-6c00f3f4e4b1</td>\n",
       "      <td>NaN</td>\n",
       "      <td>NaN</td>\n",
       "      <td>NaN</td>\n",
       "      <td>19.0</td>\n",
       "    </tr>\n",
       "    <tr>\n",
       "      <th>510</th>\n",
       "      <td>22</td>\n",
       "      <td>-0.456650</td>\n",
       "      <td>1.023433</td>\n",
       "      <td>11.860272</td>\n",
       "      <td>140.666061</td>\n",
       "      <td>-0.118978</td>\n",
       "      <td>0.914294</td>\n",
       "      <td>11.966409</td>\n",
       "      <td>143.194931</td>\n",
       "      <td>14</td>\n",
       "      <td>0.56780</td>\n",
       "      <td>56780</td>\n",
       "      <td>20.0</td>\n",
       "      <td>bdf5151f-6afe-4713-85b6-326ab1bd8cc1</td>\n",
       "      <td>NaN</td>\n",
       "      <td>NaN</td>\n",
       "      <td>NaN</td>\n",
       "      <td>19.0</td>\n",
       "    </tr>\n",
       "    <tr>\n",
       "      <th>511</th>\n",
       "      <td>23</td>\n",
       "      <td>-0.619078</td>\n",
       "      <td>1.294221</td>\n",
       "      <td>12.494238</td>\n",
       "      <td>156.105988</td>\n",
       "      <td>-1.816366</td>\n",
       "      <td>8.772808</td>\n",
       "      <td>9.987053</td>\n",
       "      <td>99.741226</td>\n",
       "      <td>15</td>\n",
       "      <td>0.50030</td>\n",
       "      <td>5003</td>\n",
       "      <td>20.0</td>\n",
       "      <td>f360b7de-7588-4bae-8307-c56b009c3d7f</td>\n",
       "      <td>NaN</td>\n",
       "      <td>NaN</td>\n",
       "      <td>NaN</td>\n",
       "      <td>19.0</td>\n",
       "    </tr>\n",
       "    <tr>\n",
       "      <th>512</th>\n",
       "      <td>24</td>\n",
       "      <td>-0.530705</td>\n",
       "      <td>1.116986</td>\n",
       "      <td>12.270186</td>\n",
       "      <td>150.557480</td>\n",
       "      <td>-0.071850</td>\n",
       "      <td>0.543304</td>\n",
       "      <td>6.534191</td>\n",
       "      <td>42.695652</td>\n",
       "      <td>13</td>\n",
       "      <td>0.53700</td>\n",
       "      <td>53700</td>\n",
       "      <td>20.0</td>\n",
       "      <td>a56ca95a-ff5f-4afe-bde3-19f263f49623</td>\n",
       "      <td>NaN</td>\n",
       "      <td>NaN</td>\n",
       "      <td>NaN</td>\n",
       "      <td>19.0</td>\n",
       "    </tr>\n",
       "    <tr>\n",
       "      <th>513</th>\n",
       "      <td>25</td>\n",
       "      <td>-0.463497</td>\n",
       "      <td>1.063115</td>\n",
       "      <td>11.666103</td>\n",
       "      <td>136.097961</td>\n",
       "      <td>0.018314</td>\n",
       "      <td>0.070980</td>\n",
       "      <td>2.031925</td>\n",
       "      <td>4.128720</td>\n",
       "      <td>11</td>\n",
       "      <td>0.56270</td>\n",
       "      <td>5627</td>\n",
       "      <td>20.0</td>\n",
       "      <td>2198a86b-a2ec-499f-910e-ce9c9127832f</td>\n",
       "      <td>-0.434441</td>\n",
       "      <td>0.983125</td>\n",
       "      <td>3.0</td>\n",
       "      <td>19.0</td>\n",
       "    </tr>\n",
       "  </tbody>\n",
       "</table>\n",
       "<p>514 rows × 18 columns</p>\n",
       "</div>"
      ],
      "text/plain": [
       "     level_0    ols_r2  ols_param_mse  ols_var_l1  ols_var_mse  unknown_r2  \\\n",
       "0          0  0.052876       0.035191    0.367578     0.135114    0.126953   \n",
       "1          1  0.099686       0.050013    0.402627     0.162108    0.216881   \n",
       "2          2  0.093766       0.063837    0.390439     0.152443    0.258215   \n",
       "3          3 -0.213915       0.123821    0.539218     0.290756    0.219701   \n",
       "4          4 -1.826375       0.300547    0.741835     0.550319   -0.621173   \n",
       "..       ...       ...            ...         ...          ...         ...   \n",
       "509       21 -0.535242       1.068529   12.477976   155.699875   -0.088635   \n",
       "510       22 -0.456650       1.023433   11.860272   140.666061   -0.118978   \n",
       "511       23 -0.619078       1.294221   12.494238   156.105988   -1.816366   \n",
       "512       24 -0.530705       1.116986   12.270186   150.557480   -0.071850   \n",
       "513       25 -0.463497       1.063115   11.666103   136.097961    0.018314   \n",
       "\n",
       "     unknown_param_mse  unknown_var_l1  unknown_var_mse unknown_time    alpha  \\\n",
       "0             0.011241        0.022865         0.000523           21  0.80450   \n",
       "1             0.009505        0.233401         0.054476           10  0.77440   \n",
       "2             0.001188        0.042126         0.001775           18  0.75043   \n",
       "3             0.005739        0.128202         0.016436            8  0.56800   \n",
       "4             0.117608        0.500674         0.250675           18  0.18880   \n",
       "..                 ...             ...              ...          ...      ...   \n",
       "509           0.232418        9.549336        91.189827           16  0.53480   \n",
       "510           0.914294       11.966409       143.194931           14  0.56780   \n",
       "511           8.772808        9.987053        99.741226           15  0.50030   \n",
       "512           0.543304        6.534191        42.695652           13  0.53700   \n",
       "513           0.070980        2.031925         4.128720           11  0.56270   \n",
       "\n",
       "    num_samples  noise_scale                                exp_id  known_r2  \\\n",
       "0         80450          1.0  5dfd0daa-d6ef-4643-a3ea-6976acf81378       NaN   \n",
       "1          7744          1.0  05ffa43b-a3b7-4be7-9518-65c32f2f7fde  0.239027   \n",
       "2         75043          1.0  fb442fce-c577-457b-9d7e-84bc7e718fd0       NaN   \n",
       "3          5680          1.0  5e0d3a90-508d-42b8-8084-76ea0233aadc       NaN   \n",
       "4          1888          1.0  dbe308eb-4934-4ced-824e-8aa130ad5fc9       NaN   \n",
       "..          ...          ...                                   ...       ...   \n",
       "509        5348         20.0  20bda2ca-527b-47ef-9629-6c00f3f4e4b1       NaN   \n",
       "510       56780         20.0  bdf5151f-6afe-4713-85b6-326ab1bd8cc1       NaN   \n",
       "511        5003         20.0  f360b7de-7588-4bae-8307-c56b009c3d7f       NaN   \n",
       "512       53700         20.0  a56ca95a-ff5f-4afe-bde3-19f263f49623       NaN   \n",
       "513        5627         20.0  2198a86b-a2ec-499f-910e-ce9c9127832f -0.434441   \n",
       "\n",
       "     known_param_mse  known_time  index  \n",
       "0                NaN         NaN    0.0  \n",
       "1           0.002357         4.0    0.0  \n",
       "2                NaN         NaN    0.0  \n",
       "3                NaN         NaN    0.0  \n",
       "4                NaN         NaN    0.0  \n",
       "..               ...         ...    ...  \n",
       "509              NaN         NaN   19.0  \n",
       "510              NaN         NaN   19.0  \n",
       "511              NaN         NaN   19.0  \n",
       "512              NaN         NaN   19.0  \n",
       "513         0.983125         3.0   19.0  \n",
       "\n",
       "[514 rows x 18 columns]"
      ]
     },
     "execution_count": 9,
     "metadata": {},
     "output_type": "execute_result"
    }
   ],
   "source": [
    "cleaned_logs"
   ]
  },
  {
   "cell_type": "code",
   "execution_count": 7,
   "metadata": {},
   "outputs": [],
   "source": [
    "logs = logs[logs['noise_scale'] <= 10.0]"
   ]
  },
  {
   "cell_type": "code",
   "execution_count": 6,
   "metadata": {},
   "outputs": [
    {
     "data": {
      "image/png": "[encoded data removed]",
      "text/plain": [
       "<Figure size 432x288 with 1 Axes>"
      ]
     },
     "metadata": {
      "needs_background": "light"
     },
     "output_type": "display_data"
    },
    {
     "data": {
      "text/plain": [
       "[Text(0.5, 0, 'noise_scale'), Text(0, 0.5, 'L1 Distance to Ground-Truth')]"
      ]
     },
     "execution_count": 6,
     "metadata": {},
     "output_type": "execute_result"
    },
    {
     "data": {
      "image/png": "[encoded data removed]",
      "text/plain": [
       "<Figure size 432x288 with 1 Axes>"
      ]
     },
     "metadata": {
      "needs_background": "light"
     },
     "output_type": "display_data"
    }
   ],
   "source": [
    "sns.lineplot(data=logs, x='noise_scale', y='ols_param_mse', label='ols')\n",
    "# sns.lineplot(data=logs, x='noise_scale', y='known_emp_param_mse', label='known emp')\n",
    "ax = sns.lineplot(data=logs, x='noise_scale', y='known_param_mse', label='known')\n",
    "ax = sns.lineplot(data=logs, x='noise_scale', y='unknown_param_mse', label='unknown')\n",
    "ax.set(xlabel='noise_scale', ylabel='L2 Distance to Ground-Truth')\n",
    "plt.show()\n",
    "\n",
    "sns.lineplot(data=logs, x='noise_scale', y='ols_var_l1', label='ols')\n",
    "ax = sns.lineplot(data=logs, x='noise_scale', y='unknown_var_l1', label='unknown')\n",
    "ax.set(xlabel='noise_scale', ylabel='L1 Distance to Ground-Truth')"
   ]
  },
  {
   "cell_type": "code",
   "execution_count": 59,
   "metadata": {},
   "outputs": [
    {
     "data": {
      "text/plain": [
       "tensor([[2.9077]], grad_fn=<InverseBackward>)"
      ]
     },
     "execution_count": 59,
     "metadata": {},
     "output_type": "execute_result"
    }
   ],
   "source": [
    "res.lambda_.inverse()"
   ]
  },
  {
   "cell_type": "code",
   "execution_count": 142,
   "metadata": {},
   "outputs": [
    {
     "data": {
      "text/plain": [
       "tensor([[6.6700]])"
      ]
     },
     "execution_count": 142,
     "metadata": {},
     "output_type": "execute_result"
    }
   ],
   "source": [
    "ols_var"
   ]
  },
  {
   "cell_type": "code",
   "execution_count": null,
   "metadata": {},
   "outputs": [],
   "source": [
    "import matplotlib.pyplot as plt\n",
    "\n",
    "fig = plt.figure(figsize=(10, 10))\n",
    "ax = fig.gca(projection='3d')\n",
    "# data = ch.from_numpy(np.linspace(-3.0, 3.0, 100)).unsqueeze(1).float()\n",
    "\n",
    "ax.scatter3D(X[indices][:,0], X[indices][:,1], noised[indices], color=\"green\", alpha=.1)\n",
    "ax.scatter3D(x_trunc[:,0], x_trunc[:,1], y_trunc, color=\"red\", alpha=.75)\n",
    "\n",
    "ax.view_init(10, -150)"
   ]
  },
  {
   "cell_type": "code",
   "execution_count": 145,
   "metadata": {},
   "outputs": [
    {
     "data": {
      "text/plain": [
       "tensor(1.6702)"
      ]
     },
     "execution_count": 145,
     "metadata": {},
     "output_type": "execute_result"
    }
   ],
   "source": [
    "dist.sample(ch.Size([10000])).norm(dim=-1).max()"
   ]
  },
  {
   "cell_type": "code",
   "execution_count": 154,
   "metadata": {},
   "outputs": [],
   "source": [
    "u = Uniform(-1/d, 1/d)\n",
    "\n",
    "s = u.sample(ch.Size([10000, d]))"
   ]
  },
  {
   "cell_type": "code",
   "execution_count": 46,
   "metadata": {},
   "outputs": [
    {
     "data": {
      "text/plain": [
       "tensor([[-8.0481],\n",
       "        [-4.1819],\n",
       "        [-3.8256],\n",
       "        ...,\n",
       "        [ 0.5905],\n",
       "        [-2.1130],\n",
       "        [-1.7292]])"
      ]
     },
     "execution_count": 46,
     "metadata": {},
     "output_type": "execute_result"
    }
   ],
   "source": [
    "(x_trunc@w+w0 - y_trunc)"
   ]
  },
  {
   "cell_type": "code",
   "execution_count": 47,
   "metadata": {},
   "outputs": [
    {
     "data": {
      "text/plain": [
       "tensor([[9.3957]], grad_fn=<MulBackward0>)"
      ]
     },
     "execution_count": 47,
     "metadata": {},
     "output_type": "execute_result"
    }
   ],
   "source": [
    "unknown_var"
   ]
  },
  {
   "cell_type": "code",
   "execution_count": 35,
   "metadata": {},
   "outputs": [
    {
     "data": {
      "text/plain": [
       "(Parameter containing:\n",
       " tensor([[0.5118]], requires_grad=True),\n",
       " Parameter containing:\n",
       " tensor([[0.5949]], requires_grad=True))"
      ]
     },
     "execution_count": 35,
     "metadata": {},
     "output_type": "execute_result"
    }
   ],
   "source": [
    "gt.weight, gt.bias"
   ]
  },
  {
   "cell_type": "code",
   "execution_count": 44,
   "metadata": {},
   "outputs": [
    {
     "data": {
      "text/plain": [
       "tensor([0.1744, 2.7350])"
      ]
     },
     "execution_count": 44,
     "metadata": {},
     "output_type": "execute_result"
    }
   ],
   "source": [
    "ols_params"
   ]
  },
  {
   "cell_type": "code",
   "execution_count": 52,
   "metadata": {},
   "outputs": [
    {
     "data": {
      "text/plain": [
       "tensor([2.5809])"
      ]
     },
     "execution_count": 52,
     "metadata": {},
     "output_type": "execute_result"
    }
   ],
   "source": [
    "ch.abs((x_trunc@w + w0) - y_trunc).mean(0)"
   ]
  },
  {
   "cell_type": "code",
   "execution_count": 68,
   "metadata": {},
   "outputs": [
    {
     "data": {
      "text/plain": [
       "tensor([9.8567])"
      ]
     },
     "execution_count": 68,
     "metadata": {},
     "output_type": "execute_result"
    }
   ],
   "source": [
    "((X@w + w0) - noised).var(0)"
   ]
  },
  {
   "cell_type": "code",
   "execution_count": 58,
   "metadata": {},
   "outputs": [
    {
     "data": {
      "text/plain": [
       "tensor([4.2200])"
      ]
     },
     "execution_count": 58,
     "metadata": {},
     "output_type": "execute_result"
    }
   ],
   "source": [
    "(x_trunc@w + w0 - y_trunc).var(0)"
   ]
  },
  {
   "cell_type": "code",
   "execution_count": 89,
   "metadata": {},
   "outputs": [
    {
     "data": {
      "text/plain": [
       "[<matplotlib.lines.Line2D at 0x7fd30c687dc0>]"
      ]
     },
     "execution_count": 89,
     "metadata": {},
     "output_type": "execute_result"
    },
    {
     "data": {
      "image/png": "[encoded data removed]",
      "text/plain": [
       "<Figure size 432x288 with 1 Axes>"
      ]
     },
     "metadata": {
      "needs_background": "light"
     },
     "output_type": "display_data"
    }
   ],
   "source": [
    "plt.scatter(X, noised)\n",
    "plt.scatter(x_trunc, y_trunc)\n",
    "plt.plot(x_trunc, x_trunc@w + w0, color='r')"
   ]
  },
  {
   "cell_type": "code",
   "execution_count": 61,
   "metadata": {},
   "outputs": [],
   "source": [
    "data = Tensor(np.expand_dims(np.linspace(-3, 3), 1))"
   ]
  },
  {
   "cell_type": "code",
   "execution_count": 76,
   "metadata": {},
   "outputs": [],
   "source": [
    "x_half, y_half = X[:5000], noised[:5000]"
   ]
  },
  {
   "cell_type": "code",
   "execution_count": 77,
   "metadata": {},
   "outputs": [
    {
     "data": {
      "text/plain": [
       "tensor([10.1086])"
      ]
     },
     "execution_count": 77,
     "metadata": {},
     "output_type": "execute_result"
    }
   ],
   "source": [
    "(x_half@w + w0 - y_half).var(0)"
   ]
  },
  {
   "cell_type": "code",
   "execution_count": 86,
   "metadata": {},
   "outputs": [
    {
     "data": {
      "text/plain": [
       "tensor([4.2200])"
      ]
     },
     "execution_count": 86,
     "metadata": {},
     "output_type": "execute_result"
    }
   ],
   "source": [
    "(x_trunc@w - y_trunc).var(0)"
   ]
  },
  {
   "cell_type": "code",
   "execution_count": 81,
   "metadata": {},
   "outputs": [
    {
     "data": {
      "text/plain": [
       "tensor([[0.1702]])"
      ]
     },
     "execution_count": 81,
     "metadata": {},
     "output_type": "execute_result"
    }
   ],
   "source": [
    "w0"
   ]
  },
  {
   "cell_type": "code",
   "execution_count": 11,
   "metadata": {},
   "outputs": [
    {
     "data": {
      "text/plain": [
       "[1.0]"
      ]
     },
     "execution_count": 11,
     "metadata": {},
     "output_type": "execute_result"
    }
   ],
   "source": [
    "ch.ones(1).tolist()"
   ]
  },
  {
   "cell_type": "code",
   "execution_count": 17,
   "metadata": {},
   "outputs": [],
   "source": [
    "from delphi.utils.helpers import ProcedureComplete"
   ]
  },
  {
   "cell_type": "code",
   "execution_count": 18,
   "metadata": {},
   "outputs": [],
   "source": [
    "def f(): \n",
    "    raise ProcedureComplete()"
   ]
  },
  {
   "cell_type": "code",
   "execution_count": 19,
   "metadata": {},
   "outputs": [
    {
     "name": "stdout",
     "output_type": "stream",
     "text": [
      "catching error here\n"
     ]
    }
   ],
   "source": [
    "try: \n",
    "    f()\n",
    "except ProcedureComplete: \n",
    "    print(\"catching error here\")\n",
    "except Exception as e: \n",
    "    raise e"
   ]
  },
  {
   "cell_type": "code",
   "execution_count": 13,
   "metadata": {},
   "outputs": [],
   "source": [
    "class ProcedureComplete(BaseException): \n",
    "    def __init__(self, message='procedure complete'): \n",
    "        super(ProcedureComplete, self).__init__(message)"
   ]
  },
  {
   "cell_type": "code",
   "execution_count": null,
   "metadata": {},
   "outputs": [],
   "source": []
  }
 ],
 "metadata": {
  "kernelspec": {
   "display_name": "Python 3",
   "language": "python",
   "name": "python3"
  },
  "language_info": {
   "codemirror_mode": {
    "name": "ipython",
    "version": 3
   },
   "file_extension": ".py",
   "mimetype": "text/x-python",
   "name": "python",
   "nbconvert_exporter": "python",
   "pygments_lexer": "ipython3",
   "version": "3.8.5"
  },
  "latex_envs": {
   "LaTeX_envs_menu_present": true,
   "autoclose": false,
   "autocomplete": true,
   "bibliofile": "biblio.bib",
   "cite_by": "apalike",
   "current_citInitial": 1,
   "eqLabelWithNumbers": true,
   "eqNumInitial": 1,
   "hotkeys": {
    "equation": "Ctrl-E",
    "itemize": "Ctrl-I"
   },
   "labels_anchors": false,
   "latex_user_defs": false,
   "report_style_numbering": false,
   "user_envs_cfg": false
  },
  "toc": {
   "base_numbering": 1,
   "nav_menu": {},
   "number_sections": true,
   "sideBar": true,
   "skip_h1_title": false,
   "title_cell": "Table of Contents",
   "title_sidebar": "Contents",
   "toc_cell": false,
   "toc_position": {},
   "toc_section_display": true,
   "toc_window_display": false
  },
  "varInspector": {
   "cols": {
    "lenName": 16,
    "lenType": 16,
    "lenVar": 40
   },
   "kernels_config": {
    "python": {
     "delete_cmd_postfix": "",
     "delete_cmd_prefix": "del ",
     "library": "var_list.py",
     "varRefreshCmd": "print(var_dic_list())"
    },
    "r": {
     "delete_cmd_postfix": ") ",
     "delete_cmd_prefix": "rm(",
     "library": "var_list.r",
     "varRefreshCmd": "cat(var_dic_list()) "
    }
   },
   "types_to_exclude": [
    "module",
    "function",
    "builtin_function_or_method",
    "instance",
    "_Feature"
   ],
   "window_display": false
  }
 },
 "nbformat": 4,
 "nbformat_minor": 4
}
