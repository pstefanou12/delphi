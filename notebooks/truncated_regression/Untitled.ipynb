{
 "cells": [
  {
   "cell_type": "code",
   "execution_count": 1,
   "metadata": {},
   "outputs": [],
   "source": [
    "import subprocess \n",
    "import torch as ch\n",
    "from torch import Tensor\n",
    "import torch.linalg as LA\n",
    "from torch.distributions import Uniform\n",
    "from torch.distributions.multivariate_normal import MultivariateNormal\n",
    "import pandas as pd\n",
    "import numpy as np\n",
    "import csv\n",
    "import json\n",
    "from cox.utils import Parameters\n",
    "from cox.store import Store\n",
    "from cox.readers import CollectionReader\n",
    "import os\n",
    "from sklearn.linear_model import LinearRegression\n",
    "from sklearn.metrics import r2_score\n",
    "import datetime\n",
    "import seaborn as sns\n",
    "import matplotlib.pyplot as plt\n",
    "import datetime\n",
    "\n",
    "import sys \n",
    "sys.path.append('../..')\n",
    "from delphi.stats.linear_regression import TruncatedRegression\n",
    "from delphi.oracle import Left\n",
    "from delphi.utils import constants as consts\n",
    "from delphi.utils.helpers import setup_store_with_metadata\n",
    "\n",
    "TABLE_NAME = 'logs'"
   ]
  },
  {
   "cell_type": "code",
   "execution_count": 126,
   "metadata": {},
   "outputs": [],
   "source": [
    "args = Parameters({\n",
    "    \"dims\": 2,\n",
    "    \"bias\": True,\n",
    "    \"samples\": 1000,\n",
    "    \"c\": 0,\n",
    "    \"batch_size\": 1,\n",
    "    \"lr\": 1e-1,\n",
    "    \"var_lr\": 1e-2,\n",
    "    \"var_\": 1,\n",
    "    \"trials\": 1,\n",
    "    \"norm\": False,\n",
    "    \"workers\": 8,\n",
    "    \"steps\": 1000,\n",
    "    \"step_lr\": 1,\n",
    "    \"step_lr_gamma\": 1.0,\n",
    "    \"x_lower\": -10,\n",
    "    \"x_upper\": 10,\n",
    "    \"lower\": -1,\n",
    "    \"upper\": 1,\n",
    "    \"device\": \"cuda\",\n",
    "    \"num_samples\": 100,\n",
    "})\n",
    "mse_loss = ch.nn.MSELoss()"
   ]
  },
  {
   "cell_type": "markdown",
   "metadata": {},
   "source": [
    "I will start by generating the ground-truth for our expriment."
   ]
  },
  {
   "cell_type": "code",
   "execution_count": 166,
   "metadata": {},
   "outputs": [
    {
     "name": "stdout",
     "output_type": "stream",
     "text": [
      "gt weight:  Parameter containing:\n",
      "tensor([[0.1036]], requires_grad=True)\n",
      "gt bias:  Parameter containing:\n",
      "tensor([[0.1956]], requires_grad=True)\n",
      "alpha:  tensor([0.5230])\n",
      "gt ols coef:  [[0.09909208]]\n",
      "gt ols intercept:  [0.09150477]\n"
     ]
    },
    {
     "data": {
      "text/plain": [
       "<matplotlib.collections.PathCollection at 0x7f3be8af2c88>"
      ]
     },
     "execution_count": 166,
     "metadata": {},
     "output_type": "execute_result"
    },
    {
     "data": {
      "image/png": "[encoded data removed]",
      "text/plain": [
       "<Figure size 432x288 with 1 Axes>"
      ]
     },
     "metadata": {
      "needs_background": "light"
     },
     "output_type": "display_data"
    }
   ],
   "source": [
    "# distribution for generating feature vectors\n",
    "k = 1\n",
    "w = Uniform(-1, 1)\n",
    "m = Uniform(-10, 10)\n",
    "# m = MultivariateNormal(ch.zeros(k), ch.eye(k)/k)\n",
    "phi = Left(Tensor([0.0]))\n",
    "\n",
    "# generate ground truth\n",
    "gt = ch.nn.Linear(in_features=k, out_features=1)\n",
    "gt.weight = ch.nn.Parameter(ch.ones(k, 1))\n",
    "gt.weight = ch.nn.Parameter(w.sample(ch.Size([k, 1])))\n",
    "\n",
    "# gt.bias = ch.nn.Parameter(ch.ones(1, 1)) if args.bias else None\n",
    "gt.bias = ch.nn.Parameter(w.sample(ch.Size([1, 1]))) if args.bias else None\n",
    "\n",
    "print(\"gt weight: \", gt.weight)\n",
    "print(\"gt bias: \", gt.bias)\n",
    "\n",
    "# create base classifier\n",
    "with ch.no_grad():\n",
    "    # generate data\n",
    "    X = m.sample(ch.Size([args.samples, k]))\n",
    "    y = gt(X)\n",
    "\n",
    "noise_var = Tensor([20.0])[...,None]\n",
    "# remove synthetic data from the computation graph\n",
    "with ch.no_grad():\n",
    "    # add noise to ground-truth pedictions\n",
    "    noised = y + ch.sqrt(noise_var) * ch.randn(X.size(0), 1)\n",
    "    # truncate based off of the standardized data\n",
    "    indices = phi(noised).nonzero(as_tuple=False).flatten()\n",
    "    y_trunc, x_trunc = noised[indices], X[indices]\n",
    "    alpha = Tensor([y_trunc.size(0) / args.samples])\n",
    "    print(\"alpha: \", alpha)\n",
    "    \n",
    "# ground-truth OLS\n",
    "gt_ols = LinearRegression()\n",
    "gt_ols.fit(X, noised)\n",
    "print(\"gt ols coef: \", gt_ols.coef_)\n",
    "print(\"gt ols intercept: \", gt_ols.intercept_)\n",
    "    \n",
    "plt.scatter(X, noised)\n",
    "plt.scatter(x_trunc, y_trunc)"
   ]
  },
  {
   "cell_type": "markdown",
   "metadata": {},
   "source": [
    "Now, we want to standardize our truncated dataset, so that our empirical estimates are located on the l2 ball. First we will divide all of our covariate features by $B\\sqrt{k}$, so that all of our covariate features $||x_{i}||_{2}^{2} \\leq 1$, and reside on the $\\ell_{2}$ ball. This way the norm of $w$ will be multiplied by $B\\sqrt{k}$."
   ]
  },
  {
   "cell_type": "code",
   "execution_count": 167,
   "metadata": {},
   "outputs": [
    {
     "name": "stdout",
     "output_type": "stream",
     "text": [
      "max truncated x norm tensor(9.9029)\n",
      "beta:  tensor(9.9029)\n",
      "x max l2:  tensor(1.)\n"
     ]
    }
   ],
   "source": [
    "import math \n",
    "\n",
    "max_x_trunc_norm = LA.norm(x_trunc, dim=-1, ord=float('inf')).max()\n",
    "print(\"max truncated x norm\", max_x_trunc_norm)\n",
    "\n",
    "beta = max_x_trunc_norm*math.sqrt(X.size(1))\n",
    "print(\"beta: \", beta)\n",
    "\n",
    "x_trunc_norm = x_trunc / beta\n",
    "print(\"x max l2: \", x_trunc_norm.norm(dim=-1).max())"
   ]
  },
  {
   "cell_type": "markdown",
   "metadata": {},
   "source": [
    "We now observe that the norm of the truncated x covariates is bounded by 1. So, now we will standardze our dependent variable so that it's ground-truth takes the form of the linear regression latent variable model with noise variance of 1. First, let's calculate the predicted values from our naive ols regression on teh truncated data."
   ]
  },
  {
   "cell_type": "code",
   "execution_count": 168,
   "metadata": {},
   "outputs": [
    {
     "data": {
      "text/plain": [
       "(array([[0.53081197]], dtype=float32), array([3.4101431], dtype=float32))"
      ]
     },
     "execution_count": 168,
     "metadata": {},
     "output_type": "execute_result"
    }
   ],
   "source": [
    "trunc_ols = LinearRegression()\n",
    "trunc_ols.fit(x_trunc_norm, y_trunc)\n",
    "trunc_ols_pred = trunc_ols.predict(x_trunc_norm)\n",
    "trunc_ols.coef_, trunc_ols.intercept_"
   ]
  },
  {
   "cell_type": "markdown",
   "metadata": {},
   "source": [
    "First, we will standardize our data for the case where we assume that the empirical noise variance is the underlying noise variance of the ground truth regression."
   ]
  },
  {
   "cell_type": "code",
   "execution_count": 169,
   "metadata": {},
   "outputs": [
    {
     "name": "stdout",
     "output_type": "stream",
     "text": [
      "emp noise var:  tensor([7.5575])\n",
      "trunc reg noise var:  tensor([1.])\n"
     ]
    },
    {
     "data": {
      "text/plain": [
       "<matplotlib.collections.PathCollection at 0x7f3be9c55358>"
      ]
     },
     "execution_count": 169,
     "metadata": {},
     "output_type": "execute_result"
    },
    {
     "data": {
      "image/png": "[encoded data removed]",
      "text/plain": [
       "<Figure size 432x288 with 1 Axes>"
      ]
     },
     "metadata": {
      "needs_background": "light"
     },
     "output_type": "display_data"
    }
   ],
   "source": [
    "emp_noise_var = (y_trunc - trunc_ols_pred).var(0)\n",
    "print(\"emp noise var: \", emp_noise_var)\n",
    "\n",
    "emp_stand_y_trunc = y_trunc / ch.sqrt(emp_noise_var)\n",
    "trunc_noise_var = (emp_stand_y_trunc - (trunc_ols_pred / ch.sqrt(emp_noise_var))).var(0)\n",
    "print(\"trunc reg noise var: \", trunc_noise_var)\n",
    "\n",
    "plt.scatter(x_trunc_norm, emp_stand_y_trunc)"
   ]
  },
  {
   "cell_type": "markdown",
   "metadata": {},
   "source": [
    "Now, let's see what our new transformed regression looks like. "
   ]
  },
  {
   "cell_type": "code",
   "execution_count": 170,
   "metadata": {},
   "outputs": [
    {
     "data": {
      "text/plain": [
       "(array([[0.35695517]], dtype=float32), array([0.03328557], dtype=float32))"
      ]
     },
     "execution_count": 170,
     "metadata": {},
     "output_type": "execute_result"
    }
   ],
   "source": [
    "new_X, emp_stand_noised = X / beta, noised / ch.sqrt(emp_noise_var)\n",
    "\n",
    "gt_emp_stand = LinearRegression()\n",
    "gt_emp_stand.fit(new_X, emp_stand_noised)\n",
    "gt_emp_stand.coef_, gt_emp_stand.intercept_"
   ]
  },
  {
   "cell_type": "code",
   "execution_count": 171,
   "metadata": {},
   "outputs": [
    {
     "data": {
      "text/plain": [
       "(array([[0.21942519]], dtype=float32), array([-0.02322139], dtype=float32))"
      ]
     },
     "execution_count": 171,
     "metadata": {},
     "output_type": "execute_result"
    }
   ],
   "source": [
    "stand_noised = noised / ch.sqrt(noise_var)\n",
    "stand_y_trunc = y_trunc / ch.sqrt(noise_var)\n",
    "\n",
    "gt_stand = LinearRegression()\n",
    "gt_stand.fit(new_X, stand_noised)\n",
    "gt_stand.coef_, gt_.intercept_"
   ]
  },
  {
   "cell_type": "markdown",
   "metadata": {},
   "source": [
    "Truncated Regression with Known Empirical Variance"
   ]
  },
  {
   "cell_type": "code",
   "execution_count": 172,
   "metadata": {},
   "outputs": [
    {
     "data": {
      "application/vnd.jupyter.widget-view+json": {
       "model_id": "",
       "version_major": 2,
       "version_minor": 0
      },
      "text/plain": [
       "  0%|          | 0/11 [00:00<?, ?it/s]"
      ]
     },
     "metadata": {},
     "output_type": "display_data"
    },
    {
     "data": {
      "application/vnd.jupyter.widget-view+json": {
       "model_id": "",
       "version_major": 2,
       "version_minor": 0
      },
      "text/plain": [
       "  0%|          | 0/11 [00:00<?, ?it/s]"
      ]
     },
     "metadata": {},
     "output_type": "display_data"
    },
    {
     "data": {
      "application/vnd.jupyter.widget-view+json": {
       "model_id": "",
       "version_major": 2,
       "version_minor": 0
      },
      "text/plain": [
       "  0%|          | 0/11 [00:00<?, ?it/s]"
      ]
     },
     "metadata": {},
     "output_type": "display_data"
    },
    {
     "data": {
      "application/vnd.jupyter.widget-view+json": {
       "model_id": "",
       "version_major": 2,
       "version_minor": 0
      },
      "text/plain": [
       "  0%|          | 0/11 [00:00<?, ?it/s]"
      ]
     },
     "metadata": {},
     "output_type": "display_data"
    },
    {
     "data": {
      "application/vnd.jupyter.widget-view+json": {
       "model_id": "",
       "version_major": 2,
       "version_minor": 0
      },
      "text/plain": [
       "  0%|          | 0/11 [00:00<?, ?it/s]"
      ]
     },
     "metadata": {},
     "output_type": "display_data"
    },
    {
     "data": {
      "application/vnd.jupyter.widget-view+json": {
       "model_id": "",
       "version_major": 2,
       "version_minor": 0
      },
      "text/plain": [
       "  0%|          | 0/11 [00:00<?, ?it/s]"
      ]
     },
     "metadata": {},
     "output_type": "display_data"
    },
    {
     "data": {
      "text/plain": [
       "(Parameter containing:\n",
       " tensor([[0.2714]], requires_grad=True),\n",
       " Parameter containing:\n",
       " tensor([0.9165], requires_grad=True))"
      ]
     },
     "execution_count": 172,
     "metadata": {},
     "output_type": "execute_result"
    }
   ],
   "source": [
    "trunc_reg = TruncatedRegression(phi=phi, alpha=alpha, args=args, bias=True, var=ch.ones(1))\n",
    "res = trunc_reg.fit(x_trunc_norm, emp_stand_y_trunc)\n",
    "res.weight, res.bias"
   ]
  },
  {
   "cell_type": "code",
   "execution_count": 173,
   "metadata": {},
   "outputs": [
    {
     "data": {
      "text/plain": [
       "<matplotlib.legend.Legend at 0x7f3be9d8e2b0>"
      ]
     },
     "execution_count": 173,
     "metadata": {},
     "output_type": "execute_result"
    },
    {
     "data": {
      "image/png": "[encoded data removed]",
      "text/plain": [
       "<Figure size 432x288 with 1 Axes>"
      ]
     },
     "metadata": {
      "needs_background": "light"
     },
     "output_type": "display_data"
    }
   ],
   "source": [
    "plt.scatter(new_X, emp_stand_noised, label='entire dataset', alpha=.75)\n",
    "plt.scatter(x_trunc_norm, emp_stand_y_trunc, label='truncated dataset', alpha=.75)\n",
    "ols = LinearRegression(fit_intercept=True).fit(x_trunc_norm, emp_stand_y_trunc)\n",
    "data = np.linspace(-1, 1, 100).reshape(100, 1)\n",
    "plt.plot(data, ols.predict(data), color='r', label='ols')\n",
    "plt.plot(data, gt_emp_stand.predict(data), color='blue', label='gt')\n",
    "plt.plot(data, res(Tensor(data)).detach().numpy(), label='known emp', color='green')\n",
    "plt.legend()"
   ]
  },
  {
   "cell_type": "markdown",
   "metadata": {},
   "source": [
    "Truncated Regression with Known Variance"
   ]
  },
  {
   "cell_type": "code",
   "execution_count": 174,
   "metadata": {},
   "outputs": [
    {
     "data": {
      "application/vnd.jupyter.widget-view+json": {
       "model_id": "",
       "version_major": 2,
       "version_minor": 0
      },
      "text/plain": [
       "  0%|          | 0/11 [00:00<?, ?it/s]"
      ]
     },
     "metadata": {},
     "output_type": "display_data"
    },
    {
     "data": {
      "application/vnd.jupyter.widget-view+json": {
       "model_id": "",
       "version_major": 2,
       "version_minor": 0
      },
      "text/plain": [
       "  0%|          | 0/11 [00:00<?, ?it/s]"
      ]
     },
     "metadata": {},
     "output_type": "display_data"
    },
    {
     "data": {
      "application/vnd.jupyter.widget-view+json": {
       "model_id": "",
       "version_major": 2,
       "version_minor": 0
      },
      "text/plain": [
       "  0%|          | 0/11 [00:00<?, ?it/s]"
      ]
     },
     "metadata": {},
     "output_type": "display_data"
    },
    {
     "data": {
      "application/vnd.jupyter.widget-view+json": {
       "model_id": "",
       "version_major": 2,
       "version_minor": 0
      },
      "text/plain": [
       "  0%|          | 0/11 [00:00<?, ?it/s]"
      ]
     },
     "metadata": {},
     "output_type": "display_data"
    },
    {
     "data": {
      "application/vnd.jupyter.widget-view+json": {
       "model_id": "",
       "version_major": 2,
       "version_minor": 0
      },
      "text/plain": [
       "  0%|          | 0/11 [00:00<?, ?it/s]"
      ]
     },
     "metadata": {},
     "output_type": "display_data"
    },
    {
     "data": {
      "application/vnd.jupyter.widget-view+json": {
       "model_id": "",
       "version_major": 2,
       "version_minor": 0
      },
      "text/plain": [
       "  0%|          | 0/11 [00:00<?, ?it/s]"
      ]
     },
     "metadata": {},
     "output_type": "display_data"
    },
    {
     "data": {
      "application/vnd.jupyter.widget-view+json": {
       "model_id": "",
       "version_major": 2,
       "version_minor": 0
      },
      "text/plain": [
       "  0%|          | 0/11 [00:00<?, ?it/s]"
      ]
     },
     "metadata": {},
     "output_type": "display_data"
    },
    {
     "data": {
      "application/vnd.jupyter.widget-view+json": {
       "model_id": "",
       "version_major": 2,
       "version_minor": 0
      },
      "text/plain": [
       "  0%|          | 0/11 [00:00<?, ?it/s]"
      ]
     },
     "metadata": {},
     "output_type": "display_data"
    },
    {
     "data": {
      "application/vnd.jupyter.widget-view+json": {
       "model_id": "",
       "version_major": 2,
       "version_minor": 0
      },
      "text/plain": [
       "  0%|          | 0/11 [00:00<?, ?it/s]"
      ]
     },
     "metadata": {},
     "output_type": "display_data"
    },
    {
     "data": {
      "application/vnd.jupyter.widget-view+json": {
       "model_id": "",
       "version_major": 2,
       "version_minor": 0
      },
      "text/plain": [
       "  0%|          | 0/11 [00:00<?, ?it/s]"
      ]
     },
     "metadata": {},
     "output_type": "display_data"
    },
    {
     "data": {
      "application/vnd.jupyter.widget-view+json": {
       "model_id": "",
       "version_major": 2,
       "version_minor": 0
      },
      "text/plain": [
       "  0%|          | 0/11 [00:00<?, ?it/s]"
      ]
     },
     "metadata": {},
     "output_type": "display_data"
    },
    {
     "data": {
      "text/plain": [
       "(Parameter containing:\n",
       " tensor([[0.2374]], requires_grad=True),\n",
       " Parameter containing:\n",
       " tensor([-0.0939], requires_grad=True))"
      ]
     },
     "execution_count": 174,
     "metadata": {},
     "output_type": "execute_result"
    }
   ],
   "source": [
    "args.__setattr__('steps', 1000)\n",
    "\n",
    "trunc_reg = TruncatedRegression(phi=phi, alpha=alpha, args=args, bias=True, var=ch.ones(1))\n",
    "res = trunc_reg.fit(x_trunc_norm, stand_y_trunc)\n",
    "res.weight, res.bias"
   ]
  },
  {
   "cell_type": "code",
   "execution_count": 175,
   "metadata": {},
   "outputs": [
    {
     "data": {
      "text/plain": [
       "<matplotlib.legend.Legend at 0x7f3be8896128>"
      ]
     },
     "execution_count": 175,
     "metadata": {},
     "output_type": "execute_result"
    },
    {
     "data": {
      "image/png": "[encoded data removed]",
      "text/plain": [
       "<Figure size 432x288 with 1 Axes>"
      ]
     },
     "metadata": {
      "needs_background": "light"
     },
     "output_type": "display_data"
    }
   ],
   "source": [
    "plt.scatter(new_X, stand_noised, label='entire dataset', alpha=.75)\n",
    "plt.scatter(x_trunc_norm, stand_y_trunc, label='truncated dataset', alpha=.75)\n",
    "ols = LinearRegression().fit(x_trunc_norm, stand_y_trunc)\n",
    "data = np.linspace(-1, 1, 100).reshape(100, 1)\n",
    "plt.plot(data, ols.predict(data), color='r', label='ols')\n",
    "plt.plot(data, gt_stand.predict(data), color='blue', label='gt')\n",
    "plt.plot(data, res(Tensor(data)).detach().numpy(), label='known', color='green')\n",
    "plt.legend()"
   ]
  },
  {
   "cell_type": "markdown",
   "metadata": {},
   "source": [
    "Truncated Regression with Unknown Noise Variance"
   ]
  },
  {
   "cell_type": "code",
   "execution_count": 176,
   "metadata": {},
   "outputs": [
    {
     "data": {
      "application/vnd.jupyter.widget-view+json": {
       "model_id": "",
       "version_major": 2,
       "version_minor": 0
      },
      "text/plain": [
       "  0%|          | 0/11 [00:00<?, ?it/s]"
      ]
     },
     "metadata": {},
     "output_type": "display_data"
    },
    {
     "data": {
      "application/vnd.jupyter.widget-view+json": {
       "model_id": "",
       "version_major": 2,
       "version_minor": 0
      },
      "text/plain": [
       "  0%|          | 0/11 [00:00<?, ?it/s]"
      ]
     },
     "metadata": {},
     "output_type": "display_data"
    },
    {
     "data": {
      "application/vnd.jupyter.widget-view+json": {
       "model_id": "",
       "version_major": 2,
       "version_minor": 0
      },
      "text/plain": [
       "  0%|          | 0/11 [00:00<?, ?it/s]"
      ]
     },
     "metadata": {},
     "output_type": "display_data"
    },
    {
     "data": {
      "application/vnd.jupyter.widget-view+json": {
       "model_id": "",
       "version_major": 2,
       "version_minor": 0
      },
      "text/plain": [
       "  0%|          | 0/11 [00:00<?, ?it/s]"
      ]
     },
     "metadata": {},
     "output_type": "display_data"
    },
    {
     "data": {
      "application/vnd.jupyter.widget-view+json": {
       "model_id": "",
       "version_major": 2,
       "version_minor": 0
      },
      "text/plain": [
       "  0%|          | 0/11 [00:00<?, ?it/s]"
      ]
     },
     "metadata": {},
     "output_type": "display_data"
    },
    {
     "data": {
      "application/vnd.jupyter.widget-view+json": {
       "model_id": "",
       "version_major": 2,
       "version_minor": 0
      },
      "text/plain": [
       "  0%|          | 0/11 [00:00<?, ?it/s]"
      ]
     },
     "metadata": {},
     "output_type": "display_data"
    },
    {
     "data": {
      "application/vnd.jupyter.widget-view+json": {
       "model_id": "",
       "version_major": 2,
       "version_minor": 0
      },
      "text/plain": [
       "  0%|          | 0/11 [00:00<?, ?it/s]"
      ]
     },
     "metadata": {},
     "output_type": "display_data"
    },
    {
     "data": {
      "application/vnd.jupyter.widget-view+json": {
       "model_id": "",
       "version_major": 2,
       "version_minor": 0
      },
      "text/plain": [
       "  0%|          | 0/11 [00:00<?, ?it/s]"
      ]
     },
     "metadata": {},
     "output_type": "display_data"
    },
    {
     "data": {
      "application/vnd.jupyter.widget-view+json": {
       "model_id": "",
       "version_major": 2,
       "version_minor": 0
      },
      "text/plain": [
       "  0%|          | 0/11 [00:00<?, ?it/s]"
      ]
     },
     "metadata": {},
     "output_type": "display_data"
    },
    {
     "data": {
      "application/vnd.jupyter.widget-view+json": {
       "model_id": "",
       "version_major": 2,
       "version_minor": 0
      },
      "text/plain": [
       "  0%|          | 0/11 [00:00<?, ?it/s]"
      ]
     },
     "metadata": {},
     "output_type": "display_data"
    },
    {
     "data": {
      "application/vnd.jupyter.widget-view+json": {
       "model_id": "",
       "version_major": 2,
       "version_minor": 0
      },
      "text/plain": [
       "  0%|          | 0/11 [00:00<?, ?it/s]"
      ]
     },
     "metadata": {},
     "output_type": "display_data"
    },
    {
     "data": {
      "application/vnd.jupyter.widget-view+json": {
       "model_id": "",
       "version_major": 2,
       "version_minor": 0
      },
      "text/plain": [
       "  0%|          | 0/11 [00:00<?, ?it/s]"
      ]
     },
     "metadata": {},
     "output_type": "display_data"
    },
    {
     "data": {
      "application/vnd.jupyter.widget-view+json": {
       "model_id": "",
       "version_major": 2,
       "version_minor": 0
      },
      "text/plain": [
       "  0%|          | 0/11 [00:00<?, ?it/s]"
      ]
     },
     "metadata": {},
     "output_type": "display_data"
    },
    {
     "data": {
      "application/vnd.jupyter.widget-view+json": {
       "model_id": "",
       "version_major": 2,
       "version_minor": 0
      },
      "text/plain": [
       "  0%|          | 0/11 [00:00<?, ?it/s]"
      ]
     },
     "metadata": {},
     "output_type": "display_data"
    },
    {
     "data": {
      "application/vnd.jupyter.widget-view+json": {
       "model_id": "",
       "version_major": 2,
       "version_minor": 0
      },
      "text/plain": [
       "  0%|          | 0/11 [00:00<?, ?it/s]"
      ]
     },
     "metadata": {},
     "output_type": "display_data"
    },
    {
     "data": {
      "application/vnd.jupyter.widget-view+json": {
       "model_id": "",
       "version_major": 2,
       "version_minor": 0
      },
      "text/plain": [
       "  0%|          | 0/11 [00:00<?, ?it/s]"
      ]
     },
     "metadata": {},
     "output_type": "display_data"
    },
    {
     "data": {
      "application/vnd.jupyter.widget-view+json": {
       "model_id": "",
       "version_major": 2,
       "version_minor": 0
      },
      "text/plain": [
       "  0%|          | 0/11 [00:00<?, ?it/s]"
      ]
     },
     "metadata": {},
     "output_type": "display_data"
    },
    {
     "data": {
      "application/vnd.jupyter.widget-view+json": {
       "model_id": "",
       "version_major": 2,
       "version_minor": 0
      },
      "text/plain": [
       "  0%|          | 0/11 [00:00<?, ?it/s]"
      ]
     },
     "metadata": {},
     "output_type": "display_data"
    },
    {
     "data": {
      "application/vnd.jupyter.widget-view+json": {
       "model_id": "",
       "version_major": 2,
       "version_minor": 0
      },
      "text/plain": [
       "  0%|          | 0/11 [00:00<?, ?it/s]"
      ]
     },
     "metadata": {},
     "output_type": "display_data"
    },
    {
     "data": {
      "application/vnd.jupyter.widget-view+json": {
       "model_id": "",
       "version_major": 2,
       "version_minor": 0
      },
      "text/plain": [
       "  0%|          | 0/11 [00:00<?, ?it/s]"
      ]
     },
     "metadata": {},
     "output_type": "display_data"
    },
    {
     "data": {
      "application/vnd.jupyter.widget-view+json": {
       "model_id": "",
       "version_major": 2,
       "version_minor": 0
      },
      "text/plain": [
       "  0%|          | 0/11 [00:00<?, ?it/s]"
      ]
     },
     "metadata": {},
     "output_type": "display_data"
    },
    {
     "data": {
      "application/vnd.jupyter.widget-view+json": {
       "model_id": "",
       "version_major": 2,
       "version_minor": 0
      },
      "text/plain": [
       "  0%|          | 0/11 [00:00<?, ?it/s]"
      ]
     },
     "metadata": {},
     "output_type": "display_data"
    },
    {
     "data": {
      "application/vnd.jupyter.widget-view+json": {
       "model_id": "",
       "version_major": 2,
       "version_minor": 0
      },
      "text/plain": [
       "  0%|          | 0/11 [00:00<?, ?it/s]"
      ]
     },
     "metadata": {},
     "output_type": "display_data"
    },
    {
     "data": {
      "application/vnd.jupyter.widget-view+json": {
       "model_id": "",
       "version_major": 2,
       "version_minor": 0
      },
      "text/plain": [
       "  0%|          | 0/11 [00:00<?, ?it/s]"
      ]
     },
     "metadata": {},
     "output_type": "display_data"
    },
    {
     "data": {
      "application/vnd.jupyter.widget-view+json": {
       "model_id": "",
       "version_major": 2,
       "version_minor": 0
      },
      "text/plain": [
       "  0%|          | 0/11 [00:00<?, ?it/s]"
      ]
     },
     "metadata": {},
     "output_type": "display_data"
    },
    {
     "data": {
      "application/vnd.jupyter.widget-view+json": {
       "model_id": "",
       "version_major": 2,
       "version_minor": 0
      },
      "text/plain": [
       "  0%|          | 0/11 [00:00<?, ?it/s]"
      ]
     },
     "metadata": {},
     "output_type": "display_data"
    },
    {
     "data": {
      "application/vnd.jupyter.widget-view+json": {
       "model_id": "",
       "version_major": 2,
       "version_minor": 0
      },
      "text/plain": [
       "  0%|          | 0/11 [00:00<?, ?it/s]"
      ]
     },
     "metadata": {},
     "output_type": "display_data"
    },
    {
     "data": {
      "application/vnd.jupyter.widget-view+json": {
       "model_id": "",
       "version_major": 2,
       "version_minor": 0
      },
      "text/plain": [
       "  0%|          | 0/11 [00:00<?, ?it/s]"
      ]
     },
     "metadata": {},
     "output_type": "display_data"
    },
    {
     "data": {
      "application/vnd.jupyter.widget-view+json": {
       "model_id": "",
       "version_major": 2,
       "version_minor": 0
      },
      "text/plain": [
       "  0%|          | 0/11 [00:00<?, ?it/s]"
      ]
     },
     "metadata": {},
     "output_type": "display_data"
    },
    {
     "data": {
      "application/vnd.jupyter.widget-view+json": {
       "model_id": "",
       "version_major": 2,
       "version_minor": 0
      },
      "text/plain": [
       "  0%|          | 0/11 [00:00<?, ?it/s]"
      ]
     },
     "metadata": {},
     "output_type": "display_data"
    },
    {
     "data": {
      "application/vnd.jupyter.widget-view+json": {
       "model_id": "",
       "version_major": 2,
       "version_minor": 0
      },
      "text/plain": [
       "  0%|          | 0/11 [00:00<?, ?it/s]"
      ]
     },
     "metadata": {},
     "output_type": "display_data"
    },
    {
     "data": {
      "application/vnd.jupyter.widget-view+json": {
       "model_id": "",
       "version_major": 2,
       "version_minor": 0
      },
      "text/plain": [
       "  0%|          | 0/11 [00:00<?, ?it/s]"
      ]
     },
     "metadata": {},
     "output_type": "display_data"
    },
    {
     "data": {
      "application/vnd.jupyter.widget-view+json": {
       "model_id": "",
       "version_major": 2,
       "version_minor": 0
      },
      "text/plain": [
       "  0%|          | 0/11 [00:00<?, ?it/s]"
      ]
     },
     "metadata": {},
     "output_type": "display_data"
    },
    {
     "data": {
      "application/vnd.jupyter.widget-view+json": {
       "model_id": "",
       "version_major": 2,
       "version_minor": 0
      },
      "text/plain": [
       "  0%|          | 0/11 [00:00<?, ?it/s]"
      ]
     },
     "metadata": {},
     "output_type": "display_data"
    },
    {
     "data": {
      "application/vnd.jupyter.widget-view+json": {
       "model_id": "",
       "version_major": 2,
       "version_minor": 0
      },
      "text/plain": [
       "  0%|          | 0/11 [00:00<?, ?it/s]"
      ]
     },
     "metadata": {},
     "output_type": "display_data"
    },
    {
     "data": {
      "application/vnd.jupyter.widget-view+json": {
       "model_id": "",
       "version_major": 2,
       "version_minor": 0
      },
      "text/plain": [
       "  0%|          | 0/11 [00:00<?, ?it/s]"
      ]
     },
     "metadata": {},
     "output_type": "display_data"
    },
    {
     "data": {
      "application/vnd.jupyter.widget-view+json": {
       "model_id": "",
       "version_major": 2,
       "version_minor": 0
      },
      "text/plain": [
       "  0%|          | 0/11 [00:00<?, ?it/s]"
      ]
     },
     "metadata": {},
     "output_type": "display_data"
    },
    {
     "data": {
      "application/vnd.jupyter.widget-view+json": {
       "model_id": "",
       "version_major": 2,
       "version_minor": 0
      },
      "text/plain": [
       "  0%|          | 0/11 [00:00<?, ?it/s]"
      ]
     },
     "metadata": {},
     "output_type": "display_data"
    },
    {
     "data": {
      "application/vnd.jupyter.widget-view+json": {
       "model_id": "",
       "version_major": 2,
       "version_minor": 0
      },
      "text/plain": [
       "  0%|          | 0/11 [00:00<?, ?it/s]"
      ]
     },
     "metadata": {},
     "output_type": "display_data"
    },
    {
     "data": {
      "application/vnd.jupyter.widget-view+json": {
       "model_id": "",
       "version_major": 2,
       "version_minor": 0
      },
      "text/plain": [
       "  0%|          | 0/11 [00:00<?, ?it/s]"
      ]
     },
     "metadata": {},
     "output_type": "display_data"
    },
    {
     "data": {
      "application/vnd.jupyter.widget-view+json": {
       "model_id": "",
       "version_major": 2,
       "version_minor": 0
      },
      "text/plain": [
       "  0%|          | 0/11 [00:00<?, ?it/s]"
      ]
     },
     "metadata": {},
     "output_type": "display_data"
    },
    {
     "data": {
      "application/vnd.jupyter.widget-view+json": {
       "model_id": "",
       "version_major": 2,
       "version_minor": 0
      },
      "text/plain": [
       "  0%|          | 0/11 [00:00<?, ?it/s]"
      ]
     },
     "metadata": {},
     "output_type": "display_data"
    },
    {
     "data": {
      "application/vnd.jupyter.widget-view+json": {
       "model_id": "",
       "version_major": 2,
       "version_minor": 0
      },
      "text/plain": [
       "  0%|          | 0/11 [00:00<?, ?it/s]"
      ]
     },
     "metadata": {},
     "output_type": "display_data"
    },
    {
     "data": {
      "application/vnd.jupyter.widget-view+json": {
       "model_id": "",
       "version_major": 2,
       "version_minor": 0
      },
      "text/plain": [
       "  0%|          | 0/11 [00:00<?, ?it/s]"
      ]
     },
     "metadata": {},
     "output_type": "display_data"
    },
    {
     "data": {
      "application/vnd.jupyter.widget-view+json": {
       "model_id": "",
       "version_major": 2,
       "version_minor": 0
      },
      "text/plain": [
       "  0%|          | 0/11 [00:00<?, ?it/s]"
      ]
     },
     "metadata": {},
     "output_type": "display_data"
    },
    {
     "data": {
      "application/vnd.jupyter.widget-view+json": {
       "model_id": "",
       "version_major": 2,
       "version_minor": 0
      },
      "text/plain": [
       "  0%|          | 0/11 [00:00<?, ?it/s]"
      ]
     },
     "metadata": {},
     "output_type": "display_data"
    },
    {
     "data": {
      "application/vnd.jupyter.widget-view+json": {
       "model_id": "",
       "version_major": 2,
       "version_minor": 0
      },
      "text/plain": [
       "  0%|          | 0/11 [00:00<?, ?it/s]"
      ]
     },
     "metadata": {},
     "output_type": "display_data"
    },
    {
     "data": {
      "application/vnd.jupyter.widget-view+json": {
       "model_id": "",
       "version_major": 2,
       "version_minor": 0
      },
      "text/plain": [
       "  0%|          | 0/11 [00:00<?, ?it/s]"
      ]
     },
     "metadata": {},
     "output_type": "display_data"
    },
    {
     "data": {
      "application/vnd.jupyter.widget-view+json": {
       "model_id": "",
       "version_major": 2,
       "version_minor": 0
      },
      "text/plain": [
       "  0%|          | 0/11 [00:00<?, ?it/s]"
      ]
     },
     "metadata": {},
     "output_type": "display_data"
    },
    {
     "data": {
      "application/vnd.jupyter.widget-view+json": {
       "model_id": "",
       "version_major": 2,
       "version_minor": 0
      },
      "text/plain": [
       "  0%|          | 0/11 [00:00<?, ?it/s]"
      ]
     },
     "metadata": {},
     "output_type": "display_data"
    },
    {
     "data": {
      "application/vnd.jupyter.widget-view+json": {
       "model_id": "",
       "version_major": 2,
       "version_minor": 0
      },
      "text/plain": [
       "  0%|          | 0/11 [00:00<?, ?it/s]"
      ]
     },
     "metadata": {},
     "output_type": "display_data"
    },
    {
     "data": {
      "application/vnd.jupyter.widget-view+json": {
       "model_id": "",
       "version_major": 2,
       "version_minor": 0
      },
      "text/plain": [
       "  0%|          | 0/11 [00:00<?, ?it/s]"
      ]
     },
     "metadata": {},
     "output_type": "display_data"
    },
    {
     "data": {
      "application/vnd.jupyter.widget-view+json": {
       "model_id": "",
       "version_major": 2,
       "version_minor": 0
      },
      "text/plain": [
       "  0%|          | 0/11 [00:00<?, ?it/s]"
      ]
     },
     "metadata": {},
     "output_type": "display_data"
    },
    {
     "data": {
      "application/vnd.jupyter.widget-view+json": {
       "model_id": "",
       "version_major": 2,
       "version_minor": 0
      },
      "text/plain": [
       "  0%|          | 0/11 [00:00<?, ?it/s]"
      ]
     },
     "metadata": {},
     "output_type": "display_data"
    },
    {
     "data": {
      "application/vnd.jupyter.widget-view+json": {
       "model_id": "",
       "version_major": 2,
       "version_minor": 0
      },
      "text/plain": [
       "  0%|          | 0/11 [00:00<?, ?it/s]"
      ]
     },
     "metadata": {},
     "output_type": "display_data"
    },
    {
     "data": {
      "application/vnd.jupyter.widget-view+json": {
       "model_id": "",
       "version_major": 2,
       "version_minor": 0
      },
      "text/plain": [
       "  0%|          | 0/11 [00:00<?, ?it/s]"
      ]
     },
     "metadata": {},
     "output_type": "display_data"
    },
    {
     "data": {
      "application/vnd.jupyter.widget-view+json": {
       "model_id": "",
       "version_major": 2,
       "version_minor": 0
      },
      "text/plain": [
       "  0%|          | 0/11 [00:00<?, ?it/s]"
      ]
     },
     "metadata": {},
     "output_type": "display_data"
    },
    {
     "data": {
      "application/vnd.jupyter.widget-view+json": {
       "model_id": "",
       "version_major": 2,
       "version_minor": 0
      },
      "text/plain": [
       "  0%|          | 0/11 [00:00<?, ?it/s]"
      ]
     },
     "metadata": {},
     "output_type": "display_data"
    },
    {
     "data": {
      "application/vnd.jupyter.widget-view+json": {
       "model_id": "",
       "version_major": 2,
       "version_minor": 0
      },
      "text/plain": [
       "  0%|          | 0/11 [00:00<?, ?it/s]"
      ]
     },
     "metadata": {},
     "output_type": "display_data"
    },
    {
     "data": {
      "application/vnd.jupyter.widget-view+json": {
       "model_id": "",
       "version_major": 2,
       "version_minor": 0
      },
      "text/plain": [
       "  0%|          | 0/11 [00:00<?, ?it/s]"
      ]
     },
     "metadata": {},
     "output_type": "display_data"
    },
    {
     "data": {
      "application/vnd.jupyter.widget-view+json": {
       "model_id": "",
       "version_major": 2,
       "version_minor": 0
      },
      "text/plain": [
       "  0%|          | 0/11 [00:00<?, ?it/s]"
      ]
     },
     "metadata": {},
     "output_type": "display_data"
    },
    {
     "data": {
      "application/vnd.jupyter.widget-view+json": {
       "model_id": "",
       "version_major": 2,
       "version_minor": 0
      },
      "text/plain": [
       "  0%|          | 0/11 [00:00<?, ?it/s]"
      ]
     },
     "metadata": {},
     "output_type": "display_data"
    },
    {
     "data": {
      "application/vnd.jupyter.widget-view+json": {
       "model_id": "",
       "version_major": 2,
       "version_minor": 0
      },
      "text/plain": [
       "  0%|          | 0/11 [00:00<?, ?it/s]"
      ]
     },
     "metadata": {},
     "output_type": "display_data"
    },
    {
     "data": {
      "application/vnd.jupyter.widget-view+json": {
       "model_id": "",
       "version_major": 2,
       "version_minor": 0
      },
      "text/plain": [
       "  0%|          | 0/11 [00:00<?, ?it/s]"
      ]
     },
     "metadata": {},
     "output_type": "display_data"
    },
    {
     "data": {
      "application/vnd.jupyter.widget-view+json": {
       "model_id": "",
       "version_major": 2,
       "version_minor": 0
      },
      "text/plain": [
       "  0%|          | 0/11 [00:00<?, ?it/s]"
      ]
     },
     "metadata": {},
     "output_type": "display_data"
    },
    {
     "data": {
      "application/vnd.jupyter.widget-view+json": {
       "model_id": "",
       "version_major": 2,
       "version_minor": 0
      },
      "text/plain": [
       "  0%|          | 0/11 [00:00<?, ?it/s]"
      ]
     },
     "metadata": {},
     "output_type": "display_data"
    },
    {
     "data": {
      "application/vnd.jupyter.widget-view+json": {
       "model_id": "",
       "version_major": 2,
       "version_minor": 0
      },
      "text/plain": [
       "  0%|          | 0/11 [00:00<?, ?it/s]"
      ]
     },
     "metadata": {},
     "output_type": "display_data"
    },
    {
     "data": {
      "application/vnd.jupyter.widget-view+json": {
       "model_id": "",
       "version_major": 2,
       "version_minor": 0
      },
      "text/plain": [
       "  0%|          | 0/11 [00:00<?, ?it/s]"
      ]
     },
     "metadata": {},
     "output_type": "display_data"
    },
    {
     "data": {
      "application/vnd.jupyter.widget-view+json": {
       "model_id": "",
       "version_major": 2,
       "version_minor": 0
      },
      "text/plain": [
       "  0%|          | 0/11 [00:00<?, ?it/s]"
      ]
     },
     "metadata": {},
     "output_type": "display_data"
    },
    {
     "data": {
      "application/vnd.jupyter.widget-view+json": {
       "model_id": "",
       "version_major": 2,
       "version_minor": 0
      },
      "text/plain": [
       "  0%|          | 0/11 [00:00<?, ?it/s]"
      ]
     },
     "metadata": {},
     "output_type": "display_data"
    },
    {
     "data": {
      "application/vnd.jupyter.widget-view+json": {
       "model_id": "",
       "version_major": 2,
       "version_minor": 0
      },
      "text/plain": [
       "  0%|          | 0/11 [00:00<?, ?it/s]"
      ]
     },
     "metadata": {},
     "output_type": "display_data"
    },
    {
     "data": {
      "application/vnd.jupyter.widget-view+json": {
       "model_id": "",
       "version_major": 2,
       "version_minor": 0
      },
      "text/plain": [
       "  0%|          | 0/11 [00:00<?, ?it/s]"
      ]
     },
     "metadata": {},
     "output_type": "display_data"
    },
    {
     "data": {
      "application/vnd.jupyter.widget-view+json": {
       "model_id": "",
       "version_major": 2,
       "version_minor": 0
      },
      "text/plain": [
       "  0%|          | 0/11 [00:00<?, ?it/s]"
      ]
     },
     "metadata": {},
     "output_type": "display_data"
    },
    {
     "data": {
      "application/vnd.jupyter.widget-view+json": {
       "model_id": "",
       "version_major": 2,
       "version_minor": 0
      },
      "text/plain": [
       "  0%|          | 0/11 [00:00<?, ?it/s]"
      ]
     },
     "metadata": {},
     "output_type": "display_data"
    },
    {
     "data": {
      "application/vnd.jupyter.widget-view+json": {
       "model_id": "",
       "version_major": 2,
       "version_minor": 0
      },
      "text/plain": [
       "  0%|          | 0/11 [00:00<?, ?it/s]"
      ]
     },
     "metadata": {},
     "output_type": "display_data"
    },
    {
     "data": {
      "application/vnd.jupyter.widget-view+json": {
       "model_id": "",
       "version_major": 2,
       "version_minor": 0
      },
      "text/plain": [
       "  0%|          | 0/11 [00:00<?, ?it/s]"
      ]
     },
     "metadata": {},
     "output_type": "display_data"
    },
    {
     "data": {
      "application/vnd.jupyter.widget-view+json": {
       "model_id": "",
       "version_major": 2,
       "version_minor": 0
      },
      "text/plain": [
       "  0%|          | 0/11 [00:00<?, ?it/s]"
      ]
     },
     "metadata": {},
     "output_type": "display_data"
    },
    {
     "data": {
      "application/vnd.jupyter.widget-view+json": {
       "model_id": "",
       "version_major": 2,
       "version_minor": 0
      },
      "text/plain": [
       "  0%|          | 0/11 [00:00<?, ?it/s]"
      ]
     },
     "metadata": {},
     "output_type": "display_data"
    },
    {
     "data": {
      "application/vnd.jupyter.widget-view+json": {
       "model_id": "",
       "version_major": 2,
       "version_minor": 0
      },
      "text/plain": [
       "  0%|          | 0/11 [00:00<?, ?it/s]"
      ]
     },
     "metadata": {},
     "output_type": "display_data"
    },
    {
     "data": {
      "application/vnd.jupyter.widget-view+json": {
       "model_id": "",
       "version_major": 2,
       "version_minor": 0
      },
      "text/plain": [
       "  0%|          | 0/11 [00:00<?, ?it/s]"
      ]
     },
     "metadata": {},
     "output_type": "display_data"
    },
    {
     "data": {
      "application/vnd.jupyter.widget-view+json": {
       "model_id": "",
       "version_major": 2,
       "version_minor": 0
      },
      "text/plain": [
       "  0%|          | 0/11 [00:00<?, ?it/s]"
      ]
     },
     "metadata": {},
     "output_type": "display_data"
    },
    {
     "data": {
      "application/vnd.jupyter.widget-view+json": {
       "model_id": "",
       "version_major": 2,
       "version_minor": 0
      },
      "text/plain": [
       "  0%|          | 0/11 [00:00<?, ?it/s]"
      ]
     },
     "metadata": {},
     "output_type": "display_data"
    },
    {
     "data": {
      "application/vnd.jupyter.widget-view+json": {
       "model_id": "",
       "version_major": 2,
       "version_minor": 0
      },
      "text/plain": [
       "  0%|          | 0/11 [00:00<?, ?it/s]"
      ]
     },
     "metadata": {},
     "output_type": "display_data"
    },
    {
     "data": {
      "application/vnd.jupyter.widget-view+json": {
       "model_id": "",
       "version_major": 2,
       "version_minor": 0
      },
      "text/plain": [
       "  0%|          | 0/11 [00:00<?, ?it/s]"
      ]
     },
     "metadata": {},
     "output_type": "display_data"
    },
    {
     "data": {
      "application/vnd.jupyter.widget-view+json": {
       "model_id": "",
       "version_major": 2,
       "version_minor": 0
      },
      "text/plain": [
       "  0%|          | 0/11 [00:00<?, ?it/s]"
      ]
     },
     "metadata": {},
     "output_type": "display_data"
    },
    {
     "data": {
      "application/vnd.jupyter.widget-view+json": {
       "model_id": "",
       "version_major": 2,
       "version_minor": 0
      },
      "text/plain": [
       "  0%|          | 0/11 [00:00<?, ?it/s]"
      ]
     },
     "metadata": {},
     "output_type": "display_data"
    },
    {
     "data": {
      "application/vnd.jupyter.widget-view+json": {
       "model_id": "",
       "version_major": 2,
       "version_minor": 0
      },
      "text/plain": [
       "  0%|          | 0/11 [00:00<?, ?it/s]"
      ]
     },
     "metadata": {},
     "output_type": "display_data"
    },
    {
     "data": {
      "application/vnd.jupyter.widget-view+json": {
       "model_id": "",
       "version_major": 2,
       "version_minor": 0
      },
      "text/plain": [
       "  0%|          | 0/11 [00:00<?, ?it/s]"
      ]
     },
     "metadata": {},
     "output_type": "display_data"
    },
    {
     "data": {
      "application/vnd.jupyter.widget-view+json": {
       "model_id": "",
       "version_major": 2,
       "version_minor": 0
      },
      "text/plain": [
       "  0%|          | 0/11 [00:00<?, ?it/s]"
      ]
     },
     "metadata": {},
     "output_type": "display_data"
    },
    {
     "data": {
      "application/vnd.jupyter.widget-view+json": {
       "model_id": "",
       "version_major": 2,
       "version_minor": 0
      },
      "text/plain": [
       "  0%|          | 0/11 [00:00<?, ?it/s]"
      ]
     },
     "metadata": {},
     "output_type": "display_data"
    },
    {
     "data": {
      "application/vnd.jupyter.widget-view+json": {
       "model_id": "",
       "version_major": 2,
       "version_minor": 0
      },
      "text/plain": [
       "  0%|          | 0/11 [00:00<?, ?it/s]"
      ]
     },
     "metadata": {},
     "output_type": "display_data"
    },
    {
     "data": {
      "text/plain": [
       "(tensor([[0.6430]], grad_fn=<MulBackward0>),\n",
       " tensor([[-0.3385]], grad_fn=<MulBackward0>),\n",
       " tensor([[3.0902]], grad_fn=<InverseBackward>))"
      ]
     },
     "execution_count": 176,
     "metadata": {},
     "output_type": "execute_result"
    }
   ],
   "source": [
    "args.__setattr__('batch_size', 50)\n",
    "trunc_reg = TruncatedRegression(phi=phi, alpha=alpha, args=args, bias=True)\n",
    "res = trunc_reg.fit(x_trunc_norm, emp_stand_y_trunc)\n",
    "res.weight * res.lambda_.inverse(), res.bias * res.lambda_.inverse(), res.lambda_.inverse()"
   ]
  },
  {
   "cell_type": "code",
   "execution_count": 177,
   "metadata": {},
   "outputs": [
    {
     "data": {
      "text/plain": [
       "<matplotlib.legend.Legend at 0x7f3be857bdd8>"
      ]
     },
     "execution_count": 177,
     "metadata": {},
     "output_type": "execute_result"
    },
    {
     "data": {
      "image/png": "[encoded data removed]",
      "text/plain": [
       "<Figure size 432x288 with 1 Axes>"
      ]
     },
     "metadata": {
      "needs_background": "light"
     },
     "output_type": "display_data"
    }
   ],
   "source": [
    "plt.scatter(new_X, emp_stand_noised, label='entire dataset', alpha=.75)\n",
    "plt.scatter(x_trunc_norm, emp_stand_y_trunc, label='truncated dataset', alpha=.75)\n",
    "ols = LinearRegression(fit_intercept=True).fit(x_trunc_norm, emp_stand_y_trunc)\n",
    "data = np.linspace(-1, 1, 100).reshape(100, 1)\n",
    "plt.plot(data, ols.predict(data), color='r', label='ols')\n",
    "plt.plot(data, gt_emp_stand.predict(data), color='blue', label='gt')\n",
    "plt.plot(data, res(Tensor(data)).detach().numpy(), label='unknown', color='green')\n",
    "plt.legend()"
   ]
  },
  {
   "cell_type": "code",
   "execution_count": 178,
   "metadata": {},
   "outputs": [
    {
     "data": {
      "text/plain": [
       "(tensor([[0.6430]], grad_fn=<MulBackward0>),\n",
       " tensor([[-0.3385]], grad_fn=<MulBackward0>),\n",
       " tensor([[3.0902]], grad_fn=<InverseBackward>))"
      ]
     },
     "execution_count": 178,
     "metadata": {},
     "output_type": "execute_result"
    }
   ],
   "source": [
    "w_ = res.weight * res.lambda_.inverse()\n",
    "w0_ = res.bias * res.lambda_.inverse()\n",
    "sigma2 = res.lambda_.inverse()\n",
    "w_, w0_, sigma2"
   ]
  },
  {
   "cell_type": "code",
   "execution_count": 179,
   "metadata": {},
   "outputs": [
    {
     "data": {
      "text/plain": [
       "(tensor([[0.0991]]), tensor([0.0915]))"
      ]
     },
     "execution_count": 179,
     "metadata": {},
     "output_type": "execute_result"
    }
   ],
   "source": [
    "w_trans, w0_trans = ((Tensor(gt_emp_stand.coef_) * ch.sqrt(emp_noise_var)) / beta), Tensor(gt_emp_stand.intercept_) * ch.sqrt(emp_noise_var)\n",
    "w_trans, w0_trans"
   ]
  },
  {
   "cell_type": "code",
   "execution_count": 181,
   "metadata": {},
   "outputs": [
    {
     "data": {
      "text/plain": [
       "(array([[0.09909208]], dtype=float32), tensor([[0.0991]]), tensor([[0.0991]]))"
      ]
     },
     "execution_count": 181,
     "metadata": {},
     "output_type": "execute_result"
    }
   ],
   "source": [
    "gt_ols.coef_, w_trans, (Tensor(gt_emp_stand.coef_) * ch.sqrt(emp_noise_var)) / beta"
   ]
  },
  {
   "cell_type": "code",
   "execution_count": 182,
   "metadata": {},
   "outputs": [
    {
     "data": {
      "text/plain": [
       "[<matplotlib.lines.Line2D at 0x7f3be8336080>]"
      ]
     },
     "execution_count": 182,
     "metadata": {},
     "output_type": "execute_result"
    },
    {
     "data": {
      "image/png": "[encoded data removed]",
      "text/plain": [
       "<Figure size 432x288 with 1 Axes>"
      ]
     },
     "metadata": {
      "needs_background": "light"
     },
     "output_type": "display_data"
    }
   ],
   "source": [
    "plt.plot(data, gt_ols.predict(data), color='blue')\n",
    "plt.plot(data, Tensor(data)@w_trans + w0_trans, color='green')"
   ]
  },
  {
   "cell_type": "markdown",
   "metadata": {},
   "source": [
    "# Truncate at Zero and Run for High Variance"
   ]
  },
  {
   "cell_type": "code",
   "execution_count": 183,
   "metadata": {},
   "outputs": [],
   "source": [
    "def generate_data(phi, d, w_lower, w_upper, x_lower, x_upper, noise_var, samples=10000, k=1): \n",
    "    \"\"\"\n",
    "    :param phi: truncation mechanism\n",
    "    :param d: number of dimensions\n",
    "    :param w_lower: lower bound for Uniform distribution for weight ground-truth\n",
    "    :param w_upper: upper bound for Uniform distribution for weight ground-truth\n",
    "    :param x_lower: lower bound for Uniform distribution for input features\n",
    "    :param x_upper: upper bound for Uniform distribution for input features\n",
    "    :param noise_var: (float) noise variance scale to noise regression\n",
    "    :param samples: (int) number of samples to generate for gorund truth\n",
    "    :param k: number of output logits\n",
    "    :returns dictionary with X, y, x_trunc, y_trunc, and ground-truth layer\n",
    "    \"\"\"\n",
    "\n",
    "    # distribution for generating feature vectors\n",
    "    w = Uniform(w_lower, w_upper)\n",
    "    dist = Uniform(x_lower, x_upper)\n",
    "    \n",
    "    # generate ground truth\n",
    "    gt = ch.nn.Linear(in_features=d, out_features=k)\n",
    "    gt.weight = ch.nn.Parameter(w.sample(ch.Size([k, d])))\n",
    "    gt.bias = ch.nn.Parameter(w.sample(ch.Size([1, 1]))) if args.bias else None\n",
    "\n",
    "    # create base classifier\n",
    "    with ch.no_grad():\n",
    "        # generate data\n",
    "        X = dist.sample(ch.Size([args.samples, d]))\n",
    "        y = gt(X)\n",
    "        \n",
    "    # remove synthetic data from the computation graph\n",
    "    with ch.no_grad():\n",
    "        # add noise to ground-truth pedictions\n",
    "        noised = y + ch.sqrt(Tensor([noise_var])) * ch.randn(X.size(0), 1)\n",
    "        # truncate based off of the standardized data\n",
    "        indices = phi(noised).nonzero(as_tuple=False).flatten()\n",
    "        y_trunc, x_trunc = noised[indices], X[indices]\n",
    "        alpha = Tensor([y_trunc.size(0) / args.samples])\n",
    "    return {'X': X, 'y': noised, 'x_trunc': x_trunc, 'y_trunc': y_trunc, 'gt': gt}"
   ]
  },
  {
   "cell_type": "code",
   "execution_count": 184,
   "metadata": {},
   "outputs": [],
   "source": [
    "phi = Left(Tensor([0]))\n",
    "k = 1 # output logits\n",
    "d = 1 # dimensions \n",
    "w_lower, w_upper, = -1, 1\n",
    "x_lower, x_upper = -10, 10\n",
    "\n",
    "args.__setattr__('out_dir', '/home/pstefanou/Regression/VaryingNoiseVar')"
   ]
  },
  {
   "cell_type": "code",
   "execution_count": null,
   "metadata": {},
   "outputs": [
    {
     "name": "stdout",
     "output_type": "stream",
     "text": [
      "Logging in: /home/pstefanou/Regression/VaryingNoiseVar/f5341919-dc6a-4e7a-b756-5366086fd69d\n"
     ]
    },
    {
     "name": "stderr",
     "output_type": "stream",
     "text": [
      "/home/pstefanou/.local/lib/python3.6/site-packages/torch/nn/modules/loss.py:528: UserWarning: Using a target size (torch.Size([1])) that is different to the input size (torch.Size([1, 1])). This will likely lead to incorrect results due to broadcasting. Please ensure they have the same size.\n",
      "  return F.mse_loss(input, target, reduction=self.reduction)\n"
     ]
    },
    {
     "data": {
      "application/vnd.jupyter.widget-view+json": {
       "model_id": "",
       "version_major": 2,
       "version_minor": 0
      },
      "text/plain": [
       "  0%|          | 0/9 [00:00<?, ?it/s]"
      ]
     },
     "metadata": {},
     "output_type": "display_data"
    },
    {
     "data": {
      "application/vnd.jupyter.widget-view+json": {
       "model_id": "",
       "version_major": 2,
       "version_minor": 0
      },
      "text/plain": [
       "  0%|          | 0/9 [00:00<?, ?it/s]"
      ]
     },
     "metadata": {},
     "output_type": "display_data"
    },
    {
     "data": {
      "application/vnd.jupyter.widget-view+json": {
       "model_id": "",
       "version_major": 2,
       "version_minor": 0
      },
      "text/plain": [
       "  0%|          | 0/9 [00:00<?, ?it/s]"
      ]
     },
     "metadata": {},
     "output_type": "display_data"
    },
    {
     "data": {
      "application/vnd.jupyter.widget-view+json": {
       "model_id": "",
       "version_major": 2,
       "version_minor": 0
      },
      "text/plain": [
       "  0%|          | 0/9 [00:00<?, ?it/s]"
      ]
     },
     "metadata": {},
     "output_type": "display_data"
    },
    {
     "data": {
      "application/vnd.jupyter.widget-view+json": {
       "model_id": "",
       "version_major": 2,
       "version_minor": 0
      },
      "text/plain": [
       "  0%|          | 0/9 [00:00<?, ?it/s]"
      ]
     },
     "metadata": {},
     "output_type": "display_data"
    },
    {
     "data": {
      "application/vnd.jupyter.widget-view+json": {
       "model_id": "",
       "version_major": 2,
       "version_minor": 0
      },
      "text/plain": [
       "  0%|          | 0/9 [00:00<?, ?it/s]"
      ]
     },
     "metadata": {},
     "output_type": "display_data"
    },
    {
     "data": {
      "application/vnd.jupyter.widget-view+json": {
       "model_id": "",
       "version_major": 2,
       "version_minor": 0
      },
      "text/plain": [
       "  0%|          | 0/9 [00:00<?, ?it/s]"
      ]
     },
     "metadata": {},
     "output_type": "display_data"
    },
    {
     "data": {
      "application/vnd.jupyter.widget-view+json": {
       "model_id": "",
       "version_major": 2,
       "version_minor": 0
      },
      "text/plain": [
       "  0%|          | 0/9 [00:00<?, ?it/s]"
      ]
     },
     "metadata": {},
     "output_type": "display_data"
    },
    {
     "data": {
      "application/vnd.jupyter.widget-view+json": {
       "model_id": "",
       "version_major": 2,
       "version_minor": 0
      },
      "text/plain": [
       "  0%|          | 0/9 [00:00<?, ?it/s]"
      ]
     },
     "metadata": {},
     "output_type": "display_data"
    },
    {
     "data": {
      "application/vnd.jupyter.widget-view+json": {
       "model_id": "",
       "version_major": 2,
       "version_minor": 0
      },
      "text/plain": [
       "  0%|          | 0/9 [00:00<?, ?it/s]"
      ]
     },
     "metadata": {},
     "output_type": "display_data"
    },
    {
     "data": {
      "application/vnd.jupyter.widget-view+json": {
       "model_id": "",
       "version_major": 2,
       "version_minor": 0
      },
      "text/plain": [
       "  0%|          | 0/9 [00:00<?, ?it/s]"
      ]
     },
     "metadata": {},
     "output_type": "display_data"
    },
    {
     "data": {
      "application/vnd.jupyter.widget-view+json": {
       "model_id": "",
       "version_major": 2,
       "version_minor": 0
      },
      "text/plain": [
       "  0%|          | 0/9 [00:00<?, ?it/s]"
      ]
     },
     "metadata": {},
     "output_type": "display_data"
    },
    {
     "data": {
      "application/vnd.jupyter.widget-view+json": {
       "model_id": "",
       "version_major": 2,
       "version_minor": 0
      },
      "text/plain": [
       "  0%|          | 0/9 [00:00<?, ?it/s]"
      ]
     },
     "metadata": {},
     "output_type": "display_data"
    },
    {
     "data": {
      "application/vnd.jupyter.widget-view+json": {
       "model_id": "",
       "version_major": 2,
       "version_minor": 0
      },
      "text/plain": [
       "  0%|          | 0/9 [00:00<?, ?it/s]"
      ]
     },
     "metadata": {},
     "output_type": "display_data"
    },
    {
     "data": {
      "application/vnd.jupyter.widget-view+json": {
       "model_id": "",
       "version_major": 2,
       "version_minor": 0
      },
      "text/plain": [
       "  0%|          | 0/9 [00:00<?, ?it/s]"
      ]
     },
     "metadata": {},
     "output_type": "display_data"
    },
    {
     "data": {
      "application/vnd.jupyter.widget-view+json": {
       "model_id": "",
       "version_major": 2,
       "version_minor": 0
      },
      "text/plain": [
       "  0%|          | 0/9 [00:00<?, ?it/s]"
      ]
     },
     "metadata": {},
     "output_type": "display_data"
    },
    {
     "data": {
      "application/vnd.jupyter.widget-view+json": {
       "model_id": "",
       "version_major": 2,
       "version_minor": 0
      },
      "text/plain": [
       "  0%|          | 0/9 [00:00<?, ?it/s]"
      ]
     },
     "metadata": {},
     "output_type": "display_data"
    },
    {
     "data": {
      "application/vnd.jupyter.widget-view+json": {
       "model_id": "",
       "version_major": 2,
       "version_minor": 0
      },
      "text/plain": [
       "  0%|          | 0/9 [00:00<?, ?it/s]"
      ]
     },
     "metadata": {},
     "output_type": "display_data"
    },
    {
     "data": {
      "application/vnd.jupyter.widget-view+json": {
       "model_id": "",
       "version_major": 2,
       "version_minor": 0
      },
      "text/plain": [
       "  0%|          | 0/9 [00:00<?, ?it/s]"
      ]
     },
     "metadata": {},
     "output_type": "display_data"
    },
    {
     "data": {
      "application/vnd.jupyter.widget-view+json": {
       "model_id": "",
       "version_major": 2,
       "version_minor": 0
      },
      "text/plain": [
       "  0%|          | 0/9 [00:00<?, ?it/s]"
      ]
     },
     "metadata": {},
     "output_type": "display_data"
    },
    {
     "data": {
      "application/vnd.jupyter.widget-view+json": {
       "model_id": "",
       "version_major": 2,
       "version_minor": 0
      },
      "text/plain": [
       "  0%|          | 0/9 [00:00<?, ?it/s]"
      ]
     },
     "metadata": {},
     "output_type": "display_data"
    },
    {
     "data": {
      "application/vnd.jupyter.widget-view+json": {
       "model_id": "",
       "version_major": 2,
       "version_minor": 0
      },
      "text/plain": [
       "  0%|          | 0/9 [00:00<?, ?it/s]"
      ]
     },
     "metadata": {},
     "output_type": "display_data"
    },
    {
     "data": {
      "application/vnd.jupyter.widget-view+json": {
       "model_id": "",
       "version_major": 2,
       "version_minor": 0
      },
      "text/plain": [
       "  0%|          | 0/9 [00:00<?, ?it/s]"
      ]
     },
     "metadata": {},
     "output_type": "display_data"
    },
    {
     "data": {
      "application/vnd.jupyter.widget-view+json": {
       "model_id": "",
       "version_major": 2,
       "version_minor": 0
      },
      "text/plain": [
       "  0%|          | 0/9 [00:00<?, ?it/s]"
      ]
     },
     "metadata": {},
     "output_type": "display_data"
    },
    {
     "data": {
      "application/vnd.jupyter.widget-view+json": {
       "model_id": "",
       "version_major": 2,
       "version_minor": 0
      },
      "text/plain": [
       "  0%|          | 0/9 [00:00<?, ?it/s]"
      ]
     },
     "metadata": {},
     "output_type": "display_data"
    },
    {
     "data": {
      "application/vnd.jupyter.widget-view+json": {
       "model_id": "",
       "version_major": 2,
       "version_minor": 0
      },
      "text/plain": [
       "  0%|          | 0/9 [00:00<?, ?it/s]"
      ]
     },
     "metadata": {},
     "output_type": "display_data"
    },
    {
     "data": {
      "application/vnd.jupyter.widget-view+json": {
       "model_id": "",
       "version_major": 2,
       "version_minor": 0
      },
      "text/plain": [
       "  0%|          | 0/9 [00:00<?, ?it/s]"
      ]
     },
     "metadata": {},
     "output_type": "display_data"
    },
    {
     "data": {
      "application/vnd.jupyter.widget-view+json": {
       "model_id": "",
       "version_major": 2,
       "version_minor": 0
      },
      "text/plain": [
       "  0%|          | 0/9 [00:00<?, ?it/s]"
      ]
     },
     "metadata": {},
     "output_type": "display_data"
    },
    {
     "data": {
      "application/vnd.jupyter.widget-view+json": {
       "model_id": "",
       "version_major": 2,
       "version_minor": 0
      },
      "text/plain": [
       "  0%|          | 0/9 [00:00<?, ?it/s]"
      ]
     },
     "metadata": {},
     "output_type": "display_data"
    },
    {
     "data": {
      "application/vnd.jupyter.widget-view+json": {
       "model_id": "",
       "version_major": 2,
       "version_minor": 0
      },
      "text/plain": [
       "  0%|          | 0/9 [00:00<?, ?it/s]"
      ]
     },
     "metadata": {},
     "output_type": "display_data"
    },
    {
     "data": {
      "application/vnd.jupyter.widget-view+json": {
       "model_id": "",
       "version_major": 2,
       "version_minor": 0
      },
      "text/plain": [
       "  0%|          | 0/9 [00:00<?, ?it/s]"
      ]
     },
     "metadata": {},
     "output_type": "display_data"
    },
    {
     "data": {
      "application/vnd.jupyter.widget-view+json": {
       "model_id": "",
       "version_major": 2,
       "version_minor": 0
      },
      "text/plain": [
       "  0%|          | 0/9 [00:00<?, ?it/s]"
      ]
     },
     "metadata": {},
     "output_type": "display_data"
    },
    {
     "data": {
      "application/vnd.jupyter.widget-view+json": {
       "model_id": "",
       "version_major": 2,
       "version_minor": 0
      },
      "text/plain": [
       "  0%|          | 0/9 [00:00<?, ?it/s]"
      ]
     },
     "metadata": {},
     "output_type": "display_data"
    },
    {
     "data": {
      "application/vnd.jupyter.widget-view+json": {
       "model_id": "",
       "version_major": 2,
       "version_minor": 0
      },
      "text/plain": [
       "  0%|          | 0/9 [00:00<?, ?it/s]"
      ]
     },
     "metadata": {},
     "output_type": "display_data"
    },
    {
     "data": {
      "application/vnd.jupyter.widget-view+json": {
       "model_id": "",
       "version_major": 2,
       "version_minor": 0
      },
      "text/plain": [
       "  0%|          | 0/9 [00:00<?, ?it/s]"
      ]
     },
     "metadata": {},
     "output_type": "display_data"
    },
    {
     "data": {
      "application/vnd.jupyter.widget-view+json": {
       "model_id": "",
       "version_major": 2,
       "version_minor": 0
      },
      "text/plain": [
       "  0%|          | 0/9 [00:00<?, ?it/s]"
      ]
     },
     "metadata": {},
     "output_type": "display_data"
    },
    {
     "data": {
      "application/vnd.jupyter.widget-view+json": {
       "model_id": "",
       "version_major": 2,
       "version_minor": 0
      },
      "text/plain": [
       "  0%|          | 0/9 [00:00<?, ?it/s]"
      ]
     },
     "metadata": {},
     "output_type": "display_data"
    },
    {
     "data": {
      "application/vnd.jupyter.widget-view+json": {
       "model_id": "",
       "version_major": 2,
       "version_minor": 0
      },
      "text/plain": [
       "  0%|          | 0/9 [00:00<?, ?it/s]"
      ]
     },
     "metadata": {},
     "output_type": "display_data"
    },
    {
     "data": {
      "application/vnd.jupyter.widget-view+json": {
       "model_id": "",
       "version_major": 2,
       "version_minor": 0
      },
      "text/plain": [
       "  0%|          | 0/9 [00:00<?, ?it/s]"
      ]
     },
     "metadata": {},
     "output_type": "display_data"
    },
    {
     "data": {
      "application/vnd.jupyter.widget-view+json": {
       "model_id": "",
       "version_major": 2,
       "version_minor": 0
      },
      "text/plain": [
       "  0%|          | 0/9 [00:00<?, ?it/s]"
      ]
     },
     "metadata": {},
     "output_type": "display_data"
    },
    {
     "data": {
      "application/vnd.jupyter.widget-view+json": {
       "model_id": "",
       "version_major": 2,
       "version_minor": 0
      },
      "text/plain": [
       "  0%|          | 0/9 [00:00<?, ?it/s]"
      ]
     },
     "metadata": {},
     "output_type": "display_data"
    },
    {
     "data": {
      "application/vnd.jupyter.widget-view+json": {
       "model_id": "",
       "version_major": 2,
       "version_minor": 0
      },
      "text/plain": [
       "  0%|          | 0/9 [00:00<?, ?it/s]"
      ]
     },
     "metadata": {},
     "output_type": "display_data"
    },
    {
     "data": {
      "application/vnd.jupyter.widget-view+json": {
       "model_id": "",
       "version_major": 2,
       "version_minor": 0
      },
      "text/plain": [
       "  0%|          | 0/9 [00:00<?, ?it/s]"
      ]
     },
     "metadata": {},
     "output_type": "display_data"
    },
    {
     "data": {
      "application/vnd.jupyter.widget-view+json": {
       "model_id": "",
       "version_major": 2,
       "version_minor": 0
      },
      "text/plain": [
       "  0%|          | 0/9 [00:00<?, ?it/s]"
      ]
     },
     "metadata": {},
     "output_type": "display_data"
    },
    {
     "data": {
      "application/vnd.jupyter.widget-view+json": {
       "model_id": "",
       "version_major": 2,
       "version_minor": 0
      },
      "text/plain": [
       "  0%|          | 0/9 [00:00<?, ?it/s]"
      ]
     },
     "metadata": {},
     "output_type": "display_data"
    },
    {
     "data": {
      "application/vnd.jupyter.widget-view+json": {
       "model_id": "",
       "version_major": 2,
       "version_minor": 0
      },
      "text/plain": [
       "  0%|          | 0/9 [00:00<?, ?it/s]"
      ]
     },
     "metadata": {},
     "output_type": "display_data"
    },
    {
     "data": {
      "application/vnd.jupyter.widget-view+json": {
       "model_id": "",
       "version_major": 2,
       "version_minor": 0
      },
      "text/plain": [
       "  0%|          | 0/9 [00:00<?, ?it/s]"
      ]
     },
     "metadata": {},
     "output_type": "display_data"
    },
    {
     "data": {
      "application/vnd.jupyter.widget-view+json": {
       "model_id": "",
       "version_major": 2,
       "version_minor": 0
      },
      "text/plain": [
       "  0%|          | 0/9 [00:00<?, ?it/s]"
      ]
     },
     "metadata": {},
     "output_type": "display_data"
    },
    {
     "data": {
      "application/vnd.jupyter.widget-view+json": {
       "model_id": "",
       "version_major": 2,
       "version_minor": 0
      },
      "text/plain": [
       "  0%|          | 0/9 [00:00<?, ?it/s]"
      ]
     },
     "metadata": {},
     "output_type": "display_data"
    },
    {
     "data": {
      "application/vnd.jupyter.widget-view+json": {
       "model_id": "",
       "version_major": 2,
       "version_minor": 0
      },
      "text/plain": [
       "  0%|          | 0/9 [00:00<?, ?it/s]"
      ]
     },
     "metadata": {},
     "output_type": "display_data"
    },
    {
     "data": {
      "application/vnd.jupyter.widget-view+json": {
       "model_id": "",
       "version_major": 2,
       "version_minor": 0
      },
      "text/plain": [
       "  0%|          | 0/9 [00:00<?, ?it/s]"
      ]
     },
     "metadata": {},
     "output_type": "display_data"
    },
    {
     "data": {
      "application/vnd.jupyter.widget-view+json": {
       "model_id": "",
       "version_major": 2,
       "version_minor": 0
      },
      "text/plain": [
       "  0%|          | 0/9 [00:00<?, ?it/s]"
      ]
     },
     "metadata": {},
     "output_type": "display_data"
    },
    {
     "data": {
      "application/vnd.jupyter.widget-view+json": {
       "model_id": "",
       "version_major": 2,
       "version_minor": 0
      },
      "text/plain": [
       "  0%|          | 0/9 [00:00<?, ?it/s]"
      ]
     },
     "metadata": {},
     "output_type": "display_data"
    },
    {
     "data": {
      "application/vnd.jupyter.widget-view+json": {
       "model_id": "",
       "version_major": 2,
       "version_minor": 0
      },
      "text/plain": [
       "  0%|          | 0/9 [00:00<?, ?it/s]"
      ]
     },
     "metadata": {},
     "output_type": "display_data"
    },
    {
     "data": {
      "application/vnd.jupyter.widget-view+json": {
       "model_id": "",
       "version_major": 2,
       "version_minor": 0
      },
      "text/plain": [
       "  0%|          | 0/9 [00:00<?, ?it/s]"
      ]
     },
     "metadata": {},
     "output_type": "display_data"
    },
    {
     "data": {
      "application/vnd.jupyter.widget-view+json": {
       "model_id": "",
       "version_major": 2,
       "version_minor": 0
      },
      "text/plain": [
       "  0%|          | 0/9 [00:00<?, ?it/s]"
      ]
     },
     "metadata": {},
     "output_type": "display_data"
    },
    {
     "data": {
      "application/vnd.jupyter.widget-view+json": {
       "model_id": "",
       "version_major": 2,
       "version_minor": 0
      },
      "text/plain": [
       "  0%|          | 0/9 [00:00<?, ?it/s]"
      ]
     },
     "metadata": {},
     "output_type": "display_data"
    },
    {
     "data": {
      "application/vnd.jupyter.widget-view+json": {
       "model_id": "",
       "version_major": 2,
       "version_minor": 0
      },
      "text/plain": [
       "  0%|          | 0/9 [00:00<?, ?it/s]"
      ]
     },
     "metadata": {},
     "output_type": "display_data"
    },
    {
     "data": {
      "application/vnd.jupyter.widget-view+json": {
       "model_id": "",
       "version_major": 2,
       "version_minor": 0
      },
      "text/plain": [
       "  0%|          | 0/9 [00:00<?, ?it/s]"
      ]
     },
     "metadata": {},
     "output_type": "display_data"
    },
    {
     "data": {
      "application/vnd.jupyter.widget-view+json": {
       "model_id": "",
       "version_major": 2,
       "version_minor": 0
      },
      "text/plain": [
       "  0%|          | 0/9 [00:00<?, ?it/s]"
      ]
     },
     "metadata": {},
     "output_type": "display_data"
    },
    {
     "data": {
      "application/vnd.jupyter.widget-view+json": {
       "model_id": "",
       "version_major": 2,
       "version_minor": 0
      },
      "text/plain": [
       "  0%|          | 0/9 [00:00<?, ?it/s]"
      ]
     },
     "metadata": {},
     "output_type": "display_data"
    },
    {
     "data": {
      "application/vnd.jupyter.widget-view+json": {
       "model_id": "",
       "version_major": 2,
       "version_minor": 0
      },
      "text/plain": [
       "  0%|          | 0/9 [00:00<?, ?it/s]"
      ]
     },
     "metadata": {},
     "output_type": "display_data"
    },
    {
     "data": {
      "application/vnd.jupyter.widget-view+json": {
       "model_id": "",
       "version_major": 2,
       "version_minor": 0
      },
      "text/plain": [
       "  0%|          | 0/9 [00:00<?, ?it/s]"
      ]
     },
     "metadata": {},
     "output_type": "display_data"
    },
    {
     "data": {
      "application/vnd.jupyter.widget-view+json": {
       "model_id": "",
       "version_major": 2,
       "version_minor": 0
      },
      "text/plain": [
       "  0%|          | 0/9 [00:00<?, ?it/s]"
      ]
     },
     "metadata": {},
     "output_type": "display_data"
    },
    {
     "data": {
      "application/vnd.jupyter.widget-view+json": {
       "model_id": "",
       "version_major": 2,
       "version_minor": 0
      },
      "text/plain": [
       "  0%|          | 0/9 [00:00<?, ?it/s]"
      ]
     },
     "metadata": {},
     "output_type": "display_data"
    },
    {
     "data": {
      "application/vnd.jupyter.widget-view+json": {
       "model_id": "",
       "version_major": 2,
       "version_minor": 0
      },
      "text/plain": [
       "  0%|          | 0/9 [00:00<?, ?it/s]"
      ]
     },
     "metadata": {},
     "output_type": "display_data"
    },
    {
     "data": {
      "application/vnd.jupyter.widget-view+json": {
       "model_id": "",
       "version_major": 2,
       "version_minor": 0
      },
      "text/plain": [
       "  0%|          | 0/9 [00:00<?, ?it/s]"
      ]
     },
     "metadata": {},
     "output_type": "display_data"
    },
    {
     "data": {
      "application/vnd.jupyter.widget-view+json": {
       "model_id": "",
       "version_major": 2,
       "version_minor": 0
      },
      "text/plain": [
       "  0%|          | 0/9 [00:00<?, ?it/s]"
      ]
     },
     "metadata": {},
     "output_type": "display_data"
    },
    {
     "data": {
      "application/vnd.jupyter.widget-view+json": {
       "model_id": "",
       "version_major": 2,
       "version_minor": 0
      },
      "text/plain": [
       "  0%|          | 0/9 [00:00<?, ?it/s]"
      ]
     },
     "metadata": {},
     "output_type": "display_data"
    },
    {
     "data": {
      "application/vnd.jupyter.widget-view+json": {
       "model_id": "",
       "version_major": 2,
       "version_minor": 0
      },
      "text/plain": [
       "  0%|          | 0/9 [00:00<?, ?it/s]"
      ]
     },
     "metadata": {},
     "output_type": "display_data"
    },
    {
     "data": {
      "application/vnd.jupyter.widget-view+json": {
       "model_id": "",
       "version_major": 2,
       "version_minor": 0
      },
      "text/plain": [
       "  0%|          | 0/9 [00:00<?, ?it/s]"
      ]
     },
     "metadata": {},
     "output_type": "display_data"
    },
    {
     "data": {
      "application/vnd.jupyter.widget-view+json": {
       "model_id": "",
       "version_major": 2,
       "version_minor": 0
      },
      "text/plain": [
       "  0%|          | 0/9 [00:00<?, ?it/s]"
      ]
     },
     "metadata": {},
     "output_type": "display_data"
    },
    {
     "data": {
      "application/vnd.jupyter.widget-view+json": {
       "model_id": "",
       "version_major": 2,
       "version_minor": 0
      },
      "text/plain": [
       "  0%|          | 0/9 [00:00<?, ?it/s]"
      ]
     },
     "metadata": {},
     "output_type": "display_data"
    },
    {
     "data": {
      "application/vnd.jupyter.widget-view+json": {
       "model_id": "",
       "version_major": 2,
       "version_minor": 0
      },
      "text/plain": [
       "  0%|          | 0/9 [00:00<?, ?it/s]"
      ]
     },
     "metadata": {},
     "output_type": "display_data"
    },
    {
     "data": {
      "application/vnd.jupyter.widget-view+json": {
       "model_id": "",
       "version_major": 2,
       "version_minor": 0
      },
      "text/plain": [
       "  0%|          | 0/9 [00:00<?, ?it/s]"
      ]
     },
     "metadata": {},
     "output_type": "display_data"
    },
    {
     "data": {
      "application/vnd.jupyter.widget-view+json": {
       "model_id": "",
       "version_major": 2,
       "version_minor": 0
      },
      "text/plain": [
       "  0%|          | 0/9 [00:00<?, ?it/s]"
      ]
     },
     "metadata": {},
     "output_type": "display_data"
    },
    {
     "data": {
      "application/vnd.jupyter.widget-view+json": {
       "model_id": "",
       "version_major": 2,
       "version_minor": 0
      },
      "text/plain": [
       "  0%|          | 0/9 [00:00<?, ?it/s]"
      ]
     },
     "metadata": {},
     "output_type": "display_data"
    },
    {
     "data": {
      "application/vnd.jupyter.widget-view+json": {
       "model_id": "",
       "version_major": 2,
       "version_minor": 0
      },
      "text/plain": [
       "  0%|          | 0/9 [00:00<?, ?it/s]"
      ]
     },
     "metadata": {},
     "output_type": "display_data"
    },
    {
     "data": {
      "application/vnd.jupyter.widget-view+json": {
       "model_id": "",
       "version_major": 2,
       "version_minor": 0
      },
      "text/plain": [
       "  0%|          | 0/9 [00:00<?, ?it/s]"
      ]
     },
     "metadata": {},
     "output_type": "display_data"
    },
    {
     "data": {
      "application/vnd.jupyter.widget-view+json": {
       "model_id": "",
       "version_major": 2,
       "version_minor": 0
      },
      "text/plain": [
       "  0%|          | 0/9 [00:00<?, ?it/s]"
      ]
     },
     "metadata": {},
     "output_type": "display_data"
    },
    {
     "data": {
      "application/vnd.jupyter.widget-view+json": {
       "model_id": "",
       "version_major": 2,
       "version_minor": 0
      },
      "text/plain": [
       "  0%|          | 0/9 [00:00<?, ?it/s]"
      ]
     },
     "metadata": {},
     "output_type": "display_data"
    },
    {
     "data": {
      "application/vnd.jupyter.widget-view+json": {
       "model_id": "",
       "version_major": 2,
       "version_minor": 0
      },
      "text/plain": [
       "  0%|          | 0/9 [00:00<?, ?it/s]"
      ]
     },
     "metadata": {},
     "output_type": "display_data"
    },
    {
     "data": {
      "application/vnd.jupyter.widget-view+json": {
       "model_id": "",
       "version_major": 2,
       "version_minor": 0
      },
      "text/plain": [
       "  0%|          | 0/9 [00:00<?, ?it/s]"
      ]
     },
     "metadata": {},
     "output_type": "display_data"
    },
    {
     "data": {
      "application/vnd.jupyter.widget-view+json": {
       "model_id": "",
       "version_major": 2,
       "version_minor": 0
      },
      "text/plain": [
       "  0%|          | 0/9 [00:00<?, ?it/s]"
      ]
     },
     "metadata": {},
     "output_type": "display_data"
    },
    {
     "data": {
      "application/vnd.jupyter.widget-view+json": {
       "model_id": "",
       "version_major": 2,
       "version_minor": 0
      },
      "text/plain": [
       "  0%|          | 0/9 [00:00<?, ?it/s]"
      ]
     },
     "metadata": {},
     "output_type": "display_data"
    },
    {
     "data": {
      "application/vnd.jupyter.widget-view+json": {
       "model_id": "",
       "version_major": 2,
       "version_minor": 0
      },
      "text/plain": [
       "  0%|          | 0/9 [00:00<?, ?it/s]"
      ]
     },
     "metadata": {},
     "output_type": "display_data"
    },
    {
     "data": {
      "application/vnd.jupyter.widget-view+json": {
       "model_id": "",
       "version_major": 2,
       "version_minor": 0
      },
      "text/plain": [
       "  0%|          | 0/9 [00:00<?, ?it/s]"
      ]
     },
     "metadata": {},
     "output_type": "display_data"
    },
    {
     "data": {
      "application/vnd.jupyter.widget-view+json": {
       "model_id": "",
       "version_major": 2,
       "version_minor": 0
      },
      "text/plain": [
       "  0%|          | 0/9 [00:00<?, ?it/s]"
      ]
     },
     "metadata": {},
     "output_type": "display_data"
    },
    {
     "data": {
      "application/vnd.jupyter.widget-view+json": {
       "model_id": "",
       "version_major": 2,
       "version_minor": 0
      },
      "text/plain": [
       "  0%|          | 0/9 [00:00<?, ?it/s]"
      ]
     },
     "metadata": {},
     "output_type": "display_data"
    },
    {
     "data": {
      "application/vnd.jupyter.widget-view+json": {
       "model_id": "",
       "version_major": 2,
       "version_minor": 0
      },
      "text/plain": [
       "  0%|          | 0/9 [00:00<?, ?it/s]"
      ]
     },
     "metadata": {},
     "output_type": "display_data"
    },
    {
     "data": {
      "application/vnd.jupyter.widget-view+json": {
       "model_id": "",
       "version_major": 2,
       "version_minor": 0
      },
      "text/plain": [
       "  0%|          | 0/9 [00:00<?, ?it/s]"
      ]
     },
     "metadata": {},
     "output_type": "display_data"
    },
    {
     "data": {
      "application/vnd.jupyter.widget-view+json": {
       "model_id": "",
       "version_major": 2,
       "version_minor": 0
      },
      "text/plain": [
       "  0%|          | 0/9 [00:00<?, ?it/s]"
      ]
     },
     "metadata": {},
     "output_type": "display_data"
    },
    {
     "data": {
      "application/vnd.jupyter.widget-view+json": {
       "model_id": "",
       "version_major": 2,
       "version_minor": 0
      },
      "text/plain": [
       "  0%|          | 0/9 [00:00<?, ?it/s]"
      ]
     },
     "metadata": {},
     "output_type": "display_data"
    },
    {
     "data": {
      "application/vnd.jupyter.widget-view+json": {
       "model_id": "",
       "version_major": 2,
       "version_minor": 0
      },
      "text/plain": [
       "  0%|          | 0/9 [00:00<?, ?it/s]"
      ]
     },
     "metadata": {},
     "output_type": "display_data"
    },
    {
     "data": {
      "application/vnd.jupyter.widget-view+json": {
       "model_id": "",
       "version_major": 2,
       "version_minor": 0
      },
      "text/plain": [
       "  0%|          | 0/9 [00:00<?, ?it/s]"
      ]
     },
     "metadata": {},
     "output_type": "display_data"
    },
    {
     "data": {
      "application/vnd.jupyter.widget-view+json": {
       "model_id": "",
       "version_major": 2,
       "version_minor": 0
      },
      "text/plain": [
       "  0%|          | 0/9 [00:00<?, ?it/s]"
      ]
     },
     "metadata": {},
     "output_type": "display_data"
    },
    {
     "data": {
      "application/vnd.jupyter.widget-view+json": {
       "model_id": "",
       "version_major": 2,
       "version_minor": 0
      },
      "text/plain": [
       "  0%|          | 0/9 [00:00<?, ?it/s]"
      ]
     },
     "metadata": {},
     "output_type": "display_data"
    },
    {
     "data": {
      "application/vnd.jupyter.widget-view+json": {
       "model_id": "",
       "version_major": 2,
       "version_minor": 0
      },
      "text/plain": [
       "  0%|          | 0/9 [00:00<?, ?it/s]"
      ]
     },
     "metadata": {},
     "output_type": "display_data"
    }
   ],
   "source": [
    "for i in range(args.trials):\n",
    "    \n",
    "    # create store and add table\n",
    "    store = Store(args.out_dir)\n",
    "    store.add_table(TABLE_NAME, { \n",
    "        'ols_r2': float,\n",
    "        'ols_param_mse': float,\n",
    "        'ols_var_mse': float,\n",
    "        'known_emp_r2': float,\n",
    "        'known_emp_param_mse': float,\n",
    "        'known_emp_time': int,\n",
    "        'known_r2': float,\n",
    "        'known_param_mse': float,\n",
    "        'known_time': int,\n",
    "        'unknown_r2': float, \n",
    "        'unknown_param_mse': float,\n",
    "        'unknown_var_mse': float,\n",
    "        'unknown_time': int,\n",
    "        'alpha': float, \n",
    "        'num_samples': int,\n",
    "        'noise_scale': float, \n",
    "    })\n",
    "\n",
    "    # distribution for generating feature vectors\n",
    "    w = Uniform(w_lower, w_upper)\n",
    "    dist = Uniform(x_lower, x_upper)\n",
    "    \n",
    "    # generate ground truth\n",
    "    gt = ch.nn.Linear(in_features=d, out_features=k)\n",
    "    gt.weight = ch.nn.Parameter(w.sample(ch.Size([k, d])))\n",
    "    gt.bias = ch.nn.Parameter(w.sample(ch.Size([1, 1]))) if args.bias else None\n",
    "    \n",
    "    # create base classifier\n",
    "    with ch.no_grad():\n",
    "        # generate data\n",
    "        X = dist.sample(ch.Size([args.samples, d]))\n",
    "        y = gt(X)\n",
    "        \n",
    "    for noise_var in range(1, 20): \n",
    "        noise_var = Tensor([noise_var])\n",
    "        # add noise to ground-truth pedictions\n",
    "        noised = y + ch.sqrt(noise_var) * ch.randn(X.size(0), 1)\n",
    "        # truncate based off of the standardized data\n",
    "        indices = phi(noised).nonzero(as_tuple=False).flatten()\n",
    "        y_trunc, x_trunc = noised[indices], X[indices]\n",
    "        alpha = Tensor([y_trunc.size(0) / args.samples])\n",
    "        \n",
    "        # normalize x features so that ||x_{i}||_{2}^{2} <= 1\n",
    "        l_inf = LA.norm(x_trunc, dim=-1, ord=float('inf')).max() # find max l_inf\n",
    "        # calculate normalizing constant\n",
    "        beta = l_inf*math.sqrt(x_trunc.size(1))\n",
    "        \"\"\"\n",
    "        Divide input features by normalizing constant. By doing so, \n",
    "        the weights will be increased by a magnitude of beta.\n",
    "        \"\"\"\n",
    "        x_trunc_norm = x_trunc / beta\n",
    "         # normalize entire dataset by beta\n",
    "        x_norm = X / beta\n",
    "        \n",
    "        \n",
    "        # ground-truth ols\n",
    "        gt_ols = LinearRegression()\n",
    "        gt_ols.fit(X, noised)\n",
    "        gt_params = ch.cat([Tensor(gt_ols.coef_).T, Tensor(gt_ols.intercept_)[..., None]]) \n",
    "        \n",
    "        # empirical linear regression\n",
    "        ols = LinearRegression() \n",
    "        ols.fit(x_trunc, y_trunc)\n",
    "        ols_var = ch.var(Tensor(ols.predict(x_trunc)) - y_trunc, dim=0)[..., None]\n",
    "        ols_params = ch.cat([Tensor(ols.coef_).T, Tensor(ols.intercept_)[..., None]])\n",
    "        # check r2 for entire dataset\n",
    "        ols_pred = ols.predict(X)\n",
    "\n",
    "        # ols results\n",
    "        store[TABLE_NAME].update_row({\n",
    "            'ols_r2': r2_score(noised.flatten(), ols_pred.flatten()), \n",
    "            'ols_param_mse': mse_loss(ols_params, gt_params),\n",
    "            'ols_var_mse': mse_loss(ols_var, noise_var), \n",
    "        })\n",
    "        \n",
    "        \n",
    "        \"\"\"\n",
    "        Run dataset on truncated regression with known variance, while \n",
    "        assuming that the empirical noise variance is the underlying noise \n",
    "        variance of our linear regression. This means that we want to standardize \n",
    "        our dependent variable by the empirical noise variance. \n",
    "        \"\"\"\n",
    "        # variance of the residuals\n",
    "        emp_noise_var = (y_trunc - ols.predict(x_trunc_norm)).var(0)\n",
    "        # standardize y trunc by the empirical noise variance\n",
    "        emp_stand_y_trunc = y_trunc / ch.sqrt(emp_noise_var)\n",
    "        # standardize noised by the empirical noise variance\n",
    "        emp_stand_noised = noised / ch.sqrt(emp_noise_var)\n",
    "        \n",
    "        TruncatedRegression(phi=phi, alpha=alpha, args=args, bias=args.bias, var=ch.ones(1))\n",
    "        st = datetime.datetime.now()\n",
    "        known_emp_results = trunc_reg.fit(x_trunc_norm, emp_stand_y_trunc)\n",
    "        w, w0 = (known_emp_results.weight.detach().cpu() * ch.sqrt(emp_noise_var)) / beta, known_emp_results.bias.detach().cpu()[..., None] * ch.sqrt(emp_noise_var)\n",
    "        known_emp_params = ch.cat([w, w0])\n",
    "\n",
    "        # known emp results\n",
    "        store[TABLE_NAME].update_row({\n",
    "            'known_emp_r2': r2_score(noised.flatten(), X@w + w0), \n",
    "            'known_emp_param_mse': mse_loss(known_emp_params, gt_params),\n",
    "            'known_emp_time': int((datetime.datetime.now() - st).total_seconds()), \n",
    "        })\n",
    "        \n",
    "        \"\"\"\n",
    "        Run dataset on truncated regression with known variance. This means that we want to standardize \n",
    "        our dependent variable by the true noise variance. \n",
    "        \"\"\"\n",
    "        # standardize y trunc by the empirical noise variance\n",
    "        stand_y_trunc = y_trunc / math.sqrt(noise_var)\n",
    "        # standardize noised by the empirical noise variance\n",
    "        stand_noised = noised / math.sqrt(noise_var)\n",
    "        \n",
    "        TruncatedRegression(phi=phi, alpha=alpha, args=args, bias=args.bias, var=ch.ones(1))\n",
    "        st = datetime.datetime.now()\n",
    "        known_results = trunc_reg.fit(x_trunc_norm, stand_y_trunc)\n",
    "        w, w0 = (known_results.weight.detach().cpu() * ch.sqrt(noise_var)) / beta, known_results.bias.detach().cpu()[..., None] * ch.sqrt(noise_var)\n",
    "        known_params = ch.cat([w, w0])\n",
    "\n",
    "        # known results\n",
    "        store[TABLE_NAME].update_row({\n",
    "            'known_r2': r2_score(noised.flatten(), X@w + w0), \n",
    "            'known_param_mse': mse_loss(known_params, gt_params),\n",
    "            'known_time': int((datetime.datetime.now() - st).total_seconds()), \n",
    "        })\n",
    "        \n",
    "        # truncated regression with unknown variance\n",
    "        TruncatedRegression(phi=phi, alpha=alpha, args=args, bias=args.bias)\n",
    "        st = datetime.datetime.now()\n",
    "        unknown_results = trunc_reg.fit(x_trunc_norm, emp_stand_y_trunc)\n",
    "        w, w0 = (unknown_results.weight.detach().cpu() * ch.sqrt(emp_noise_var)) / beta, unknown_results.bias.detach().cpu()[..., None] * ch.sqrt(emp_noise_var)\n",
    "        unknown_params = ch.cat([w, w0])\n",
    "\n",
    "        # known emp results\n",
    "        store[TABLE_NAME].update_row({\n",
    "            'unknown_r2': r2_score(noised.flatten(),X@w + w0), \n",
    "            'unknown_param_mse': mse_loss(unknown_params, gt_params),\n",
    "            'unknown_time': int((datetime.datetime.now() - st).total_seconds()), \n",
    "        })\n",
    "        \n",
    "        \n",
    "        # add additional exp data to store\n",
    "        store[TABLE_NAME].update_row({ \n",
    "            'alpha': float(alpha.flatten()),\n",
    "            'num_samples': x_trunc.size(0),\n",
    "            'noise_scale': noise_var, \n",
    "        })\n",
    "\n",
    "        # append row to table\n",
    "        store[TABLE_NAME].flush_row()\n",
    "    store.close()    "
   ]
  },
  {
   "cell_type": "code",
   "execution_count": 194,
   "metadata": {},
   "outputs": [
    {
     "data": {
      "text/plain": [
       "tensor([[-1.2533],\n",
       "        [ 1.2747],\n",
       "        [-0.5106],\n",
       "        [-0.8267],\n",
       "        [ 2.9534],\n",
       "        [-0.0756],\n",
       "        [-1.7522],\n",
       "        [ 4.1547],\n",
       "        [ 3.9604],\n",
       "        [-5.6058],\n",
       "        [ 2.4862],\n",
       "        [-2.1103],\n",
       "        [ 3.2399],\n",
       "        [-0.8006],\n",
       "        [ 0.0557],\n",
       "        [ 0.6899],\n",
       "        [ 3.5657],\n",
       "        [-4.4167],\n",
       "        [-4.6276],\n",
       "        [ 2.2282],\n",
       "        [-3.0237],\n",
       "        [ 1.4504],\n",
       "        [-2.5406],\n",
       "        [-0.1194],\n",
       "        [ 3.7922],\n",
       "        [-3.1989],\n",
       "        [ 3.6746],\n",
       "        [ 3.3388],\n",
       "        [-2.1174],\n",
       "        [ 4.1249],\n",
       "        [-3.3043],\n",
       "        [ 1.6438],\n",
       "        [ 3.8144],\n",
       "        [-1.6912],\n",
       "        [-0.4422],\n",
       "        [-4.0598],\n",
       "        [-2.7292],\n",
       "        [ 2.7709],\n",
       "        [-3.5081],\n",
       "        [-4.8295],\n",
       "        [ 2.8024],\n",
       "        [-1.4665],\n",
       "        [ 0.0454],\n",
       "        [ 0.2432],\n",
       "        [ 1.7893],\n",
       "        [-3.2046],\n",
       "        [ 1.0041],\n",
       "        [ 0.9206],\n",
       "        [-5.0423],\n",
       "        [-5.3674],\n",
       "        [ 3.9784],\n",
       "        [ 0.1957],\n",
       "        [-4.2945],\n",
       "        [-2.6430],\n",
       "        [ 1.0656],\n",
       "        [-2.5633],\n",
       "        [-0.9937],\n",
       "        [ 2.0963],\n",
       "        [ 0.9739],\n",
       "        [-2.2780],\n",
       "        [ 0.4118],\n",
       "        [-2.4734],\n",
       "        [-5.1738],\n",
       "        [ 3.4042],\n",
       "        [ 0.7410],\n",
       "        [ 5.4662],\n",
       "        [-4.2516],\n",
       "        [ 1.2908],\n",
       "        [ 3.4520],\n",
       "        [ 0.5190],\n",
       "        [-4.6409],\n",
       "        [-4.2623],\n",
       "        [-1.5371],\n",
       "        [-0.2658],\n",
       "        [ 4.6555],\n",
       "        [-4.6346],\n",
       "        [-2.6526],\n",
       "        [-4.5149],\n",
       "        [-2.3155],\n",
       "        [ 4.6777],\n",
       "        [ 5.4554],\n",
       "        [ 3.1453],\n",
       "        [ 0.4922],\n",
       "        [ 0.4539],\n",
       "        [-3.9664],\n",
       "        [-5.4702],\n",
       "        [-0.1312],\n",
       "        [-4.1077],\n",
       "        [-3.7675],\n",
       "        [ 3.1502],\n",
       "        [ 4.3749],\n",
       "        [-4.7655],\n",
       "        [-3.4622],\n",
       "        [ 2.9417],\n",
       "        [-5.6060],\n",
       "        [-1.6693],\n",
       "        [ 3.5414],\n",
       "        [-1.1473],\n",
       "        [-2.7954],\n",
       "        [ 2.7532],\n",
       "        [ 2.4948],\n",
       "        [ 5.4071],\n",
       "        [ 5.4185],\n",
       "        [-0.3061],\n",
       "        [-1.8032],\n",
       "        [-0.6623],\n",
       "        [-2.8133],\n",
       "        [ 2.0258],\n",
       "        [ 3.1213],\n",
       "        [-4.2787],\n",
       "        [-3.1967],\n",
       "        [-4.0531],\n",
       "        [ 0.6577],\n",
       "        [ 2.5173],\n",
       "        [-1.1714],\n",
       "        [ 4.2662],\n",
       "        [-1.2417],\n",
       "        [-2.8300],\n",
       "        [-2.9031],\n",
       "        [ 3.1665],\n",
       "        [ 2.5532],\n",
       "        [-3.9459],\n",
       "        [ 1.9650],\n",
       "        [-2.2763],\n",
       "        [-4.7922],\n",
       "        [-0.5527],\n",
       "        [-1.2037],\n",
       "        [-2.2904],\n",
       "        [ 0.5561],\n",
       "        [ 1.9675],\n",
       "        [-1.4236],\n",
       "        [-4.9834],\n",
       "        [-5.3977],\n",
       "        [-0.6351],\n",
       "        [-2.4073],\n",
       "        [-2.2056],\n",
       "        [ 3.9579],\n",
       "        [ 0.4779],\n",
       "        [-0.0795],\n",
       "        [-0.4298],\n",
       "        [ 4.3460],\n",
       "        [ 1.9015],\n",
       "        [-4.1517],\n",
       "        [-5.5458],\n",
       "        [-1.7864],\n",
       "        [-3.7578],\n",
       "        [-2.5813],\n",
       "        [-1.5485],\n",
       "        [ 4.0664],\n",
       "        [ 1.2238],\n",
       "        [ 1.4762],\n",
       "        [ 3.2325],\n",
       "        [-1.4655],\n",
       "        [ 3.0625],\n",
       "        [ 2.7204],\n",
       "        [ 0.3524],\n",
       "        [ 2.5523],\n",
       "        [ 4.7470],\n",
       "        [-4.6587],\n",
       "        [ 3.3443],\n",
       "        [-3.7470],\n",
       "        [ 1.2502],\n",
       "        [ 1.0892],\n",
       "        [ 1.8799],\n",
       "        [ 3.5877],\n",
       "        [ 1.0950],\n",
       "        [ 5.1913],\n",
       "        [-2.6220],\n",
       "        [ 1.7152],\n",
       "        [ 3.4109],\n",
       "        [ 4.4496],\n",
       "        [-0.7682],\n",
       "        [-3.5227],\n",
       "        [-0.8383],\n",
       "        [-1.9204],\n",
       "        [ 3.7930],\n",
       "        [ 3.6074],\n",
       "        [-3.7902],\n",
       "        [-3.8615],\n",
       "        [ 2.9075],\n",
       "        [-5.3779],\n",
       "        [-3.9091],\n",
       "        [ 4.8721],\n",
       "        [-0.1231],\n",
       "        [ 0.1989],\n",
       "        [ 4.6170],\n",
       "        [ 3.0197],\n",
       "        [-5.1219],\n",
       "        [ 1.0226],\n",
       "        [ 3.7158],\n",
       "        [ 5.4865],\n",
       "        [ 3.0210],\n",
       "        [ 1.8963],\n",
       "        [ 4.4174],\n",
       "        [ 3.9558],\n",
       "        [ 4.5152],\n",
       "        [-4.8504],\n",
       "        [-5.3216],\n",
       "        [ 2.1005],\n",
       "        [-2.1354],\n",
       "        [-0.3694],\n",
       "        [-4.6875],\n",
       "        [ 2.0600],\n",
       "        [-1.7044],\n",
       "        [-0.8697],\n",
       "        [-4.0168],\n",
       "        [ 3.5940],\n",
       "        [ 0.4944],\n",
       "        [ 3.1487],\n",
       "        [ 0.6897],\n",
       "        [-0.7317],\n",
       "        [-3.5001],\n",
       "        [-3.5093],\n",
       "        [ 2.7794],\n",
       "        [ 0.3782],\n",
       "        [ 2.6066],\n",
       "        [ 1.6206],\n",
       "        [ 4.3440],\n",
       "        [-2.9252],\n",
       "        [-3.3255],\n",
       "        [-1.6702],\n",
       "        [ 3.8175],\n",
       "        [ 5.2506],\n",
       "        [ 0.4513],\n",
       "        [ 1.7715],\n",
       "        [ 5.0783],\n",
       "        [ 4.3177],\n",
       "        [-0.5829],\n",
       "        [ 4.1595],\n",
       "        [ 2.0353],\n",
       "        [ 2.6194],\n",
       "        [ 2.5926],\n",
       "        [ 0.3215],\n",
       "        [-1.6589],\n",
       "        [-1.6840],\n",
       "        [-0.8170],\n",
       "        [-1.7421],\n",
       "        [-5.1408],\n",
       "        [ 1.7473],\n",
       "        [ 4.9349],\n",
       "        [ 4.7259],\n",
       "        [-1.3839],\n",
       "        [ 0.9713],\n",
       "        [ 4.2337],\n",
       "        [-4.6558],\n",
       "        [ 4.0468],\n",
       "        [-5.4893],\n",
       "        [ 3.1638],\n",
       "        [ 4.3359],\n",
       "        [ 1.7540],\n",
       "        [-2.4954],\n",
       "        [ 0.8017],\n",
       "        [-0.8441],\n",
       "        [-4.5113],\n",
       "        [-0.9293],\n",
       "        [-0.8301],\n",
       "        [-0.6945],\n",
       "        [-4.2214],\n",
       "        [-1.9554],\n",
       "        [ 0.1201],\n",
       "        [ 4.5529],\n",
       "        [-3.0771],\n",
       "        [-1.8605],\n",
       "        [ 0.7718],\n",
       "        [ 2.4287],\n",
       "        [ 3.9788],\n",
       "        [ 2.4203],\n",
       "        [ 3.9749],\n",
       "        [-5.0628],\n",
       "        [ 4.2963],\n",
       "        [-5.1647],\n",
       "        [ 4.7140],\n",
       "        [ 3.3526],\n",
       "        [ 5.5135],\n",
       "        [-1.6250],\n",
       "        [-0.1872],\n",
       "        [-1.4159],\n",
       "        [ 3.6185],\n",
       "        [ 3.4321],\n",
       "        [ 2.8284],\n",
       "        [-0.0909],\n",
       "        [-4.2387],\n",
       "        [ 0.5645],\n",
       "        [-4.3826],\n",
       "        [ 0.3527],\n",
       "        [-0.1764],\n",
       "        [-1.5345],\n",
       "        [ 0.8106],\n",
       "        [ 1.0456],\n",
       "        [ 1.9574],\n",
       "        [-0.9377],\n",
       "        [ 5.2204],\n",
       "        [-5.1488],\n",
       "        [-2.0991],\n",
       "        [ 0.5794],\n",
       "        [ 2.1318],\n",
       "        [ 3.3851],\n",
       "        [-2.1793],\n",
       "        [-4.2390],\n",
       "        [-0.2077],\n",
       "        [-0.0730],\n",
       "        [-3.7100],\n",
       "        [ 2.3754],\n",
       "        [ 0.4424],\n",
       "        [-3.4262],\n",
       "        [ 2.3210],\n",
       "        [-2.7952],\n",
       "        [-1.7460],\n",
       "        [-0.6907],\n",
       "        [ 1.8310],\n",
       "        [-1.7585],\n",
       "        [-1.0323],\n",
       "        [ 4.9228],\n",
       "        [ 1.2225],\n",
       "        [-2.8938],\n",
       "        [ 2.1469],\n",
       "        [-3.3323],\n",
       "        [-0.4077],\n",
       "        [ 0.2861],\n",
       "        [ 4.4873],\n",
       "        [ 2.8594],\n",
       "        [ 5.3404],\n",
       "        [ 4.5938],\n",
       "        [-1.9401],\n",
       "        [-0.5650],\n",
       "        [-3.3573],\n",
       "        [-4.9774],\n",
       "        [-4.6350],\n",
       "        [-2.0366],\n",
       "        [ 1.8571],\n",
       "        [-4.5216],\n",
       "        [-1.8520],\n",
       "        [ 4.4376],\n",
       "        [-3.6277],\n",
       "        [-4.7655],\n",
       "        [ 4.1064],\n",
       "        [-3.7267],\n",
       "        [-2.0204],\n",
       "        [-2.4490],\n",
       "        [ 4.5939],\n",
       "        [ 0.8654],\n",
       "        [ 3.0545],\n",
       "        [ 0.2571],\n",
       "        [ 5.3175],\n",
       "        [ 0.1990],\n",
       "        [-0.8350],\n",
       "        [-3.7786],\n",
       "        [-2.6344],\n",
       "        [-4.7795],\n",
       "        [-3.8706],\n",
       "        [ 4.1160],\n",
       "        [-1.9742],\n",
       "        [-0.3801],\n",
       "        [-4.9130],\n",
       "        [-1.8802],\n",
       "        [-3.2146],\n",
       "        [-0.6543],\n",
       "        [ 1.0116],\n",
       "        [ 1.2624],\n",
       "        [-0.1047],\n",
       "        [ 2.0666],\n",
       "        [-3.7988],\n",
       "        [-1.1580],\n",
       "        [ 1.7360],\n",
       "        [-2.0911],\n",
       "        [ 1.8039],\n",
       "        [-3.0413],\n",
       "        [ 5.3269],\n",
       "        [-2.4631],\n",
       "        [ 3.3881],\n",
       "        [ 2.2334],\n",
       "        [ 5.2962],\n",
       "        [-2.8164],\n",
       "        [ 4.6905],\n",
       "        [-1.2020],\n",
       "        [-0.5233],\n",
       "        [-1.0507],\n",
       "        [-3.5762],\n",
       "        [ 0.5702],\n",
       "        [ 1.6571],\n",
       "        [ 3.6851],\n",
       "        [-1.6325],\n",
       "        [-0.0790],\n",
       "        [-2.6917],\n",
       "        [-3.6840],\n",
       "        [ 3.2899],\n",
       "        [ 2.4277],\n",
       "        [ 5.4010],\n",
       "        [ 2.0633],\n",
       "        [ 2.8964],\n",
       "        [-2.6516],\n",
       "        [-4.1275],\n",
       "        [ 1.1523],\n",
       "        [-5.5457],\n",
       "        [-4.4505],\n",
       "        [ 1.0438],\n",
       "        [-1.1243],\n",
       "        [-0.8940],\n",
       "        [-4.5549],\n",
       "        [ 1.5486],\n",
       "        [-1.9901],\n",
       "        [ 2.7972],\n",
       "        [ 4.6799],\n",
       "        [ 2.4228],\n",
       "        [ 0.7306],\n",
       "        [ 4.5625],\n",
       "        [-0.8623],\n",
       "        [-0.8189],\n",
       "        [ 3.8269],\n",
       "        [ 5.2365],\n",
       "        [-1.5843],\n",
       "        [ 3.1681],\n",
       "        [ 3.0498],\n",
       "        [-3.4722],\n",
       "        [-0.9864],\n",
       "        [-0.1092],\n",
       "        [ 5.0673],\n",
       "        [ 4.8495],\n",
       "        [-5.2408],\n",
       "        [-5.4673],\n",
       "        [-5.2586],\n",
       "        [-1.5851],\n",
       "        [-0.8848],\n",
       "        [-0.0511],\n",
       "        [-4.5129],\n",
       "        [-0.2807],\n",
       "        [-3.1668],\n",
       "        [-0.3447],\n",
       "        [ 1.7767],\n",
       "        [-5.1555],\n",
       "        [ 3.2963],\n",
       "        [ 2.6222],\n",
       "        [-3.4340],\n",
       "        [ 4.0827],\n",
       "        [ 4.8254],\n",
       "        [-2.2435],\n",
       "        [ 3.1789],\n",
       "        [ 2.4475],\n",
       "        [-0.5979],\n",
       "        [-1.1340],\n",
       "        [-1.0112],\n",
       "        [-5.1020],\n",
       "        [ 2.5453],\n",
       "        [-1.8303],\n",
       "        [-3.9182],\n",
       "        [ 2.2898],\n",
       "        [-0.6067],\n",
       "        [ 2.9292],\n",
       "        [-3.7621],\n",
       "        [ 2.3031],\n",
       "        [-0.0462],\n",
       "        [-0.3960],\n",
       "        [ 4.6810],\n",
       "        [-0.3278],\n",
       "        [-3.6102],\n",
       "        [ 4.0764],\n",
       "        [-5.2065],\n",
       "        [-2.8982],\n",
       "        [ 0.7823],\n",
       "        [ 1.0944],\n",
       "        [-1.1362],\n",
       "        [ 1.6163],\n",
       "        [ 3.5729],\n",
       "        [ 0.0603],\n",
       "        [ 2.7289],\n",
       "        [-2.8259],\n",
       "        [-2.4071],\n",
       "        [-4.4380],\n",
       "        [-5.0019],\n",
       "        [ 0.6829],\n",
       "        [-1.7406],\n",
       "        [-0.4948],\n",
       "        [-3.2806],\n",
       "        [ 0.3230],\n",
       "        [-3.9012],\n",
       "        [ 2.9437],\n",
       "        [-3.7548],\n",
       "        [-5.4765],\n",
       "        [ 1.2597],\n",
       "        [ 4.1559],\n",
       "        [ 2.8401],\n",
       "        [-4.4389],\n",
       "        [ 5.2564],\n",
       "        [ 4.2783],\n",
       "        [-1.3166],\n",
       "        [-5.1943],\n",
       "        [-2.3435],\n",
       "        [ 0.4817],\n",
       "        [ 1.6410],\n",
       "        [-5.0235],\n",
       "        [ 2.6124],\n",
       "        [ 4.1505],\n",
       "        [ 5.4736],\n",
       "        [ 0.4013],\n",
       "        [-0.9264],\n",
       "        [ 1.7014],\n",
       "        [ 2.5219],\n",
       "        [ 4.1786],\n",
       "        [ 4.4748],\n",
       "        [-4.4746],\n",
       "        [-5.4721],\n",
       "        [ 2.2157],\n",
       "        [ 0.0728],\n",
       "        [ 1.3638],\n",
       "        [-5.1510],\n",
       "        [ 1.3846],\n",
       "        [-3.2591],\n",
       "        [ 1.5692],\n",
       "        [-1.9127],\n",
       "        [-3.7706],\n",
       "        [-1.6187],\n",
       "        [ 3.5852],\n",
       "        [ 2.5398],\n",
       "        [-2.7143],\n",
       "        [ 0.3786],\n",
       "        [-0.8682],\n",
       "        [ 2.2867],\n",
       "        [-1.3662],\n",
       "        [-1.0784],\n",
       "        [-2.5068],\n",
       "        [ 4.8095],\n",
       "        [-3.5263],\n",
       "        [ 0.5429],\n",
       "        [ 1.5051],\n",
       "        [ 2.2194],\n",
       "        [-0.7931],\n",
       "        [-2.0587],\n",
       "        [ 4.7991],\n",
       "        [-4.7502],\n",
       "        [ 0.0365],\n",
       "        [ 4.9646],\n",
       "        [-2.6389],\n",
       "        [ 2.0996],\n",
       "        [-1.3526],\n",
       "        [-4.7727],\n",
       "        [ 2.1944],\n",
       "        [-0.7023],\n",
       "        [-1.5784],\n",
       "        [ 0.3358],\n",
       "        [ 2.9610],\n",
       "        [ 5.2177],\n",
       "        [-1.0832],\n",
       "        [-3.8732],\n",
       "        [-0.2350],\n",
       "        [ 1.2352],\n",
       "        [ 1.5891],\n",
       "        [-1.5880],\n",
       "        [-1.9314],\n",
       "        [ 3.7256],\n",
       "        [-3.1077],\n",
       "        [ 0.6300],\n",
       "        [ 2.7912],\n",
       "        [-4.8936],\n",
       "        [-2.7874],\n",
       "        [ 2.9007],\n",
       "        [-3.6818],\n",
       "        [-5.3197],\n",
       "        [ 4.4741],\n",
       "        [ 3.0048],\n",
       "        [-2.9051],\n",
       "        [ 3.1719],\n",
       "        [-0.9358],\n",
       "        [ 5.4288],\n",
       "        [-2.1987],\n",
       "        [ 2.5585],\n",
       "        [-1.0315],\n",
       "        [-5.1755],\n",
       "        [-0.0283],\n",
       "        [ 4.3036],\n",
       "        [ 0.5968],\n",
       "        [-3.1605],\n",
       "        [-3.1210],\n",
       "        [ 2.9182],\n",
       "        [-0.7958],\n",
       "        [-0.6192],\n",
       "        [-4.6660],\n",
       "        [-1.5215],\n",
       "        [-1.0675],\n",
       "        [-2.7937],\n",
       "        [-1.6493],\n",
       "        [-1.7790],\n",
       "        [ 4.5400],\n",
       "        [ 0.5828],\n",
       "        [-2.7982],\n",
       "        [-4.0567],\n",
       "        [-3.0126],\n",
       "        [-4.4686],\n",
       "        [ 1.5002],\n",
       "        [ 1.5275],\n",
       "        [-3.9984],\n",
       "        [ 0.0530],\n",
       "        [-4.5929],\n",
       "        [ 0.3868],\n",
       "        [ 3.7816],\n",
       "        [ 2.3744],\n",
       "        [-3.3732],\n",
       "        [-2.6530],\n",
       "        [ 3.7002],\n",
       "        [ 2.5224],\n",
       "        [-0.0942],\n",
       "        [-0.6948],\n",
       "        [-4.6322],\n",
       "        [-1.7804],\n",
       "        [-0.7645],\n",
       "        [-5.0428],\n",
       "        [-3.8076],\n",
       "        [ 4.6451],\n",
       "        [-4.5173],\n",
       "        [-2.7725],\n",
       "        [ 0.1121],\n",
       "        [ 1.4936],\n",
       "        [ 1.0875],\n",
       "        [-4.8469],\n",
       "        [ 1.5968],\n",
       "        [ 2.1342],\n",
       "        [ 1.2117],\n",
       "        [-0.1923],\n",
       "        [-4.8469],\n",
       "        [ 2.5311],\n",
       "        [ 0.0079],\n",
       "        [-3.5114],\n",
       "        [ 4.7916],\n",
       "        [ 2.9487],\n",
       "        [-1.2372],\n",
       "        [ 2.0395],\n",
       "        [-4.5006],\n",
       "        [ 3.2894],\n",
       "        [ 4.0081],\n",
       "        [-0.0224],\n",
       "        [ 1.7812],\n",
       "        [-1.9862],\n",
       "        [-1.8306],\n",
       "        [-3.3078],\n",
       "        [-4.2173],\n",
       "        [ 2.5140],\n",
       "        [ 2.0151],\n",
       "        [-3.2049],\n",
       "        [-3.8461],\n",
       "        [ 3.4194],\n",
       "        [-0.3699],\n",
       "        [-5.4621],\n",
       "        [ 4.5372],\n",
       "        [-3.0185],\n",
       "        [ 5.2176],\n",
       "        [ 3.3238],\n",
       "        [ 4.3365],\n",
       "        [-2.0050],\n",
       "        [ 3.2109],\n",
       "        [ 4.9826],\n",
       "        [-5.3637],\n",
       "        [ 5.4288],\n",
       "        [-2.8870],\n",
       "        [-4.9578],\n",
       "        [-3.8304],\n",
       "        [-0.2714],\n",
       "        [-3.9268],\n",
       "        [-0.2216],\n",
       "        [-2.4962],\n",
       "        [-1.5018],\n",
       "        [-0.7643],\n",
       "        [-0.9285],\n",
       "        [ 3.6841],\n",
       "        [ 0.7792],\n",
       "        [-2.8230],\n",
       "        [ 4.1783],\n",
       "        [ 5.2379],\n",
       "        [-2.2901],\n",
       "        [ 4.0446],\n",
       "        [-0.5656],\n",
       "        [ 4.6600],\n",
       "        [ 0.1486],\n",
       "        [-1.2407],\n",
       "        [-3.1826],\n",
       "        [-3.5165],\n",
       "        [ 3.0728],\n",
       "        [ 5.0039],\n",
       "        [ 2.2689],\n",
       "        [-2.1229],\n",
       "        [-5.2991],\n",
       "        [-2.0985],\n",
       "        [ 2.4232],\n",
       "        [ 1.6727],\n",
       "        [ 0.9961],\n",
       "        [-0.1992],\n",
       "        [-0.4357],\n",
       "        [ 3.0400],\n",
       "        [-3.7877],\n",
       "        [ 1.2326],\n",
       "        [ 3.5544],\n",
       "        [ 4.3243],\n",
       "        [-4.5426],\n",
       "        [-2.7785],\n",
       "        [-3.7425],\n",
       "        [-3.9640],\n",
       "        [-1.9152],\n",
       "        [ 0.4850],\n",
       "        [ 1.2157],\n",
       "        [ 1.4231],\n",
       "        [-2.0765],\n",
       "        [ 3.9544],\n",
       "        [-4.3068],\n",
       "        [ 4.0907],\n",
       "        [ 2.0484],\n",
       "        [-4.9401],\n",
       "        [ 4.4687],\n",
       "        [-0.6609],\n",
       "        [-4.5636],\n",
       "        [-4.4687],\n",
       "        [ 3.0367],\n",
       "        [-3.7491],\n",
       "        [-0.9440],\n",
       "        [ 2.3150],\n",
       "        [-2.7452],\n",
       "        [-1.3878],\n",
       "        [ 2.0615],\n",
       "        [ 4.9796],\n",
       "        [ 3.8316],\n",
       "        [ 4.1374],\n",
       "        [ 3.5080],\n",
       "        [ 0.2924],\n",
       "        [-5.2721],\n",
       "        [ 5.4690],\n",
       "        [ 0.0415],\n",
       "        [ 1.9804],\n",
       "        [ 1.6323],\n",
       "        [ 0.9202],\n",
       "        [-0.8716],\n",
       "        [-5.5591],\n",
       "        [ 2.3813],\n",
       "        [ 1.0947],\n",
       "        [ 5.1589],\n",
       "        [ 3.4625],\n",
       "        [-0.1749],\n",
       "        [ 0.2135],\n",
       "        [ 4.1914],\n",
       "        [-4.4820],\n",
       "        [ 1.8962],\n",
       "        [-1.9117],\n",
       "        [-3.9790],\n",
       "        [ 1.6378],\n",
       "        [ 2.0116],\n",
       "        [ 5.0724],\n",
       "        [ 4.3951],\n",
       "        [-2.9941],\n",
       "        [ 3.2159],\n",
       "        [-4.9303],\n",
       "        [-4.1959],\n",
       "        [-4.3724],\n",
       "        [-3.8959],\n",
       "        [ 2.0626],\n",
       "        [-1.9242],\n",
       "        [-4.6632],\n",
       "        [-1.7561],\n",
       "        [ 1.5114],\n",
       "        [-4.1553],\n",
       "        [ 4.9109],\n",
       "        [-3.9457],\n",
       "        [ 5.3351],\n",
       "        [-5.1369],\n",
       "        [ 2.7064],\n",
       "        [-2.4401],\n",
       "        [-3.4374],\n",
       "        [ 5.4885],\n",
       "        [ 0.8929],\n",
       "        [-0.6952],\n",
       "        [ 2.1102],\n",
       "        [-1.0461],\n",
       "        [-0.4379],\n",
       "        [-2.9217],\n",
       "        [-3.2152],\n",
       "        [-3.9408],\n",
       "        [ 1.8129],\n",
       "        [-1.7452],\n",
       "        [-2.9060],\n",
       "        [-1.3881],\n",
       "        [-4.8007],\n",
       "        [-5.0671],\n",
       "        [ 0.0189],\n",
       "        [ 1.7762],\n",
       "        [-1.4422],\n",
       "        [-1.9805],\n",
       "        [-1.3782],\n",
       "        [ 4.0311],\n",
       "        [-1.7302],\n",
       "        [ 2.1339],\n",
       "        [ 5.6002],\n",
       "        [-4.7004],\n",
       "        [-0.8539],\n",
       "        [ 2.8145],\n",
       "        [ 4.0532],\n",
       "        [ 5.1162],\n",
       "        [ 1.8047],\n",
       "        [ 1.7858],\n",
       "        [ 2.3804],\n",
       "        [-3.9823],\n",
       "        [-3.6832],\n",
       "        [ 4.5181],\n",
       "        [ 1.0008],\n",
       "        [-3.3750],\n",
       "        [-4.6239],\n",
       "        [ 4.9349],\n",
       "        [-0.3087],\n",
       "        [ 2.8750],\n",
       "        [ 3.2755],\n",
       "        [ 0.1844],\n",
       "        [ 2.5908],\n",
       "        [-0.5768],\n",
       "        [ 1.4791],\n",
       "        [-4.7532],\n",
       "        [ 2.5247],\n",
       "        [ 0.8998],\n",
       "        [-5.0880],\n",
       "        [ 5.2252],\n",
       "        [-2.3183],\n",
       "        [-1.9762],\n",
       "        [ 4.6663],\n",
       "        [ 3.7755],\n",
       "        [-2.8832],\n",
       "        [ 4.7367],\n",
       "        [-4.7423],\n",
       "        [-3.1487],\n",
       "        [ 5.4384],\n",
       "        [-5.3580],\n",
       "        [-0.7767],\n",
       "        [-5.3603],\n",
       "        [-5.1411],\n",
       "        [ 0.6775],\n",
       "        [ 1.4731],\n",
       "        [ 1.1631],\n",
       "        [-4.3687],\n",
       "        [-3.9306],\n",
       "        [ 0.1752],\n",
       "        [ 5.5146],\n",
       "        [-3.5848],\n",
       "        [ 3.9749],\n",
       "        [ 3.8816],\n",
       "        [-3.4444],\n",
       "        [ 3.5000],\n",
       "        [ 3.8956],\n",
       "        [ 1.9284],\n",
       "        [-2.0856],\n",
       "        [-0.6451],\n",
       "        [-5.0724],\n",
       "        [ 1.8307],\n",
       "        [ 0.3360],\n",
       "        [-2.6238],\n",
       "        [-3.1353],\n",
       "        [-1.9026],\n",
       "        [-2.7501],\n",
       "        [ 0.9628],\n",
       "        [ 5.1459],\n",
       "        [ 3.0389],\n",
       "        [ 5.1303],\n",
       "        [-3.6248],\n",
       "        [-2.1970],\n",
       "        [ 2.9317],\n",
       "        [ 3.0458],\n",
       "        [-5.1531],\n",
       "        [ 0.1243],\n",
       "        [ 5.3981],\n",
       "        [-4.6584],\n",
       "        [-4.4243],\n",
       "        [-1.4279],\n",
       "        [ 1.1467],\n",
       "        [ 4.2058],\n",
       "        [ 2.6461],\n",
       "        [ 3.9297],\n",
       "        [-2.6869],\n",
       "        [ 5.1854],\n",
       "        [ 5.1775],\n",
       "        [ 1.1347],\n",
       "        [-0.9500],\n",
       "        [-1.8094],\n",
       "        [ 1.7005],\n",
       "        [ 5.1091],\n",
       "        [-0.2428],\n",
       "        [-5.3963],\n",
       "        [ 2.1242],\n",
       "        [ 1.8440],\n",
       "        [ 4.4089],\n",
       "        [ 3.2433],\n",
       "        [-0.2891],\n",
       "        [-2.8731],\n",
       "        [ 5.2402],\n",
       "        [-4.7371],\n",
       "        [ 1.4066],\n",
       "        [-3.6948],\n",
       "        [-1.3385],\n",
       "        [ 0.0383],\n",
       "        [-1.6057],\n",
       "        [ 1.9886],\n",
       "        [-1.5265],\n",
       "        [ 1.1037],\n",
       "        [-2.5146],\n",
       "        [-3.5179],\n",
       "        [-4.8798],\n",
       "        [-2.0472],\n",
       "        [ 1.8745],\n",
       "        [-0.2757],\n",
       "        [-4.0650],\n",
       "        [-5.3566],\n",
       "        [ 4.5788],\n",
       "        [-4.9592],\n",
       "        [-4.3444],\n",
       "        [ 4.4652],\n",
       "        [ 1.0236],\n",
       "        [-1.3598],\n",
       "        [ 1.8524],\n",
       "        [ 3.8307],\n",
       "        [ 2.0030],\n",
       "        [-0.1049],\n",
       "        [-4.2431],\n",
       "        [ 2.9126],\n",
       "        [-1.7816],\n",
       "        [-2.6522],\n",
       "        [ 4.3491],\n",
       "        [-3.5010],\n",
       "        [-3.2090],\n",
       "        [-0.5179],\n",
       "        [ 4.4168],\n",
       "        [ 0.1332],\n",
       "        [ 1.3087],\n",
       "        [-3.0231],\n",
       "        [-0.6257],\n",
       "        [-4.4608],\n",
       "        [ 2.4027],\n",
       "        [-1.1417],\n",
       "        [ 3.5395],\n",
       "        [-0.7778],\n",
       "        [-2.3786],\n",
       "        [-2.3950],\n",
       "        [ 1.8398],\n",
       "        [ 4.0445],\n",
       "        [-1.0409],\n",
       "        [ 3.6769],\n",
       "        [-2.2418],\n",
       "        [ 5.1488],\n",
       "        [ 1.2931],\n",
       "        [-0.6817],\n",
       "        [-0.7222],\n",
       "        [ 1.0952],\n",
       "        [-2.6903],\n",
       "        [-0.9205],\n",
       "        [ 1.7327],\n",
       "        [ 4.0706],\n",
       "        [-1.8700],\n",
       "        [-3.8829],\n",
       "        [ 3.7265],\n",
       "        [-4.7100],\n",
       "        [ 1.7204],\n",
       "        [-0.5607],\n",
       "        [ 5.2230],\n",
       "        [ 3.6897],\n",
       "        [-3.2383],\n",
       "        [ 3.7606],\n",
       "        [ 1.5082],\n",
       "        [ 5.4428],\n",
       "        [-4.6233],\n",
       "        [-4.0695],\n",
       "        [-3.4881],\n",
       "        [-3.3268],\n",
       "        [ 1.8307],\n",
       "        [ 2.1710],\n",
       "        [ 2.8973],\n",
       "        [ 2.0223],\n",
       "        [ 4.1834],\n",
       "        [-1.1786],\n",
       "        [-1.3774],\n",
       "        [ 2.0304],\n",
       "        [-5.5117],\n",
       "        [ 0.7904],\n",
       "        [-5.4842],\n",
       "        [-2.3953],\n",
       "        [ 3.6839],\n",
       "        [ 3.8517],\n",
       "        [ 0.8636],\n",
       "        [-4.3451],\n",
       "        [ 2.1214],\n",
       "        [-2.4655],\n",
       "        [ 2.1747],\n",
       "        [ 1.1934],\n",
       "        [-0.7529],\n",
       "        [-0.5075],\n",
       "        [-5.1939],\n",
       "        [-5.4057],\n",
       "        [-3.1903],\n",
       "        [-0.1939],\n",
       "        [ 3.6897],\n",
       "        [-0.6874],\n",
       "        [ 0.9931],\n",
       "        [-4.9123],\n",
       "        [-3.6807],\n",
       "        [-2.7868],\n",
       "        [-2.4368],\n",
       "        [-3.7191],\n",
       "        [ 2.0717],\n",
       "        [ 0.6935],\n",
       "        [-2.2613],\n",
       "        [-0.3221],\n",
       "        [ 5.4196]])"
      ]
     },
     "execution_count": 194,
     "metadata": {},
     "output_type": "execute_result"
    }
   ],
   "source": [
    "X@w"
   ]
  },
  {
   "cell_type": "code",
   "execution_count": null,
   "metadata": {},
   "outputs": [],
   "source": []
  },
  {
   "cell_type": "code",
   "execution_count": 73,
   "metadata": {},
   "outputs": [
    {
     "data": {
      "text/plain": [
       "tensor([[1.5632]], grad_fn=<InverseBackward>)"
      ]
     },
     "execution_count": 73,
     "metadata": {},
     "output_type": "execute_result"
    }
   ],
   "source": [
    "res.lambda_.inverse()"
   ]
  },
  {
   "cell_type": "code",
   "execution_count": 72,
   "metadata": {},
   "outputs": [
    {
     "name": "stdout",
     "output_type": "stream",
     "text": [
      "Logging in: /home/pstefanou/Regression/Sanity/a7690dae-e7a1-4448-9b26-5032fd3da8e8\n",
      "gt weight:  Parameter containing:\n",
      "tensor([[1., 1.]], requires_grad=True)\n",
      "gt bias:  Parameter containing:\n",
      "tensor([[1.]], requires_grad=True)\n",
      "alpha:  tensor([0.4501])\n",
      "beta:  tensor(14.1421)\n",
      "X norm:  tensor(0.9838)\n"
     ]
    },
    {
     "ename": "NameError",
     "evalue": "name 'y_' is not defined",
     "output_type": "error",
     "traceback": [
      "\u001b[0;31m---------------------------------------------------------------------------\u001b[0m",
      "\u001b[0;31mNameError\u001b[0m                                 Traceback (most recent call last)",
      "\u001b[0;32m<ipython-input-72-9294c29d7cec>\u001b[0m in \u001b[0;36m<module>\u001b[0;34m\u001b[0m\n\u001b[1;32m     62\u001b[0m \u001b[0;34m\u001b[0m\u001b[0m\n\u001b[1;32m     63\u001b[0m         \u001b[0;31m# standardize ground-truth parameters\u001b[0m\u001b[0;34m\u001b[0m\u001b[0;34m\u001b[0m\u001b[0;34m\u001b[0m\u001b[0m\n\u001b[0;32m---> 64\u001b[0;31m         \u001b[0mX_\u001b[0m\u001b[0;34m,\u001b[0m \u001b[0my_\u001b[0m\u001b[0;34m\u001b[0m\u001b[0;34m\u001b[0m\u001b[0m\n\u001b[0m\u001b[1;32m     65\u001b[0m         \u001b[0mgt_ols\u001b[0m \u001b[0;34m=\u001b[0m \u001b[0mLinearRegression\u001b[0m\u001b[0;34m(\u001b[0m\u001b[0;34m)\u001b[0m\u001b[0;34m.\u001b[0m\u001b[0mfit\u001b[0m\u001b[0;34m(\u001b[0m\u001b[0mX_\u001b[0m\u001b[0;34m,\u001b[0m \u001b[0;34m(\u001b[0m\u001b[0mnoised\u001b[0m \u001b[0;34m-\u001b[0m \u001b[0my_trunc_mu\u001b[0m \u001b[0;34m/\u001b[0m \u001b[0my_trunc_sigma\u001b[0m\u001b[0;34m)\u001b[0m\u001b[0;34m)\u001b[0m\u001b[0;34m\u001b[0m\u001b[0;34m\u001b[0m\u001b[0m\n\u001b[1;32m     66\u001b[0m         \u001b[0mgt_params\u001b[0m \u001b[0;34m=\u001b[0m \u001b[0mch\u001b[0m\u001b[0;34m.\u001b[0m\u001b[0mcat\u001b[0m\u001b[0;34m(\u001b[0m\u001b[0;34m[\u001b[0m\u001b[0mTensor\u001b[0m\u001b[0;34m(\u001b[0m\u001b[0mgt_ols\u001b[0m\u001b[0;34m.\u001b[0m\u001b[0mcoef_\u001b[0m\u001b[0;34m)\u001b[0m\u001b[0;34m.\u001b[0m\u001b[0mT\u001b[0m\u001b[0;34m,\u001b[0m \u001b[0mTensor\u001b[0m\u001b[0;34m(\u001b[0m\u001b[0mgt_ols\u001b[0m\u001b[0;34m.\u001b[0m\u001b[0mintercept_\u001b[0m\u001b[0;34m)\u001b[0m\u001b[0;34m[\u001b[0m\u001b[0;34m...\u001b[0m\u001b[0;34m,\u001b[0m \u001b[0;32mNone\u001b[0m\u001b[0;34m]\u001b[0m\u001b[0;34m]\u001b[0m\u001b[0;34m)\u001b[0m\u001b[0;34m\u001b[0m\u001b[0;34m\u001b[0m\u001b[0m\n",
      "\u001b[0;31mNameError\u001b[0m: name 'y_' is not defined"
     ]
    }
   ],
   "source": [
    "for i in range(args.trials):\n",
    "    # create store and add table\n",
    "    store = Store(args.out_dir)\n",
    "    store.add_table(TABLE_NAME, { \n",
    "        'ols_r2': float,\n",
    "        'ols_param_mse': float,\n",
    "        'ols_var_mse': float,\n",
    "        'known_emp_r2': float,\n",
    "        'known_emp_param_mse': float,\n",
    "        'known_emp_time': int,\n",
    "        'known_r2': float,\n",
    "        'known_param_mse': float,\n",
    "        'known_time': int,\n",
    "        'unknown_r2': float, \n",
    "        'unknown_param_mse': float,\n",
    "        'unknown_var_mse': float,\n",
    "        'unknown_time': int,\n",
    "        'alpha': float, \n",
    "        'num_samples': int,\n",
    "        'noise_scale': float, \n",
    "    })\n",
    "    # distribution for generating ground truth\n",
    "    U = Uniform(args.lower, args.upper)\n",
    "    U_ = Uniform(args.x_lower, args.x_upper)\n",
    "\n",
    "    # generate ground truth\n",
    "    gt = ch.nn.Linear(in_features=args.dims, out_features=1)\n",
    "    gt.weight = ch.nn.Parameter(ch.ones(args.dims)[None,...])\n",
    "    gt.bias = ch.nn.Parameter(ch.ones(1)[None,...]) if args.bias else None\n",
    "    \n",
    "    print(\"gt weight: \", gt.weight)\n",
    "    print(\"gt bias: \", gt.bias)\n",
    "\n",
    "    # create base classifier\n",
    "    with ch.no_grad():\n",
    "        # generate data\n",
    "        X = U_.sample(ch.Size([args.samples, args.dims]))                # \n",
    "        y = gt(X)\n",
    "\n",
    "    # increase variance up to 20\n",
    "    for var in range(1, args.var_ + 1):\n",
    "        noise_var = Tensor([2.0])[...,None]\n",
    "        # remove synthetic data from the computation graph\n",
    "        with ch.no_grad():\n",
    "            # add noise to ground-truth pedictions\n",
    "            noised = y + ch.sqrt(noise_var) * ch.randn(X.size(0), 1)\n",
    "#             noised /= (y - noised).var(0)\n",
    "            # truncate based off of the standardized data\n",
    "            indices = args.phi(noised).nonzero(as_tuple=False).flatten()\n",
    "            y_trunc, x_trunc = noised[indices], X[indices]\n",
    "            alpha = Tensor([y_trunc.size(0) / args.samples])\n",
    "            print(\"alpha: \", alpha)\n",
    "            \n",
    "        # l2 normalize inputs \n",
    "        beta = LA.norm(x_trunc, ord=float('inf'), dim=-1).max()*(args.dims**(.5))\n",
    "        x_trunc = x_trunc / beta\n",
    "        X_ = X / beta\n",
    "        y_trunc_mu, y_trunc_sigma = y_trunc.mean(0), ch.sqrt(y_trunc.var(0))\n",
    "        print(\"beta: \", beta)\n",
    "            \n",
    "        print(\"X norm: \", x_trunc.norm(dim=-1).max())\n",
    "        \n",
    "        # standardize ground-truth parameters\n",
    "        X_, y_ \n",
    "        gt_ols = LinearRegression().fit(X_, (noised - y_trunc_mu / y_trunc_sigma))\n",
    "        gt_params = ch.cat([Tensor(gt_ols.coef_).T, Tensor(gt_ols.intercept_)[..., None]])\n",
    "        gt_var = (noised - gt_ols.predict(X_)).var(0)[None,...]\n",
    "        print(\"gt params: \", gt_params)\n",
    "        print(\"gt params norm: \", gt_params.norm())\n",
    "        print(\"gt var: \", gt_var)\n",
    "\n",
    "        # ols\n",
    "        ols = LinearRegression() \n",
    "        ols.fit(x_trunc, y_trunc)\n",
    "        ols_var = ch.var(Tensor(ols.predict(x_trunc)) - y_trunc, dim=0)[..., None]\n",
    "        ols_params = ch.cat([Tensor(ols.coef_).T / beta, Tensor(ols.intercept_)[..., None]])\n",
    "        # check r2 for entire dataset\n",
    "        ols_pred = ols.predict(X_)\n",
    "        print(\"ols params: \", ols_params)\n",
    "        print(\"ols var: \", ols_var)\n",
    "        \n",
    "        phi = Left(Tensor([(args.C - y_trunc_mu) / y_trunc_sigma]))\n",
    "        args.__setattr__('phi', phi)\n",
    "        \n",
    "        # ols results\n",
    "        store[TABLE_NAME].update_row({\n",
    "            'ols_r2': r2_score(y.flatten(), ols_pred.flatten()), \n",
    "            'ols_param_mse': mse_loss(Tensor(ols_params), Tensor(gt_params)),\n",
    "            'ols_var_mse': mse_loss(ols_var, noise_var), \n",
    "            })\n",
    "\n",
    "        # truncated linear regression with known noise variance using empirical noise variance        \n",
    "        trunc_reg = TruncatedLinearRegression(phi=args.phi, alpha=alpha, args=args, bias=args.bias, var=ols_var)\n",
    "        st = datetime.datetime.now()\n",
    "        known_emp_results = trunc_reg.fit(x_trunc, y_trunc)\n",
    "        known_emp_params = ch.cat([known_emp_results.weight.detach().cpu().T / beta, known_emp_results.bias.detach().cpu()[..., None]])\n",
    "        # check r2 for entire dataset\n",
    "        known_emp_pred = known_emp_results(X_).detach().cpu()\n",
    "        print(\"known emp params: \", known_emp_params)\n",
    "\n",
    "\n",
    "        # known emp results\n",
    "        store[TABLE_NAME].update_row({\n",
    "            'known_emp_r2': r2_score(noised.flatten(), known_emp_pred.flatten()), \n",
    "            'known_emp_param_mse': mse_loss(known_emp_params, gt_params),\n",
    "            'known_emp_time': int((datetime.datetime.now() - st).total_seconds()), \n",
    "            })\n",
    "\n",
    "        # truncated linear regression with known noise variance using actual noise variance\n",
    "        trunc_reg = TruncatedLinearRegression(phi=args.phi, alpha=alpha, args=args, bias=args.bias, var=ch.ones(1, 1))\n",
    "        st = datetime.datetime.now()\n",
    "        known_results = trunc_reg.fit(x_trunc, y_trunc)\n",
    "        known_params = ch.cat([known_results.weight.detach().cpu().T / beta, known_results.bias.detach().cpu()[..., None]])\n",
    "        known_time = int((datetime.datetime.now() - st).total_seconds())\n",
    "        # check r2 for entire dataset\n",
    "        known_pred = known_results(X_).detach().cpu()\n",
    "        print(\"known params: \", known_params)\n",
    "\n",
    "        # known results\n",
    "        store[TABLE_NAME].update_row({\n",
    "            'known_r2': r2_score(noised.flatten(), known_pred.flatten()), \n",
    "            'known_param_mse': mse_loss(known_params, gt_params),\n",
    "            'known_time': int((datetime.datetime.now() - st).total_seconds()), \n",
    "            })\n",
    "\n",
    "        # truncated linear regression with unknown noise variance\n",
    "        args.__setattr__('batch_size', 100)\n",
    "        trunc_reg = TruncatedLinearRegression(phi=args.phi, alpha=alpha, args=args, bias=args.bias)\n",
    "        st = datetime.datetime.now()\n",
    "        unknown_results = trunc_reg.fit(x_trunc, y_trunc)\n",
    "        var_ = unknown_results.lambda_.inverse().detach()\n",
    "        unknown_params = ch.cat([(unknown_results.weight.detach() * var_).cpu().T / beta, (unknown_results.bias.detach() * var_).cpu()])\n",
    "        # check r2 for entire dataset\n",
    "        unknown_pred = unknown_results(X_).detach().cpu()\n",
    "        print(\"unknown params: \", unknown_params)\n",
    "        print(\"unknown var: \", var_)\n",
    "\n",
    "        # unknown results\n",
    "        store[TABLE_NAME].update_row({\n",
    "            'unknown_r2': r2_score(noised.flatten(), unknown_pred.flatten()), \n",
    "            'unknown_param_mse': mse_loss(unknown_params, gt_params),\n",
    "            'unknown_var_mse': mse_loss(var_, gt_var),\n",
    "            'unknown_time': int((datetime.datetime.now() - st).total_seconds()), \n",
    "            })\n",
    "    \n",
    "        # add additional metadata to store\n",
    "        store[TABLE_NAME].update_row({ \n",
    "            'alpha': float(alpha.flatten()),\n",
    "            'num_samples': x_trunc.size(0),\n",
    "            'noise_scale': float(var), \n",
    "        })\n",
    "\n",
    "        # append row to table\n",
    "        store[TABLE_NAME].flush_row()\n",
    "        \n",
    "    # close current store\n",
    "    store.close()"
   ]
  },
  {
   "cell_type": "code",
   "execution_count": null,
   "metadata": {},
   "outputs": [],
   "source": []
  },
  {
   "cell_type": "code",
   "execution_count": null,
   "metadata": {},
   "outputs": [],
   "source": []
  },
  {
   "cell_type": "code",
   "execution_count": null,
   "metadata": {},
   "outputs": [],
   "source": []
  },
  {
   "cell_type": "code",
   "execution_count": null,
   "metadata": {},
   "outputs": [],
   "source": []
  },
  {
   "cell_type": "code",
   "execution_count": null,
   "metadata": {},
   "outputs": [],
   "source": [
    "import matplotlib.pyplot as plt\n",
    "\n",
    "fig = plt.figure(figsize=(10, 10))\n",
    "ax = fig.gca(projection='3d')\n",
    "# data = ch.from_numpy(np.linspace(-3.0, 3.0, 100)).unsqueeze(1).float()\n",
    "\n",
    "ax.scatter3D(X[indices][:,0], X[indices][:,1], noised[indices], color=\"green\", alpha=.1)\n",
    "ax.scatter3D(x_trunc[:,0], x_trunc[:,1], y_trunc, color=\"red\", alpha=.75)\n",
    "\n",
    "ax.view_init(10, -150)"
   ]
  }
 ],
 "metadata": {
  "kernelspec": {
   "display_name": "Python 3",
   "language": "python",
   "name": "python3"
  },
  "language_info": {
   "codemirror_mode": {
    "name": "ipython",
    "version": 3
   },
   "file_extension": ".py",
   "mimetype": "text/x-python",
   "name": "python",
   "nbconvert_exporter": "python",
   "pygments_lexer": "ipython3",
   "version": "3.6.9"
  },
  "latex_envs": {
   "LaTeX_envs_menu_present": true,
   "autoclose": false,
   "autocomplete": true,
   "bibliofile": "biblio.bib",
   "cite_by": "apalike",
   "current_citInitial": 1,
   "eqLabelWithNumbers": true,
   "eqNumInitial": 1,
   "hotkeys": {
    "equation": "Ctrl-E",
    "itemize": "Ctrl-I"
   },
   "labels_anchors": false,
   "latex_user_defs": false,
   "report_style_numbering": false,
   "user_envs_cfg": false
  },
  "toc": {
   "base_numbering": 1,
   "nav_menu": {},
   "number_sections": true,
   "sideBar": true,
   "skip_h1_title": false,
   "title_cell": "Table of Contents",
   "title_sidebar": "Contents",
   "toc_cell": false,
   "toc_position": {},
   "toc_section_display": true,
   "toc_window_display": false
  },
  "varInspector": {
   "cols": {
    "lenName": 16,
    "lenType": 16,
    "lenVar": 40
   },
   "kernels_config": {
    "python": {
     "delete_cmd_postfix": "",
     "delete_cmd_prefix": "del ",
     "library": "var_list.py",
     "varRefreshCmd": "print(var_dic_list())"
    },
    "r": {
     "delete_cmd_postfix": ") ",
     "delete_cmd_prefix": "rm(",
     "library": "var_list.r",
     "varRefreshCmd": "cat(var_dic_list()) "
    }
   },
   "types_to_exclude": [
    "module",
    "function",
    "builtin_function_or_method",
    "instance",
    "_Feature"
   ],
   "window_display": false
  }
 },
 "nbformat": 4,
 "nbformat_minor": 4
}
