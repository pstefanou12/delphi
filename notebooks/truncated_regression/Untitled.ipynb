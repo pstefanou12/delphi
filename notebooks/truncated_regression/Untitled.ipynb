{
 "cells": [
  {
   "cell_type": "code",
   "execution_count": 1,
   "metadata": {},
   "outputs": [],
   "source": [
    "import torch as ch"
   ]
  },
  {
   "cell_type": "code",
   "execution_count": 5,
   "metadata": {},
   "outputs": [],
   "source": [
    "class TruncatedUnknownVarianceMSE(ch.autograd.Function):\n",
    "    \"\"\"\n",
    "    Computes the gradient of negative population log likelihood for truncated linear regression\n",
    "    with unknown noise variance.\n",
    "    \"\"\"\n",
    "    @staticmethod\n",
    "    def forward(ctx, pred, targ, lambda_):\n",
    "        ctx.save_for_backward(pred, targ, lambda_)\n",
    "        return 0.5 * (pred.float() - targ.float()).pow(2).mean(0)\n",
    "    \n",
    "    @staticmethod\n",
    "    def backward(ctx, grad_output):\n",
    "        pred, targ, lambda_ = ctx.saved_tensors\n",
    "        # calculate std deviation of noise distribution estimate\n",
    "        sigma, z = ch.sqrt(lambda_.inverse()), Tensor([]).to(config.args.device)\n",
    "        stacked = pred[None,...].repeat(config.args.num_samples, 1, 1)\n",
    "        # add noise to regression predictions\n",
    "        noised = stacked + sigma*ch.randn(ch.Size([config.args.num_samples, 1])).to(config.args.device)\n",
    "        # filter out copies that fall outside of truncation set\n",
    "        filtered = ch.stack([config.args.phi(batch).unsqueeze(1) for batch in noised]).float()\n",
    "        z = noised * filtered\n",
    "        lambda_grad = targ.pow(2).sum(dim=0) / (filtered.sum(dim=0) + config.args.eps) - z.pow(2).sum(dim=0) / (filtered.sum(dim=0) + config.args.eps)\n",
    "        \"\"\"\n",
    "        multiply the v gradient by lambda, because autograd computes \n",
    "        v_grad*x*variance, thus need v_grad*(1/variance) to cancel variance \n",
    "        factor\n",
    "        \"\"\"\n",
    "        out = z.sum(dim=0) / (filtered.sum(dim=0) + config.args.eps)\n",
    "        return lambda_ * (z - targ) / pred.size(0), targ / pred.size(0), .5 * lambda_grad / pred.size(0)"
   ]
  },
  {
   "cell_type": "code",
   "execution_count": 2,
   "metadata": {},
   "outputs": [],
   "source": [
    "lin = ch.nn.Linear(in_features=1, out_features=1)\n",
    "opt = ch.optim.SGD(lin.parameters(), lr=1e-1)"
   ]
  },
  {
   "cell_type": "code",
   "execution_count": 4,
   "metadata": {},
   "outputs": [],
   "source": [
    "opt_ = ch.optim.SGD([lin.weight, lin.bias], lr=1e-1)"
   ]
  },
  {
   "cell_type": "code",
   "execution_count": 5,
   "metadata": {},
   "outputs": [],
   "source": [
    "opt_.zero_grad()"
   ]
  },
  {
   "cell_type": "code",
   "execution_count": 6,
   "metadata": {},
   "outputs": [],
   "source": [
    "params = [{'params': [lin.weight, lin.bias]}, {'params': ch.ones(1)}]"
   ]
  },
  {
   "cell_type": "code",
   "execution_count": 8,
   "metadata": {},
   "outputs": [],
   "source": [
    "o= ch.optim.SGD(params, lr=1e-1)"
   ]
  },
  {
   "cell_type": "code",
   "execution_count": 9,
   "metadata": {},
   "outputs": [],
   "source": [
    "o.zero_grad()"
   ]
  },
  {
   "cell_type": "code",
   "execution_count": null,
   "metadata": {},
   "outputs": [],
   "source": [
    "`"
   ]
  }
 ],
 "metadata": {
  "kernelspec": {
   "display_name": "Python 3",
   "language": "python",
   "name": "python3"
  },
  "language_info": {
   "codemirror_mode": {
    "name": "ipython",
    "version": 3
   },
   "file_extension": ".py",
   "mimetype": "text/x-python",
   "name": "python",
   "nbconvert_exporter": "python",
   "pygments_lexer": "ipython3",
   "version": "3.6.9"
  }
 },
 "nbformat": 4,
 "nbformat_minor": 4
}
