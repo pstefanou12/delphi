{
 "cells": [
  {
   "cell_type": "code",
   "execution_count": 1,
   "metadata": {
    "scrolled": true
   },
   "outputs": [
    {
     "name": "stdout",
     "output_type": "stream",
     "text": [
      "cuda tensors...\n"
     ]
    }
   ],
   "source": [
    "#### MAY NEED TO REMOVE --> THESE IMPORTS ARE JUST FOR MY DEPENDENCIES ON MY LOCAL DEVICE\n",
    "import sys \n",
    "sys.path.append('../..')\n",
    "######\n",
    "\n",
    "from cox.utils import Parameters\n",
    "from cox.store import Store\n",
    "from cox.readers import CollectionReader\n",
    "import matplotlib.pyplot as plt\n",
    "import seaborn as sns\n",
    "import torch as ch\n",
    "from torch import Tensor\n",
    "from torch import sigmoid as sig\n",
    "import torch.nn as nn\n",
    "from torch.optim import SGD, lr_scheduler\n",
    "from torch.distributions import Gumbel, Uniform\n",
    "from torch.distributions.multivariate_normal import MultivariateNormal\n",
    "from torch.distributions.transforms import SigmoidTransform\n",
    "from torch.distributions.transformed_distribution import TransformedDistribution\n",
    "from torch.utils.data import TensorDataset, DataLoader\n",
    "import torch.nn.functional as F\n",
    "from tqdm.autonotebook import tqdm as tqdm\n",
    "from abc import ABC\n",
    "import IPython\n",
    "import os\n",
    "import dill\n",
    "\n",
    "from delphi import train\n",
    "from delphi import oracle\n",
    "import delphi.utils.constants as consts\n",
    "from delphi import grad\n",
    "# set environment variable so that stores can create output files\n",
    "\n",
    "os.environ['HDF5_USE_FILE_LOCKING'] = 'FALSE'\n",
    "\n",
    "if ch.cuda.is_available(): \n",
    "    ch.set_default_tensor_type(ch.FloatTensor)\n",
    "    print(\"cuda tensors...\")\n",
    "    \n",
    "\n",
    "# CONSTANTS\n",
    "EXP_NAME = 'alpha_point5'\n",
    "SOFTMAX_REGRESSION_STORE_PATH = '/home/gridsan/stefanou/SoftmaxRegression/' + EXP_NAME\n",
    "\n",
    "# tables\n",
    "STANDARD_STORE_TABLE = 'standard_table'\n",
    "TRUNCATED_STORE_TABLE = 'truncated_table'\n",
    "GUMBEL_CE_TABLE = 'gumbel_table'\n",
    "\n",
    "STANDARD_EVAL_TABLE = 'standard_eval_table'\n",
    "TRUNCATED_EVAL_TABLE = 'truncated_eval_table'\n",
    "GUMBEL_EVAL_TABLE = 'gumbel_eval_table'\n",
    "\n",
    "\n",
    "TRUNC_TRUTH_TABLE ='truncated_truth_table'\n",
    "NAIVE_TRUTH_TABLE = 'naive_truth_table'"
   ]
  },
  {
   "cell_type": "markdown",
   "metadata": {},
   "source": [
    "# Algorithm and Experiment Hyperparameters"
   ]
  },
  {
   "cell_type": "code",
   "execution_count": 2,
   "metadata": {},
   "outputs": [
    {
     "data": {
      "text/plain": [
       "{\n",
       "  \"steps\": 2500,\n",
       "  \"num_workers\": 8,\n",
       "  \"batch_size\": 100,\n",
       "  \"bias\": true,\n",
       "  \"num_samples\": 1000,\n",
       "  \"clamp\": true,\n",
       "  \"radius\": 5.0,\n",
       "  \"lr\": 0.1,\n",
       "  \"shuffle\": true,\n",
       "  \"samples\": 10000,\n",
       "  \"in_features\": 2,\n",
       "  \"k\": 2,\n",
       "  \"lower\": -1,\n",
       "  \"upper\": 1,\n",
       "  \"trials\": 10,\n",
       "  \"log_iters\": 1,\n",
       "  \"should_save_ckpt\": true,\n",
       "  \"save_ckpt_iters\": -1,\n",
       "  \"validation_split\": 0.8,\n",
       "  \"momentum\": 0,\n",
       "  \"weight_decay\": 0,\n",
       "  \"custom_lr_multiplier\": \"cyclic\",\n",
       "  \"device\": \"cpu\",\n",
       "  \"alpha_thresh\": 0.5,\n",
       "  \"var\": true,\n",
       "  \"tol\": 1e-05,\n",
       "  \"accuracy\": true\n",
       "}"
      ]
     },
     "execution_count": 2,
     "metadata": {},
     "output_type": "execute_result"
    }
   ],
   "source": [
    "# procedure hyperparameters\n",
    "args = Parameters({ \n",
    "    'steps': 2500,\n",
    "    'num_workers': 8, \n",
    "    'batch_size': 100,\n",
    "    'bias': True,\n",
    "    'num_samples': 1000,\n",
    "    'clamp': True, \n",
    "    'radius': 5.0, \n",
    "    'lr': 1e-1,\n",
    "    'shuffle': False, \n",
    "    'samples': 10000,  # number of samples to generate for ground truth\n",
    "    'in_features': 2, # number of in-features to multi-log-reg\n",
    "    'k': 2, # number of classes\n",
    "    'lower': -1, # lower bound for generating ground truth weights\n",
    "    'upper': 1,  # upper bound for generating ground truth weights\n",
    "    'trials': 10,\n",
    "    'log_iters': 1,    \n",
    "    'should_save_ckpt': True,\n",
    "    'save_ckpt_iters': -1,\n",
    "    'validation_split': .8,\n",
    "    'momentum': 0,\n",
    "    'weight_decay': 0,\n",
    "    'custom_lr_multiplier': consts.CYCLIC,\n",
    "    'shuffle': True,\n",
    "    'device': 'cpu',\n",
    "    'alpha_thresh': .5,\n",
    "    'var': True, \n",
    "    'tol': 1e-5,\n",
    "    'accuracy': True,\n",
    "})\n",
    "\n",
    "if ch.cuda.is_available() and False: \n",
    "    args.__setattr__('device', 'cuda')\n",
    "    print(\"cuda available...\")\n",
    "else: \n",
    "    args.__setattr__('device', 'cpu')\n",
    "args"
   ]
  },
  {
   "cell_type": "markdown",
   "metadata": {},
   "source": [
    "# Training and Evaluation Procedure Functions"
   ]
  },
  {
   "cell_type": "code",
   "execution_count": 3,
   "metadata": {},
   "outputs": [],
   "source": [
    "class epoch_hook: \n",
    "    \"\"\"\n",
    "    End epoch hook for training procedure. \n",
    "    \"\"\"\n",
    "    def __init__(self, store, table_name=None, ground_truth=None): \n",
    "        # model ground truth\n",
    "        self.gt_params = None\n",
    "        if ground_truth is not None: \n",
    "            self.gt_params = ch.cat([ground_truth.weight.flatten(), ground_truth.bias]).unsqueeze(1)\n",
    "        self.store = store\n",
    "        \n",
    "        # check for different table name\n",
    "        self.table_name = table_name\n",
    "        if not table_name: \n",
    "            self.table_name = 'ground_truth_table'\n",
    "        self.store.add_table(self.table_name, { \n",
    "            'cos_sim': float, \n",
    "            'l2': float,\n",
    "            'epoch': int,\n",
    "        })\n",
    "        \n",
    "    # set ground_truth for exp\n",
    "    def set_ground_truth(self, ground_truth): \n",
    "        self.gt_params = ch.cat([ground_truth.weight.flatten(), ground_truth.bias]).unsqueeze(1)\n",
    "\n",
    "    def __call__(self, model, epoch): \n",
    "        # current model parameters\n",
    "        trunc_params = ch.cat([model.weight.flatten(), model.bias]).unsqueeze(1)\n",
    "        # cosine similarity and l2 distance\n",
    "        cos_sim = float(ch.nn.functional.cosine_similarity(self.gt_params, trunc_params, dim=0))\n",
    "        l2_dist = float(ch.nn.MSELoss()(self.gt_params, trunc_params))\n",
    "\n",
    "        ground_truth_info = { \n",
    "            'epoch': epoch + 1, \n",
    "            'cos_sim': cos_sim, \n",
    "            'l2': l2_dist,\n",
    "        }\n",
    "\n",
    "        self.store[self.table_name].append_row(ground_truth_info)"
   ]
  },
  {
   "cell_type": "markdown",
   "metadata": {},
   "source": [
    "# Oracles"
   ]
  },
  {
   "cell_type": "code",
   "execution_count": 4,
   "metadata": {},
   "outputs": [],
   "source": [
    "lower = oracle.DNN_Lower(ch.full(ch.Size([args.K,]), -2, dtype=ch.float32))\n",
    "id_ = oracle.Identity()\n",
    "ball = oracle.DNN_Logit_Ball(ch.full(ch.Size([args.K,]), -1, dtype=ch.float32), ch.full(ch.Size([args.K,]), 1, dtype=ch.float32))"
   ]
  },
  {
   "cell_type": "markdown",
   "metadata": {},
   "source": [
    "# Cross Entropy Gradients"
   ]
  },
  {
   "cell_type": "code",
   "execution_count": 5,
   "metadata": {},
   "outputs": [],
   "source": [
    "class GumbelCE(ch.autograd.Function):\n",
    "    @staticmethod\n",
    "    def forward(ctx, pred, targ):\n",
    "        ctx.save_for_backward(pred, targ)\n",
    "        ce_loss = ch.nn.CrossEntropyLoss()\n",
    "        return ce_loss(pred, targ)\n",
    "\n",
    "    @staticmethod\n",
    "    def backward(ctx, grad_output):\n",
    "        pred, targ = ctx.saved_tensors\n",
    "        # gumbel distribution\n",
    "        gumbel = Gumbel(0, 1)\n",
    "        # make num_samples copies of pred logits\n",
    "        stacked = pred[None, ...].repeat(args.num_samples, 1, 1)        \n",
    "        # add gumbel noise to logits\n",
    "        rand_noise = gumbel.sample(stacked.size())\n",
    "        noised = stacked + rand_noise \n",
    "        noised_labs = noised.argmax(-1)\n",
    "        # remove the logits from the trials, where the kth logit is not the largest value\n",
    "        good_mask = noised_labs.eq(targ)[..., None]\n",
    "        inner_exp = 1 - ch.exp(-rand_noise)\n",
    "        avg = (inner_exp * good_mask).sum(0) / (good_mask.sum(0) + 1e-5) / pred.size(0)\n",
    "        return -avg , None\n",
    "    \n",
    "gumbel_ce = GumbelCE.apply\n",
    "from torch.nn import CrossEntropyLoss; ce_loss = CrossEntropyLoss()"
   ]
  },
  {
   "cell_type": "markdown",
   "metadata": {},
   "source": [
    "Now, we can see that when we use a different truncation mechansim, the GumbelCE and CE Gradients remain very similar, but the TruncatedCE accounts for the bias in the data"
   ]
  },
  {
   "cell_type": "code",
   "execution_count": 6,
   "metadata": {},
   "outputs": [],
   "source": [
    "class TruncatedCE(ch.autograd.Function):\n",
    "    @staticmethod\n",
    "    def forward(ctx, pred, targ):\n",
    "        ctx.save_for_backward(pred, targ)\n",
    "        ce_loss = ch.nn.CrossEntropyLoss()\n",
    "        return ce_loss(pred, targ)\n",
    "\n",
    "    @staticmethod\n",
    "    def backward(ctx, grad_output):\n",
    "        pred, targ = ctx.saved_tensors\n",
    "        # initialize gumbel distribution\n",
    "        gumbel = Gumbel(0, 1)\n",
    "        # make num_samples copies of pred logits\n",
    "        stacked = pred[None, ...].repeat(args.num_samples, 1, 1)   \n",
    "        # add gumbel noise to logits\n",
    "        rand_noise = gumbel.sample(stacked.size())\n",
    "        noised = stacked + rand_noise \n",
    "        # truncate - if one of the noisy logits does not fall within the truncation set, remove it\n",
    "        filtered = ch.all(args.phi(noised).bool(), dim=2).float().unsqueeze(2)\n",
    "        noised_labs = noised.argmax(-1)\n",
    "        # mask takes care of invalid logits and truncation set\n",
    "        mask = noised_labs.eq(targ)[..., None]\n",
    "        inner_exp = 1 - ch.exp(-rand_noise)\n",
    "        avg = ((inner_exp * mask * filtered).sum(0) / ((mask * filtered).sum(0) + 1e-5)) - ((inner_exp * filtered).sum(0) / (filtered.sum(0) + 1e-5)) \n",
    "        return -avg / pred.size(0), None\n",
    "trunc_ce = TruncatedCE.apply"
   ]
  },
  {
   "cell_type": "markdown",
   "metadata": {},
   "source": [
    "# Experiment"
   ]
  },
  {
   "cell_type": "code",
   "execution_count": 7,
   "metadata": {},
   "outputs": [],
   "source": [
    "def gen_data(): \n",
    "    \"\"\"\n",
    "    Generate dataset for truncated multinomial logistic \n",
    "    regression model. Returns ground_truth and train, validation, and test loaders.\n",
    "    \"\"\"\n",
    "    # distributions\n",
    "    gumbel = Gumbel(0, 1)\n",
    "    U = Uniform(args.lower, args.upper) # distribution to generate ground-truth parameters\n",
    "    U_ = Uniform(-5, 5) # distribution to generate samples\n",
    "    \n",
    "    # no grad required for dataset\n",
    "    with ch.no_grad():\n",
    "        # generate synthetic data until survival probability of more than 40%\n",
    "        alpha = None\n",
    "        while alpha is None or alpha < args.ALPHA_THRESH:\n",
    "            # generate ground-truth from uniform distribution\n",
    "            ground_truth = nn.Linear(in_features=args.IN_FEATURES, out_features=args.K, bias=args.bias)\n",
    "            ground_truth.weight = nn.Parameter(U.sample(ch.Size([args.K, args.IN_FEATURES])))\n",
    "            if ground_truth.bias is not None: \n",
    "                ground_truth.bias = nn.Parameter(U.sample(ch.Size([args.K,])))\n",
    "            # independent variable \n",
    "            X = U_.sample(ch.Size([args.samples, args.IN_FEATURES]))\n",
    "            # determine base model logits \n",
    "            z = ground_truth(X)\n",
    "            # add noise to the logits\n",
    "            noised = z + gumbel.sample(z.size())\n",
    "            # apply softmax to unnormalized likelihoods\n",
    "            y = ch.argmax(noised, dim=1)\n",
    "\n",
    "            # TRUNCATE\n",
    "            trunc = args.phi(z)\n",
    "            indices = ch.all(trunc.bool(), dim=1).float().nonzero(as_tuple=False).flatten()\n",
    "            x_trunc, y_trunc = X[indices].cpu(), y[indices].cpu()\n",
    "            alpha = x_trunc.size(0) / X.size(0)\n",
    "            \n",
    "        print(\"alpha: {}\".format(alpha))\n",
    "\n",
    "        # all synthetic data \n",
    "        ds = TensorDataset(x_trunc, y_trunc)\n",
    "        # split ds into training and validation data sets - 80% training, 20% validation\n",
    "        train_length = int(len(ds)*.8)\n",
    "        val_length = len(ds) - train_length\n",
    "        train_ds, val_ds = ch.utils.data.random_split(ds, [train_length, val_length])\n",
    "        # train and validation loaders\n",
    "        train_loader = DataLoader(train_ds, num_workers=args.num_workers, batch_size=args.batch_size)\n",
    "        val_loader = DataLoader(val_ds, num_workers=args.num_workers, batch_size=args.batch_size)\n",
    "\n",
    "        # test dataset\n",
    "        x_test = X[~indices].cpu()\n",
    "        y_test = y[~indices].cpu()\n",
    "        test_ds = TensorDataset(x_test, y_test)\n",
    "        test_loader = DataLoader(test_ds, num_workers=args.num_workers, batch_size=args.batch_size)\n",
    "            \n",
    "    return ground_truth, (train_loader, val_loader), test_loader"
   ]
  },
  {
   "cell_type": "code",
   "execution_count": 8,
   "metadata": {
    "scrolled": true
   },
   "outputs": [],
   "source": [
    "# set truncation oracle\n",
    "args.__setattr__('phi', id_)\n",
    "gumbel_ce = grad.GumbelCE.apply\n",
    "\n",
    "trunc_ce = grad.TruncatedCE.apply\n",
    "\n",
    "# perform number of trials experiments\n",
    "for i in range(args.trials):\n",
    "    # create store\n",
    "    out_store = Store(SOFTMAX_REGRESSION_STORE_PATH)\n",
    "    trunc_epoch_hook = epoch_hook(out_store, table_name=TRUNC_TRUTH_TABLE)\n",
    "    naive_epoch_hook = epoch_hook(out_store, table_name=NAIVE_TRUTH_TABLE)\n",
    "\n",
    "    # determine exp completion based off of score\n",
    "    args.__setattr__('score', True)\n",
    "    # generate data for exp\n",
    "    ground_truth, loaders, test_loader = gen_data()\n",
    "    # set ground-truth\n",
    "    trunc_epoch_hook.set_ground_truth(ground_truth)\n",
    "    args.__setattr__('epoch_hook', trunc_epoch_hook)\n",
    "\n",
    "    # new classifier models at the beginning of each trial\n",
    "    trunc_multi_log_reg = nn.Linear(in_features=args.IN_FEATURES, out_features=args.K, bias=args.bias)\n",
    "\n",
    "    args.__setattr__('custom_criterion', trunc_ce)  # truncated ce loss\n",
    "    train.train_model(args, trunc_multi_log_reg, loaders, store=out_store, table=TRUNCATED_STORE_TABLE)\n",
    "    \n",
    "    # set ground-truth\n",
    "    naive_epoch_hook.set_ground_truth(ground_truth)\n",
    "    args.__setattr__('epoch_hook', naive_epoch_hook)\n",
    "    \n",
    "    # new classifier models at the beginning of each trial\n",
    "    standard_multi_log_reg = nn.Linear(in_features=args.IN_FEATURES, out_features=args.K, bias=args.bias)\n",
    "\n",
    "    # naive ce loss\n",
    "    args.__setattr__('custom_criterion', ch.nn.CrossEntropyLoss()) # default ce loss\n",
    "    train.train_model(args, standard_multi_log_reg, loaders, store=out_store, \n",
    "                table=STANDARD_STORE_TABLE)\n",
    "\n",
    "    # standard multinomial logistic regression eval - if there is a test set\n",
    "    if len(test_loader) > 0:\n",
    "        args.__setattr__('score', False)\n",
    "        # truncated multinomial logistic regression eval\n",
    "        train.eval_model(args, trunc_multi_log_reg, test_loader, out_store, table=TRUNCATED_EVAL_TABLE)\n",
    "        \n",
    "        # standard multinomial logistic regression eval\n",
    "        train.eval_model(args, standard_multi_log_reg, test_loader, out_store, table=STANDARD_EVAL_TABLE)\n",
    "    \n",
    "    IPython.display.clear_output(wait=False)\n",
    "\n",
    "\n",
    "    # close store after experiment\n",
    "    out_store.close()"
   ]
  },
  {
   "cell_type": "markdown",
   "metadata": {},
   "source": [
    "# Plot Results"
   ]
  },
  {
   "cell_type": "code",
   "execution_count": 9,
   "metadata": {},
   "outputs": [
    {
     "name": "stderr",
     "output_type": "stream",
     "text": [
      "100%|██████████| 29/29 [00:01<00:00, 25.60it/s]\n"
     ]
    },
    {
     "name": "stdout",
     "output_type": "stream",
     "text": [
      "Warning: exp_id 996b7f0f-2a04-47c5-a82c-f43ea1ccaa77 has no table 'truncated_table'. Skipping.\n",
      "Warning: exp_id 1cfd4050-a560-4f28-bbb6-ae99f9b82198 has no table 'truncated_table'. Skipping.\n",
      "Warning: exp_id 8ced7e0b-b0ff-4667-b00f-11beaee76b8e has no table 'truncated_table'. Skipping.\n",
      "Warning: exp_id f34eb10c-fec1-4f4e-aca7-9cb6fbdef194 has no table 'truncated_table'. Skipping.\n",
      "Warning: exp_id 097c3472-da9e-4809-affc-339e74984d2c has no table 'truncated_table'. Skipping.\n",
      "Warning: exp_id 996b7f0f-2a04-47c5-a82c-f43ea1ccaa77 has no table 'truncated_truth_table'. Skipping.\n",
      "Warning: exp_id 1cfd4050-a560-4f28-bbb6-ae99f9b82198 has no table 'truncated_truth_table'. Skipping.\n",
      "Warning: exp_id 8ced7e0b-b0ff-4667-b00f-11beaee76b8e has no table 'truncated_truth_table'. Skipping.\n",
      "Warning: exp_id f34eb10c-fec1-4f4e-aca7-9cb6fbdef194 has no table 'truncated_truth_table'. Skipping.\n",
      "Warning: exp_id 097c3472-da9e-4809-affc-339e74984d2c has no table 'truncated_truth_table'. Skipping.\n",
      "Warning: exp_id 996b7f0f-2a04-47c5-a82c-f43ea1ccaa77 has no table 'standard_table'. Skipping.\n",
      "Warning: exp_id da691a33-8fbf-48c5-8e86-6d87cfe5b9c0 has no table 'standard_table'. Skipping.\n",
      "Warning: exp_id 1cfd4050-a560-4f28-bbb6-ae99f9b82198 has no table 'standard_table'. Skipping.\n",
      "Warning: exp_id 8ced7e0b-b0ff-4667-b00f-11beaee76b8e has no table 'standard_table'. Skipping.\n",
      "Warning: exp_id f34eb10c-fec1-4f4e-aca7-9cb6fbdef194 has no table 'standard_table'. Skipping.\n",
      "Warning: exp_id 097c3472-da9e-4809-affc-339e74984d2c has no table 'standard_table'. Skipping.\n",
      "Warning: exp_id 996b7f0f-2a04-47c5-a82c-f43ea1ccaa77 has no table 'naive_truth_table'. Skipping.\n",
      "Warning: exp_id da691a33-8fbf-48c5-8e86-6d87cfe5b9c0 has no table 'naive_truth_table'. Skipping.\n",
      "Warning: exp_id 1cfd4050-a560-4f28-bbb6-ae99f9b82198 has no table 'naive_truth_table'. Skipping.\n",
      "Warning: exp_id 8ced7e0b-b0ff-4667-b00f-11beaee76b8e has no table 'naive_truth_table'. Skipping.\n",
      "Warning: exp_id f34eb10c-fec1-4f4e-aca7-9cb6fbdef194 has no table 'naive_truth_table'. Skipping.\n",
      "Warning: exp_id 097c3472-da9e-4809-affc-339e74984d2c has no table 'naive_truth_table'. Skipping.\n"
     ]
    },
    {
     "data": {
      "image/png": "[encoded data removed]",
      "text/plain": [
       "<Figure size 432x288 with 1 Axes>"
      ]
     },
     "metadata": {
      "needs_background": "light"
     },
     "output_type": "display_data"
    },
    {
     "data": {
      "image/png": "[encoded data removed]",
      "text/plain": [
       "<Figure size 432x288 with 1 Axes>"
      ]
     },
     "metadata": {
      "needs_background": "light"
     },
     "output_type": "display_data"
    },
    {
     "data": {
      "image/png": "[encoded data removed]",
      "text/plain": [
       "<Figure size 432x288 with 1 Axes>"
      ]
     },
     "metadata": {
      "needs_background": "light"
     },
     "output_type": "display_data"
    },
    {
     "data": {
      "image/png": "[encoded data removed]",
      "text/plain": [
       "<Figure size 432x288 with 1 Axes>"
      ]
     },
     "metadata": {
      "needs_background": "light"
     },
     "output_type": "display_data"
    },
    {
     "name": "stdout",
     "output_type": "stream",
     "text": [
      "Warning: exp_id 996b7f0f-2a04-47c5-a82c-f43ea1ccaa77 has no table 'standard_eval_table'. Skipping.\n",
      "Warning: exp_id da691a33-8fbf-48c5-8e86-6d87cfe5b9c0 has no table 'standard_eval_table'. Skipping.\n",
      "Warning: exp_id 1cfd4050-a560-4f28-bbb6-ae99f9b82198 has no table 'standard_eval_table'. Skipping.\n",
      "Warning: exp_id 8ced7e0b-b0ff-4667-b00f-11beaee76b8e has no table 'standard_eval_table'. Skipping.\n",
      "Warning: exp_id f34eb10c-fec1-4f4e-aca7-9cb6fbdef194 has no table 'standard_eval_table'. Skipping.\n",
      "Warning: exp_id 097c3472-da9e-4809-affc-339e74984d2c has no table 'standard_eval_table'. Skipping.\n",
      "Warning: exp_id 73daef0f-8a80-418f-ae0e-0a2136682185 has no table 'standard_eval_table'. Skipping.\n",
      "Warning: exp_id 996b7f0f-2a04-47c5-a82c-f43ea1ccaa77 has no table 'truncated_eval_table'. Skipping.\n",
      "Warning: exp_id da691a33-8fbf-48c5-8e86-6d87cfe5b9c0 has no table 'truncated_eval_table'. Skipping.\n",
      "Warning: exp_id 1cfd4050-a560-4f28-bbb6-ae99f9b82198 has no table 'truncated_eval_table'. Skipping.\n",
      "Warning: exp_id 8ced7e0b-b0ff-4667-b00f-11beaee76b8e has no table 'truncated_eval_table'. Skipping.\n",
      "Warning: exp_id f34eb10c-fec1-4f4e-aca7-9cb6fbdef194 has no table 'truncated_eval_table'. Skipping.\n",
      "Warning: exp_id 097c3472-da9e-4809-affc-339e74984d2c has no table 'truncated_eval_table'. Skipping.\n",
      "Warning: exp_id 73daef0f-8a80-418f-ae0e-0a2136682185 has no table 'truncated_eval_table'. Skipping.\n",
      "Standard Test Accuracy: 0    72.260002\n",
      "0    14.050000\n",
      "0    48.660000\n",
      "0    82.820000\n",
      "0    77.239998\n",
      "0    50.270000\n",
      "0    87.150002\n",
      "0    42.189999\n",
      "0    37.490002\n",
      "0    41.869999\n",
      "0    53.790001\n",
      "0    70.540001\n",
      "0    74.309998\n",
      "0    65.580002\n",
      "0    78.139999\n",
      "0    23.299999\n",
      "0    35.040001\n",
      "0    89.139999\n",
      "0    28.959999\n",
      "0    59.950001\n",
      "0    76.860001\n",
      "0    27.660000\n",
      "Name: test_prec1, dtype: float64\n",
      "Truncated Test Accuracy: 0    81.500000\n",
      "0    26.709999\n",
      "0    55.599998\n",
      "0    83.570000\n",
      "0    67.099998\n",
      "0    45.240002\n",
      "0    87.839996\n",
      "0    47.790001\n",
      "0    63.549999\n",
      "0    17.600000\n",
      "0    19.799999\n",
      "0    48.529999\n",
      "0    17.129999\n",
      "0    85.459999\n",
      "0    27.860001\n",
      "0    14.380000\n",
      "0    39.930000\n",
      "0    66.709999\n",
      "0    68.739998\n",
      "0    64.339996\n",
      "0    27.660000\n",
      "0    42.299999\n",
      "Name: test_prec1, dtype: float64\n"
     ]
    }
   ],
   "source": [
    "# read results form \n",
    "reader = CollectionReader(SOFTMAX_REGRESSION_STORE_PATH)\n",
    "\n",
    "# TRUNCATED CE LOSS DATA\n",
    "trunc_logs = reader.df(TRUNCATED_STORE_TABLE)\n",
    "trunc_truth_table = reader.df(TRUNC_TRUTH_TABLE)\n",
    "# STANDARD CE LOSS DATA\n",
    "standard_logs = reader.df(STANDARD_STORE_TABLE)\n",
    "standard_truth_table = reader.df(NAIVE_TRUTH_TABLE)\n",
    "\n",
    "sns.lineplot(data=trunc_logs, x='epoch', y='train_loss', label='Train Loss')\n",
    "sns.lineplot(data=standard_logs, x='epoch', y='train_loss', label='Naive Train Loss')\n",
    "sns.lineplot(data=trunc_logs, x='epoch', y='val_loss', color='red', label='Trunc Val Loss')\n",
    "ax = sns.lineplot(data=standard_logs, x='epoch', y='val_loss', color='red', label='Naive Val Loss')\n",
    "ax.set(xlabel='Epoch', ylabel='CE Loss')\n",
    "plt.show()\n",
    "\n",
    "sns.lineplot(data=trunc_logs, x='epoch', y='train_prec1', label='Trunc Train Acc')\n",
    "sns.lineplot(data=standard_logs, x='epoch', y='train_prec1', label='Naive Train Acc')\n",
    "sns.lineplot(data=trunc_logs, x='epoch', y='val_prec1', label='Trunc Val Acc')\n",
    "ax = sns.lineplot(data=standard_logs, x='epoch', y='val_prec1', label='Naive Val Acc')\n",
    "ax.set(xlabel='Epoch', ylabel='Accuracy')\n",
    "plt.show()\n",
    "\n",
    "sns.lineplot(data=standard_truth_table, x='epoch', y='cos_sim', label='Naive Cosine Similarity')\n",
    "ax = sns.lineplot(data=trunc_truth_table, x='epoch', y='cos_sim', label='Truncated Cosine Similarity')\n",
    "ax.set(xlabel='Epoch', ylabel='Cosine Similarity')\n",
    "plt.show()\n",
    "\n",
    "sns.lineplot(data=standard_truth_table, x='epoch', y='l2', label='Naive L2')\n",
    "ax = sns.lineplot(data=trunc_truth_table, x='epoch', y='l2', label='Truncated L2')\n",
    "ax.set(xlabel='Epoch', ylabel='L2 Distance')\n",
    "plt.show()\n",
    "\n",
    "try: \n",
    "    # STANDARD TEST SET RESULTS \n",
    "    standard_test_results = reader.df(STANDARD_EVAL_TABLE)\n",
    "\n",
    "    # TRUNCATED TEST SET RESULTS \n",
    "    trunc_test_results = reader.df(TRUNCATED_EVAL_TABLE)\n",
    "\n",
    "    print(\"Standard Test Accuracy: {}\".format(standard_test_results['test_prec1']))\n",
    "    print(\"Truncated Test Accuracy: {}\".format(trunc_test_results['test_prec1']))\n",
    "except: \n",
    "    print(\"No Test Results to Report\")\n",
    "\n",
    "reader.close() # close reader"
   ]
  },
  {
   "cell_type": "code",
   "execution_count": null,
   "metadata": {},
   "outputs": [],
   "source": []
  },
  {
   "cell_type": "code",
   "execution_count": null,
   "metadata": {},
   "outputs": [],
   "source": []
  }
 ],
 "metadata": {
  "kernelspec": {
   "display_name": "Python 3",
   "language": "python",
   "name": "python3"
  },
  "language_info": {
   "codemirror_mode": {
    "name": "ipython",
    "version": 3
   },
   "file_extension": ".py",
   "mimetype": "text/x-python",
   "name": "python",
   "nbconvert_exporter": "python",
   "pygments_lexer": "ipython3",
   "version": "3.8.5"
  },
  "latex_envs": {
   "LaTeX_envs_menu_present": true,
   "autoclose": false,
   "autocomplete": true,
   "bibliofile": "biblio.bib",
   "cite_by": "apalike",
   "current_citInitial": 1,
   "eqLabelWithNumbers": true,
   "eqNumInitial": 1,
   "hotkeys": {
    "equation": "Ctrl-E",
    "itemize": "Ctrl-I"
   },
   "labels_anchors": false,
   "latex_user_defs": false,
   "report_style_numbering": false,
   "user_envs_cfg": false
  },
  "toc": {
   "base_numbering": 1,
   "nav_menu": {},
   "number_sections": true,
   "sideBar": true,
   "skip_h1_title": false,
   "title_cell": "Table of Contents",
   "title_sidebar": "Contents",
   "toc_cell": false,
   "toc_position": {},
   "toc_section_display": true,
   "toc_window_display": false
  },
  "varInspector": {
   "cols": {
    "lenName": 16,
    "lenType": 16,
    "lenVar": 40
   },
   "kernels_config": {
    "python": {
     "delete_cmd_postfix": "",
     "delete_cmd_prefix": "del ",
     "library": "var_list.py",
     "varRefreshCmd": "print(var_dic_list())"
    },
    "r": {
     "delete_cmd_postfix": ") ",
     "delete_cmd_prefix": "rm(",
     "library": "var_list.r",
     "varRefreshCmd": "cat(var_dic_list()) "
    }
   },
   "types_to_exclude": [
    "module",
    "function",
    "builtin_function_or_method",
    "instance",
    "_Feature"
   ],
   "window_display": false
  }
 },
 "nbformat": 4,
 "nbformat_minor": 2
}
